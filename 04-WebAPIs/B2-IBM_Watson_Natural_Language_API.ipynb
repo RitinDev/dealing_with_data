{
  "nbformat": 4,
  "nbformat_minor": 0,
  "metadata": {
    "kernelspec": {
      "display_name": "Python 3",
      "language": "python",
      "name": "python3"
    },
    "language_info": {
      "codemirror_mode": {
        "name": "ipython",
        "version": 3
      },
      "file_extension": ".py",
      "mimetype": "text/x-python",
      "name": "python",
      "nbconvert_exporter": "python",
      "pygments_lexer": "ipython3",
      "version": "3.6.7"
    },
    "colab": {
      "name": "B2-IBM_Watson_Natural_Language_API.ipynb",
      "provenance": []
    }
  },
  "cells": [
    {
      "cell_type": "markdown",
      "metadata": {
        "id": "YpOyKprkg78J"
      },
      "source": [
        "# Interacting with the IBM Watson Natural Language Understanding API; POST vs GET\n",
        "\n",
        "Another useful API, especially when dealing with text, is the [IBM Watson  Natural Language Understanding API](https://console.bluemix.net/catalog/services/natural-language-understanding), which offers a variety of text analysis functionalities, such as sentiment analysis, entity extraction, keyword extraction, etc.\n",
        "\n",
        "We will give a couple of examples below, to understand how we can take an unstructured piece of text (either the text alone, or a URL with text), and extract some \"semi-structured\" representation of its content.\n",
        "\n",
        "\n",
        "\n",
        "## /analyze call\n",
        "\n",
        "We will first start with the `GET /analyze` API call ([documentation](https://www.ibm.com/watson/developercloud/natural-language-understanding/api/v1/#get-analyze)), which takes as input a piece of text, and returns an analysis across various dimensions.\n",
        "\n",
        "The call below gets as input a \"text\" variable, and returns back the sentiment of the text."
      ]
    },
    {
      "cell_type": "code",
      "metadata": {
        "id": "Scpvaji2MigH"
      },
      "source": [
        "import requests\n",
        "import json\n",
        "\n",
        "# My own API key. It may run out of quota\n",
        "# You can register and get your own credentials\n",
        "# The ones below have a quota of 1000 calls per day \n",
        "# and can run out quickly if multiple people use these\n",
        "API_KEY = 'KLT_aImV-LfY-C28e1mph2EkIxoRTJeKFbyy5I8RIhUz'\n",
        "\n",
        "URL = 'https://api.us-south.natural-language-understanding.watson.cloud.ibm.com/instances/5abfbda7-6c21-4293-b202-582f4e0761e3'"
      ],
      "execution_count": 30,
      "outputs": []
    },
    {
      "cell_type": "code",
      "metadata": {
        "id": "6o4aBLeBg78M"
      },
      "source": [
        "def getSentiment(text):\n",
        "    endpoint = f\"{URL}/v1/analyze\"\n",
        "    username = \"apikey\"\n",
        "    password = API_KEY\n",
        "    \n",
        "    parameters = {\n",
        "        'features': 'emotion,sentiment',\n",
        "        'version' : '2020-08-01',\n",
        "        'text': text,\n",
        "        'language' : 'en',\n",
        "        # url = url_to_analyze, this is an alternative to sending the text\n",
        "    }\n",
        "\n",
        "    resp = requests.get(endpoint, params=parameters, auth=(username, password))\n",
        "    \n",
        "    return resp.json()"
      ],
      "execution_count": 31,
      "outputs": []
    },
    {
      "cell_type": "code",
      "metadata": {
        "id": "HCGGi4Sug78U"
      },
      "source": [
        "# We will analyze the text below using the IBM Watson API\n",
        "\n",
        "text = '''\n",
        "I got their Egg & Cheese sandwich on a Whole Wheat Everything Bagel. \n",
        "First off, I loved loved loved the texture of the bagel itself. \n",
        "It was very chewy yet soft, which is a top feature for a NY style bagel. \n",
        "However, I thought there could've been more seasoning on top of \n",
        "the bagel as I found the bagel itself to be a bit bland. \n",
        "\n",
        "Speaking of bland, I thought the egg and cheese filling were also quite bland. \n",
        "This was definitely lacking salt and pepper in the eggs and the cheese didn't\n",
        "really add too much flavor either, which was really disappointing! \n",
        "My mom also had the same complaint with her bagel sandwich \n",
        "(she had the egg sandwich on a blueberry bagel) so I definitely wasn't \n",
        "the only one.\n",
        "\n",
        "'''"
      ],
      "execution_count": 32,
      "outputs": []
    },
    {
      "cell_type": "code",
      "metadata": {
        "id": "RRYAW9WHg78Y",
        "colab": {
          "base_uri": "https://localhost:8080/"
        },
        "outputId": "211eb8ff-2984-469b-c2c0-24fa4f36935b"
      },
      "source": [
        "data = getSentiment(text)\n",
        "data"
      ],
      "execution_count": 33,
      "outputs": [
        {
          "output_type": "execute_result",
          "data": {
            "text/plain": [
              "{'emotion': {'document': {'emotion': {'anger': 0.104206,\n",
              "    'disgust': 0.152643,\n",
              "    'fear': 0.068719,\n",
              "    'joy': 0.621954,\n",
              "    'sadness': 0.484095}}},\n",
              " 'language': 'en',\n",
              " 'sentiment': {'document': {'label': 'negative', 'score': -0.600662}},\n",
              " 'usage': {'features': 2, 'text_characters': 707, 'text_units': 1}}"
            ]
          },
          "metadata": {
            "tags": []
          },
          "execution_count": 33
        }
      ]
    },
    {
      "cell_type": "markdown",
      "metadata": {
        "id": "HofZ85yFg78c"
      },
      "source": [
        "Now, let's try to understand the structure of the answer. First, we check the high-level keys."
      ]
    },
    {
      "cell_type": "code",
      "metadata": {
        "id": "nD3qoCmMg78d",
        "colab": {
          "base_uri": "https://localhost:8080/"
        },
        "outputId": "f8fde16a-b409-4b21-cedd-29e481024671"
      },
      "source": [
        "data.keys()"
      ],
      "execution_count": 34,
      "outputs": [
        {
          "output_type": "execute_result",
          "data": {
            "text/plain": [
              "dict_keys(['usage', 'sentiment', 'language', 'emotion'])"
            ]
          },
          "metadata": {
            "tags": []
          },
          "execution_count": 34
        }
      ]
    },
    {
      "cell_type": "markdown",
      "metadata": {
        "id": "itoPJcaNg78h"
      },
      "source": [
        "Now, let's check the content of these keys:"
      ]
    },
    {
      "cell_type": "code",
      "metadata": {
        "id": "0ewzjsNHg78i",
        "colab": {
          "base_uri": "https://localhost:8080/",
          "height": 36
        },
        "outputId": "7fa99ab9-57c6-4c1d-ee4e-ebbfcb934e6f"
      },
      "source": [
        "data['language']"
      ],
      "execution_count": 35,
      "outputs": [
        {
          "output_type": "execute_result",
          "data": {
            "application/vnd.google.colaboratory.intrinsic+json": {
              "type": "string"
            },
            "text/plain": [
              "'en'"
            ]
          },
          "metadata": {
            "tags": []
          },
          "execution_count": 35
        }
      ]
    },
    {
      "cell_type": "code",
      "metadata": {
        "id": "wEMFHA_mg78n",
        "colab": {
          "base_uri": "https://localhost:8080/"
        },
        "outputId": "5280043e-22d0-4555-aa7e-d32c9cc1def9"
      },
      "source": [
        "data['sentiment']"
      ],
      "execution_count": 36,
      "outputs": [
        {
          "output_type": "execute_result",
          "data": {
            "text/plain": [
              "{'document': {'label': 'negative', 'score': -0.600662}}"
            ]
          },
          "metadata": {
            "tags": []
          },
          "execution_count": 36
        }
      ]
    },
    {
      "cell_type": "code",
      "metadata": {
        "id": "_UO7k-scg78r",
        "colab": {
          "base_uri": "https://localhost:8080/"
        },
        "outputId": "2e029767-6532-4a96-dc81-378f16662868"
      },
      "source": [
        "data['emotion']"
      ],
      "execution_count": 37,
      "outputs": [
        {
          "output_type": "execute_result",
          "data": {
            "text/plain": [
              "{'document': {'emotion': {'anger': 0.104206,\n",
              "   'disgust': 0.152643,\n",
              "   'fear': 0.068719,\n",
              "   'joy': 0.621954,\n",
              "   'sadness': 0.484095}}}"
            ]
          },
          "metadata": {
            "tags": []
          },
          "execution_count": 37
        }
      ]
    },
    {
      "cell_type": "code",
      "metadata": {
        "id": "sdBxICpHg78w",
        "colab": {
          "base_uri": "https://localhost:8080/"
        },
        "outputId": "54211ae0-1f8f-40d6-bcbb-3bf6020e66ce"
      },
      "source": [
        "# Let's go deeper into the 'emotion' dictionary\n",
        "data['emotion']['document']"
      ],
      "execution_count": 12,
      "outputs": [
        {
          "output_type": "execute_result",
          "data": {
            "text/plain": [
              "{'emotion': {'anger': 0.104206,\n",
              "  'disgust': 0.152643,\n",
              "  'fear': 0.068719,\n",
              "  'joy': 0.621954,\n",
              "  'sadness': 0.484095}}"
            ]
          },
          "metadata": {
            "tags": []
          },
          "execution_count": 12
        }
      ]
    },
    {
      "cell_type": "code",
      "metadata": {
        "id": "T-A1ZJFyg780",
        "colab": {
          "base_uri": "https://localhost:8080/"
        },
        "outputId": "36d1f7a4-4a3c-48f7-d01d-4e8538fa8247"
      },
      "source": [
        "# And a bit more\n",
        "data['emotion']['document']['emotion']"
      ],
      "execution_count": 13,
      "outputs": [
        {
          "output_type": "execute_result",
          "data": {
            "text/plain": [
              "{'anger': 0.104206,\n",
              " 'disgust': 0.152643,\n",
              " 'fear': 0.068719,\n",
              " 'joy': 0.621954,\n",
              " 'sadness': 0.484095}"
            ]
          },
          "metadata": {
            "tags": []
          },
          "execution_count": 13
        }
      ]
    },
    {
      "cell_type": "markdown",
      "metadata": {
        "id": "19-vgKPag785"
      },
      "source": [
        "### Exercise\n",
        "\n",
        "Type your own piece of text, and analyze it to extract sentiment and emotions. Discuss your findings"
      ]
    },
    {
      "cell_type": "code",
      "metadata": {
        "id": "AO2SHOE7g786"
      },
      "source": [
        ""
      ],
      "execution_count": 13,
      "outputs": []
    },
    {
      "cell_type": "markdown",
      "metadata": {
        "id": "oFIwBAw9g789"
      },
      "source": [
        "## Entities call\n",
        "\n",
        "[Full Documentation of the call](https://www.ibm.com/watson/developercloud/natural-language-understanding/api/v1/#entities)\n",
        "\n",
        "This is a an API call that extracts entities from the text, and also the sentiment and emotion for each of these entities.\n",
        "\n",
        "There are two new technical aspects with this API. First of all, we use the command `requests.post` as opposed to `requests.get`. This happens because `GET` is designed to handle limited amount of data. When we have a large volume of data to send as parameters, then the HTTP protocol requires the use of the `POST` command. You will also see that the parameters that we pass are not \"flat\" as they used to be. Instead we submit the `watson_options` as the set of parameters, which is itself semi-structured.\n",
        "\n",
        "In terms of natural language processing, we will examine a couple of capabilities of the API. First, you will see that there is the capability of \"normalizing\" each entity, so that two different ways of saying the same thing get mapped to the same entity. So for example, \"President Trump\" and \"Donald Trump\" get mapped to the same Knowledge Graph entity."
      ]
    },
    {
      "cell_type": "code",
      "metadata": {
        "id": "S7MIA3sGg78-"
      },
      "source": [
        "import requests\n",
        "import json\n",
        "\n",
        "def processURL(url_to_analyze):\n",
        "    endpoint_watson = f\"{URL}/v1/analyze\"\n",
        "    params = {\n",
        "        'version': '2020-08-01',\n",
        "    }\n",
        "    headers = { \n",
        "        'Content-Type': 'application/json',\n",
        "    }\n",
        "    watson_options = {\n",
        "      \"url\": url_to_analyze,\n",
        "      \"features\": {\n",
        "        \"entities\": {\n",
        "          \"sentiment\": True,\n",
        "          \"emotion\": True,\n",
        "          \"limit\": 10\n",
        "        }\n",
        "      }\n",
        "    }\n",
        "    username = \"apikey\"\n",
        "    password = API_KEY\n",
        "\n",
        "    resp = requests.post(endpoint_watson, \n",
        "                         data=json.dumps(watson_options), \n",
        "                         headers=headers, \n",
        "                         params=params, \n",
        "                         auth=(username, password) \n",
        "                        )\n",
        "    return resp.json()"
      ],
      "execution_count": 38,
      "outputs": []
    },
    {
      "cell_type": "code",
      "metadata": {
        "id": "cCfu7Mp8g79F"
      },
      "source": [
        "url_to_analyze = 'https://www.reuters.com/technology/us-defended-amazon-after-article-showed-company-bypassed-indian-law-2021-05-21/'\n",
        "\n",
        "data = processURL(url_to_analyze)"
      ],
      "execution_count": 45,
      "outputs": []
    },
    {
      "cell_type": "code",
      "metadata": {
        "id": "4m1uBsl4M6WL",
        "outputId": "96e36739-2ed9-4473-8251-732e5f911cb8",
        "colab": {
          "base_uri": "https://localhost:8080/"
        }
      },
      "source": [
        "data"
      ],
      "execution_count": 46,
      "outputs": [
        {
          "output_type": "execute_result",
          "data": {
            "text/plain": [
              "{'entities': [{'confidence': 1,\n",
              "   'count': 21,\n",
              "   'disambiguation': {'dbpedia_resource': 'http://dbpedia.org/resource/Amazon.com',\n",
              "    'name': 'Amazon.com'},\n",
              "   'emotion': {'anger': 0.128502,\n",
              "    'disgust': 0.113197,\n",
              "    'fear': 0.074508,\n",
              "    'joy': 0.147486,\n",
              "    'sadness': 0.529273},\n",
              "   'relevance': 0.957896,\n",
              "   'sentiment': {'label': 'negative', 'mixed': '1', 'score': -0.464002},\n",
              "   'text': 'Amazon',\n",
              "   'type': 'Company'},\n",
              "  {'confidence': 1,\n",
              "   'count': 6,\n",
              "   'disambiguation': {'dbpedia_resource': 'http://dbpedia.org/resource/Office_of_the_United_States_Trade_Representative',\n",
              "    'name': 'Office_of_the_United_States_Trade_Representative'},\n",
              "   'emotion': {'anger': 0.12627,\n",
              "    'disgust': 0.130586,\n",
              "    'fear': 0.080373,\n",
              "    'joy': 0.214196,\n",
              "    'sadness': 0.146954},\n",
              "   'relevance': 0.954071,\n",
              "   'sentiment': {'label': 'negative', 'score': -0.668469},\n",
              "   'text': 'USTR',\n",
              "   'type': 'Organization'},\n",
              "  {'confidence': 1,\n",
              "   'count': 13,\n",
              "   'disambiguation': {'dbpedia_resource': 'http://dbpedia.org/resource/Reuters',\n",
              "    'name': 'Reuters'},\n",
              "   'emotion': {'anger': 0.119825,\n",
              "    'disgust': 0.150452,\n",
              "    'fear': 0.089665,\n",
              "    'joy': 0.182109,\n",
              "    'sadness': 0.524666},\n",
              "   'relevance': 0.928386,\n",
              "   'sentiment': {'label': 'negative', 'mixed': '1', 'score': -0.64466},\n",
              "   'text': 'Reuters',\n",
              "   'type': 'Company'},\n",
              "  {'confidence': 1,\n",
              "   'count': 15,\n",
              "   'disambiguation': {'dbpedia_resource': 'http://dbpedia.org/resource/India',\n",
              "    'name': 'India',\n",
              "    'subtype': ['HumanLanguage',\n",
              "     'Region',\n",
              "     'Country',\n",
              "     'GovernmentalJurisdiction',\n",
              "     'FilmEditor']},\n",
              "   'emotion': {'anger': 0.122109,\n",
              "    'disgust': 0.13479,\n",
              "    'fear': 0.08096,\n",
              "    'joy': 0.162275,\n",
              "    'sadness': 0.521211},\n",
              "   'relevance': 0.814836,\n",
              "   'sentiment': {'label': 'negative', 'mixed': '1', 'score': -0.623106},\n",
              "   'text': 'India',\n",
              "   'type': 'Location'},\n",
              "  {'confidence': 1,\n",
              "   'count': 11,\n",
              "   'disambiguation': {'dbpedia_resource': 'http://dbpedia.org/resource/United_States',\n",
              "    'name': 'United_States',\n",
              "    'subtype': ['Region',\n",
              "     'AdministrativeDivision',\n",
              "     'Country',\n",
              "     'GovernmentalJurisdiction',\n",
              "     'FilmEditor']},\n",
              "   'emotion': {'anger': 0.124396,\n",
              "    'disgust': 0.133096,\n",
              "    'fear': 0.092469,\n",
              "    'joy': 0.167957,\n",
              "    'sadness': 0.524073},\n",
              "   'relevance': 0.748869,\n",
              "   'sentiment': {'label': 'negative', 'mixed': '1', 'score': -0.508921},\n",
              "   'text': 'U.S.',\n",
              "   'type': 'Location'},\n",
              "  {'confidence': 0.911763,\n",
              "   'count': 2,\n",
              "   'emotion': {'anger': 0.086842,\n",
              "    'disgust': 0.170868,\n",
              "    'fear': 0.05394,\n",
              "    'joy': 0.271568,\n",
              "    'sadness': 0.321459},\n",
              "   'relevance': 0.590755,\n",
              "   'sentiment': {'label': 'negative', 'score': -0.562406},\n",
              "   'text': 'U.S. embassy',\n",
              "   'type': 'Organization'},\n",
              "  {'confidence': 1.0,\n",
              "   'count': 6,\n",
              "   'emotion': {'anger': 0.106676,\n",
              "    'disgust': 0.164208,\n",
              "    'fear': 0.097944,\n",
              "    'joy': 0.191568,\n",
              "    'sadness': 0.221768},\n",
              "   'relevance': 0.57351,\n",
              "   'sentiment': {'label': 'negative', 'score': -0.768336},\n",
              "   'text': 'Kerry',\n",
              "   'type': 'Person'},\n",
              "  {'confidence': 0.996902,\n",
              "   'count': 4,\n",
              "   'emotion': {'anger': 0.160644,\n",
              "    'disgust': 0.132963,\n",
              "    'fear': 0.044168,\n",
              "    'joy': 0.053873,\n",
              "    'sadness': 0.231586},\n",
              "   'relevance': 0.397373,\n",
              "   'sentiment': {'label': 'neutral', 'score': 0},\n",
              "   'text': 'CCI',\n",
              "   'type': 'Organization'},\n",
              "  {'confidence': 0.973075,\n",
              "   'count': 2,\n",
              "   'emotion': {'anger': 0.117411,\n",
              "    'disgust': 0.391671,\n",
              "    'fear': 0.069583,\n",
              "    'joy': 0.09589,\n",
              "    'sadness': 0.286689},\n",
              "   'relevance': 0.38371,\n",
              "   'sentiment': {'label': 'negative', 'score': -0.768073},\n",
              "   'text': 'Goyal',\n",
              "   'type': 'Person'},\n",
              "  {'confidence': 0.56207,\n",
              "   'count': 1,\n",
              "   'emotion': {'anger': 0.23794,\n",
              "    'disgust': 0.134322,\n",
              "    'fear': 0.101406,\n",
              "    'joy': 0.306054,\n",
              "    'sadness': 0.101353},\n",
              "   'relevance': 0.381335,\n",
              "   'sentiment': {'label': 'negative', 'score': -0.591469},\n",
              "   'text': 'President Joe Biden',\n",
              "   'type': 'Person'}],\n",
              " 'language': 'en',\n",
              " 'retrieved_url': 'https://www.reuters.com/technology/us-defended-amazon-after-article-showed-company-bypassed-indian-law-2021-05-21/',\n",
              " 'usage': {'features': 1, 'text_characters': 5621, 'text_units': 1}}"
            ]
          },
          "metadata": {
            "tags": []
          },
          "execution_count": 46
        }
      ]
    },
    {
      "cell_type": "code",
      "metadata": {
        "id": "TXcFMzpSg79L",
        "colab": {
          "base_uri": "https://localhost:8080/"
        },
        "outputId": "bc334b4d-90b4-4ab2-f3a0-6d2e646993c1"
      },
      "source": [
        "# Let's see what we get back as top-level attributes\n",
        "data.keys()"
      ],
      "execution_count": 47,
      "outputs": [
        {
          "output_type": "execute_result",
          "data": {
            "text/plain": [
              "dict_keys(['usage', 'retrieved_url', 'language', 'entities'])"
            ]
          },
          "metadata": {
            "tags": []
          },
          "execution_count": 47
        }
      ]
    },
    {
      "cell_type": "code",
      "metadata": {
        "scrolled": true,
        "id": "V0VyAAtSg79T",
        "colab": {
          "base_uri": "https://localhost:8080/"
        },
        "outputId": "651cc536-a55b-4d19-9085-b81f9de921c6"
      },
      "source": [
        "# Let' see the entities list\n",
        "data[\"entities\"]"
      ],
      "execution_count": 48,
      "outputs": [
        {
          "output_type": "execute_result",
          "data": {
            "text/plain": [
              "[{'confidence': 1,\n",
              "  'count': 21,\n",
              "  'disambiguation': {'dbpedia_resource': 'http://dbpedia.org/resource/Amazon.com',\n",
              "   'name': 'Amazon.com'},\n",
              "  'emotion': {'anger': 0.128502,\n",
              "   'disgust': 0.113197,\n",
              "   'fear': 0.074508,\n",
              "   'joy': 0.147486,\n",
              "   'sadness': 0.529273},\n",
              "  'relevance': 0.957896,\n",
              "  'sentiment': {'label': 'negative', 'mixed': '1', 'score': -0.464002},\n",
              "  'text': 'Amazon',\n",
              "  'type': 'Company'},\n",
              " {'confidence': 1,\n",
              "  'count': 6,\n",
              "  'disambiguation': {'dbpedia_resource': 'http://dbpedia.org/resource/Office_of_the_United_States_Trade_Representative',\n",
              "   'name': 'Office_of_the_United_States_Trade_Representative'},\n",
              "  'emotion': {'anger': 0.12627,\n",
              "   'disgust': 0.130586,\n",
              "   'fear': 0.080373,\n",
              "   'joy': 0.214196,\n",
              "   'sadness': 0.146954},\n",
              "  'relevance': 0.954071,\n",
              "  'sentiment': {'label': 'negative', 'score': -0.668469},\n",
              "  'text': 'USTR',\n",
              "  'type': 'Organization'},\n",
              " {'confidence': 1,\n",
              "  'count': 13,\n",
              "  'disambiguation': {'dbpedia_resource': 'http://dbpedia.org/resource/Reuters',\n",
              "   'name': 'Reuters'},\n",
              "  'emotion': {'anger': 0.119825,\n",
              "   'disgust': 0.150452,\n",
              "   'fear': 0.089665,\n",
              "   'joy': 0.182109,\n",
              "   'sadness': 0.524666},\n",
              "  'relevance': 0.928386,\n",
              "  'sentiment': {'label': 'negative', 'mixed': '1', 'score': -0.64466},\n",
              "  'text': 'Reuters',\n",
              "  'type': 'Company'},\n",
              " {'confidence': 1,\n",
              "  'count': 15,\n",
              "  'disambiguation': {'dbpedia_resource': 'http://dbpedia.org/resource/India',\n",
              "   'name': 'India',\n",
              "   'subtype': ['HumanLanguage',\n",
              "    'Region',\n",
              "    'Country',\n",
              "    'GovernmentalJurisdiction',\n",
              "    'FilmEditor']},\n",
              "  'emotion': {'anger': 0.122109,\n",
              "   'disgust': 0.13479,\n",
              "   'fear': 0.08096,\n",
              "   'joy': 0.162275,\n",
              "   'sadness': 0.521211},\n",
              "  'relevance': 0.814836,\n",
              "  'sentiment': {'label': 'negative', 'mixed': '1', 'score': -0.623106},\n",
              "  'text': 'India',\n",
              "  'type': 'Location'},\n",
              " {'confidence': 1,\n",
              "  'count': 11,\n",
              "  'disambiguation': {'dbpedia_resource': 'http://dbpedia.org/resource/United_States',\n",
              "   'name': 'United_States',\n",
              "   'subtype': ['Region',\n",
              "    'AdministrativeDivision',\n",
              "    'Country',\n",
              "    'GovernmentalJurisdiction',\n",
              "    'FilmEditor']},\n",
              "  'emotion': {'anger': 0.124396,\n",
              "   'disgust': 0.133096,\n",
              "   'fear': 0.092469,\n",
              "   'joy': 0.167957,\n",
              "   'sadness': 0.524073},\n",
              "  'relevance': 0.748869,\n",
              "  'sentiment': {'label': 'negative', 'mixed': '1', 'score': -0.508921},\n",
              "  'text': 'U.S.',\n",
              "  'type': 'Location'},\n",
              " {'confidence': 0.911763,\n",
              "  'count': 2,\n",
              "  'emotion': {'anger': 0.086842,\n",
              "   'disgust': 0.170868,\n",
              "   'fear': 0.05394,\n",
              "   'joy': 0.271568,\n",
              "   'sadness': 0.321459},\n",
              "  'relevance': 0.590755,\n",
              "  'sentiment': {'label': 'negative', 'score': -0.562406},\n",
              "  'text': 'U.S. embassy',\n",
              "  'type': 'Organization'},\n",
              " {'confidence': 1.0,\n",
              "  'count': 6,\n",
              "  'emotion': {'anger': 0.106676,\n",
              "   'disgust': 0.164208,\n",
              "   'fear': 0.097944,\n",
              "   'joy': 0.191568,\n",
              "   'sadness': 0.221768},\n",
              "  'relevance': 0.57351,\n",
              "  'sentiment': {'label': 'negative', 'score': -0.768336},\n",
              "  'text': 'Kerry',\n",
              "  'type': 'Person'},\n",
              " {'confidence': 0.996902,\n",
              "  'count': 4,\n",
              "  'emotion': {'anger': 0.160644,\n",
              "   'disgust': 0.132963,\n",
              "   'fear': 0.044168,\n",
              "   'joy': 0.053873,\n",
              "   'sadness': 0.231586},\n",
              "  'relevance': 0.397373,\n",
              "  'sentiment': {'label': 'neutral', 'score': 0},\n",
              "  'text': 'CCI',\n",
              "  'type': 'Organization'},\n",
              " {'confidence': 0.973075,\n",
              "  'count': 2,\n",
              "  'emotion': {'anger': 0.117411,\n",
              "   'disgust': 0.391671,\n",
              "   'fear': 0.069583,\n",
              "   'joy': 0.09589,\n",
              "   'sadness': 0.286689},\n",
              "  'relevance': 0.38371,\n",
              "  'sentiment': {'label': 'negative', 'score': -0.768073},\n",
              "  'text': 'Goyal',\n",
              "  'type': 'Person'},\n",
              " {'confidence': 0.56207,\n",
              "  'count': 1,\n",
              "  'emotion': {'anger': 0.23794,\n",
              "   'disgust': 0.134322,\n",
              "   'fear': 0.101406,\n",
              "   'joy': 0.306054,\n",
              "   'sadness': 0.101353},\n",
              "  'relevance': 0.381335,\n",
              "  'sentiment': {'label': 'negative', 'score': -0.591469},\n",
              "  'text': 'President Joe Biden',\n",
              "  'type': 'Person'}]"
            ]
          },
          "metadata": {
            "tags": []
          },
          "execution_count": 48
        }
      ]
    },
    {
      "cell_type": "code",
      "metadata": {
        "id": "8X5VaaqCg79X",
        "colab": {
          "base_uri": "https://localhost:8080/"
        },
        "outputId": "e358dcf5-7282-420a-8f35-9f1ff2fe1664"
      },
      "source": [
        "# Let' see the third entity. Notice the \"disambiguated\" attribute that\n",
        "# points to \"canonical\" versions of the entity, in DBPedia\n",
        "# Notice that USTR is the actual term used in the text\n",
        "data[\"entities\"][1]"
      ],
      "execution_count": 50,
      "outputs": [
        {
          "output_type": "execute_result",
          "data": {
            "text/plain": [
              "{'confidence': 1,\n",
              " 'count': 6,\n",
              " 'disambiguation': {'dbpedia_resource': 'http://dbpedia.org/resource/Office_of_the_United_States_Trade_Representative',\n",
              "  'name': 'Office_of_the_United_States_Trade_Representative'},\n",
              " 'emotion': {'anger': 0.12627,\n",
              "  'disgust': 0.130586,\n",
              "  'fear': 0.080373,\n",
              "  'joy': 0.214196,\n",
              "  'sadness': 0.146954},\n",
              " 'relevance': 0.954071,\n",
              " 'sentiment': {'label': 'negative', 'score': -0.668469},\n",
              " 'text': 'USTR',\n",
              " 'type': 'Organization'}"
            ]
          },
          "metadata": {
            "tags": []
          },
          "execution_count": 50
        }
      ]
    },
    {
      "cell_type": "code",
      "metadata": {
        "id": "vqm1dcxLg79f",
        "colab": {
          "base_uri": "https://localhost:8080/"
        },
        "outputId": "831c9cf9-fd46-4f51-c4d5-c58c1bd2864c"
      },
      "source": [
        "# This function takes as input the result\n",
        "# from the IBM Watson API and returns a list\n",
        "# of entities that are relevant (above threshold)\n",
        "# to the article\n",
        "def getEntities(data, threshold):\n",
        "    result = []\n",
        "    for entity in data[\"entities\"]:\n",
        "        relevance = float(entity['relevance'])\n",
        "        if relevance > threshold:\n",
        "            result.append(entity['text'])\n",
        "    return result\n",
        "\n",
        "getEntities(data, 0.25)"
      ],
      "execution_count": 51,
      "outputs": [
        {
          "output_type": "execute_result",
          "data": {
            "text/plain": [
              "['Amazon',\n",
              " 'USTR',\n",
              " 'Reuters',\n",
              " 'India',\n",
              " 'U.S.',\n",
              " 'U.S. embassy',\n",
              " 'Kerry',\n",
              " 'CCI',\n",
              " 'Goyal',\n",
              " 'President Joe Biden']"
            ]
          },
          "metadata": {
            "tags": []
          },
          "execution_count": 51
        }
      ]
    },
    {
      "cell_type": "markdown",
      "metadata": {
        "collapsed": true,
        "id": "PVct5ns8g79m"
      },
      "source": [
        "### Exercise\n",
        "\n",
        "* First of all, **get your own credentials for the IBM Watson API**. The demo key that we use above has a limited quota.\n",
        "* Use an API to get news articles. \n",
        "    * Option 1: Use the API at https://newsapi.org to fetch the news from various sources. Print the entities that are currently being discussed in the news, together with their relevance value and the associated sentiment.\n",
        "    * Option 2: Use the NY Times API to fetch the Top Stories News. You can register and get an API key at https://developer.nytimes.com/. The `Top Stories V2 API` provides the details of the news of the day: (The API call documentation is at https://developer.nytimes.com/docs/top-stories-product/1/overview and the API Call is  https://api.nytimes.com/svc/topstories/v2/home.json?api-key=PUTYOURKEYHERE). Repeat the entity extraction process from above.\n",
        "    * Option 3: Use the Guardian API at https://open-platform.theguardian.com/documentation/ to fetch news from The Guardian.\n"
      ]
    },
    {
      "cell_type": "code",
      "metadata": {
        "id": "vylSuCdkg79n"
      },
      "source": [
        ""
      ],
      "execution_count": null,
      "outputs": []
    }
  ]
}