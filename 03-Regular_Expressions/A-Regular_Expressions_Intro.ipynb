{
  "cells": [
    {
      "cell_type": "markdown",
      "metadata": {
        "id": "view-in-github",
        "colab_type": "text"
      },
      "source": [
        "<a href=\"https://colab.research.google.com/github/ipeirotis/dealing_with_data/blob/master/03-Regular_Expressions/A-Regular_Expressions_Intro.ipynb\" target=\"_parent\"><img src=\"https://colab.research.google.com/assets/colab-badge.svg\" alt=\"Open In Colab\"/></a>"
      ]
    },
    {
      "cell_type": "markdown",
      "metadata": {
        "id": "biCHMPu5HCx0"
      },
      "source": [
        "# Regular Expressions\n",
        "\n",
        "\n"
      ]
    },
    {
      "cell_type": "markdown",
      "source": [
        "Regular expressions (regexes or re’s) constitute an extremely powerful, flexible and concise language for matching elements in text ranging from a few characters to complex patterns. While mastering the syntax of the regular expression language does require climbing a learning curve, this learning curve is not particularly steep, and a newcomer can find herself performing useful tasks with regular expressions almost immediately. Efforts spent learning regular expressions quickly pay off--tasks that are well suited for regular expressions abound. Indeed, regular expressions are one of the most useful computer skills, and an absolutely critical tool for data scientists. "
      ],
      "metadata": {
        "id": "S8Opdlu1qygM"
      }
    },
    {
      "cell_type": "markdown",
      "metadata": {
        "id": "HCBzdxMcHCx3"
      },
      "source": [
        "This document will present basic regular expression syntax and cover common use cases for regular expressions. "
      ]
    },
    {
      "cell_type": "code",
      "execution_count": 1,
      "metadata": {
        "id": "6YjX6WzVHCx4"
      },
      "outputs": [],
      "source": [
        "# The code below is written in Python to replicate the \n",
        "# behavior of grep, the UNIX utility\n",
        "# We will examine the details of how the code works in a subsequent notebook.\n",
        "# For now, just execute the code, and use the function \n",
        "# grep(regex_expression, name_list) as-is\n",
        "\n",
        "import re\n",
        "\n",
        "def printMatches(text, regex_expression):\n",
        "  BACKGROUND_YELLOW = '\\x1b[43m'\n",
        "  COLOR_RESET  = \"\\x1b[0m\"\n",
        "  regex= re.compile(regex_expression)\n",
        "  matches = regex.finditer(text)\n",
        "  for m in matches:\n",
        "    highlighted  = text[:m.start()] # the string before the regex match\n",
        "    highlighted += BACKGROUND_YELLOW + text[m.start():m.end()] + COLOR_RESET \n",
        "    highlighted += text[m.end():] # the string after the regex match\n",
        "    print(highlighted)\n",
        "\n",
        "def grep(regex_expression, name_list):\n",
        "  for line in name_list:\n",
        "    printMatches(line, regex_expression)"
      ]
    },
    {
      "cell_type": "markdown",
      "metadata": {
        "id": "OA93842QHCx5"
      },
      "source": [
        "### NYC Restaurant Names Data\n",
        "\n",
        "In the notebook, we will demonstrating the various regular expressions using the set of restaurant names from `/data/uniquenames.txt`."
      ]
    },
    {
      "cell_type": "code",
      "source": [
        "!pip install -U -q PyMySQL sqlalchemy\n",
        "\n",
        "from sqlalchemy import create_engine\n",
        "import pandas as pd\n",
        "\n",
        "conn_string = 'mysql+pymysql://{user}:{password}@{host}/{db}?charset=utf8mb4'.format(\n",
        "    host = 'db.ipeirotis.org', \n",
        "    user = 'student',\n",
        "    password = 'dwdstudent2015', \n",
        "    db = 'doh_restaurants',\n",
        "    encoding = 'utf8mb4')\n",
        "\n",
        "with create_engine(conn_string).connect() as mysql_conn:\n",
        "  # This query returns back the restaurants in the DOH database\n",
        "  sql = 'SELECT DISTINCT UPPER(DBA) AS DBA FROM restaurants WHERE DBA IS NOT NULL'\n",
        "  uniquenames = pd.read_sql(sql, con=mysql_conn)\n",
        "  uniquenames = uniquenames.DBA.values\n",
        "\n",
        "print(f\"Found {len(uniquenames)} unique restaurants names\")"
      ],
      "metadata": {
        "id": "ZHe5WDnIVxfz",
        "outputId": "26dc9cb2-14fa-48e8-c472-6ce0ebdc5a25",
        "colab": {
          "base_uri": "https://localhost:8080/"
        }
      },
      "execution_count": 2,
      "outputs": [
        {
          "output_type": "stream",
          "name": "stdout",
          "text": [
            "Found 14851 unique restaurants names\n"
          ]
        }
      ]
    },
    {
      "cell_type": "markdown",
      "metadata": {
        "id": "QqEfl_Q-HCx5"
      },
      "source": [
        "Let's take a peek at the entries of the `uniquenames` list:"
      ]
    },
    {
      "cell_type": "code",
      "source": [
        "uniquenames[:5]"
      ],
      "metadata": {
        "id": "t9-GN47-W_Qo",
        "outputId": "8539864f-dbe7-4bfc-c336-1b8d71c2a960",
        "colab": {
          "base_uri": "https://localhost:8080/"
        }
      },
      "execution_count": 3,
      "outputs": [
        {
          "output_type": "execute_result",
          "data": {
            "text/plain": [
              "array(['TEST TEST TEST TEST TEST TEST TEST TEST TEST TEST TEST TEST TEST TEST TEST TEST TEST TEST',\n",
              "       \"WENDY'S\", 'DJ REYNOLDS PUB AND RESTAURANT', 'RIVIERA CATERERS',\n",
              "       \"WILKEN'S FINE FOOD\"], dtype=object)"
            ]
          },
          "metadata": {},
          "execution_count": 3
        }
      ]
    },
    {
      "cell_type": "code",
      "source": [
        "uniquenames[-5:]"
      ],
      "metadata": {
        "id": "pPcousFPW_Wz",
        "outputId": "89001971-8265-43b5-ed27-a9fe13eca353",
        "colab": {
          "base_uri": "https://localhost:8080/"
        }
      },
      "execution_count": 4,
      "outputs": [
        {
          "output_type": "execute_result",
          "data": {
            "text/plain": [
              "array(['PHO HOANG', 'CHICK ROCKS', 'NEW DOUBLE DRAGON',\n",
              "       'ADONAY RESTAURANT', 'OH! BAGEL'], dtype=object)"
            ]
          },
          "metadata": {},
          "execution_count": 4
        }
      ]
    },
    {
      "cell_type": "markdown",
      "metadata": {
        "id": "kTXY6ZO-HCx6"
      },
      "source": [
        "Now, let's see if there are any restaurants with the string 'PANO' in them:"
      ]
    },
    {
      "cell_type": "code",
      "execution_count": 5,
      "metadata": {
        "id": "-0dDl6dlHCx7",
        "outputId": "3826ceea-cf8c-4ead-e5f7-0d895fbf6c29",
        "colab": {
          "base_uri": "https://localhost:8080/"
        }
      },
      "outputs": [
        {
          "output_type": "stream",
          "name": "stdout",
          "text": [
            "LA CANDELA ES\u001b[43mPANO\u001b[0mLA\n",
            "\u001b[43mPANO\u001b[0mRAMA OF MY SILENCE-HEART\n",
            "GOOGLE \u001b[43mPANO\u001b[0mRAMA\n",
            "CENTRO ES\u001b[43mPANO\u001b[0mL\n",
            "\u001b[43mPANO\u001b[0mRAMA STEAKHOUSE\n",
            "SABOR HIS\u001b[43mPANO\u001b[0m\n",
            "\u001b[43mPANO\u001b[0mRAMA\n"
          ]
        }
      ],
      "source": [
        "grep('PANO', uniquenames)"
      ]
    },
    {
      "cell_type": "markdown",
      "metadata": {
        "id": "VnCeF_GRHCx7"
      },
      "source": [
        "What can we do if we want to search for something more complex than a fixed string? Regular expressions are solving exactly this problem. \n",
        "\n",
        "### The atoms\n",
        "\n",
        "The simplest regular expressions are a sequence of `atoms`. An atom can be any of the following:\n",
        "* single character, \n",
        "* a dot,\n",
        "* a bracket expression, \n",
        "* an anchor.\n",
        "\n",
        "#### Single character atom\n",
        "\n",
        "A single character atom matches itself.\n",
        "\n",
        "#### The `.` character atom\n",
        "\n",
        "A dot atom matches any single character (except for a new line character `\\n`)."
      ]
    },
    {
      "cell_type": "markdown",
      "metadata": {
        "id": "bp8F6PaEHCx8"
      },
      "source": [
        "Example: Using single character atoms, and the `.` atom, let's find all restaurant names that contain the characters `AB`, followed by any character (`.`) and then the character `D`:"
      ]
    },
    {
      "cell_type": "code",
      "execution_count": 6,
      "metadata": {
        "id": "Qi-B0xKqHCx8",
        "outputId": "490f52bf-2a3e-4390-9150-9e9d9e06e5d1",
        "colab": {
          "base_uri": "https://localhost:8080/"
        }
      },
      "outputs": [
        {
          "output_type": "stream",
          "name": "stdout",
          "text": [
            "P\u001b[43mABAD\u001b[0mE BAKERY & CAFE\n",
            "CR\u001b[43mAB D\u001b[0mU JOUR XPRESS\n"
          ]
        }
      ],
      "source": [
        "grep('AB.D', uniquenames)"
      ]
    },
    {
      "cell_type": "markdown",
      "metadata": {
        "id": "SwSZ9EsDHCx8"
      },
      "source": [
        "#### Bracket expression atom\n",
        "\n",
        "A bracket expression (defined by square brackets []) defines a set of characters. matches only one single character that can be any of the characters defined in a set. Example: [ABL] matches either A, B, or L.\n",
        "\n",
        "Now, let's use a bracket expression: We want to find restaurants that contain one of the letters A,B,C,X,Y,Z followed by a digit. We specify the set of letters as `[ABCXYZ]` and the set of digits as `[0123456789]`.  "
      ]
    },
    {
      "cell_type": "code",
      "execution_count": 31,
      "metadata": {
        "id": "oFJ0jxR9HCx9",
        "outputId": "e9b5c8a1-2ff6-4cf1-fae0-0ce2cc327ee2",
        "colab": {
          "base_uri": "https://localhost:8080/"
        }
      },
      "outputs": [
        {
          "output_type": "stream",
          "name": "stdout",
          "text": [
            "\u001b[43mB6\u001b[0m6 CLUB\n",
            "\u001b[43mB2\u001b[0m HARLEM\n",
            "WORLD BEAN, VELOCITY BAR (E\u001b[43mC2\u001b[0m)\n",
            "BARCLAYS UPPER SUITE STOLI BAR AND STORAGE ROOM 5\u001b[43mC2\u001b[0m9.03\n",
            "COTTO MARKET-GATE \u001b[43mC3\u001b[0m0\n",
            "GARDEN MARKET, STREET/HEALTH (F\u001b[43mA6\u001b[0m090)\n",
            "BAR AT THE GARDEN (B\u001b[43mA6\u001b[0m110)\n",
            "EVENT LEVEL CLUB (DELTA SKY 360 BAR) B\u001b[43mA5\u001b[0m075\n",
            "HOT DOG CONCESSION (F\u001b[43mC6\u001b[0m100)\n",
            "FOUR SEASONS HOTEL EMPLOYEE CAFETERI\u001b[43mA4\u001b[0m\n",
            "\u001b[43mA1\u001b[0m JAMAICA BREEZE\n",
            "SI\u001b[43mX2\u001b[0m RESTAURANT & BAKERY\n",
            "SK\u001b[43mY5\u001b[0m5 BAR AND GRILL\n"
          ]
        }
      ],
      "source": [
        "grep('[ABCXYZ][0123456789]', uniquenames)"
      ]
    },
    {
      "cell_type": "markdown",
      "metadata": {
        "id": "9g0e_-gUHCx9"
      },
      "source": [
        "##### Brackets and ranges\n",
        "\n",
        "Instead of typing long lists of characters in a bracket expression, we can use the range character: [0-9] is equivalent to [0123456789]. Similarly [A-Z] is equivalent to [ABCDEFGHIJKLMNOPQRSTUVWXYZ]. And [D-T] is equivalent to [DEFGHIJKLMNOPQRST]. (You get the idea.) You can also combine multiple ranges: [a-e1-9] is equivalent to [abcde123456789]. Finally, you can even specify to be excluded from the set using the character (^). For example, [^0-9] matches any character other than a number.\n",
        "\n",
        "For example, let's find restaurants that contain a letter, followed by a number, and then followed by a charather that is not a number:"
      ]
    },
    {
      "cell_type": "code",
      "execution_count": 8,
      "metadata": {
        "id": "xkg9sGa-HCx9",
        "outputId": "20054a43-3c4a-42bd-f05c-b9ad681c2ee1",
        "colab": {
          "base_uri": "https://localhost:8080/"
        }
      },
      "outputs": [
        {
          "output_type": "stream",
          "name": "stdout",
          "text": [
            "\u001b[43mB2 \u001b[0mHARLEM\n",
            "WORLD BEAN, VELOCITY BAR (E\u001b[43mC2)\u001b[0m\n",
            "TW\u001b[43mO8T\u001b[0mWO BAR & BURGER\n",
            "B\u001b[43mT4 \u001b[0mAISLE B\n",
            "B\u001b[43mT3 \u001b[0mAISLE A\n",
            "OPPA , \u001b[43mW4 \u001b[0mPIZZA\n",
            "\u001b[43mA1 \u001b[0mJAMAICA BREEZE\n",
            "SI\u001b[43mX2 \u001b[0mRESTAURANT & BAKERY\n",
            "TEAMWORKO\u001b[43mN3 \u001b[0mJUICES\n",
            "\u001b[43mO2 \u001b[0mK-BBQ\n"
          ]
        }
      ],
      "source": [
        "grep('[A-Z][0-9][^0-9]', uniquenames)"
      ]
    },
    {
      "cell_type": "markdown",
      "metadata": {
        "id": "q93o6yowHCx-"
      },
      "source": [
        "Hm, we do not want to get results that have a space after the number, so let's also exclude the space character:"
      ]
    },
    {
      "cell_type": "code",
      "execution_count": 9,
      "metadata": {
        "id": "q49sSUfFHCx-",
        "outputId": "7c93a9f5-4711-49a8-d84c-5873bc29e87d",
        "colab": {
          "base_uri": "https://localhost:8080/"
        }
      },
      "outputs": [
        {
          "output_type": "stream",
          "name": "stdout",
          "text": [
            "WORLD BEAN, VELOCITY BAR (E\u001b[43mC2)\u001b[0m\n",
            "TW\u001b[43mO8T\u001b[0mWO BAR & BURGER\n"
          ]
        }
      ],
      "source": [
        "grep('[A-Z][0-9][^0-9 ]', uniquenames) "
      ]
    },
    {
      "cell_type": "code",
      "execution_count": 10,
      "metadata": {
        "id": "J_qGU5DnHCx-",
        "outputId": "7a119af1-29f5-429e-bafd-b4df976573fe",
        "colab": {
          "base_uri": "https://localhost:8080/"
        }
      },
      "outputs": [
        {
          "output_type": "stream",
          "name": "stdout",
          "text": [
            "10\u001b[43m4-0\u001b[0m1 FOSTER AVENUE COFFEE SHOP(UPS)\n",
            "SUNSWICK 3\u001b[43m5/3\u001b[0m5\n",
            "THE BEST $\u001b[43m1.0\u001b[0m0 PIZZA\n",
            "BARCLAYS UPPER SUITE STOLI BAR AND STORAGE ROOM 5C2\u001b[43m9.0\u001b[0m3\n",
            "\u001b[43m1.5\u001b[0m DAK GALBI\n",
            "CHAIKHANA \u001b[43m7:4\u001b[0m0\n"
          ]
        }
      ],
      "source": [
        "# Digit, not letter not digit not space, digit\n",
        "grep('[0-9][^A-Z0-9 ][0-9]', uniquenames) "
      ]
    },
    {
      "cell_type": "code",
      "execution_count": 11,
      "metadata": {
        "id": "3VcJaFTxHCx-",
        "outputId": "c6867507-1cbf-4991-a6fc-9f41d98caba9",
        "colab": {
          "base_uri": "https://localhost:8080/"
        }
      },
      "outputs": [
        {
          "output_type": "stream",
          "name": "stdout",
          "text": [
            "STARBUCKS COFFEE # \u001b[43m26528\u001b[0m\n",
            "STARBUCKS COFFEE #\u001b[43m22716\u001b[0m\n",
            "STARBUCKS COFFEE #\u001b[43m23591\u001b[0m\n",
            "SUBWAY #\u001b[43m47857\u001b[0m\n",
            "STARBUCKS COFFEE #\u001b[43m29856\u001b[0m\n",
            "STARBUCKS COFFEE COMPANY #\u001b[43m29897\u001b[0m\n",
            "STARBUCKS COFFEE #\u001b[43m48170\u001b[0m\n",
            "STARBUCKS (STORE #\u001b[43m50483\u001b[0m)\n",
            "STARBUCKS COFFEE #\u001b[43m49952\u001b[0m\n",
            "STARBUCKS #\u001b[43m50611\u001b[0m\n",
            "STARBUCKS COFFEE # \u001b[43m49196\u001b[0m\n",
            "STARBUCKS #\u001b[43m48990\u001b[0m\n",
            "STARBUCKS COFFEE #\u001b[43m49550\u001b[0m\n",
            "MCDONALD'S #\u001b[43m11542\u001b[0m\n",
            "MCDONALD'S #\u001b[43m13068\u001b[0m\n",
            "MCDONALD'S #\u001b[43m23105\u001b[0m\n",
            "MCDONALDS # \u001b[43m18093\u001b[0m\n",
            "MCDONALDS \u001b[43m14520\u001b[0m\n",
            "SUBWAY (#\u001b[43m29887\u001b[0m)\n",
            "STARBUCKS COFFEE #\u001b[43m50622\u001b[0m\n",
            "SUBWAY STORE #\u001b[43m30214\u001b[0m\n",
            "CARVEL # \u001b[43m10222\u001b[0m4\n",
            "STARBUCKS COFFEE #\u001b[43m29719\u001b[0m\n",
            "STARBUCKS COFFEE #\u001b[43m53473\u001b[0m\n",
            "STARBUCKS COFFEE #\u001b[43m49450\u001b[0m\n",
            "STARBUCKS #\u001b[43m54446\u001b[0m\n",
            "STARBUCKS COFFE #\u001b[43m55085\u001b[0m\n",
            "TACO BELL CANTINA \u001b[43m03464\u001b[0m6\n",
            "STARBUCKS COFFEE#\u001b[43m54771\u001b[0m\n",
            "CARVEL \u001b[43m10266\u001b[0m4\n",
            "STARBUCKS COFFEE #\u001b[43m52530\u001b[0m\n",
            "SUBWAY # \u001b[43m30658\u001b[0m\n",
            "TACO BELL # \u001b[43m35457\u001b[0m\n",
            "STARBUCKS COFFEE #\u001b[43m58310\u001b[0m\n",
            "STARBUCKS COFFEE #\u001b[43m56451\u001b[0m\n",
            "STARBUCKS COFFEE #\u001b[43m57601\u001b[0m\n",
            "TACO BELL CANTINA #\u001b[43m03601\u001b[0m2\n",
            "STARBUCKS COFFEE #\u001b[43m14090\u001b[0m\n"
          ]
        }
      ],
      "source": [
        "# Restaurants with five digits\n",
        "grep('[0-9][0-9][0-9][0-9][0-9]', uniquenames) "
      ]
    },
    {
      "cell_type": "markdown",
      "metadata": {
        "id": "kfpEZ9ZqHCx-"
      },
      "source": [
        "#### Anchor\n",
        "\n",
        "Anchor atoms are special characters, used to define the location of a regex within a line. \n",
        "\n",
        "The anchor `^` specifies the *beginning of a line*, the anchor `$` specifies the end of a line. The anchor `\\b` specifies the word boundary."
      ]
    },
    {
      "cell_type": "markdown",
      "metadata": {
        "id": "Dx4De_KwHCx_"
      },
      "source": [
        "Example: Find restaurant names that start with the characters `BAL`"
      ]
    },
    {
      "cell_type": "code",
      "execution_count": 12,
      "metadata": {
        "id": "ajbBl1EoHCx_",
        "outputId": "efa3f7f8-574c-41c1-c877-9b01152020fa",
        "colab": {
          "base_uri": "https://localhost:8080/"
        }
      },
      "outputs": [
        {
          "output_type": "stream",
          "name": "stdout",
          "text": [
            "\u001b[43mBAL\u001b[0mTHAZAR RESTAURANT\n",
            "\u001b[43mBAL\u001b[0mTHAZAR BAKERY\n",
            "\u001b[43mBAL\u001b[0mLATO'S RESTAURANT\n",
            "\u001b[43mBAL\u001b[0mDOR SPECIALTY FOODS\n",
            "\u001b[43mBAL\u001b[0mBOA RESTAURANT\n",
            "\u001b[43mBAL\u001b[0mADE\n",
            "\u001b[43mBAL\u001b[0mIMAYA RESTAURANT\n",
            "\u001b[43mBAL\u001b[0mABOOSTA\n",
            "\u001b[43mBAL\u001b[0mZEM\n",
            "\u001b[43mBAL\u001b[0mVANERA\n",
            "\u001b[43mBAL\u001b[0mADE EASTERN MEDITERRANEAN\n",
            "\u001b[43mBAL\u001b[0mANCERO\n"
          ]
        }
      ],
      "source": [
        "grep('^BAL', uniquenames)"
      ]
    },
    {
      "cell_type": "markdown",
      "metadata": {
        "id": "ay6tRgC-HCx_"
      },
      "source": [
        "Example: Find restaurant names that end with the characters `SQUARE`"
      ]
    },
    {
      "cell_type": "code",
      "execution_count": 13,
      "metadata": {
        "id": "d7QGJeyRHCx_",
        "outputId": "aba89d06-7d3e-44b7-9300-d049b8f7b263",
        "colab": {
          "base_uri": "https://localhost:8080/"
        }
      },
      "outputs": [
        {
          "output_type": "stream",
          "name": "stdout",
          "text": [
            "MADISON \u001b[43mSQUARE\u001b[0m\n",
            "MERRION \u001b[43mSQUARE\u001b[0m\n",
            "TONIC TIMES \u001b[43mSQUARE\u001b[0m\n",
            "NORTH \u001b[43mSQUARE\u001b[0m\n",
            "HOLIDAY INN EXPRESS NYC TIMES \u001b[43mSQUARE\u001b[0m\n",
            "HAMPTON INN-HERALD \u001b[43mSQUARE\u001b[0m\n",
            "RESIDENCE INN TIMES \u001b[43mSQUARE\u001b[0m\n",
            "THE MANHATTAN AT TIMES \u001b[43mSQUARE\u001b[0m\n",
            "BEAN \u001b[43mSQUARE\u001b[0m\n",
            "BEST WESTERN PREMIER HERALD \u001b[43mSQUARE\u001b[0m\n",
            "HAMPTON INN TIMES \u001b[43mSQUARE\u001b[0m\n",
            "ELEMENT HOTEL TIME \u001b[43mSQUARE\u001b[0m\n",
            "TACOS TIME \u001b[43mSQUARE\u001b[0m\n",
            "HOMEWOOD SUITES BY HILTON NEW YORK MIDTOWN MANHATTAN TIMES \u001b[43mSQUARE\u001b[0m\n",
            "HOTEL RIU PLAZA NEW YORK TIMES \u001b[43mSQUARE\u001b[0m\n",
            "MIAS BAKERY TIMES \u001b[43mSQUARE\u001b[0m\n",
            "ICHIRAN TIMES \u001b[43mSQUARE\u001b[0m\n",
            "PINNACLE BAGELS ON THE \u001b[43mSQUARE\u001b[0m\n"
          ]
        }
      ],
      "source": [
        "grep('SQUARE$', uniquenames)"
      ]
    },
    {
      "cell_type": "code",
      "execution_count": 14,
      "metadata": {
        "id": "t74EsNweHCyA",
        "outputId": "00332057-5972-408b-9c67-d55f405e1015",
        "colab": {
          "base_uri": "https://localhost:8080/"
        }
      },
      "outputs": [
        {
          "output_type": "stream",
          "name": "stdout",
          "text": [
            "STARBUCKS #\u001b[43m7277\u001b[0m\n",
            "STARBUCKS COFFEE #\u001b[43m7358\u001b[0m\n",
            "STARBUCKS #\u001b[43m7378\u001b[0m\n",
            "GALLAGHER'S \u001b[43m2000\u001b[0m\n",
            "CARVEL \u001b[43m2848\u001b[0m\n",
            "KAFFE \u001b[43m1668\u001b[0m\n",
            "THE ORIGINAL VINCENT'S ESTABLISH \u001b[43m1904\u001b[0m\n",
            "CHIPTOLE MEXICAN GRILL #\u001b[43m2407\u001b[0m\n",
            "EVENT LEVEL CLUB (DELTA SKY 360 BAR) BA\u001b[43m5075\u001b[0m\n",
            "SUITE 200, \u001b[43m1879\u001b[0m\n",
            "STARBUCKS COFFEE # 2\u001b[43m6528\u001b[0m\n",
            "STARBUCKS COFFEE #2\u001b[43m2716\u001b[0m\n",
            "STARBUCKS COFFEE #2\u001b[43m3591\u001b[0m\n",
            "LN \u001b[43m1380\u001b[0m\n",
            "SUBWAY #4\u001b[43m7857\u001b[0m\n",
            "CARVEL \u001b[43m1939\u001b[0m\n",
            "CHIPOTLE MEXICAN GRILL #\u001b[43m2308\u001b[0m\n",
            "CHIPOTLE MEXICAN GRILL #\u001b[43m2254\u001b[0m\n",
            "PANDA EXPRESS #\u001b[43m2679\u001b[0m\n",
            "PANDA EXPRESS #\u001b[43m2633\u001b[0m\n",
            "CHIPOTLE MEXCIAN GRILL # \u001b[43m2760\u001b[0m\n",
            "PANDA EXPRESS \u001b[43m2614\u001b[0m\n",
            "STARBUCKS COFFEE #2\u001b[43m9856\u001b[0m\n",
            "CHIPOTLE MEXICAN GRILL #\u001b[43m2834\u001b[0m\n",
            "MEXICO \u001b[43m2000\u001b[0m\n",
            "CHIPOTLE MEXICAN GRILL #\u001b[43m2838\u001b[0m\n",
            "STARBUCKS COFFEE COMPANY #2\u001b[43m9897\u001b[0m\n",
            "NEW GREAT WALL \u001b[43m1419\u001b[0m\n",
            "CHIPOTLE MEXICAN GRILL #\u001b[43m2570\u001b[0m\n",
            "CHIPOTLE MEXICAN GRILL #\u001b[43m2879\u001b[0m\n",
            "STARBUCKS COFFEE #4\u001b[43m8170\u001b[0m\n",
            "STARBUCKS COFFEE #4\u001b[43m9952\u001b[0m\n",
            "STARBUCKS #5\u001b[43m0611\u001b[0m\n",
            "STARBUCKS COFFEE # 4\u001b[43m9196\u001b[0m\n",
            "STARBUCKS #4\u001b[43m8990\u001b[0m\n",
            "STARBUCKS COFFEE #4\u001b[43m9550\u001b[0m\n",
            "MCDONALD'S #\u001b[43m3880\u001b[0m\n",
            "MCDONALD'S #1\u001b[43m1542\u001b[0m\n",
            "MCDONALD'S #1\u001b[43m3068\u001b[0m\n",
            "MCDONALD'S #2\u001b[43m3105\u001b[0m\n",
            "MCDONALDS # 1\u001b[43m8093\u001b[0m\n",
            "MCDONALDS 1\u001b[43m4520\u001b[0m\n",
            "CHIPOTLE MEXICAN GRILL#\u001b[43m2964\u001b[0m\n",
            "CHIPOTLE MEXICAN GRILL #\u001b[43m3020\u001b[0m\n",
            "PANDA EXPRESS #\u001b[43m2769\u001b[0m\n",
            "STARBUCKS COFFEE #5\u001b[43m0622\u001b[0m\n",
            "SUBWAY STORE #3\u001b[43m0214\u001b[0m\n",
            "CARVEL # 10\u001b[43m2224\u001b[0m\n",
            "STARBUCKS COFFEE #2\u001b[43m9719\u001b[0m\n",
            "STARBUCKS COFFEE #5\u001b[43m3473\u001b[0m\n",
            "FAMILY CAFE \u001b[43m2632\u001b[0m\n",
            "CHIPOTLE MEXICAN GRILL #\u001b[43m2918\u001b[0m\n",
            "STARBUCKS COFFEE #4\u001b[43m9450\u001b[0m\n",
            "STARBUCKS #5\u001b[43m4446\u001b[0m\n",
            "PANDA EXPRESS #\u001b[43m2845\u001b[0m\n",
            "STARBUCKS COFFE #5\u001b[43m5085\u001b[0m\n",
            "CHIPOTLE MEXICAN GRILL #\u001b[43m3044\u001b[0m\n",
            "TACO BELL CANTINA 03\u001b[43m4646\u001b[0m\n",
            "CHIPOTLEMEXICAN GRILL #\u001b[43m2659\u001b[0m\n",
            "CHIPOTLE MEXICAN GRILL # \u001b[43m3265\u001b[0m\n",
            "CHIPOTLE MEXICAN GRILL #\u001b[43m3233\u001b[0m\n",
            "STARBUCKS COFFEE#5\u001b[43m4771\u001b[0m\n",
            "CHIPOTLE MEXICAN GRILL #\u001b[43m3309\u001b[0m\n",
            "SMASHBURGER #\u001b[43m1712\u001b[0m\n",
            "CARVEL 10\u001b[43m2664\u001b[0m\n",
            "STARBUCKS COFFEE #5\u001b[43m2530\u001b[0m\n",
            "SUBWAY # 3\u001b[43m0658\u001b[0m\n",
            "TACO BELL # 3\u001b[43m5457\u001b[0m\n",
            "CHIPOTLE MEXICAN GRILL #\u001b[43m3312\u001b[0m\n",
            "NONNAS \u001b[43m1977\u001b[0m\n",
            "STARBUCKS COFFEE #5\u001b[43m8310\u001b[0m\n",
            "STARBUCKS COFFEE #5\u001b[43m6451\u001b[0m\n",
            "STARBUCKS COFFEE #5\u001b[43m7601\u001b[0m\n",
            "CHECKERS STORE #\u001b[43m3332\u001b[0m\n",
            "TACO BELL CANTINA #03\u001b[43m6012\u001b[0m\n",
            "CHIPOTLE MEXICAN GRILL #\u001b[43m3478\u001b[0m\n",
            "STARBUCKS COFFEE #1\u001b[43m4090\u001b[0m\n",
            "CHIPOTLE MEXICAN GRILL #\u001b[43m3544\u001b[0m\n",
            "CHIPOTLE MEXICAN GRILL #\u001b[43m3622\u001b[0m\n",
            "CHIPOTLE MEXICAN GRILL #\u001b[43m3741\u001b[0m\n",
            "CAFE \u001b[43m2000\u001b[0m\n"
          ]
        }
      ],
      "source": [
        "# All restaurants that end with 4 digits\n",
        "grep('[0-9][0-9][0-9][0-9]$', uniquenames)"
      ]
    },
    {
      "cell_type": "markdown",
      "metadata": {
        "id": "tPQGsoNzHCyA"
      },
      "source": [
        "Example: Let's try to find restaurants containing the word `MEXICO`:"
      ]
    },
    {
      "cell_type": "code",
      "execution_count": 15,
      "metadata": {
        "id": "bJlaMgecHCyA",
        "outputId": "c1fb815d-3d1f-4a2e-9bcb-3c23cfb62c4b",
        "colab": {
          "base_uri": "https://localhost:8080/"
        }
      },
      "outputs": [
        {
          "output_type": "stream",
          "name": "stdout",
          "text": [
            "\u001b[43mMEXICO\u001b[0m LINDO RESTAURANT\n",
            "PIAXTLA ES \u001b[43mMEXICO\u001b[0m DELI\n",
            "TACOS \u001b[43mMEXICO\u001b[0m\n",
            "NEW \u001b[43mMEXICO\u001b[0m PLACE\n",
            "SABOR A \u001b[43mMEXICO\u001b[0m II\n",
            "EL SOL DE \u001b[43mMEXICO\u001b[0m DELI GROCERY\n",
            "LAS MARAVILLAS DE \u001b[43mMEXICO\u001b[0m RESTAURANT\n",
            "NUEVO \u001b[43mMEXICO\u001b[0m MEXICAN RESTAURANT\n",
            "SABOR A \u001b[43mMEXICO\u001b[0m TAQUERIA\n",
            "TACOS Y QUESADILLAS \u001b[43mMEXICO\u001b[0m\n",
            "TAQUITOS \u001b[43mMEXICO\u001b[0m RESTAURANT\n",
            "MADE IN \u001b[43mMEXICO\u001b[0m\n",
            "\u001b[43mMEXICO\u001b[0m EN LA PIEL\n",
            "\u001b[43mMEXICO\u001b[0m EL SALVADOR INC\n",
            "MANJARES \u001b[43mMEXICO\u001b[0m\n",
            "\u001b[43mMEXICO\u001b[0m 2000\n",
            "VIVA \u001b[43mMEXICO\u001b[0m MEXICAN CUISINE\n",
            "\u001b[43mMEXICO\u001b[0mCIANA\n",
            "CON SABOR A \u001b[43mMEXICO\u001b[0m\n",
            "LA ADELITA, EL CORAZON DE \u001b[43mMEXICO\u001b[0m\n",
            "TULCI\u001b[43mMEXICO\u001b[0m RESTAURANT\n",
            "EL RINCON DE \u001b[43mMEXICO\u001b[0m\n"
          ]
        }
      ],
      "source": [
        "# Note that we capture also words like 'TULCIMEXICO' and 'MEXICOCIANA' \n",
        "grep('MEXICO', uniquenames)"
      ]
    },
    {
      "cell_type": "code",
      "execution_count": 16,
      "metadata": {
        "id": "9pQOnHQjHCyA",
        "outputId": "9d8123ea-d4f0-473d-a64b-9c6ec8f68bf5",
        "colab": {
          "base_uri": "https://localhost:8080/"
        }
      },
      "outputs": [
        {
          "output_type": "stream",
          "name": "stdout",
          "text": [
            "PIAXTLA ES\u001b[43m MEXICO \u001b[0mDELI\n",
            "NEW\u001b[43m MEXICO \u001b[0mPLACE\n",
            "SABOR A\u001b[43m MEXICO \u001b[0mII\n",
            "EL SOL DE\u001b[43m MEXICO \u001b[0mDELI GROCERY\n",
            "LAS MARAVILLAS DE\u001b[43m MEXICO \u001b[0mRESTAURANT\n",
            "NUEVO\u001b[43m MEXICO \u001b[0mMEXICAN RESTAURANT\n",
            "SABOR A\u001b[43m MEXICO \u001b[0mTAQUERIA\n",
            "TAQUITOS\u001b[43m MEXICO \u001b[0mRESTAURANT\n",
            "VIVA\u001b[43m MEXICO \u001b[0mMEXICAN CUISINE\n"
          ]
        }
      ],
      "source": [
        "# Notice that adding space is not sufficient\n",
        "grep(' MEXICO ', uniquenames)"
      ]
    },
    {
      "cell_type": "markdown",
      "metadata": {
        "id": "2_wqhEP4HCyA"
      },
      "source": [
        "Note that we also get TULCIMEXICO, MEXICOCIANA, which we _may_ not want. If we want only the word `MEXICO`, we add the word anchors:"
      ]
    },
    {
      "cell_type": "code",
      "execution_count": 17,
      "metadata": {
        "id": "kBDNrthOHCyA",
        "outputId": "51360bdd-5801-4ddf-a288-7b4e4221852f",
        "colab": {
          "base_uri": "https://localhost:8080/"
        }
      },
      "outputs": [
        {
          "output_type": "stream",
          "name": "stdout",
          "text": [
            "\u001b[43mMEXICO\u001b[0m LINDO RESTAURANT\n",
            "PIAXTLA ES \u001b[43mMEXICO\u001b[0m DELI\n",
            "TACOS \u001b[43mMEXICO\u001b[0m\n",
            "NEW \u001b[43mMEXICO\u001b[0m PLACE\n",
            "SABOR A \u001b[43mMEXICO\u001b[0m II\n",
            "EL SOL DE \u001b[43mMEXICO\u001b[0m DELI GROCERY\n",
            "LAS MARAVILLAS DE \u001b[43mMEXICO\u001b[0m RESTAURANT\n",
            "NUEVO \u001b[43mMEXICO\u001b[0m MEXICAN RESTAURANT\n",
            "SABOR A \u001b[43mMEXICO\u001b[0m TAQUERIA\n",
            "TACOS Y QUESADILLAS \u001b[43mMEXICO\u001b[0m\n",
            "TAQUITOS \u001b[43mMEXICO\u001b[0m RESTAURANT\n",
            "MADE IN \u001b[43mMEXICO\u001b[0m\n",
            "\u001b[43mMEXICO\u001b[0m EN LA PIEL\n",
            "\u001b[43mMEXICO\u001b[0m EL SALVADOR INC\n",
            "MANJARES \u001b[43mMEXICO\u001b[0m\n",
            "\u001b[43mMEXICO\u001b[0m 2000\n",
            "VIVA \u001b[43mMEXICO\u001b[0m MEXICAN CUISINE\n",
            "CON SABOR A \u001b[43mMEXICO\u001b[0m\n",
            "LA ADELITA, EL CORAZON DE \u001b[43mMEXICO\u001b[0m\n",
            "EL RINCON DE \u001b[43mMEXICO\u001b[0m\n"
          ]
        }
      ],
      "source": [
        "# The r'....' is a \"raw\" string, and allows us to enter\n",
        "# backslash without having to \"escape\" the backslash.\n",
        "# Otherwise Python will interpret \\b as a single special\n",
        "# character, and not as two characters \\b that are part of the regex\n",
        "grep(r'\\bMEXICO\\b', uniquenames)"
      ]
    },
    {
      "cell_type": "markdown",
      "metadata": {
        "id": "cTavB3LvHCyA"
      },
      "source": [
        "#### Basic Patterns\n",
        "\n",
        "* `a, X, 9, ....`: -- ordinary characters just match themselves exactly. \n",
        "* `. ^ \\$ * + ? { [ ] \\ | ( )`: The **meta-characters** which do not match themselves because they have special meanings (more info below)\n",
        "* `.` (a period) -- matches any single character except newline '\\n'\n",
        "* `\\t, \\n, \\r`: Special characters, tab, newline, return\n",
        "* `^` = start, `$` = end -- match the start or end of the string\n",
        "* `\\`: inhibit the \"specialness\" of a character. So, for example, use \\. to match a period or \\\\ to match a slash. If you are unsure if a character has special meaning, such as '@', you can put a slash in front of it, \\@, to make sure it is treated just as a character."
      ]
    },
    {
      "cell_type": "markdown",
      "metadata": {
        "id": "scTC7az7HCyB"
      },
      "source": [
        "#### Shortcuts\n",
        "\n",
        "A few of the bracket expressions that we discussed above occur very often. For this reason, we have shortcuts for them:\n",
        "\n",
        "* `\\d`: matches the digits: `[0-9]`.\n",
        "* `\\D`: matches anything but `\\d`: `[^0-9]`.\n",
        "* `\\w`: matches any alphanumeric character plus underscore: `[A-Za-z0-9_]`.\n",
        "* `\\W`: matches anything but `\\w`: `[^A-Za-z0-9_]`\n",
        "* `\\s`: matches any \"whitespace\" character (space, tab, newline, etc): `[ \\t\\n\\r\\f\\v]`.\n",
        "* `\\S`: matches anything but `\\s`: `[^ \\t\\n\\r\\f\\v]` .\n",
        "* `\\b`: matches the breaks between alphanumeric and non-alphanumeric characters (an empty string), the boundary between `\\w` and `\\W`. Useful for ensuring that what you match is actually a word.\n",
        "* `\\B`: matches anything but `\\b`. Useful for ensuring your match is in the middle of a word.\n",
        "\n"
      ]
    },
    {
      "cell_type": "markdown",
      "metadata": {
        "id": "bwB7_E9PHCyB"
      },
      "source": [
        "#### In class exercises\n",
        "\n",
        "Write a regular expression for:\n",
        "\n",
        "* Match any character\n",
        "* Match the end of line\n",
        "* Match any digit\n",
        "* Find all characters that are not digits\n",
        "* Find all words with four letters\n",
        "* Find every line that starts with a digit\n",
        "* Find all empty lines\n",
        "* Find all lines with 4 characters\n"
      ]
    },
    {
      "cell_type": "markdown",
      "metadata": {
        "id": "Lsfq3Y-FHCyB"
      },
      "source": [
        "### Regular Expressions: Operators\n",
        "\n",
        "#### Alternation |\n",
        "\n",
        "The alternation operator `|` defines one or more alternatives regular expressions that need to be true for the string to match the regular expression. \n",
        "\n",
        "For example, if we are looking for names that contain either the word `GREEK` or the word `RUSSIAN`, we issue the following command: "
      ]
    },
    {
      "cell_type": "code",
      "execution_count": 18,
      "metadata": {
        "id": "CDFSw-umHCyB",
        "outputId": "8475fc40-c7c7-4759-d015-33d667b8c17b",
        "colab": {
          "base_uri": "https://localhost:8080/"
        }
      },
      "outputs": [
        {
          "output_type": "stream",
          "name": "stdout",
          "text": [
            "SYMPOSIUM \u001b[43mGREEK\u001b[0m RESTAURANT\n",
            "\u001b[43mRUSSIAN\u001b[0m TURKISH BATHS\n",
            "\u001b[43mRUSSIAN\u001b[0m SAMOVAR\n",
            "\u001b[43mFRENCH\u001b[0m ROAST\n",
            "\u001b[43mRUSSIAN\u001b[0m VODKA ROOM\n",
            "JEAN DANET \u001b[43mFRENCH\u001b[0m PASTRY\n",
            "THE \u001b[43mGREEK\u001b[0m KITCHEN\n",
            "\u001b[43mRUSSIAN\u001b[0m BATHS\n",
            "\u001b[43mGREEK\u001b[0m ISLANDS\n",
            "AVLI THE LITTLE \u001b[43mGREEK\u001b[0m TAVERN\n",
            "\u001b[43mGREEK\u001b[0m EXPRESS\n",
            "SOMETHIN\u001b[43mGREEK\u001b[0m\n",
            "VILLAGE TAVERNA \u001b[43mGREEK\u001b[0m GRILL\n",
            "JEAN CLAUDE \u001b[43mFRENCH\u001b[0m BISTRO\n",
            "GRK FRESH \u001b[43mGREEK\u001b[0m\n",
            "AVLEE \u001b[43mGREEK\u001b[0m KITCHEN\n",
            "\u001b[43mGREEK\u001b[0m XPRESS\n",
            "\u001b[43mFRENCH\u001b[0m LOUIE\n",
            "\u001b[43mFRENCH\u001b[0m DINER\n",
            "DIRTY \u001b[43mFRENCH\u001b[0m\n",
            "MARATHI \u001b[43mGREEK\u001b[0m BISTRO\n",
            "\u001b[43mGREEK\u001b[0m GRILL\n",
            "\u001b[43mGREEK\u001b[0m EATS\n",
            "EXCUSE MY \u001b[43mFRENCH\u001b[0m\n",
            "3 \u001b[43mGREEK\u001b[0mS GRILL\n",
            "AVLI LITTLE \u001b[43mGREEK\u001b[0m KAFE\n",
            "KUZINA THE \u001b[43mGREEK\u001b[0m KITCHEN\n",
            "\u001b[43mGREEK\u001b[0m FELLAS\n",
            "LE \u001b[43mFRENCH\u001b[0m TART DELI\n",
            "\u001b[43mFRENCH\u001b[0mETTE\n",
            "\u001b[43mFRENCH\u001b[0mY COFFEE NYC\n",
            "EONS \u001b[43mGREEK\u001b[0m FOOD FOR LIFE\n",
            "\u001b[43mGREEK\u001b[0m FROM GREECE\n",
            "LALGEROISE \u001b[43mFRENCH\u001b[0m BAKERY\n",
            "SIMPLY \u001b[43mGREEK\u001b[0m\n"
          ]
        }
      ],
      "source": [
        "grep('GREEK|RUSSIAN|FRENCH', uniquenames)"
      ]
    },
    {
      "cell_type": "markdown",
      "metadata": {
        "id": "dxe6kgpmHCyB"
      },
      "source": [
        "#### Repetition {m,n}\n",
        "\n",
        "A repetition operator specifies that the atom or expression immediately before the repetition may be repeated. For example, if we are looking for restaurants that contain the letter I, three to five times:  "
      ]
    },
    {
      "cell_type": "code",
      "execution_count": 19,
      "metadata": {
        "id": "ViPZwHwEHCyB",
        "outputId": "a8c28c22-b84e-4cec-c466-b3d5d408d147",
        "colab": {
          "base_uri": "https://localhost:8080/"
        }
      },
      "outputs": [
        {
          "output_type": "stream",
          "name": "stdout",
          "text": [
            "EL CHIVITO D'ORO \u001b[43mIII\u001b[0m\n",
            "KNAPP PIZZA \u001b[43mIII\u001b[0m\n",
            "BARZOLA'S RESTAURANT \u001b[43mIII\u001b[0m\n",
            "LOS POLLITOS \u001b[43mIII\u001b[0m\n",
            "NEW WIN HING \u001b[43mIII\u001b[0m CHINESE RESTAURANT\n",
            "BAGEL EXPRESS \u001b[43mIII\u001b[0m\n",
            "LITTLE ITALY PIZZA \u001b[43mIII\u001b[0m\n",
            "ROCCO PIZZA \u001b[43mIII\u001b[0m\n",
            "MIRACALI \u001b[43mIII\u001b[0m\n",
            "EL POLLO \u001b[43mIII\u001b[0m\n",
            "CESTRAS PIZZA \u001b[43mIII\u001b[0m\n",
            "CHINA WOK \u001b[43mIII\u001b[0m\n",
            "EL NUEVO VALLE \u001b[43mIII\u001b[0m\n",
            "PHO RAINBOW \u001b[43mIII\u001b[0m\n",
            "RICO POLLO \u001b[43mIII\u001b[0m\n",
            "AVOCADO SUSHI \u001b[43mIIII\u001b[0m\n",
            "PHO BEST \u001b[43mIII\u001b[0m\n"
          ]
        }
      ],
      "source": [
        "grep('I{3,5}', uniquenames)"
      ]
    },
    {
      "cell_type": "markdown",
      "metadata": {
        "id": "XvfCgIjmHCyC"
      },
      "source": [
        "Now, let's find all the restaurants that have a name length from 50 to 55 characters:"
      ]
    },
    {
      "cell_type": "code",
      "execution_count": 20,
      "metadata": {
        "id": "Lzwoe2gPHCyC",
        "outputId": "40ed86f3-d4c0-41c0-efa6-e400c5579030",
        "colab": {
          "base_uri": "https://localhost:8080/"
        }
      },
      "outputs": [
        {
          "output_type": "stream",
          "name": "stdout",
          "text": [
            "\u001b[43mVINNY'S OF CARROLL GARDEN RESTAURANT & LUNCHEONETT\u001b[0m\n",
            "\u001b[43mIFH EL BUFFET RESTAURANT | ALBERTO'S MOFONGO HOUSE\u001b[0m\n",
            "\u001b[43mMARRIOTT MARQUIS - MAIN KITCHEN/5TH FLOOR EMPLYEE CAFE\u001b[0m\n",
            "\u001b[43mADVENTURES AMUSEMENTS PARK (ICE CREAM, SWEETS STAND)\u001b[0m\n",
            "\u001b[43mGREEN AND ACKERMAN KOSHER DAIRY RESTAURANT & PIZZA\u001b[0m\n",
            "\u001b[43mST JOHN'S UNIVERSITY LIBRARY CAFE  (ST.AUGUSTINE HALL)\u001b[0m\n",
            "\u001b[43mCARIBBEAN CONNECTION CATERING SERVICES INC RESTAURANT\u001b[0m\n",
            "\u001b[43mTAKE AWAY CAFE IN REBEKAH REHAB EXTENDED CARE CENTER\u001b[0m\n",
            "\u001b[43mVISTA SKY LOUNGE & CATERING (SHERATON FOUR POINTS)\u001b[0m\n",
            "\u001b[43mRESORTS WORLD CASINO GROUND LEVEL ( EMPLOYEE DINING)\u001b[0m\n",
            "\u001b[43mTHE BIG APPLE (RITZ CARLTON HOTEL EMPLOYEE CAFETERIA)\u001b[0m\n",
            "\u001b[43mBARCLAYS LOWER SUITES TANDUAY BAR SOUTH CLUB LOUNGE\u001b[0m\n",
            "\u001b[43mBARCLAYS UPPER SUITE STOLI BAR AND STORAGE ROOM 5C29.03\u001b[0m\n",
            "\u001b[43mMANDARIN ORIENTAL NEW YORK- LOBBY LOUNGE 35TH FLOOR\u001b[0m\n",
            "\u001b[43mTHE BISTRO AT THE COURTYARD & RESIDENCE INN BY MARRIOTT\u001b[0m\n",
            "\u001b[43mCOLUMBIA UNIVERSITY BAKER ATHLETICS COMPLEX, STAND #1\u001b[0m\n",
            "\u001b[43mCOLUMBIA UNIVERSITY BAKER ATHLETICS COMPLEX, STAND #2\u001b[0m\n",
            "\u001b[43mCOLUMBIA UNIVERSITY BAKER ATHLETICS COMPLEX, STAND #3\u001b[0m\n",
            "\u001b[43mMARKETPLACE AT MCGINLEY CENTER FORDHAM UNIVERSITY`\u001b[0m\n",
            "\u001b[43mFORDHAM U - SALT & SESAME AT FACULTY MEMORIAL HALL\u001b[0m\n",
            "\u001b[43mFAIRFIELD INN & SUITES MANHATTAN NEW YORK CENTRAL PARK\u001b[0m\n",
            "\u001b[43mORTZI RESTAURANT AND BAR LOCATED INSIDE LOUMA HOTEL\u001b[0m\n",
            "\u001b[43mSPECTRUM CATERING AND CONCESSIONS (BROOKLYN STEEL)\u001b[0m\n",
            "\u001b[43mKANGA'S INDOOR PLAYCENTER AND CAFE LONG ISLAND CITY\u001b[0m\n",
            "\u001b[43mCOLLEGE OF MOUNT ST.VINCENT (HUDSON HEIGHTS; 1ST FL)\u001b[0m\n",
            "\u001b[43mMAR, VINOS, LA BARRA, HELADOS, PASTELES, PASTELERIA\u001b[0m\n",
            "\u001b[43mLEVY AT JAVITS CENTER- 3411 GARDEN MARKET/MARKETPLACE\u001b[0m\n",
            "\u001b[43mMEXIKO/CARLOS & GABBYS/GRAZE SMOKE HOUSE/ROSA'S CHICKEN\u001b[0m\n"
          ]
        }
      ],
      "source": [
        "grep('^.{50,55}$', uniquenames)"
      ]
    },
    {
      "cell_type": "markdown",
      "metadata": {
        "id": "hVQT6fWfHCyC"
      },
      "source": [
        "In the repetition operator {m,n}, we can skip putting the upper limit if we want to say, \"anything with m matches and above\". For example, let's find all the restaurants that have a name length 60 characters and above:"
      ]
    },
    {
      "cell_type": "code",
      "execution_count": 21,
      "metadata": {
        "id": "SFTQYWXWHCyC",
        "outputId": "90db0201-93a6-4e9b-8fc5-90100138dda8",
        "colab": {
          "base_uri": "https://localhost:8080/"
        }
      },
      "outputs": [
        {
          "output_type": "stream",
          "name": "stdout",
          "text": [
            "\u001b[43mTEST TEST TEST TEST TEST TEST TEST TEST TEST TEST TEST TEST TEST TEST TEST TEST TEST TEST\u001b[0m\n",
            "\u001b[43mSNACK BAR (LOCATED BETWEEN A-B BETWEEN FANCY FOOD AND MASTERS)\u001b[0m\n",
            "\u001b[43mMAIMONIDES PARK STAND # 110, TIKI BAR/MR SOFTEE/MARTY'S BURGER\u001b[0m\n",
            "\u001b[43mMAIMONIDES PARK STAND #120, PREMIO SAUSAGE/ARANCINI/CHEESESTEAKS/MR. SOFTEE\u001b[0m\n",
            "\u001b[43mFASHION INSTITUTE OF TECHNOLOGY DAVID DUBINSKY STUDENT CENTER\u001b[0m\n",
            "\u001b[43mWORLD ICE CAFE AT FLUSHING MEADOWS CORONA PARK AQUATIC CENTER\u001b[0m\n",
            "\u001b[43mRED STORM DINER @ ST. VINCENT'S HALL OF ST. JOHN'S UNIVERSITY\u001b[0m\n",
            "\u001b[43mDELTA SKY CLUB (BARTENDER SERVICE TERMINAL D DELTA DEPARTURE)\u001b[0m\n",
            "\u001b[43mINTERCONTINENTAL NEW YORK TIMES SQUARE, TODD ENGLISH THE STINGER\u001b[0m\n",
            "\u001b[43mMARLIN BAR AT TOMMY BAHAMA AND TOMMY BAHAMA RESTAURANT AND B\u001b[0m\n",
            "\u001b[43mTHE PENINSULA NEW YORK, CLEMENT/ THE GOTHAM LOUNGE/ SALON DE NING\u001b[0m\n",
            "\u001b[43mUNION SQUARE SPORTS & ENTERTAINMENT AT THEATRE FOR A NEW AUDIENCE\u001b[0m\n",
            "\u001b[43mFAIRFIELD INN & SUITES NEW YORK MANHATTAN FINANCIAL DISTRICT\u001b[0m\n",
            "\u001b[43mMISTER DIPS (GARDEN AREA), LEUCA(1ST FLOOR) , WESTLIGHT (22ND FLOOR)\u001b[0m\n",
            "\u001b[43mHOMEWOOD SUITES BY HILTON NEW YORK MIDTOWN MANHATTAN TIMES SQUARE\u001b[0m\n",
            "\u001b[43mBARCELONA, JAMON & QUESO, FRUTAS & VERDURAS, BOCATAS & EMPANADAS\u001b[0m\n"
          ]
        }
      ],
      "source": [
        "grep('^.{60,}$', uniquenames)"
      ]
    },
    {
      "cell_type": "markdown",
      "metadata": {
        "id": "Ei-hXHEeHCyC"
      },
      "source": [
        "##### Repetition shortcuts (very common!): \n",
        "\n",
        "* `* = {0,}`. The `*` character means match the previous atom zero or more times\n",
        "* `+ = {1,}`. The `+` character means match the previous atom one or more times\n",
        "* `? = {0,1}`. The `*` character means match the previous atom zero or one times\n",
        "\n",
        "\n",
        "\n",
        "\n"
      ]
    },
    {
      "cell_type": "markdown",
      "metadata": {
        "id": "GdMrtQnLHCyC"
      },
      "source": [
        "Find all restaurants that start with one or more digits, followed by a space."
      ]
    },
    {
      "cell_type": "code",
      "execution_count": 22,
      "metadata": {
        "id": "EWzLBDPyHCyC",
        "outputId": "04316c8d-b615-4128-fc1c-085b4182ec0e",
        "colab": {
          "base_uri": "https://localhost:8080/"
        }
      },
      "outputs": [
        {
          "output_type": "stream",
          "name": "stdout",
          "text": [
            "\u001b[43m1 \u001b[0mEAST 66TH STREET KITCHEN\n",
            "\u001b[43m21 \u001b[0mCLUB\n",
            "\u001b[43m5 \u001b[0mBURRO CAFE\n",
            "\u001b[43m3 \u001b[0mGUYS\n",
            "\u001b[43m1020 \u001b[0mBAR\n",
            "\u001b[43m810 \u001b[0mDELI & CAFE\n",
            "\u001b[43m101 \u001b[0mDELI\n",
            "\u001b[43m3 \u001b[0mDELI & GRILL\n",
            "\u001b[43m15 \u001b[0mEAST RESTAURANT\n",
            "\u001b[43m44 \u001b[0m& X HELL'S KITCHEN\n",
            "\u001b[43m7 \u001b[0mSTARS RESTAURANT\n",
            "\u001b[43m3 \u001b[0mSISTERS' & SHANTA'S RESTAURANT & BAKERY\n",
            "\u001b[43m68 \u001b[0mJAY STREET BAR\n",
            "\u001b[43m3 \u001b[0mSTAR JUICE CENTER\n",
            "\u001b[43m3 \u001b[0mWAY RESTAURANT\n",
            "\u001b[43m5 \u001b[0mESTRELLA BAKERY\n",
            "\u001b[43m169 \u001b[0mBAR\n",
            "\u001b[43m809 \u001b[0mGRILL & BAR RESTAURANT\n",
            "\u001b[43m230 \u001b[0mFIFTH\n",
            "\u001b[43m11 \u001b[0mSTREET CAFE\n",
            "\u001b[43m234 \u001b[0mCHINA CITY\n",
            "\u001b[43m27 \u001b[0mSPORTS BAR & CAFE\n",
            "\u001b[43m535 \u001b[0mMADISON CAFE\n",
            "\u001b[43m1 \u001b[0mOAK\n",
            "\u001b[43m86 \u001b[0mNOODLES\n",
            "\u001b[43m95 \u001b[0mSOUTH\n",
            "\u001b[43m1 \u001b[0mBANANA QUEEN\n",
            "\u001b[43m33 \u001b[0mGOURMET\n",
            "\u001b[43m55 \u001b[0mBAR\n",
            "\u001b[43m2 \u001b[0mBROS PIZZA\n",
            "\u001b[43m67 \u001b[0mORANGE STREET\n",
            "\u001b[43m773 \u001b[0mLOUNGE\n",
            "\u001b[43m18 \u001b[0mBAKERY\n",
            "\u001b[43m1893 \u001b[0mSPORTS BAR\n",
            "\u001b[43m212 \u001b[0mHISAE'S\n",
            "\u001b[43m69 \u001b[0mBAR LOUNGE\n",
            "\u001b[43m1 \u001b[0mSTOP PATTY SHOP\n",
            "\u001b[43m620 \u001b[0mON CATON\n",
            "\u001b[43m1001 \u001b[0mNIGHTS CAFE\n",
            "\u001b[43m101 \u001b[0mCAFE\n",
            "\u001b[43m5 \u001b[0mNAPKIN BURGER\n",
            "\u001b[43m2 \u001b[0mBROS PIZZA, CORVO COFFEE\n",
            "\u001b[43m18 \u001b[0mRESTAURANT\n",
            "\u001b[43m888 \u001b[0mKITCHEN\n",
            "\u001b[43m3 \u001b[0mSHEETS SALOON\n",
            "\u001b[43m55 \u001b[0mTHOMAS CAFE\n",
            "\u001b[43m16 \u001b[0mHANDLES\n",
            "\u001b[43m4618 \u001b[0mBAKERY\n",
            "\u001b[43m6321 \u001b[0mYUAN BAO\n",
            "\u001b[43m69 \u001b[0mPIZZERIA\n",
            "\u001b[43m120 \u001b[0mBAY CAFE/CARGO\n",
            "\u001b[43m68 \u001b[0mMEI MEI BAKERY\n",
            "\u001b[43m718 \u001b[0mHOOKAH LOUNGE\n",
            "\u001b[43m54 \u001b[0mBELOW\n",
            "\u001b[43m983 \u001b[0mBUSHWICK LIVING ROOM\n",
            "\u001b[43m5 \u001b[0mSTAR VILLAGE CAFE\n",
            "\u001b[43m12 \u001b[0mCORAZONES RESTAURANT & BAR\n",
            "\u001b[43m88 \u001b[0mCAFE\n",
            "\u001b[43m1803 \u001b[0mNYC\n",
            "\u001b[43m99 \u001b[0mFAVOR TASTE\n",
            "\u001b[43m401 \u001b[0mLUCKY STAR RESTAURANT\n",
            "\u001b[43m624 \u001b[0mKAM HAI CHINESE FOOD\n",
            "\u001b[43m212 \u001b[0mSTEAKHOUSE\n",
            "\u001b[43m7 \u001b[0mGRAMS CAFFE\n",
            "\u001b[43m99 \u001b[0mCENTS FRESH SLICE PIZZA\n",
            "\u001b[43m19 \u001b[0mCAFE\n",
            "\u001b[43m12 \u001b[0mCORNERS COFFEE\n",
            "\u001b[43m12 \u001b[0mCHAIRS CAFE\n",
            "\u001b[43m750 \u001b[0mMYRTLE DINER\n",
            "\u001b[43m3 \u001b[0mGUYS SUSHI\n",
            "\u001b[43m28 \u001b[0mMING'S CAFFE\n",
            "\u001b[43m99 \u001b[0mROGERS\n",
            "\u001b[43m310 \u001b[0mBOWERY BAR\n",
            "\u001b[43m678 \u001b[0mDELI\n",
            "\u001b[43m3 \u001b[0mGREEKS GRILL\n",
            "\u001b[43m21 \u001b[0mBAR\n",
            "\u001b[43m619 \u001b[0mBAR & RESTAURANT EL SALVADORENO\n",
            "\u001b[43m333 \u001b[0mLOUNGE\n",
            "\u001b[43m3 \u001b[0mIN 1 KITCHEN\n",
            "\u001b[43m22 \u001b[0mSTR CONCESSION STAND\n",
            "\u001b[43m11 \u001b[0mHOWARD KITCHEN\n",
            "\u001b[43m575 \u001b[0mPUB ON SECOND\n",
            "\u001b[43m969 \u001b[0mNYC COFFEE\n",
            "\u001b[43m2123 \u001b[0mFRESH TORTILLAS\n",
            "\u001b[43m96 \u001b[0mFAVOR TASTE RESTAURANT\n",
            "\u001b[43m1 \u001b[0mHOTEL BROOKLYN BRIDGE\n",
            "\u001b[43m652 \u001b[0mLIN'S GARDEN\n",
            "\u001b[43m4 \u001b[0mCHARLES RIB PRIME RIB\n",
            "\u001b[43m67 \u001b[0mCIAO\n",
            "\u001b[43m69 \u001b[0mLEONARD STREET\n",
            "\u001b[43m1 \u001b[0mHOTEL EMPLOYEE DINING KITCHEN #36\n",
            "\u001b[43m108 \u001b[0mFOOD DRIED HOT POT\n",
            "\u001b[43m108 \u001b[0mDOUBLE CHINESE RESTAURANT\n",
            "\u001b[43m39 \u001b[0mKINGS\n",
            "\u001b[43m375 \u001b[0mTHRICE COOKED FRIES\n",
            "\u001b[43m5 \u001b[0mSTAR BANQUET\n",
            "\u001b[43m88 \u001b[0mCANTEEN\n",
            "\u001b[43m101 \u001b[0mWILSON BAR\n",
            "\u001b[43m301 \u001b[0mCHINESE RESTAURANT\n",
            "\u001b[43m15 \u001b[0mSTORIES\n",
            "\u001b[43m290 \u001b[0mWILD BAR\n",
            "\u001b[43m129 \u001b[0mGOURMET DELI & GROCERY\n",
            "\u001b[43m99 \u001b[0mCENTS HOT PIZZA\n",
            "\u001b[43m72 \u001b[0mCIBAO RESTAURANT\n",
            "\u001b[43m876 \u001b[0mCROWN\n",
            "\u001b[43m141 \u001b[0mEL KUCHO MEXICAN RESTAURANT\n",
            "\u001b[43m82 \u001b[0mSTANTON\n",
            "\u001b[43m10 \u001b[0m02 LOUNGE AND RESTAURANT\n",
            "\u001b[43m4 \u001b[0mHEALTHY MINDS\n",
            "\u001b[43m22 \u001b[0mTHAI CUISINE\n",
            "\u001b[43m146 \u001b[0mNO. 1 YUMMY TACO\n",
            "\u001b[43m168 \u001b[0mKIM WEI KITCHEN\n",
            "\u001b[43m561 \u001b[0mDELI AND GROCERY\n",
            "\u001b[43m99 \u001b[0mCENT TASTY & FRESH PIZZA\n",
            "\u001b[43m99 \u001b[0mCENTS FRESH & HOT PIZZA\n",
            "\u001b[43m718 \u001b[0mBISTRO\n",
            "\u001b[43m3 \u001b[0mD'S DELIGHT RESTAURANT & BAKERY\n",
            "\u001b[43m787 \u001b[0mCOFFEE\n",
            "\u001b[43m99 \u001b[0mCENTS SUPREME PIZZA\n",
            "\u001b[43m99 \u001b[0mCENTS FRESH PIZZA & DELI\n",
            "\u001b[43m5 \u001b[0mDE MAYO RESTAURANT\n",
            "\u001b[43m88 \u001b[0mCHINESE RESTAURANT\n",
            "\u001b[43m456 \u001b[0mNEW SHANGHAI RESTAURANT\n",
            "\u001b[43m88 \u001b[0mWEIJIA\n",
            "\u001b[43m2522 \u001b[0mMOMBAR\n",
            "\u001b[43m39 \u001b[0mTACO HOUSE\n",
            "\u001b[43m77 \u001b[0mBURGER\n",
            "\u001b[43m123 \u001b[0mBURGER SHOT BEER\n",
            "\u001b[43m3 \u001b[0mCOFFEE\n",
            "\u001b[43m124 \u001b[0mCAFE\n",
            "\u001b[43m789 \u001b[0mCOCINA LATINA RESTAURANT INC.\n",
            "\u001b[43m15 \u001b[0mFLAVORS\n",
            "\u001b[43m272 \u001b[0mUPTOWN PIZZA\n",
            "\u001b[43m1982 \u001b[0mCOFFEE ROASTERS\n",
            "\u001b[43m900 \u001b[0mDU CHUAN GONG RESTAURANT\n",
            "\u001b[43m220 \u001b[0mCENTRAL PARK SOUTH\n",
            "\u001b[43m698 \u001b[0mCAFE\n",
            "\u001b[43m2 \u001b[0mIN 1 RESTAURANT\n",
            "\u001b[43m3 \u001b[0mLUIGI'S PIZZA\n",
            "\u001b[43m251 \u001b[0mGINZA SUSHI\n",
            "\u001b[43m787 \u001b[0mCOFFEE ROASTERS\n",
            "\u001b[43m83 \u001b[0mASIAN\n",
            "\u001b[43m65 \u001b[0mMARKET PLACE\n",
            "\u001b[43m99 \u001b[0mCENTS UTICA HOT PIZZA\n",
            "\u001b[43m36 \u001b[0mCAFE CORP\n",
            "\u001b[43m99 \u001b[0mCENTS FRESH PIZZA\n",
            "\u001b[43m99 \u001b[0mCENT FRESH PIZZA\n",
            "\u001b[43m99 \u001b[0mCENT TASTY PIZZA\n",
            "\u001b[43m277 \u001b[0mPARK AVENUE CAFE'\n",
            "\u001b[43m5 \u001b[0mSTAR CHEESE STEAK AND PIZZA\n",
            "\u001b[43m77 \u001b[0mWEST BISTRO\n",
            "\u001b[43m99 \u001b[0mCENTS FRESH PIZZA & HOT DOG\n",
            "\u001b[43m4 \u001b[0mBOY 99 CENT PIZZA\n"
          ]
        }
      ],
      "source": [
        "grep('^[0-9]+ ', uniquenames)"
      ]
    },
    {
      "cell_type": "markdown",
      "metadata": {
        "id": "aPhxbLZEHCyC"
      },
      "source": [
        "Find all restaurants that start with a letter, followed by one or more digits, followed by a space."
      ]
    },
    {
      "cell_type": "code",
      "execution_count": 23,
      "metadata": {
        "id": "U2m5lJJhHCyD",
        "outputId": "48f93833-21cc-476f-b002-7d02ee822003",
        "colab": {
          "base_uri": "https://localhost:8080/"
        }
      },
      "outputs": [
        {
          "output_type": "stream",
          "name": "stdout",
          "text": [
            "\u001b[43mB66 \u001b[0mCLUB\n",
            "\u001b[43mB2 \u001b[0mHARLEM\n",
            "\u001b[43mA1 \u001b[0mJAMAICA BREEZE\n",
            "\u001b[43mO2 \u001b[0mK-BBQ\n"
          ]
        }
      ],
      "source": [
        "grep('^[A-Z][0-9]+ ', uniquenames)"
      ]
    },
    {
      "cell_type": "code",
      "execution_count": 24,
      "metadata": {
        "id": "rBNgXNEqHCyD"
      },
      "outputs": [],
      "source": [
        "# Find all restaurants\n",
        "# Beggining with one or more letters // ^[A-Z]+\n",
        "# followed by one or more digits // [0-9]+\n",
        "# Followed by any number of charaters // .*\n",
        "# and ending with BAR  // BAR$\n",
        "grep('^[A-Z]+[0-9]+.*BAR$', uniquenames)"
      ]
    },
    {
      "cell_type": "markdown",
      "metadata": {
        "id": "OxijgHVgHCyD"
      },
      "source": [
        "Find all restaurants that start with the word STARBUCKS, followed by any number of characters, and then have a digit."
      ]
    },
    {
      "cell_type": "code",
      "execution_count": 25,
      "metadata": {
        "id": "r_XGS5JeHCyD",
        "outputId": "52348e94-d7fc-44e7-8606-9eb5edcde849",
        "colab": {
          "base_uri": "https://localhost:8080/"
        }
      },
      "outputs": [
        {
          "output_type": "stream",
          "name": "stdout",
          "text": [
            "\u001b[43mSTARBUCKS #847\u001b[0m\n",
            "\u001b[43mSTARBUCKS #7277\u001b[0m\n",
            "\u001b[43mSTARBUCKS COFFEE #7358\u001b[0m\n",
            "\u001b[43mSTARBUCKS #7378\u001b[0m\n",
            "\u001b[43mSTARBUCKS-ENTRANCE 11 WEST 33\u001b[0mRD ST\n",
            "\u001b[43mSTARBUCKS COFFEE # 26528\u001b[0m\n",
            "\u001b[43mSTARBUCKS COFFEE #22716\u001b[0m\n",
            "\u001b[43mSTARBUCKS COFFEE #23591\u001b[0m\n",
            "\u001b[43mSTARBUCKS COFFEE #29856\u001b[0m\n",
            "\u001b[43mSTARBUCKS COFFEE COMPANY #29897\u001b[0m\n",
            "\u001b[43mSTARBUCKS COFFEE #48170\u001b[0m\n",
            "\u001b[43mSTARBUCKS (STORE #50483\u001b[0m)\n",
            "\u001b[43mSTARBUCKS COFFEE #49952\u001b[0m\n",
            "\u001b[43mSTARBUCKS #50611\u001b[0m\n",
            "\u001b[43mSTARBUCKS COFFEE # 49196\u001b[0m\n",
            "\u001b[43mSTARBUCKS #48990\u001b[0m\n",
            "\u001b[43mSTARBUCKS COFFEE #49550\u001b[0m\n",
            "\u001b[43mSTARBUCKS COFFEE #50622\u001b[0m\n",
            "\u001b[43mSTARBUCKS COFFEE #29719\u001b[0m\n",
            "\u001b[43mSTARBUCKS COFFEE #53473\u001b[0m\n",
            "\u001b[43mSTARBUCKS COFFEE #49450\u001b[0m\n",
            "\u001b[43mSTARBUCKS #54446\u001b[0m\n",
            "\u001b[43mSTARBUCKS COFFEE #823\u001b[0m\n",
            "\u001b[43mSTARBUCKS COFFE #55085\u001b[0m\n",
            "\u001b[43mSTARBUCKS COFFEE#54771\u001b[0m\n",
            "\u001b[43mSTARBUCKS COFFEE #52530\u001b[0m\n",
            "\u001b[43mSTARBUCKS COFFEE #58310\u001b[0m\n",
            "\u001b[43mSTARBUCKS COFFEE #56451\u001b[0m\n",
            "\u001b[43mSTARBUCKS COFFEE #57601\u001b[0m\n",
            "\u001b[43mSTARBUCKS COFFEE #678\u001b[0m HUDSON\n",
            "\u001b[43mSTARBUCKS COFFEE #14090\u001b[0m\n"
          ]
        }
      ],
      "source": [
        "grep('STARBUCKS.*[0-9]+', uniquenames)"
      ]
    },
    {
      "cell_type": "markdown",
      "metadata": {
        "id": "zBFb8vAhHCyD"
      },
      "source": [
        "#### Grouping ()\n",
        "\n",
        "In the group operator, when a group of characters is enclosed in parentheses, the next operator applies to the whole group, not only the previous characters. \n",
        "\n",
        "For example: Find all the restaurants that start (`^`) with 8 or more repetitions (`{8,}`) of the `\\w+ ` pattern (alphanumeric characters followed by space):"
      ]
    },
    {
      "cell_type": "code",
      "execution_count": 26,
      "metadata": {
        "id": "qdkrVhzzHCyD",
        "outputId": "2640b0c0-5bad-447a-e871-3cbf2764268b",
        "colab": {
          "base_uri": "https://localhost:8080/"
        }
      },
      "outputs": [
        {
          "output_type": "stream",
          "name": "stdout",
          "text": [
            "\u001b[43mTEST TEST TEST TEST TEST TEST TEST TEST TEST TEST TEST TEST TEST TEST TEST TEST TEST \u001b[0mTEST\n",
            "\u001b[43mWORLD ICE CAFE AT FLUSHING MEADOWS CORONA PARK AQUATIC \u001b[0mCENTER\n",
            "\u001b[43mTAKE AWAY CAFE IN REBEKAH REHAB EXTENDED CARE \u001b[0mCENTER\n",
            "\u001b[43mBARCLAYS UPPER SUITE STOLI BAR AND STORAGE ROOM \u001b[0m5C29.03\n",
            "\u001b[43mMARLIN BAR AT TOMMY BAHAMA AND TOMMY BAHAMA RESTAURANT AND \u001b[0mB\n",
            "\u001b[43mHOMEWOOD SUITES BY HILTON NEW YORK MIDTOWN MANHATTAN TIMES \u001b[0mSQUARE\n"
          ]
        }
      ],
      "source": [
        "grep(r'^(\\w+ ){8,}', uniquenames)"
      ]
    },
    {
      "cell_type": "markdown",
      "metadata": {
        "id": "DmbMqJsUHCyD"
      },
      "source": [
        "#### In class exercices\n",
        "\n",
        "What do these regular expressions match?\n",
        "\n",
        "* b (cd)*\n",
        "* h (d)+\n",
        "* j? k+\n",
        "* (cd){2,5}\n",
        "* o(pre){3,}\n",
        "* Panos|Ipeirotis\n",
        "\n",
        "#### In class exercises (advanced)\n",
        "\n",
        "Write down the regular expressions for the following:\n",
        "\n",
        "* A telephone number (e.g, 212-555-0921)\n",
        "* A zip+4 code (e.g, 10012-1809)\n",
        "* For matching a float number (e.g., +12.34 or -1.457 or 1023.4568)\n",
        "* Dollar amount with optional cents  (e.g. \\$0.33, \\$784)\n",
        "* Time of Day (e.g. 12:15am, 3:34pm)\n",
        "* Match urls  only of the form http://www.alphanumeric.com\n",
        "* Match an email of the form username@domain (assume  that the domain might be in the form alphanumeric.alphanumeric, or alphanumeric.alphanumeric.alphanumeric)   \n",
        "\n"
      ]
    },
    {
      "cell_type": "code",
      "execution_count": 26,
      "metadata": {
        "id": "WihCa6PYHCyE"
      },
      "outputs": [],
      "source": []
    },
    {
      "cell_type": "markdown",
      "metadata": {
        "id": "Odh-sR_YHCyE"
      },
      "source": [
        "### Group references\n",
        "\n",
        "Sometimes it is handy to be able to refer to a match that was made earlier in a regex. This is done with **backreferences**, which refer to groups. `\\k` is the backreference specifier, where `k` is a number, which refers to the `k`-th regular expression *that was enclosed in parenthesis*.\n",
        "\n",
        "For example, find if the first character(s) of a line are the same as the last:\n"
      ]
    },
    {
      "cell_type": "code",
      "execution_count": 27,
      "metadata": {
        "id": "oAo4pbBFHCyE",
        "outputId": "4c90c5db-58ca-4e9a-cb8d-d516168bdb63",
        "colab": {
          "base_uri": "https://localhost:8080/"
        }
      },
      "outputs": [
        {
          "output_type": "stream",
          "name": "stdout",
          "text": [
            "\u001b[43mTEST TEST TEST TEST TEST TEST TEST TEST TEST TEST TEST TEST TEST TEST TEST TEST TEST TEST\u001b[0m\n",
            "\u001b[43mZOO BREWS-BRONX ZOO\u001b[0m\n",
            "\u001b[43mARRIBA ARRIBA\u001b[0m\n",
            "\u001b[43mPIO PIO\u001b[0m\n",
            "\u001b[43mBARRACUDA BAR\u001b[0m\n",
            "\u001b[43mKENNEDY FRIED CHICKEN\u001b[0m\n",
            "\u001b[43mHARLEM BAR-B-Q, NABE HARLEM\u001b[0m\n",
            "\u001b[43mSEBA SEBA\u001b[0m\n",
            "\u001b[43mRUBY'S & LITTLE RUBY'S\u001b[0m\n",
            "\u001b[43mETCETERA ETCETERA\u001b[0m\n",
            "\u001b[43mBARCELONA BAR\u001b[0m\n",
            "\u001b[43mLAS RAMBLAS\u001b[0m\n",
            "\u001b[43mSEBA-SEBA\u001b[0m\n",
            "\u001b[43mTETE-A-TETE\u001b[0m\n",
            "\u001b[43mANTONIO'S RESTAURANT\u001b[0m\n",
            "\u001b[43mLOS 3 POTRILLOS\u001b[0m\n",
            "\u001b[43mPIO-PIO\u001b[0m\n",
            "\u001b[43mONE AND ONE\u001b[0m\n",
            "\u001b[43mCHOP CHOP\u001b[0m\n",
            "\u001b[43mBOULUD SUD & EPICERIE BOULUD\u001b[0m\n",
            "\u001b[43mCHEEBURGER CHEEBURGER\u001b[0m\n",
            "\u001b[43mGONZALEZ Y GONZALEZ\u001b[0m\n",
            "\u001b[43mSHIMBASHI SUSHI\u001b[0m\n",
            "\u001b[43mBARCLAYS NORTH SUITE STOLI BAR\u001b[0m\n",
            "\u001b[43mBARCLAYS 40, 40 CLUB BAR\u001b[0m\n",
            "\u001b[43mLOS TRES POTRILLOS\u001b[0m\n",
            "\u001b[43mYUMMY YUMMY\u001b[0m\n",
            "\u001b[43mBERON BERON\u001b[0m\n",
            "\u001b[43mPIL PIL\u001b[0m\n",
            "\u001b[43mVIS-A-VIS\u001b[0m\n",
            "\u001b[43mCHEN'S KITCHEN\u001b[0m\n",
            "\u001b[43mBARRY'S BOOTCAMP FUEL BAR\u001b[0m\n",
            "\u001b[43mMANGO MANGO\u001b[0m\n",
            "\u001b[43mTUK TUK\u001b[0m\n",
            "\u001b[43mCHA CHA MATCHA\u001b[0m\n",
            "\u001b[43mYIA YIA\u001b[0m\n",
            "\u001b[43mKENNEDY CHICKEN\u001b[0m\n",
            "\u001b[43mWIKIWIKI\u001b[0m\n",
            "\u001b[43mBEAN N BEAN\u001b[0m\n",
            "\u001b[43mPANADERIA IXTAPAN\u001b[0m\n",
            "\u001b[43mBEAN & BEAN\u001b[0m\n",
            "\u001b[43mMAKIMAKI\u001b[0m\n",
            "\u001b[43mRICHIE RICH\u001b[0m\n",
            "\u001b[43mTOFU TOFU\u001b[0m\n",
            "\u001b[43mCITY ISLAND IN THE CITY\u001b[0m\n",
            "\u001b[43mSANSOOKAPSAN\u001b[0m\n",
            "\u001b[43mBAAR BAAR\u001b[0m\n",
            "\u001b[43mPERI PERI\u001b[0m\n",
            "\u001b[43mCACHAPA CACHAPA\u001b[0m\n",
            "\u001b[43mKENNEDY'S FRIED CHICKEN\u001b[0m\n",
            "\u001b[43mTETE A TETE\u001b[0m\n",
            "\u001b[43mSUSHI SUSHI\u001b[0m\n",
            "\u001b[43mLOS MARINILLOS\u001b[0m\n",
            "\u001b[43mCHEN'S EXPRESS KITCHEN\u001b[0m\n",
            "\u001b[43mSHIMA SUSHI\u001b[0m\n",
            "\u001b[43mSUNDAY TO SUNDAY\u001b[0m\n",
            "\u001b[43mTOMO TOMO\u001b[0m\n"
          ]
        }
      ],
      "source": [
        "grep(r'^(.{3,}).*\\1$', uniquenames)"
      ]
    },
    {
      "cell_type": "markdown",
      "metadata": {
        "id": "WCnZRrL7HCyE"
      },
      "source": [
        "Or find all the restaurant names that the first 5 characters (or more) are identical to the last characters."
      ]
    },
    {
      "cell_type": "code",
      "execution_count": 28,
      "metadata": {
        "id": "rSZN8zhyHCyE",
        "outputId": "277b0a1d-76dd-4607-ed32-ab0d3101e966",
        "colab": {
          "base_uri": "https://localhost:8080/"
        }
      },
      "outputs": [
        {
          "output_type": "stream",
          "name": "stdout",
          "text": [
            "\u001b[43mNONO\u001b[0m\n",
            "\u001b[43mMIMI\u001b[0m\n",
            "\u001b[43mMEME\u001b[0m\n",
            "\u001b[43mWIKIWIKI\u001b[0m\n",
            "\u001b[43mMAKIMAKI\u001b[0m\n",
            "\u001b[43mCOCO\u001b[0m\n",
            "\u001b[43mMAMA\u001b[0m\n",
            "\u001b[43mZIZI\u001b[0m\n"
          ]
        }
      ],
      "source": [
        "grep(r'^([A-Z]+)\\1$', uniquenames)"
      ]
    },
    {
      "cell_type": "markdown",
      "source": [
        "Or find the restaurants where the first character is the same as the last, and the second character is the same as the penultimate character."
      ],
      "metadata": {
        "id": "nsjUra4Cw_yP"
      }
    },
    {
      "cell_type": "code",
      "source": [
        "grep(r'^(.)(.).*\\2\\1$', uniquenames)"
      ],
      "metadata": {
        "id": "Ob3O44H9wpY9"
      },
      "execution_count": 35,
      "outputs": []
    },
    {
      "cell_type": "markdown",
      "metadata": {
        "id": "gGDgOGKlHCyE"
      },
      "source": [
        "Find all names that have three consecutive same digits"
      ]
    },
    {
      "cell_type": "code",
      "execution_count": 29,
      "metadata": {
        "id": "6iEmF2F2HCyE",
        "outputId": "0e75f6e5-d784-4f03-8bbc-3a5576de2389",
        "colab": {
          "base_uri": "https://localhost:8080/"
        }
      },
      "outputs": [
        {
          "output_type": "stream",
          "name": "stdout",
          "text": [
            "GALLAGHER'S 2\u001b[43m000\u001b[0m\n",
            "LEGENDS \u001b[43m000\u001b[0m\n",
            "\u001b[43m888\u001b[0m KITCHEN\n",
            "\u001b[43m333\u001b[0m LOUNGE\n",
            "MEXICO 2\u001b[43m000\u001b[0m\n",
            "GOOD TASTE \u001b[43m666\u001b[0m\n",
            "CARVEL # 10\u001b[43m222\u001b[0m4\n",
            "STARBUCKS #5\u001b[43m444\u001b[0m6\n",
            "NEW HONG KONG 3\u001b[43m888\u001b[0m INC\n",
            "SHAXIAN \u001b[43m888\u001b[0m\n",
            "CHECKERS STORE #\u001b[43m333\u001b[0m2\n",
            "CAFE 2\u001b[43m000\u001b[0m\n"
          ]
        }
      ],
      "source": [
        "grep(r'([0-9])\\1\\1', uniquenames)"
      ]
    },
    {
      "cell_type": "markdown",
      "metadata": {
        "id": "lFpID4TdHCyF"
      },
      "source": [
        "As we are going to see, these backreferences will also be of tremendous use for extraction purposes."
      ]
    },
    {
      "cell_type": "code",
      "execution_count": 30,
      "metadata": {
        "id": "_I3aPTraHCyF",
        "outputId": "11ed98be-9db5-4fe0-e5ef-7335aaa189b6",
        "colab": {
          "base_uri": "https://localhost:8080/"
        }
      },
      "outputs": [
        {
          "output_type": "stream",
          "name": "stdout",
          "text": [
            "\u001b[43mDOUBLE DOWN\u001b[0m SALOON\n",
            "\u001b[43mDOUBLE DRAGON\u001b[0m RESTAURANT\n",
            "\u001b[43mDOUBLE WINDSOR\u001b[0m\n",
            "NEW \u001b[43mDOUBLE CHINESE\u001b[0m RESTAURANT\n",
            "\u001b[43mDOUBLE RAINBOW\u001b[0m\n",
            "BEST \u001b[43mDOUBLE DRAGON\u001b[0m RESTAURANT\n",
            "\u001b[43mDOUBLE DUTCH\u001b[0m ESPRESSO\n",
            "\u001b[43mDOUBLE TOP\u001b[0m CHINA & TORTILLA TACO\n",
            "\u001b[43mDOUBLE DRAGON\u001b[0m\n",
            "\u001b[43mDOUBLE DRAGON\u001b[0m 88\n",
            "\u001b[43mDOUBLE ZERO\u001b[0m\n",
            "108 \u001b[43mDOUBLE CHINESE\u001b[0m RESTAURANT\n",
            "\u001b[43mDOUBLE BEN\u001b[0m CAFE\n",
            "\u001b[43mDOUBLE CRISPY\u001b[0m BAKERY I\n",
            "A & A BAKE AND \u001b[43mDOUBLE SHOP\u001b[0m\n",
            "\u001b[43mDOUBLE RED\u001b[0m INC\n",
            "\u001b[43mDOUBLE TWISTER\u001b[0m ICE CREAM AND COFFEE SHOP\n",
            "NEW \u001b[43mDOUBLE DRAGON\u001b[0m\n"
          ]
        }
      ],
      "source": [
        "#### Naming groups\n",
        "# The group that follows the term \"DOUBLE\" is named \"doublewhat\" and we can refer to it as \\doublewhat\n",
        "grep(r'DOUBLE (?P<doublewhat>\\w+)', uniquenames)\n"
      ]
    },
    {
      "cell_type": "markdown",
      "metadata": {
        "id": "j-qCzvP5HCyF"
      },
      "source": [
        "#### In class exercise (advanced)\n",
        "\n",
        "Say that you have a file with telephone numbers written in a variety of forms: \n",
        "\n",
        "* 679-397-5255\n",
        "* 2126660921\n",
        "* 212-998-0902\n",
        "* 888-888-2222\n",
        "* 800-555-1211\n",
        "* 800 555 1212\n",
        "* 800.555.1213\n",
        "* (800) 555-1214\n",
        "* 1-800-555-1215\n",
        "* 1(800)555-1216\n",
        "* 800-555-1212-1234\n",
        "* 800-555-1212x1234\n",
        "* 800-555-1212 ext. 1234\n",
        "* work 1-(800) 555.1212 #1234\n",
        "\n",
        "The task is to standardize everything in the form (xxx)-xxx-xxx.\n"
      ]
    },
    {
      "cell_type": "markdown",
      "metadata": {
        "id": "P6XJdoHfHCyF"
      },
      "source": [
        "To make the process interactive, go to http://regex101.com/?#python, copy and paste the numbers above in the textarea called \"Text String\", and then try to write the regular expression above. (As a side note, the website provides excellent explanations about the meaning of the regular expression that you write down.) Remember to put the `\"g\"` character in the small textfield next to the regex: that `g` means \"find globally\" the regex, not just the first occurence."
      ]
    },
    {
      "cell_type": "markdown",
      "source": [
        "###  Exercise 2\n",
        "\n",
        "Retrieve news articles using the NewsAPI. Identify articles that mention a dollar amount (i.e., the `$` symbol, followed by numbers)"
      ],
      "metadata": {
        "id": "WHhyHJ_Zxec2"
      }
    },
    {
      "cell_type": "code",
      "source": [],
      "metadata": {
        "id": "8YzFyVitxv2n"
      },
      "execution_count": null,
      "outputs": []
    },
    {
      "cell_type": "markdown",
      "metadata": {
        "id": "B9g2tymDHCyF"
      },
      "source": [
        "### Additional Regex Resources\n",
        "\n",
        "* [Visual Regular Expression Tester](http://www.debuggex.com/?flavor=pcre)\n",
        "* [Test Python Regular Expressions Online](http://www.pyregex.com/)\n",
        "* [Regular Expressions 101](http://regex101.com/?)\n",
        "* [Python's re Library Official Documentation](http://docs.python.org/2/library/re.html)\n",
        "* [Regular expression reference at W3schools](http://www.w3schools.com/jsref/jsref_obj_regexp.asp)\n",
        "* [Parsing phone numbers using Python and regular expressions](http://www.diveintopython.net/regular_expressions/phone_numbers.html)"
      ]
    },
    {
      "cell_type": "markdown",
      "metadata": {
        "id": "vot8iqWcHCyG"
      },
      "source": [
        "### More Advanced Regular Expressions\n",
        "\n",
        "And the ones below get a little bit more advanced:\n",
        "\n",
        "* `*?`, `+?`: ordinarily, `*`, `+` and `?` are **greedy**. This means they are matching the longest possible string that satisfies the regular expression. Adding the `?` to any of these makes it non-greedy, instead matching the shortest possible expression. \n",
        "* `(?: )`: A non-capturing group. This works just as `()`, but doesn’t hold on to the matched contents.\n",
        "* `(?<=x)`: Matches any string that is preceded by x (an arbitrary regular expression).\n"
      ]
    },
    {
      "cell_type": "code",
      "execution_count": 30,
      "metadata": {
        "id": "VKe8n914HCyG"
      },
      "outputs": [],
      "source": []
    }
  ],
  "metadata": {
    "kernelspec": {
      "display_name": "Python 3",
      "language": "python",
      "name": "python3"
    },
    "language_info": {
      "codemirror_mode": {
        "name": "ipython",
        "version": 3
      },
      "file_extension": ".py",
      "mimetype": "text/x-python",
      "name": "python",
      "nbconvert_exporter": "python",
      "pygments_lexer": "ipython3",
      "version": "3.8.5"
    },
    "colab": {
      "provenance": [],
      "include_colab_link": true
    }
  },
  "nbformat": 4,
  "nbformat_minor": 0
}