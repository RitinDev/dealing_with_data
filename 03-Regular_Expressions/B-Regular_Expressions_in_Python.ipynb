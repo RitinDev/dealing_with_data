{
  "cells": [
    {
      "cell_type": "markdown",
      "metadata": {
        "id": "view-in-github",
        "colab_type": "text"
      },
      "source": [
        "<a href=\"https://colab.research.google.com/github/ipeirotis/dealing_with_data/blob/master/03-Regular_Expressions/B-Regular_Expressions_in_Python.ipynb\" target=\"_parent\"><img src=\"https://colab.research.google.com/assets/colab-badge.svg\" alt=\"Open In Colab\"/></a>"
      ]
    },
    {
      "cell_type": "markdown",
      "metadata": {
        "id": "jp0XUs048PkB"
      },
      "source": [
        "\n",
        "\n",
        "\n",
        "\n",
        "\n",
        "\n",
        "\n",
        "Regular Expressions\n",
        "-------------------\n",
        "\n",
        "This document will present basic regular expression syntax and cover common use cases for regular expressions: pattern matching, filtering, data extraction, and string replacement. \n",
        "\n",
        "We will present examples using python’s standard [re regular expression library](http://docs.python.org/library/re.html).\n",
        "\n",
        "You may also want to look at this [*excellent* tutorial from Google](https://developers.google.com/edu/python/regular-expressions).\n"
      ]
    },
    {
      "cell_type": "markdown",
      "metadata": {
        "id": "Oz_QFMSO8PkI"
      },
      "source": [
        "### Searching strings using regexes"
      ]
    },
    {
      "cell_type": "code",
      "execution_count": null,
      "metadata": {
        "id": "v67rDwxx8PkJ"
      },
      "outputs": [],
      "source": [
        "# first import the library\n",
        "import re"
      ]
    },
    {
      "cell_type": "code",
      "execution_count": null,
      "metadata": {
        "id": "1Z75KNHo8PkL"
      },
      "outputs": [],
      "source": [
        "# Regular expressions are compiled into pattern objects\n",
        "regex = re.compile(r'D.*Data')\n",
        "text = \"Panos Ipeirotis, Dealing with Data, 212-998-0803, panos@nyu.edu\"\n",
        "matches = regex.finditer(text)\n",
        "for match in matches:\n",
        "    print(match.group())"
      ]
    },
    {
      "cell_type": "code",
      "execution_count": null,
      "metadata": {
        "id": "_TPY9wnq8PkL"
      },
      "outputs": [],
      "source": [
        "# We will now try to match an email address. What is wrong in our regex? \n",
        "# Can you fix it? Try to use \\w as a shorthand\n",
        "regex = re.compile(r'\\w+@\\w+')\n",
        "text = \"My email is adam.brandenburger@stern.nyu.edu. You can email me.\"\n",
        "\n",
        "matches = regex.finditer(text)\n",
        "for match in matches:\n",
        "    print(match.group())"
      ]
    },
    {
      "cell_type": "code",
      "execution_count": null,
      "metadata": {
        "id": "xLpqucqY8PkM"
      },
      "outputs": [],
      "source": [
        "# We are looking for binary numbers\n",
        "regex = re.compile(r'[10]+')\n",
        "text = \"asddf1101110100011abd1111panos0000\"\n",
        "matches = regex.finditer(text)\n",
        "for match in matches:\n",
        "    print(match.group())"
      ]
    },
    {
      "cell_type": "code",
      "execution_count": null,
      "metadata": {
        "id": "spmo0LWI8PkN"
      },
      "outputs": [],
      "source": [
        "# We look for money figures, either integers, or with 1 or 2 decimal\n",
        "# digits\n",
        "regex = re.compile(r'\\$\\d+(\\.\\d\\d?)?')\n",
        "text = '$1200.23 is the price today. $1200 was the price yesterday'\n",
        "matches = regex.finditer(text)\n",
        "for match in matches:\n",
        "    print(match.group())"
      ]
    },
    {
      "cell_type": "code",
      "execution_count": null,
      "metadata": {
        "id": "eTCeQQkY8PkO"
      },
      "outputs": [],
      "source": [
        "# This code is going to generate no matches\n",
        "regex = re.compile(r'Ra*nd.*m R[egex]')\n",
        "text = \"Panos Ipeirotis, Dealing with Data, 212-998-0803, panos@nyu.edu\"\n",
        "matches = regex.finditer(text)\n",
        "for match in matches:\n",
        "    print(match.group())"
      ]
    },
    {
      "cell_type": "markdown",
      "metadata": {
        "id": "A7E7U6JK8PkO"
      },
      "source": [
        "### Flags for regexes: Case-sentitivity and multiline searches"
      ]
    },
    {
      "cell_type": "markdown",
      "metadata": {
        "id": "3khwpaNp8PkP"
      },
      "source": [
        "Regular expressions are typically case-sensitive. "
      ]
    },
    {
      "cell_type": "code",
      "execution_count": null,
      "metadata": {
        "id": "SFatMd__8PkP"
      },
      "outputs": [],
      "source": [
        "# Regular expressions are compiled into pattern objects\n",
        "# Regular expressions are case-sensitive\n",
        "regex = re.compile(r'P.*IS')\n",
        "text = \"Panos Ipeirotis, Dealing with Data, 212-998-0803, panos@nyu.edu\"\n",
        "matches = regex.finditer(text)\n",
        "for match in matches:\n",
        "    print(match.group())"
      ]
    },
    {
      "cell_type": "markdown",
      "metadata": {
        "id": "AXOZhXIm8PkQ"
      },
      "source": [
        "But we can specify that they are case-insensitive, using the flag re.IGNORECASE"
      ]
    },
    {
      "cell_type": "code",
      "execution_count": null,
      "metadata": {
        "id": "Y2MtMcKD8PkQ"
      },
      "outputs": [],
      "source": [
        "# Unless we specify that they are case-insensitive, using the flag re.IGNORECASE\n",
        "regex = re.compile('P.*IS',re.IGNORECASE)\n",
        "text = \"Panos Ipeirotis, Dealing with Data, 212-998-0803, panos@nyu.edu\"\n",
        "matches = regex.finditer(text)\n",
        "for match in matches:\n",
        "    print(match.group())"
      ]
    },
    {
      "cell_type": "markdown",
      "metadata": {
        "id": "LmkUj5Ut8PkR"
      },
      "source": [
        " For a full list of available flags, please see the [re documentation](http://docs.python.org/library/re.html)."
      ]
    },
    {
      "cell_type": "markdown",
      "metadata": {
        "id": "omUvq-B88PkR"
      },
      "source": [
        "### Multiple matches in a string"
      ]
    },
    {
      "cell_type": "markdown",
      "metadata": {
        "id": "ymAk-hdf8PkR"
      },
      "source": [
        "The search command goes through the string to find the longest expression that matches the regex\n",
        "and once it finds the first match, it stops. For example, we will not get the second phone number"
      ]
    },
    {
      "cell_type": "code",
      "execution_count": null,
      "metadata": {
        "id": "OAa1z8B78PkS"
      },
      "outputs": [],
      "source": [
        "# The search command goes through the string to find the longest expression that matches the regex\n",
        "# Then it continues with the second one\n",
        "regex = re.compile('\\d{3}-\\d{3}-\\d{4}')\n",
        "text = '''\n",
        "Panos Ipeirotis, Dealing with Data, \n",
        "212-998-0803, panos@nyu.edu, 646-555-5555\n",
        "'''\n",
        "matches = regex.finditer(text)\n",
        "for i, match in enumerate(matches):\n",
        "    print(i+1, \"==>\", match.group())"
      ]
    },
    {
      "cell_type": "markdown",
      "metadata": {
        "id": "KkCvWNtK8PkS"
      },
      "source": [
        "If we want to find multiple matches within the string, then we use the `finditer` command that returns a collection of `MatchObject` items. (For comparison, `search` returns just the first `MatchObject` item.)"
      ]
    },
    {
      "cell_type": "code",
      "execution_count": null,
      "metadata": {
        "id": "7hu2_kQO8PkT"
      },
      "outputs": [],
      "source": [
        "# The matches command returns an iterator containing \"match\" objects, which have a variety of attributes\n",
        "regex = re.compile(r'\\d{3}-\\d{3}-\\d{4}')\n",
        "text = \"Panos Ipeirotis, Dealing with Data, 212-998-0803, panos@nyu.edu, 646-555-5555\"\n",
        "matches = regex.finditer(text)\n",
        "for m in matches:\n",
        "    print(\"Starts at:\", m.start(), \n",
        "    \"Ends at:\", m.end(),\n",
        "    \"Content:\", m.group())"
      ]
    },
    {
      "cell_type": "markdown",
      "metadata": {
        "id": "RQ64PNyW8PkU"
      },
      "source": [
        "### Extracting Data -- where regex start to get really cool\n",
        "\n",
        "#### Defining groups within regexes\n",
        "\n",
        "In addition to simple matching and filtering, many regular expressions implementations, including python’s re, provide a powerful mechanism for extracting meaningful data from raw text. Through capturing, those strings that satisfy a particular regular expression are extracted from the text being matched, and returned to the program processing the raw data. \n",
        "\n",
        "**The portion of regular expressions that should be captured is surrounded by parentheses, `\"( )\"`.**\n",
        "\n",
        "Then, provided the regular expression containing the capturing statement is satisfied, the result of the regular expression will contain a group of text matching patterns. This group method gets the results of the portions of the input text matched by the capturing statements in the regular expression. The matches are indexed from one-- to get the portion of the text matched by first capturing statement, you could query `result.group(1)`, the second parentheses will have its match stored in `result.group(2)`, etc. The value stored at `result.group(0)`, is the entire portion of the input string matched by the regular expression, not just the portion satisfying the capturing parentheses.\n",
        "\n",
        "As example of data extraction using capturing regular expressions, say we’re scanning some raw text for phone numbers that we wish to retain for later processing. We might try something like:"
      ]
    },
    {
      "cell_type": "code",
      "execution_count": null,
      "metadata": {
        "id": "x-wz0LNG8PkV"
      },
      "outputs": [],
      "source": [
        "# Find phone numbers: \n",
        "# Three digits \\d{3}\n",
        "# followed by zero or more non-digits \\D*\n",
        "# followed by three digits \\d{3}\n",
        "# followed by zero or more non-digits \\D*\n",
        "# followed by four digits \\d{4}\n",
        "\n",
        "# The re.VERBOSE flag at the end allows us to write the regex as a multiline string \n",
        "# and allows for comments (after the # character)\n",
        "# In this mode, any whitespace character is ignored, unless explicitly added as part\n",
        "# of a bracketed expression or when preceded by an unescaped backslash\n",
        "\n",
        "regex = re.compile(r\"\"\"(\\d{3}) # The first three digits / area code\n",
        "                       \\D*     # Followed by zero or more non-digits\n",
        "                       (\\d{3}) # The first three digits of the \"local\" part \n",
        "                       \\D*     # Followed by zero or more non-digits\n",
        "                       (\\d{4}) # The last four digits of the phone number\n",
        "                       \"\"\", re.VERBOSE)\n",
        "text = '''\n",
        "Panos Ipeirotis, Dealing with Data,\n",
        "tel: 212-998-0803\n",
        "email: panos@nyu.edu\n",
        "fax: 646-255-5555\n",
        "'''\n",
        "\n",
        "matches = regex.finditer(text)\n",
        "for match in matches:\n",
        "    print(match.group())\n",
        "    print(\"Formatted:\", match.group(1),\"-\", match.group(2), \"-\", match.group(3))\n",
        "    # print(\"Starts at:\", match.start())\n",
        "    # print(\"Ends at:\", match.end())\n",
        "    print(\"===========\")"
      ]
    },
    {
      "cell_type": "markdown",
      "metadata": {
        "id": "37shLwAD8PkV"
      },
      "source": [
        "Now we will try to extract and format all phone numbers that are part of a big file:"
      ]
    },
    {
      "cell_type": "code",
      "execution_count": null,
      "metadata": {
        "id": "-4K2Rj1A8PkW"
      },
      "outputs": [],
      "source": [
        "raw_text = \"\"\"\n",
        "512-234-5234\n",
        "foo\n",
        "bar\n",
        "124-512-5555\n",
        "biz\n",
        "125-555-5785\n",
        "679-397-5255\n",
        "2126660921\n",
        "212-998-0902\n",
        "888-888-2222\n",
        "801-555-1211\n",
        "802 555 1212\n",
        "803.555.1213\n",
        "(804) 555-1214\n",
        "1-805-555-1215\n",
        "1(806)555-1216\n",
        "807-555-1217-1234\n",
        "808-555-1218x1\n",
        "809-555-1219 ext. 1234\n",
        "work 1-(810) 555.1220 #1234\n",
        "\"\"\""
      ]
    },
    {
      "cell_type": "code",
      "execution_count": null,
      "metadata": {
        "id": "TfyWHZwg8PkW"
      },
      "outputs": [],
      "source": [
        "raw_text"
      ]
    },
    {
      "cell_type": "code",
      "execution_count": null,
      "metadata": {
        "id": "ALgfnMEd8PkX"
      },
      "outputs": [],
      "source": [
        "# Notice now that each part of the phone is included in parentheses\n",
        "# allowing us to grab individual part of the phone number\n",
        "regex = re.compile(r'([2-9]\\d{2})\\D*(\\d{3})\\D*(\\d{4})')\n",
        "matches = regex.finditer(raw_text)\n",
        "\n",
        "phones = list()\n",
        "for m in matches:\n",
        "    area_code = m.group(1)\n",
        "    first_three_digits = m.group(2)\n",
        "    last_four_digits =  m.group(3)\n",
        "    \n",
        "    phone = \"(\" + area_code + \")\" + first_three_digits + \"-\" + last_four_digits\n",
        "            \n",
        "    phones.append(phone)\n",
        "\n",
        "# Notice that our list does not include numbers with invalid area codes (e.g., 124, 125)\n",
        "phones"
      ]
    },
    {
      "cell_type": "markdown",
      "metadata": {
        "id": "KNF3yVzi8PkY"
      },
      "source": [
        "### String Replacement\n",
        "\n",
        "In addition to matching and extraction, regular expressions can be used to change data--especially unstructured text--in very powerful ways.  In particular, regex allow you to find specific patterns and then replace them with specified strings. \n",
        "\n",
        "As a data scientist, this is useful when trying to get data formated correctly as input to a specific system, such as when doing data cleanup.\n",
        "\n",
        "In python’s re library, the function used for replacement is `sub()` (think \"substitute\"). \n",
        "\n",
        "The pattern for invoking `sub()` is \n",
        "\n",
        "`re.sub(regex, replacement, text)`\n",
        "\n",
        "This will return a version of text where all instances of the regex have been substituted with replacement.\n",
        "\n",
        "Imagine we want to conceal all phone numbers in a document. We could use the following call to `sub()`:"
      ]
    },
    {
      "cell_type": "code",
      "execution_count": null,
      "metadata": {
        "id": "ysSA7AjM8PkZ"
      },
      "outputs": [],
      "source": [
        "raw_text = \"\"\"512-234-5234\n",
        "foo\n",
        "bar\n",
        "124-512-5555\n",
        "biz\n",
        "125-555-5785\n",
        "679-397-5255\n",
        "2126660921\n",
        "212-998-0902\n",
        "888-888-2222\n",
        "801-555-1211\n",
        "802 555 1212\n",
        "803.555.1213\n",
        "(804) 555-1214\n",
        "1-805-555-1215\n",
        "1(806)555-1216\n",
        "807-555-1217-1234\n",
        "808-555-1218x1234\n",
        "809-555-1219 ext. 1234\n",
        "work 1-(810) 555.1220 #1234\n",
        "\"\"\"\n",
        "\n",
        "regex = re.compile('([2-9]\\d{2})\\D*(\\d{3})\\D*(\\d{4})')\n",
        "\n",
        "newstring = re.sub(regex, \"XXX-XXX-XXXX\", raw_text)\n",
        "\n",
        "print(newstring)"
      ]
    },
    {
      "cell_type": "markdown",
      "metadata": {
        "id": "1yybWQ7i8PkZ"
      },
      "source": [
        "When performing substitution, matches found using the capturing mechanism are available to the replacement using `\\1`, `\\2`, and so on, as shortcuts to `group(1)`, `group(2)`, etc. \n",
        "\n",
        "In order to use this back-referencing capability, we need to tell the `sub()` mechanism to treat the replacement string as a regular expression. For instance, if we want to make sure all phone numbers are normalized and all area codes are surrounded by parentheses, we can use:"
      ]
    },
    {
      "cell_type": "code",
      "execution_count": null,
      "metadata": {
        "id": "xxydcOf08PkZ"
      },
      "outputs": [],
      "source": [
        "print(re.sub(regex, r\"(\\1)-\\2-\\3\", raw_text))"
      ]
    },
    {
      "cell_type": "markdown",
      "metadata": {
        "id": "5u9B_MVX8Pka"
      },
      "source": [
        "#### Exercise 1"
      ]
    },
    {
      "cell_type": "markdown",
      "metadata": {
        "id": "x8_9Dmf98Pka"
      },
      "source": [
        "The webpage at `http://www.stern.nyu.edu/faculty/search_name_form/` contains the contact emails for all the Stern faculty members. Write code that will allow you to extract all the emails that appear in the page. Just for your convenience, the code below will fetch the page, and store the HTML source in the variable `html`.\n",
        "\n",
        "Then you will need to write the right regex and write the code that finds emails in the retrieved html."
      ]
    },
    {
      "cell_type": "code",
      "execution_count": null,
      "metadata": {
        "id": "svjbW_vj8Pka"
      },
      "outputs": [],
      "source": [
        "import requests\n",
        "url = 'http://www.stern.nyu.edu/faculty/search_name_form'\n",
        "response = requests.get(url)\n",
        "html = response.text\n",
        "html"
      ]
    },
    {
      "cell_type": "code",
      "execution_count": null,
      "metadata": {
        "id": "GHSDJqo38Pka"
      },
      "outputs": [],
      "source": [
        "# Find occurences of the pattern in the HTML source\n",
        "\n",
        "# You want to write a regular expression that will find all the email addresses that appear in the html\n",
        "# variable, and store the emails in a list. You may also want to write the list of emails in a text file.\n",
        "pattern = r'YOUR PATTERN HERE'\n",
        "regex = re.compile(pattern)\n",
        "matches = regex.finditer(html)\n",
        "for m in matches:\n",
        "    ... #YOUR CODE HERE\n",
        "\n"
      ]
    },
    {
      "cell_type": "markdown",
      "metadata": {
        "id": "py-Ut89F8Pkc"
      },
      "source": [
        "#### Solution for Exercise 1"
      ]
    },
    {
      "cell_type": "code",
      "execution_count": null,
      "metadata": {
        "id": "9h1_0Xgj8Pkc"
      },
      "outputs": [],
      "source": [
        "# Email regex\n",
        "regex = re.compile(r'\\w+@(\\w+\\.)+\\w+')\n",
        "\n",
        "# We can create either a list or a set, but let's avoid duplicates\n",
        "emails = set()\n",
        "\n",
        "# Fetch the HTML source\n",
        "url = 'http://www.stern.nyu.edu/faculty/search_name_form'\n",
        "html = requests.get(url).text\n",
        "\n",
        "# Find matches\n",
        "matches = regex.finditer(html)\n",
        "# Go through matches and add them in our result set\n",
        "for m in matches:\n",
        "    emails.add(m.group())\n",
        "\n",
        "sorted(emails)"
      ]
    },
    {
      "cell_type": "code",
      "execution_count": null,
      "metadata": {
        "id": "R7UtCFcF8Pkc"
      },
      "outputs": [],
      "source": [
        "# and let's make it very compact using list comprehensions\n",
        "import requests\n",
        "url = 'http://www.stern.nyu.edu/faculty/search_name_form'\n",
        "html = requests.get(url).text\n",
        "regex = re.compile(r'\\w+@(\\w+\\.)+\\w+')\n",
        "emails = set([m.group() for m in regex.finditer(html) ])\n",
        "emails"
      ]
    },
    {
      "cell_type": "code",
      "execution_count": null,
      "metadata": {
        "id": "4RMce7Cm8Pkd"
      },
      "outputs": [],
      "source": []
    }
  ],
  "metadata": {
    "kernelspec": {
      "display_name": "Python 3",
      "language": "python",
      "name": "python3"
    },
    "language_info": {
      "codemirror_mode": {
        "name": "ipython",
        "version": 3
      },
      "file_extension": ".py",
      "mimetype": "text/x-python",
      "name": "python",
      "nbconvert_exporter": "python",
      "pygments_lexer": "ipython3",
      "version": "3.8.5"
    },
    "colab": {
      "provenance": [],
      "include_colab_link": true
    }
  },
  "nbformat": 4,
  "nbformat_minor": 0
}