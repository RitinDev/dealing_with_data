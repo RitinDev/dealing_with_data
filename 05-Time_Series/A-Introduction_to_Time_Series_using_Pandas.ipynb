{
  "cells": [
    {
      "cell_type": "markdown",
      "metadata": {
        "id": "view-in-github",
        "colab_type": "text"
      },
      "source": [
        "<a href=\"https://colab.research.google.com/github/ipeirotis/dealing_with_data/blob/master/05-Time_Series/A-Introduction_to_Time_Series_using_Pandas.ipynb\" target=\"_parent\"><img src=\"https://colab.research.google.com/assets/colab-badge.svg\" alt=\"Open In Colab\"/></a>"
      ]
    },
    {
      "cell_type": "markdown",
      "metadata": {
        "id": "hJXQvkmz9pmk"
      },
      "source": [
        "## Introduction to Time Series and Forecasting\n",
        "\n",
        "Based on the book [Introduction to Time Series and Forecasting](http://www.masys.url.tw/Download/2002-Brockwell-Introduction%20Time%20Series%20and%20Forecasting.pdf) by Brockwell and Davis\n"
      ]
    },
    {
      "cell_type": "markdown",
      "metadata": {
        "id": "wrymQoHL9pmn"
      },
      "source": [
        "### Examples of Time Series\n",
        "\n"
      ]
    },
    {
      "cell_type": "code",
      "execution_count": null,
      "metadata": {
        "id": "SCYUqz2k9pmo"
      },
      "outputs": [],
      "source": [
        "%matplotlib inline\n",
        "%config InlineBackend.figure_format = 'retina'\n",
        "import pandas as pd\n",
        "import matplotlib\n",
        "import matplotlib.pyplot as plt"
      ]
    },
    {
      "cell_type": "code",
      "execution_count": null,
      "metadata": {
        "id": "An3apbpw9pmp"
      },
      "outputs": [],
      "source": [
        "# This is just to select the style of the generated plots. Feel free to experiment\n",
        "# and select other styles that you may like better. Notice that Style sheets are \n",
        "# designed to be composed together. So you can have a style sheet that customizes \n",
        "# colors and a separate style sheet that alters element sizes for presentations. \n",
        "# print(plt.style.available)\n",
        "matplotlib.style.use(['seaborn-talk', 'seaborn-ticks', 'seaborn-whitegrid'])"
      ]
    },
    {
      "cell_type": "markdown",
      "metadata": {
        "id": "fB301JbH9pmq"
      },
      "source": [
        "### Australian red wine \"sales\", (thousands of litres) monthly, Jan 80 - Oct 91"
      ]
    },
    {
      "cell_type": "markdown",
      "metadata": {
        "id": "BSzhItBE9pmq"
      },
      "source": [
        "The file `australian-wine-sales.txt` contains the monthly sales of Australian red wines in for the period Jan-1980 to Oct-1991. Let's take a peak at the data file:"
      ]
    },
    {
      "cell_type": "code",
      "execution_count": null,
      "metadata": {
        "id": "DoDWj-JD9pmr"
      },
      "outputs": [],
      "source": [
        "!head -5 /data/australian-wine-sales.txt"
      ]
    },
    {
      "cell_type": "code",
      "execution_count": null,
      "metadata": {
        "id": "JiCFtwXf9pmr"
      },
      "outputs": [],
      "source": [
        "!tail -5 /data/australian-wine-sales.txt"
      ]
    },
    {
      "cell_type": "code",
      "execution_count": null,
      "metadata": {
        "id": "DhmGYpHr9pms"
      },
      "outputs": [],
      "source": [
        "!wc -l /data/australian-wine-sales.txt"
      ]
    },
    {
      "cell_type": "markdown",
      "metadata": {
        "id": "KTUS_WdN9pms"
      },
      "source": [
        "We will use Pandas and the `read_csv` function to read the text file into a dataframe."
      ]
    },
    {
      "cell_type": "code",
      "execution_count": null,
      "metadata": {
        "id": "B_ybvQax9pmt"
      },
      "outputs": [],
      "source": [
        "df = pd.read_csv(\"/data/australian-wine-sales.txt\", sep='\\t')"
      ]
    },
    {
      "cell_type": "code",
      "execution_count": null,
      "metadata": {
        "id": "tDLr3O019pmt"
      },
      "outputs": [],
      "source": [
        "df.head(5)"
      ]
    },
    {
      "cell_type": "markdown",
      "metadata": {
        "id": "jq5fv2f79pmt"
      },
      "source": [
        "Pandas is relatively smart and can infer the data type of a column.  "
      ]
    },
    {
      "cell_type": "code",
      "execution_count": null,
      "metadata": {
        "id": "ToVD77im9pmu"
      },
      "outputs": [],
      "source": [
        "df.dtypes"
      ]
    },
    {
      "cell_type": "markdown",
      "metadata": {
        "id": "MOLNvQRP9pmu"
      },
      "source": [
        "In this case pandas figured out that `Sales` is a number, but not that `Date` is a date. \n",
        "\n",
        "We can now try to plot directly the contents of the dataframe."
      ]
    },
    {
      "cell_type": "code",
      "execution_count": null,
      "metadata": {
        "id": "dmOwjJ_b9pmu"
      },
      "outputs": [],
      "source": [
        "df.plot()"
      ]
    },
    {
      "cell_type": "markdown",
      "metadata": {
        "id": "NLiDOYdE9pmv"
      },
      "source": [
        "The plot would look better if we had the x-axis to be a date, instead of a number. For that, we use the corresponding Pandas functions to convert the columns into the appropriate formats. We also tell Pandas to convert the `Date` column into the key for each row."
      ]
    },
    {
      "cell_type": "code",
      "execution_count": null,
      "metadata": {
        "id": "bkFv-E9-9pmv"
      },
      "outputs": [],
      "source": [
        "# See https://docs.python.org/2/library/datetime.html#strftime-and-strptime-behavior for parsing dates\n",
        "# In our case %b is \"Month as locale’s abbreviated name.\" and %y is \"Year without century as a zero-padded decimal number.\"\n",
        "df[\"Date\"] = pd.to_datetime(df[\"Date\"], format='%b-%y')\n",
        "df[\"Sales\"] = pd.to_numeric(df[\"Sales\"])\n",
        "df.set_index(keys=\"Date\", inplace=True)\n",
        "df.head(5)"
      ]
    },
    {
      "cell_type": "code",
      "execution_count": null,
      "metadata": {
        "id": "NPbiyzEC9pmv"
      },
      "outputs": [],
      "source": [
        "df.plot(figsize=(15,7), grid=True)"
      ]
    },
    {
      "cell_type": "markdown",
      "metadata": {
        "id": "VphKhVNF9pmw"
      },
      "source": [
        "It appears from the graph that the sales have an upward trend and a seasonal pattern with a peak in July and a trough in January."
      ]
    },
    {
      "cell_type": "markdown",
      "metadata": {
        "id": "xNpq-WQk9pmw"
      },
      "source": [
        "#### Jumping Ahead: Lag plots, autocorrelation plots, and decompositions.\n",
        "\n",
        "Pandas provides two types of plots that can be used for the analysis of time series: the `lag_plot` and the `autocorrelation_plot`. We can also use the seasonal decomposition functionality of `statsmodels` to separate the time series into a trend, seasonal component, and residual noise. We will go quickly over these for now, mainly for demo purposes. Proper treatment of these topics require deeper analysis.\n",
        "\n"
      ]
    },
    {
      "cell_type": "markdown",
      "metadata": {
        "id": "dX8gIodj9pmw"
      },
      "source": [
        "##### Lag plot\n",
        "\n",
        "The lag plot shows the value of the series at time $t$ vs. its value at time $t+1$. If there is no dependency (i.e., the time series is noise) then the lag plot is a scatterplot without any sign of correlation. If we can see a pattern and a correlation, then the series exhibits autocorrelation. For example, below we can see that there is a rather strong correlation of the two variables, indicating that the sales in time $t+1$ is similar to the sales at time $t$."
      ]
    },
    {
      "cell_type": "code",
      "execution_count": null,
      "metadata": {
        "id": "C_U1MAtJ9pmw"
      },
      "outputs": [],
      "source": [
        "from pandas.plotting import lag_plot\n",
        "lag_plot(df[\"Sales\"])"
      ]
    },
    {
      "cell_type": "markdown",
      "metadata": {
        "id": "axNcEjbR9pmx"
      },
      "source": [
        "##### Autocorrelation Plot\n",
        "\n",
        "In a more general setting, we want to also see if the value of the series at time $t$ is predictive of the value at time $t+n$. Such dependency would indicate that there is *autocorrelation* in the series. The autocorrelation plot shows the correlation value for various values of $n$."
      ]
    },
    {
      "cell_type": "code",
      "execution_count": null,
      "metadata": {
        "id": "KXmk93mL9pmy"
      },
      "outputs": [],
      "source": [
        "from pandas.plotting import autocorrelation_plot\n",
        "\n",
        "autocorrelation_plot(df[\"Sales\"])"
      ]
    },
    {
      "cell_type": "markdown",
      "metadata": {
        "id": "gmir3VtH9pmy"
      },
      "source": [
        "##### Trend/Seasonal Decomposition\n",
        "\n"
      ]
    },
    {
      "cell_type": "code",
      "execution_count": null,
      "metadata": {
        "id": "eGClDRKA9pmz"
      },
      "outputs": [],
      "source": [
        "from statsmodels.tsa.seasonal import seasonal_decompose\n",
        "\n",
        "# We decompose assumming a 12-month periodicity. \n",
        "# There is a weekly component as well, which we ignore.\n",
        "# We can also specify a multiplicative instead of an additive model\n",
        "# The additive model is Y[t] = T[t] + S[t] + e[t]\n",
        "# The multiplicative model is Y[t] = T[t] * S[t] * e[t]\n",
        "decomposition = seasonal_decompose(df['Sales'], model='multiplicative', freq=12)  \n",
        "fig = plt.figure()  \n",
        "fig = decomposition.plot()  "
      ]
    },
    {
      "cell_type": "markdown",
      "metadata": {
        "id": "VxIe9Gjc9pmz"
      },
      "source": [
        "#### Accessing indinvidual components of the decomposition"
      ]
    },
    {
      "cell_type": "markdown",
      "metadata": {
        "id": "7jA9GC049pm0"
      },
      "source": [
        "Once we have the decomposed time series model, we can also access the different components.\n",
        "\n",
        "For example, we can get the trend of the time series, after removing the seasonality component:"
      ]
    },
    {
      "cell_type": "code",
      "execution_count": null,
      "metadata": {
        "id": "lHhcWhrM9pm0"
      },
      "outputs": [],
      "source": [
        "# The outcome is a pandas Series, which is effectively the same as a single column of dataframe\n",
        "decomposition.trend"
      ]
    },
    {
      "cell_type": "code",
      "execution_count": null,
      "metadata": {
        "id": "yr8pLOvd9pm0"
      },
      "outputs": [],
      "source": [
        "decomposition.trend.plot()"
      ]
    },
    {
      "cell_type": "markdown",
      "metadata": {
        "id": "nRJRGjIq9pm0"
      },
      "source": [
        "### The monthly accidental deaths data, 1973–1978"
      ]
    },
    {
      "cell_type": "code",
      "execution_count": null,
      "metadata": {
        "id": "_pLRYJZE9pm1"
      },
      "outputs": [],
      "source": [
        "!cat /data/acc-deaths.txt"
      ]
    },
    {
      "cell_type": "markdown",
      "metadata": {
        "id": "z-HuSAQJ9pm1"
      },
      "source": [
        "This is a different type format that the file that we had before. First of all, we have _fixed width_ columns, and not a tab-separated file. So instead of using the `read_csv` command, we will use the `read_fwf` command to read the data."
      ]
    },
    {
      "cell_type": "code",
      "execution_count": null,
      "metadata": {
        "id": "Mgx7Gzmn9pm1"
      },
      "outputs": [],
      "source": [
        "df = pd.read_fwf(\"/data/acc-deaths.txt\")\n",
        "df.set_index('Year')"
      ]
    },
    {
      "cell_type": "markdown",
      "metadata": {
        "id": "oi4HhzG69pm1"
      },
      "source": [
        "##### Melt and Pivot_Table\n",
        "\n",
        "Now we want to take the month-columns, and convert the file into a file with the format `<date>`, `<value>`.\n",
        "\n",
        "The command for this is the [melt](http://pandas.pydata.org/pandas-docs/stable/generated/pandas.melt.html) command. (For the opposite operation, use the [pivot_table](http://pandas.pydata.org/pandas-docs/stable/generated/pandas.pivot_table.html) function.)"
      ]
    },
    {
      "cell_type": "code",
      "execution_count": null,
      "metadata": {
        "id": "G6XzGJoh9pm2"
      },
      "outputs": [],
      "source": [
        "df = pd.melt(df, id_vars=['Year'], \n",
        "        value_vars=['Jan', 'Feb', 'Mar', 'Apr', 'May', 'Jun', 'Jul', 'Aug', 'Sep', 'Oct', 'Nov', 'Dec'],\n",
        "        var_name='Month', value_name='Deaths')\n",
        "df.head(10)"
      ]
    },
    {
      "cell_type": "code",
      "execution_count": null,
      "metadata": {
        "id": "Jku5A4im9pm2"
      },
      "outputs": [],
      "source": [
        "df.pivot_table(\n",
        "    index='Year',\n",
        "    columns='Month',\n",
        "    values = 'Deaths'\n",
        "\n",
        ")"
      ]
    },
    {
      "cell_type": "markdown",
      "metadata": {
        "id": "IDkU_Lro9pm2"
      },
      "source": [
        "Now, we want to merge the month and year columns, to create a Date column."
      ]
    },
    {
      "cell_type": "code",
      "execution_count": null,
      "metadata": {
        "id": "GngMgtVm9pm2"
      },
      "outputs": [],
      "source": [
        "# Notice the use of .astype(str) function that converts the int64 datatype into a string.\n",
        "# Without that function, we get an error message that we cannot add an integer (Year) with a string (Month)\n",
        "df[\"Date\"] = df[\"Month\"] + \"-\" + df[\"Year\"].astype(str)\n",
        "df"
      ]
    },
    {
      "cell_type": "code",
      "execution_count": null,
      "metadata": {
        "id": "u7QFxX7_9pm3"
      },
      "outputs": [],
      "source": [
        "df.dtypes"
      ]
    },
    {
      "cell_type": "code",
      "execution_count": null,
      "metadata": {
        "id": "jfDYlgNQ9pm3"
      },
      "outputs": [],
      "source": [
        "df[\"Date\"] = pd.to_datetime(df[\"Date\"], format='%b-%Y')\n",
        "df"
      ]
    },
    {
      "cell_type": "markdown",
      "metadata": {
        "id": "NVXvH5aJ9pm3"
      },
      "source": [
        "Now, that we have the Date column, we can delete the month and year columns. Notice the `axis='columns'` part: this means that we drop a _column_ with that name. If we used `axis='rows'`, then Pandas would have been looking for a _row_ with that key to drop."
      ]
    },
    {
      "cell_type": "code",
      "execution_count": null,
      "metadata": {
        "id": "xKcC_yHi9pm3"
      },
      "outputs": [],
      "source": [
        "df.drop(\"Month\", axis='columns', inplace=True)\n",
        "df.drop(\"Year\", axis='columns', inplace=True)"
      ]
    },
    {
      "cell_type": "markdown",
      "metadata": {
        "id": "f7DjKlds9pm3"
      },
      "source": [
        "And now we convert the `Date` to be an index, so that it can be used as the x-axis for plotting the series."
      ]
    },
    {
      "cell_type": "code",
      "execution_count": null,
      "metadata": {
        "id": "fBUjrKMk9pm3"
      },
      "outputs": [],
      "source": [
        "df.set_index(keys=\"Date\", inplace=True)"
      ]
    },
    {
      "cell_type": "code",
      "execution_count": null,
      "metadata": {
        "id": "r1_qOnAn9pm4"
      },
      "outputs": [],
      "source": [
        "df.head(5)"
      ]
    },
    {
      "cell_type": "markdown",
      "metadata": {
        "id": "hcWMvT_L9pm4"
      },
      "source": [
        "Notice that the dates are not in order (we get the January's for all the years first, then the February's etc). While this is not an issue with plotting, this can be an issue for other types of analyses. For this reason, we sort the index:"
      ]
    },
    {
      "cell_type": "code",
      "execution_count": null,
      "metadata": {
        "id": "OUxZv66l9pm4"
      },
      "outputs": [],
      "source": [
        "df.sort_index(inplace=True)"
      ]
    },
    {
      "cell_type": "code",
      "execution_count": null,
      "metadata": {
        "id": "1FrrdaP69pm5"
      },
      "outputs": [],
      "source": [
        "df.head(5)"
      ]
    },
    {
      "cell_type": "code",
      "execution_count": null,
      "metadata": {
        "id": "Pq5QC8D59pm5"
      },
      "outputs": [],
      "source": [
        "df.plot()"
      ]
    },
    {
      "cell_type": "markdown",
      "metadata": {
        "id": "CYS7skc_9pm5"
      },
      "source": [
        "Like the red wine sales, the monthly accidental death ﬁgures show a strong seasonal pattern, with the maximum for each year occurring in July and the minimum for each year occurring in February. The presence of a trend  is much less apparent than in the wine sales. Later in this module, we will how we often represent the data as the sum of a trend, a seasonal component, and a residual term."
      ]
    },
    {
      "cell_type": "markdown",
      "metadata": {
        "id": "Bo8bJ5RN9pm5"
      },
      "source": [
        "#### Exercise\n",
        "\n",
        "* Perform a decomposition of the time series into a trend, seasonal, and residual component.\n",
        "* Try out both the additive and the multiplicative approach for the decomposition. Try to interpret and understand the difference in the reported seasonal component.\n",
        "* Extract the trend for the accidental deaths."
      ]
    },
    {
      "cell_type": "code",
      "execution_count": null,
      "metadata": {
        "id": "4zdrcqSK9pm6"
      },
      "outputs": [],
      "source": [
        "from statsmodels.tsa.seasonal import seasonal_decompose\n",
        "\n",
        "# We decompose assumming a 12-month periodicity. \n",
        "# There is a weekly component as well, which we ignore.\n",
        "# We can also specify a multiplicative instead of an additive model\n",
        "# The additive model is Y[t] = T[t] + S[t] + e[t]\n",
        "# The multiplicative model is Y[t] = T[t] * S[t] * e[t]\n",
        "decomposition = seasonal_decompose(df['Deaths'], model='multiplicative', freq=12)  \n",
        "fig = plt.figure()  \n",
        "fig = decomposition.plot()  "
      ]
    },
    {
      "cell_type": "code",
      "execution_count": null,
      "metadata": {
        "id": "08dz-QlO9pm6"
      },
      "outputs": [],
      "source": [
        "# Extracting the deaths trend component\n",
        "decomposition.trend.plot()"
      ]
    },
    {
      "cell_type": "markdown",
      "metadata": {
        "id": "ly8PGn_k9pm6"
      },
      "source": [
        "#### Advanced: Time Series Window operations: Rolling / Expanding / EW\n",
        "\n",
        "One question that comes up when we have a periodic time series is: \"How can I figure out the overall trend?\". In the examples above, we relied on a \"black box\" where we simply asked for the time series to be decomposed into a trend, seasonal, and residual component. Now, let's dig a bit deeper on how we can extract trend components that are unaffected by seasonality.\n",
        "\n",
        "For that, we often rely on \"window\" functions, that operate over a set of continuous time series points. For example, if we have a time series that has a 12-month seasonality, we can take the 12-month average, which will not exhibit seasonality, but will capture the trend. \n",
        "\n",
        "These windows functions are common time series operations. Pandas provides support for various types of windows. Here are a few that are commonly used: \n",
        "* [Rolling window](http://pandas.pydata.org/pandas-docs/stable/generated/pandas.DataFrame.rolling.html): We compute the function over a time period equal to a window\n",
        "* [Expanding](http://pandas.pydata.org/pandas-docs/stable/generated/pandas.DataFrame.expanding.html): We compute the function over a period of 1, 2, 3,... instances.\n",
        "* [Exponential weighting](http://pandas.pydata.org/pandas-docs/stable/generated/pandas.DataFrame.ewm.html): We keep a window of a fixed size but we weight less and less (exponentially) the old data points."
      ]
    },
    {
      "cell_type": "code",
      "execution_count": null,
      "metadata": {
        "id": "XTHQl5QI9pm6"
      },
      "outputs": [],
      "source": [
        ""
      ]
    },
    {
      "cell_type": "code",
      "execution_count": null,
      "metadata": {
        "id": "RqelKNEv9pm7"
      },
      "outputs": [],
      "source": [
        "# Notice that we use the idiom df.Deaths instead of df['Deaths']. \n",
        "# The two are equivalent\n",
        "\n",
        "# Use different linestyle, and use high alpha to make the series less visually prominent\n",
        "df.Deaths.plot(label='Raw', linestyle =\"--\", alpha=0.25)\n",
        "\n",
        "# Plot the 12-month moving average\n",
        "df.Deaths.rolling(12).mean().plot(label='12M MA', alpha=0.75)\n",
        "\n",
        "# Plot the expanding mean. This is the mean of the series from the beginning till that point in time\n",
        "df.Deaths.expanding().mean().plot(label='Expanding', alpha=0.75)\n",
        "\n",
        "# Plot the exponentially weighted moving average. This moving average weighs more heavily the newer\n",
        "# data points and weighs less the old ones. \n",
        "df.Deaths.ewm(halflife=12).mean().plot(label='EWMA (halflife 12M)', alpha=0.75)\n",
        "\n",
        "# places the legend to the right side (1) and middle of the y-axis (0.5)\n",
        "plt.legend(bbox_to_anchor=(1, .5)) \n",
        "plt.tight_layout()"
      ]
    },
    {
      "cell_type": "markdown",
      "metadata": {
        "id": "Fd1Lno4d9pm7"
      },
      "source": [
        "### US Strikes (1968-1976) and economic output\n",
        "\n",
        "The data is the same data as originally used in J. Kennan, \"The Duration of Contract strikes in U.S. Manufacturing\", \n",
        "Journal of Econometrics, 1985, Vol. 28, pp.5-28. The data is monthly U.S. data from 1968(1) to 1976(12).\n",
        "\n",
        "* STRIKES is number of strikes (number of contract strikes in U.S. manufacturing beginning each month) \n",
        "* OUTPUT is level of economic activity (measured as cyclical departure of aggregate production from its trend level) \n"
      ]
    },
    {
      "cell_type": "code",
      "execution_count": null,
      "metadata": {
        "id": "mXQJqVom9pm7"
      },
      "outputs": [],
      "source": [
        "!head -20 /data/strikes.tsv"
      ]
    },
    {
      "cell_type": "code",
      "execution_count": null,
      "metadata": {
        "id": "q0AEOpP39pm7"
      },
      "outputs": [],
      "source": [
        "df = pd.read_csv(\"/data/strikes.tsv\", sep='\\t')\n",
        "df.head(5)"
      ]
    },
    {
      "cell_type": "code",
      "execution_count": null,
      "metadata": {
        "id": "LTPWYDJp9pm7"
      },
      "outputs": [],
      "source": [
        "df.dtypes"
      ]
    },
    {
      "cell_type": "code",
      "execution_count": null,
      "metadata": {
        "id": "xVkgQqbz9pm8"
      },
      "outputs": [],
      "source": [
        "df[\"DATE\"] = pd.to_datetime(df[\"DATE\"], format='%b-%y')"
      ]
    },
    {
      "cell_type": "code",
      "execution_count": null,
      "metadata": {
        "id": "39DRV6Ao9pm8"
      },
      "outputs": [],
      "source": [
        "df.head(15)"
      ]
    },
    {
      "cell_type": "markdown",
      "metadata": {
        "id": "aIOppjmd9pm8"
      },
      "source": [
        "Oops, we have a problem. According to https://docs.python.org/2/library/time.html when we have a 2-digit year, \"_values 69-99 are mapped to 1969-1999, and values 0–68 are mapped to 2000–2068_\". "
      ]
    },
    {
      "cell_type": "markdown",
      "metadata": {
        "id": "C9NFh_Bf9pm8"
      },
      "source": [
        "We now need to write a function that will edit the year-parsing problem."
      ]
    },
    {
      "cell_type": "code",
      "execution_count": null,
      "metadata": {
        "id": "M0TClX-i9pm8"
      },
      "outputs": [],
      "source": [
        "from pandas.tseries.offsets import DateOffset\n",
        "\n",
        "def fix_year(dt):\n",
        "    if dt.year > 2050:\n",
        "        return dt - DateOffset(years=100)\n",
        "    else:\n",
        "        return dt"
      ]
    },
    {
      "cell_type": "markdown",
      "metadata": {
        "id": "OoxXMetu9pm8"
      },
      "source": [
        "And then apply the function to the dataframe column using the `apply` command."
      ]
    },
    {
      "cell_type": "code",
      "execution_count": null,
      "metadata": {
        "id": "NucFkhjg9pm9"
      },
      "outputs": [],
      "source": [
        "df[\"DATE\"] = df[\"DATE\"].apply(fix_year)\n",
        "df.head(15)"
      ]
    },
    {
      "cell_type": "markdown",
      "metadata": {
        "id": "hvokFbT29pm9"
      },
      "source": [
        "_Note: We can also fix that issue by replacing the 2-digit year with a 4-digit value, and then proceed as usual. We can do that using \"**regular expressions**\", which we will discuss later on. For reference, here is the command, which will look super cryptic right now, but will be easy to understand later on._\n",
        "\n",
        "```python \n",
        "df.DATE = df.DATE.astype(str).replace(to_replace = '(\\w{3})-(\\d{2})', value=r'\\1-19\\2', regex=True )\n",
        "```\n"
      ]
    },
    {
      "cell_type": "code",
      "execution_count": null,
      "metadata": {
        "id": "MgaYNq-M9pm9"
      },
      "outputs": [],
      "source": [
        "df.set_index(keys=\"DATE\", inplace=True)\n",
        "df.sort_index(inplace=True)"
      ]
    },
    {
      "cell_type": "code",
      "execution_count": null,
      "metadata": {
        "id": "dYHroTiU9pm9"
      },
      "outputs": [],
      "source": [
        "df.STRIKES.plot()"
      ]
    },
    {
      "cell_type": "code",
      "execution_count": null,
      "metadata": {
        "id": "7iA6JuL_9pm9"
      },
      "outputs": [],
      "source": [
        "df.OUTPUT.plot()"
      ]
    },
    {
      "cell_type": "markdown",
      "metadata": {
        "id": "hcy75z-z9pm9"
      },
      "source": [
        "#### Exercise\n",
        "\n",
        "* Perform a decomposition of the time series above (strikes and output)\n",
        "* Is there a significant seasonality component?\n",
        "\n"
      ]
    },
    {
      "cell_type": "markdown",
      "metadata": {
        "id": "fFU491rM9pm-"
      },
      "source": [
        "### US Population Recorded by the US Census"
      ]
    },
    {
      "cell_type": "code",
      "execution_count": null,
      "metadata": {
        "id": "cqMZlW6a9pm-"
      },
      "outputs": [],
      "source": [
        "!head -5 /data/us-population2.txt"
      ]
    },
    {
      "cell_type": "code",
      "execution_count": null,
      "metadata": {
        "id": "5S2w3-919pm-"
      },
      "outputs": [],
      "source": [
        "# We use the thousands=',' option to properly convert the population numbers to integers\n",
        "df = pd.read_csv(\"/data/us-population2.txt\", sep=' ', thousands=',')\n",
        "df[\"Year\"] = pd.to_numeric(df[\"Year\"])\n",
        "df[\"US_Population\"] = pd.to_numeric(df[\"US_Population\"])\n",
        "df.set_index(keys=\"Year\", inplace=True)\n",
        "\n",
        "df.plot()"
      ]
    },
    {
      "cell_type": "markdown",
      "metadata": {
        "id": "DZhdrRsR9pm-"
      },
      "source": [
        "#### Level of Lake Huron 1875--1972 \n",
        "\n",
        "Annual measurements of the level, in feet, of Lake Huron 1875--1972"
      ]
    },
    {
      "cell_type": "code",
      "execution_count": null,
      "metadata": {
        "id": "KGfRkAPf9pm-"
      },
      "outputs": [],
      "source": [
        "!head -5 /data/lake-huron.txt"
      ]
    },
    {
      "cell_type": "code",
      "execution_count": null,
      "metadata": {
        "id": "CEZ4UBC_9pm-"
      },
      "outputs": [],
      "source": [
        "df = pd.read_csv(\"/data/lake-huron.txt\", sep='\\t')\n",
        "df.set_index(keys=\"Year\", inplace=True)\n",
        "df.plot()"
      ]
    },
    {
      "cell_type": "code",
      "execution_count": null,
      "metadata": {
        "id": "5WDKeL7M9pm-"
      },
      "outputs": [],
      "source": [
        ""
      ]
    },
    {
      "cell_type": "code",
      "execution_count": null,
      "metadata": {
        "id": "A2OUqF2F9pm_"
      },
      "outputs": [],
      "source": [
        ""
      ]
    }
  ],
  "metadata": {
    "kernelspec": {
      "display_name": "Python 3",
      "language": "python",
      "name": "python3"
    },
    "language_info": {
      "codemirror_mode": {
        "name": "ipython",
        "version": 3
      },
      "file_extension": ".py",
      "mimetype": "text/x-python",
      "name": "python",
      "nbconvert_exporter": "python",
      "pygments_lexer": "ipython3",
      "version": "3.6.6"
    },
    "colab": {
      "name": "D-Pandas_and_Time_Series.ipynb",
      "provenance": [],
      "include_colab_link": true
    }
  },
  "nbformat": 4,
  "nbformat_minor": 0
}