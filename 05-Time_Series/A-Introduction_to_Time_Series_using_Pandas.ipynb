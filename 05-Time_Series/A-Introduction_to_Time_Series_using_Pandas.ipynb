{
  "cells": [
    {
      "cell_type": "markdown",
      "metadata": {
        "id": "view-in-github",
        "colab_type": "text"
      },
      "source": [
        "<a href=\"https://colab.research.google.com/github/ipeirotis/dealing_with_data/blob/master/05-Time_Series/A-Introduction_to_Time_Series_using_Pandas.ipynb\" target=\"_parent\"><img src=\"https://colab.research.google.com/assets/colab-badge.svg\" alt=\"Open In Colab\"/></a>"
      ]
    },
    {
      "cell_type": "markdown",
      "metadata": {
        "id": "hJXQvkmz9pmk"
      },
      "source": [
        "# Introduction to Time Series and Forecasting\n",
        "\n",
        "*Based on the book [Introduction to Time Series and Forecasting](https://link.springer.com/book/10.1007/978-3-319-29854-2) by Brockwell and Davis.*\n",
        "\n"
      ]
    },
    {
      "cell_type": "code",
      "execution_count": null,
      "metadata": {
        "id": "SCYUqz2k9pmo"
      },
      "outputs": [],
      "source": [
        "#@title Setup\n",
        "import pandas as pd\n",
        "import matplotlib\n",
        "import matplotlib.pyplot as plt\n",
        "matplotlib.style.use(['seaborn-talk', 'seaborn-ticks', 'seaborn-whitegrid'])\n",
        "%config InlineBackend.figure_format = 'retina'"
      ]
    },
    {
      "cell_type": "markdown",
      "source": [
        "## What is a Time Series?\n",
        "\n",
        "A time series is a set of observations $x_t$, each one being recorded at a specific time $t$. In our sessions, we focus on **_discrete_** time series, where observations are recorded at fixed time intervals (e.g., once an hour, or every 30 seconds, or every 7 days). \n",
        "\n",
        "We only consider **_regular_** time series, where we the time between observations is constant (i.e., we do not consider account deposits or withdrawals from an ATM that happen at various times; these are examples of an irregular time series)."
      ],
      "metadata": {
        "id": "D79hThX7_yOH"
      }
    },
    {
      "cell_type": "markdown",
      "metadata": {
        "id": "wrymQoHL9pmn"
      },
      "source": [
        "## Examples of Time Series\n",
        "\n"
      ]
    },
    {
      "cell_type": "markdown",
      "metadata": {
        "id": "fB301JbH9pmq"
      },
      "source": [
        "### Australian red wine \"sales\", (thousands of litres) monthly, Jan 80 - Oct 91"
      ]
    },
    {
      "cell_type": "markdown",
      "metadata": {
        "id": "BSzhItBE9pmq"
      },
      "source": [
        "The file [`australian-wine-sales.txt`](https://storage.googleapis.com/datasets_nyu/australian-wine-sales.txt) contains the monthly sales of Australian red wines in for the period Jan-1980 to Oct-1991. Let's take a peak at the data file: We will use Pandas and the `pd.read_csv` function to read the text file into a dataframe. "
      ]
    },
    {
      "cell_type": "code",
      "execution_count": null,
      "metadata": {
        "id": "B_ybvQax9pmt"
      },
      "outputs": [],
      "source": [
        "url = \"https://storage.googleapis.com/datasets_nyu/australian-wine-sales.txt\"\n",
        "df = pd.read_csv(url, sep='\\t')\n",
        "\n",
        "##### What is this code?\n",
        "# The `read_csv` command can read directly from a URL, so we pass directly \n",
        "# the URL of the dataset as a parameter. Also, since the file uses the \n",
        "# tab character to separate the columns, we pass the `sep='\\t'` option to \n",
        "# the `read_csv` command, indicating that the separator is the \"tab\"\n",
        "# (i.e. `\\t` ) character.\n"
      ]
    },
    {
      "cell_type": "code",
      "execution_count": null,
      "metadata": {
        "id": "tDLr3O019pmt"
      },
      "outputs": [],
      "source": [
        "df.head(10)"
      ]
    },
    {
      "cell_type": "markdown",
      "source": [
        "We can try to plot the time series:"
      ],
      "metadata": {
        "id": "gxVWM-gADlLD"
      }
    },
    {
      "cell_type": "code",
      "execution_count": null,
      "metadata": {
        "id": "dmOwjJ_b9pmu"
      },
      "outputs": [],
      "source": [
        "df.plot()"
      ]
    },
    {
      "cell_type": "markdown",
      "metadata": {
        "id": "NLiDOYdE9pmv"
      },
      "source": [
        "The plot would look better if we had the x-axis to be a date, instead of a number. By default, Pandas uses the \"index\" of the dataframe as the x-axis.\n",
        "\n"
      ]
    },
    {
      "cell_type": "markdown",
      "metadata": {
        "id": "jq5fv2f79pmt"
      },
      "source": [
        "Let's check the data types that Pandas inferred:"
      ]
    },
    {
      "cell_type": "code",
      "source": [
        "df.dtypes"
      ],
      "metadata": {
        "id": "MM9oQ1h3Ct0r"
      },
      "execution_count": null,
      "outputs": []
    },
    {
      "cell_type": "markdown",
      "metadata": {
        "id": "MOLNvQRP9pmu"
      },
      "source": [
        "In this case pandas figured out that `Sales` is a number, but not that `Date` is a date. The following two commands convert the two columns into a date and a numeric data type, respectively. (Technically, we could skip the conversion for `Sales` but I want to show how we convert data types.)\n",
        "\n",
        "We will set  the `Date` column to be the index of the dataframe, so that we can plot the sales with dates as the x-axis."
      ]
    },
    {
      "cell_type": "code",
      "source": [
        "df[\"Date\"] = pd.to_datetime(df[\"Date\"])\n",
        "df[\"Sales\"] = pd.to_numeric(df[\"Sales\"])"
      ],
      "metadata": {
        "id": "wrb5THMgDPIS"
      },
      "execution_count": null,
      "outputs": []
    },
    {
      "cell_type": "code",
      "execution_count": null,
      "metadata": {
        "id": "bkFv-E9-9pmv"
      },
      "outputs": [],
      "source": [
        "df = df.set_index(\"Date\")\n",
        "df"
      ]
    },
    {
      "cell_type": "code",
      "source": [
        "df.plot()"
      ],
      "metadata": {
        "id": "5aFxxILeE_Ge"
      },
      "execution_count": null,
      "outputs": []
    },
    {
      "cell_type": "markdown",
      "metadata": {
        "id": "VphKhVNF9pmw"
      },
      "source": [
        "It appears from the graph that the sales have an upward trend and a seasonal pattern with a peak in July and a trough in January."
      ]
    },
    {
      "cell_type": "markdown",
      "source": [
        "## Analyzing Time Series: Autocorrelation"
      ],
      "metadata": {
        "id": "5nysr3TywnJK"
      }
    },
    {
      "cell_type": "markdown",
      "source": [
        "A commonly analyzed property of a time series is the **autocorrelation** of the sequential observations. Simply stated, a high degree of autocorrelation means that if we know the value at time $t$, we can predict well the value at $t+1$.\n",
        "\n",
        "Using the `autocorr` function, we estimate the autocorrelation of our `Sales` time series:"
      ],
      "metadata": {
        "id": "PVV7Wv-gwwkj"
      }
    },
    {
      "cell_type": "code",
      "source": [
        "df[\"Sales\"].autocorr()"
      ],
      "metadata": {
        "id": "TpIx6XNQxBbg"
      },
      "execution_count": null,
      "outputs": []
    },
    {
      "cell_type": "markdown",
      "source": [
        "The concept of autocorrelation can extend to longer time periods, and not just to $t$ and $t+1$. We can extract autocorrelation for various **lag** values."
      ],
      "metadata": {
        "id": "o1S-QwxLxgUx"
      }
    },
    {
      "cell_type": "code",
      "source": [
        "df[\"Sales\"].autocorr(lag=1) # same as simply df[\"Sales\"].autocorr()"
      ],
      "metadata": {
        "id": "RG_8UkVpx7bk"
      },
      "execution_count": null,
      "outputs": []
    },
    {
      "cell_type": "code",
      "source": [
        "# Correlation between t and t+2\n",
        "# ie sales now and 2 months later\n",
        "df[\"Sales\"].autocorr(lag=2)"
      ],
      "metadata": {
        "id": "F0eYRnNExBer"
      },
      "execution_count": null,
      "outputs": []
    },
    {
      "cell_type": "code",
      "source": [
        "# Correlation between t and t+3\n",
        "# ie sales now and 3 months later\n",
        "df[\"Sales\"].autocorr(lag=3)"
      ],
      "metadata": {
        "id": "voqmEUsbIXwB"
      },
      "execution_count": null,
      "outputs": []
    },
    {
      "cell_type": "markdown",
      "metadata": {
        "id": "xNpq-WQk9pmw"
      },
      "source": [
        "### Lag plots and  autocorrelation plots\n",
        "\n",
        "Pandas provides two types of plots that can be used for the analysis of time series: the `lag_plot` and the `autocorrelation_plot`. We can also use the seasonal decomposition functionality of `statsmodels` to separate the time series into a trend, seasonal component, and residual noise. We will go quickly over these for now, mainly for demo purposes. Proper treatment of these topics require deeper analysis.\n",
        "\n"
      ]
    },
    {
      "cell_type": "markdown",
      "metadata": {
        "id": "dX8gIodj9pmw"
      },
      "source": [
        "#### Lag plot\n",
        "\n",
        "By default, the lag plot shows the value of the series at time $t$ vs. its value at time $t+1$. If there is no dependency (i.e., the time series is noise) then the lag plot is a scatterplot without any sign of correlation. If we can see a pattern and a correlation, then the series exhibits autocorrelation. For example, below we can see that there is a rather strong correlation of the two variables, indicating that the sales in time $t+1$ is similar to the sales at time $t$."
      ]
    },
    {
      "cell_type": "code",
      "execution_count": null,
      "metadata": {
        "id": "C_U1MAtJ9pmw"
      },
      "outputs": [],
      "source": [
        "from pandas.plotting import lag_plot\n",
        "lag_plot(df[\"Sales\"], lag = 1, c='b')"
      ]
    },
    {
      "cell_type": "code",
      "source": [
        "# The plot above shows the autocorrelation of the t and t+1\n",
        "# is around 0.73\n",
        "df[\"Sales\"].autocorr(lag=1)"
      ],
      "metadata": {
        "id": "yo3Mbmp2zCFR"
      },
      "execution_count": null,
      "outputs": []
    },
    {
      "cell_type": "markdown",
      "source": [
        "Here is the lag plot, where we plot $t$ and $t+12$. Notice that we have a higher correlation (less spread out points)"
      ],
      "metadata": {
        "id": "v8hotHdoyq5S"
      }
    },
    {
      "cell_type": "code",
      "source": [
        "lag_plot(df[\"Sales\"], lag = 12, c='r')"
      ],
      "metadata": {
        "id": "cSpqApSYyofW"
      },
      "execution_count": null,
      "outputs": []
    },
    {
      "cell_type": "code",
      "source": [
        "df[\"Sales\"].autocorr(lag=12)"
      ],
      "metadata": {
        "id": "5DABBWdSy5cn"
      },
      "execution_count": null,
      "outputs": []
    },
    {
      "cell_type": "markdown",
      "source": [
        "Let's plot the two of them together."
      ],
      "metadata": {
        "id": "Ygo-Me32zV1H"
      }
    },
    {
      "cell_type": "code",
      "source": [
        "lag_plot(df[\"Sales\"], lag = 1, c='b')\n",
        "lag_plot(df[\"Sales\"], lag = 12, c='r')"
      ],
      "metadata": {
        "id": "Sw6dQj20zRXP"
      },
      "execution_count": null,
      "outputs": []
    },
    {
      "cell_type": "markdown",
      "metadata": {
        "id": "axNcEjbR9pmx"
      },
      "source": [
        "#### Autocorrelation Plot\n",
        "\n",
        "In a more general setting, we want to also see if the value of the series at time $t$ is predictive of the value at time $t+n$. Such dependency would indicate that there is *autocorrelation* in the series. The autocorrelation plot shows the correlation value for various values of $n$."
      ]
    },
    {
      "cell_type": "code",
      "execution_count": null,
      "metadata": {
        "id": "KXmk93mL9pmy"
      },
      "outputs": [],
      "source": [
        "from pandas.plotting import autocorrelation_plot\n",
        "\n",
        "autocorrelation_plot(df[\"Sales\"])"
      ]
    },
    {
      "cell_type": "markdown",
      "metadata": {
        "id": "gmir3VtH9pmy"
      },
      "source": [
        "## Trend and Seasonal Decomposition\n",
        "\n"
      ]
    },
    {
      "cell_type": "code",
      "execution_count": null,
      "metadata": {
        "id": "eGClDRKA9pmz"
      },
      "outputs": [],
      "source": [
        "from statsmodels.tsa.seasonal import seasonal_decompose\n",
        "\n",
        "# We decompose assumming a 12-month periodicity. \n",
        "# We can also specify a multiplicative instead of an additive model\n",
        "# The additive model is Y[t] = T[t] + S[t] + e[t]\n",
        "# The multiplicative model is Y[t] = T[t] * S[t] * e[t]\n",
        "decomposition = seasonal_decompose(df['Sales'], model='multiplicative', freq=12, extrapolate_trend='freq')  \n",
        "fig = plt.figure()\n",
        "fig = decomposition.plot()"
      ]
    },
    {
      "cell_type": "markdown",
      "metadata": {
        "id": "VxIe9Gjc9pmz"
      },
      "source": [
        "#### Accessing indinvidual components of the decomposition"
      ]
    },
    {
      "cell_type": "markdown",
      "metadata": {
        "id": "7jA9GC049pm0"
      },
      "source": [
        "Once we have the decomposed time series model, we can also access the different components.\n",
        "\n",
        "For example, we can get the trend of the time series, after removing the seasonality component:"
      ]
    },
    {
      "cell_type": "code",
      "execution_count": null,
      "metadata": {
        "id": "lHhcWhrM9pm0"
      },
      "outputs": [],
      "source": [
        "# The outcome is a pandas Series, which is effectively the same as a single column of dataframe\n",
        "decomposition.trend"
      ]
    },
    {
      "cell_type": "code",
      "execution_count": null,
      "metadata": {
        "id": "yr8pLOvd9pm0"
      },
      "outputs": [],
      "source": [
        "decomposition.trend.plot()"
      ]
    },
    {
      "cell_type": "markdown",
      "metadata": {
        "id": "Bo8bJ5RN9pm5"
      },
      "source": [
        "## Exercise\n",
        "\n",
        "* Below we fetch the daily number of vehicular accidents in NYC.\n",
        "* Examine the autocorrelation structure of the accidents.\n",
        "* Perform a decomposition of the time series into a trend, seasonal, and residual component.\n",
        "* Try out both the additive and the multiplicative approach for the decomposition. Try to interpret and understand the difference in the reported seasonal component.\n",
        "* Instead of counting accidents, extract the number of injuries and perform the same analysis."
      ]
    },
    {
      "cell_type": "code",
      "source": [
        "!sudo pip install -U -q PyMySQL sqlalchemy sql_magic "
      ],
      "metadata": {
        "id": "M4sofXooGHDH"
      },
      "execution_count": null,
      "outputs": []
    },
    {
      "cell_type": "code",
      "source": [
        "from sqlalchemy import create_engine\n",
        "\n",
        "conn_string = 'mysql+pymysql://{user}:{password}@{host}/{db}?charset=utf8mb4'.format(\n",
        "    host = 'db.ipeirotis.org', \n",
        "    user = 'student',\n",
        "    password = 'dwdstudent2015', \n",
        "    db = 'collisions',\n",
        "    encoding = 'utf8mb4')\n",
        "\n",
        "mysql_conn = create_engine(conn_string).connect()\n",
        "\n",
        "sql = '''\n",
        "  SELECT date_format(DATE_TIME,'%%Y-%%m-%%d') AS acc_date, COUNT(*) AS accidents \n",
        "  FROM collisions.collisions \n",
        "  GROUP BY date_format(DATE_TIME,'%%Y-%%m-%%d')\n",
        "  ORDER BY date_format(DATE_TIME,'%%Y-%%m-%%d')\n",
        "'''\n",
        "\n",
        "acc = pd.read_sql(sql, con=mysql_conn)\n",
        "acc['acc_date'] = pd.to_datetime(acc['acc_date'])\n",
        "acc = acc.set_index('acc_date').resample('1D').sum()"
      ],
      "metadata": {
        "id": "rpVw1x6dEv0i"
      },
      "execution_count": null,
      "outputs": []
    },
    {
      "cell_type": "code",
      "source": [
        "acc.plot()"
      ],
      "metadata": {
        "id": "sVEIpRawHxCC"
      },
      "execution_count": null,
      "outputs": []
    },
    {
      "cell_type": "markdown",
      "source": [
        "### Solution"
      ],
      "metadata": {
        "id": "52PxGdwTKoYZ"
      }
    },
    {
      "cell_type": "code",
      "source": [
        "from statsmodels.tsa.seasonal import seasonal_decompose\n",
        "\n",
        "# We decompose assumming a 12-month periodicity. \n",
        "# We can also specify a multiplicative instead of an additive model\n",
        "# The additive model is Y[t] = T[t] + S[t] + e[t]\n",
        "# The multiplicative model is Y[t] = T[t] * S[t] * e[t]\n",
        "decomposition = seasonal_decompose(acc['accidents'], model='mutiplicative', freq=365, extrapolate_trend='freq')  \n",
        "fig = plt.figure()\n",
        "fig = decomposition.plot()"
      ],
      "metadata": {
        "id": "FWuEiHotJhuT"
      },
      "execution_count": null,
      "outputs": []
    },
    {
      "cell_type": "code",
      "source": [
        ""
      ],
      "metadata": {
        "id": "YbaLAhL8J52l"
      },
      "execution_count": null,
      "outputs": []
    },
    {
      "cell_type": "markdown",
      "metadata": {
        "id": "ly8PGn_k9pm6"
      },
      "source": [
        "## Advanced: Time Series Window operations: Rolling / Expanding / EW\n",
        "\n",
        "One question that comes up when we have a periodic time series is: \"How can I figure out the overall trend?\". In the examples above, we relied on a \"black box\" where we simply asked for the time series to be decomposed into a trend, seasonal, and residual component. Now, let's dig a bit deeper on how we can extract trend components that are unaffected by seasonality.\n",
        "\n",
        "For that, we often rely on \"window\" functions, that operate over a set of continuous time series points. For example, if we have a time series that has a 12-month seasonality, we can take the 12-month average, which will not exhibit seasonality, but will capture the trend. \n",
        "\n",
        "These windows functions are common time series operations. Pandas provides support for various types of windows. Here are a few that are commonly used: \n",
        "* [Rolling window](http://pandas.pydata.org/pandas-docs/stable/generated/pandas.DataFrame.rolling.html): We compute the function over a time period equal to a window\n",
        "* [Expanding](http://pandas.pydata.org/pandas-docs/stable/generated/pandas.DataFrame.expanding.html): We compute the function over a period of 1, 2, 3,... instances.\n",
        "* [Exponential weighting](http://pandas.pydata.org/pandas-docs/stable/generated/pandas.DataFrame.ewm.html): We keep a window of a fixed size but we weight less and less (exponentially) the old data points."
      ]
    },
    {
      "cell_type": "code",
      "execution_count": null,
      "metadata": {
        "id": "XTHQl5QI9pm6"
      },
      "outputs": [],
      "source": [
        ""
      ]
    },
    {
      "cell_type": "code",
      "execution_count": null,
      "metadata": {
        "id": "RqelKNEv9pm7"
      },
      "outputs": [],
      "source": [
        "# Use different linestyle, and use high alpha to make the series less visually prominent\n",
        "df['Sales'].plot(label='Raw', linestyle =\"--\", alpha=0.25)\n",
        "\n",
        "# Plot the 12-month moving average\n",
        "df['Sales'].rolling(12).mean().plot(label='12M MA', alpha=0.75)\n",
        "\n",
        "# Plot the expanding mean. This is the mean of the series from the beginning till that point in time\n",
        "df['Sales'].expanding().mean().plot(label='Expanding', alpha=0.75)\n",
        "\n",
        "# Plot the exponentially weighted moving average. This moving average weighs more heavily the newer\n",
        "# data points and weighs less the old ones. \n",
        "df['Sales'].ewm(halflife=12).mean().plot(label='EWMA (halflife 12M)', alpha=0.75)\n",
        "\n",
        "# places the legend to the right side (1) and middle of the y-axis (0.5)\n",
        "plt.legend(bbox_to_anchor=(1, .5)) \n",
        "plt.tight_layout()"
      ]
    },
    {
      "cell_type": "code",
      "execution_count": null,
      "metadata": {
        "id": "5WDKeL7M9pm-"
      },
      "outputs": [],
      "source": [
        ""
      ]
    },
    {
      "cell_type": "code",
      "execution_count": null,
      "metadata": {
        "id": "A2OUqF2F9pm_"
      },
      "outputs": [],
      "source": [
        ""
      ]
    }
  ],
  "metadata": {
    "kernelspec": {
      "display_name": "Python 3",
      "language": "python",
      "name": "python3"
    },
    "language_info": {
      "codemirror_mode": {
        "name": "ipython",
        "version": 3
      },
      "file_extension": ".py",
      "mimetype": "text/x-python",
      "name": "python",
      "nbconvert_exporter": "python",
      "pygments_lexer": "ipython3",
      "version": "3.6.6"
    },
    "colab": {
      "name": "D-Pandas_and_Time_Series.ipynb",
      "provenance": [],
      "toc_visible": true,
      "include_colab_link": true
    }
  },
  "nbformat": 4,
  "nbformat_minor": 0
}