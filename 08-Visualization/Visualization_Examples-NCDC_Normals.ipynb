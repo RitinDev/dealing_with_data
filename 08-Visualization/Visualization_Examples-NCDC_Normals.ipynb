{
  "nbformat": 4,
  "nbformat_minor": 0,
  "metadata": {
    "colab": {
      "name": "Visualization_Examples",
      "provenance": [],
      "collapsed_sections": [],
      "authorship_tag": "ABX9TyMtWN1Ribbe+dhYB3ARVrqk",
      "include_colab_link": true
    },
    "kernelspec": {
      "name": "python3",
      "display_name": "Python 3"
    },
    "language_info": {
      "name": "python"
    }
  },
  "cells": [
    {
      "cell_type": "markdown",
      "metadata": {
        "id": "view-in-github",
        "colab_type": "text"
      },
      "source": [
        "<a href=\"https://colab.research.google.com/github/ipeirotis/dealing_with_data/blob/master/08-Visualization/Visualization_Examples-NCDC_Normals.ipynb\" target=\"_parent\"><img src=\"https://colab.research.google.com/assets/colab-badge.svg\" alt=\"Open In Colab\"/></a>"
      ]
    },
    {
      "cell_type": "code",
      "source": [
        "import pandas as pd\n",
        "from io import StringIO\n",
        "import seaborn as sns\n",
        "from matplotlib import pyplot as plt\n",
        "import matplotlib.dates as mdates\n",
        "import numpy as np"
      ],
      "metadata": {
        "id": "3TdV49QQ_95H"
      },
      "execution_count": null,
      "outputs": []
    },
    {
      "cell_type": "code",
      "source": [
        "# Increase the font size to 150%\n",
        "sns.set(font_scale = 1.5)\n",
        "# Set the style to have white color and a grid\n",
        "sns.set_style(\"whitegrid\")"
      ],
      "metadata": {
        "id": "7bLwgsCYTE5t"
      },
      "execution_count": null,
      "outputs": []
    },
    {
      "cell_type": "markdown",
      "metadata": {
        "id": "JqVdNTC2MvGz"
      },
      "source": [
        "# NOAA'S 1981-2010 Climate Normals\n",
        "\n",
        "[Description of the dataset](https://www1.ncdc.noaa.gov/pub/data/normals/1981-2010/readme.txt)"
      ]
    },
    {
      "cell_type": "markdown",
      "source": [
        "## Loading the dataset"
      ],
      "metadata": {
        "id": "ELaHulA6B8my"
      }
    },
    {
      "cell_type": "markdown",
      "source": [
        "### Load the weather stations"
      ],
      "metadata": {
        "id": "Cpo6RCkvQ-TM"
      }
    },
    {
      "cell_type": "code",
      "metadata": {
        "id": "0AUIF_pHUUzz"
      },
      "source": [
        "# Read the file directly from the URL. If it is a \"Fixed Width File\", so we use the .read_fwf command\n",
        "stations = pd.read_fwf('https://www1.ncdc.noaa.gov/pub/data/normals/1981-2010/station-inventories/allstations.txt', header=None)\n",
        "\n",
        "# From the README, we know the meaning of the different columns\n",
        "stations.columns = ['station_id', 'lat', 'lon', 'elevation', 'state', 'name', 'is_GSN_station', 'is_HCN_station', 'WMO_number' ]\n",
        "\n",
        "# We drop unecessary columns\n",
        "stations = stations.drop(['is_GSN_station', 'is_HCN_station', 'WMO_number'], axis='columns')\n",
        "\n",
        "# We only keep stations located in the US\n",
        "condition = stations[\"station_id\"].str.startswith(\"US\")\n",
        "stations = stations[ condition ]\n",
        "\n",
        "stations"
      ],
      "execution_count": null,
      "outputs": []
    },
    {
      "cell_type": "markdown",
      "source": [
        "### Load the temperature measurements"
      ],
      "metadata": {
        "id": "16941A7URA--"
      }
    },
    {
      "cell_type": "markdown",
      "source": [
        "This data file requires a bit of data wrangling to get it into the format that we want."
      ],
      "metadata": {
        "id": "AMvG0VwYRHQq"
      }
    },
    {
      "cell_type": "code",
      "source": [
        "# read the fixed width file\n",
        "data_url = \"https://www1.ncdc.noaa.gov/pub/data/normals/1981-2010/products/temperature/dly-tavg-normal.txt\"\n",
        "\n",
        "# We set the infer_nrows to a large value, because otherwise\n",
        "# some columns that have length greater than 4 get truncated\n",
        "# (e.g., all the temperatures > 100 in Dealth Valley get truncated\n",
        "# to values close to 0, because the leading 1 is missing)\n",
        "df = pd.read_fwf(data_url, header=None, infer_nrows=100000, dtype=\"object\")"
      ],
      "metadata": {
        "id": "5WghyyRyRWN6"
      },
      "execution_count": null,
      "outputs": []
    },
    {
      "cell_type": "code",
      "source": [
        "# column names for the fixed-width file\n",
        "# The format is station, month, and then one column per day\n",
        "columns = [\"station_id\", \"month\"]\n",
        "days = [f\"{i:02.0f}\" for i in range(1, 32)]\n",
        "df.columns = columns + days"
      ],
      "metadata": {
        "id": "rGSybimVRXSI"
      },
      "execution_count": null,
      "outputs": []
    },
    {
      "cell_type": "code",
      "source": [
        "# un-pivot the table\n",
        "# We keep [\"station_id\", \"month\"] as column names and we convert\n",
        "# the remaining columns that correspond to days into values, under\n",
        "# the column \"day\"\n",
        "df = pd.melt(df, id_vars=columns, value_vars=days, var_name=\"day\")"
      ],
      "metadata": {
        "id": "xTVGpSyDRYqR"
      },
      "execution_count": null,
      "outputs": []
    },
    {
      "cell_type": "code",
      "source": [
        "# extract the number and the flag from the temperature using a regex\n",
        "regex = r\"(-*\\d+)(\\w*)\"\n",
        "df = pd.concat([df, df[\"value\"].str.extract(regex)], axis=\"columns\")\n",
        "df = df.drop(\"value\", axis=\"columns\")\n",
        "df.columns = [\"station_id\", \"month\", \"day\", \"temperature\", \"flag\"]"
      ],
      "metadata": {
        "id": "g2Ux3jejRZxi"
      },
      "execution_count": null,
      "outputs": []
    },
    {
      "cell_type": "code",
      "source": [
        "# Remove dummy values from temperature and\n",
        "# convert to F by dividing by 10\n",
        "df[\"temperature\"] = pd.to_numeric(df[\"temperature\"])\n",
        "df = df[df[\"temperature\"] != -8888]\n",
        "df[\"temperature\"] = df[\"temperature\"] / 10"
      ],
      "metadata": {
        "id": "opdjp77SRb4G"
      },
      "execution_count": null,
      "outputs": []
    },
    {
      "cell_type": "code",
      "source": [
        "# Keep only entries that are \"Complete\", \"Standard\"\n",
        "df = df[df[\"flag\"].isin(['C','S','R'])]"
      ],
      "metadata": {
        "id": "i1RGAmTjRerH"
      },
      "execution_count": null,
      "outputs": []
    },
    {
      "cell_type": "code",
      "source": [
        "# Convert month-day pairs to actual dates\n",
        "df[\"date\"] = \"2000-\" + df[\"month\"].astype(str) + \"-\" + df[\"day\"].astype(str)\n",
        "df[\"date\"] = pd.to_datetime(df[\"date\"])"
      ],
      "metadata": {
        "id": "5URe2_dQRfyW"
      },
      "execution_count": null,
      "outputs": []
    },
    {
      "cell_type": "code",
      "source": [
        "# join with the details of each station\n",
        "df = pd.merge(df, stations)"
      ],
      "metadata": {
        "id": "ZnzWBwUfRg5O"
      },
      "execution_count": null,
      "outputs": []
    },
    {
      "cell_type": "markdown",
      "source": [
        "## Pick data for a few selected locations"
      ],
      "metadata": {
        "id": "T6iq5O13D6SY"
      }
    },
    {
      "cell_type": "code",
      "source": [
        "# The list of stations that we want to plot\n",
        "# and their friendly names (we will use the \n",
        "# friendly names to rename the time series later)\n",
        "list_stations = {\n",
        "    \"USC00042319\": \"Death Valley\",  # Death Valley, CA 92328 hottest point in the US\n",
        "    \"USW00094728\": \"New York\",  # New York, NY 10012\n",
        "    \"USW00093107\": \"San Diego\",  # San Diego, CA 92145\n",
        "    \"USW00012918\": \"Houston\",  # Houston, TX 77061\n",
        "    \"USW00027502\": \"Barrow\", # Barrow, AK 99723, coldest point in the US\n",
        "    \n",
        "    #\"USC00516128\": \"Honolulu\", # Honolulu, HI 96813\n",
        "}"
      ],
      "metadata": {
        "id": "Ta716kwcD_EM"
      },
      "execution_count": null,
      "outputs": []
    },
    {
      "cell_type": "code",
      "source": [
        "\"['\" + \"','\".join(list_stations.keys()) + \"']\""
      ],
      "metadata": {
        "id": "9goWZFRURyKw"
      },
      "execution_count": null,
      "outputs": []
    },
    {
      "cell_type": "code",
      "source": [
        "# Keep only the data for the selected stations\n",
        "condition = df['station_id'].isin(list_stations.keys())\n",
        "data = df[condition].sort_values(['station_id','date'])\n",
        "data"
      ],
      "metadata": {
        "id": "CxAfqGlDEAh2"
      },
      "execution_count": null,
      "outputs": []
    },
    {
      "cell_type": "markdown",
      "source": [
        "## Create a Line Plot"
      ],
      "metadata": {
        "id": "ptRp1fGOFbIM"
      }
    },
    {
      "cell_type": "code",
      "metadata": {
        "id": "lXNfq-D5T2qC"
      },
      "source": [
        "# Create a pivot table with the stations as columns\n",
        "pivot = data.pivot_table(\n",
        "    index=\"date\", \n",
        "    columns=\"station_id\", \n",
        "    values=\"temperature\"\n",
        ")\n",
        "\n",
        "# Change the name of the columns to use the friendly names\n",
        "pivot.rename(list_stations, axis=\"columns\", inplace=True)\n",
        "\n",
        "# Date is the index and Station IDs the columns\n",
        "pivot"
      ],
      "execution_count": null,
      "outputs": []
    },
    {
      "cell_type": "code",
      "source": [
        "ax = pivot.plot(\n",
        "    grid=True, \n",
        "    figsize=(8,5), \n",
        "    linewidth=3\n",
        ")\n",
        "ax.set_xlabel(\"Day of the year\")\n",
        "ax.set_ylabel(\"Temperature (°F)\")\n",
        "\n",
        "# Put the legend a bit outside the box\n",
        "plt.legend(bbox_to_anchor=(1.02, 1), loc='upper left', borderaxespad=0)\n",
        "pass "
      ],
      "metadata": {
        "id": "Zvb4P2bYFSE3"
      },
      "execution_count": null,
      "outputs": []
    },
    {
      "cell_type": "markdown",
      "source": [
        "### Line plot, using redundant encoding for location (both line color, and line style)"
      ],
      "metadata": {
        "id": "8K0fSMwaHE0-"
      }
    },
    {
      "cell_type": "code",
      "metadata": {
        "id": "9edlC3zXInhq"
      },
      "source": [
        "fig, ax = plt.subplots(figsize=(10,5))\n",
        "ax = sns.lineplot(data=pivot, linewidth=2)\n",
        "ax.set_xlabel(\"Day of the year\")\n",
        "ax.set_ylabel(\"Temperature (°F)\")\n",
        "\n",
        "plt.legend(bbox_to_anchor=(1.02, 1), loc='upper left', borderaxespad=0)\n",
        "pass"
      ],
      "execution_count": null,
      "outputs": []
    },
    {
      "cell_type": "markdown",
      "source": [
        "### Line plot, using polar coordinates for the time of the year"
      ],
      "metadata": {
        "id": "ywl2--d-HNDo"
      }
    },
    {
      "cell_type": "code",
      "metadata": {
        "id": "BPS8DtOvBUq0"
      },
      "source": [
        "fig, ax = plt.subplots(subplot_kw={'projection': 'polar'}, figsize=(10,7))\n",
        "times = pd.date_range(\"01/01/2000\", \"12/31/2000\")\n",
        "t = mdates.date2num(pivot.index.to_pydatetime())\n",
        "tnorm = (t-t.min())/(t.max()-t.min())*2.*np.pi\n",
        "ax.set_ylim(-40,120)\n",
        "ax.set_xticklabels(['Jan-1', 'Feb-15', 'Apr-1', 'May-15', 'Jul-1', 'Aug-15', 'Oct-1', 'Nov-15'])\n",
        "ax.set_theta_direction(-1)\n",
        "ax.set_theta_zero_location(\"N\")\n",
        "sns.lineplot(data=pivot.set_index(tnorm), linewidth=2)\n",
        "plt.legend(bbox_to_anchor=(1.02, 1), loc='upper left', borderaxespad=0)\n",
        "pass"
      ],
      "execution_count": null,
      "outputs": []
    },
    {
      "cell_type": "markdown",
      "source": [
        "## Create a Heatmap"
      ],
      "metadata": {
        "id": "9eaAfW-WFdU7"
      }
    },
    {
      "cell_type": "code",
      "source": [
        "# We create temperature data with monthly\n",
        "heatmap = pivot.resample(\"1M\").mean()\n",
        "heatmap"
      ],
      "metadata": {
        "id": "rlwoenn-TQhk"
      },
      "execution_count": null,
      "outputs": []
    },
    {
      "cell_type": "code",
      "source": [
        "# Beautifying: Instead of days, we change the index to have names of the months\n",
        "months = [\n",
        "    \"Jan\", \"Feb\", \"Mar\", \"Apr\", \"May\", \"Jun\",\n",
        "    \"Jul\", \"Aug\", \"Sep\", \"Oct\", \"Nov\", \"Dec\",\n",
        "]\n",
        "heatmap.index = months\n",
        "heatmap"
      ],
      "metadata": {
        "id": "s9WEyr9kT61l"
      },
      "execution_count": null,
      "outputs": []
    },
    {
      "cell_type": "code",
      "source": [
        "# Beautifying: Reordering the columns, so that we can go from coldest to hottest\n",
        "locations = [\"Barrow\", \"New York\", \"San Diego\", \"Houston\", \"Death Valley\"]\n",
        "heatmap = heatmap[locations]\n",
        "heatmap"
      ],
      "metadata": {
        "id": "CHu8QhxTFYbu"
      },
      "execution_count": null,
      "outputs": []
    },
    {
      "cell_type": "code",
      "metadata": {
        "id": "D157RYQWCY1x"
      },
      "source": [
        "# Plot the heatmap, using the Seaborn library\n",
        "\n",
        "plt.figure(figsize=(12,5))\n",
        "sns.heatmap(\n",
        "    heatmap.T, \n",
        "    linewidths=1, \n",
        "    cbar_kws={'label': 'Temperature (°F)'}, \n",
        "    cmap='coolwarm'\n",
        ")\n",
        "pass"
      ],
      "execution_count": null,
      "outputs": []
    },
    {
      "cell_type": "code",
      "metadata": {
        "id": "oKcDNAmSj_30"
      },
      "source": [
        "# Same plot, but we now add the temperature values in the boxes\n",
        "plt.figure(figsize=(12,3))\n",
        "sns.heatmap(\n",
        "    heatmap.T, \n",
        "    annot=True, # Put the data value in the box\n",
        "    fmt=\"3.0f\", # formatting the value to have 3 digits with 0 decimals\n",
        "    linewidths=1, \n",
        "    cbar_kws={'label': 'Temperature (°F)'}, \n",
        "    cmap='coolwarm'\n",
        ")\n",
        "\n",
        "pass"
      ],
      "execution_count": null,
      "outputs": []
    },
    {
      "cell_type": "code",
      "metadata": {
        "id": "raCiGgIL-wAU"
      },
      "source": [
        "# We now change the granularity to weekly and re-plot\n",
        "\n",
        "plt.figure(figsize=(26,2))\n",
        "sns.set(font_scale = 0.8)\n",
        "\n",
        "# Resampling our dataset to weekly instead of monthly\n",
        "heatmap = pivot.resample(\"1W\").mean()\n",
        "# Changing the dates to be \"w01\", \"w02\", \"w03\", etc.\n",
        "heatmap.index = [f'w{i:02.0f}' for i in range(1,54)]\n",
        "# Reordering the pivot columns\n",
        "heatmap = heatmap[locations]\n",
        "\n",
        "# Same plot as before, but now we add a bit of control for the \n",
        "# tick labels (adding 45 degree rotation for the x-axis labels)\n",
        "g = sns.heatmap(heatmap.T, annot=True, fmt=\"2.0f\", linewidths=1, cbar_kws={'label': 'Temperature (°F)'}, cmap='coolwarm')\n",
        "g.set_yticklabels(g.get_yticklabels(),rotation=0) \n",
        "g.set_xticklabels(g.get_xticklabels(),rotation=45) \n",
        "pass"
      ],
      "execution_count": null,
      "outputs": []
    },
    {
      "cell_type": "code",
      "metadata": {
        "id": "Mc3lHgfkCcur"
      },
      "source": [
        "# Removing the annotations for the weekly\n",
        "plt.figure(figsize=(26,2))\n",
        "g = sns.heatmap(heatmap.T, linewidths=1, cbar_kws={'label': 'Temperature (°F)'}, cmap='coolwarm')\n",
        "g.set_yticklabels(g.get_yticklabels(),rotation=0) \n",
        "g.set_xticklabels(g.get_xticklabels(),rotation=45) \n",
        "pass"
      ],
      "execution_count": null,
      "outputs": []
    },
    {
      "cell_type": "code",
      "metadata": {
        "id": "_-fiLtidFUNe"
      },
      "source": [
        "# Reploting daily values. We remove the white lines by removing the \n",
        "# option (\"linewidths=1\")\n",
        "plt.figure(figsize=(26,2))\n",
        "heatmap = pivot\n",
        "heatmap = heatmap[locations]\n",
        "g = sns.heatmap(heatmap.T, cbar_kws={'label': 'Temperature (°F)'}, cmap='coolwarm')\n",
        "g.set_yticklabels(g.get_yticklabels(),rotation=0)\n",
        "g.set(xticklabels=[])\n",
        "pass"
      ],
      "execution_count": null,
      "outputs": []
    },
    {
      "cell_type": "markdown",
      "source": [
        "## Plotting temperatures of one location against temperatures in another"
      ],
      "metadata": {
        "id": "x0ECkpgGGdrJ"
      }
    },
    {
      "cell_type": "code",
      "metadata": {
        "id": "oybZkL2dAfJd"
      },
      "source": [
        "fig, ax = plt.subplots(figsize=(7,7))\n",
        "sns.set_style(\"whitegrid\")\n",
        "\n",
        "sns.scatterplot(data=pivot, x=\"New York\", y=\"Barrow\", s=5)"
      ],
      "execution_count": null,
      "outputs": []
    },
    {
      "cell_type": "markdown",
      "source": [
        "### Plotting one location against another, using color to mark the month"
      ],
      "metadata": {
        "id": "iaeGYD6vGjLN"
      }
    },
    {
      "cell_type": "code",
      "metadata": {
        "id": "8vBq9VFgBhAw"
      },
      "source": [
        "fig, ax = plt.subplots(figsize=(7,7))\n",
        "sns.set_style(\"whitegrid\")\n",
        "d = pivot.reset_index()\n",
        "d['month'] = d['date'].dt.month_name()\n",
        "sns.scatterplot(data=d, x=\"New York\", y=\"Barrow\", s=5, hue='month', palette=\"hsv\")\n",
        "plt.legend(bbox_to_anchor=(1.02, 1), loc='upper left', borderaxespad=0)"
      ],
      "execution_count": null,
      "outputs": []
    },
    {
      "cell_type": "markdown",
      "source": [
        "## For Further Visualizations: Overall statistics per location"
      ],
      "metadata": {
        "id": "4Dnic7dnW_ow"
      }
    },
    {
      "cell_type": "code",
      "source": [
        "stats = df.pivot_table(\n",
        "    \n",
        "    index=\"station_id\", \n",
        "    values=\"temperature\", \n",
        "    aggfunc=[\"std\",'mean','max','min']\n",
        ")\n",
        "\n",
        "stats.columns = ['std_temp', 'avg_temp','max_temp', 'min_temp']\n",
        "stats = stats.reset_index()\n",
        "\n",
        "excluded_states = []\n",
        "# excluded_states = ['HI','CA','FL','WA','OR','AK','TX']\n",
        "s = stations[~stations[\"state\"].isin(excluded_states)]\n",
        "stats = pd.merge(stats, s).sort_values('max_temp')\n",
        "stats"
      ],
      "metadata": {
        "id": "bUwoK2aJHSNy"
      },
      "execution_count": null,
      "outputs": []
    },
    {
      "cell_type": "code",
      "source": [
        "stats.plot(\n",
        "    kind='scatter',\n",
        "    x='elevation',\n",
        "    y='avg_temp',\n",
        "    c='std_temp',\n",
        "    cmap = 'coolwarm',\n",
        "    figsize=(10,10)\n",
        ")"
      ],
      "metadata": {
        "id": "hPj0z-LGXKDa"
      },
      "execution_count": null,
      "outputs": []
    },
    {
      "cell_type": "code",
      "source": [
        "stats.plot(\n",
        "    kind='scatter',\n",
        "    x='lon',\n",
        "    y='lat',\n",
        "    c='std_temp',\n",
        "    cmap = 'rainbow',\n",
        "    figsize=(20,10),\n",
        "    s = 2\n",
        ")"
      ],
      "metadata": {
        "id": "IDN4Nlp_X-gj"
      },
      "execution_count": null,
      "outputs": []
    }
  ]
}