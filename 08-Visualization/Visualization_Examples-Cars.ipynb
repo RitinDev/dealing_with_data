{
  "nbformat": 4,
  "nbformat_minor": 0,
  "metadata": {
    "colab": {
      "name": "Visualization_Examples",
      "provenance": [],
      "collapsed_sections": [],
      "authorship_tag": "ABX9TyNv1P42EosTbARl4+BKMtxu",
      "include_colab_link": true
    },
    "kernelspec": {
      "name": "python3",
      "display_name": "Python 3"
    },
    "language_info": {
      "name": "python"
    }
  },
  "cells": [
    {
      "cell_type": "markdown",
      "metadata": {
        "id": "view-in-github",
        "colab_type": "text"
      },
      "source": [
        "<a href=\"https://colab.research.google.com/github/ipeirotis/dealing_with_data/blob/master/08-Visualization/Visualization_Examples-Cars.ipynb\" target=\"_parent\"><img src=\"https://colab.research.google.com/assets/colab-badge.svg\" alt=\"Open In Colab\"/></a>"
      ]
    },
    {
      "cell_type": "code",
      "metadata": {
        "id": "wet0ty3l-hvi"
      },
      "source": [
        "from io import StringIO\n",
        "import pandas as pd\n",
        "from matplotlib import pyplot as plt\n",
        "import seaborn as sns\n",
        "\n",
        "plt.figure(figsize=(10,8))\n",
        "sns.set(font_scale = 1.5)\n",
        "sns.set_style(\"whitegrid\")\n"
      ],
      "execution_count": null,
      "outputs": []
    },
    {
      "cell_type": "markdown",
      "source": [
        "# Visualizing the MTCars Dataset"
      ],
      "metadata": {
        "id": "F-fmO26SHS5_"
      }
    },
    {
      "cell_type": "code",
      "source": [
        "mtcars = '''\n",
        "\"car_model\",\"mpg\",\"cyl\",\"disp\",\"hp\",\"drat\",\"wt\",\"qsec\",\"vs\",\"am\",\"gear\",\"carb\"\n",
        "\"Mazda RX4\",21,6,160,110,3.9,2.62,16.46,0,1,4,4\n",
        "\"Mazda RX4 Wag\",21,6,160,110,3.9,2.875,17.02,0,1,4,4\n",
        "\"Datsun 710\",22.8,4,108,93,3.85,2.32,18.61,1,1,4,1\n",
        "\"Hornet 4 Drive\",21.4,6,258,110,3.08,3.215,19.44,1,0,3,1\n",
        "\"Hornet Sportabout\",18.7,8,360,175,3.15,3.44,17.02,0,0,3,2\n",
        "\"Valiant\",18.1,6,225,105,2.76,3.46,20.22,1,0,3,1\n",
        "\"Duster 360\",14.3,8,360,245,3.21,3.57,15.84,0,0,3,4\n",
        "\"Merc 240D\",24.4,4,146.7,62,3.69,3.19,20,1,0,4,2\n",
        "\"Merc 230\",22.8,4,140.8,95,3.92,3.15,22.9,1,0,4,2\n",
        "\"Merc 280\",19.2,6,167.6,123,3.92,3.44,18.3,1,0,4,4\n",
        "\"Merc 280C\",17.8,6,167.6,123,3.92,3.44,18.9,1,0,4,4\n",
        "\"Merc 450SE\",16.4,8,275.8,180,3.07,4.07,17.4,0,0,3,3\n",
        "\"Merc 450SL\",17.3,8,275.8,180,3.07,3.73,17.6,0,0,3,3\n",
        "\"Merc 450SLC\",15.2,8,275.8,180,3.07,3.78,18,0,0,3,3\n",
        "\"Cadillac Fleetwood\",10.4,8,472,205,2.93,5.25,17.98,0,0,3,4\n",
        "\"Lincoln Continental\",10.4,8,460,215,3,5.424,17.82,0,0,3,4\n",
        "\"Chrysler Imperial\",14.7,8,440,230,3.23,5.345,17.42,0,0,3,4\n",
        "\"Fiat 128\",32.4,4,78.7,66,4.08,2.2,19.47,1,1,4,1\n",
        "\"Honda Civic\",30.4,4,75.7,52,4.93,1.615,18.52,1,1,4,2\n",
        "\"Toyota Corolla\",33.9,4,71.1,65,4.22,1.835,19.9,1,1,4,1\n",
        "\"Toyota Corona\",21.5,4,120.1,97,3.7,2.465,20.01,1,0,3,1\n",
        "\"Dodge Challenger\",15.5,8,318,150,2.76,3.52,16.87,0,0,3,2\n",
        "\"AMC Javelin\",15.2,8,304,150,3.15,3.435,17.3,0,0,3,2\n",
        "\"Camaro Z28\",13.3,8,350,245,3.73,3.84,15.41,0,0,3,4\n",
        "\"Pontiac Firebird\",19.2,8,400,175,3.08,3.845,17.05,0,0,3,2\n",
        "\"Fiat X1-9\",27.3,4,79,66,4.08,1.935,18.9,1,1,4,1\n",
        "\"Porsche 914-2\",26,4,120.3,91,4.43,2.14,16.7,0,1,5,2\n",
        "\"Lotus Europa\",30.4,4,95.1,113,3.77,1.513,16.9,1,1,5,2\n",
        "\"Ford Pantera L\",15.8,8,351,264,4.22,3.17,14.5,0,1,5,4\n",
        "\"Ferrari Dino\",19.7,6,145,175,3.62,2.77,15.5,0,1,5,6\n",
        "\"Maserati Bora\",15,8,301,335,3.54,3.57,14.6,0,1,5,8\n",
        "\"Volvo 142E\",21.4,4,121,109,4.11,2.78,18.6,1,1,4,2\n",
        "'''"
      ],
      "metadata": {
        "id": "wybP9MxCHWHY"
      },
      "execution_count": null,
      "outputs": []
    },
    {
      "cell_type": "code",
      "source": [
        "df  = pd.read_csv(StringIO(mtcars), sep=',', header=0)\n",
        "df"
      ],
      "metadata": {
        "id": "YZC5Q3WaHgR3"
      },
      "execution_count": null,
      "outputs": []
    },
    {
      "cell_type": "code",
      "source": [
        "df.dtypes"
      ],
      "metadata": {
        "id": "fREYZHyAI1od"
      },
      "execution_count": null,
      "outputs": []
    },
    {
      "cell_type": "code",
      "source": [
        "\n",
        "sns.relplot(data = df,\n",
        "    x = 'disp', # Displacement on x axis\n",
        "    y = 'mpg', # Miles per gallon on y axis\n",
        "    hue = 'hp', palette='viridis', # Horsepower on color with the viridis palette\n",
        "    size =  'wt', sizes=(100, 800), # Weight assigned to marker size, normalizing marker size between 100 and 800 pixels (?)\n",
        "    style = 'cyl', # Number of cylinders assigned to marker shape/style \n",
        "    height=8, aspect=1.2 # Size of the figure\n",
        ")\n"
      ],
      "metadata": {
        "id": "cmhe65bJHmzr"
      },
      "execution_count": null,
      "outputs": []
    },
    {
      "cell_type": "markdown",
      "source": [
        "# Visualizing the MPG dataset"
      ],
      "metadata": {
        "id": "cVATNsUabcrV"
      }
    },
    {
      "cell_type": "code",
      "source": [
        "mpg = sns.load_dataset(\"mpg\")\n",
        "mpg"
      ],
      "metadata": {
        "id": "OcFil2X3NPQ4"
      },
      "execution_count": null,
      "outputs": []
    },
    {
      "cell_type": "code",
      "source": [
        "# Plot miles per gallon against horsepower with other semantics\n",
        "sns.relplot(data=mpg,\n",
        "            x=\"horsepower\", \n",
        "            y=\"mpg\", \n",
        "            hue=\"origin\", palette=\"muted\", \n",
        "            size=\"weight\", sizes=(40, 400), \n",
        "            style = 'cylinders', edgecolor=\"black\",\n",
        "            alpha=.75, \n",
        "            height=8, aspect=1.2)"
      ],
      "metadata": {
        "id": "NprKaH7mM8Cj"
      },
      "execution_count": null,
      "outputs": []
    },
    {
      "cell_type": "code",
      "source": [
        "# Plot miles per gallon against horsepower with other semantics\n",
        "sns.relplot(data=mpg,\n",
        "            x=\"horsepower\", \n",
        "            y=\"mpg\", \n",
        "            hue=\"model_year\",  palette='viridis',\n",
        "            size=\"weight\",\n",
        "            style = 'cylinders', edgecolor=\"black\",\n",
        "            col = \"origin\",\n",
        "            \n",
        "            sizes=(40, 400), \n",
        "            alpha=.5, \n",
        "            height=6)"
      ],
      "metadata": {
        "id": "XTPsSYbKNX2b"
      },
      "execution_count": null,
      "outputs": []
    }
  ]
}