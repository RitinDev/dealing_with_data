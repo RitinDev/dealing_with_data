{
  "nbformat": 4,
  "nbformat_minor": 0,
  "metadata": {
    "colab": {
      "name": "A2-Introduction_to_Pandas_Plotting.ipynb",
      "provenance": [],
      "include_colab_link": true
    },
    "kernelspec": {
      "display_name": "Python 3",
      "language": "python",
      "name": "python3"
    },
    "language_info": {
      "codemirror_mode": {
        "name": "ipython",
        "version": 3
      },
      "file_extension": ".py",
      "mimetype": "text/x-python",
      "name": "python",
      "nbconvert_exporter": "python",
      "pygments_lexer": "ipython3",
      "version": "3.8.2"
    }
  },
  "cells": [
    {
      "cell_type": "markdown",
      "metadata": {
        "id": "view-in-github",
        "colab_type": "text"
      },
      "source": [
        "<a href=\"https://colab.research.google.com/github/ipeirotis/dealing_with_data/blob/master/06-Spatial_Data_and_Maps/A-Plotting_Spatial_Data.ipynb\" target=\"_parent\"><img src=\"https://colab.research.google.com/assets/colab-badge.svg\" alt=\"Open In Colab\"/></a>"
      ]
    },
    {
      "cell_type": "markdown",
      "metadata": {
        "id": "QQkGfjhtIf6U"
      },
      "source": [
        "# Introduction to Pandas: Plotting"
      ]
    },
    {
      "cell_type": "markdown",
      "metadata": {
        "id": "ru7__vTzIf6X"
      },
      "source": [
        "## Preliminaries and Setup"
      ]
    },
    {
      "cell_type": "markdown",
      "metadata": {
        "id": "7v4lBEjVIf6Y"
      },
      "source": [
        "We start this notebook by typing a \"magic\" command that allows iPython notebooks to display plots directly in the browser."
      ]
    },
    {
      "cell_type": "code",
      "metadata": {
        "id": "4Tm_a-b8Zlma",
        "scrolled": true
      },
      "source": [
        "!sudo apt-get install -y -qq  libgeos-dev libproj-dev proj-data proj-bin libgdal-dev libspatialindex-dev \n",
        "!sudo pip install -U shapely rtree pygeos\n",
        "\n",
        "!sudo pip install geopandas descartes\n"
      ],
      "execution_count": null,
      "outputs": []
    },
    {
      "cell_type": "code",
      "metadata": {
        "id": "39gUFHT6If6h"
      },
      "source": [
        "# Render our plots inline\n",
        "%matplotlib inline\n",
        "%config InlineBackend.figure_format = 'retina'"
      ],
      "execution_count": null,
      "outputs": []
    },
    {
      "cell_type": "code",
      "metadata": {
        "id": "PTNPNq61If6p"
      },
      "source": [
        "import pandas as pd\n",
        "import matplotlib\n",
        "import matplotlib.pyplot as plt\n",
        "import seaborn as sns\n",
        "import geopandas as gpd"
      ],
      "execution_count": null,
      "outputs": []
    },
    {
      "cell_type": "code",
      "metadata": {
        "id": "ymuxYXjbIf6v"
      },
      "source": [
        "sns.set_style(\"whitegrid\")\n",
        "sns.set(rc={'figure.figsize': (20, 20)})\n",
        "matplotlib.style.use(['seaborn-talk', 'seaborn-ticks'])"
      ],
      "execution_count": null,
      "outputs": []
    },
    {
      "cell_type": "markdown",
      "metadata": {
        "id": "wZJqJULcIf63"
      },
      "source": [
        "## Using plotting for data analysis"
      ]
    },
    {
      "cell_type": "markdown",
      "metadata": {
        "id": "s6i-mgpqIf65"
      },
      "source": [
        "We finished our earlier notebook by analyzing the [NYPD Vehicle Collissions](https://data.cityofnewyork.us/Public-Safety/NYPD-Motor-Vehicle-Collisions/h9gi-nx95/data) data set. We continue our analysis now, focusing on plotting.\n"
      ]
    },
    {
      "cell_type": "markdown",
      "metadata": {
        "id": "vKo7aWwGIf67"
      },
      "source": [
        "Just in case you do not have the dataset, you can run the command below, to download the latest version:"
      ]
    },
    {
      "cell_type": "code",
      "metadata": {
        "id": "Edb-xxEoIf68"
      },
      "source": [
        "# Takes 2-3 mins to download ~300Mb\n",
        "!curl 'https://data.cityofnewyork.us/api/views/h9gi-nx95/rows.csv?accessType=DOWNLOAD' -o accidents.csv"
      ],
      "execution_count": null,
      "outputs": []
    },
    {
      "cell_type": "markdown",
      "metadata": {
        "id": "qdt6miuyIf7B"
      },
      "source": [
        "Now let's load the dataset."
      ]
    },
    {
      "cell_type": "code",
      "metadata": {
        "id": "-qTzcx3IIf7C"
      },
      "source": [
        "#@title Load datasets\n",
        "import pandas as pd\n",
        "df = pd.read_csv(\n",
        "    \"accidents.csv\",\n",
        "    parse_dates=True,\n",
        "    infer_datetime_format=True,\n",
        "    low_memory=False)"
      ],
      "execution_count": null,
      "outputs": []
    },
    {
      "cell_type": "markdown",
      "metadata": {
        "id": "m27xE4EjIf7J"
      },
      "source": [
        "And check the datatypes to see if there is something that needs to be coverted."
      ]
    },
    {
      "cell_type": "code",
      "metadata": {
        "id": "0TWu147jIf7K"
      },
      "source": [
        "df.dtypes"
      ],
      "execution_count": null,
      "outputs": []
    },
    {
      "cell_type": "code",
      "metadata": {
        "id": "GkgcqlURIf7R"
      },
      "source": [
        "df['DATETIME'] = df['CRASH DATE'].str.cat(df['CRASH TIME'], sep=' ')\n",
        "df.DATETIME = pd.to_datetime(df.DATETIME, format=\"%m/%d/%Y %H:%M\")"
      ],
      "execution_count": null,
      "outputs": []
    },
    {
      "cell_type": "code",
      "metadata": {
        "id": "r20BgLdeIf7Z"
      },
      "source": [
        "df['CRASH TIME'] = pd.to_datetime(df['CRASH TIME'], format=\"%H:%M\")"
      ],
      "execution_count": null,
      "outputs": []
    },
    {
      "cell_type": "code",
      "metadata": {
        "id": "449fCoKvIf7f"
      },
      "source": [
        "df['CRASH DATE'] = pd.to_datetime(df['CRASH DATE'], format=\"%m/%d/%Y\")"
      ],
      "execution_count": null,
      "outputs": []
    },
    {
      "cell_type": "code",
      "metadata": {
        "id": "hNWUk_X3If7k"
      },
      "source": [
        "df['INJURY'] = (df['NUMBER OF PERSONS INJURED']>0)\n",
        "df['DEATH'] = (df['NUMBER OF PERSONS KILLED']>0)"
      ],
      "execution_count": null,
      "outputs": []
    },
    {
      "cell_type": "markdown",
      "metadata": {
        "id": "C76JbZK8If7q"
      },
      "source": [
        "## Overplotting"
      ]
    },
    {
      "cell_type": "markdown",
      "metadata": {
        "id": "UxSNbdRMIf7r"
      },
      "source": [
        "In our last exercise, we finished by creating a scatterplot of the accidents."
      ]
    },
    {
      "cell_type": "code",
      "metadata": {
        "id": "LEO_OJ8kIf7s"
      },
      "source": [
        "df.plot(kind='scatter', x='LONGITUDE', y='LATITUDE')"
      ],
      "execution_count": null,
      "outputs": []
    },
    {
      "cell_type": "markdown",
      "metadata": {
        "id": "xQ_DlgB2If70"
      },
      "source": [
        "Unfortunately, there were cases in the dataset where longitude and latitude were incorrect. Therefore, we create a selection condition to keep only the entries that are valid. We often call such conditions as **masks**."
      ]
    },
    {
      "cell_type": "code",
      "metadata": {
        "id": "L78hzpuYIf72"
      },
      "source": [
        "clean_mask = (df.LATITUDE > 40) & (df.LATITUDE < 41) & (df.LONGITUDE < -72) & (df.LONGITUDE > -74.5)\n",
        "cleandf = df[clean_mask]"
      ],
      "execution_count": null,
      "outputs": []
    },
    {
      "cell_type": "markdown",
      "metadata": {
        "id": "13MdKtgfIf79"
      },
      "source": [
        "Now we created the new dataframe `cleandf` and we plot again:"
      ]
    },
    {
      "cell_type": "code",
      "metadata": {
        "id": "K7zfNVDAIf7_"
      },
      "source": [
        "cleandf.plot(kind='scatter', x='LONGITUDE', y='LATITUDE')"
      ],
      "execution_count": null,
      "outputs": []
    },
    {
      "cell_type": "markdown",
      "metadata": {
        "id": "aMMGs8UIIf8F"
      },
      "source": [
        "We start seeing the shape of NYC now. Let's make the plot a bit bigger, using the `figsize = (20,15)` option, asking the size of the figure to have length 20 on the x axis and 15 on the y axis."
      ]
    },
    {
      "cell_type": "code",
      "metadata": {
        "id": "-eUV4EkOIf8F"
      },
      "source": [
        "cleandf.plot(kind='scatter', x='LONGITUDE', y='LATITUDE', figsize=(20, 15))"
      ],
      "execution_count": null,
      "outputs": []
    },
    {
      "cell_type": "markdown",
      "metadata": {
        "id": "xveOegFJIf8L"
      },
      "source": [
        "## Addressing Overplotting"
      ]
    },
    {
      "cell_type": "markdown",
      "metadata": {
        "id": "4GQg0wLtIf8M"
      },
      "source": [
        "\n",
        "The picture above is showing us that accidents happen in all places in NYC, except maybe some areas of Staten Island. But we have so many data points (~1 million), that we cannot tell anything more beyond that. This is called **overplotting**. The issue becomes increasingly common with the emergence of even medium-sized datasets, such as this one.\n",
        "\n",
        "Below, we are doing to examine a set of techniques for addressing the issue."
      ]
    },
    {
      "cell_type": "markdown",
      "metadata": {
        "id": "D5XigLNuIf8O"
      },
      "source": [
        "### Sampling"
      ]
    },
    {
      "cell_type": "markdown",
      "metadata": {
        "id": "Mc0yjgiPIf8Q"
      },
      "source": [
        "One solution, that is commonly used when we have too many data points, is to simply take a subset of the data. Below, by keeping just 1% of the dataset, we can get a feeling of the density if the accidents in Manhattan, especially around midtown."
      ]
    },
    {
      "cell_type": "code",
      "metadata": {
        "id": "VxGoBEN0If8R"
      },
      "source": [
        "# We can either specify the number of data points,\n",
        "# or the percentage of the dataset that we want to keep.\n",
        "\n",
        "# Keep 10,000 data points\n",
        "# sample = cleandf.sample(n=10000)\n",
        "\n",
        "# Keep 1% of the dataset\n",
        "sample = cleandf.sample(frac=0.01)\n",
        "\n",
        "sample.plot(kind='scatter', x='LONGITUDE', y='LATITUDE', figsize=(20, 15))"
      ],
      "execution_count": null,
      "outputs": []
    },
    {
      "cell_type": "markdown",
      "metadata": {
        "id": "p5lLD6zjIf8V"
      },
      "source": [
        "### Changing marker size"
      ]
    },
    {
      "cell_type": "markdown",
      "metadata": {
        "id": "Jkh7znQJIf8W"
      },
      "source": [
        "Another technique that we can use is to reduce the market size. By default, in Pandas, the marker size for scatterplots is 5 pixels. We can reduce it to 1 pixel by setting `s=1`, or even smaller, eg., `s=0.5`. With this setting, we start seeting that there is a higher density of accidents among major highways. "
      ]
    },
    {
      "cell_type": "code",
      "metadata": {
        "id": "bPmxCjrSIf8W"
      },
      "source": [
        "cleandf.plot(\n",
        "    kind='scatter', x='LONGITUDE', y='LATITUDE', figsize=(20, 15), s=0.5 )"
      ],
      "execution_count": null,
      "outputs": []
    },
    {
      "cell_type": "markdown",
      "metadata": {
        "id": "9C1GtzcbIf8a"
      },
      "source": [
        "### Changing Marker Transparency"
      ]
    },
    {
      "cell_type": "markdown",
      "metadata": {
        "id": "gHhDEy_6If8b"
      },
      "source": [
        "Another common technique is to change the  transparency of the  markers. Using semi-transparent markers we can then optically separate areas where there are many points (the area will still look densely plotted), from areas where there are only a few markers. We can set the transparency using the `alpha` parameter. Setting `alpha=1` means no transparency, while `alpha=0` is full transparency."
      ]
    },
    {
      "cell_type": "code",
      "metadata": {
        "id": "KmD6Mm4wIf8c"
      },
      "source": [
        "cleandf.plot(\n",
        "    kind='scatter',\n",
        "    x='LONGITUDE',\n",
        "    y='LATITUDE',\n",
        "    figsize=(20, 15),\n",
        "    s=0.5,\n",
        "    alpha=0.05)"
      ],
      "execution_count": null,
      "outputs": []
    },
    {
      "cell_type": "code",
      "metadata": {
        "id": "4-UO8DLEIf8g"
      },
      "source": [
        ""
      ],
      "execution_count": null,
      "outputs": []
    },
    {
      "cell_type": "markdown",
      "metadata": {
        "id": "lGtAT3ppIf8j"
      },
      "source": [
        "### Creating 2d histograms, density plots, and contour plots"
      ]
    },
    {
      "cell_type": "markdown",
      "metadata": {
        "id": "C-PDFzBYIf8k"
      },
      "source": [
        "\n",
        "In the picture above, we can visually see that Manhattan, especially eastern midtown, and the area downtown near the entrance to the bridges, has a higher density. We can actually directly histograms and density plots on 2-dimensions."
      ]
    },
    {
      "cell_type": "markdown",
      "metadata": {
        "id": "a3QWX5q2If8l"
      },
      "source": [
        "#### Hexagonal bin plot\n",
        "\n"
      ]
    },
    {
      "cell_type": "markdown",
      "metadata": {
        "id": "qFwRr9yBIf8l"
      },
      "source": [
        "The hexbin plot created a 2-d histogram, where the color signals the number of points within a particular area. The `gridsize` parameter chooses the size of each bin. Higher values offer higher granularity, but very high values tend to create sparsity, when we do not have enough data points."
      ]
    },
    {
      "cell_type": "code",
      "metadata": {
        "id": "C9ctHkvyIf8m"
      },
      "source": [
        "# Hexbin plot\n",
        "cleandf.plot(\n",
        "    kind='hexbin',\n",
        "    x='LONGITUDE',\n",
        "    y='LATITUDE',\n",
        "    gridsize=250,\n",
        "    cmap=plt.cm.Blues,\n",
        "    figsize=(15, 12))"
      ],
      "execution_count": null,
      "outputs": []
    },
    {
      "cell_type": "markdown",
      "metadata": {
        "id": "g-PVasc9If8s"
      },
      "source": [
        "#### 2d density  and contour plots"
      ]
    },
    {
      "cell_type": "markdown",
      "metadata": {
        "id": "rlvBwI4NIf8t"
      },
      "source": [
        "\n",
        "An alternative to the hexbin plots is to use density plots in two dimensions."
      ]
    },
    {
      "cell_type": "code",
      "metadata": {
        "id": "rF2lugueIf8v"
      },
      "source": [
        "# Basic 2D density plot\n",
        "plt.subplots(figsize=(20, 15))\n",
        "\n",
        "# We take a sample, because density plots take a long time to compute\n",
        "# and a sample is typically as good as the full dataset\n",
        "sample = cleandf.sample(10000)\n",
        "\n",
        "sns.kdeplot(\n",
        "    sample.LONGITUDE,\n",
        "    sample.LATITUDE,\n",
        "    gridsize=100,  # controls the resolution\n",
        "    cmap=plt.cm.rainbow,  # color scheme\n",
        "    shade=  # whether to have a density plot (True), or just the contours (False)\n",
        "    True,\n",
        "    alpha=0.5,\n",
        "    shade_lowest=False,\n",
        "    n_levels=50  # How many contours/levels to have\n",
        ")"
      ],
      "execution_count": null,
      "outputs": []
    },
    {
      "cell_type": "code",
      "metadata": {
        "id": "raCxec9PIf9K"
      },
      "source": [
        "# Basic 2D contour plot\n",
        "plt.subplots(figsize=(20, 15))\n",
        "\n",
        "# We take a sample, because density plots take a long time to compute\n",
        "# and a sample is typically as good as the full dataset\n",
        "sample = cleandf.sample(10000)\n",
        "\n",
        "sns.kdeplot(\n",
        "    sample.LONGITUDE,\n",
        "    sample.LATITUDE,\n",
        "    gridsize=100,\n",
        "    cmap=plt.cm.rainbow,\n",
        "    shade=False,\n",
        "    shade_lowest=False,\n",
        "    n_levels=25)"
      ],
      "execution_count": null,
      "outputs": []
    },
    {
      "cell_type": "markdown",
      "metadata": {
        "id": "6rrMeCEJIf9R"
      },
      "source": [
        "## Combining plots\n",
        "\n"
      ]
    },
    {
      "cell_type": "markdown",
      "metadata": {
        "id": "SJ66NwppIf9S"
      },
      "source": [
        "So far, we examined how to create individual plots. We can even combine multiple plots together, using the `ax` parameter. (Historically, `ax` is the term used in MATLAB to refer to an individual plot.) So, let's say that we want to combine the scatter plots with the contour plot above:"
      ]
    },
    {
      "cell_type": "code",
      "metadata": {
        "id": "OqqotiXSehs0"
      },
      "source": [
        "scatterplot = cleandf.plot(\n",
        "    kind='scatter',\n",
        "    x='LONGITUDE',\n",
        "    y='LATITUDE',\n",
        "    figsize=(20, 15),\n",
        "    s=0.5,\n",
        "    alpha=0.1)"
      ],
      "execution_count": null,
      "outputs": []
    },
    {
      "cell_type": "code",
      "metadata": {
        "id": "WC05ouL-lI3N"
      },
      "source": [
        "sample = cleandf.sample(10000)\n",
        "\n",
        "scatterplot = cleandf.plot(\n",
        "    kind='scatter',\n",
        "    x='LONGITUDE',\n",
        "    y='LATITUDE',\n",
        "    figsize=(20, 15),\n",
        "    s=0.5,\n",
        "    alpha=0.05)\n",
        "\n",
        "sns.kdeplot(\n",
        "    x=sample.LONGITUDE,\n",
        "    y=sample.LATITUDE,\n",
        "    gridsize=100,\n",
        "    cmap=plt.cm.rainbow,\n",
        "    shade=False,\n",
        "    thresh=0.01,\n",
        "    n_levels=20,\n",
        "    alpha=1,\n",
        "    linewidths=1,\n",
        "    ax=scatterplot)"
      ],
      "execution_count": null,
      "outputs": []
    },
    {
      "cell_type": "code",
      "metadata": {
        "id": "jeIZVeQ8If9T"
      },
      "source": [
        "scatterplot = cleandf.plot(\n",
        "    kind='scatter',\n",
        "    x='LONGITUDE',\n",
        "    y='LATITUDE',\n",
        "    figsize=(15, 15),\n",
        "    color='gray',\n",
        "    s=0.5,\n",
        "    alpha=0.01)\n",
        "\n",
        "deaths = cleandf[cleandf[\"DEATH\"]==True].plot(\n",
        "    kind='scatter',\n",
        "    x='LONGITUDE',\n",
        "    y='LATITUDE',\n",
        "    color='red',\n",
        "    s=10, alpha=0.25,\n",
        "    ax=scatterplot\n",
        ")\n",
        "\n",
        "sample = cleandf.sample(10000)\n",
        "sns.kdeplot(\n",
        "    x=sample.LONGITUDE,\n",
        "    y=sample.LATITUDE,\n",
        "    gridsize=100,\n",
        "    cmap=plt.cm.rainbow,\n",
        "    shade=False,\n",
        "    n_levels=20,\n",
        "    thresh=0.01,\n",
        "    alpha=1,\n",
        "    # linestyles=\"--\",\n",
        "    linewidths=1,\n",
        "    ax=deaths)"
      ],
      "execution_count": null,
      "outputs": []
    },
    {
      "cell_type": "markdown",
      "metadata": {
        "id": "bVU7y2E5If9W"
      },
      "source": [
        "## Adding Geographic Boundaries"
      ]
    },
    {
      "cell_type": "markdown",
      "metadata": {
        "id": "YZiOPCDDIf9X"
      },
      "source": [
        "When dealing with spatial data, it is often useful to be able to add geographical details in our analysis. While we will not go in details here about the analysis of spatial data, let me mention the concept of **shapefiles**. Shapefiles are files that describe boundaries of geographical areas. Once we have a shapefile, we can then generate various spatial analyses but we will leave that discussion for another session. For now we will simply examine how to add some geographical detail in our plot.\n",
        "\n",
        "The first step is to identify a shapefile for NYC. From the NYC Open data, we can get a shapefile of the NYC neighborhoods:"
      ]
    },
    {
      "cell_type": "code",
      "metadata": {
        "id": "SJzuTQaDIf9Y"
      },
      "source": [
        "# Dataset from NYC Open Data: https://data.cityofnewyork.us/City-Government/Neighborhood-Tabulation-Areas/cpf4-rkhq\n",
        "df_nyc = gpd.GeoDataFrame.from_file('https://data.cityofnewyork.us/api/geospatial/cpf4-rkhq?method=export&format=Shapefile')"
      ],
      "execution_count": null,
      "outputs": []
    },
    {
      "cell_type": "markdown",
      "metadata": {
        "id": "Q1i6prWVIf9c"
      },
      "source": [
        "The file contains the name of each neighborhood, some other details, and a (set of) polygons that describe the shape of each neighborhood."
      ]
    },
    {
      "cell_type": "code",
      "metadata": {
        "id": "QlL8GNTWIf9c"
      },
      "source": [
        "df_nyc.head()"
      ],
      "execution_count": null,
      "outputs": []
    },
    {
      "cell_type": "markdown",
      "metadata": {
        "id": "dzOiGpTnIf9l"
      },
      "source": [
        "We can plot the polugons, using a standard plot command:"
      ]
    },
    {
      "cell_type": "code",
      "metadata": {
        "id": "5UU3a8xJIf9l"
      },
      "source": [
        "df_nyc.plot(\n",
        "    linewidth=0.5,\n",
        "    color='White',\n",
        "    edgecolor='Black',\n",
        "    figsize=(20, 15),\n",
        "    alpha=0.5)"
      ],
      "execution_count": null,
      "outputs": []
    },
    {
      "cell_type": "markdown",
      "metadata": {
        "id": "CxqJqK0VIf9q"
      },
      "source": [
        "Now let's combine the geo-plot with our earlier plots:"
      ]
    },
    {
      "cell_type": "code",
      "metadata": {
        "id": "end-it5QIf9r"
      },
      "source": [
        "base = df_nyc.plot(\n",
        "    linewidth=0.5,\n",
        "    color='White',\n",
        "    edgecolor='Black',\n",
        "    figsize=(20, 15),\n",
        "    alpha=0.5)\n",
        "\n",
        "scatterplot = cleandf.plot(\n",
        "    kind='scatter',\n",
        "    x='LONGITUDE',\n",
        "    y='LATITUDE',\n",
        "    figsize=(20, 15),\n",
        "    s=0.5,\n",
        "    alpha=0.01,\n",
        "    color='midnightblue',\n",
        "    ax=base)"
      ],
      "execution_count": null,
      "outputs": []
    },
    {
      "cell_type": "code",
      "metadata": {
        "id": "P8HksfK3If9v"
      },
      "source": [
        "# Limit only to accidents in Brooklyn and Queens\n",
        "# acc_bq = cleandf[ (cleandf.BOROUGH == 'BROOKLYN') | (cleandf.BOROUGH == 'QUEENS')]"
      ],
      "execution_count": null,
      "outputs": []
    },
    {
      "cell_type": "code",
      "metadata": {
        "id": "-IrEHTGSIf9z"
      },
      "source": [
        "base = df_nyc.plot(\n",
        "    linewidth=0.5,\n",
        "    color='White',\n",
        "    edgecolor='Black',\n",
        "    figsize=(20, 15),\n",
        "    alpha=0.5)\n",
        "\n",
        "scatterplot = cleandf.plot(\n",
        "    kind='scatter',\n",
        "    x='LONGITUDE',\n",
        "    y='LATITUDE',\n",
        "    figsize=(20, 15),\n",
        "    s=0.25,\n",
        "    alpha=0.02,\n",
        "    color='midnightblue',\n",
        "    ax=base)\n",
        "\n",
        "sample = cleandf.sample(10000)\n",
        "\n",
        "sns.kdeplot(\n",
        "    x=sample.LONGITUDE,\n",
        "    y=sample.LATITUDE,\n",
        "    gridsize=200,\n",
        "    n_levels=25,\n",
        "    shade=True,\n",
        "    alpha=0.4,\n",
        "    cmap=plt.cm.rainbow,\n",
        "    thresh=0.01,\n",
        "    ax=scatterplot)"
      ],
      "execution_count": null,
      "outputs": []
    },
    {
      "cell_type": "code",
      "metadata": {
        "id": "nEQ4PpVnaZz7"
      },
      "source": [
        "## "
      ],
      "execution_count": null,
      "outputs": []
    },
    {
      "cell_type": "markdown",
      "metadata": {
        "id": "Jaq76vJAO0gM"
      },
      "source": [
        "## Choropleths"
      ]
    },
    {
      "cell_type": "code",
      "metadata": {
        "id": "VvMbuMOIO3Ub"
      },
      "source": [
        "# Let's take a look at the \"geo-dataframe\" with the neighborhoods\n",
        "df_nyc"
      ],
      "execution_count": null,
      "outputs": []
    },
    {
      "cell_type": "code",
      "metadata": {
        "id": "3q4hMWvfPqc1"
      },
      "source": [
        "# We use the LAT/LON values to create a \"geo\" dataframe for the accidents\n",
        "geo_coordinates = gpd.points_from_xy(cleandf.LONGITUDE, cleandf.LATITUDE)\n",
        "accidents_geodf = gpd.GeoDataFrame(cleandf, geometry=geo_coordinates)"
      ],
      "execution_count": null,
      "outputs": []
    },
    {
      "cell_type": "code",
      "metadata": {
        "id": "7YhcPoHVP215"
      },
      "source": [
        "# This is identical to the \"cleandf\" but it also has a \"geometry\" column at \n",
        "# the very right of the columns\n",
        "accidents_geodf"
      ],
      "execution_count": null,
      "outputs": []
    },
    {
      "cell_type": "code",
      "metadata": {
        "id": "1yY7Fu6sQj2w"
      },
      "source": [
        "cols_to_keep = ['COLLISION_ID', 'geometry', 'INJURY', 'DEATH']\n",
        "accidents_geodf = accidents_geodf[cols_to_keep]\n",
        "accidents_geodf\n"
      ],
      "execution_count": null,
      "outputs": []
    },
    {
      "cell_type": "code",
      "metadata": {
        "id": "ifivVhf1RDdy"
      },
      "source": [
        "cols_to_keep = ['ntacode', 'boro_name', 'ntaname', 'geometry']\n",
        "df_nyc = df_nyc[cols_to_keep]\n",
        "df_nyc = df_nyc.set_index('ntacode')\n",
        "df_nyc"
      ],
      "execution_count": null,
      "outputs": []
    },
    {
      "cell_type": "code",
      "metadata": {
        "id": "C5I96uHOO_Sh"
      },
      "source": [
        "accidents_geodf.crs = df_nyc.crs\n",
        "accidents_per_neighborhood = gpd.sjoin(df_nyc, accidents_geodf, how='inner', op='intersects')"
      ],
      "execution_count": null,
      "outputs": []
    },
    {
      "cell_type": "code",
      "metadata": {
        "id": "V2LJk16QTIHk"
      },
      "source": [
        "pivot = accidents_per_neighborhood.pivot_table(\n",
        "   index = 'ntacode',\n",
        "   values = 'COLLISION_ID',\n",
        "   aggfunc = 'count'\n",
        ") \n",
        "\n",
        "pivot"
      ],
      "execution_count": null,
      "outputs": []
    },
    {
      "cell_type": "code",
      "metadata": {
        "id": "mYm8ehskU4np"
      },
      "source": [
        "pivot['count_percentile'] = pivot['COLLISION_ID'].rank(pct=True)\n",
        "pivot"
      ],
      "execution_count": null,
      "outputs": []
    },
    {
      "cell_type": "code",
      "metadata": {
        "id": "XLHoDgbXUHDj"
      },
      "source": [
        "aux_df = pd.merge(df_nyc, pivot, left_index=True, right_index=True)\n",
        "aux_df\n"
      ],
      "execution_count": null,
      "outputs": []
    },
    {
      "cell_type": "code",
      "metadata": {
        "id": "XTJYmdTzUtz9"
      },
      "source": [
        "ax = aux_df.plot(\n",
        "    column = 'count_percentile',\n",
        "    linewidth=0.25,\n",
        "    edgecolor='Black',\n",
        "    figsize=(20, 20),\n",
        "    cmap = 'coolwarm',\n",
        "    alpha=0.4)\n",
        "\n",
        "ax.set_title(\"friendly_name\")"
      ],
      "execution_count": null,
      "outputs": []
    }
  ]
}