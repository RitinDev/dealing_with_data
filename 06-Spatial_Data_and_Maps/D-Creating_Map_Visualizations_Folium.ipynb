{
 "cells": [
  {
   "cell_type": "markdown",
   "metadata": {},
   "source": [
    "# Visualization using maps in Python\n"
   ]
  },
  {
   "cell_type": "markdown",
   "metadata": {},
   "source": [
    "Another perfect tool for vizualisation data processed in Python is `folium`. It builds on the data wrangling strengths of the Python ecosystem and the mapping strengths of the Leaflet.js library. It manipulate your data in Python, then visualize it in on a Leaflet map. It enables both the binding of data to a map for choropleth visualizations as well as passing Vincent/Vega visualizations as markers on the map."
   ]
  },
  {
   "cell_type": "code",
   "execution_count": 1,
   "metadata": {},
   "outputs": [],
   "source": [
    "%matplotlib inline"
   ]
  },
  {
   "cell_type": "code",
   "execution_count": 2,
   "metadata": {},
   "outputs": [
    {
     "name": "stdout",
     "output_type": "stream",
     "text": [
      "Collecting folium\n",
      "  Downloading folium-0.11.0-py2.py3-none-any.whl (93 kB)\n",
      "\u001b[K     |████████████████████████████████| 93 kB 1.6 MB/s eta 0:00:011\n",
      "\u001b[?25hCollecting branca>=0.3.0\n",
      "  Downloading branca-0.4.1-py3-none-any.whl (24 kB)\n",
      "Requirement already satisfied, skipping upgrade: requests in /usr/local/lib/python3.8/dist-packages (from folium) (2.24.0)\n",
      "Requirement already satisfied, skipping upgrade: jinja2>=2.9 in /usr/local/lib/python3.8/dist-packages (from folium) (2.11.2)\n",
      "Requirement already satisfied, skipping upgrade: numpy in /usr/local/lib/python3.8/dist-packages (from folium) (1.19.2)\n",
      "Requirement already satisfied, skipping upgrade: idna<3,>=2.5 in /usr/local/lib/python3.8/dist-packages (from requests->folium) (2.10)\n",
      "Requirement already satisfied, skipping upgrade: urllib3!=1.25.0,!=1.25.1,<1.26,>=1.21.1 in /usr/local/lib/python3.8/dist-packages (from requests->folium) (1.25.10)\n",
      "Requirement already satisfied, skipping upgrade: certifi>=2017.4.17 in /usr/local/lib/python3.8/dist-packages (from requests->folium) (2020.6.20)\n",
      "Requirement already satisfied, skipping upgrade: chardet<4,>=3.0.2 in /usr/local/lib/python3.8/dist-packages (from requests->folium) (3.0.4)\n",
      "Requirement already satisfied, skipping upgrade: MarkupSafe>=0.23 in /usr/local/lib/python3.8/dist-packages (from jinja2>=2.9->folium) (1.1.1)\n",
      "Installing collected packages: branca, folium\n",
      "Successfully installed branca-0.4.1 folium-0.11.0\n",
      "Requirement already up-to-date: geopandas in /usr/local/lib/python3.8/dist-packages (0.8.1)\n",
      "Requirement already satisfied, skipping upgrade: fiona in /usr/local/lib/python3.8/dist-packages (from geopandas) (1.8.17)\n",
      "Requirement already satisfied, skipping upgrade: pyproj>=2.2.0 in /usr/local/lib/python3.8/dist-packages (from geopandas) (2.6.1.post1)\n",
      "Requirement already satisfied, skipping upgrade: shapely in /usr/local/lib/python3.8/dist-packages (from geopandas) (1.7.1)\n",
      "Requirement already satisfied, skipping upgrade: pandas>=0.23.0 in /usr/local/lib/python3.8/dist-packages (from geopandas) (1.1.2)\n",
      "Requirement already satisfied, skipping upgrade: six>=1.7 in /usr/local/lib/python3.8/dist-packages (from fiona->geopandas) (1.15.0)\n",
      "Requirement already satisfied, skipping upgrade: attrs>=17 in /usr/local/lib/python3.8/dist-packages (from fiona->geopandas) (20.2.0)\n",
      "Requirement already satisfied, skipping upgrade: munch in /usr/local/lib/python3.8/dist-packages (from fiona->geopandas) (2.5.0)\n",
      "Requirement already satisfied, skipping upgrade: click-plugins>=1.0 in /usr/local/lib/python3.8/dist-packages (from fiona->geopandas) (1.1.1)\n",
      "Requirement already satisfied, skipping upgrade: cligj>=0.5 in /usr/local/lib/python3.8/dist-packages (from fiona->geopandas) (0.5.0)\n",
      "Requirement already satisfied, skipping upgrade: click<8,>=4.0 in /usr/local/lib/python3.8/dist-packages (from fiona->geopandas) (7.1.2)\n",
      "Requirement already satisfied, skipping upgrade: numpy>=1.15.4 in /usr/local/lib/python3.8/dist-packages (from pandas>=0.23.0->geopandas) (1.19.2)\n",
      "Requirement already satisfied, skipping upgrade: pytz>=2017.2 in /usr/local/lib/python3.8/dist-packages (from pandas>=0.23.0->geopandas) (2020.1)\n",
      "Requirement already satisfied, skipping upgrade: python-dateutil>=2.7.3 in /usr/local/lib/python3.8/dist-packages (from pandas>=0.23.0->geopandas) (2.8.1)\n"
     ]
    }
   ],
   "source": [
    "!sudo -H pip3 install -U folium\n",
    "!sudo -H pip3 install -U geopandas"
   ]
  },
  {
   "cell_type": "markdown",
   "metadata": {},
   "source": [
    "`folium` provides very detailed map and we may use it to visualize geodata localized in a small scale. Let's get the data from the [Citibike API](http://www.citibikenyc.com/stations/json):"
   ]
  },
  {
   "cell_type": "code",
   "execution_count": 3,
   "metadata": {},
   "outputs": [
    {
     "ename": "JSONDecodeError",
     "evalue": "Expecting value: line 1 column 1 (char 0)",
     "output_type": "error",
     "traceback": [
      "\u001b[0;31m\u001b[0m",
      "\u001b[0;31mJSONDecodeError\u001b[0mTraceback (most recent call last)",
      "\u001b[0;32m<ipython-input-3-4f7503d0cc37>\u001b[0m in \u001b[0;36m<module>\u001b[0;34m\u001b[0m\n\u001b[1;32m      3\u001b[0m \u001b[0;34m\u001b[0m\u001b[0m\n\u001b[1;32m      4\u001b[0m \u001b[0murl\u001b[0m \u001b[0;34m=\u001b[0m \u001b[0;34m'http://www.citibikenyc.com/stations/json'\u001b[0m\u001b[0;34m\u001b[0m\u001b[0;34m\u001b[0m\u001b[0m\n\u001b[0;32m----> 5\u001b[0;31m \u001b[0mresults\u001b[0m \u001b[0;34m=\u001b[0m \u001b[0mrequests\u001b[0m\u001b[0;34m.\u001b[0m\u001b[0mget\u001b[0m\u001b[0;34m(\u001b[0m\u001b[0murl\u001b[0m\u001b[0;34m)\u001b[0m\u001b[0;34m.\u001b[0m\u001b[0mjson\u001b[0m\u001b[0;34m(\u001b[0m\u001b[0;34m)\u001b[0m\u001b[0;34m\u001b[0m\u001b[0;34m\u001b[0m\u001b[0m\n\u001b[0m\u001b[1;32m      6\u001b[0m \u001b[0mdata\u001b[0m \u001b[0;34m=\u001b[0m \u001b[0mresults\u001b[0m\u001b[0;34m[\u001b[0m\u001b[0;34m\"stationBeanList\"\u001b[0m\u001b[0;34m]\u001b[0m\u001b[0;34m\u001b[0m\u001b[0;34m\u001b[0m\u001b[0m\n\u001b[1;32m      7\u001b[0m \u001b[0;34m\u001b[0m\u001b[0m\n",
      "\u001b[0;32m/usr/local/lib/python3.8/dist-packages/requests/models.py\u001b[0m in \u001b[0;36mjson\u001b[0;34m(self, **kwargs)\u001b[0m\n\u001b[1;32m    896\u001b[0m                     \u001b[0;31m# used.\u001b[0m\u001b[0;34m\u001b[0m\u001b[0;34m\u001b[0m\u001b[0;34m\u001b[0m\u001b[0m\n\u001b[1;32m    897\u001b[0m                     \u001b[0;32mpass\u001b[0m\u001b[0;34m\u001b[0m\u001b[0;34m\u001b[0m\u001b[0m\n\u001b[0;32m--> 898\u001b[0;31m         \u001b[0;32mreturn\u001b[0m \u001b[0mcomplexjson\u001b[0m\u001b[0;34m.\u001b[0m\u001b[0mloads\u001b[0m\u001b[0;34m(\u001b[0m\u001b[0mself\u001b[0m\u001b[0;34m.\u001b[0m\u001b[0mtext\u001b[0m\u001b[0;34m,\u001b[0m \u001b[0;34m**\u001b[0m\u001b[0mkwargs\u001b[0m\u001b[0;34m)\u001b[0m\u001b[0;34m\u001b[0m\u001b[0;34m\u001b[0m\u001b[0m\n\u001b[0m\u001b[1;32m    899\u001b[0m \u001b[0;34m\u001b[0m\u001b[0m\n\u001b[1;32m    900\u001b[0m     \u001b[0;34m@\u001b[0m\u001b[0mproperty\u001b[0m\u001b[0;34m\u001b[0m\u001b[0;34m\u001b[0m\u001b[0m\n",
      "\u001b[0;32m/usr/lib/python3.8/json/__init__.py\u001b[0m in \u001b[0;36mloads\u001b[0;34m(s, cls, object_hook, parse_float, parse_int, parse_constant, object_pairs_hook, **kw)\u001b[0m\n\u001b[1;32m    355\u001b[0m             \u001b[0mparse_int\u001b[0m \u001b[0;32mis\u001b[0m \u001b[0;32mNone\u001b[0m \u001b[0;32mand\u001b[0m \u001b[0mparse_float\u001b[0m \u001b[0;32mis\u001b[0m \u001b[0;32mNone\u001b[0m \u001b[0;32mand\u001b[0m\u001b[0;34m\u001b[0m\u001b[0;34m\u001b[0m\u001b[0m\n\u001b[1;32m    356\u001b[0m             parse_constant is None and object_pairs_hook is None and not kw):\n\u001b[0;32m--> 357\u001b[0;31m         \u001b[0;32mreturn\u001b[0m \u001b[0m_default_decoder\u001b[0m\u001b[0;34m.\u001b[0m\u001b[0mdecode\u001b[0m\u001b[0;34m(\u001b[0m\u001b[0ms\u001b[0m\u001b[0;34m)\u001b[0m\u001b[0;34m\u001b[0m\u001b[0;34m\u001b[0m\u001b[0m\n\u001b[0m\u001b[1;32m    358\u001b[0m     \u001b[0;32mif\u001b[0m \u001b[0mcls\u001b[0m \u001b[0;32mis\u001b[0m \u001b[0;32mNone\u001b[0m\u001b[0;34m:\u001b[0m\u001b[0;34m\u001b[0m\u001b[0;34m\u001b[0m\u001b[0m\n\u001b[1;32m    359\u001b[0m         \u001b[0mcls\u001b[0m \u001b[0;34m=\u001b[0m \u001b[0mJSONDecoder\u001b[0m\u001b[0;34m\u001b[0m\u001b[0;34m\u001b[0m\u001b[0m\n",
      "\u001b[0;32m/usr/lib/python3.8/json/decoder.py\u001b[0m in \u001b[0;36mdecode\u001b[0;34m(self, s, _w)\u001b[0m\n\u001b[1;32m    335\u001b[0m \u001b[0;34m\u001b[0m\u001b[0m\n\u001b[1;32m    336\u001b[0m         \"\"\"\n\u001b[0;32m--> 337\u001b[0;31m         \u001b[0mobj\u001b[0m\u001b[0;34m,\u001b[0m \u001b[0mend\u001b[0m \u001b[0;34m=\u001b[0m \u001b[0mself\u001b[0m\u001b[0;34m.\u001b[0m\u001b[0mraw_decode\u001b[0m\u001b[0;34m(\u001b[0m\u001b[0ms\u001b[0m\u001b[0;34m,\u001b[0m \u001b[0midx\u001b[0m\u001b[0;34m=\u001b[0m\u001b[0m_w\u001b[0m\u001b[0;34m(\u001b[0m\u001b[0ms\u001b[0m\u001b[0;34m,\u001b[0m \u001b[0;36m0\u001b[0m\u001b[0;34m)\u001b[0m\u001b[0;34m.\u001b[0m\u001b[0mend\u001b[0m\u001b[0;34m(\u001b[0m\u001b[0;34m)\u001b[0m\u001b[0;34m)\u001b[0m\u001b[0;34m\u001b[0m\u001b[0;34m\u001b[0m\u001b[0m\n\u001b[0m\u001b[1;32m    338\u001b[0m         \u001b[0mend\u001b[0m \u001b[0;34m=\u001b[0m \u001b[0m_w\u001b[0m\u001b[0;34m(\u001b[0m\u001b[0ms\u001b[0m\u001b[0;34m,\u001b[0m \u001b[0mend\u001b[0m\u001b[0;34m)\u001b[0m\u001b[0;34m.\u001b[0m\u001b[0mend\u001b[0m\u001b[0;34m(\u001b[0m\u001b[0;34m)\u001b[0m\u001b[0;34m\u001b[0m\u001b[0;34m\u001b[0m\u001b[0m\n\u001b[1;32m    339\u001b[0m         \u001b[0;32mif\u001b[0m \u001b[0mend\u001b[0m \u001b[0;34m!=\u001b[0m \u001b[0mlen\u001b[0m\u001b[0;34m(\u001b[0m\u001b[0ms\u001b[0m\u001b[0;34m)\u001b[0m\u001b[0;34m:\u001b[0m\u001b[0;34m\u001b[0m\u001b[0;34m\u001b[0m\u001b[0m\n",
      "\u001b[0;32m/usr/lib/python3.8/json/decoder.py\u001b[0m in \u001b[0;36mraw_decode\u001b[0;34m(self, s, idx)\u001b[0m\n\u001b[1;32m    353\u001b[0m             \u001b[0mobj\u001b[0m\u001b[0;34m,\u001b[0m \u001b[0mend\u001b[0m \u001b[0;34m=\u001b[0m \u001b[0mself\u001b[0m\u001b[0;34m.\u001b[0m\u001b[0mscan_once\u001b[0m\u001b[0;34m(\u001b[0m\u001b[0ms\u001b[0m\u001b[0;34m,\u001b[0m \u001b[0midx\u001b[0m\u001b[0;34m)\u001b[0m\u001b[0;34m\u001b[0m\u001b[0;34m\u001b[0m\u001b[0m\n\u001b[1;32m    354\u001b[0m         \u001b[0;32mexcept\u001b[0m \u001b[0mStopIteration\u001b[0m \u001b[0;32mas\u001b[0m \u001b[0merr\u001b[0m\u001b[0;34m:\u001b[0m\u001b[0;34m\u001b[0m\u001b[0;34m\u001b[0m\u001b[0m\n\u001b[0;32m--> 355\u001b[0;31m             \u001b[0;32mraise\u001b[0m \u001b[0mJSONDecodeError\u001b[0m\u001b[0;34m(\u001b[0m\u001b[0;34m\"Expecting value\"\u001b[0m\u001b[0;34m,\u001b[0m \u001b[0ms\u001b[0m\u001b[0;34m,\u001b[0m \u001b[0merr\u001b[0m\u001b[0;34m.\u001b[0m\u001b[0mvalue\u001b[0m\u001b[0;34m)\u001b[0m \u001b[0;32mfrom\u001b[0m \u001b[0;32mNone\u001b[0m\u001b[0;34m\u001b[0m\u001b[0;34m\u001b[0m\u001b[0m\n\u001b[0m\u001b[1;32m    356\u001b[0m         \u001b[0;32mreturn\u001b[0m \u001b[0mobj\u001b[0m\u001b[0;34m,\u001b[0m \u001b[0mend\u001b[0m\u001b[0;34m\u001b[0m\u001b[0;34m\u001b[0m\u001b[0m\n",
      "\u001b[0;31mJSONDecodeError\u001b[0m: Expecting value: line 1 column 1 (char 0)"
     ]
    }
   ],
   "source": [
    "import requests\n",
    "import pandas as pd\n",
    "\n",
    "url = 'http://www.citibikenyc.com/stations/json'\n",
    "results = requests.get(url).json()\n",
    "data = results[\"stationBeanList\"]\n",
    "\n",
    "citibike = pd.DataFrame(data)\n",
    "citibike.set_index('id', inplace=True)\n",
    "\n",
    "citibike"
   ]
  },
  {
   "cell_type": "markdown",
   "metadata": {},
   "source": [
    "#### Selecting tiles\n",
    "\n",
    "The first step is to create a map. At the very basic level, we select the location, zoom level, and potentially the tiles (i.e., the style of the map) for the background. The default is 'OpenStreetMap', but often for visualizations we prefer other, more visually neutral styles. (See http://folium.readthedocs.io/en/latest/quickstart.html for more tile optionS)"
   ]
  },
  {
   "cell_type": "code",
   "execution_count": null,
   "metadata": {},
   "outputs": [],
   "source": [
    "import folium\n",
    "fmap = folium.Map(location=[40.73, -74], zoom_start=13, tiles='OpenStreetMap')\n",
    "fmap"
   ]
  },
  {
   "cell_type": "code",
   "execution_count": null,
   "metadata": {},
   "outputs": [],
   "source": [
    "import folium\n",
    "fmap = folium.Map(location=[40.73, -74], zoom_start=12,  tiles='cartodbpositron')\n",
    "fmap"
   ]
  },
  {
   "cell_type": "markdown",
   "metadata": {},
   "source": [
    "#### Adding Markers \n",
    "\n",
    "For every station, we are going to add a marker in the map:\n",
    "* Using the longitude and latitude for the location \n",
    "* Modify the color of the marker to reflect the status of the station\n",
    "* Modify the opacity to be the percentage of bikes in the station. \n",
    "* Modify the size of the circle to corresponds to the size of the station."
   ]
  },
  {
   "cell_type": "code",
   "execution_count": null,
   "metadata": {},
   "outputs": [],
   "source": [
    "for name, row in citibike.iterrows():\n",
    "    \n",
    "    # Define the opacity of the marker to be proportional to the percentage of bikes in the station\n",
    "    opacity = row[\"availableBikes\"]/row[\"totalDocks\"] if row[\"statusValue\"] == 'In Service' else 1.0\n",
    "    # Make the color green for the working stations, red otherwise\n",
    "    color = \"green\" if row[\"statusValue\"] == 'In Service' else \"red\"\n",
    "    # The size of the marker is proportional to the number of docks\n",
    "    size = row[\"totalDocks\"]/10 if row[\"statusValue\"] == 'In Service' else 5\n",
    "\n",
    "    # We create a marker on the map and we add it to the map\n",
    "    folium.CircleMarker(location=[row[\"latitude\"], row[\"longitude\"]], \n",
    "                        radius = size,\n",
    "                        color='black', weight=0.5, \n",
    "                        fill=True,\n",
    "                        fill_opacity = opacity,\n",
    "                        fill_color = color,\n",
    "                       ).add_to(fmap)\n",
    "    \n"
   ]
  },
  {
   "cell_type": "code",
   "execution_count": null,
   "metadata": {},
   "outputs": [],
   "source": [
    "fmap"
   ]
  },
  {
   "cell_type": "markdown",
   "metadata": {},
   "source": [
    "#### Adding popups to the markers\n",
    "\n",
    "For each marker, we can also have a popup with text, html, or even other charts/visualizations. Here is an example of adding an HTML popup to each marker."
   ]
  },
  {
   "cell_type": "code",
   "execution_count": null,
   "metadata": {},
   "outputs": [],
   "source": [
    "fmap = folium.Map(location=[40.73, -74], zoom_start=13,  tiles='cartodbpositron')\n",
    "\n",
    "for name, row in citibike.iterrows():\n",
    "    \n",
    "    # Define the opacity of the marker to be proportional to the percentage of bikes in the station\n",
    "    opacity = row[\"availableBikes\"]/row[\"totalDocks\"] if row[\"statusValue\"] == 'In Service' else 1.0\n",
    "    # Make the color green for the working stations, red otherwise\n",
    "    color = \"green\" if row[\"statusValue\"] == 'In Service' else \"red\"\n",
    "    # The size of the marker is proportional to the number of docks\n",
    "    size = row[\"totalDocks\"]/5 if row[\"statusValue\"] == 'In Service' else 5\n",
    "    \n",
    "   \n",
    "    # The code below defines a pop-up for each station with details such as \n",
    "    # the address, number of bikes, capacity, etc.\n",
    "    html = \"<p style='font-family:sans-serif;font-size:11px'>\" + \\\n",
    "           \"<strong>Address: </strong>\" + row[\"stAddress1\"] + \\\n",
    "           \"<br><strong>Available Bikes: </strong>\" + str(row[\"availableBikes\"]) + \\\n",
    "            \"<br><strong>Total Docks: </strong>\" + str(row[\"totalDocks\"])\n",
    "    iframe = folium.IFrame(html=html, width=200, height=60)\n",
    "    popup = folium.Popup(iframe, max_width=200)\n",
    "\n",
    "    # We create a marker on the map and we add it to the map\n",
    "    folium.CircleMarker(location=[row[\"latitude\"], row[\"longitude\"]], \n",
    "                        radius = size,\n",
    "                        popup = popup, \n",
    "                        color='black', weight=0.5, \n",
    "                        fill=True,\n",
    "                        fill_opacity = opacity,\n",
    "                        fill_color = color,\n",
    "                       ).add_to(fmap)"
   ]
  },
  {
   "cell_type": "code",
   "execution_count": null,
   "metadata": {},
   "outputs": [],
   "source": [
    "    \n",
    "fmap"
   ]
  },
  {
   "cell_type": "code",
   "execution_count": null,
   "metadata": {},
   "outputs": [],
   "source": [
    "# This code below is for generating an image screenshot from a Folium map\n",
    "# It is kind of convoluted, as it involves saving an HTML file\n",
    "# and then launching a Selenium-driven browser and saving a screenshot\n",
    "# NOTE: This requires having a properly working installation\n",
    "# of Selenium\n",
    "\n",
    "\n",
    "import os\n",
    "import time\n",
    "\n",
    "from pyvirtualdisplay import Display\n",
    "\n",
    "display = Display(visible=0, size=(1600, 1600))\n",
    "display.start()\n",
    "\n",
    "delay=5\n",
    "fn='citibike.html'\n",
    "tmpurl='file://{path}/{mapfile}'.format(path=os.getcwd(),mapfile=fn)\n",
    "fmap.save(fn)"
   ]
  },
  {
   "cell_type": "code",
   "execution_count": null,
   "metadata": {},
   "outputs": [],
   "source": [
    "!sudo pip3 install pyvirtualdisplay"
   ]
  },
  {
   "cell_type": "code",
   "execution_count": null,
   "metadata": {},
   "outputs": [],
   "source": [
    "from selenium import webdriver\n",
    "browser = webdriver.Firefox()\n",
    "browser.get(tmpurl)\n",
    "#Give the map tiles some time to load\n",
    "time.sleep(delay)\n",
    "browser.save_screenshot('citibike.png')\n",
    "browser.quit()"
   ]
  },
  {
   "cell_type": "code",
   "execution_count": null,
   "metadata": {},
   "outputs": [],
   "source": []
  },
  {
   "cell_type": "markdown",
   "metadata": {},
   "source": [
    "#### Using shapefiles "
   ]
  },
  {
   "cell_type": "code",
   "execution_count": null,
   "metadata": {},
   "outputs": [],
   "source": [
    "# Dataset from NYC Open Data: https://data.cityofnewyork.us/City-Government/Neighborhood-Tabulation-Areas/cpf4-rkhq\n",
    "!curl 'https://data.cityofnewyork.us/api/geospatial/cpf4-rkhq?method=export&format=GeoJSON' -o data/nyc-neighborhoods.geojson"
   ]
  },
  {
   "cell_type": "code",
   "execution_count": null,
   "metadata": {},
   "outputs": [],
   "source": [
    "# NYC Zipcodes\n",
    "!curl 'https://data.cityofnewyork.us/download/i8iw-xf4u/application%2Fzip' -o 'data/ZIP_CODE_040114.zip'"
   ]
  },
  {
   "cell_type": "code",
   "execution_count": null,
   "metadata": {},
   "outputs": [],
   "source": [
    "import geopandas as gpd\n",
    "\n",
    "nyc_neighborhoods = gpd.GeoDataFrame.from_file('data/nyc-neighborhoods.geojson')\n",
    "nyc_neighborhoods = nyc_neighborhoods[['ntacode', 'ntaname', 'geometry']]\n",
    "nyc_neighborhoods.head(10)"
   ]
  },
  {
   "cell_type": "code",
   "execution_count": null,
   "metadata": {},
   "outputs": [],
   "source": [
    "nyc_neighborhoods.plot(\n",
    "    figsize=(20,20), \n",
    "    color = 'white', \n",
    "    edgecolor = 'black'\n",
    ")"
   ]
  },
  {
   "cell_type": "code",
   "execution_count": null,
   "metadata": {},
   "outputs": [],
   "source": [
    "import folium\n",
    "fmap = folium.Map(location=[40.73, -74], zoom_start=12, tiles='cartodbpositron')\n",
    "\n",
    "folium.GeoJson(nyc_neighborhoods,\n",
    "               name='NYC Neighborhoods',\n",
    "               style_function=lambda feature: {\n",
    "                    'fillColor': '#c0fefe',\n",
    "                    'color': 'black',\n",
    "                    'weight': 1,\n",
    "                    'fillOpacity': 0.25\n",
    "                }\n",
    "              ).add_to(fmap)\n",
    "\n",
    "fmap"
   ]
  },
  {
   "cell_type": "markdown",
   "metadata": {},
   "source": [
    "We first transform the Citibike Dataframe into a GeoPandas datagframe, by creating \n",
    "a column that contains Points, naming the column \"geometry\" and then \n",
    "setting the CRS (coordinate system) to be the same as the one for NYC neighborhoods"
   ]
  },
  {
   "cell_type": "code",
   "execution_count": null,
   "metadata": {},
   "outputs": [],
   "source": [
    "from shapely.geometry import Point\n",
    "\n",
    "citibike['geometry'] = citibike.apply(lambda row: Point(row['longitude'], row['latitude']), axis=1 )\n",
    "citibike_gs = gpd.GeoDataFrame.from_records(citibike)\n"
   ]
  },
  {
   "cell_type": "markdown",
   "metadata": {},
   "source": [
    "#### Spatial Join using GeoPandas\n",
    "\n",
    "Now we join the `nyc_neighborhoods` dataframe that describes the NYC neighborhoods with the `citibike_gs` that has the locations of the Citibike stations."
   ]
  },
  {
   "cell_type": "code",
   "execution_count": null,
   "metadata": {},
   "outputs": [],
   "source": [
    "citibike_gs.crs = nyc_neighborhoods.crs\n",
    "stations_to_neighborhoods = gpd.sjoin(nyc_neighborhoods, citibike_gs, how=\"inner\", op='intersects')"
   ]
  },
  {
   "cell_type": "code",
   "execution_count": null,
   "metadata": {},
   "outputs": [],
   "source": [
    "totaldocks = pd.pivot_table(\n",
    "    data = stations_to_neighborhoods, \n",
    "    index = 'ntacode',\n",
    "    values = 'totalDocks', \n",
    "    aggfunc = 'sum'\n",
    ").drop(['MN99', 'BK99']) # drop the 'misc' areas\n",
    "\n",
    "totaldocks.head(5)"
   ]
  },
  {
   "cell_type": "code",
   "execution_count": null,
   "metadata": {},
   "outputs": [],
   "source": [
    "# GeoPandas choropleths / not very appealing visually\n",
    "# \n",
    "# nyc.set_index('ntacode').join(totaldocks, how='left').fillna(0).plot(\n",
    "#     figsize=(20,20), column='totalDocks', cmap='OrRd', scheme='Quantiles', linewidth=0.1)"
   ]
  },
  {
   "cell_type": "code",
   "execution_count": null,
   "metadata": {},
   "outputs": [],
   "source": [
    "fmap = folium.Map(location=[40.73, -74], zoom_start=12, tiles='cartodbpositron')\n",
    "# folium.LayerControl().add_to(fmap)\n",
    "\n",
    "fmap.choropleth(geo_data='data/nyc-neighborhoods.geojson', \n",
    "                data=totaldocks.reset_index(),\n",
    "                columns=['ntacode', 'totalDocks'],\n",
    "                key_on='feature.properties.ntacode',\n",
    "                fill_color='OrRd', \n",
    "                fill_opacity=0.5, \n",
    "                line_opacity=0.1,\n",
    "                legend_name='Total Docks'\n",
    "               )\n",
    "#folium.LayerControl().add_to(fmap)\n",
    "fmap"
   ]
  },
  {
   "cell_type": "code",
   "execution_count": null,
   "metadata": {},
   "outputs": [],
   "source": []
  }
 ],
 "metadata": {
  "kernelspec": {
   "display_name": "Python 3",
   "language": "python",
   "name": "python3"
  },
  "language_info": {
   "codemirror_mode": {
    "name": "ipython",
    "version": 3
   },
   "file_extension": ".py",
   "mimetype": "text/x-python",
   "name": "python",
   "nbconvert_exporter": "python",
   "pygments_lexer": "ipython3",
   "version": "3.8.2"
  }
 },
 "nbformat": 4,
 "nbformat_minor": 1
}
