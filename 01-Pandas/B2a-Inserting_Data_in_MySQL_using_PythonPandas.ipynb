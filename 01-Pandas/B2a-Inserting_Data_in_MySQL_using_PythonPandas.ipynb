{
  "cells": [
    {
      "cell_type": "markdown",
      "metadata": {
        "id": "view-in-github",
        "colab_type": "text"
      },
      "source": [
        "<a href=\"https://colab.research.google.com/github/ipeirotis/dealing_with_data/blob/master/01-Pandas/B2a-Inserting_Data_in_MySQL_using_PythonPandas.ipynb\" target=\"_parent\"><img src=\"https://colab.research.google.com/assets/colab-badge.svg\" alt=\"Open In Colab\"/></a>"
      ]
    },
    {
      "cell_type": "markdown",
      "metadata": {
        "id": "N75EKVk3-4Ie"
      },
      "source": [
        "## Inserting and Reading data from MySQL using Pandas\n",
        "\n",
        "First let's start with a basic piece of code that fetches the data that we want to insert in the database. For our example, we will get the data about the Citibike stations, using the correspoding API call provided by the Citibike website:"
      ]
    },
    {
      "cell_type": "code",
      "execution_count": 1,
      "metadata": {
        "id": "rO1DzwuX-4Ii",
        "outputId": "64667368-7958-48ed-e33d-adfad7898897",
        "colab": {
          "base_uri": "https://localhost:8080/"
        }
      },
      "outputs": [
        {
          "output_type": "stream",
          "name": "stdout",
          "text": [
            "\u001b[K     |████████████████████████████████| 43 kB 1.4 MB/s \n",
            "\u001b[K     |████████████████████████████████| 1.6 MB 18.8 MB/s \n",
            "\u001b[K     |████████████████████████████████| 1.6 MB 37.3 MB/s \n",
            "\u001b[K     |████████████████████████████████| 120 kB 39.3 MB/s \n",
            "\u001b[K     |████████████████████████████████| 82 kB 435 kB/s \n",
            "\u001b[?25h"
          ]
        }
      ],
      "source": [
        "!pip install -U -q PyMySQL sqlalchemy sql_magic"
      ]
    },
    {
      "cell_type": "code",
      "execution_count": 2,
      "metadata": {
        "id": "EJlZrTT7-4Ij"
      },
      "outputs": [],
      "source": [
        "import requests"
      ]
    },
    {
      "cell_type": "code",
      "execution_count": 3,
      "metadata": {
        "id": "eWtOxTSp-4Ik"
      },
      "outputs": [],
      "source": [
        "# Let's get the data from the Citibike API\n",
        "\n",
        "# This gives information for each station that remains stable over time\n",
        "url_stations = \"https://gbfs.citibikenyc.com/gbfs/en/station_information.json\"\n",
        "# This gives the live status of all the stations (e.g., bikes available etc)\n",
        "url_status = \"https://gbfs.citibikenyc.com/gbfs/en/station_status.json\"\n",
        "\n",
        "# We fetch for now just the time-invariant data\n",
        "results = requests.get(url_stations).json()"
      ]
    },
    {
      "cell_type": "code",
      "execution_count": 4,
      "metadata": {
        "id": "FUcH_Eqd-4Ik"
      },
      "outputs": [],
      "source": [
        "# We only need a subset of the data in the JSON returned by the Citibike API, so we keep only what we need\n",
        "data = results[\"data\"][\"stations\"]"
      ]
    },
    {
      "cell_type": "code",
      "execution_count": 5,
      "metadata": {
        "id": "7C2PBDad-4Il",
        "outputId": "e98781c1-5d3b-4948-af2a-31f04879b6f1",
        "colab": {
          "base_uri": "https://localhost:8080/"
        }
      },
      "outputs": [
        {
          "output_type": "execute_result",
          "data": {
            "text/plain": [
              "1708"
            ]
          },
          "metadata": {},
          "execution_count": 5
        }
      ],
      "source": [
        "len(data)"
      ]
    },
    {
      "cell_type": "code",
      "execution_count": 6,
      "metadata": {
        "id": "Q5-TBkh6-4Il",
        "outputId": "25403c05-58c1-4ab7-e7f4-012d36ff5375",
        "colab": {
          "base_uri": "https://localhost:8080/",
          "height": 548
        }
      },
      "outputs": [
        {
          "output_type": "execute_result",
          "data": {
            "text/plain": [
              "      rental_methods station_id  electric_bike_surcharge_waiver  \\\n",
              "0  [KEY, CREDITCARD]         72                           False   \n",
              "1  [KEY, CREDITCARD]         79                           False   \n",
              "2  [KEY, CREDITCARD]         82                           False   \n",
              "3  [KEY, CREDITCARD]         83                           False   \n",
              "4  [KEY, CREDITCARD]        116                           False   \n",
              "\n",
              "                                         rental_uris  \\\n",
              "0  {'android': 'https://bkn.lft.to/lastmile_qr_sc...   \n",
              "1  {'android': 'https://bkn.lft.to/lastmile_qr_sc...   \n",
              "2  {'android': 'https://bkn.lft.to/lastmile_qr_sc...   \n",
              "3  {'android': 'https://bkn.lft.to/lastmile_qr_sc...   \n",
              "4  {'android': 'https://bkn.lft.to/lastmile_qr_sc...   \n",
              "\n",
              "                            name  has_kiosk  \\\n",
              "0               W 52 St & 11 Ave       True   \n",
              "1       Franklin St & W Broadway       True   \n",
              "2         St James Pl & Pearl St       True   \n",
              "3  Atlantic Ave & Fort Greene Pl       True   \n",
              "4                W 17 St & 8 Ave       True   \n",
              "\n",
              "                            external_id        lat region_id  capacity  \\\n",
              "0  66db237e-0aca-11e7-82f6-3863bb44ef7c  40.767272        71        20   \n",
              "1  66db269c-0aca-11e7-82f6-3863bb44ef7c  40.719116        71        33   \n",
              "2  66db277a-0aca-11e7-82f6-3863bb44ef7c  40.711174        71        27   \n",
              "3  66db281e-0aca-11e7-82f6-3863bb44ef7c  40.683826        71        62   \n",
              "4  66db28b5-0aca-11e7-82f6-3863bb44ef7c  40.741776        71        74   \n",
              "\n",
              "  short_name legacy_id eightd_station_services        lon  \\\n",
              "0    6926.01        72                      [] -73.993929   \n",
              "1    5430.08        79                      [] -74.006667   \n",
              "2    5167.06        82                      [] -74.000165   \n",
              "3    4354.07        83                      [] -73.976323   \n",
              "4    6148.02       116                      [] -74.001497   \n",
              "\n",
              "   eightd_has_key_dispenser station_type  \n",
              "0                     False      classic  \n",
              "1                     False      classic  \n",
              "2                     False      classic  \n",
              "3                     False      classic  \n",
              "4                     False      classic  "
            ],
            "text/html": [
              "\n",
              "  <div id=\"df-42b3c133-ad39-4bf8-9ebb-8d6a2c82c946\">\n",
              "    <div class=\"colab-df-container\">\n",
              "      <div>\n",
              "<style scoped>\n",
              "    .dataframe tbody tr th:only-of-type {\n",
              "        vertical-align: middle;\n",
              "    }\n",
              "\n",
              "    .dataframe tbody tr th {\n",
              "        vertical-align: top;\n",
              "    }\n",
              "\n",
              "    .dataframe thead th {\n",
              "        text-align: right;\n",
              "    }\n",
              "</style>\n",
              "<table border=\"1\" class=\"dataframe\">\n",
              "  <thead>\n",
              "    <tr style=\"text-align: right;\">\n",
              "      <th></th>\n",
              "      <th>rental_methods</th>\n",
              "      <th>station_id</th>\n",
              "      <th>electric_bike_surcharge_waiver</th>\n",
              "      <th>rental_uris</th>\n",
              "      <th>name</th>\n",
              "      <th>has_kiosk</th>\n",
              "      <th>external_id</th>\n",
              "      <th>lat</th>\n",
              "      <th>region_id</th>\n",
              "      <th>capacity</th>\n",
              "      <th>short_name</th>\n",
              "      <th>legacy_id</th>\n",
              "      <th>eightd_station_services</th>\n",
              "      <th>lon</th>\n",
              "      <th>eightd_has_key_dispenser</th>\n",
              "      <th>station_type</th>\n",
              "    </tr>\n",
              "  </thead>\n",
              "  <tbody>\n",
              "    <tr>\n",
              "      <th>0</th>\n",
              "      <td>[KEY, CREDITCARD]</td>\n",
              "      <td>72</td>\n",
              "      <td>False</td>\n",
              "      <td>{'android': 'https://bkn.lft.to/lastmile_qr_sc...</td>\n",
              "      <td>W 52 St &amp; 11 Ave</td>\n",
              "      <td>True</td>\n",
              "      <td>66db237e-0aca-11e7-82f6-3863bb44ef7c</td>\n",
              "      <td>40.767272</td>\n",
              "      <td>71</td>\n",
              "      <td>20</td>\n",
              "      <td>6926.01</td>\n",
              "      <td>72</td>\n",
              "      <td>[]</td>\n",
              "      <td>-73.993929</td>\n",
              "      <td>False</td>\n",
              "      <td>classic</td>\n",
              "    </tr>\n",
              "    <tr>\n",
              "      <th>1</th>\n",
              "      <td>[KEY, CREDITCARD]</td>\n",
              "      <td>79</td>\n",
              "      <td>False</td>\n",
              "      <td>{'android': 'https://bkn.lft.to/lastmile_qr_sc...</td>\n",
              "      <td>Franklin St &amp; W Broadway</td>\n",
              "      <td>True</td>\n",
              "      <td>66db269c-0aca-11e7-82f6-3863bb44ef7c</td>\n",
              "      <td>40.719116</td>\n",
              "      <td>71</td>\n",
              "      <td>33</td>\n",
              "      <td>5430.08</td>\n",
              "      <td>79</td>\n",
              "      <td>[]</td>\n",
              "      <td>-74.006667</td>\n",
              "      <td>False</td>\n",
              "      <td>classic</td>\n",
              "    </tr>\n",
              "    <tr>\n",
              "      <th>2</th>\n",
              "      <td>[KEY, CREDITCARD]</td>\n",
              "      <td>82</td>\n",
              "      <td>False</td>\n",
              "      <td>{'android': 'https://bkn.lft.to/lastmile_qr_sc...</td>\n",
              "      <td>St James Pl &amp; Pearl St</td>\n",
              "      <td>True</td>\n",
              "      <td>66db277a-0aca-11e7-82f6-3863bb44ef7c</td>\n",
              "      <td>40.711174</td>\n",
              "      <td>71</td>\n",
              "      <td>27</td>\n",
              "      <td>5167.06</td>\n",
              "      <td>82</td>\n",
              "      <td>[]</td>\n",
              "      <td>-74.000165</td>\n",
              "      <td>False</td>\n",
              "      <td>classic</td>\n",
              "    </tr>\n",
              "    <tr>\n",
              "      <th>3</th>\n",
              "      <td>[KEY, CREDITCARD]</td>\n",
              "      <td>83</td>\n",
              "      <td>False</td>\n",
              "      <td>{'android': 'https://bkn.lft.to/lastmile_qr_sc...</td>\n",
              "      <td>Atlantic Ave &amp; Fort Greene Pl</td>\n",
              "      <td>True</td>\n",
              "      <td>66db281e-0aca-11e7-82f6-3863bb44ef7c</td>\n",
              "      <td>40.683826</td>\n",
              "      <td>71</td>\n",
              "      <td>62</td>\n",
              "      <td>4354.07</td>\n",
              "      <td>83</td>\n",
              "      <td>[]</td>\n",
              "      <td>-73.976323</td>\n",
              "      <td>False</td>\n",
              "      <td>classic</td>\n",
              "    </tr>\n",
              "    <tr>\n",
              "      <th>4</th>\n",
              "      <td>[KEY, CREDITCARD]</td>\n",
              "      <td>116</td>\n",
              "      <td>False</td>\n",
              "      <td>{'android': 'https://bkn.lft.to/lastmile_qr_sc...</td>\n",
              "      <td>W 17 St &amp; 8 Ave</td>\n",
              "      <td>True</td>\n",
              "      <td>66db28b5-0aca-11e7-82f6-3863bb44ef7c</td>\n",
              "      <td>40.741776</td>\n",
              "      <td>71</td>\n",
              "      <td>74</td>\n",
              "      <td>6148.02</td>\n",
              "      <td>116</td>\n",
              "      <td>[]</td>\n",
              "      <td>-74.001497</td>\n",
              "      <td>False</td>\n",
              "      <td>classic</td>\n",
              "    </tr>\n",
              "  </tbody>\n",
              "</table>\n",
              "</div>\n",
              "      <button class=\"colab-df-convert\" onclick=\"convertToInteractive('df-42b3c133-ad39-4bf8-9ebb-8d6a2c82c946')\"\n",
              "              title=\"Convert this dataframe to an interactive table.\"\n",
              "              style=\"display:none;\">\n",
              "        \n",
              "  <svg xmlns=\"http://www.w3.org/2000/svg\" height=\"24px\"viewBox=\"0 0 24 24\"\n",
              "       width=\"24px\">\n",
              "    <path d=\"M0 0h24v24H0V0z\" fill=\"none\"/>\n",
              "    <path d=\"M18.56 5.44l.94 2.06.94-2.06 2.06-.94-2.06-.94-.94-2.06-.94 2.06-2.06.94zm-11 1L8.5 8.5l.94-2.06 2.06-.94-2.06-.94L8.5 2.5l-.94 2.06-2.06.94zm10 10l.94 2.06.94-2.06 2.06-.94-2.06-.94-.94-2.06-.94 2.06-2.06.94z\"/><path d=\"M17.41 7.96l-1.37-1.37c-.4-.4-.92-.59-1.43-.59-.52 0-1.04.2-1.43.59L10.3 9.45l-7.72 7.72c-.78.78-.78 2.05 0 2.83L4 21.41c.39.39.9.59 1.41.59.51 0 1.02-.2 1.41-.59l7.78-7.78 2.81-2.81c.8-.78.8-2.07 0-2.86zM5.41 20L4 18.59l7.72-7.72 1.47 1.35L5.41 20z\"/>\n",
              "  </svg>\n",
              "      </button>\n",
              "      \n",
              "  <style>\n",
              "    .colab-df-container {\n",
              "      display:flex;\n",
              "      flex-wrap:wrap;\n",
              "      gap: 12px;\n",
              "    }\n",
              "\n",
              "    .colab-df-convert {\n",
              "      background-color: #E8F0FE;\n",
              "      border: none;\n",
              "      border-radius: 50%;\n",
              "      cursor: pointer;\n",
              "      display: none;\n",
              "      fill: #1967D2;\n",
              "      height: 32px;\n",
              "      padding: 0 0 0 0;\n",
              "      width: 32px;\n",
              "    }\n",
              "\n",
              "    .colab-df-convert:hover {\n",
              "      background-color: #E2EBFA;\n",
              "      box-shadow: 0px 1px 2px rgba(60, 64, 67, 0.3), 0px 1px 3px 1px rgba(60, 64, 67, 0.15);\n",
              "      fill: #174EA6;\n",
              "    }\n",
              "\n",
              "    [theme=dark] .colab-df-convert {\n",
              "      background-color: #3B4455;\n",
              "      fill: #D2E3FC;\n",
              "    }\n",
              "\n",
              "    [theme=dark] .colab-df-convert:hover {\n",
              "      background-color: #434B5C;\n",
              "      box-shadow: 0px 1px 3px 1px rgba(0, 0, 0, 0.15);\n",
              "      filter: drop-shadow(0px 1px 2px rgba(0, 0, 0, 0.3));\n",
              "      fill: #FFFFFF;\n",
              "    }\n",
              "  </style>\n",
              "\n",
              "      <script>\n",
              "        const buttonEl =\n",
              "          document.querySelector('#df-42b3c133-ad39-4bf8-9ebb-8d6a2c82c946 button.colab-df-convert');\n",
              "        buttonEl.style.display =\n",
              "          google.colab.kernel.accessAllowed ? 'block' : 'none';\n",
              "\n",
              "        async function convertToInteractive(key) {\n",
              "          const element = document.querySelector('#df-42b3c133-ad39-4bf8-9ebb-8d6a2c82c946');\n",
              "          const dataTable =\n",
              "            await google.colab.kernel.invokeFunction('convertToInteractive',\n",
              "                                                     [key], {});\n",
              "          if (!dataTable) return;\n",
              "\n",
              "          const docLinkHtml = 'Like what you see? Visit the ' +\n",
              "            '<a target=\"_blank\" href=https://colab.research.google.com/notebooks/data_table.ipynb>data table notebook</a>'\n",
              "            + ' to learn more about interactive tables.';\n",
              "          element.innerHTML = '';\n",
              "          dataTable['output_type'] = 'display_data';\n",
              "          await google.colab.output.renderOutput(dataTable, element);\n",
              "          const docLink = document.createElement('div');\n",
              "          docLink.innerHTML = docLinkHtml;\n",
              "          element.appendChild(docLink);\n",
              "        }\n",
              "      </script>\n",
              "    </div>\n",
              "  </div>\n",
              "  "
            ]
          },
          "metadata": {},
          "execution_count": 6
        }
      ],
      "source": [
        "import pandas as pd\n",
        "\n",
        "df = pd.DataFrame(data)\n",
        "df.head(5)"
      ]
    },
    {
      "cell_type": "code",
      "execution_count": 7,
      "metadata": {
        "id": "GuQWUC3I-4Im",
        "outputId": "3de7bc14-8173-4d46-fc43-73232e083d60",
        "colab": {
          "base_uri": "https://localhost:8080/",
          "height": 548
        }
      },
      "outputs": [
        {
          "output_type": "execute_result",
          "data": {
            "text/plain": [
              "  station_id  electric_bike_surcharge_waiver                           name  \\\n",
              "0         72                           False               W 52 St & 11 Ave   \n",
              "1         79                           False       Franklin St & W Broadway   \n",
              "2         82                           False         St James Pl & Pearl St   \n",
              "3         83                           False  Atlantic Ave & Fort Greene Pl   \n",
              "4        116                           False                W 17 St & 8 Ave   \n",
              "\n",
              "   has_kiosk                           external_id        lat region_id  \\\n",
              "0       True  66db237e-0aca-11e7-82f6-3863bb44ef7c  40.767272        71   \n",
              "1       True  66db269c-0aca-11e7-82f6-3863bb44ef7c  40.719116        71   \n",
              "2       True  66db277a-0aca-11e7-82f6-3863bb44ef7c  40.711174        71   \n",
              "3       True  66db281e-0aca-11e7-82f6-3863bb44ef7c  40.683826        71   \n",
              "4       True  66db28b5-0aca-11e7-82f6-3863bb44ef7c  40.741776        71   \n",
              "\n",
              "   capacity short_name legacy_id        lon  eightd_has_key_dispenser  \\\n",
              "0        20    6926.01        72 -73.993929                     False   \n",
              "1        33    5430.08        79 -74.006667                     False   \n",
              "2        27    5167.06        82 -74.000165                     False   \n",
              "3        62    4354.07        83 -73.976323                     False   \n",
              "4        74    6148.02       116 -74.001497                     False   \n",
              "\n",
              "  station_type  \n",
              "0      classic  \n",
              "1      classic  \n",
              "2      classic  \n",
              "3      classic  \n",
              "4      classic  "
            ],
            "text/html": [
              "\n",
              "  <div id=\"df-aa1c736f-23fc-42de-a339-8005847d1ffe\">\n",
              "    <div class=\"colab-df-container\">\n",
              "      <div>\n",
              "<style scoped>\n",
              "    .dataframe tbody tr th:only-of-type {\n",
              "        vertical-align: middle;\n",
              "    }\n",
              "\n",
              "    .dataframe tbody tr th {\n",
              "        vertical-align: top;\n",
              "    }\n",
              "\n",
              "    .dataframe thead th {\n",
              "        text-align: right;\n",
              "    }\n",
              "</style>\n",
              "<table border=\"1\" class=\"dataframe\">\n",
              "  <thead>\n",
              "    <tr style=\"text-align: right;\">\n",
              "      <th></th>\n",
              "      <th>station_id</th>\n",
              "      <th>electric_bike_surcharge_waiver</th>\n",
              "      <th>name</th>\n",
              "      <th>has_kiosk</th>\n",
              "      <th>external_id</th>\n",
              "      <th>lat</th>\n",
              "      <th>region_id</th>\n",
              "      <th>capacity</th>\n",
              "      <th>short_name</th>\n",
              "      <th>legacy_id</th>\n",
              "      <th>lon</th>\n",
              "      <th>eightd_has_key_dispenser</th>\n",
              "      <th>station_type</th>\n",
              "    </tr>\n",
              "  </thead>\n",
              "  <tbody>\n",
              "    <tr>\n",
              "      <th>0</th>\n",
              "      <td>72</td>\n",
              "      <td>False</td>\n",
              "      <td>W 52 St &amp; 11 Ave</td>\n",
              "      <td>True</td>\n",
              "      <td>66db237e-0aca-11e7-82f6-3863bb44ef7c</td>\n",
              "      <td>40.767272</td>\n",
              "      <td>71</td>\n",
              "      <td>20</td>\n",
              "      <td>6926.01</td>\n",
              "      <td>72</td>\n",
              "      <td>-73.993929</td>\n",
              "      <td>False</td>\n",
              "      <td>classic</td>\n",
              "    </tr>\n",
              "    <tr>\n",
              "      <th>1</th>\n",
              "      <td>79</td>\n",
              "      <td>False</td>\n",
              "      <td>Franklin St &amp; W Broadway</td>\n",
              "      <td>True</td>\n",
              "      <td>66db269c-0aca-11e7-82f6-3863bb44ef7c</td>\n",
              "      <td>40.719116</td>\n",
              "      <td>71</td>\n",
              "      <td>33</td>\n",
              "      <td>5430.08</td>\n",
              "      <td>79</td>\n",
              "      <td>-74.006667</td>\n",
              "      <td>False</td>\n",
              "      <td>classic</td>\n",
              "    </tr>\n",
              "    <tr>\n",
              "      <th>2</th>\n",
              "      <td>82</td>\n",
              "      <td>False</td>\n",
              "      <td>St James Pl &amp; Pearl St</td>\n",
              "      <td>True</td>\n",
              "      <td>66db277a-0aca-11e7-82f6-3863bb44ef7c</td>\n",
              "      <td>40.711174</td>\n",
              "      <td>71</td>\n",
              "      <td>27</td>\n",
              "      <td>5167.06</td>\n",
              "      <td>82</td>\n",
              "      <td>-74.000165</td>\n",
              "      <td>False</td>\n",
              "      <td>classic</td>\n",
              "    </tr>\n",
              "    <tr>\n",
              "      <th>3</th>\n",
              "      <td>83</td>\n",
              "      <td>False</td>\n",
              "      <td>Atlantic Ave &amp; Fort Greene Pl</td>\n",
              "      <td>True</td>\n",
              "      <td>66db281e-0aca-11e7-82f6-3863bb44ef7c</td>\n",
              "      <td>40.683826</td>\n",
              "      <td>71</td>\n",
              "      <td>62</td>\n",
              "      <td>4354.07</td>\n",
              "      <td>83</td>\n",
              "      <td>-73.976323</td>\n",
              "      <td>False</td>\n",
              "      <td>classic</td>\n",
              "    </tr>\n",
              "    <tr>\n",
              "      <th>4</th>\n",
              "      <td>116</td>\n",
              "      <td>False</td>\n",
              "      <td>W 17 St &amp; 8 Ave</td>\n",
              "      <td>True</td>\n",
              "      <td>66db28b5-0aca-11e7-82f6-3863bb44ef7c</td>\n",
              "      <td>40.741776</td>\n",
              "      <td>71</td>\n",
              "      <td>74</td>\n",
              "      <td>6148.02</td>\n",
              "      <td>116</td>\n",
              "      <td>-74.001497</td>\n",
              "      <td>False</td>\n",
              "      <td>classic</td>\n",
              "    </tr>\n",
              "  </tbody>\n",
              "</table>\n",
              "</div>\n",
              "      <button class=\"colab-df-convert\" onclick=\"convertToInteractive('df-aa1c736f-23fc-42de-a339-8005847d1ffe')\"\n",
              "              title=\"Convert this dataframe to an interactive table.\"\n",
              "              style=\"display:none;\">\n",
              "        \n",
              "  <svg xmlns=\"http://www.w3.org/2000/svg\" height=\"24px\"viewBox=\"0 0 24 24\"\n",
              "       width=\"24px\">\n",
              "    <path d=\"M0 0h24v24H0V0z\" fill=\"none\"/>\n",
              "    <path d=\"M18.56 5.44l.94 2.06.94-2.06 2.06-.94-2.06-.94-.94-2.06-.94 2.06-2.06.94zm-11 1L8.5 8.5l.94-2.06 2.06-.94-2.06-.94L8.5 2.5l-.94 2.06-2.06.94zm10 10l.94 2.06.94-2.06 2.06-.94-2.06-.94-.94-2.06-.94 2.06-2.06.94z\"/><path d=\"M17.41 7.96l-1.37-1.37c-.4-.4-.92-.59-1.43-.59-.52 0-1.04.2-1.43.59L10.3 9.45l-7.72 7.72c-.78.78-.78 2.05 0 2.83L4 21.41c.39.39.9.59 1.41.59.51 0 1.02-.2 1.41-.59l7.78-7.78 2.81-2.81c.8-.78.8-2.07 0-2.86zM5.41 20L4 18.59l7.72-7.72 1.47 1.35L5.41 20z\"/>\n",
              "  </svg>\n",
              "      </button>\n",
              "      \n",
              "  <style>\n",
              "    .colab-df-container {\n",
              "      display:flex;\n",
              "      flex-wrap:wrap;\n",
              "      gap: 12px;\n",
              "    }\n",
              "\n",
              "    .colab-df-convert {\n",
              "      background-color: #E8F0FE;\n",
              "      border: none;\n",
              "      border-radius: 50%;\n",
              "      cursor: pointer;\n",
              "      display: none;\n",
              "      fill: #1967D2;\n",
              "      height: 32px;\n",
              "      padding: 0 0 0 0;\n",
              "      width: 32px;\n",
              "    }\n",
              "\n",
              "    .colab-df-convert:hover {\n",
              "      background-color: #E2EBFA;\n",
              "      box-shadow: 0px 1px 2px rgba(60, 64, 67, 0.3), 0px 1px 3px 1px rgba(60, 64, 67, 0.15);\n",
              "      fill: #174EA6;\n",
              "    }\n",
              "\n",
              "    [theme=dark] .colab-df-convert {\n",
              "      background-color: #3B4455;\n",
              "      fill: #D2E3FC;\n",
              "    }\n",
              "\n",
              "    [theme=dark] .colab-df-convert:hover {\n",
              "      background-color: #434B5C;\n",
              "      box-shadow: 0px 1px 3px 1px rgba(0, 0, 0, 0.15);\n",
              "      filter: drop-shadow(0px 1px 2px rgba(0, 0, 0, 0.3));\n",
              "      fill: #FFFFFF;\n",
              "    }\n",
              "  </style>\n",
              "\n",
              "      <script>\n",
              "        const buttonEl =\n",
              "          document.querySelector('#df-aa1c736f-23fc-42de-a339-8005847d1ffe button.colab-df-convert');\n",
              "        buttonEl.style.display =\n",
              "          google.colab.kernel.accessAllowed ? 'block' : 'none';\n",
              "\n",
              "        async function convertToInteractive(key) {\n",
              "          const element = document.querySelector('#df-aa1c736f-23fc-42de-a339-8005847d1ffe');\n",
              "          const dataTable =\n",
              "            await google.colab.kernel.invokeFunction('convertToInteractive',\n",
              "                                                     [key], {});\n",
              "          if (!dataTable) return;\n",
              "\n",
              "          const docLinkHtml = 'Like what you see? Visit the ' +\n",
              "            '<a target=\"_blank\" href=https://colab.research.google.com/notebooks/data_table.ipynb>data table notebook</a>'\n",
              "            + ' to learn more about interactive tables.';\n",
              "          element.innerHTML = '';\n",
              "          dataTable['output_type'] = 'display_data';\n",
              "          await google.colab.output.renderOutput(dataTable, element);\n",
              "          const docLink = document.createElement('div');\n",
              "          docLink.innerHTML = docLinkHtml;\n",
              "          element.appendChild(docLink);\n",
              "        }\n",
              "      </script>\n",
              "    </div>\n",
              "  </div>\n",
              "  "
            ]
          },
          "metadata": {},
          "execution_count": 7
        }
      ],
      "source": [
        "# We drop the 'rental methods' columns,\n",
        "# as they contains multiple values and\n",
        "# we cannot insert lists in a database cell.\n",
        "df.drop(\n",
        "    [\"rental_methods\", \"eightd_station_services\", \"rental_uris\"],\n",
        "    axis=\"columns\",\n",
        "    inplace=True,\n",
        ")\n",
        "df.head(5)"
      ]
    },
    {
      "cell_type": "markdown",
      "metadata": {
        "id": "YTWsfw2c-4In"
      },
      "source": [
        "### Writing a Pandas Dataframe in a MySQL Table"
      ]
    },
    {
      "cell_type": "code",
      "execution_count": 8,
      "metadata": {
        "id": "A-MJutFw-4In"
      },
      "outputs": [],
      "source": [
        "import sqlalchemy\n",
        "from sqlalchemy import create_engine\n",
        "\n",
        "conn_string = \"mysql+pymysql://{user}:{password}@{host}/\".format(\n",
        "    host=\"db.ipeirotis.org\", user=\"student\", password=\"dwdstudent2015\"\n",
        ")\n",
        "\n",
        "engine = create_engine(conn_string)"
      ]
    },
    {
      "cell_type": "markdown",
      "metadata": {
        "id": "axMqhcM5-4Io"
      },
      "source": [
        "Once we have connected successfully, we need to create our database:"
      ]
    },
    {
      "cell_type": "code",
      "execution_count": 9,
      "metadata": {
        "id": "zBf1fqKl-4Io",
        "outputId": "2724f4a7-6179-4106-9176-f6c6b1049a6a",
        "colab": {
          "base_uri": "https://localhost:8080/"
        }
      },
      "outputs": [
        {
          "output_type": "execute_result",
          "data": {
            "text/plain": [
              "<sqlalchemy.engine.cursor.LegacyCursorResult at 0x7f5e894b7950>"
            ]
          },
          "metadata": {},
          "execution_count": 9
        }
      ],
      "source": [
        "# Query to create a database\n",
        "# In this example, we will try to create the (existing) database \"public\"\n",
        "# But in general, we can give any name to the database\n",
        "db_name = \"public\"\n",
        "create_db_query = (\n",
        "    f\"CREATE DATABASE IF NOT EXISTS {db_name} DEFAULT CHARACTER SET 'utf8'\"\n",
        ")\n",
        "\n",
        "# Create a database\n",
        "engine.execute(create_db_query)\n",
        "\n",
        "# And lets switch to the database\n",
        "engine.execute(f\"USE {db_name}\")"
      ]
    },
    {
      "cell_type": "code",
      "execution_count": 10,
      "metadata": {
        "id": "YxowtfR--4Ip",
        "outputId": "19942271-04ae-41ca-e8e8-b7a362f6b1f6",
        "colab": {
          "base_uri": "https://localhost:8080/"
        }
      },
      "outputs": [
        {
          "output_type": "stream",
          "name": "stdout",
          "text": [
            "156f51ce\n"
          ]
        }
      ],
      "source": [
        "# To avoid conflicts between people writing in the same database, we add a random suffix in the tables\n",
        "# We only create the variable once while running the notebook\n",
        "import uuid\n",
        "\n",
        "if \"suffix\" not in globals():\n",
        "    suffix = str(uuid.uuid4())[:8]\n",
        "print(suffix)"
      ]
    },
    {
      "cell_type": "markdown",
      "metadata": {
        "id": "E52WMcz8-4Iq"
      },
      "source": [
        "### Create Table and Store Data in Database using the `to_sql` command"
      ]
    },
    {
      "cell_type": "markdown",
      "metadata": {
        "id": "IOzQWSls-4Iq"
      },
      "source": [
        "Then we create the table where we will store our data. Since we already have the data in a Pandas DataFrame, it is very easy to put the data in a database."
      ]
    },
    {
      "cell_type": "code",
      "execution_count": 11,
      "metadata": {
        "id": "ZUsSbmV5-4Iq"
      },
      "outputs": [],
      "source": [
        "table_name = f\"Stations_{suffix}\"\n",
        "# Create a table\n",
        "# See http://pandas.pydata.org/pandas-docs/stable/generated/pandas.DataFrame.to_sql.html for the documentation\n",
        "\n",
        "# This step is optional, but it is good practice to define explicitly the\n",
        "# data types before storing things in a database. In many cases, this can be ommitted, though.\n",
        "\n",
        "create_table_query = f\"\"\"CREATE TABLE IF NOT EXISTS {db_name}.{table_name} \n",
        "                                (legacy_id int,\n",
        "                                station_id int,\n",
        "                                region_id int,\n",
        "                                external_id varchar(50),\n",
        "                                lat float,\n",
        "                                lon float,\n",
        "                                short_name varchar(10),\n",
        "                                name varchar(250),\n",
        "                                station_type varchar(10),\n",
        "                                capacity int,\n",
        "                                electric_bike_surcharge_waiver bool,\n",
        "                                eightd_has_key_dispenser bool,\n",
        "                                has_kiosk bool,\n",
        "                                PRIMARY KEY(station_id)\n",
        "                                )\"\"\"\n",
        "engine.execute(create_table_query)\n",
        "\n",
        "df.to_sql(\n",
        "    name=table_name,\n",
        "    schema=db_name,\n",
        "    con=engine,\n",
        "    if_exists=\"append\",\n",
        "    index=False\n",
        ")"
      ]
    },
    {
      "cell_type": "code",
      "execution_count": null,
      "metadata": {
        "id": "Ujrt3GL4-4Ir"
      },
      "outputs": [],
      "source": [
        "# Once we have the data in the table, we also specify a primary key\n",
        "# If we had FOREIGN KEYS we can add them in the same way\n",
        "add_key_query = f\"ALTER TABLE {table_name} ADD PRIMARY KEY(station_id)\"\n",
        "print(add_key_query)\n",
        "engine.execute(add_key_query)"
      ]
    },
    {
      "cell_type": "markdown",
      "metadata": {
        "id": "QD5SzoRU-4Ir"
      },
      "source": [
        "### Reading from a SQL Database in Python using the `read_sql` command in Pandas"
      ]
    },
    {
      "cell_type": "markdown",
      "metadata": {
        "id": "ZHOkkoTV-4Is"
      },
      "source": [
        "We can similarly read from the database using Pandas"
      ]
    },
    {
      "cell_type": "code",
      "execution_count": 12,
      "metadata": {
        "id": "39RMzAcy-4Is",
        "outputId": "4e176830-f7ae-4305-c7cf-1d45cae8e764",
        "colab": {
          "base_uri": "https://localhost:8080/"
        }
      },
      "outputs": [
        {
          "output_type": "stream",
          "name": "stdout",
          "text": [
            "SELECT * FROM public.Stations_156f51ce\n"
          ]
        }
      ],
      "source": [
        "query = f\"SELECT * FROM {db_name}.{table_name}\"\n",
        "print(query)"
      ]
    },
    {
      "cell_type": "code",
      "execution_count": 13,
      "metadata": {
        "id": "NIcS8SD2-4Is",
        "outputId": "e10c2ecb-c59a-4be1-cae2-145d3bbe6e35",
        "colab": {
          "base_uri": "https://localhost:8080/",
          "height": 510
        }
      },
      "outputs": [
        {
          "output_type": "execute_result",
          "data": {
            "text/plain": [
              "   legacy_id  station_id  region_id                           external_id  \\\n",
              "0         72          72         71  66db237e-0aca-11e7-82f6-3863bb44ef7c   \n",
              "1         79          79         71  66db269c-0aca-11e7-82f6-3863bb44ef7c   \n",
              "2         82          82         71  66db277a-0aca-11e7-82f6-3863bb44ef7c   \n",
              "3         83          83         71  66db281e-0aca-11e7-82f6-3863bb44ef7c   \n",
              "4        116         116         71  66db28b5-0aca-11e7-82f6-3863bb44ef7c   \n",
              "\n",
              "       lat      lon short_name                           name station_type  \\\n",
              "0  40.7673 -73.9939    6926.01               W 52 St & 11 Ave      classic   \n",
              "1  40.7191 -74.0067    5430.08       Franklin St & W Broadway      classic   \n",
              "2  40.7112 -74.0002    5167.06         St James Pl & Pearl St      classic   \n",
              "3  40.6838 -73.9763    4354.07  Atlantic Ave & Fort Greene Pl      classic   \n",
              "4  40.7418 -74.0015    6148.02                W 17 St & 8 Ave      classic   \n",
              "\n",
              "   capacity  electric_bike_surcharge_waiver  eightd_has_key_dispenser  \\\n",
              "0        20                               0                         0   \n",
              "1        33                               0                         0   \n",
              "2        27                               0                         0   \n",
              "3        62                               0                         0   \n",
              "4        74                               0                         0   \n",
              "\n",
              "   has_kiosk  \n",
              "0          1  \n",
              "1          1  \n",
              "2          1  \n",
              "3          1  \n",
              "4          1  "
            ],
            "text/html": [
              "\n",
              "  <div id=\"df-53fb8dfe-1cd5-4a09-a5f9-04c582fb1cfd\">\n",
              "    <div class=\"colab-df-container\">\n",
              "      <div>\n",
              "<style scoped>\n",
              "    .dataframe tbody tr th:only-of-type {\n",
              "        vertical-align: middle;\n",
              "    }\n",
              "\n",
              "    .dataframe tbody tr th {\n",
              "        vertical-align: top;\n",
              "    }\n",
              "\n",
              "    .dataframe thead th {\n",
              "        text-align: right;\n",
              "    }\n",
              "</style>\n",
              "<table border=\"1\" class=\"dataframe\">\n",
              "  <thead>\n",
              "    <tr style=\"text-align: right;\">\n",
              "      <th></th>\n",
              "      <th>legacy_id</th>\n",
              "      <th>station_id</th>\n",
              "      <th>region_id</th>\n",
              "      <th>external_id</th>\n",
              "      <th>lat</th>\n",
              "      <th>lon</th>\n",
              "      <th>short_name</th>\n",
              "      <th>name</th>\n",
              "      <th>station_type</th>\n",
              "      <th>capacity</th>\n",
              "      <th>electric_bike_surcharge_waiver</th>\n",
              "      <th>eightd_has_key_dispenser</th>\n",
              "      <th>has_kiosk</th>\n",
              "    </tr>\n",
              "  </thead>\n",
              "  <tbody>\n",
              "    <tr>\n",
              "      <th>0</th>\n",
              "      <td>72</td>\n",
              "      <td>72</td>\n",
              "      <td>71</td>\n",
              "      <td>66db237e-0aca-11e7-82f6-3863bb44ef7c</td>\n",
              "      <td>40.7673</td>\n",
              "      <td>-73.9939</td>\n",
              "      <td>6926.01</td>\n",
              "      <td>W 52 St &amp; 11 Ave</td>\n",
              "      <td>classic</td>\n",
              "      <td>20</td>\n",
              "      <td>0</td>\n",
              "      <td>0</td>\n",
              "      <td>1</td>\n",
              "    </tr>\n",
              "    <tr>\n",
              "      <th>1</th>\n",
              "      <td>79</td>\n",
              "      <td>79</td>\n",
              "      <td>71</td>\n",
              "      <td>66db269c-0aca-11e7-82f6-3863bb44ef7c</td>\n",
              "      <td>40.7191</td>\n",
              "      <td>-74.0067</td>\n",
              "      <td>5430.08</td>\n",
              "      <td>Franklin St &amp; W Broadway</td>\n",
              "      <td>classic</td>\n",
              "      <td>33</td>\n",
              "      <td>0</td>\n",
              "      <td>0</td>\n",
              "      <td>1</td>\n",
              "    </tr>\n",
              "    <tr>\n",
              "      <th>2</th>\n",
              "      <td>82</td>\n",
              "      <td>82</td>\n",
              "      <td>71</td>\n",
              "      <td>66db277a-0aca-11e7-82f6-3863bb44ef7c</td>\n",
              "      <td>40.7112</td>\n",
              "      <td>-74.0002</td>\n",
              "      <td>5167.06</td>\n",
              "      <td>St James Pl &amp; Pearl St</td>\n",
              "      <td>classic</td>\n",
              "      <td>27</td>\n",
              "      <td>0</td>\n",
              "      <td>0</td>\n",
              "      <td>1</td>\n",
              "    </tr>\n",
              "    <tr>\n",
              "      <th>3</th>\n",
              "      <td>83</td>\n",
              "      <td>83</td>\n",
              "      <td>71</td>\n",
              "      <td>66db281e-0aca-11e7-82f6-3863bb44ef7c</td>\n",
              "      <td>40.6838</td>\n",
              "      <td>-73.9763</td>\n",
              "      <td>4354.07</td>\n",
              "      <td>Atlantic Ave &amp; Fort Greene Pl</td>\n",
              "      <td>classic</td>\n",
              "      <td>62</td>\n",
              "      <td>0</td>\n",
              "      <td>0</td>\n",
              "      <td>1</td>\n",
              "    </tr>\n",
              "    <tr>\n",
              "      <th>4</th>\n",
              "      <td>116</td>\n",
              "      <td>116</td>\n",
              "      <td>71</td>\n",
              "      <td>66db28b5-0aca-11e7-82f6-3863bb44ef7c</td>\n",
              "      <td>40.7418</td>\n",
              "      <td>-74.0015</td>\n",
              "      <td>6148.02</td>\n",
              "      <td>W 17 St &amp; 8 Ave</td>\n",
              "      <td>classic</td>\n",
              "      <td>74</td>\n",
              "      <td>0</td>\n",
              "      <td>0</td>\n",
              "      <td>1</td>\n",
              "    </tr>\n",
              "  </tbody>\n",
              "</table>\n",
              "</div>\n",
              "      <button class=\"colab-df-convert\" onclick=\"convertToInteractive('df-53fb8dfe-1cd5-4a09-a5f9-04c582fb1cfd')\"\n",
              "              title=\"Convert this dataframe to an interactive table.\"\n",
              "              style=\"display:none;\">\n",
              "        \n",
              "  <svg xmlns=\"http://www.w3.org/2000/svg\" height=\"24px\"viewBox=\"0 0 24 24\"\n",
              "       width=\"24px\">\n",
              "    <path d=\"M0 0h24v24H0V0z\" fill=\"none\"/>\n",
              "    <path d=\"M18.56 5.44l.94 2.06.94-2.06 2.06-.94-2.06-.94-.94-2.06-.94 2.06-2.06.94zm-11 1L8.5 8.5l.94-2.06 2.06-.94-2.06-.94L8.5 2.5l-.94 2.06-2.06.94zm10 10l.94 2.06.94-2.06 2.06-.94-2.06-.94-.94-2.06-.94 2.06-2.06.94z\"/><path d=\"M17.41 7.96l-1.37-1.37c-.4-.4-.92-.59-1.43-.59-.52 0-1.04.2-1.43.59L10.3 9.45l-7.72 7.72c-.78.78-.78 2.05 0 2.83L4 21.41c.39.39.9.59 1.41.59.51 0 1.02-.2 1.41-.59l7.78-7.78 2.81-2.81c.8-.78.8-2.07 0-2.86zM5.41 20L4 18.59l7.72-7.72 1.47 1.35L5.41 20z\"/>\n",
              "  </svg>\n",
              "      </button>\n",
              "      \n",
              "  <style>\n",
              "    .colab-df-container {\n",
              "      display:flex;\n",
              "      flex-wrap:wrap;\n",
              "      gap: 12px;\n",
              "    }\n",
              "\n",
              "    .colab-df-convert {\n",
              "      background-color: #E8F0FE;\n",
              "      border: none;\n",
              "      border-radius: 50%;\n",
              "      cursor: pointer;\n",
              "      display: none;\n",
              "      fill: #1967D2;\n",
              "      height: 32px;\n",
              "      padding: 0 0 0 0;\n",
              "      width: 32px;\n",
              "    }\n",
              "\n",
              "    .colab-df-convert:hover {\n",
              "      background-color: #E2EBFA;\n",
              "      box-shadow: 0px 1px 2px rgba(60, 64, 67, 0.3), 0px 1px 3px 1px rgba(60, 64, 67, 0.15);\n",
              "      fill: #174EA6;\n",
              "    }\n",
              "\n",
              "    [theme=dark] .colab-df-convert {\n",
              "      background-color: #3B4455;\n",
              "      fill: #D2E3FC;\n",
              "    }\n",
              "\n",
              "    [theme=dark] .colab-df-convert:hover {\n",
              "      background-color: #434B5C;\n",
              "      box-shadow: 0px 1px 3px 1px rgba(0, 0, 0, 0.15);\n",
              "      filter: drop-shadow(0px 1px 2px rgba(0, 0, 0, 0.3));\n",
              "      fill: #FFFFFF;\n",
              "    }\n",
              "  </style>\n",
              "\n",
              "      <script>\n",
              "        const buttonEl =\n",
              "          document.querySelector('#df-53fb8dfe-1cd5-4a09-a5f9-04c582fb1cfd button.colab-df-convert');\n",
              "        buttonEl.style.display =\n",
              "          google.colab.kernel.accessAllowed ? 'block' : 'none';\n",
              "\n",
              "        async function convertToInteractive(key) {\n",
              "          const element = document.querySelector('#df-53fb8dfe-1cd5-4a09-a5f9-04c582fb1cfd');\n",
              "          const dataTable =\n",
              "            await google.colab.kernel.invokeFunction('convertToInteractive',\n",
              "                                                     [key], {});\n",
              "          if (!dataTable) return;\n",
              "\n",
              "          const docLinkHtml = 'Like what you see? Visit the ' +\n",
              "            '<a target=\"_blank\" href=https://colab.research.google.com/notebooks/data_table.ipynb>data table notebook</a>'\n",
              "            + ' to learn more about interactive tables.';\n",
              "          element.innerHTML = '';\n",
              "          dataTable['output_type'] = 'display_data';\n",
              "          await google.colab.output.renderOutput(dataTable, element);\n",
              "          const docLink = document.createElement('div');\n",
              "          docLink.innerHTML = docLinkHtml;\n",
              "          element.appendChild(docLink);\n",
              "        }\n",
              "      </script>\n",
              "    </div>\n",
              "  </div>\n",
              "  "
            ]
          },
          "metadata": {},
          "execution_count": 13
        }
      ],
      "source": [
        "df2 = pd.read_sql(query, con=engine)\n",
        "df2.head(5)"
      ]
    },
    {
      "cell_type": "markdown",
      "metadata": {
        "id": "tyBLAzyy-4Is"
      },
      "source": [
        "### Export Data from Database to CSV or Excel"
      ]
    },
    {
      "cell_type": "markdown",
      "metadata": {
        "id": "Ae4_McNB-4It"
      },
      "source": [
        "And remember that from Pandas it is also possible to export in other formats, such as Excel of CSV."
      ]
    },
    {
      "cell_type": "code",
      "execution_count": null,
      "metadata": {
        "id": "AZZLmGm1-4It"
      },
      "outputs": [],
      "source": [
        "# The necessary library to write in Excel\n",
        "# !sudo pip3 install -U openpyxl"
      ]
    },
    {
      "cell_type": "code",
      "execution_count": null,
      "metadata": {
        "id": "RDMvCX1s-4It"
      },
      "outputs": [],
      "source": [
        "df2.to_excel(\"citibike.xlsx\")\n",
        "df2.to_csv(\"citibike.csv\")"
      ]
    },
    {
      "cell_type": "markdown",
      "metadata": {
        "id": "_9AAiRVZ-4It"
      },
      "source": [
        "### Cleanup"
      ]
    },
    {
      "cell_type": "markdown",
      "metadata": {
        "id": "2Vor7vxB-4It"
      },
      "source": [
        "Finally, let's clean up and delete the table that we created"
      ]
    },
    {
      "cell_type": "code",
      "execution_count": 14,
      "metadata": {
        "id": "bR7dH1o3-4Iu",
        "outputId": "1c3f9862-40ee-488d-bfa9-ed11770932ec",
        "colab": {
          "base_uri": "https://localhost:8080/"
        }
      },
      "outputs": [
        {
          "output_type": "stream",
          "name": "stdout",
          "text": [
            "DROP TABLE IF EXISTS public.Stations_156f51ce\n"
          ]
        },
        {
          "output_type": "execute_result",
          "data": {
            "text/plain": [
              "<sqlalchemy.engine.cursor.LegacyCursorResult at 0x7f5e7c1d7210>"
            ]
          },
          "metadata": {},
          "execution_count": 14
        }
      ],
      "source": [
        "drop_table_query = f\"DROP TABLE IF EXISTS {db_name}.{table_name}\"\n",
        "print(drop_table_query)\n",
        "engine.execute(drop_table_query)"
      ]
    },
    {
      "cell_type": "markdown",
      "metadata": {
        "id": "al24Bpnf-4Iu"
      },
      "source": [
        "### Exercise\n",
        "\n",
        "The `url_status = 'https://gbfs.citibikenyc.com/gbfs/en/station_status.json'` URL contains the status of the stations. Write code that reads the results from that API call, and then stores the data in a separate table. Add a \"foreign key\" constraint from the Status table to the Stations table that we created above."
      ]
    },
    {
      "cell_type": "code",
      "execution_count": null,
      "metadata": {
        "id": "WdDYqtE2-4Iu"
      },
      "outputs": [],
      "source": []
    }
  ],
  "metadata": {
    "kernelspec": {
      "display_name": "Python 3",
      "language": "python",
      "name": "python3"
    },
    "language_info": {
      "codemirror_mode": {
        "name": "ipython",
        "version": 3
      },
      "file_extension": ".py",
      "mimetype": "text/x-python",
      "name": "python",
      "nbconvert_exporter": "python",
      "pygments_lexer": "ipython3",
      "version": "3.8.5"
    },
    "colab": {
      "provenance": [],
      "include_colab_link": true
    }
  },
  "nbformat": 4,
  "nbformat_minor": 0
}