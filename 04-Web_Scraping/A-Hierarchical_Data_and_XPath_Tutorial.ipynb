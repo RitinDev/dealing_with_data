{
  "nbformat": 4,
  "nbformat_minor": 0,
  "metadata": {
    "kernelspec": {
      "display_name": "Python 3",
      "language": "python",
      "name": "python3"
    },
    "language_info": {
      "codemirror_mode": {
        "name": "ipython",
        "version": 3
      },
      "file_extension": ".py",
      "mimetype": "text/x-python",
      "name": "python",
      "nbconvert_exporter": "python",
      "pygments_lexer": "ipython3",
      "version": "3.6.6"
    },
    "colab": {
      "name": "A-Hierarchical_Data_and_XPath_Tutorial",
      "provenance": [],
      "toc_visible": true,
      "include_colab_link": true
    }
  },
  "cells": [
    {
      "cell_type": "markdown",
      "metadata": {
        "id": "view-in-github",
        "colab_type": "text"
      },
      "source": [
        "<a href=\"https://colab.research.google.com/github/ipeirotis/dealing_with_data/blob/master/04-Web_Scraping/A-Hierarchical_Data_and_XPath_Tutorial.ipynb\" target=\"_parent\"><img src=\"https://colab.research.google.com/assets/colab-badge.svg\" alt=\"Open In Colab\"/></a>"
      ]
    },
    {
      "cell_type": "markdown",
      "source": [
        "# XPath\n"
      ],
      "metadata": {
        "id": "HcyPk4LBj1UE"
      }
    },
    {
      "cell_type": "markdown",
      "metadata": {
        "id": "wloz7ZeXNusB"
      },
      "source": [
        "This is a copy of the [XPath tutorial from W3Schools](http://www.w3schools.com/xpath/xpath_syntax.asp)"
      ]
    },
    {
      "cell_type": "markdown",
      "metadata": {
        "id": "172D0-HeNusC"
      },
      "source": [
        "## XPath Terminology\n",
        "\n"
      ]
    },
    {
      "cell_type": "markdown",
      "source": [
        "### Nodes\n",
        "\n",
        "\n",
        "XML documents are treated as trees of nodes. The topmost element of the tree is called the root element. Look at the following XML document that has `<bookstore>` as the root element:"
      ],
      "metadata": {
        "id": "ayN29iwjjnmr"
      }
    },
    {
      "cell_type": "markdown",
      "metadata": {
        "id": "NA1Ay2mtNusD"
      },
      "source": [
        "```xml\n",
        "<bookstore>\n",
        "  <book>\n",
        "    <title lang=\"en\">Harry Potter</title>\n",
        "    <author>J K. Rowling</author>\n",
        "    <year>2005</year>\n",
        "    <price>29.99</price>\n",
        "  </book>\n",
        "</bookstore>\n",
        "```"
      ]
    },
    {
      "cell_type": "markdown",
      "metadata": {
        "id": "1bAyqoukNusD"
      },
      "source": [
        "There are seven kinds of nodes: element, attribute, text, namespace, processing-instruction, comment, and document nodes. In our class, we will not deal with namespace, processing-instruction, comment, but it is useful to be aware of those.\n",
        "\n",
        "Example of nodes in the XML document above:\n",
        "\n"
      ]
    },
    {
      "cell_type": "markdown",
      "metadata": {
        "id": "SN8SvTfkNusE"
      },
      "source": [
        "* Root element node\n",
        "```xml\n",
        "<bookstore>\n",
        "``` \n",
        "\n",
        "* Element node\n",
        "```xml\n",
        "<author>J K. Rowling</author> \n",
        "```\n",
        "\n",
        "* Attribute node\n",
        "```xml\n",
        "lang=\"en\" \n",
        "```\n"
      ]
    },
    {
      "cell_type": "markdown",
      "metadata": {
        "id": "zVFoFjIoNusF"
      },
      "source": [
        "### Relationship of Nodes\n",
        "\n"
      ]
    },
    {
      "cell_type": "markdown",
      "source": [
        "#### Parent\n",
        "\n",
        "Each element and attribute has one parent.\n",
        "\n",
        "In the following example; the book element is the parent of the title, author, year, and price:"
      ],
      "metadata": {
        "id": "12KAcvYPjrxw"
      }
    },
    {
      "cell_type": "markdown",
      "metadata": {
        "id": "1wnhgaBNNusG"
      },
      "source": [
        "```xml\n",
        "<book>\n",
        "  <title lang=\"en\">Harry Potter</title>\n",
        "  <author>J K. Rowling</author>\n",
        "  <year>2005</year>\n",
        "  <price>29.99</price>\n",
        "</book>\n",
        "```"
      ]
    },
    {
      "cell_type": "markdown",
      "metadata": {
        "id": "tx-kSY5VNusG"
      },
      "source": [
        "#### Children\n",
        "\n",
        "Element nodes may have zero, one or more children.\n",
        "\n",
        "In the following example; the title, author, year, and price elements are all children of the book element:"
      ]
    },
    {
      "cell_type": "markdown",
      "metadata": {
        "id": "w6oWwh36NusH"
      },
      "source": [
        "```xml\n",
        "<book>\n",
        "  <title lang=\"en\">Harry Potter</title>\n",
        "  <author>J K. Rowling</author>\n",
        "  <year>2005</year>\n",
        "  <price>29.99</price>\n",
        "</book>\n",
        "```"
      ]
    },
    {
      "cell_type": "markdown",
      "metadata": {
        "id": "qJeSkrwyNusH"
      },
      "source": [
        "#### Siblings\n",
        "\n",
        "Nodes that have the same parent.\n",
        "\n",
        "In the following example; the title, author, year, and price elements are all siblings:"
      ]
    },
    {
      "cell_type": "markdown",
      "metadata": {
        "id": "_eJK32PlNusI"
      },
      "source": [
        "```xml\n",
        "<book>\n",
        "  <title lang=\"en\">Harry Potter</title>\n",
        "  <author>J K. Rowling</author>\n",
        "  <year>2005</year>\n",
        "  <price>29.99</price>\n",
        "</book>\n",
        "```"
      ]
    },
    {
      "cell_type": "markdown",
      "metadata": {
        "id": "tUMA0WOXNusI"
      },
      "source": [
        "#### Ancestors\n",
        "\n",
        "A node's parent, parent's parent, etc.\n",
        "\n",
        "In the following example; the ancestors of the title element are the book element and the bookstore element:"
      ]
    },
    {
      "cell_type": "markdown",
      "metadata": {
        "id": "bEjER5wdNusJ"
      },
      "source": [
        "```xml\n",
        "<bookstore>\n",
        "  <book>\n",
        "    <title lang=\"en\">Harry Potter</title>\n",
        "    <author>J K. Rowling</author>\n",
        "    <year>2005</year>\n",
        "    <price>29.99</price>\n",
        "  </book>\n",
        "</bookstore>\n",
        "```"
      ]
    },
    {
      "cell_type": "markdown",
      "metadata": {
        "id": "G5WqZKC1NusK"
      },
      "source": [
        "#### Descendants\n",
        "\n",
        "A node's children, children's children, etc.\n",
        "\n",
        "In the following example; descendants of the bookstore element are the book, title, author, year, and price elements:\n",
        "\n"
      ]
    },
    {
      "cell_type": "markdown",
      "metadata": {
        "id": "GPBZdkY3NusK"
      },
      "source": [
        "```xml\n",
        "<bookstore>\n",
        "  <book>\n",
        "    <title>Harry Potter</title>\n",
        "    <author>J K. Rowling</author>\n",
        "    <year>2005</year>\n",
        "    <price>29.99</price>\n",
        "  </book>\n",
        "</bookstore>\n",
        "```"
      ]
    },
    {
      "cell_type": "markdown",
      "metadata": {
        "id": "m691CfYnNusL"
      },
      "source": [
        "## XPath Syntax\n",
        "\n",
        "XPath uses path expressions to select nodes or node-sets in an XML document. The node is selected by following a path or steps.\n",
        "\n"
      ]
    },
    {
      "cell_type": "markdown",
      "source": [
        "### The XML Example Document\n",
        "We will use the following XML document in the examples below."
      ],
      "metadata": {
        "id": "EEfEv3_DkEEo"
      }
    },
    {
      "cell_type": "markdown",
      "metadata": {
        "id": "6OHcnGYANusL"
      },
      "source": [
        "```xml\n",
        "<bookstore>\n",
        "\n",
        "    <book>\n",
        "      <title lang=\"en\">Harry Potter</title>\n",
        "      <price>29.99</price>\n",
        "    </book>\n",
        "\n",
        "    <book>\n",
        "      <title lang=\"fr\">Learning XML</title>\n",
        "      <price>39.95</price>\n",
        "    </book>\n",
        "\n",
        "</bookstore>\n",
        "```"
      ]
    },
    {
      "cell_type": "markdown",
      "metadata": {
        "id": "8AeIu9NmNusM"
      },
      "source": [
        "### Selecting Nodes\n",
        "\n",
        "XPath uses path expressions to select nodes in an XML document. The node is selected by following a path or steps. The most useful path expressions are listed below:"
      ]
    },
    {
      "cell_type": "markdown",
      "metadata": {
        "id": "jtUDa9ItNusM"
      },
      "source": [
        "| Expression | Description                                                                                           |\n",
        "|------------|-------------------------------------------------------------------------------------------------------|\n",
        "| nodename   | Selects all nodes with the name \"nodename\"                                                            |\n",
        "| /          | Selects from the root node                                                                            |\n",
        "| //         | Selects nodes in the document from the current node that match the selection no matter where they are |\n",
        "| .          | Selects the current node                                                                              |\n",
        "| ..         | Selects the parent of the current node                                                                |\n",
        "| @          | Selects attributes                                                                                    |"
      ]
    },
    {
      "cell_type": "markdown",
      "metadata": {
        "id": "YUS5YmeDNusN"
      },
      "source": [
        "In the table below we have listed some path expressions and the result of the expressions:"
      ]
    },
    {
      "cell_type": "markdown",
      "metadata": {
        "id": "sxtuckU3NusN"
      },
      "source": [
        "| Path Expression | Result |\n",
        "|-----------------|------------------------------------------------------------------------------------------------------------------------------------|\n",
        "| bookstore | Selects all nodes with the name \"bookstore\" |\n",
        "| /bookstore | Selects the root element bookstoreNote: If the path starts with a slash ( / ) it always represents an absolute path to an element! |\n",
        "| bookstore/book | Selects all book elements that are children of bookstore |\n",
        "| //book | Selects all book elements no matter where they are in the document |\n",
        "| bookstore//book | Selects all book elements that are descendant of the bookstore element, no matter where they are under the bookstore element |\n",
        "| //@lang | Selects all attributes that are named lang |"
      ]
    },
    {
      "cell_type": "markdown",
      "metadata": {
        "id": "X3EfM5WkNusO"
      },
      "source": [
        "### Predicates\n",
        "\n",
        "Predicates are used to find a specific node or a node that contains a specific value.\n",
        "\n",
        "Predicates are always embedded in square brackets.\n",
        "\n",
        "In the table below we have listed some path expressions with predicates and the result of the expressions:\n",
        "\n"
      ]
    },
    {
      "cell_type": "markdown",
      "metadata": {
        "id": "JL_ifeqhNusP"
      },
      "source": [
        "| Path Expression                    \t| Result                                                                                                                                 \t|\n",
        "|------------------------------------\t|----------------------------------------------------------------------------------------------------------------------------------------\t|\n",
        "| /bookstore/book[1]                 \t| Selects the first book element that is the child of the bookstore element.                                                             \t|\n",
        "| /bookstore/book[last()]            \t| Selects the last book element that is the child of the bookstore element                                                               \t|\n",
        "| /bookstore/book[last()-1]          \t| Selects the last but one book element that is the child of the bookstore element                                                       \t|\n",
        "| /bookstore/book[position()<3]      \t| Selects the first two book elements that are children of the bookstore element                                                         \t|\n",
        "| //title[@lang]                     \t| Selects all the title elements that have an attribute named lang                                                                       \t|\n",
        "| //title[@lang='en']                \t| Selects all the title elements that have an attribute named lang with a value of 'en'                                                  \t|\n",
        "| //title[contains(@lang,'en')]                \t| Selects all the title elements that have an attribute named lang with a value that contains the string 'en'                                                  \t|\n",
        "| //title[re:match(text(), 'H.\\*P.\\*')]                \t| Selects all the title elements that match the regular expression `H.*P.*`                                               \t|\n",
        "| /bookstore/book[price>35.00]       \t| Selects all the book elements of the bookstore element that have a price element with a value greater than 35.00                       \t|\n",
        "| /bookstore/book[price>35.00]/title \t| Selects all the title elements of the book elements of the bookstore element that have a price element with a value greater than 35.00 \t|"
      ]
    },
    {
      "cell_type": "markdown",
      "metadata": {
        "id": "0Ns9uYAONusP"
      },
      "source": [
        "## XPath Examples in Python"
      ]
    },
    {
      "cell_type": "markdown",
      "source": [
        "### The XML Example Document"
      ],
      "metadata": {
        "id": "lm1bzsJ6kQc6"
      }
    },
    {
      "cell_type": "markdown",
      "metadata": {
        "id": "hvdUDuqtNusQ"
      },
      "source": [
        "Let's create first our example file:"
      ]
    },
    {
      "cell_type": "code",
      "metadata": {
        "id": "WniJqgntNusQ"
      },
      "source": [
        "%%file books.xml\n",
        "<?xml version=\"1.0\"?>\n",
        "\n",
        "<bookstore>\n",
        "\n",
        "<book category=\"COOKING\">\n",
        "  <title lang=\"it\">Everyday Italian</title>\n",
        "  <author>Giada De Laurentiis</author>\n",
        "  <year>2005</year>\n",
        "  <price>30.00</price>\n",
        "</book>\n",
        "\n",
        "<book category=\"CHILDREN\">\n",
        "  <title lang=\"en\">Harry Potter</title>\n",
        "  <author>J K. Rowling</author>\n",
        "  <year>2005</year>\n",
        "  <price>29.99</price>\n",
        "</book>\n",
        "\n",
        "<book category=\"WEB\">\n",
        "  <title lang=\"en\">XQuery Kick Start</title>\n",
        "  <author>James McGovern</author>\n",
        "  <author>Per Bothner</author>\n",
        "  <author>Kurt Cagle</author>\n",
        "  <author>James Linn</author>\n",
        "  <author>Vaidyanathan Nagarajan</author>\n",
        "  <year>2003</year>\n",
        "  <price>49.99</price>\n",
        "</book>\n",
        "\n",
        "<book category=\"WEB\">\n",
        "  <title lang=\"en\">Learning XML</title>\n",
        "  <author>Erik T. Ray</author>\n",
        "  <year>2003</year>\n",
        "  <price>39.95</price>\n",
        "</book>\n",
        "\n",
        "</bookstore>"
      ],
      "execution_count": null,
      "outputs": []
    },
    {
      "cell_type": "markdown",
      "metadata": {
        "id": "KVnBEtqsNusV"
      },
      "source": [
        "We will now read the file in Python and create an XML document using the lxml package."
      ]
    },
    {
      "cell_type": "code",
      "metadata": {
        "id": "sB5wQ6hnNusW"
      },
      "source": [
        "from lxml import etree\n",
        "# Read the file\n",
        "filecontent = open(\"books.xml\", \"r\").read()\n",
        "doc  = etree.XML(filecontent)"
      ],
      "execution_count": null,
      "outputs": []
    },
    {
      "cell_type": "markdown",
      "source": [
        "### Running an XPath query and getting back the nodes"
      ],
      "metadata": {
        "id": "7cOo9W0okSF8"
      }
    },
    {
      "cell_type": "markdown",
      "metadata": {
        "id": "aplQXUyCNusa"
      },
      "source": [
        "Now let's get all the book nodes"
      ]
    },
    {
      "cell_type": "code",
      "metadata": {
        "id": "DO-ABGWoNusb"
      },
      "source": [
        "result = doc.xpath(\"//book\")"
      ],
      "execution_count": null,
      "outputs": []
    },
    {
      "cell_type": "code",
      "metadata": {
        "id": "klqNbX1ZNuse"
      },
      "source": [
        "result"
      ],
      "execution_count": null,
      "outputs": []
    },
    {
      "cell_type": "code",
      "metadata": {
        "id": "JJ0ASKXRNush"
      },
      "source": [
        "len(result)"
      ],
      "execution_count": null,
      "outputs": []
    },
    {
      "cell_type": "markdown",
      "metadata": {
        "id": "FG2vxZDzNusl"
      },
      "source": [
        "And all the author nodes"
      ]
    },
    {
      "cell_type": "code",
      "metadata": {
        "id": "MmZoibZINusl"
      },
      "source": [
        "result = doc.xpath(\"//author\")\n",
        "result"
      ],
      "execution_count": null,
      "outputs": []
    },
    {
      "cell_type": "code",
      "metadata": {
        "id": "M2Zb9-g2Nuso"
      },
      "source": [
        "len(result)"
      ],
      "execution_count": null,
      "outputs": []
    },
    {
      "cell_type": "markdown",
      "source": [
        "### Reading an attribute value:  The `get(attribute)` function and the `@attr` approach "
      ],
      "metadata": {
        "id": "ijJ9BBQ7kZ0o"
      }
    },
    {
      "cell_type": "markdown",
      "metadata": {
        "id": "0RcnhWTeNusr"
      },
      "source": [
        "We can use the `get` command to get an attribute:"
      ]
    },
    {
      "cell_type": "code",
      "metadata": {
        "id": "ykKnmhcJNuss"
      },
      "source": [
        "result = doc.xpath(\"//book\")\n",
        "for node in result:\n",
        "    print(node.get(\"category\"))"
      ],
      "execution_count": null,
      "outputs": []
    },
    {
      "cell_type": "code",
      "metadata": {
        "id": "jrzes5GwNusv"
      },
      "source": [
        "categories = [r.get(\"category\") for r in result]\n",
        "categories"
      ],
      "execution_count": null,
      "outputs": []
    },
    {
      "cell_type": "markdown",
      "source": [
        "Alternatively, our XPath query can get the attribute value using the `@attr` approach, like that:"
      ],
      "metadata": {
        "id": "zR5hEzQqkjMu"
      }
    },
    {
      "cell_type": "code",
      "metadata": {
        "id": "4YBfYrhTNusz"
      },
      "source": [
        "result = doc.xpath(\"//book/@category\")\n",
        "result"
      ],
      "execution_count": null,
      "outputs": []
    },
    {
      "cell_type": "markdown",
      "source": [
        "### Reading the text of a node: The `.text()` function and the `/text()` approach"
      ],
      "metadata": {
        "id": "XOlBGpOjk6wJ"
      }
    },
    {
      "cell_type": "markdown",
      "metadata": {
        "id": "kKjxmQW1Nus4"
      },
      "source": [
        "We can use the `.text()` method to get the text of the node, or use the `/text()` approach directly in XPath"
      ]
    },
    {
      "cell_type": "markdown",
      "source": [
        "#### Book titles"
      ],
      "metadata": {
        "id": "8Vtw5ebqnBJr"
      }
    },
    {
      "cell_type": "code",
      "metadata": {
        "id": "1z4mywSHNus4"
      },
      "source": [
        "# Find all the \"title\" nodes that are immediate children\n",
        "# of a \"book\" node\n",
        "result = doc.xpath(\"//book/title\")\n",
        "# For each such node print the text \n",
        "titles = [r.text for r in result]\n",
        "titles\n",
        "\n",
        "# The list comprehension above is equivalent to the following:\n",
        "# for r in result:\n",
        "#    print(r.text)\n",
        "\n"
      ],
      "execution_count": null,
      "outputs": []
    },
    {
      "cell_type": "markdown",
      "source": [
        "Alternatively, if we write the query directly in XPath:"
      ],
      "metadata": {
        "id": "21p5Jd-UlVSc"
      }
    },
    {
      "cell_type": "code",
      "source": [
        "result = doc.xpath(\"//book/title/text()\")\n",
        "result"
      ],
      "metadata": {
        "id": "OZJwXmpmlMMY"
      },
      "execution_count": null,
      "outputs": []
    },
    {
      "cell_type": "markdown",
      "source": [
        "#### Book authors"
      ],
      "metadata": {
        "id": "pFpByL6NnDmp"
      }
    },
    {
      "cell_type": "markdown",
      "source": [
        "Let's see another example:"
      ],
      "metadata": {
        "id": "qkdjGmNpmcTL"
      }
    },
    {
      "cell_type": "code",
      "metadata": {
        "id": "DXUEPDHtNus7"
      },
      "source": [
        "# Find all the author nodes, that are children of a book node\n",
        "result = doc.xpath(\"//book/author\")\n",
        "# Print the text of the author nodes\n",
        "authors = [r.text for r in result]\n",
        "authors"
      ],
      "execution_count": null,
      "outputs": []
    },
    {
      "cell_type": "code",
      "source": [
        "# Find the text of the author nodes, that are children of a book node\n",
        "result = doc.xpath(\"//book/author/text()\")\n",
        "result"
      ],
      "metadata": {
        "id": "vsvV_LtamVs_"
      },
      "execution_count": null,
      "outputs": []
    },
    {
      "cell_type": "markdown",
      "source": [
        "#### Titles of English Books"
      ],
      "metadata": {
        "id": "DsUgGKZ9nc7V"
      }
    },
    {
      "cell_type": "code",
      "metadata": {
        "id": "cpw0LiTQNutA"
      },
      "source": [
        "# Find all the title nodes, that have a parent called book\n",
        "# and the title node has a lang attribute equal to 'en'\n",
        "result = doc.xpath(\"//book/title[@lang='en']\")\n",
        "titles = [r.text for r in result]\n",
        "titles"
      ],
      "execution_count": null,
      "outputs": []
    },
    {
      "cell_type": "code",
      "source": [
        "result = doc.xpath(\"//book/title[@lang='en']/text()\")\n",
        "result"
      ],
      "metadata": {
        "id": "RUxekW5enrrC"
      },
      "execution_count": null,
      "outputs": []
    },
    {
      "cell_type": "markdown",
      "source": [
        "#### Prices of English Books"
      ],
      "metadata": {
        "id": "O_UegDZEovb5"
      }
    },
    {
      "cell_type": "code",
      "source": [
        "result = doc.xpath(\"//book/title[@lang='en']\")\n",
        "for r in result:\n",
        "  # Get the \"price\" nodes that are children of the parent (\"..\") node\n",
        "  price_node = r.xpath('../price')\n",
        "  price = price_node[0].text\n",
        "  print(price)"
      ],
      "metadata": {
        "id": "7eNXWY1Wo5ox"
      },
      "execution_count": null,
      "outputs": []
    },
    {
      "cell_type": "code",
      "source": [
        "result = doc.xpath(\"//book/title[@lang='en']/../price/text()\")\n",
        "result"
      ],
      "metadata": {
        "id": "FIYcS0fHoyB2"
      },
      "execution_count": null,
      "outputs": []
    },
    {
      "cell_type": "markdown",
      "source": [
        "#### Exercise: Book prices\n",
        "\n",
        "* Question: Find the prices of all the books.\n",
        "\n"
      ],
      "metadata": {
        "id": "GfJkqltUm2j6"
      }
    },
    {
      "cell_type": "markdown",
      "source": [
        "##### Solution"
      ],
      "metadata": {
        "id": "-lSHeR3tnRc0"
      }
    },
    {
      "cell_type": "code",
      "metadata": {
        "id": "pR3T_xnhNus9"
      },
      "source": [
        "result = doc.xpath(\"//book/price\")\n",
        "prices = [r.text for r in result]\n",
        "prices"
      ],
      "execution_count": null,
      "outputs": []
    },
    {
      "cell_type": "code",
      "source": [
        "result = doc.xpath(\"//book/price/text()\")\n",
        "result"
      ],
      "metadata": {
        "id": "0gJERSHinLFc"
      },
      "execution_count": null,
      "outputs": []
    },
    {
      "cell_type": "markdown",
      "source": [
        "#### Find the authors of each book"
      ],
      "metadata": {
        "id": "YqpLhxnlpk96"
      }
    },
    {
      "cell_type": "markdown",
      "metadata": {
        "id": "lGMRApViNutC"
      },
      "source": [
        "Here is a more advanced command, where we use two nested list compehensions to list the authors of a book. \n",
        "_Notice that we use the `.` marker in the nested loop, to indicate that we are going to only look under the current node (`book`) and not in the whole document._"
      ]
    },
    {
      "cell_type": "code",
      "metadata": {
        "id": "UHLgQEANNutC"
      },
      "source": [
        "books = doc.xpath(\"//book\")\n",
        "authors = [[author.text for author in book.xpath(\".//author\")] for book in books]\n",
        "authors"
      ],
      "execution_count": null,
      "outputs": []
    },
    {
      "cell_type": "markdown",
      "source": [
        "Same thing, but avoiding the nested comprehension"
      ],
      "metadata": {
        "id": "pkjicakQqhWa"
      }
    },
    {
      "cell_type": "code",
      "source": [
        "authors = [ ]\n",
        "books = doc.xpath(\"//book\")\n",
        "for book in books:\n",
        "  author_nodes = book.xpath(\".//author\")\n",
        "  book_authors = [author.text for author in author_nodes]\n",
        "  authors.append(book_authors)\n",
        "authors"
      ],
      "metadata": {
        "id": "vehhbufDpzaJ"
      },
      "execution_count": null,
      "outputs": []
    },
    {
      "cell_type": "markdown",
      "metadata": {
        "id": "64WvxxDmNutE"
      },
      "source": [
        "### Examples of more XPath queries"
      ]
    },
    {
      "cell_type": "code",
      "metadata": {
        "id": "WkVsGYHFNutE"
      },
      "source": [
        "result = doc.xpath(\"/bookstore/book[1]/title\")\n",
        "titles = [r.text for r in result]\n",
        "titles"
      ],
      "execution_count": null,
      "outputs": []
    },
    {
      "cell_type": "code",
      "metadata": {
        "id": "lru8CXhKNutG"
      },
      "source": [
        "result = doc.xpath(\"/bookstore/book/price\")\n",
        "price = [r.text for r in result]\n",
        "price"
      ],
      "execution_count": null,
      "outputs": []
    },
    {
      "cell_type": "code",
      "metadata": {
        "id": "RIBHyFnlNutI"
      },
      "source": [
        "result = doc.xpath(\"/bookstore/book[price>35]/price\")\n",
        "price = [r.text for r in result]\n",
        "price"
      ],
      "execution_count": null,
      "outputs": []
    },
    {
      "cell_type": "code",
      "metadata": {
        "id": "2wXrpFBbNutK"
      },
      "source": [
        "result = doc.xpath(\"/bookstore/book[price>35]/title\")\n",
        "titles = [r.text for r in result]\n",
        "titles"
      ],
      "execution_count": null,
      "outputs": []
    },
    {
      "cell_type": "code",
      "metadata": {
        "id": "p9Gly6MTNutM"
      },
      "source": [
        "result = doc.xpath(\"//title[contains(text(), 'XML')]\")\n",
        "titles = [r.text for r in result]\n",
        "titles"
      ],
      "execution_count": null,
      "outputs": []
    },
    {
      "cell_type": "code",
      "metadata": {
        "id": "l-iDS0cfNutP"
      },
      "source": [
        "result = doc.xpath(\"//book[contains(@category, 'C')]/title\")\n",
        "titles = [r.text for r in result]\n",
        "titles"
      ],
      "execution_count": null,
      "outputs": []
    },
    {
      "cell_type": "code",
      "metadata": {
        "id": "7nZSTW5ENutR"
      },
      "source": [
        "result = doc.xpath(\"//title[re:match(text(), 'H.*P.*')]\", namespaces={'re': \"http://exslt.org/regular-expressions\"})\n",
        "titles = [r.text for r in result]\n",
        "titles"
      ],
      "execution_count": null,
      "outputs": []
    },
    {
      "cell_type": "code",
      "metadata": {
        "id": "bVUEO5wgNutT"
      },
      "source": [],
      "execution_count": null,
      "outputs": []
    }
  ]
}