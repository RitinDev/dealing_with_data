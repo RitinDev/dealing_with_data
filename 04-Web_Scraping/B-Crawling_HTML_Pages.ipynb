{
  "nbformat": 4,
  "nbformat_minor": 0,
  "metadata": {
    "kernelspec": {
      "display_name": "Python 3",
      "language": "python",
      "name": "python3"
    },
    "language_info": {
      "codemirror_mode": {
        "name": "ipython",
        "version": 3
      },
      "file_extension": ".py",
      "mimetype": "text/x-python",
      "name": "python",
      "nbconvert_exporter": "python",
      "pygments_lexer": "ipython3",
      "version": "3.6.6"
    },
    "colab": {
      "name": "Crawling HTML Pages",
      "provenance": []
    }
  },
  "cells": [
    {
      "cell_type": "markdown",
      "metadata": {
        "id": "VGMIH8iiQkaU"
      },
      "source": [
        "# Crawling and Extracting Data from Websites"
      ]
    },
    {
      "cell_type": "code",
      "metadata": {
        "id": "dYNQSVkqQkaV"
      },
      "source": [
        "# !sudo -H apt-get -y install libxml2-dev libxslt-dev python3-dev\n",
        "# !sudo -H pip3 install -U lxml"
      ],
      "execution_count": null,
      "outputs": []
    },
    {
      "cell_type": "markdown",
      "metadata": {
        "id": "tNLZmq2gQkag"
      },
      "source": [
        "## Searching in HTML: Fetching the webpage title from ESPN.com\n",
        "\n",
        "Let's start by trying to fetch the headlines from the site ESPN.com.\n",
        "\n"
      ]
    },
    {
      "cell_type": "code",
      "metadata": {
        "id": "vCx_Tvm3Qkah"
      },
      "source": [
        "import requests # This command allows us to fetch URLs\n",
        "from lxml import html # This module will allow us to parse the returned HTML/XML\n",
        "import pandas # To create a dataframe\n",
        "\n",
        "# Let's start by fetching the page, and parsing it\n",
        "url = \"http://www.espn.com/\"\n",
        "response = requests.get(url) # get the html of that url\n",
        "doc = html.fromstring(response.text) # parse it and create a document"
      ],
      "execution_count": 1,
      "outputs": []
    },
    {
      "cell_type": "code",
      "metadata": {
        "id": "gzkt9KXlQkal",
        "outputId": "51f2b0ed-c1a3-439b-c75d-14ddb3448886",
        "colab": {
          "base_uri": "https://localhost:8080/",
          "height": 36
        }
      },
      "source": [
        "doc"
      ],
      "execution_count": 2,
      "outputs": [
        {
          "output_type": "execute_result",
          "data": {
            "text/plain": [
              "<Element html at 0x7efde8e64a98>"
            ]
          },
          "metadata": {
            "tags": []
          },
          "execution_count": 2
        }
      ]
    },
    {
      "cell_type": "markdown",
      "metadata": {
        "id": "3szL2NDkQkap"
      },
      "source": [
        "Let's start by getting the content of the `<title>` node from the site:"
      ]
    },
    {
      "cell_type": "code",
      "metadata": {
        "id": "Zude0Ys5Qkap",
        "outputId": "aba7ddf6-b867-4753-8adf-7c97224d4493",
        "colab": {
          "base_uri": "https://localhost:8080/",
          "height": 36
        }
      },
      "source": [
        "# This will return back a list of nodes that match\n",
        "# are called <title>......</title>\n",
        "results = doc.xpath('//title/text()')\n",
        "results"
      ],
      "execution_count": 3,
      "outputs": [
        {
          "output_type": "execute_result",
          "data": {
            "text/plain": [
              "['ESPN: Serving sports fans. Anytime. Anywhere.']"
            ]
          },
          "metadata": {
            "tags": []
          },
          "execution_count": 3
        }
      ]
    },
    {
      "cell_type": "code",
      "metadata": {
        "id": "K9-lPWltQkau",
        "outputId": "b97726de-05b8-45d2-cb7f-eb8733f89bb9",
        "colab": {
          "base_uri": "https://localhost:8080/",
          "height": 36
        }
      },
      "source": [
        "results[0]"
      ],
      "execution_count": 4,
      "outputs": [
        {
          "output_type": "execute_result",
          "data": {
            "application/vnd.google.colaboratory.intrinsic+json": {
              "type": "string"
            },
            "text/plain": [
              "'ESPN: Serving sports fans. Anytime. Anywhere.'"
            ]
          },
          "metadata": {
            "tags": []
          },
          "execution_count": 4
        }
      ]
    },
    {
      "cell_type": "code",
      "metadata": {
        "id": "C70sDo6dQkaz",
        "outputId": "72ac4206-4305-4307-cc08-540f8a7d1a0d",
        "colab": {
          "base_uri": "https://localhost:8080/",
          "height": 36
        }
      },
      "source": [
        "results = doc.xpath('//title')\n",
        "results"
      ],
      "execution_count": 5,
      "outputs": [
        {
          "output_type": "execute_result",
          "data": {
            "text/plain": [
              "[<Element title at 0x7efde8e64ae8>]"
            ]
          },
          "metadata": {
            "tags": []
          },
          "execution_count": 5
        }
      ]
    },
    {
      "cell_type": "code",
      "metadata": {
        "id": "QyuV2iSzQka2",
        "outputId": "975b3b7d-e6b3-427a-fcd7-a64f7a191c60",
        "colab": {
          "base_uri": "https://localhost:8080/",
          "height": 36
        }
      },
      "source": [
        "# gives only the text stored directly under the node\n",
        "results[0].text "
      ],
      "execution_count": 6,
      "outputs": [
        {
          "output_type": "execute_result",
          "data": {
            "application/vnd.google.colaboratory.intrinsic+json": {
              "type": "string"
            },
            "text/plain": [
              "'ESPN: Serving sports fans. Anytime. Anywhere.'"
            ]
          },
          "metadata": {
            "tags": []
          },
          "execution_count": 6
        }
      ]
    },
    {
      "cell_type": "code",
      "metadata": {
        "id": "R0MVxeFfQka4",
        "outputId": "85c9f2ab-f129-4466-8acd-b9db22676aed",
        "colab": {
          "base_uri": "https://localhost:8080/",
          "height": 36
        }
      },
      "source": [
        "# gives all the text stored directly under the node *and* its children\n",
        "# for the <title> node, it does not make a difference\n",
        "results[0].text_content() "
      ],
      "execution_count": 7,
      "outputs": [
        {
          "output_type": "execute_result",
          "data": {
            "application/vnd.google.colaboratory.intrinsic+json": {
              "type": "string"
            },
            "text/plain": [
              "'ESPN: Serving sports fans. Anytime. Anywhere.'"
            ]
          },
          "metadata": {
            "tags": []
          },
          "execution_count": 7
        }
      ]
    },
    {
      "cell_type": "code",
      "metadata": {
        "id": "CBhnl3zoQka7"
      },
      "source": [
        "# Compare the two results to see the difference\n",
        "# The first one gives all the text stored under the root <HTML> node\n",
        "# The second gives only the text immediately under HTML (but not under the children)\n",
        "# doc.xpath(\"/html\")[0].text_content()\n",
        "# doc.xpath(\"/html\")[0].text"
      ],
      "execution_count": null,
      "outputs": []
    },
    {
      "cell_type": "markdown",
      "metadata": {
        "id": "cVUdtBuVTcUv"
      },
      "source": [
        "### Exercise\n",
        "\n",
        "* Connect to the NYU Stern website, and fetch the title of the page"
      ]
    },
    {
      "cell_type": "code",
      "metadata": {
        "id": "5e4dq_o-Ti7U"
      },
      "source": [
        "# your code here"
      ],
      "execution_count": null,
      "outputs": []
    },
    {
      "cell_type": "markdown",
      "metadata": {
        "id": "8V0uJ9qmTjDw"
      },
      "source": [
        "#### Solution"
      ]
    },
    {
      "cell_type": "code",
      "metadata": {
        "id": "oBSnvmd0Qka-"
      },
      "source": [
        "stern_url = 'http://www.stern.nyu.edu'\n",
        "stern_html = requests.get(stern_url).text\n",
        "stern_doc = html.fromstring(stern_html)"
      ],
      "execution_count": 8,
      "outputs": []
    },
    {
      "cell_type": "code",
      "metadata": {
        "id": "cyBZUlIfQkbB",
        "outputId": "49258176-027b-4cb1-c1fe-1bdd5a750127",
        "colab": {
          "base_uri": "https://localhost:8080/",
          "height": 36
        }
      },
      "source": [
        "title1 = stern_doc.xpath(\"//title/text()\")\n",
        "title1[0]"
      ],
      "execution_count": 9,
      "outputs": [
        {
          "output_type": "execute_result",
          "data": {
            "application/vnd.google.colaboratory.intrinsic+json": {
              "type": "string"
            },
            "text/plain": [
              "'NYU Stern School of Business | Full-time MBA, Part-time (Langone) MBA, Undergraduate, PhD, Executive MBA Business Programs - NYU Stern'"
            ]
          },
          "metadata": {
            "tags": []
          },
          "execution_count": 9
        }
      ]
    },
    {
      "cell_type": "code",
      "metadata": {
        "id": "k2gpzcYTQkbE",
        "outputId": "c4f01b1e-ec08-49e8-bac4-28531414a1ba",
        "colab": {
          "base_uri": "https://localhost:8080/",
          "height": 36
        }
      },
      "source": [
        "title2 = stern_doc.xpath(\"//title\")\n",
        "title2[0].text"
      ],
      "execution_count": 10,
      "outputs": [
        {
          "output_type": "execute_result",
          "data": {
            "application/vnd.google.colaboratory.intrinsic+json": {
              "type": "string"
            },
            "text/plain": [
              "'NYU Stern School of Business | Full-time MBA, Part-time (Langone) MBA, Undergraduate, PhD, Executive MBA Business Programs - NYU Stern'"
            ]
          },
          "metadata": {
            "tags": []
          },
          "execution_count": 10
        }
      ]
    },
    {
      "cell_type": "code",
      "metadata": {
        "id": "WHjsVOSvTnET"
      },
      "source": [
        ""
      ],
      "execution_count": null,
      "outputs": []
    },
    {
      "cell_type": "markdown",
      "metadata": {
        "id": "_p6aTxluTnlS"
      },
      "source": [
        "## Searching for elements of interest in the web page"
      ]
    },
    {
      "cell_type": "markdown",
      "metadata": {
        "id": "DNzG7ZY9QkbH"
      },
      "source": [
        "The `doc` variable is an `HtmlElement` object, and we can now use **XPath** queries to locate the elements that we need. (Depending on time, we may do in class a tutorial on XPath. For now, you can look at the [W3Schools tutorial](http://www.w3schools.com/xpath/xpath_nodes.asp))"
      ]
    },
    {
      "cell_type": "markdown",
      "metadata": {
        "id": "MgTvqXmNQkbI"
      },
      "source": [
        "For example, to find all the `<a ...> ... </a>` tags in the returned html, which store the links in the page, we issue the command:"
      ]
    },
    {
      "cell_type": "code",
      "metadata": {
        "id": "e-G5eLsCQkbM",
        "outputId": "e2a00043-c0b4-42b1-f6cc-ac1d1206e44d",
        "colab": {
          "base_uri": "https://localhost:8080/",
          "height": 36
        }
      },
      "source": [
        "links = doc.xpath(\"//a\")\n",
        "len(links)"
      ],
      "execution_count": 11,
      "outputs": [
        {
          "output_type": "execute_result",
          "data": {
            "text/plain": [
              "162"
            ]
          },
          "metadata": {
            "tags": []
          },
          "execution_count": 11
        }
      ]
    },
    {
      "cell_type": "code",
      "metadata": {
        "id": "Qaj4BbALQkbS"
      },
      "source": [
        "links = doc.xpath(\"//a\")\n",
        "# Iterates over all the links (this means all the nodes\n",
        "# that matched the //a XPath query) and prints the content\n",
        "# of the attribute href and the text for that node\n",
        "for link in links:\n",
        "    print(\"==================================\")\n",
        "    print(link.get(\"href\"), \"==>\", link.text_content())"
      ],
      "execution_count": null,
      "outputs": []
    },
    {
      "cell_type": "code",
      "metadata": {
        "id": "CzNj3eZ4QkbY",
        "outputId": "ac756b97-68c9-4164-d334-5b659c8ccbc7",
        "colab": {
          "base_uri": "https://localhost:8080/",
          "height": 36
        }
      },
      "source": [
        "# Let's pick now a random link\n",
        "\n",
        "lnk = links[80]\n",
        "type(lnk)"
      ],
      "execution_count": 21,
      "outputs": [
        {
          "output_type": "execute_result",
          "data": {
            "text/plain": [
              "lxml.html.HtmlElement"
            ]
          },
          "metadata": {
            "tags": []
          },
          "execution_count": 21
        }
      ]
    },
    {
      "cell_type": "markdown",
      "metadata": {
        "id": "BhwPXAb1Qkbe"
      },
      "source": [
        "The `lnk` variable is again an HtmlElement. To get parts of the html element that we need, we can use the `get` method (e.g., to get the `href` attribute) and the `text` method (to get the text within the `<a>...</a>` tag."
      ]
    },
    {
      "cell_type": "code",
      "metadata": {
        "id": "PvhzBi6cQkbf",
        "outputId": "b86e094e-ea8f-4b1d-e7bb-c627f631aae8",
        "colab": {
          "base_uri": "https://localhost:8080/",
          "height": 36
        }
      },
      "source": [
        "lnk.get(\"href\")"
      ],
      "execution_count": 22,
      "outputs": [
        {
          "output_type": "execute_result",
          "data": {
            "application/vnd.google.colaboratory.intrinsic+json": {
              "type": "string"
            },
            "text/plain": [
              "'/mlb/story/_/id/30147626/world-series-daily-get-ready-clayton-kershaw-vs-tyler-glasnow-game-1'"
            ]
          },
          "metadata": {
            "tags": []
          },
          "execution_count": 22
        }
      ]
    },
    {
      "cell_type": "code",
      "metadata": {
        "id": "WSPOFRDyQkbl",
        "outputId": "5f58230e-b6a2-46ab-cdf1-236a3a262ea0",
        "colab": {
          "base_uri": "https://localhost:8080/",
          "height": 36
        }
      },
      "source": [
        "lnk.text_content()"
      ],
      "execution_count": 23,
      "outputs": [
        {
          "output_type": "execute_result",
          "data": {
            "application/vnd.google.colaboratory.intrinsic+json": {
              "type": "string"
            },
            "text/plain": [
              "\"World Series Daily: Get ready for Clayton Kershaw vs. Tyler Glasnow in Game 1After all the oddities of 2020, the World Series is here. We've got all the info you need for Tuesday's opener.7hMLB Insiders\""
            ]
          },
          "metadata": {
            "tags": []
          },
          "execution_count": 23
        }
      ]
    },
    {
      "cell_type": "code",
      "metadata": {
        "id": "6EbdACF-Qkbp",
        "outputId": "f8e82ce9-fed2-4ef0-baf1-890ace9bd488",
        "colab": {
          "base_uri": "https://localhost:8080/",
          "height": 36
        }
      },
      "source": [
        "lnk.text_content().strip()"
      ],
      "execution_count": 24,
      "outputs": [
        {
          "output_type": "execute_result",
          "data": {
            "application/vnd.google.colaboratory.intrinsic+json": {
              "type": "string"
            },
            "text/plain": [
              "\"World Series Daily: Get ready for Clayton Kershaw vs. Tyler Glasnow in Game 1After all the oddities of 2020, the World Series is here. We've got all the info you need for Tuesday's opener.7hMLB Insiders\""
            ]
          },
          "metadata": {
            "tags": []
          },
          "execution_count": 24
        }
      ]
    },
    {
      "cell_type": "markdown",
      "metadata": {
        "id": "sJ4eRqTBQkbr"
      },
      "source": [
        "Now, let's revisit the _list comprehension_ approach that we discussed in the Python Primer session, for quickly constructing lists:"
      ]
    },
    {
      "cell_type": "code",
      "metadata": {
        "id": "E1Vz3APqQkbs"
      },
      "source": [
        "urls = [lnk.get(\"href\") for lnk in doc.xpath('//a')]\n",
        "urls"
      ],
      "execution_count": null,
      "outputs": []
    },
    {
      "cell_type": "markdown",
      "metadata": {
        "id": "KNgg6P7HQkbv"
      },
      "source": [
        "### Exercise\n",
        "\n",
        "Use a list compresension approach, to get the text_content of all the URLs in the page."
      ]
    },
    {
      "cell_type": "code",
      "metadata": {
        "id": "a0K4iQ82Qkbv"
      },
      "source": [
        "# your code here\n"
      ],
      "execution_count": null,
      "outputs": []
    },
    {
      "cell_type": "markdown",
      "metadata": {
        "id": "tv8k8jCUQkby"
      },
      "source": [
        "And now create a list where we put together text content and the URL for each link"
      ]
    },
    {
      "cell_type": "code",
      "metadata": {
        "id": "FYN_XbBPRTiy"
      },
      "source": [
        "# your code here"
      ],
      "execution_count": null,
      "outputs": []
    },
    {
      "cell_type": "markdown",
      "metadata": {
        "id": "NhJIYxiDRU2f"
      },
      "source": [
        "#### Solution"
      ]
    },
    {
      "cell_type": "code",
      "metadata": {
        "id": "HYw-F6zPRSzN"
      },
      "source": [
        "text = [lnk.text_content().strip() for lnk in doc.xpath(\"//a\")]\n",
        "text"
      ],
      "execution_count": null,
      "outputs": []
    },
    {
      "cell_type": "code",
      "metadata": {
        "id": "OnRT3ecxQkbz"
      },
      "source": [
        "# Creating a list of tuples where we put together href and text for each link\n",
        "list_tuples = [(lnk.get(\"href\"), lnk.text_content().strip()) for lnk in doc.xpath(\"//a\")]"
      ],
      "execution_count": 30,
      "outputs": []
    },
    {
      "cell_type": "code",
      "metadata": {
        "id": "bGMfS0tHQkb1"
      },
      "source": [
        "# Creating a list of dictionaries with the text and URL for each link\n",
        "list_dicts = [{\"URL\": lnk.get(\"href\"), \"Text\": lnk.text_content().strip()} for lnk in doc.xpath(\"//a\")]"
      ],
      "execution_count": 31,
      "outputs": []
    },
    {
      "cell_type": "code",
      "metadata": {
        "collapsed": true,
        "id": "7VO7birqQkb4",
        "outputId": "838816a8-e322-439d-ac51-a61fc7aa9a46",
        "colab": {
          "base_uri": "https://localhost:8080/",
          "height": 407
        }
      },
      "source": [
        "import pandas as pd\n",
        "pd.DataFrame(list_dicts)"
      ],
      "execution_count": 32,
      "outputs": [
        {
          "output_type": "execute_result",
          "data": {
            "text/html": [
              "<div>\n",
              "<style scoped>\n",
              "    .dataframe tbody tr th:only-of-type {\n",
              "        vertical-align: middle;\n",
              "    }\n",
              "\n",
              "    .dataframe tbody tr th {\n",
              "        vertical-align: top;\n",
              "    }\n",
              "\n",
              "    .dataframe thead th {\n",
              "        text-align: right;\n",
              "    }\n",
              "</style>\n",
              "<table border=\"1\" class=\"dataframe\">\n",
              "  <thead>\n",
              "    <tr style=\"text-align: right;\">\n",
              "      <th></th>\n",
              "      <th>URL</th>\n",
              "      <th>Text</th>\n",
              "    </tr>\n",
              "  </thead>\n",
              "  <tbody>\n",
              "    <tr>\n",
              "      <th>0</th>\n",
              "      <td>#</td>\n",
              "      <td>Menu</td>\n",
              "    </tr>\n",
              "    <tr>\n",
              "      <th>1</th>\n",
              "      <td>/</td>\n",
              "      <td>ESPN</td>\n",
              "    </tr>\n",
              "    <tr>\n",
              "      <th>2</th>\n",
              "      <td>#</td>\n",
              "      <td></td>\n",
              "    </tr>\n",
              "    <tr>\n",
              "      <th>3</th>\n",
              "      <td>#</td>\n",
              "      <td>scores</td>\n",
              "    </tr>\n",
              "    <tr>\n",
              "      <th>4</th>\n",
              "      <td>/nfl/</td>\n",
              "      <td>NFL</td>\n",
              "    </tr>\n",
              "    <tr>\n",
              "      <th>...</th>\n",
              "      <td>...</td>\n",
              "      <td>...</td>\n",
              "    </tr>\n",
              "    <tr>\n",
              "      <th>157</th>\n",
              "      <td>https://disneyprivacycenter.com/kids-privacy-p...</td>\n",
              "      <td>Children's Online Privacy Policy</td>\n",
              "    </tr>\n",
              "    <tr>\n",
              "      <th>158</th>\n",
              "      <td>http://preferences-mgr.truste.com/?type=espn&amp;a...</td>\n",
              "      <td>Interest-Based Ads</td>\n",
              "    </tr>\n",
              "    <tr>\n",
              "      <th>159</th>\n",
              "      <td>http://www.nielsen.com/digitalprivacy</td>\n",
              "      <td>About Nielsen Measurement</td>\n",
              "    </tr>\n",
              "    <tr>\n",
              "      <th>160</th>\n",
              "      <td>https://privacy.thewaltdisneycompany.com/en/dn...</td>\n",
              "      <td>Do Not Sell My Info</td>\n",
              "    </tr>\n",
              "    <tr>\n",
              "      <th>161</th>\n",
              "      <td>https://www.espn.com/espn/news/story?page=cont...</td>\n",
              "      <td>Contact Us</td>\n",
              "    </tr>\n",
              "  </tbody>\n",
              "</table>\n",
              "<p>162 rows × 2 columns</p>\n",
              "</div>"
            ],
            "text/plain": [
              "                                                   URL                              Text\n",
              "0                                                    #                              Menu\n",
              "1                                                    /                              ESPN\n",
              "2                                                    #                                  \n",
              "3                                                    #                            scores\n",
              "4                                                /nfl/                               NFL\n",
              "..                                                 ...                               ...\n",
              "157  https://disneyprivacycenter.com/kids-privacy-p...  Children's Online Privacy Policy\n",
              "158  http://preferences-mgr.truste.com/?type=espn&a...                Interest-Based Ads\n",
              "159              http://www.nielsen.com/digitalprivacy         About Nielsen Measurement\n",
              "160  https://privacy.thewaltdisneycompany.com/en/dn...               Do Not Sell My Info\n",
              "161  https://www.espn.com/espn/news/story?page=cont...                        Contact Us\n",
              "\n",
              "[162 rows x 2 columns]"
            ]
          },
          "metadata": {
            "tags": []
          },
          "execution_count": 32
        }
      ]
    },
    {
      "cell_type": "markdown",
      "metadata": {
        "id": "3eyJ4fu-Qkb7"
      },
      "source": [
        "### More Advanced Example: Get the list of headlines from ESPN\n"
      ]
    },
    {
      "cell_type": "markdown",
      "metadata": {
        "id": "_qTPkHGnQkb7"
      },
      "source": [
        "Now, let's examine how we can get the data from the website. The key is to understand the structure of the HTML, where the data that we need is stored, and how to fetch the elements. Then, using the appropriate XPath queries, we will get what we want."
      ]
    },
    {
      "cell_type": "markdown",
      "metadata": {
        "id": "u2_recHuQkb9"
      },
      "source": [
        "Let's start by fetching the page, and parsing it"
      ]
    },
    {
      "cell_type": "code",
      "metadata": {
        "id": "ueC9w3oAQkb-"
      },
      "source": [
        "url = \"http://www.espn.com/\"\n",
        "response = requests.get(url) # get the html of that url\n",
        "doc = html.fromstring(response.text) # parse it and create a document"
      ],
      "execution_count": 53,
      "outputs": []
    },
    {
      "cell_type": "markdown",
      "metadata": {
        "id": "9H9-IZeEQkcB"
      },
      "source": [
        "By using the `\"Right-Click > Inspect\"` option of Chrome,\n",
        "we right click on the headlines and select `\"Inspect\"`.\n",
        "This opens the source code.\n",
        "There we see that all under a `<div class=\"headlineStack\">` tag."
      ]
    },
    {
      "cell_type": "code",
      "metadata": {
        "id": "eEd6g0HJQkcI"
      },
      "source": [
        "headlineNode = doc.xpath('//div[@class=\"headlineStack\"]')"
      ],
      "execution_count": 54,
      "outputs": []
    },
    {
      "cell_type": "markdown",
      "metadata": {
        "id": "-YE3ytU0QkcK"
      },
      "source": [
        "The result of that operation is a list with 8 elements."
      ]
    },
    {
      "cell_type": "code",
      "metadata": {
        "id": "Wrhr3KS0QkcL",
        "outputId": "b0894a9a-bde7-4061-dca9-b0c8c53ec20e",
        "colab": {
          "base_uri": "https://localhost:8080/",
          "height": 36
        }
      },
      "source": [
        "type(headlineNode)"
      ],
      "execution_count": 55,
      "outputs": [
        {
          "output_type": "execute_result",
          "data": {
            "text/plain": [
              "list"
            ]
          },
          "metadata": {
            "tags": []
          },
          "execution_count": 55
        }
      ]
    },
    {
      "cell_type": "code",
      "metadata": {
        "id": "jJSB5D2VQkcO",
        "outputId": "9633345e-733f-4f6b-ed55-d8c7d1bf984d",
        "colab": {
          "base_uri": "https://localhost:8080/",
          "height": 36
        }
      },
      "source": [
        "len(headlineNode)"
      ],
      "execution_count": 56,
      "outputs": [
        {
          "output_type": "execute_result",
          "data": {
            "text/plain": [
              "8"
            ]
          },
          "metadata": {
            "tags": []
          },
          "execution_count": 56
        }
      ]
    },
    {
      "cell_type": "markdown",
      "metadata": {
        "id": "jq1X3MtdQkcT"
      },
      "source": [
        "Each headline is under a  `<li><a href=\"....\"></a>` tag.\n",
        "So, we get all the `<li><a ...>` tags within the `<div class=\"headlineStack\">`\n",
        "(which is stored in the \"`headlineNode`\" variable)"
      ]
    },
    {
      "cell_type": "code",
      "metadata": {
        "id": "T-n8Ajb5QkcU",
        "outputId": "f33ab351-3219-4c83-eb77-149c8f1704dd",
        "colab": {
          "base_uri": "https://localhost:8080/",
          "height": 36
        }
      },
      "source": [
        "headlines = headlineNode[0].xpath('.//li/a')\n",
        "len(headlines)"
      ],
      "execution_count": 57,
      "outputs": [
        {
          "output_type": "execute_result",
          "data": {
            "text/plain": [
              "7"
            ]
          },
          "metadata": {
            "tags": []
          },
          "execution_count": 57
        }
      ]
    },
    {
      "cell_type": "markdown",
      "metadata": {
        "id": "4StKUBexQkcX"
      },
      "source": [
        "Now, we have the nodes with the conent in the headlines variable.\n",
        "We extract the text and the URL."
      ]
    },
    {
      "cell_type": "code",
      "metadata": {
        "id": "_ALKiqXwQkcX",
        "outputId": "7ec90365-798b-460b-e43f-a0025febb543",
        "colab": {
          "base_uri": "https://localhost:8080/",
          "height": 285
        }
      },
      "source": [
        "data = [{\"Title\": a.text_content(), \"URL\": a.get(\"href\")} for a in headlines]\n",
        "data"
      ],
      "execution_count": 58,
      "outputs": [
        {
          "output_type": "execute_result",
          "data": {
            "text/plain": [
              "[{'Title': 'Source: Dolphins to go with Tua as starting QB',\n",
              "  'URL': '/nfl/story/_/id/30154407/source-miami-dolphins-naming-tua-tagovailoa-starting-quarterback'},\n",
              " {'Title': 'Khabib: Only want St-Pierre bout after Gaethje',\n",
              "  'URL': '/mma/story/_/id/30154475/khabib-nurmagomedov-only-want-georges-st-pierre-bout-justin-gaethje'},\n",
              " {'Title': \"Raptors' Bjorkgren named Pacers head coach\",\n",
              "  'URL': '/nba/story/_/id/30154580/indiana-pacers-hire-toronto-raptors-assistant-nate-bjorkgren-head-coach'},\n",
              " {'Title': \"Jones 'not in feel-good mood' about Dallas at 2-4\",\n",
              "  'URL': '/nfl/story/_/id/30154402/jerry-jones-not-feel-good-mood-dallas-cowboys-2-4-record-nfc-east-lead'},\n",
              " {'Title': 'Luhnow again denies role in Astros sign scandal',\n",
              "  'URL': '/mlb/story/_/id/30151774/ex-astros-gm-jeff-luhnow-again-denies-role-houston-astros-sign-stealing-scandal'},\n",
              " {'Title': \"Zeke on Dallas loss: 'I'm sorry; this one is on me'\",\n",
              "  'URL': '/nfl/story/_/id/30152139/dallas-cowboys-ezekiel-elliott-takes-blame-blowout-loss-arizona-cardinals'},\n",
              " {'Title': 'Kiper/McShay: Sleepers for NFL draft?',\n",
              "  'URL': '/nfl/draft2021/insider/story/_/id/30147118/2021-nfl-draft-sleepers-kiper-mcshay-make-picks-plus-big-ten-prospects-watch-risers-more'}]"
            ]
          },
          "metadata": {
            "tags": []
          },
          "execution_count": 58
        }
      ]
    },
    {
      "cell_type": "markdown",
      "metadata": {
        "id": "GRzf_DJMQkca"
      },
      "source": [
        "And let's create our dataframe, so that we can have a better view"
      ]
    },
    {
      "cell_type": "code",
      "metadata": {
        "id": "bki_w9yoQkca",
        "outputId": "4a86aa9c-6b83-451c-e256-8353f741c2b7",
        "colab": {
          "base_uri": "https://localhost:8080/",
          "height": 258
        }
      },
      "source": [
        "dataframe = pandas.DataFrame(data)\n",
        "dataframe"
      ],
      "execution_count": 59,
      "outputs": [
        {
          "output_type": "execute_result",
          "data": {
            "text/html": [
              "<div>\n",
              "<style scoped>\n",
              "    .dataframe tbody tr th:only-of-type {\n",
              "        vertical-align: middle;\n",
              "    }\n",
              "\n",
              "    .dataframe tbody tr th {\n",
              "        vertical-align: top;\n",
              "    }\n",
              "\n",
              "    .dataframe thead th {\n",
              "        text-align: right;\n",
              "    }\n",
              "</style>\n",
              "<table border=\"1\" class=\"dataframe\">\n",
              "  <thead>\n",
              "    <tr style=\"text-align: right;\">\n",
              "      <th></th>\n",
              "      <th>Title</th>\n",
              "      <th>URL</th>\n",
              "    </tr>\n",
              "  </thead>\n",
              "  <tbody>\n",
              "    <tr>\n",
              "      <th>0</th>\n",
              "      <td>Source: Dolphins to go with Tua as starting QB</td>\n",
              "      <td>/nfl/story/_/id/30154407/source-miami-dolphins...</td>\n",
              "    </tr>\n",
              "    <tr>\n",
              "      <th>1</th>\n",
              "      <td>Khabib: Only want St-Pierre bout after Gaethje</td>\n",
              "      <td>/mma/story/_/id/30154475/khabib-nurmagomedov-o...</td>\n",
              "    </tr>\n",
              "    <tr>\n",
              "      <th>2</th>\n",
              "      <td>Raptors' Bjorkgren named Pacers head coach</td>\n",
              "      <td>/nba/story/_/id/30154580/indiana-pacers-hire-t...</td>\n",
              "    </tr>\n",
              "    <tr>\n",
              "      <th>3</th>\n",
              "      <td>Jones 'not in feel-good mood' about Dallas at 2-4</td>\n",
              "      <td>/nfl/story/_/id/30154402/jerry-jones-not-feel-...</td>\n",
              "    </tr>\n",
              "    <tr>\n",
              "      <th>4</th>\n",
              "      <td>Luhnow again denies role in Astros sign scandal</td>\n",
              "      <td>/mlb/story/_/id/30151774/ex-astros-gm-jeff-luh...</td>\n",
              "    </tr>\n",
              "    <tr>\n",
              "      <th>5</th>\n",
              "      <td>Zeke on Dallas loss: 'I'm sorry; this one is o...</td>\n",
              "      <td>/nfl/story/_/id/30152139/dallas-cowboys-ezekie...</td>\n",
              "    </tr>\n",
              "    <tr>\n",
              "      <th>6</th>\n",
              "      <td>Kiper/McShay: Sleepers for NFL draft?</td>\n",
              "      <td>/nfl/draft2021/insider/story/_/id/30147118/202...</td>\n",
              "    </tr>\n",
              "  </tbody>\n",
              "</table>\n",
              "</div>"
            ],
            "text/plain": [
              "                                               Title                                                URL\n",
              "0     Source: Dolphins to go with Tua as starting QB  /nfl/story/_/id/30154407/source-miami-dolphins...\n",
              "1     Khabib: Only want St-Pierre bout after Gaethje  /mma/story/_/id/30154475/khabib-nurmagomedov-o...\n",
              "2         Raptors' Bjorkgren named Pacers head coach  /nba/story/_/id/30154580/indiana-pacers-hire-t...\n",
              "3  Jones 'not in feel-good mood' about Dallas at 2-4  /nfl/story/_/id/30154402/jerry-jones-not-feel-...\n",
              "4    Luhnow again denies role in Astros sign scandal  /mlb/story/_/id/30151774/ex-astros-gm-jeff-luh...\n",
              "5  Zeke on Dallas loss: 'I'm sorry; this one is o...  /nfl/story/_/id/30152139/dallas-cowboys-ezekie...\n",
              "6              Kiper/McShay: Sleepers for NFL draft?  /nfl/draft2021/insider/story/_/id/30147118/202..."
            ]
          },
          "metadata": {
            "tags": []
          },
          "execution_count": 59
        }
      ]
    },
    {
      "cell_type": "markdown",
      "metadata": {
        "id": "dbWeA2wCQkce"
      },
      "source": [
        "#### Of course, there are always more than one way to skin a cat...\n",
        "\n",
        "Alternatively, if we did not want to restrict ourselves to just the first headline box, we could write an alternative query, to get back all the headlines, that appear in an XPath `//div[@class=\"headlineStack\"]//li/a`:"
      ]
    },
    {
      "cell_type": "code",
      "metadata": {
        "id": "BxxXLHsIQkcf",
        "outputId": "3efd8b16-b0f1-43c8-8229-ec95d0488726",
        "colab": {
          "base_uri": "https://localhost:8080/",
          "height": 798
        }
      },
      "source": [
        "headlines = doc.xpath('//div[@class=\"headlineStack\"]//li/a')\n",
        "data = [{\"Title\": a.text_content(), \"URL\": a.get(\"href\")} for a in headlines]\n",
        "df = pandas.DataFrame(data)\n",
        "df"
      ],
      "execution_count": 64,
      "outputs": [
        {
          "output_type": "execute_result",
          "data": {
            "text/html": [
              "<div>\n",
              "<style scoped>\n",
              "    .dataframe tbody tr th:only-of-type {\n",
              "        vertical-align: middle;\n",
              "    }\n",
              "\n",
              "    .dataframe tbody tr th {\n",
              "        vertical-align: top;\n",
              "    }\n",
              "\n",
              "    .dataframe thead th {\n",
              "        text-align: right;\n",
              "    }\n",
              "</style>\n",
              "<table border=\"1\" class=\"dataframe\">\n",
              "  <thead>\n",
              "    <tr style=\"text-align: right;\">\n",
              "      <th></th>\n",
              "      <th>Title</th>\n",
              "      <th>URL</th>\n",
              "    </tr>\n",
              "  </thead>\n",
              "  <tbody>\n",
              "    <tr>\n",
              "      <th>0</th>\n",
              "      <td>Source: Dolphins to go with Tua as starting QB</td>\n",
              "      <td>/nfl/story/_/id/30154407/source-miami-dolphins...</td>\n",
              "    </tr>\n",
              "    <tr>\n",
              "      <th>1</th>\n",
              "      <td>Khabib: Only want St-Pierre bout after Gaethje</td>\n",
              "      <td>/mma/story/_/id/30154475/khabib-nurmagomedov-o...</td>\n",
              "    </tr>\n",
              "    <tr>\n",
              "      <th>2</th>\n",
              "      <td>Raptors' Bjorkgren named Pacers head coach</td>\n",
              "      <td>/nba/story/_/id/30154580/indiana-pacers-hire-t...</td>\n",
              "    </tr>\n",
              "    <tr>\n",
              "      <th>3</th>\n",
              "      <td>Jones 'not in feel-good mood' about Dallas at 2-4</td>\n",
              "      <td>/nfl/story/_/id/30154402/jerry-jones-not-feel-...</td>\n",
              "    </tr>\n",
              "    <tr>\n",
              "      <th>4</th>\n",
              "      <td>Luhnow again denies role in Astros sign scandal</td>\n",
              "      <td>/mlb/story/_/id/30151774/ex-astros-gm-jeff-luh...</td>\n",
              "    </tr>\n",
              "    <tr>\n",
              "      <th>5</th>\n",
              "      <td>Zeke on Dallas loss: 'I'm sorry; this one is o...</td>\n",
              "      <td>/nfl/story/_/id/30152139/dallas-cowboys-ezekie...</td>\n",
              "    </tr>\n",
              "    <tr>\n",
              "      <th>6</th>\n",
              "      <td>Kiper/McShay: Sleepers for NFL draft?</td>\n",
              "      <td>/nfl/draft2021/insider/story/_/id/30147118/202...</td>\n",
              "    </tr>\n",
              "    <tr>\n",
              "      <th>7</th>\n",
              "      <td>Expert picks: Dodgers or Rays? MVP? Most HRs, ...</td>\n",
              "      <td>/mlb/story/_/id/30151229/world-series-2020-pic...</td>\n",
              "    </tr>\n",
              "    <tr>\n",
              "      <th>8</th>\n",
              "      <td>Everything you need to know about Dodgers-Rays</td>\n",
              "      <td>/mlb/story/_/id/30144920/world-series-2020-ult...</td>\n",
              "    </tr>\n",
              "    <tr>\n",
              "      <th>9</th>\n",
              "      <td>Women + Sports Summit: Connecting, engaging an...</td>\n",
              "      <td>http://promo.espn.com/espnw/?addata=espn:front...</td>\n",
              "    </tr>\n",
              "    <tr>\n",
              "      <th>10</th>\n",
              "      <td>Athletes Unlimited to launch new pro lacrosse ...</td>\n",
              "      <td>https://www.espn.com/espnw/article/30133068/at...</td>\n",
              "    </tr>\n",
              "    <tr>\n",
              "      <th>11</th>\n",
              "      <td>Projected 2021 draft order: Could Cowboys pick...</td>\n",
              "      <td>/nfl/draft2021/story/_/id/29682741/projected-2...</td>\n",
              "    </tr>\n",
              "    <tr>\n",
              "      <th>12</th>\n",
              "      <td>Four teams that could make big trades</td>\n",
              "      <td>/nba/insider/story/_/id/30148651/nba-trade-sea...</td>\n",
              "    </tr>\n",
              "    <tr>\n",
              "      <th>13</th>\n",
              "      <td>Top free-agency, draft and trade decisions for...</td>\n",
              "      <td>/nba/insider/story/_/id/28953850/biggest-2020-...</td>\n",
              "    </tr>\n",
              "    <tr>\n",
              "      <th>14</th>\n",
              "      <td>Group standings</td>\n",
              "      <td>https://www.espn.com/soccer/table/_/league/uef...</td>\n",
              "    </tr>\n",
              "    <tr>\n",
              "      <th>15</th>\n",
              "      <td>Biggest misses from Ballon d'Or Dream Team</td>\n",
              "      <td>/soccer/blog-the-toe-poke/story/4212931/lewand...</td>\n",
              "    </tr>\n",
              "    <tr>\n",
              "      <th>16</th>\n",
              "      <td>Insider's guide to Big Ten season</td>\n",
              "      <td>/college-football/insider/story/_/id/30141294/...</td>\n",
              "    </tr>\n",
              "    <tr>\n",
              "      <th>17</th>\n",
              "      <td>Which teams do most with least in recruiting?</td>\n",
              "      <td>/college-football/insider/story/_/id/30101887/...</td>\n",
              "    </tr>\n",
              "    <tr>\n",
              "      <th>18</th>\n",
              "      <td>Source: Dolphins to go with Tua as starting QB</td>\n",
              "      <td>/nfl/story/_/id/30154407/source-miami-dolphins...</td>\n",
              "    </tr>\n",
              "    <tr>\n",
              "      <th>19</th>\n",
              "      <td>Raptors' Bjorkgren named Pacers head coach</td>\n",
              "      <td>/nba/story/_/id/30154580/indiana-pacers-hire-t...</td>\n",
              "    </tr>\n",
              "    <tr>\n",
              "      <th>20</th>\n",
              "      <td>Jones 'not in feel-good mood' about Dallas at 2-4</td>\n",
              "      <td>/nfl/story/_/id/30154402/jerry-jones-not-feel-...</td>\n",
              "    </tr>\n",
              "    <tr>\n",
              "      <th>21</th>\n",
              "      <td>Luhnow again denies role in Astros sign scandal</td>\n",
              "      <td>/mlb/story/_/id/30151774/ex-astros-gm-jeff-luh...</td>\n",
              "    </tr>\n",
              "    <tr>\n",
              "      <th>22</th>\n",
              "      <td>Zeke on Dallas loss: 'I'm sorry; this one is o...</td>\n",
              "      <td>/nfl/story/_/id/30152139/dallas-cowboys-ezekie...</td>\n",
              "    </tr>\n",
              "    <tr>\n",
              "      <th>23</th>\n",
              "      <td>Lawyer for group of ex-players fires back at Iowa</td>\n",
              "      <td>/college-football/story/_/id/30151294/attorney...</td>\n",
              "    </tr>\n",
              "    <tr>\n",
              "      <th>24</th>\n",
              "      <td>Kiper/McShay: Sleepers for NFL draft?</td>\n",
              "      <td>/nfl/draft2021/insider/story/_/id/30147118/202...</td>\n",
              "    </tr>\n",
              "  </tbody>\n",
              "</table>\n",
              "</div>"
            ],
            "text/plain": [
              "                                                Title                                                URL\n",
              "0      Source: Dolphins to go with Tua as starting QB  /nfl/story/_/id/30154407/source-miami-dolphins...\n",
              "1      Khabib: Only want St-Pierre bout after Gaethje  /mma/story/_/id/30154475/khabib-nurmagomedov-o...\n",
              "2          Raptors' Bjorkgren named Pacers head coach  /nba/story/_/id/30154580/indiana-pacers-hire-t...\n",
              "3   Jones 'not in feel-good mood' about Dallas at 2-4  /nfl/story/_/id/30154402/jerry-jones-not-feel-...\n",
              "4     Luhnow again denies role in Astros sign scandal  /mlb/story/_/id/30151774/ex-astros-gm-jeff-luh...\n",
              "5   Zeke on Dallas loss: 'I'm sorry; this one is o...  /nfl/story/_/id/30152139/dallas-cowboys-ezekie...\n",
              "6               Kiper/McShay: Sleepers for NFL draft?  /nfl/draft2021/insider/story/_/id/30147118/202...\n",
              "7   Expert picks: Dodgers or Rays? MVP? Most HRs, ...  /mlb/story/_/id/30151229/world-series-2020-pic...\n",
              "8      Everything you need to know about Dodgers-Rays  /mlb/story/_/id/30144920/world-series-2020-ult...\n",
              "9   Women + Sports Summit: Connecting, engaging an...  http://promo.espn.com/espnw/?addata=espn:front...\n",
              "10  Athletes Unlimited to launch new pro lacrosse ...  https://www.espn.com/espnw/article/30133068/at...\n",
              "11  Projected 2021 draft order: Could Cowboys pick...  /nfl/draft2021/story/_/id/29682741/projected-2...\n",
              "12              Four teams that could make big trades  /nba/insider/story/_/id/30148651/nba-trade-sea...\n",
              "13  Top free-agency, draft and trade decisions for...  /nba/insider/story/_/id/28953850/biggest-2020-...\n",
              "14                                    Group standings  https://www.espn.com/soccer/table/_/league/uef...\n",
              "15         Biggest misses from Ballon d'Or Dream Team  /soccer/blog-the-toe-poke/story/4212931/lewand...\n",
              "16                  Insider's guide to Big Ten season  /college-football/insider/story/_/id/30141294/...\n",
              "17      Which teams do most with least in recruiting?  /college-football/insider/story/_/id/30101887/...\n",
              "18     Source: Dolphins to go with Tua as starting QB  /nfl/story/_/id/30154407/source-miami-dolphins...\n",
              "19         Raptors' Bjorkgren named Pacers head coach  /nba/story/_/id/30154580/indiana-pacers-hire-t...\n",
              "20  Jones 'not in feel-good mood' about Dallas at 2-4  /nfl/story/_/id/30154402/jerry-jones-not-feel-...\n",
              "21    Luhnow again denies role in Astros sign scandal  /mlb/story/_/id/30151774/ex-astros-gm-jeff-luh...\n",
              "22  Zeke on Dallas loss: 'I'm sorry; this one is o...  /nfl/story/_/id/30152139/dallas-cowboys-ezekie...\n",
              "23  Lawyer for group of ex-players fires back at Iowa  /college-football/story/_/id/30151294/attorney...\n",
              "24              Kiper/McShay: Sleepers for NFL draft?  /nfl/draft2021/insider/story/_/id/30147118/202..."
            ]
          },
          "metadata": {
            "tags": []
          },
          "execution_count": 64
        }
      ]
    },
    {
      "cell_type": "code",
      "metadata": {
        "id": "hqrHkZwQQkci",
        "outputId": "0fd2522a-f34f-469a-cd48-62f3520c4f2e",
        "colab": {
          "base_uri": "https://localhost:8080/",
          "height": 798
        }
      },
      "source": [
        "headlines = doc.xpath('//a[@data-mptype=\"headline\"]')\n",
        "data = [{\"Title\": a.text_content(), \"URL\": a.get(\"href\")} for a in headlines]\n",
        "df = pandas.DataFrame(data)\n",
        "df"
      ],
      "execution_count": 65,
      "outputs": [
        {
          "output_type": "execute_result",
          "data": {
            "text/html": [
              "<div>\n",
              "<style scoped>\n",
              "    .dataframe tbody tr th:only-of-type {\n",
              "        vertical-align: middle;\n",
              "    }\n",
              "\n",
              "    .dataframe tbody tr th {\n",
              "        vertical-align: top;\n",
              "    }\n",
              "\n",
              "    .dataframe thead th {\n",
              "        text-align: right;\n",
              "    }\n",
              "</style>\n",
              "<table border=\"1\" class=\"dataframe\">\n",
              "  <thead>\n",
              "    <tr style=\"text-align: right;\">\n",
              "      <th></th>\n",
              "      <th>Title</th>\n",
              "      <th>URL</th>\n",
              "    </tr>\n",
              "  </thead>\n",
              "  <tbody>\n",
              "    <tr>\n",
              "      <th>0</th>\n",
              "      <td>Source: Dolphins to go with Tua as starting QB</td>\n",
              "      <td>/nfl/story/_/id/30154407/source-miami-dolphins...</td>\n",
              "    </tr>\n",
              "    <tr>\n",
              "      <th>1</th>\n",
              "      <td>Khabib: Only want St-Pierre bout after Gaethje</td>\n",
              "      <td>/mma/story/_/id/30154475/khabib-nurmagomedov-o...</td>\n",
              "    </tr>\n",
              "    <tr>\n",
              "      <th>2</th>\n",
              "      <td>Raptors' Bjorkgren named Pacers head coach</td>\n",
              "      <td>/nba/story/_/id/30154580/indiana-pacers-hire-t...</td>\n",
              "    </tr>\n",
              "    <tr>\n",
              "      <th>3</th>\n",
              "      <td>Jones 'not in feel-good mood' about Dallas at 2-4</td>\n",
              "      <td>/nfl/story/_/id/30154402/jerry-jones-not-feel-...</td>\n",
              "    </tr>\n",
              "    <tr>\n",
              "      <th>4</th>\n",
              "      <td>Luhnow again denies role in Astros sign scandal</td>\n",
              "      <td>/mlb/story/_/id/30151774/ex-astros-gm-jeff-luh...</td>\n",
              "    </tr>\n",
              "    <tr>\n",
              "      <th>5</th>\n",
              "      <td>Zeke on Dallas loss: 'I'm sorry; this one is o...</td>\n",
              "      <td>/nfl/story/_/id/30152139/dallas-cowboys-ezekie...</td>\n",
              "    </tr>\n",
              "    <tr>\n",
              "      <th>6</th>\n",
              "      <td>Kiper/McShay: Sleepers for NFL draft?</td>\n",
              "      <td>/nfl/draft2021/insider/story/_/id/30147118/202...</td>\n",
              "    </tr>\n",
              "    <tr>\n",
              "      <th>7</th>\n",
              "      <td>Expert picks: Dodgers or Rays? MVP? Most HRs, ...</td>\n",
              "      <td>/mlb/story/_/id/30151229/world-series-2020-pic...</td>\n",
              "    </tr>\n",
              "    <tr>\n",
              "      <th>8</th>\n",
              "      <td>Everything you need to know about Dodgers-Rays</td>\n",
              "      <td>/mlb/story/_/id/30144920/world-series-2020-ult...</td>\n",
              "    </tr>\n",
              "    <tr>\n",
              "      <th>9</th>\n",
              "      <td>Women + Sports Summit: Connecting, engaging an...</td>\n",
              "      <td>http://promo.espn.com/espnw/?addata=espn:front...</td>\n",
              "    </tr>\n",
              "    <tr>\n",
              "      <th>10</th>\n",
              "      <td>Athletes Unlimited to launch new pro lacrosse ...</td>\n",
              "      <td>https://www.espn.com/espnw/article/30133068/at...</td>\n",
              "    </tr>\n",
              "    <tr>\n",
              "      <th>11</th>\n",
              "      <td>Projected 2021 draft order: Could Cowboys pick...</td>\n",
              "      <td>/nfl/draft2021/story/_/id/29682741/projected-2...</td>\n",
              "    </tr>\n",
              "    <tr>\n",
              "      <th>12</th>\n",
              "      <td>Four teams that could make big trades</td>\n",
              "      <td>/nba/insider/story/_/id/30148651/nba-trade-sea...</td>\n",
              "    </tr>\n",
              "    <tr>\n",
              "      <th>13</th>\n",
              "      <td>Top free-agency, draft and trade decisions for...</td>\n",
              "      <td>/nba/insider/story/_/id/28953850/biggest-2020-...</td>\n",
              "    </tr>\n",
              "    <tr>\n",
              "      <th>14</th>\n",
              "      <td>Group standings</td>\n",
              "      <td>https://www.espn.com/soccer/table/_/league/uef...</td>\n",
              "    </tr>\n",
              "    <tr>\n",
              "      <th>15</th>\n",
              "      <td>Biggest misses from Ballon d'Or Dream Team</td>\n",
              "      <td>/soccer/blog-the-toe-poke/story/4212931/lewand...</td>\n",
              "    </tr>\n",
              "    <tr>\n",
              "      <th>16</th>\n",
              "      <td>Insider's guide to Big Ten season</td>\n",
              "      <td>/college-football/insider/story/_/id/30141294/...</td>\n",
              "    </tr>\n",
              "    <tr>\n",
              "      <th>17</th>\n",
              "      <td>Which teams do most with least in recruiting?</td>\n",
              "      <td>/college-football/insider/story/_/id/30101887/...</td>\n",
              "    </tr>\n",
              "    <tr>\n",
              "      <th>18</th>\n",
              "      <td>Source: Dolphins to go with Tua as starting QB</td>\n",
              "      <td>/nfl/story/_/id/30154407/source-miami-dolphins...</td>\n",
              "    </tr>\n",
              "    <tr>\n",
              "      <th>19</th>\n",
              "      <td>Raptors' Bjorkgren named Pacers head coach</td>\n",
              "      <td>/nba/story/_/id/30154580/indiana-pacers-hire-t...</td>\n",
              "    </tr>\n",
              "    <tr>\n",
              "      <th>20</th>\n",
              "      <td>Jones 'not in feel-good mood' about Dallas at 2-4</td>\n",
              "      <td>/nfl/story/_/id/30154402/jerry-jones-not-feel-...</td>\n",
              "    </tr>\n",
              "    <tr>\n",
              "      <th>21</th>\n",
              "      <td>Luhnow again denies role in Astros sign scandal</td>\n",
              "      <td>/mlb/story/_/id/30151774/ex-astros-gm-jeff-luh...</td>\n",
              "    </tr>\n",
              "    <tr>\n",
              "      <th>22</th>\n",
              "      <td>Zeke on Dallas loss: 'I'm sorry; this one is o...</td>\n",
              "      <td>/nfl/story/_/id/30152139/dallas-cowboys-ezekie...</td>\n",
              "    </tr>\n",
              "    <tr>\n",
              "      <th>23</th>\n",
              "      <td>Lawyer for group of ex-players fires back at Iowa</td>\n",
              "      <td>/college-football/story/_/id/30151294/attorney...</td>\n",
              "    </tr>\n",
              "    <tr>\n",
              "      <th>24</th>\n",
              "      <td>Kiper/McShay: Sleepers for NFL draft?</td>\n",
              "      <td>/nfl/draft2021/insider/story/_/id/30147118/202...</td>\n",
              "    </tr>\n",
              "  </tbody>\n",
              "</table>\n",
              "</div>"
            ],
            "text/plain": [
              "                                                Title                                                URL\n",
              "0      Source: Dolphins to go with Tua as starting QB  /nfl/story/_/id/30154407/source-miami-dolphins...\n",
              "1      Khabib: Only want St-Pierre bout after Gaethje  /mma/story/_/id/30154475/khabib-nurmagomedov-o...\n",
              "2          Raptors' Bjorkgren named Pacers head coach  /nba/story/_/id/30154580/indiana-pacers-hire-t...\n",
              "3   Jones 'not in feel-good mood' about Dallas at 2-4  /nfl/story/_/id/30154402/jerry-jones-not-feel-...\n",
              "4     Luhnow again denies role in Astros sign scandal  /mlb/story/_/id/30151774/ex-astros-gm-jeff-luh...\n",
              "5   Zeke on Dallas loss: 'I'm sorry; this one is o...  /nfl/story/_/id/30152139/dallas-cowboys-ezekie...\n",
              "6               Kiper/McShay: Sleepers for NFL draft?  /nfl/draft2021/insider/story/_/id/30147118/202...\n",
              "7   Expert picks: Dodgers or Rays? MVP? Most HRs, ...  /mlb/story/_/id/30151229/world-series-2020-pic...\n",
              "8      Everything you need to know about Dodgers-Rays  /mlb/story/_/id/30144920/world-series-2020-ult...\n",
              "9   Women + Sports Summit: Connecting, engaging an...  http://promo.espn.com/espnw/?addata=espn:front...\n",
              "10  Athletes Unlimited to launch new pro lacrosse ...  https://www.espn.com/espnw/article/30133068/at...\n",
              "11  Projected 2021 draft order: Could Cowboys pick...  /nfl/draft2021/story/_/id/29682741/projected-2...\n",
              "12              Four teams that could make big trades  /nba/insider/story/_/id/30148651/nba-trade-sea...\n",
              "13  Top free-agency, draft and trade decisions for...  /nba/insider/story/_/id/28953850/biggest-2020-...\n",
              "14                                    Group standings  https://www.espn.com/soccer/table/_/league/uef...\n",
              "15         Biggest misses from Ballon d'Or Dream Team  /soccer/blog-the-toe-poke/story/4212931/lewand...\n",
              "16                  Insider's guide to Big Ten season  /college-football/insider/story/_/id/30141294/...\n",
              "17      Which teams do most with least in recruiting?  /college-football/insider/story/_/id/30101887/...\n",
              "18     Source: Dolphins to go with Tua as starting QB  /nfl/story/_/id/30154407/source-miami-dolphins...\n",
              "19         Raptors' Bjorkgren named Pacers head coach  /nba/story/_/id/30154580/indiana-pacers-hire-t...\n",
              "20  Jones 'not in feel-good mood' about Dallas at 2-4  /nfl/story/_/id/30154402/jerry-jones-not-feel-...\n",
              "21    Luhnow again denies role in Astros sign scandal  /mlb/story/_/id/30151774/ex-astros-gm-jeff-luh...\n",
              "22  Zeke on Dallas loss: 'I'm sorry; this one is o...  /nfl/story/_/id/30152139/dallas-cowboys-ezekie...\n",
              "23  Lawyer for group of ex-players fires back at Iowa  /college-football/story/_/id/30151294/attorney...\n",
              "24              Kiper/McShay: Sleepers for NFL draft?  /nfl/draft2021/insider/story/_/id/30147118/202..."
            ]
          },
          "metadata": {
            "tags": []
          },
          "execution_count": 65
        }
      ]
    },
    {
      "cell_type": "markdown",
      "metadata": {
        "id": "H3SgwTKOQkck"
      },
      "source": [
        "## In Class Example: Crawl BuzzFeed\n",
        "\n",
        "* We will try to get the top articles that appear on Buzzfeed\n",
        "* We will grab the link for the article, the text of the title, the description, and the editor.\n",
        "* The results will be stored in a dataframe (we will see in detail what a dataframe is, in a couple of modules)\n"
      ]
    },
    {
      "cell_type": "code",
      "metadata": {
        "id": "vaOYRZpEQkcm"
      },
      "source": [
        "#your code here\n",
        "import requests\n",
        "\n",
        "from lxml import html\n",
        "\n",
        "resp = requests.get(\"http://www.buzzfeed.com\")\n",
        "doc = html.fromstring(resp.text)"
      ],
      "execution_count": 43,
      "outputs": []
    },
    {
      "cell_type": "code",
      "metadata": {
        "id": "Nei56OAhSfcl"
      },
      "source": [
        "story_nodes = doc.xpath('//article[@data-buzzblock=\"story-card\"]')"
      ],
      "execution_count": 46,
      "outputs": []
    },
    {
      "cell_type": "code",
      "metadata": {
        "id": "w0Xwb94eTEiH"
      },
      "source": [
        ""
      ],
      "execution_count": null,
      "outputs": []
    },
    {
      "cell_type": "code",
      "metadata": {
        "id": "Z9eDO7QjTEvK"
      },
      "source": [
        ""
      ],
      "execution_count": null,
      "outputs": []
    },
    {
      "cell_type": "markdown",
      "metadata": {
        "collapsed": true,
        "id": "uNeduCfSQkcu"
      },
      "source": [
        "#### Solution for Buzzfeed (as of October 20, 2020)"
      ]
    },
    {
      "cell_type": "code",
      "metadata": {
        "id": "hKr3oHlGQkcv",
        "outputId": "6e448959-3a04-408c-d0db-25a5823504d9",
        "colab": {
          "base_uri": "https://localhost:8080/",
          "height": 407
        }
      },
      "source": [
        "import requests # This command allows us to fetch URLs\n",
        "from lxml import html # This module will allow us to parse the returned HTML/XML\n",
        "import pandas\n",
        "\n",
        "# Let's start by fetching the page, and parsing it\n",
        "url = \"http://www.buzzfeed.com/\"\n",
        "response = requests.get(url) # get the html of that url\n",
        "doc = html.fromstring(response.text) # parse it and create a document\n",
        "\n",
        "articleNodes = doc.xpath(\"//article[@data-buzzblock='story-card']\") \n",
        "\n",
        "def parseArticleNode(article):\n",
        "    headline = article.xpath(\".//h2\")[0].text_content().strip()\n",
        "    headline_link = article.xpath(\".//a\")[0].get(\"href\")\n",
        "    description = article.xpath(\".//p\")[0].text_content()\n",
        "    editor = article.xpath(\".//a[contains(@class,'card__meta__link')]/span\")[0].text_content().strip()\n",
        "\n",
        "    result = {\n",
        "        \"headline\": headline,\n",
        "        \"URL\" : headline_link,\n",
        "        \"description\" : description,\n",
        "        \"editor\" : editor\n",
        "    }\n",
        "    return result\n",
        "\n",
        "data = [parseArticleNode(article) for article in articleNodes]\n",
        "df = pandas.DataFrame(data)\n",
        "df"
      ],
      "execution_count": 52,
      "outputs": [
        {
          "output_type": "execute_result",
          "data": {
            "text/html": [
              "<div>\n",
              "<style scoped>\n",
              "    .dataframe tbody tr th:only-of-type {\n",
              "        vertical-align: middle;\n",
              "    }\n",
              "\n",
              "    .dataframe tbody tr th {\n",
              "        vertical-align: top;\n",
              "    }\n",
              "\n",
              "    .dataframe thead th {\n",
              "        text-align: right;\n",
              "    }\n",
              "</style>\n",
              "<table border=\"1\" class=\"dataframe\">\n",
              "  <thead>\n",
              "    <tr style=\"text-align: right;\">\n",
              "      <th></th>\n",
              "      <th>headline</th>\n",
              "      <th>URL</th>\n",
              "      <th>description</th>\n",
              "      <th>editor</th>\n",
              "    </tr>\n",
              "  </thead>\n",
              "  <tbody>\n",
              "    <tr>\n",
              "      <th>0</th>\n",
              "      <td>31 Products With Before-And-After Photos That ...</td>\n",
              "      <td>https://www.buzzfeed.com/jennifertonti/before-...</td>\n",
              "      <td>Seeing really is believing — and we believe.</td>\n",
              "      <td>Jennifer Tonti</td>\n",
              "    </tr>\n",
              "    <tr>\n",
              "      <th>1</th>\n",
              "      <td>WTF Is Happening Today? BuzzFeed Newsletters C...</td>\n",
              "      <td>https://www.buzzfeed.com/newsletters?ref=hplego</td>\n",
              "      <td>We have newsletters to help you stay in the lo...</td>\n",
              "      <td>BuzzFeed</td>\n",
              "    </tr>\n",
              "    <tr>\n",
              "      <th>2</th>\n",
              "      <td>Culinary School Grads Are Sharing The Cooking ...</td>\n",
              "      <td>https://www.buzzfeed.com/melissaharrison/culin...</td>\n",
              "      <td>Who knew??</td>\n",
              "      <td>Melissa Jameson</td>\n",
              "    </tr>\n",
              "    <tr>\n",
              "      <th>3</th>\n",
              "      <td>TikTok Exploded With Some Major Balloon Drama ...</td>\n",
              "      <td>https://www.buzzfeednews.com/article/laurenstr...</td>\n",
              "      <td>People were sucked into drama over one woman's...</td>\n",
              "      <td>Lauren Strapagiel</td>\n",
              "    </tr>\n",
              "    <tr>\n",
              "      <th>4</th>\n",
              "      <td>25 \"Haunting Of Bly Manor\" Details That Actual...</td>\n",
              "      <td>https://www.buzzfeed.com/noradominick/haunting...</td>\n",
              "      <td>I'll always cry over the word \"confetti,\" and ...</td>\n",
              "      <td>Nora Dominick</td>\n",
              "    </tr>\n",
              "    <tr>\n",
              "      <th>...</th>\n",
              "      <td>...</td>\n",
              "      <td>...</td>\n",
              "      <td>...</td>\n",
              "      <td>...</td>\n",
              "    </tr>\n",
              "    <tr>\n",
              "      <th>83</th>\n",
              "      <td>A Woman In Her Thirties Died Of COVID-19 On A ...</td>\n",
              "      <td>https://www.buzzfeednews.com/article/tasneemna...</td>\n",
              "      <td>A Texas woman in her thirties died after she h...</td>\n",
              "      <td>Tasneem Nashrulla</td>\n",
              "    </tr>\n",
              "    <tr>\n",
              "      <th>84</th>\n",
              "      <td>Justin Bieber Got Really Worked Up During His ...</td>\n",
              "      <td>https://www.buzzfeed.com/larryfitzmaurice/just...</td>\n",
              "      <td>You have to see it.</td>\n",
              "      <td>larryfitzmaurice</td>\n",
              "    </tr>\n",
              "    <tr>\n",
              "      <th>85</th>\n",
              "      <td>24 Things From Bellesa Boutique To Help You Ha...</td>\n",
              "      <td>https://www.buzzfeed.com/taylor_steele/things-...</td>\n",
              "      <td>Fall has come and so will you.</td>\n",
              "      <td>Taylor Steele</td>\n",
              "    </tr>\n",
              "    <tr>\n",
              "      <th>86</th>\n",
              "      <td>18 Side-By-Sides Of The \"Great British Bake Of...</td>\n",
              "      <td>https://www.buzzfeed.com/jenniferabidor/great-...</td>\n",
              "      <td>So. Much. Chocolate.</td>\n",
              "      <td>Jen Abidor</td>\n",
              "    </tr>\n",
              "    <tr>\n",
              "      <th>87</th>\n",
              "      <td>44 Slightly Strange Products Reviewers Actuall...</td>\n",
              "      <td>https://www.buzzfeed.com/malloryannp/slightly-...</td>\n",
              "      <td>There's a strawberry toilet seat in this post....</td>\n",
              "      <td>Mallory Mower</td>\n",
              "    </tr>\n",
              "  </tbody>\n",
              "</table>\n",
              "<p>88 rows × 4 columns</p>\n",
              "</div>"
            ],
            "text/plain": [
              "                                             headline  ...             editor\n",
              "0   31 Products With Before-And-After Photos That ...  ...     Jennifer Tonti\n",
              "1   WTF Is Happening Today? BuzzFeed Newsletters C...  ...           BuzzFeed\n",
              "2   Culinary School Grads Are Sharing The Cooking ...  ...    Melissa Jameson\n",
              "3   TikTok Exploded With Some Major Balloon Drama ...  ...  Lauren Strapagiel\n",
              "4   25 \"Haunting Of Bly Manor\" Details That Actual...  ...      Nora Dominick\n",
              "..                                                ...  ...                ...\n",
              "83  A Woman In Her Thirties Died Of COVID-19 On A ...  ...  Tasneem Nashrulla\n",
              "84  Justin Bieber Got Really Worked Up During His ...  ...   larryfitzmaurice\n",
              "85  24 Things From Bellesa Boutique To Help You Ha...  ...      Taylor Steele\n",
              "86  18 Side-By-Sides Of The \"Great British Bake Of...  ...         Jen Abidor\n",
              "87  44 Slightly Strange Products Reviewers Actuall...  ...      Mallory Mower\n",
              "\n",
              "[88 rows x 4 columns]"
            ]
          },
          "metadata": {
            "tags": []
          },
          "execution_count": 52
        }
      ]
    }
  ]
}
