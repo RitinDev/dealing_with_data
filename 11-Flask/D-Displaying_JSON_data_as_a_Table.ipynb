{
  "cells": [
    {
      "cell_type": "markdown",
      "metadata": {
        "id": "view-in-github",
        "colab_type": "text"
      },
      "source": [
        "<a href=\"https://colab.research.google.com/github/ipeirotis/dealing_with_data/blob/master/11-Flask/D-Displaying_JSON_data_as_a_Table.ipynb\" target=\"_parent\"><img src=\"https://colab.research.google.com/assets/colab-badge.svg\" alt=\"Open In Colab\"/></a>"
      ]
    },
    {
      "cell_type": "code",
      "execution_count": null,
      "id": "d84f849b",
      "metadata": {
        "id": "d84f849b"
      },
      "outputs": [],
      "source": [
        "https://pyngrok.readthedocs.io/en/latest/integrations.html#colab-http-example\n",
        "    "
      ]
    },
    {
      "cell_type": "code",
      "execution_count": null,
      "id": "ba8878d1",
      "metadata": {
        "id": "ba8878d1"
      },
      "outputs": [],
      "source": [
        "https://digitalfox-tutorials.com/tutorial.php?title=Display-JSON-data-in-HTML-table-using-JavaScript"
      ]
    },
    {
      "cell_type": "code",
      "execution_count": null,
      "id": "63bddd79",
      "metadata": {
        "id": "63bddd79"
      },
      "outputs": [],
      "source": []
    },
    {
      "cell_type": "code",
      "execution_count": null,
      "id": "ac94be4e",
      "metadata": {
        "id": "ac94be4e"
      },
      "outputs": [],
      "source": [
        "https://www.w3docs.com/snippets/html/how-to-display-base64-images-in-html.html"
      ]
    },
    {
      "cell_type": "code",
      "execution_count": null,
      "id": "2acca624",
      "metadata": {
        "id": "2acca624"
      },
      "outputs": [],
      "source": [
        "https://www.w3schools.com/jsref/prop_img_src.asp"
      ]
    },
    {
      "cell_type": "code",
      "source": [
        "%html \n",
        "\n",
        "<body>\n",
        "   <table>\n",
        "      <thead>\n",
        "         <tr>\n",
        "            <th>ID</th>\n",
        "            <th>Name</th>\n",
        "            <th>Price</th>\n",
        "            <th>Lat</th>\n",
        "            <th>Lon</th>\n",
        "         </tr>\n",
        "      </thead>\n",
        "      <tbody id=\"data-output\">\n",
        "         <!-- Prodcuts from javascript file in here. -->\n",
        "      </tbody>\n",
        "   </table>\n",
        " \n",
        "<!-- The javascript code that calls the API-->\n",
        "<script>\n",
        "\n",
        "fetch(\"/citibike_api\")\n",
        ".then(function(response){\n",
        "   return response.json();\n",
        "})\n",
        ".then(function(stations){\n",
        "   let placeholder = document.querySelector(\"#data-output\");\n",
        "   let out = \"\";\n",
        "   for(let s of stations.stations){\n",
        "      out += `\n",
        "         <tr>\n",
        "            <td>${s.id}</td>\n",
        "            <td>${s.name}</td>\n",
        "            <td>${s.capacity}</td>\n",
        "            <td>${s.lat}</td>\n",
        "            <td>${s.lon}</td>\n",
        "         </tr>\n",
        "      `;\n",
        "   }\n",
        "   placeholder.innerHTML = out;\n",
        "});\n",
        "\n",
        "</script> "
      ],
      "metadata": {
        "id": "dTL2MaJIOVaG"
      },
      "id": "dTL2MaJIOVaG",
      "execution_count": null,
      "outputs": []
    },
    {
      "cell_type": "code",
      "source": [
        "from google.colab import drive\n",
        "drive.mount('/content/drive')\n"
      ],
      "metadata": {
        "id": "HLM3mDUzOTfw"
      },
      "id": "HLM3mDUzOTfw",
      "execution_count": null,
      "outputs": []
    },
    {
      "cell_type": "code",
      "source": [
        "import os \n",
        "from flask import Flask, render_template, jsonify\n",
        "from pyngrok import ngrok\n",
        "\n",
        "from sqlalchemy import create_engine\n",
        "import pandas as pd\n",
        "\n",
        "os.environ[\"FLASK_DEBUG\"] = \"true\"\n",
        "\n",
        "app = Flask(__name__,  template_folder = '/content/drive/My Drive/templates')\n",
        "port = 5000\n",
        "\n",
        "# Open a ngrok tunnel to the HTTP server\n",
        "ngrok_authtoken = '2EYf3qVk9mi739HjPwSNZXWAtfy_4jF9NAhGqVVVJmm4YehPW'\n",
        "ngrok.set_auth_token(ngrok_authtoken)\n",
        "public_url = ngrok.connect(port).public_url\n",
        "print(f\" * ngrok tunnel '{public_url}' -> 'http://127.0.0.1:{port}'\")\n",
        "\n",
        "# Update any base URLs to use the public ngrok URL\n",
        "app.config[\"BASE_URL\"] = public_url\n",
        " \n",
        "\n",
        "# Setup a connection to the database\n",
        "conn_string = 'mysql+pymysql://{user}:{password}@{host}/{db}?charset={encoding}'.format(\n",
        "    host = 'db.ipeirotis.org', \n",
        "    user = 'student',\n",
        "    db = 'citibike_fall2017',\n",
        "    password = 'dwdstudent2015',\n",
        "    encoding = 'utf8mb4')\n",
        "engine = create_engine(conn_string)\n",
        "\n",
        "@app.route('/citibike_api',  methods=['GET'])\n",
        "def citibike_stations():\n",
        "\n",
        "    sql = \"SELECT DISTINCT id, name, capacity, lat, lon  FROM status_fall2017\" \n",
        "    # Connect to the database, execute the query, and get back the results\n",
        "    with engine.connect() as connection:\n",
        "        stations = pd.read_sql(sql, con=connection)\n",
        "    \n",
        "    # Create the response. We will put the retrieved data as a list of\n",
        "    # dictionaries, under the key \"stations\".\n",
        "    list_of_stations = stations.to_dict(orient='records')\n",
        "    \n",
        "    api_results = {\"stations\": list_of_stations}\n",
        "\n",
        "    # We JSON-ify our dictionary and return it as the API response\n",
        "    return jsonify(api_results)\n",
        "\n",
        " \n",
        "app.run(use_reloader=False)"
      ],
      "metadata": {
        "id": "9R3pHN6EORQp"
      },
      "id": "9R3pHN6EORQp",
      "execution_count": null,
      "outputs": []
    }
  ],
  "metadata": {
    "kernelspec": {
      "display_name": "Python 3 (ipykernel)",
      "language": "python",
      "name": "python3"
    },
    "language_info": {
      "codemirror_mode": {
        "name": "ipython",
        "version": 3
      },
      "file_extension": ".py",
      "mimetype": "text/x-python",
      "name": "python",
      "nbconvert_exporter": "python",
      "pygments_lexer": "ipython3",
      "version": "3.10.4"
    },
    "colab": {
      "provenance": [],
      "include_colab_link": true
    }
  },
  "nbformat": 4,
  "nbformat_minor": 5
}