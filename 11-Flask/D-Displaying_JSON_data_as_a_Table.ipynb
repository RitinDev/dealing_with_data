{
  "cells": [
    {
      "cell_type": "markdown",
      "metadata": {
        "id": "view-in-github",
        "colab_type": "text"
      },
      "source": [
        "<a href=\"https://colab.research.google.com/github/ipeirotis/dealing_with_data/blob/master/11-Flask/D-Displaying_JSON_data_as_a_Table.ipynb\" target=\"_parent\"><img src=\"https://colab.research.google.com/assets/colab-badge.svg\" alt=\"Open In Colab\"/></a>"
      ]
    },
    {
      "cell_type": "markdown",
      "source": [
        "# Displaying data from API calls in HTML"
      ],
      "metadata": {
        "id": "y_BonzUT--C9"
      },
      "id": "y_BonzUT--C9"
    },
    {
      "cell_type": "markdown",
      "source": [
        "Now, let's examine how to combine HTML with the API calls that we have been creating.\n",
        "\n",
        "The main language for manipulating HTML pages is Javascript. Below, we are going to see a minimal example where we will use Javascript to connect to our APIs and populate an HTML table using the data returned by our API call.\n",
        "\n",
        "The HTML below uses [Twitter Bootstrap](https://getbootstrap.com/) to make the final result look more professional than vanilla HTML tags. \n",
        "\n",
        "First, let's create a new HTML page, call it `list_stations.html` and let's store it under the `templates` folder."
      ],
      "metadata": {
        "id": "wqoXU5BE_9JU"
      },
      "id": "wqoXU5BE_9JU"
    },
    {
      "cell_type": "markdown",
      "source": [
        "```html \n",
        "<html>\n",
        "  <head>\n",
        "    <!-- Link to Twitter Bootstrap -->\n",
        "    <link href=\"https://cdn.jsdelivr.net/npm/bootstrap@5.2.2/dist/css/bootstrap.min.css\" rel=\"stylesheet\" integrity=\"sha384-Zenh87qX5JnK2Jl0vWa8Ck2rdkQ2Bzep5IDxbcnCeuOxjzrPF/et3URy9Bv1WTRi\" crossorigin=\"anonymous\">\n",
        "  </head>\n",
        "  <body>\n",
        "    <div class=\"container\">\n",
        "      <div class=\"panel panel-info\">\n",
        "        <div class=\"panel-heading\">\n",
        "          <h1 class=\"panel-title\">Citibike Stations</h1>\n",
        "        </div>\n",
        "        <div>\n",
        "          <img id=\"station_map\" class=\"center-block\" />\n",
        "        </div>\n",
        "\n",
        "        <table class=\"table table-striped table-bordered table-hover\">\n",
        "            <thead>\n",
        "              <tr>\n",
        "                  <th>ID</th>\n",
        "                  <th>Name</th>\n",
        "                  <th>Price</th>\n",
        "                  <th>Lat</th>\n",
        "                  <th>Lon</th>\n",
        "              </tr>\n",
        "            </thead>\n",
        "            <tbody id=\"data-output\">\n",
        "              <!-- List of stations from javascript file in here. -->\n",
        "            </tbody>\n",
        "        </table>\n",
        "      </div>\n",
        "    </div>\n",
        "  </body>\n",
        "\n",
        " \n",
        "<!-- The javascript code that calls the API-->\n",
        "<script>\n",
        "\n",
        "fetch(\"/citibike_api\")\n",
        ".then(function(response){\n",
        "   return response.json();\n",
        "})\n",
        ".then(function(data){\n",
        "   let placeholder = document.querySelector(\"#data-output\");\n",
        "   let out = \"\";\n",
        "   for(let s of data.stations){\n",
        "      out += `\n",
        "         <tr>\n",
        "            <td>${s.id}</td>\n",
        "            <td>${s.name}</td>\n",
        "            <td>${s.capacity}</td>\n",
        "            <td>${s.lat}</td>\n",
        "            <td>${s.lon}</td>\n",
        "         </tr>\n",
        "      `;\n",
        "   }\n",
        "   placeholder.innerHTML = out;\n",
        "});\n",
        "\n",
        "\n",
        "fetch(\"/station_map\")\n",
        ".then(function(response){\n",
        "   return response.json();\n",
        "})\n",
        ".then(function(data){\n",
        "   let map_image = document.querySelector(\"#station_map\");\n",
        "   map_image.src = `data:image/png;base64,`+data.image;\n",
        "});\n",
        "</script> \n",
        "\n",
        "</html>\n",
        "```"
      ],
      "metadata": {
        "id": "U8C-LnYl_qZo"
      },
      "id": "U8C-LnYl_qZo"
    },
    {
      "cell_type": "markdown",
      "source": [
        "Next we will add a route in the website to return that HTML page"
      ],
      "metadata": {
        "id": "lgnRqt3sFVe3"
      },
      "id": "lgnRqt3sFVe3"
    },
    {
      "cell_type": "markdown",
      "source": [
        "```python\n",
        "@app.route('/list_stations.html',  methods=['GET'])\n",
        "def list_stations():\n",
        "    return render_template(\"list_stations.html\")\n",
        "```"
      ],
      "metadata": {
        "id": "yXfHTKUwG4TE"
      },
      "id": "yXfHTKUwG4TE"
    },
    {
      "cell_type": "code",
      "source": [
        "from google.colab import drive\n",
        "drive.mount('/content/drive')"
      ],
      "metadata": {
        "id": "9YEWE5pqG0lH",
        "outputId": "00ec183f-bf6e-4291-ca4c-85fcdccda339",
        "colab": {
          "base_uri": "https://localhost:8080/"
        }
      },
      "id": "9YEWE5pqG0lH",
      "execution_count": null,
      "outputs": [
        {
          "output_type": "stream",
          "name": "stdout",
          "text": [
            "Mounted at /content/drive\n"
          ]
        }
      ]
    },
    {
      "cell_type": "markdown",
      "source": [
        "### References \n",
        "\n",
        "* [Tutorial 1](https://digitalfox-tutorials.com/tutorial.php?title=Display-JSON-data-in-HTML-table-using-JavaScript)\n",
        "\n",
        "* [Tutorial 2](https://www.w3docs.com/snippets/html/how-to-display-base64-images-in-html.html)\n",
        "\n",
        "* [Tutorial 3](https://www.w3schools.com/jsref/prop_img_src.asp)"
      ],
      "metadata": {
        "id": "MNRGDOvz_EJ-"
      },
      "id": "MNRGDOvz_EJ-"
    }
  ],
  "metadata": {
    "kernelspec": {
      "display_name": "Python 3 (ipykernel)",
      "language": "python",
      "name": "python3"
    },
    "language_info": {
      "codemirror_mode": {
        "name": "ipython",
        "version": 3
      },
      "file_extension": ".py",
      "mimetype": "text/x-python",
      "name": "python",
      "nbconvert_exporter": "python",
      "pygments_lexer": "ipython3",
      "version": "3.10.4"
    },
    "colab": {
      "provenance": [],
      "include_colab_link": true
    }
  },
  "nbformat": 4,
  "nbformat_minor": 5
}