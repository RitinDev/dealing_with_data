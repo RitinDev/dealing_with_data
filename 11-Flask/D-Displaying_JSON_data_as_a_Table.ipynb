{
 "cells": [
  {
   "cell_type": "code",
   "execution_count": null,
   "id": "d84f849b",
   "metadata": {},
   "outputs": [],
   "source": [
    "https://pyngrok.readthedocs.io/en/latest/integrations.html#colab-http-example\n",
    "    "
   ]
  },
  {
   "cell_type": "code",
   "execution_count": null,
   "id": "ba8878d1",
   "metadata": {},
   "outputs": [],
   "source": [
    "https://digitalfox-tutorials.com/tutorial.php?title=Display-JSON-data-in-HTML-table-using-JavaScript"
   ]
  },
  {
   "cell_type": "code",
   "execution_count": null,
   "id": "63bddd79",
   "metadata": {},
   "outputs": [],
   "source": []
  },
  {
   "cell_type": "code",
   "execution_count": null,
   "id": "ac94be4e",
   "metadata": {},
   "outputs": [],
   "source": [
    "https://www.w3docs.com/snippets/html/how-to-display-base64-images-in-html.html"
   ]
  },
  {
   "cell_type": "code",
   "execution_count": null,
   "id": "2acca624",
   "metadata": {},
   "outputs": [],
   "source": [
    "https://www.w3schools.com/jsref/prop_img_src.asp"
   ]
  }
 ],
 "metadata": {
  "kernelspec": {
   "display_name": "Python 3 (ipykernel)",
   "language": "python",
   "name": "python3"
  },
  "language_info": {
   "codemirror_mode": {
    "name": "ipython",
    "version": 3
   },
   "file_extension": ".py",
   "mimetype": "text/x-python",
   "name": "python",
   "nbconvert_exporter": "python",
   "pygments_lexer": "ipython3",
   "version": "3.10.4"
  }
 },
 "nbformat": 4,
 "nbformat_minor": 5
}
