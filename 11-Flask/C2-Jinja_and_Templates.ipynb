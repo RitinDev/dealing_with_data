{
  "nbformat": 4,
  "nbformat_minor": 0,
  "metadata": {
    "anaconda-cloud": {},
    "kernelspec": {
      "display_name": "Python 3",
      "language": "python",
      "name": "python3"
    },
    "language_info": {
      "codemirror_mode": {
        "name": "ipython",
        "version": 3
      },
      "file_extension": ".py",
      "mimetype": "text/x-python",
      "name": "python",
      "nbconvert_exporter": "python",
      "pygments_lexer": "ipython3",
      "version": "3.6.6"
    },
    "colab": {
      "name": "C-Jinja_and_Templates.ipynb",
      "provenance": [],
      "toc_visible": true
    }
  },
  "cells": [
    {
      "cell_type": "markdown",
      "metadata": {
        "id": "4GQE_iOR7TXS"
      },
      "source": [
        "# Jinja Templates\n",
        "\n",
        "We now discuss how to use _data_ within our _templates_. We will be using a template engine called `Jinja` which can be installed as follows:"
      ]
    },
    {
      "cell_type": "code",
      "metadata": {
        "id": "OM0UbUhn7TXU"
      },
      "source": [
        "!pip install flask==0.12.2\n",
        "!pip install flask-ngrok\n",
        "!pip install Jinja2"
      ],
      "execution_count": null,
      "outputs": []
    },
    {
      "cell_type": "markdown",
      "metadata": {
        "id": "5pQLkrN_7TXb"
      },
      "source": [
        "## Using Jinja for making HTML structure creation more flexible\n",
        "\n",
        "Above we have mentioned that the `render_template` function may have a list of variables with template arguments that will be put in HTML structure of a web page. \n",
        "\n",
        "Let's look at a simple example. Replace the code between `<body>` tags in `\"index.html\"` by \n",
        "\n",
        "```html\n",
        "    <h1>Hello, {{ username }}!</h1>\n",
        "    <h1>Today is {{ today }}</h1>\n",
        "```\n",
        "\n",
        "As you may see both keys (`username` and `today`) written in `{{ }}` brackets were replaced by their values defined in the `render_template` function (`\"Panos Ipeirotis\"` and respective today's date).\n",
        "\n",
        "Under the covers, the `render_template` function invokes the [Jinja2](http://jinja.pocoo.org/) templating engine that is part of the Flask framework. Jinja2 substitutes `{{ ... }}` blocks with the corresponding values provided as template arguments.\n",
        "\n",
        "Let's also modify our code for the webserver. To avoid losing our templates moving forward, we will now store the templates under a folder in Google Drive.\n",
        "\n"
      ]
    },
    {
      "cell_type": "code",
      "metadata": {
        "id": "r9prWWP1WoOS",
        "outputId": "c70f83bc-bb94-4c33-c87d-702090f95e4d",
        "colab": {
          "base_uri": "https://localhost:8080/",
          "height": 35
        }
      },
      "source": [
        "# This code connects Google Drive to Colab, and makes the \n",
        "# contents of Google Drive available under \"/content/drive/My Drive\"\n",
        "from google.colab import drive\n",
        "drive.mount('/content/drive')"
      ],
      "execution_count": 2,
      "outputs": [
        {
          "output_type": "stream",
          "text": [
            "Mounted at /content/drive\n"
          ],
          "name": "stdout"
        }
      ]
    },
    {
      "cell_type": "code",
      "metadata": {
        "id": "AO4Km5xn79cT",
        "outputId": "bd3baf6f-54ba-4f29-e786-02fd6cb4ee0d",
        "colab": {
          "base_uri": "https://localhost:8080/",
          "height": 34
        }
      },
      "source": [
        "from flask import Flask, render_template\n",
        "from flask_ngrok import run_with_ngrok\n",
        "import datetime\n",
        " \n",
        "app = Flask(__name__, template_folder = '/content/drive/My Drive/templates')\n",
        "run_with_ngrok(app)  # Start ngrok when app is run\n",
        "\n",
        "@app.route(\"/\")\n",
        "def home():\n",
        "    today = datetime.date.today()\n",
        "    return render_template(\"index.html\", username=\"Panos Ipeirotis\", today=today)\n",
        " \n",
        "app.run()"
      ],
      "execution_count": null,
      "outputs": [
        {
          "output_type": "stream",
          "text": [
            " * Running on http://127.0.0.1:5000/ (Press CTRL+C to quit)\n"
          ],
          "name": "stderr"
        }
      ]
    },
    {
      "cell_type": "markdown",
      "metadata": {
        "id": "9GCUD4x17TXd"
      },
      "source": [
        "## Jinja iterators\n",
        "\n",
        "The Jinja2 templates also support control statements (`if - else`) and `for`-loops, given inside `{% ... %}` blocks. \n",
        "\n",
        "For example, here is a `for` loop, that displays a list of persons name and their age provided in the varaible `persons` ([HTML tags `<ul>` and  `<li>`](https://www.w3schools.com/tags/tag_li.asp) are using for lists creation in HTML structure):\n",
        "\n",
        "Modify the usual web server code, and add the following function:\n",
        "\n",
        "```python\n",
        "@app.route(\"/actors\")\n",
        "def actors():\n",
        "    persons = [\n",
        "        {\"name\": \"Robert De Niro\", \"age\": 73},\n",
        "        {\"name\": \"Leonardo DiCaprio\", \"age\": 42},\n",
        "        {\"name\": \"Tom Hanks\", \"age\": 60},\n",
        "        {\"name\": \"Tom Cruise\", \"age\": 54}\n",
        "    ]\n",
        "    return render_template('actors.html', title=\"My favorite actors\", actors=persons)\n",
        "```\n",
        "\n",
        "And create a file in \"actors.html\" in under the `templates` folder.\n",
        "\n",
        "```html\n",
        "<body>\n",
        "    <h2>{{ title }}</h2>\n",
        "    <ul>\n",
        "        {% for i in actors %}\n",
        "        <li>Name: {{ i.name }}; age: {{ i.age }}</li>\n",
        "        {% endfor %}\n",
        "    </ul>\n",
        "</body>\n",
        "```\n",
        "\n",
        "The logic is very similar to Python's one, but pay attention that `for` loop must be closed by `endfor` clause. <br/>\n",
        "Let's demonstrate how to use `if`-statements and in the above template make bold all rows where actor is elder than 50 and underline actors who is 60 years old.\n",
        "\n",
        "```html\n",
        "<body>\n",
        "    <h2>{{ title }}</h2>\n",
        "    <ul>\n",
        "        {% for i in actors %}\n",
        "            <li>\n",
        "                {% if i.age == 60 %}\n",
        "                    <u>Name: {{ i.name }}; age: {{ i.age }}</u>\n",
        "                {% elif i.age > 50 %}\n",
        "                    <strong>Name: {{ i.name }}; age: {{ i.age }}</strong>\n",
        "                {% else %}\n",
        "                    Name: {{ i.name }}; age: {{ i.age }}\n",
        "                {% endif %}\n",
        "            </li>\n",
        "        {% endfor %}\n",
        "    </ul>\n",
        "</body>\n",
        "```\n",
        "\n",
        "Also `if`-statement should be closed by `endif` command. <br/>\n",
        "The capabilities proposing by Jinja2 usage are more wide than we have shown, but it will be absolutely enough for majority of templates creation. More information you may find [here](http://jinja.pocoo.org/docs/2.9/templates/)."
      ]
    },
    {
      "cell_type": "markdown",
      "metadata": {
        "id": "GWuqR2Mk7TXf"
      },
      "source": [
        "### Exercise \n",
        "\n",
        "There is a list with food name and calories \n",
        "\n",
        ">```python\n",
        "food = [\n",
        "    {\"food\": \"Apple pie, 1 piece\", \"calories\": 405, \"protein\": 3, \"fat\": 18, \"carbohydrate\": 60},\n",
        "    {\"food\": \"Banana\", \"calories\": 105, \"protein\": 1, \"fat\": 0, \"carbohydrate\": 27},  \n",
        "    {\"food\": \"Beaf steak\", \"calories\": 240, \"protein\": 23, \"fat\": 15, \"carbohydrate\": 0},\n",
        "    {\"food\": \"Carrot\", \"calories\": 30, \"protein\": 1, \"fat\": 0, \"carbohydrate\": 7},\n",
        "    {\"food\": \"Chicken soup, 1 cup\", \"calories\": 60, \"protein\": 4, \"fat\": 2, \"carbohydrate\": 7}\n",
        "]\n",
        "```\n",
        "\n",
        "Using ONLY Jinja2 template syntax display at the new page http://your_ip:5000/food the list of foods. Feel free to add conditional formatting, eg  when the number of calories exceeds a limit.\n",
        "\n",
        "**Hint:** You need to create a new HTML template and a new view function the webserver code and set fot it the respective URL."
      ]
    },
    {
      "cell_type": "code",
      "metadata": {
        "id": "xoheCvAJ7TXg"
      },
      "source": [
        ""
      ],
      "execution_count": null,
      "outputs": []
    }
  ]
}