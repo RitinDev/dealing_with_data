{
  "nbformat": 4,
  "nbformat_minor": 0,
  "metadata": {
    "anaconda-cloud": {},
    "kernelspec": {
      "display_name": "Python 3",
      "language": "python",
      "name": "python3"
    },
    "language_info": {
      "codemirror_mode": {
        "name": "ipython",
        "version": 3
      },
      "file_extension": ".py",
      "mimetype": "text/x-python",
      "name": "python",
      "nbconvert_exporter": "python",
      "pygments_lexer": "ipython3",
      "version": "3.6.6"
    },
    "colab": {
      "name": "D-Connecting_to_MySQL.ipynb",
      "provenance": [],
      "include_colab_link": true
    }
  },
  "cells": [
    {
      "cell_type": "markdown",
      "metadata": {
        "id": "view-in-github",
        "colab_type": "text"
      },
      "source": [
        "<a href=\"https://colab.research.google.com/github/ipeirotis/dealing_with_data/blob/master/11-Flask/B-Create_API_call_and_Connecting_to_MySQL.ipynb\" target=\"_parent\"><img src=\"https://colab.research.google.com/assets/colab-badge.svg\" alt=\"Open In Colab\"/></a>"
      ]
    },
    {
      "cell_type": "markdown",
      "metadata": {
        "id": "SkZqhwkf8NUg"
      },
      "source": [
        "# Creating of a Flask application showing Citibike stations\n",
        "\n",
        "\n",
        "In this segment we will create a basic app, where we will connect to the Citibike database, and display the list of stations. \n",
        "\n"
      ]
    },
    {
      "cell_type": "code",
      "metadata": {
        "id": "O9o9NsaO8hMy",
        "outputId": "66965358-e6a7-4f78-abc3-988c2b6bd3b8",
        "colab": {
          "base_uri": "https://localhost:8080/"
        }
      },
      "source": [
        "!pip install -U -q PyMySQL sqlalchemy sql_magic\n",
        "!pip install -U -q flask # ==0.12.2\n",
        "!pip install -U -q flask-ngrok"
      ],
      "execution_count": 2,
      "outputs": [
        {
          "output_type": "stream",
          "name": "stdout",
          "text": [
            "\u001b[K     |████████████████████████████████| 43 kB 1.7 MB/s \n",
            "\u001b[K     |████████████████████████████████| 1.6 MB 14.0 MB/s \n",
            "\u001b[K     |████████████████████████████████| 1.6 MB 44.7 MB/s \n",
            "\u001b[K     |████████████████████████████████| 120 kB 53.9 MB/s \n",
            "\u001b[K     |████████████████████████████████| 82 kB 424 kB/s \n",
            "\u001b[K     |████████████████████████████████| 101 kB 8.9 MB/s \n",
            "\u001b[K     |████████████████████████████████| 96 kB 5.9 MB/s \n",
            "\u001b[K     |████████████████████████████████| 232 kB 44.4 MB/s \n",
            "\u001b[K     |████████████████████████████████| 133 kB 77.2 MB/s \n",
            "\u001b[?25h"
          ]
        }
      ]
    },
    {
      "cell_type": "markdown",
      "source": [
        "## A Refresher \n",
        "\n",
        "Let's remember first how to get data from the database."
      ],
      "metadata": {
        "id": "IU8IJ-_7aEf-"
      }
    },
    {
      "cell_type": "code",
      "metadata": {
        "id": "EkIL-uRK8NUi"
      },
      "source": [
        "# This code creates a connection to the database\n",
        "from sqlalchemy import create_engine\n",
        "\n",
        "conn_string = 'mysql+pymysql://{user}:{password}@{host}/{db}?charset={encoding}'.format(\n",
        "    host = 'db.ipeirotis.org', \n",
        "    user = 'student',\n",
        "    db = 'citibike_fall2017',\n",
        "    password = 'dwdstudent2015',\n",
        "    encoding = 'utf8mb4')\n",
        "\n",
        "engine = create_engine(conn_string)"
      ],
      "execution_count": 2,
      "outputs": []
    },
    {
      "cell_type": "code",
      "metadata": {
        "id": "HZ8BAoiy8NUm"
      },
      "source": [
        "sql = \"SELECT DISTINCT id, name, capacity, lat, lon  FROM status_fall2017 LIMIT 5\"\n",
        "\n",
        "with engine.connect() as connection:\n",
        "  stations = connection.execute(sql).mappings().all()\n",
        "\n",
        "for s in stations:\n",
        "    print(s)\n",
        "    print(\"-----\")"
      ],
      "execution_count": null,
      "outputs": []
    },
    {
      "cell_type": "markdown",
      "metadata": {
        "id": "p886T8018NUr"
      },
      "source": [
        "## Creating an API endpoint"
      ]
    },
    {
      "cell_type": "markdown",
      "metadata": {
        "id": "0Lq0I6tz8NUv"
      },
      "source": [
        "#### Now let's start our server:\n",
        "\n",
        "A few things to notice.\n",
        "\n",
        "First, notice the `@app.route('/citibike_api',  methods=['GET'])` command. This part specifies that our API endpoint will be accessible under the `http://our_web_server_address/citibike_api`.\n",
        "\n",
        "\n",
        "Then, we define the function `def citibike_stations():` that will create the response of that API call. What the function returns is what the API call will return back.\n",
        "\n",
        "Notice that insider the `citibike_stations` function, we connect to the database, and issue an SQL query to the database.\n",
        "\n",
        "Finally, we get back the results of the query, we put the results in a Python dictionary, and we use the `jsonify` function to convert our dictionary to JSON and return it as the API result.\n"
      ]
    },
    {
      "cell_type": "code",
      "metadata": {
        "id": "9n8aCC6QaeJq",
        "colab": {
          "base_uri": "https://localhost:8080/"
        },
        "outputId": "f05d33a7-1c1b-4126-b7be-7baf6e75231e"
      },
      "source": [
        "from flask import Flask, render_template, jsonify\n",
        "from flask_ngrok import run_with_ngrok\n",
        "from sqlalchemy import create_engine\n",
        " \n",
        "app = Flask(__name__)\n",
        "run_with_ngrok(app)\n",
        " \n",
        "@app.route('/citibike_api',  methods=['GET'])\n",
        "def citibike_stations():\n",
        "  \n",
        "  # Setup a connection to the database\n",
        "  conn_string = 'mysql+pymysql://{user}:{password}@{host}/{db}?charset={encoding}'.format(\n",
        "      host = 'db.ipeirotis.org', \n",
        "      user = 'student',\n",
        "      db = 'citibike_fall2017',\n",
        "      password = 'dwdstudent2015',\n",
        "      encoding = 'utf8mb4')\n",
        "  engine = create_engine(conn_string)\n",
        "\n",
        "  # Connect to the database, execute the query, and get back the results\n",
        "  sql = \"SELECT DISTINCT id, name, capacity, lat, lon  FROM status_fall2017\" \n",
        "  with engine.connect() as connection:  \n",
        "    rows = connection.execute(sql).mappings().all()\n",
        "    \n",
        "  # Create the response. We will put the retrieved data as a list of\n",
        "  # dictionaries, under the key \"stations\".\n",
        "  results = {\"stations\": []}\n",
        "  for r in rows:\n",
        "    results[\"stations\"].append(dict(r))\n",
        "\n",
        "  # We JSON-ify our dictionary and return it as the API response\n",
        "  return jsonify(results)\n",
        " \n",
        "app.run()"
      ],
      "execution_count": 4,
      "outputs": [
        {
          "output_type": "stream",
          "name": "stdout",
          "text": [
            " * Serving Flask app \"__main__\" (lazy loading)\n",
            " * Environment: production\n",
            "\u001b[31m   WARNING: This is a development server. Do not use it in a production deployment.\u001b[0m\n",
            "\u001b[2m   Use a production WSGI server instead.\u001b[0m\n",
            " * Debug mode: off\n"
          ]
        },
        {
          "output_type": "stream",
          "name": "stderr",
          "text": [
            "INFO:werkzeug: * Running on http://127.0.0.1:5000/ (Press CTRL+C to quit)\n"
          ]
        },
        {
          "output_type": "stream",
          "name": "stdout",
          "text": [
            " * Running on http://3067-34-86-135-221.ngrok.io\n",
            " * Traffic stats available on http://127.0.0.1:4040\n"
          ]
        },
        {
          "output_type": "stream",
          "name": "stderr",
          "text": [
            "INFO:werkzeug:127.0.0.1 - - [09/Sep/2022 13:45:43] \"\u001b[37mGET /citibike_api HTTP/1.1\u001b[0m\" 200 -\n",
            "INFO:werkzeug:127.0.0.1 - - [09/Sep/2022 13:45:43] \"\u001b[33mGET /favicon.ico HTTP/1.1\u001b[0m\" 404 -\n",
            "INFO:werkzeug:127.0.0.1 - - [09/Sep/2022 13:45:44] \"\u001b[37mGET /citibike_api HTTP/1.1\u001b[0m\" 200 -\n"
          ]
        }
      ]
    }
  ]
}