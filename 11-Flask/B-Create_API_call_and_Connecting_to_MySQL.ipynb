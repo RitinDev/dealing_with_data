{
  "cells": [
    {
      "cell_type": "markdown",
      "metadata": {
        "id": "view-in-github",
        "colab_type": "text"
      },
      "source": [
        "<a href=\"https://colab.research.google.com/github/ipeirotis/dealing_with_data/blob/master/11-Flask/B-Create_API_call_and_Connecting_to_MySQL.ipynb\" target=\"_parent\"><img src=\"https://colab.research.google.com/assets/colab-badge.svg\" alt=\"Open In Colab\"/></a>"
      ]
    },
    {
      "cell_type": "markdown",
      "metadata": {
        "id": "SkZqhwkf8NUg"
      },
      "source": [
        "# Creating of a Flask application showing Citibike stations\n",
        "\n",
        "\n",
        "In this segment we will create a basic app, where we will connect to the Citibike database, and display the list of stations. \n",
        "\n"
      ]
    },
    {
      "cell_type": "code",
      "execution_count": null,
      "metadata": {
        "id": "O9o9NsaO8hMy"
      },
      "outputs": [],
      "source": [
        "!pip install -U PyMySQL sqlalchemy flask flask-ngrok pyngrok"
      ]
    },
    {
      "cell_type": "code",
      "source": [
        "ngrok_authtoken = '2EYf3qVk9mi739HjPwSNZXWAtfy_4jF9NAhGqVVVJmm4YehPW'"
      ],
      "metadata": {
        "id": "MBYL52PHCMaH"
      },
      "execution_count": null,
      "outputs": []
    },
    {
      "cell_type": "markdown",
      "metadata": {
        "id": "IU8IJ-_7aEf-"
      },
      "source": [
        "## A Refresher \n",
        "\n",
        "Let's remember first how to get data from the database."
      ]
    },
    {
      "cell_type": "code",
      "execution_count": null,
      "metadata": {
        "id": "EkIL-uRK8NUi"
      },
      "outputs": [],
      "source": [
        "# This code creates a connection to the database\n",
        "from sqlalchemy import create_engine\n",
        "\n",
        "conn_string = 'mysql+pymysql://{user}:{password}@{host}/{db}?charset={encoding}'.format(\n",
        "    host = 'db.ipeirotis.org', \n",
        "    user = 'student',\n",
        "    db = 'citibike_fall2017',\n",
        "    password = 'dwdstudent2015',\n",
        "    encoding = 'utf8mb4')\n",
        "\n",
        "engine = create_engine(conn_string)"
      ]
    },
    {
      "cell_type": "code",
      "execution_count": null,
      "metadata": {
        "id": "HZ8BAoiy8NUm"
      },
      "outputs": [],
      "source": [
        "sql = \"SELECT DISTINCT id, name, capacity, lat, lon  FROM status_fall2017 LIMIT 5\"\n",
        "\n",
        "with engine.connect() as connection:\n",
        "  stations = connection.execute(sql).mappings().all()\n",
        "\n",
        "for s in stations:\n",
        "    print(s)\n",
        "    print(\"-----\")"
      ]
    },
    {
      "cell_type": "markdown",
      "metadata": {
        "id": "p886T8018NUr"
      },
      "source": [
        "## Creating an API endpoint"
      ]
    },
    {
      "cell_type": "code",
      "source": [
        "import os\n",
        "import threading\n",
        "\n",
        "from flask import Flask\n",
        "from pyngrok import ngrok\n",
        "\n",
        "os.environ[\"FLASK_ENV\"] = \"development\"\n",
        "\n",
        "app = Flask(__name__)\n",
        "port = 5000\n",
        "\n",
        "# Open a ngrok tunnel to the HTTP server\n",
        "public_url = ngrok.connect(port).public_url\n",
        "print(f\" * ngrok tunnel '{public_url}' -> 'http://127.0.0.1:{port}'\")\n",
        "\n",
        "# Update any base URLs to use the public ngrok URL\n",
        "app.config[\"BASE_URL\"] = public_url\n",
        "\n",
        "# ... Update inbound traffic via APIs to use the public-facing ngrok URL\n",
        "\n",
        "\n",
        "# Define Flask routes\n",
        "@app.route(\"/\")\n",
        "def index():\n",
        "    return \"Hello from Colab!\"\n",
        "\n",
        "# Start the Flask server in a new thread\n",
        "threading.Thread(target=app.run, kwargs={\"use_reloader\": False}).start()"
      ],
      "metadata": {
        "id": "ENdW5LfNDu1x"
      },
      "execution_count": null,
      "outputs": []
    },
    {
      "cell_type": "code",
      "source": [
        "from flask import Flask, render_template, jsonify\n",
        "from flask_ngrok import run_with_ngrok\n",
        "from sqlalchemy import create_engine\n",
        "import pandas as pd\n",
        "import base64\n",
        "from io import BytesIO\n",
        "import matplotlib.pyplot as plt\n",
        "\n",
        "app = Flask(__name__)\n",
        "run_with_ngrok(app)\n",
        " \n",
        "# Setup a connection to the database\n",
        "conn_string = 'mysql+pymysql://{user}:{password}@{host}/{db}?charset={encoding}'.format(\n",
        "    host = 'db.ipeirotis.org', \n",
        "    user = 'student',\n",
        "    db = 'citibike_fall2017',\n",
        "    password = 'dwdstudent2015',\n",
        "    encoding = 'utf8mb4')\n",
        "engine = create_engine(conn_string)"
      ],
      "metadata": {
        "id": "WitaXPMD3uq-"
      },
      "execution_count": null,
      "outputs": []
    },
    {
      "cell_type": "markdown",
      "metadata": {
        "id": "0Lq0I6tz8NUv"
      },
      "source": [
        "#### Now let's start our server:\n",
        "\n",
        "A few things to notice.\n",
        "\n",
        "First, notice the `@app.route('/citibike_api',  methods=['GET'])` command. This part specifies that our API endpoint will be accessible under the `http://our_web_server_address/citibike_api`.\n",
        "\n",
        "\n",
        "Then, we define the function `def citibike_stations():` that will create the response of that API call. What the function returns is what the API call will return back.\n",
        "\n",
        "Notice that insider the `citibike_stations` function, we connect to the database, and issue an SQL query to the database.\n",
        "\n",
        "Finally, we get back the results of the query, we put the results in a Python dictionary, and we use the `jsonify` function to convert our dictionary to JSON and return it as the API result.\n"
      ]
    },
    {
      "cell_type": "code",
      "execution_count": null,
      "metadata": {
        "id": "9n8aCC6QaeJq"
      },
      "outputs": [],
      "source": [
        "@app.route('/citibike_api',  methods=['GET'])\n",
        "def citibike_stations():\n",
        "\n",
        "\n",
        "  # Connect to the database, execute the query, and get back the results\n",
        "  sql = \"SELECT DISTINCT id, name, capacity, lat, lon  FROM status_fall2017\" \n",
        "  with engine.connect() as connection:  \n",
        "    rows = connection.execute(sql).mappings().all()\n",
        "    \n",
        "  # Create the response. We will put the retrieved data as a list of\n",
        "  # dictionaries, under the key \"stations\".\n",
        "  results = {\"stations\": []}\n",
        "  for r in rows:\n",
        "    results[\"stations\"].append(dict(r))\n",
        "\n",
        "  # We JSON-ify our dictionary and return it as the API response\n",
        "  return jsonify(results)\n",
        " \n"
      ]
    },
    {
      "cell_type": "code",
      "source": [
        "@app.route('/station_map',  methods=['GET'])\n",
        "def station_map():\n",
        "\n",
        "\n",
        "  # Connect to the database, execute the query, and get back the results\n",
        "  sql = \"SELECT DISTINCT id, name, capacity, lat, lon  FROM status_fall2017\" \n",
        "  with engine.connect() as connection:  \n",
        "    df = pd.read_sql(sql, con=connection)\n",
        "\n",
        "  fig,ax = plt.subplots()\n",
        "    \n",
        "  df.plot(kind='scatter', x='lat', y='lon', ax=ax)\n",
        "\n",
        "  buf = BytesIO()\n",
        "  fig.savefig(buf, format=\"png\")\n",
        "  # Embed the result in the html output.\n",
        "  data = base64.b64encode(buf.getbuffer()).decode(\"ascii\")\n",
        "\n",
        "  # Create the response. We will put the retrieved data as a list of\n",
        "  # dictionaries, under the key \"stations\".\n",
        "  results = {\"image\": data}\n",
        "\n",
        "  # We JSON-ify our dictionary and return it as the API response\n",
        "  return jsonify(results)\n",
        "\n",
        "  # return f\"<img src='data:image/png;base64,{data}'/>\"\n",
        " \n"
      ],
      "metadata": {
        "id": "ferWNpAY329c"
      },
      "execution_count": null,
      "outputs": []
    },
    {
      "cell_type": "code",
      "source": [
        "app.run()"
      ],
      "metadata": {
        "id": "tCqSOSD_3wdA"
      },
      "execution_count": null,
      "outputs": []
    }
  ],
  "metadata": {
    "anaconda-cloud": {},
    "colab": {
      "name": "B-Create_API_call_and_Connecting_to_MySQL.ipynb",
      "provenance": [],
      "include_colab_link": true
    },
    "kernelspec": {
      "display_name": "Python 3 (ipykernel)",
      "language": "python",
      "name": "python3"
    },
    "language_info": {
      "codemirror_mode": {
        "name": "ipython",
        "version": 3
      },
      "file_extension": ".py",
      "mimetype": "text/x-python",
      "name": "python",
      "nbconvert_exporter": "python",
      "pygments_lexer": "ipython3",
      "version": "3.10.4"
    }
  },
  "nbformat": 4,
  "nbformat_minor": 0
}