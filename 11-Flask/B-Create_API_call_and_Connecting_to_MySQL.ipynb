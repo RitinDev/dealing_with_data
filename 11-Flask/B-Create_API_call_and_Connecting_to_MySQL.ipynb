{
 "cells": [
  {
   "cell_type": "markdown",
   "metadata": {
    "colab_type": "text",
    "id": "view-in-github"
   },
   "source": [
    "<a href=\"https://colab.research.google.com/github/ipeirotis/dealing_with_data/blob/master/11-Flask/B-Create_API_call_and_Connecting_to_MySQL.ipynb\" target=\"_parent\"><img src=\"https://colab.research.google.com/assets/colab-badge.svg\" alt=\"Open In Colab\"/></a>"
   ]
  },
  {
   "cell_type": "markdown",
   "metadata": {
    "id": "SkZqhwkf8NUg"
   },
   "source": [
    "# Creating of a Flask application showing Citibike stations\n",
    "\n",
    "\n",
    "In this segment we will create a basic app, where we will connect to the Citibike database, and display the list of stations. \n",
    "\n"
   ]
  },
  {
   "cell_type": "code",
   "execution_count": 6,
   "metadata": {
    "colab": {
     "base_uri": "https://localhost:8080/"
    },
    "id": "O9o9NsaO8hMy",
    "outputId": "66965358-e6a7-4f78-abc3-988c2b6bd3b8"
   },
   "outputs": [
    {
     "name": "stdout",
     "output_type": "stream",
     "text": [
      "Defaulting to user installation because normal site-packages is not writeable\n",
      "Requirement already satisfied: PyMySQL in /usr/local/lib/python3.10/dist-packages (1.0.2)\n",
      "Requirement already satisfied: sqlalchemy in /home/ubuntu/.local/lib/python3.10/site-packages (1.4.41)\n",
      "Requirement already satisfied: flask in /usr/local/lib/python3.10/dist-packages (2.2.2)\n",
      "Requirement already satisfied: flask-ngrok in /home/ubuntu/.local/lib/python3.10/site-packages (0.0.25)\n",
      "Requirement already satisfied: greenlet!=0.4.17 in /usr/local/lib/python3.10/dist-packages (from sqlalchemy) (1.1.3)\n",
      "Requirement already satisfied: itsdangerous>=2.0 in /usr/local/lib/python3.10/dist-packages (from flask) (2.1.2)\n",
      "Requirement already satisfied: click>=8.0 in /usr/local/lib/python3.10/dist-packages (from flask) (8.1.3)\n",
      "Requirement already satisfied: Werkzeug>=2.2.2 in /usr/local/lib/python3.10/dist-packages (from flask) (2.2.2)\n",
      "Requirement already satisfied: Jinja2>=3.0 in /usr/local/lib/python3.10/dist-packages (from flask) (3.1.2)\n",
      "Requirement already satisfied: requests in /usr/local/lib/python3.10/dist-packages (from flask-ngrok) (2.28.1)\n",
      "Requirement already satisfied: MarkupSafe>=2.0 in /usr/local/lib/python3.10/dist-packages (from Jinja2>=3.0->flask) (2.1.1)\n",
      "Requirement already satisfied: idna<4,>=2.5 in /usr/local/lib/python3.10/dist-packages (from requests->flask-ngrok) (3.3)\n",
      "Requirement already satisfied: urllib3<1.27,>=1.21.1 in /usr/local/lib/python3.10/dist-packages (from requests->flask-ngrok) (1.26.12)\n",
      "Requirement already satisfied: charset-normalizer<3,>=2 in /usr/local/lib/python3.10/dist-packages (from requests->flask-ngrok) (2.1.1)\n",
      "Requirement already satisfied: certifi>=2017.4.17 in /usr/local/lib/python3.10/dist-packages (from requests->flask-ngrok) (2022.6.15)\n"
     ]
    }
   ],
   "source": [
    "!pip install -U PyMySQL sqlalchemy flask flask-ngrok"
   ]
  },
  {
   "cell_type": "markdown",
   "metadata": {
    "id": "IU8IJ-_7aEf-"
   },
   "source": [
    "## A Refresher \n",
    "\n",
    "Let's remember first how to get data from the database."
   ]
  },
  {
   "cell_type": "code",
   "execution_count": 2,
   "metadata": {
    "id": "EkIL-uRK8NUi"
   },
   "outputs": [],
   "source": [
    "# This code creates a connection to the database\n",
    "from sqlalchemy import create_engine\n",
    "\n",
    "conn_string = 'mysql+pymysql://{user}:{password}@{host}/{db}?charset={encoding}'.format(\n",
    "    host = 'db.ipeirotis.org', \n",
    "    user = 'student',\n",
    "    db = 'citibike_fall2017',\n",
    "    password = 'dwdstudent2015',\n",
    "    encoding = 'utf8mb4')\n",
    "\n",
    "engine = create_engine(conn_string)"
   ]
  },
  {
   "cell_type": "code",
   "execution_count": 3,
   "metadata": {
    "id": "HZ8BAoiy8NUm"
   },
   "outputs": [
    {
     "name": "stdout",
     "output_type": "stream",
     "text": [
      "{'id': 72, 'name': 'W 52 St & 11 Ave', 'capacity': 39, 'lat': 40.7673, 'lon': -73.9939}\n",
      "-----\n",
      "{'id': 79, 'name': 'Franklin St & W Broadway', 'capacity': 33, 'lat': 40.7191, 'lon': -74.0067}\n",
      "-----\n",
      "{'id': 82, 'name': 'St James Pl & Pearl St', 'capacity': 27, 'lat': 40.7112, 'lon': -74.0002}\n",
      "-----\n",
      "{'id': 83, 'name': 'Atlantic Ave & Fort Greene Pl', 'capacity': 62, 'lat': 40.6838, 'lon': -73.9763}\n",
      "-----\n",
      "{'id': 116, 'name': 'W 17 St & 8 Ave', 'capacity': 39, 'lat': 40.7418, 'lon': -74.0015}\n",
      "-----\n"
     ]
    }
   ],
   "source": [
    "sql = \"SELECT DISTINCT id, name, capacity, lat, lon  FROM status_fall2017 LIMIT 5\"\n",
    "\n",
    "with engine.connect() as connection:\n",
    "  stations = connection.execute(sql).mappings().all()\n",
    "\n",
    "for s in stations:\n",
    "    print(s)\n",
    "    print(\"-----\")"
   ]
  },
  {
   "cell_type": "markdown",
   "metadata": {
    "id": "p886T8018NUr"
   },
   "source": [
    "## Creating an API endpoint"
   ]
  },
  {
   "cell_type": "markdown",
   "metadata": {
    "id": "0Lq0I6tz8NUv"
   },
   "source": [
    "#### Now let's start our server:\n",
    "\n",
    "A few things to notice.\n",
    "\n",
    "First, notice the `@app.route('/citibike_api',  methods=['GET'])` command. This part specifies that our API endpoint will be accessible under the `http://our_web_server_address/citibike_api`.\n",
    "\n",
    "\n",
    "Then, we define the function `def citibike_stations():` that will create the response of that API call. What the function returns is what the API call will return back.\n",
    "\n",
    "Notice that insider the `citibike_stations` function, we connect to the database, and issue an SQL query to the database.\n",
    "\n",
    "Finally, we get back the results of the query, we put the results in a Python dictionary, and we use the `jsonify` function to convert our dictionary to JSON and return it as the API result.\n"
   ]
  },
  {
   "cell_type": "code",
   "execution_count": 7,
   "metadata": {
    "colab": {
     "base_uri": "https://localhost:8080/"
    },
    "id": "9n8aCC6QaeJq",
    "outputId": "f05d33a7-1c1b-4126-b7be-7baf6e75231e"
   },
   "outputs": [
    {
     "ename": "ModuleNotFoundError",
     "evalue": "No module named 'flask_ngrok'",
     "output_type": "error",
     "traceback": [
      "\u001b[0;31m---------------------------------------------------------------------------\u001b[0m",
      "\u001b[0;31mModuleNotFoundError\u001b[0m                       Traceback (most recent call last)",
      "Input \u001b[0;32mIn [7]\u001b[0m, in \u001b[0;36m<cell line: 2>\u001b[0;34m()\u001b[0m\n\u001b[1;32m      1\u001b[0m \u001b[38;5;28;01mfrom\u001b[39;00m \u001b[38;5;21;01mflask\u001b[39;00m \u001b[38;5;28;01mimport\u001b[39;00m Flask, render_template, jsonify\n\u001b[0;32m----> 2\u001b[0m \u001b[38;5;28;01mfrom\u001b[39;00m \u001b[38;5;21;01mflask_ngrok\u001b[39;00m \u001b[38;5;28;01mimport\u001b[39;00m run_with_ngrok\n\u001b[1;32m      3\u001b[0m \u001b[38;5;28;01mfrom\u001b[39;00m \u001b[38;5;21;01msqlalchemy\u001b[39;00m \u001b[38;5;28;01mimport\u001b[39;00m create_engine\n\u001b[1;32m      5\u001b[0m app \u001b[38;5;241m=\u001b[39m Flask(\u001b[38;5;18m__name__\u001b[39m)\n",
      "\u001b[0;31mModuleNotFoundError\u001b[0m: No module named 'flask_ngrok'"
     ]
    }
   ],
   "source": [
    "from flask import Flask, render_template, jsonify\n",
    "from flask_ngrok import run_with_ngrok\n",
    "from sqlalchemy import create_engine\n",
    " \n",
    "app = Flask(__name__)\n",
    "run_with_ngrok(app)\n",
    " \n",
    "@app.route('/citibike_api',  methods=['GET'])\n",
    "def citibike_stations():\n",
    "  \n",
    "  # Setup a connection to the database\n",
    "  conn_string = 'mysql+pymysql://{user}:{password}@{host}/{db}?charset={encoding}'.format(\n",
    "      host = 'db.ipeirotis.org', \n",
    "      user = 'student',\n",
    "      db = 'citibike_fall2017',\n",
    "      password = 'dwdstudent2015',\n",
    "      encoding = 'utf8mb4')\n",
    "  engine = create_engine(conn_string)\n",
    "\n",
    "  # Connect to the database, execute the query, and get back the results\n",
    "  sql = \"SELECT DISTINCT id, name, capacity, lat, lon  FROM status_fall2017\" \n",
    "  with engine.connect() as connection:  \n",
    "    rows = connection.execute(sql).mappings().all()\n",
    "    \n",
    "  # Create the response. We will put the retrieved data as a list of\n",
    "  # dictionaries, under the key \"stations\".\n",
    "  results = {\"stations\": []}\n",
    "  for r in rows:\n",
    "    results[\"stations\"].append(dict(r))\n",
    "\n",
    "  # We JSON-ify our dictionary and return it as the API response\n",
    "  return jsonify(results)\n",
    " \n",
    "app.run()"
   ]
  }
 ],
 "metadata": {
  "anaconda-cloud": {},
  "colab": {
   "include_colab_link": true,
   "name": "B-Create_API_call_and_Connecting_to_MySQL.ipynb",
   "provenance": []
  },
  "kernelspec": {
   "display_name": "Python 3 (ipykernel)",
   "language": "python",
   "name": "python3"
  },
  "language_info": {
   "codemirror_mode": {
    "name": "ipython",
    "version": 3
   },
   "file_extension": ".py",
   "mimetype": "text/x-python",
   "name": "python",
   "nbconvert_exporter": "python",
   "pygments_lexer": "ipython3",
   "version": "3.10.4"
  }
 },
 "nbformat": 4,
 "nbformat_minor": 1
}
