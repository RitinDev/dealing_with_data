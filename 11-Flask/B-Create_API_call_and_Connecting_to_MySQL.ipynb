{
  "cells": [
    {
      "cell_type": "markdown",
      "metadata": {
        "id": "view-in-github",
        "colab_type": "text"
      },
      "source": [
        "<a href=\"https://colab.research.google.com/github/ipeirotis/dealing_with_data/blob/master/11-Flask/B-Create_API_call_and_Connecting_to_MySQL.ipynb\" target=\"_parent\"><img src=\"https://colab.research.google.com/assets/colab-badge.svg\" alt=\"Open In Colab\"/></a>"
      ]
    },
    {
      "cell_type": "markdown",
      "metadata": {
        "id": "SkZqhwkf8NUg"
      },
      "source": [
        "# Creating of a Flask application showing Citibike stations\n",
        "\n",
        "\n",
        "In this segment we will create a basic app, where we will connect to the Citibike database, and display the list of stations. \n",
        "\n"
      ]
    },
    {
      "cell_type": "code",
      "execution_count": 1,
      "metadata": {
        "colab": {
          "base_uri": "https://localhost:8080/"
        },
        "id": "O9o9NsaO8hMy",
        "outputId": "49a0dc44-9e16-4d97-80da-dffa1ac4d973"
      },
      "outputs": [
        {
          "output_type": "stream",
          "name": "stdout",
          "text": [
            "Looking in indexes: https://pypi.org/simple, https://us-python.pkg.dev/colab-wheels/public/simple/\n",
            "Requirement already satisfied: PyMySQL in /usr/local/lib/python3.7/dist-packages (1.0.2)\n",
            "Requirement already satisfied: sqlalchemy in /usr/local/lib/python3.7/dist-packages (1.4.41)\n",
            "Requirement already satisfied: flask in /usr/local/lib/python3.7/dist-packages (2.2.2)\n",
            "Requirement already satisfied: pyngrok in /usr/local/lib/python3.7/dist-packages (5.1.0)\n",
            "Requirement already satisfied: importlib-metadata in /usr/local/lib/python3.7/dist-packages (from sqlalchemy) (4.12.0)\n",
            "Requirement already satisfied: greenlet!=0.4.17 in /usr/local/lib/python3.7/dist-packages (from sqlalchemy) (1.1.3)\n",
            "Requirement already satisfied: Werkzeug>=2.2.2 in /usr/local/lib/python3.7/dist-packages (from flask) (2.2.2)\n",
            "Requirement already satisfied: click>=8.0 in /usr/local/lib/python3.7/dist-packages (from flask) (8.1.3)\n",
            "Requirement already satisfied: Jinja2>=3.0 in /usr/local/lib/python3.7/dist-packages (from flask) (3.1.2)\n",
            "Requirement already satisfied: itsdangerous>=2.0 in /usr/local/lib/python3.7/dist-packages (from flask) (2.1.2)\n",
            "Requirement already satisfied: zipp>=0.5 in /usr/local/lib/python3.7/dist-packages (from importlib-metadata->sqlalchemy) (3.8.1)\n",
            "Requirement already satisfied: typing-extensions>=3.6.4 in /usr/local/lib/python3.7/dist-packages (from importlib-metadata->sqlalchemy) (4.1.1)\n",
            "Requirement already satisfied: MarkupSafe>=2.0 in /usr/local/lib/python3.7/dist-packages (from Jinja2>=3.0->flask) (2.1.1)\n",
            "Requirement already satisfied: PyYAML in /usr/local/lib/python3.7/dist-packages (from pyngrok) (6.0)\n"
          ]
        }
      ],
      "source": [
        "!pip install -U PyMySQL sqlalchemy flask pyngrok"
      ]
    },
    {
      "cell_type": "markdown",
      "metadata": {
        "id": "IU8IJ-_7aEf-"
      },
      "source": [
        "## A Refresher \n",
        "\n",
        "Let's remember first how to get data from the database."
      ]
    },
    {
      "cell_type": "code",
      "execution_count": 2,
      "metadata": {
        "id": "EkIL-uRK8NUi"
      },
      "outputs": [],
      "source": [
        "# This code creates a connection to the database\n",
        "from sqlalchemy import create_engine\n",
        "\n",
        "conn_string = 'mysql+pymysql://{user}:{password}@{host}/{db}?charset={encoding}'.format(\n",
        "    host = 'db.ipeirotis.org', \n",
        "    user = 'student',\n",
        "    db = 'citibike_fall2017',\n",
        "    password = 'dwdstudent2015',\n",
        "    encoding = 'utf8mb4')\n",
        "\n",
        "engine = create_engine(conn_string)"
      ]
    },
    {
      "cell_type": "code",
      "execution_count": 3,
      "metadata": {
        "id": "HZ8BAoiy8NUm",
        "colab": {
          "base_uri": "https://localhost:8080/"
        },
        "outputId": "83656258-7883-4361-a2a7-6dde9d424e58"
      },
      "outputs": [
        {
          "output_type": "stream",
          "name": "stdout",
          "text": [
            "{'id': 72, 'name': 'W 52 St & 11 Ave', 'capacity': 39, 'lat': 40.7673, 'lon': -73.9939}\n",
            "-----\n",
            "{'id': 79, 'name': 'Franklin St & W Broadway', 'capacity': 33, 'lat': 40.7191, 'lon': -74.0067}\n",
            "-----\n",
            "{'id': 82, 'name': 'St James Pl & Pearl St', 'capacity': 27, 'lat': 40.7112, 'lon': -74.0002}\n",
            "-----\n",
            "{'id': 83, 'name': 'Atlantic Ave & Fort Greene Pl', 'capacity': 62, 'lat': 40.6838, 'lon': -73.9763}\n",
            "-----\n",
            "{'id': 116, 'name': 'W 17 St & 8 Ave', 'capacity': 39, 'lat': 40.7418, 'lon': -74.0015}\n",
            "-----\n"
          ]
        }
      ],
      "source": [
        "sql = \"SELECT DISTINCT id, name, capacity, lat, lon  FROM status_fall2017 LIMIT 5\"\n",
        "\n",
        "with engine.connect() as connection:\n",
        "  stations = connection.execute(sql).mappings().all()\n",
        "\n",
        "for s in stations:\n",
        "    print(s)\n",
        "    print(\"-----\")"
      ]
    },
    {
      "cell_type": "markdown",
      "metadata": {
        "id": "p886T8018NUr"
      },
      "source": [
        "## Creating an API endpoint"
      ]
    },
    {
      "cell_type": "code",
      "source": [
        "import os\n",
        "import threading\n",
        "\n",
        "from flask import Flask\n",
        "from pyngrok import ngrok\n",
        "\n",
        "os.environ[\"FLASK_DEBUG\"] = \"true\"\n",
        "\n",
        "app = Flask(__name__)\n",
        "port = 5000\n",
        "\n",
        "# Open a ngrok tunnel to the HTTP server\n",
        "ngrok_authtoken = '2EYf3qVk9mi739HjPwSNZXWAtfy_4jF9NAhGqVVVJmm4YehPW'\n",
        "ngrok.set_auth_token(ngrok_authtoken)\n",
        "public_url = ngrok.connect(port).public_url\n",
        "print(f\" * ngrok tunnel '{public_url}' -> 'http://127.0.0.1:{port}'\")\n",
        "\n",
        "# Update any base URLs to use the public ngrok URL\n",
        "app.config[\"BASE_URL\"] = public_url\n"
      ],
      "metadata": {
        "colab": {
          "base_uri": "https://localhost:8080/"
        },
        "id": "ENdW5LfNDu1x",
        "outputId": "6e11a289-2ad3-4bee-a113-67c56fae6285"
      },
      "execution_count": 4,
      "outputs": [
        {
          "output_type": "stream",
          "name": "stdout",
          "text": [
            " * ngrok tunnel 'http://65b3-35-245-232-235.ngrok.io' -> 'http://127.0.0.1:5000'\n"
          ]
        }
      ]
    },
    {
      "cell_type": "code",
      "source": [
        "from flask import Flask, render_template, jsonify\n",
        "# from flask_ngrok import run_with_ngrok\n",
        "from sqlalchemy import create_engine\n",
        "import pandas as pd\n",
        "import base64\n",
        "from io import BytesIO\n",
        "import matplotlib.pyplot as plt\n",
        "\n",
        "# app = Flask(__name__)\n",
        "# run_with_ngrok(app)\n",
        " \n",
        "# Setup a connection to the database\n",
        "conn_string = 'mysql+pymysql://{user}:{password}@{host}/{db}?charset={encoding}'.format(\n",
        "    host = 'db.ipeirotis.org', \n",
        "    user = 'student',\n",
        "    db = 'citibike_fall2017',\n",
        "    password = 'dwdstudent2015',\n",
        "    encoding = 'utf8mb4')\n",
        "engine = create_engine(conn_string)"
      ],
      "metadata": {
        "id": "WitaXPMD3uq-"
      },
      "execution_count": 5,
      "outputs": []
    },
    {
      "cell_type": "markdown",
      "metadata": {
        "id": "0Lq0I6tz8NUv"
      },
      "source": [
        "#### Now let's start our server:\n",
        "\n",
        "A few things to notice.\n",
        "\n",
        "First, notice the `@app.route('/citibike_api',  methods=['GET'])` command. This part specifies that our API endpoint will be accessible under the `http://our_web_server_address/citibike_api`.\n",
        "\n",
        "\n",
        "Then, we define the function `def citibike_stations():` that will create the response of that API call. What the function returns is what the API call will return back.\n",
        "\n",
        "Notice that insider the `citibike_stations` function, we connect to the database, and issue an SQL query to the database.\n",
        "\n",
        "Finally, we get back the results of the query, we put the results in a Python dictionary, and we use the `jsonify` function to convert our dictionary to JSON and return it as the API result.\n"
      ]
    },
    {
      "cell_type": "code",
      "source": [
        "# Define Flask routes\n",
        "@app.route(\"/\")\n",
        "def index():\n",
        "    return \"Hello from Colab!\"\n",
        "\n"
      ],
      "metadata": {
        "id": "yFRIhQmhmCsy"
      },
      "execution_count": 6,
      "outputs": []
    },
    {
      "cell_type": "code",
      "execution_count": 7,
      "metadata": {
        "id": "9n8aCC6QaeJq"
      },
      "outputs": [],
      "source": [
        "@app.route('/citibike_api',  methods=['GET'])\n",
        "def citibike_stations():\n",
        "\n",
        "\n",
        "  # Connect to the database, execute the query, and get back the results\n",
        "  sql = \"SELECT DISTINCT id, name, capacity, lat, lon  FROM status_fall2017\" \n",
        "  with engine.connect() as connection:  \n",
        "    rows = connection.execute(sql).mappings().all()\n",
        "    \n",
        "  # Create the response. We will put the retrieved data as a list of\n",
        "  # dictionaries, under the key \"stations\".\n",
        "  results = {\"stations\": []}\n",
        "  for r in rows:\n",
        "    results[\"stations\"].append(dict(r))\n",
        "\n",
        "  # We JSON-ify our dictionary and return it as the API response\n",
        "  return jsonify(results)\n",
        " \n"
      ]
    },
    {
      "cell_type": "code",
      "source": [
        "@app.route('/station_map',  methods=['GET'])\n",
        "def station_map():\n",
        "\n",
        "\n",
        "  # Connect to the database, execute the query, and get back the results\n",
        "  sql = \"SELECT DISTINCT id, name, capacity, lat, lon  FROM status_fall2017\" \n",
        "  with engine.connect() as connection:  \n",
        "    df = pd.read_sql(sql, con=connection)\n",
        "\n",
        "  fig,ax = plt.subplots()\n",
        "    \n",
        "  df.plot(kind='scatter', x='lon', y='lat', ax=ax)\n",
        "\n",
        "  buf = BytesIO()\n",
        "  fig.savefig(buf, format=\"png\")\n",
        "  # Embed the result in the html output.\n",
        "  data = base64.b64encode(buf.getbuffer()).decode(\"ascii\")\n",
        "\n",
        "  # Create the response. We will put the retrieved data as a list of\n",
        "  # dictionaries, under the key \"stations\".\n",
        "  results = {\"image\": data}\n",
        "\n",
        "  # We JSON-ify our dictionary and return it as the API response\n",
        "  return jsonify(results)\n",
        "\n",
        "  # return f\"<img src='data:image/png;base64,{data}'/>\"\n",
        " \n"
      ],
      "metadata": {
        "id": "ferWNpAY329c"
      },
      "execution_count": 8,
      "outputs": []
    },
    {
      "cell_type": "code",
      "source": [
        "\n",
        "\n",
        "# Start the Flask server in a new thread\n",
        "threading.Thread(target=app.run, kwargs={\"use_reloader\": True}).start()"
      ],
      "metadata": {
        "id": "tCqSOSD_3wdA"
      },
      "execution_count": 9,
      "outputs": []
    }
  ],
  "metadata": {
    "anaconda-cloud": {},
    "colab": {
      "name": "B-Create_API_call_and_Connecting_to_MySQL.ipynb",
      "provenance": [],
      "include_colab_link": true
    },
    "kernelspec": {
      "display_name": "Python 3 (ipykernel)",
      "language": "python",
      "name": "python3"
    },
    "language_info": {
      "codemirror_mode": {
        "name": "ipython",
        "version": 3
      },
      "file_extension": ".py",
      "mimetype": "text/x-python",
      "name": "python",
      "nbconvert_exporter": "python",
      "pygments_lexer": "ipython3",
      "version": "3.10.4"
    }
  },
  "nbformat": 4,
  "nbformat_minor": 0
}