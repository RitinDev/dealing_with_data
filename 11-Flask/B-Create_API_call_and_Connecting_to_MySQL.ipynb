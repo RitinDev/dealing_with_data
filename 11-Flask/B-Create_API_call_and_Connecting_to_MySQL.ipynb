{
 "cells": [
  {
   "cell_type": "markdown",
   "metadata": {
    "colab_type": "text",
    "id": "view-in-github"
   },
   "source": [
    "<a href=\"https://colab.research.google.com/github/ipeirotis/dealing_with_data/blob/master/11-Flask/B-Create_API_call_and_Connecting_to_MySQL.ipynb\" target=\"_parent\"><img src=\"https://colab.research.google.com/assets/colab-badge.svg\" alt=\"Open In Colab\"/></a>"
   ]
  },
  {
   "cell_type": "markdown",
   "metadata": {
    "id": "SkZqhwkf8NUg"
   },
   "source": [
    "# Creating of a Flask application showing Citibike stations\n",
    "\n",
    "\n",
    "In this segment we will create a basic app, where we will connect to the Citibike database, and display the list of stations. \n",
    "\n"
   ]
  },
  {
   "cell_type": "code",
   "execution_count": 2,
   "metadata": {
    "colab": {
     "base_uri": "https://localhost:8080/"
    },
    "id": "O9o9NsaO8hMy",
    "outputId": "49a0dc44-9e16-4d97-80da-dffa1ac4d973"
   },
   "outputs": [
    {
     "name": "stdout",
     "output_type": "stream",
     "text": [
      "Defaulting to user installation because normal site-packages is not writeable\n",
      "Requirement already satisfied: PyMySQL in /usr/local/lib/python3.10/dist-packages (1.0.2)\n",
      "Requirement already satisfied: sqlalchemy in /home/ubuntu/.local/lib/python3.10/site-packages (1.4.41)\n",
      "Requirement already satisfied: flask in /usr/local/lib/python3.10/dist-packages (2.2.2)\n",
      "Collecting pyngrok\n",
      "  Downloading pyngrok-5.1.0.tar.gz (745 kB)\n",
      "\u001b[2K     \u001b[90m━━━━━━━━━━━━━━━━━━━━━━━━━━━━━━━━━━━━━━━\u001b[0m \u001b[32m745.3/745.3 kB\u001b[0m \u001b[31m7.1 MB/s\u001b[0m eta \u001b[36m0:00:00\u001b[0ma \u001b[36m0:00:01\u001b[0m\n",
      "\u001b[?25h  Preparing metadata (setup.py) ... \u001b[?25ldone\n",
      "\u001b[?25hRequirement already satisfied: greenlet!=0.4.17 in /usr/local/lib/python3.10/dist-packages (from sqlalchemy) (1.1.3)\n",
      "Requirement already satisfied: Jinja2>=3.0 in /usr/local/lib/python3.10/dist-packages (from flask) (3.1.2)\n",
      "Requirement already satisfied: click>=8.0 in /usr/local/lib/python3.10/dist-packages (from flask) (8.1.3)\n",
      "Requirement already satisfied: Werkzeug>=2.2.2 in /usr/local/lib/python3.10/dist-packages (from flask) (2.2.2)\n",
      "Requirement already satisfied: itsdangerous>=2.0 in /usr/local/lib/python3.10/dist-packages (from flask) (2.1.2)\n",
      "Requirement already satisfied: PyYAML in /usr/local/lib/python3.10/dist-packages (from pyngrok) (6.0)\n",
      "Requirement already satisfied: MarkupSafe>=2.0 in /usr/local/lib/python3.10/dist-packages (from Jinja2>=3.0->flask) (2.1.1)\n",
      "Building wheels for collected packages: pyngrok\n",
      "  Building wheel for pyngrok (setup.py) ... \u001b[?25ldone\n",
      "\u001b[?25h  Created wheel for pyngrok: filename=pyngrok-5.1.0-py3-none-any.whl size=19007 sha256=1bab6e63360503b93ba0931df2d7093381af8cdc08b52ce0370aa347309648d7\n",
      "  Stored in directory: /home/ubuntu/.cache/pip/wheels/42/46/5e/496d5251f1530ae9988fcd3aad34ad7a46de82d9cc0f61cad6\n",
      "Successfully built pyngrok\n",
      "Installing collected packages: pyngrok\n",
      "Successfully installed pyngrok-5.1.0\n"
     ]
    }
   ],
   "source": [
    "!pip install -U PyMySQL sqlalchemy flask pyngrok"
   ]
  },
  {
   "cell_type": "markdown",
   "metadata": {
    "id": "IU8IJ-_7aEf-"
   },
   "source": [
    "## A Refresher \n",
    "\n",
    "Let's remember first how to get data from the database."
   ]
  },
  {
   "cell_type": "code",
   "execution_count": 3,
   "metadata": {
    "id": "EkIL-uRK8NUi"
   },
   "outputs": [],
   "source": [
    "# This code creates a connection to the database\n",
    "from sqlalchemy import create_engine\n",
    "import pandas as pd\n",
    "\n",
    "conn_string = 'mysql+pymysql://{user}:{password}@{host}/{db}?charset={encoding}'.format(\n",
    "    host = 'db.ipeirotis.org', \n",
    "    user = 'student',\n",
    "    db = 'citibike_fall2017',\n",
    "    password = 'dwdstudent2015',\n",
    "    encoding = 'utf8mb4')\n",
    "\n",
    "engine = create_engine(conn_string)"
   ]
  },
  {
   "cell_type": "code",
   "execution_count": 7,
   "metadata": {
    "colab": {
     "base_uri": "https://localhost:8080/"
    },
    "id": "HZ8BAoiy8NUm",
    "outputId": "83656258-7883-4361-a2a7-6dde9d424e58"
   },
   "outputs": [
    {
     "data": {
      "text/plain": [
       "[{'id': 72,\n",
       "  'name': 'W 52 St & 11 Ave',\n",
       "  'capacity': 39,\n",
       "  'lat': 40.7673,\n",
       "  'lon': -73.9939},\n",
       " {'id': 79,\n",
       "  'name': 'Franklin St & W Broadway',\n",
       "  'capacity': 33,\n",
       "  'lat': 40.7191,\n",
       "  'lon': -74.0067},\n",
       " {'id': 82,\n",
       "  'name': 'St James Pl & Pearl St',\n",
       "  'capacity': 27,\n",
       "  'lat': 40.7112,\n",
       "  'lon': -74.0002},\n",
       " {'id': 83,\n",
       "  'name': 'Atlantic Ave & Fort Greene Pl',\n",
       "  'capacity': 62,\n",
       "  'lat': 40.6838,\n",
       "  'lon': -73.9763},\n",
       " {'id': 116,\n",
       "  'name': 'W 17 St & 8 Ave',\n",
       "  'capacity': 39,\n",
       "  'lat': 40.7418,\n",
       "  'lon': -74.0015}]"
      ]
     },
     "execution_count": 7,
     "metadata": {},
     "output_type": "execute_result"
    }
   ],
   "source": [
    "sql = \"SELECT DISTINCT id, name, capacity, lat, lon  FROM status_fall2017 LIMIT 5\"\n",
    "\n",
    "with engine.connect() as connection:\n",
    "    stations = pd.read_sql(sql, con=connection)\n",
    "\n",
    "stations.to_dict(orient='records')"
   ]
  },
  {
   "cell_type": "markdown",
   "metadata": {
    "id": "p886T8018NUr"
   },
   "source": [
    "## Creating an API endpoint"
   ]
  },
  {
   "cell_type": "code",
   "execution_count": 4,
   "metadata": {
    "colab": {
     "base_uri": "https://localhost:8080/"
    },
    "id": "ENdW5LfNDu1x",
    "outputId": "6e11a289-2ad3-4bee-a113-67c56fae6285"
   },
   "outputs": [
    {
     "name": "stdout",
     "output_type": "stream",
     "text": [
      " * ngrok tunnel 'http://65b3-35-245-232-235.ngrok.io' -> 'http://127.0.0.1:5000'\n"
     ]
    }
   ],
   "source": [
    "import os\n",
    "import threading\n",
    "\n",
    "from flask import Flask\n",
    "from pyngrok import ngrok\n",
    "\n",
    "os.environ[\"FLASK_DEBUG\"] = \"true\"\n",
    "\n",
    "app = Flask(__name__)\n",
    "port = 5000\n",
    "\n",
    "# Open a ngrok tunnel to the HTTP server\n",
    "ngrok_authtoken = '2EYf3qVk9mi739HjPwSNZXWAtfy_4jF9NAhGqVVVJmm4YehPW'\n",
    "ngrok.set_auth_token(ngrok_authtoken)\n",
    "public_url = ngrok.connect(port).public_url\n",
    "print(f\" * ngrok tunnel '{public_url}' -> 'http://127.0.0.1:{port}'\")\n",
    "\n",
    "# Update any base URLs to use the public ngrok URL\n",
    "app.config[\"BASE_URL\"] = public_url\n"
   ]
  },
  {
   "cell_type": "code",
   "execution_count": 5,
   "metadata": {
    "id": "WitaXPMD3uq-"
   },
   "outputs": [],
   "source": [
    "from flask import Flask, render_template, jsonify\n",
    "# from flask_ngrok import run_with_ngrok\n",
    "from sqlalchemy import create_engine\n",
    "import pandas as pd\n",
    "import base64\n",
    "from io import BytesIO\n",
    "import matplotlib.pyplot as plt\n",
    "\n",
    "# app = Flask(__name__)\n",
    "# run_with_ngrok(app)\n",
    " \n",
    "# Setup a connection to the database\n",
    "conn_string = 'mysql+pymysql://{user}:{password}@{host}/{db}?charset={encoding}'.format(\n",
    "    host = 'db.ipeirotis.org', \n",
    "    user = 'student',\n",
    "    db = 'citibike_fall2017',\n",
    "    password = 'dwdstudent2015',\n",
    "    encoding = 'utf8mb4')\n",
    "engine = create_engine(conn_string)"
   ]
  },
  {
   "cell_type": "markdown",
   "metadata": {
    "id": "0Lq0I6tz8NUv"
   },
   "source": [
    "#### Now let's start our server:\n",
    "\n",
    "A few things to notice.\n",
    "\n",
    "First, notice the `@app.route('/citibike_api',  methods=['GET'])` command. This part specifies that our API endpoint will be accessible under the `http://our_web_server_address/citibike_api`.\n",
    "\n",
    "\n",
    "Then, we define the function `def citibike_stations():` that will create the response of that API call. What the function returns is what the API call will return back.\n",
    "\n",
    "Notice that insider the `citibike_stations` function, we connect to the database, and issue an SQL query to the database.\n",
    "\n",
    "Finally, we get back the results of the query, we put the results in a Python dictionary, and we use the `jsonify` function to convert our dictionary to JSON and return it as the API result.\n"
   ]
  },
  {
   "cell_type": "code",
   "execution_count": 6,
   "metadata": {
    "id": "yFRIhQmhmCsy"
   },
   "outputs": [],
   "source": [
    "# Define Flask routes\n",
    "@app.route(\"/\")\n",
    "def index():\n",
    "    return \"Hello from Colab!\"\n",
    "\n"
   ]
  },
  {
   "cell_type": "code",
   "execution_count": 7,
   "metadata": {
    "id": "9n8aCC6QaeJq"
   },
   "outputs": [],
   "source": [
    "@app.route('/citibike_api',  methods=['GET'])\n",
    "def citibike_stations():\n",
    "\n",
    "    sql = \"SELECT DISTINCT id, name, capacity, lat, lon  FROM status_fall2017\" \n",
    "    # Connect to the database, execute the query, and get back the results\n",
    "    with engine.connect() as connection:\n",
    "        stations = pd.read_sql(sql, con=connection)\n",
    "    \n",
    "    # Create the response. We will put the retrieved data as a list of\n",
    "    # dictionaries, under the key \"stations\".\n",
    "    list_of_stations = stations.to_dict(orient='records')\n",
    "    \n",
    "    api_results = {\"stations\": list_of_stations}\n",
    "\n",
    "    # We JSON-ify our dictionary and return it as the API response\n",
    "    return jsonify(api_results)"
   ]
  },
  {
   "cell_type": "code",
   "execution_count": 8,
   "metadata": {
    "id": "ferWNpAY329c"
   },
   "outputs": [],
   "source": [
    "@app.route('/station_map',  methods=['GET'])\n",
    "def station_map():\n",
    "\n",
    "\n",
    "    # Connect to the database, execute the query, and get back the results\n",
    "    sql = \"SELECT DISTINCT id, name, capacity, lat, lon  FROM status_fall2017\" \n",
    "    with engine.connect() as connection:  \n",
    "        stations = pd.read_sql(sql, con=connection)\n",
    "\n",
    "    fig, ax = plt.subplots()\n",
    "    ax = stations.plot(kind='scatter', x='lon', y='lat', ax=ax)\n",
    "\n",
    "    buf = BytesIO()\n",
    "    fig.savefig(buf, format=\"png\")\n",
    "    # Embed the result in the html output.\n",
    "    data = base64.b64encode(buf.getbuffer()).decode(\"ascii\")\n",
    "\n",
    "    # Create the response. We will put the retrieved data as a list of\n",
    "    # dictionaries, under the key \"stations\".\n",
    "    results = {\"image\": data}\n",
    "\n",
    "    # We JSON-ify our dictionary and return it as the API response\n",
    "    return jsonify(results)\n",
    "\n",
    "    # return f\"<img src='data:image/png;base64,{data}'/>\"\n",
    " \n"
   ]
  },
  {
   "cell_type": "code",
   "execution_count": 9,
   "metadata": {
    "id": "tCqSOSD_3wdA"
   },
   "outputs": [],
   "source": [
    "\n",
    "\n",
    "# Start the Flask server in a new thread\n",
    "threading.Thread(target=app.run, kwargs={\"use_reloader\": True}).start()"
   ]
  }
 ],
 "metadata": {
  "anaconda-cloud": {},
  "colab": {
   "include_colab_link": true,
   "name": "B-Create_API_call_and_Connecting_to_MySQL.ipynb",
   "provenance": []
  },
  "kernelspec": {
   "display_name": "Python 3 (ipykernel)",
   "language": "python",
   "name": "python3"
  },
  "language_info": {
   "codemirror_mode": {
    "name": "ipython",
    "version": 3
   },
   "file_extension": ".py",
   "mimetype": "text/x-python",
   "name": "python",
   "nbconvert_exporter": "python",
   "pygments_lexer": "ipython3",
   "version": "3.10.4"
  }
 },
 "nbformat": 4,
 "nbformat_minor": 1
}
