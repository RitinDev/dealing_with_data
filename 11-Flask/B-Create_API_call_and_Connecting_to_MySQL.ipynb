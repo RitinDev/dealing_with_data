{
  "nbformat": 4,
  "nbformat_minor": 0,
  "metadata": {
    "anaconda-cloud": {},
    "kernelspec": {
      "display_name": "Python 3",
      "language": "python",
      "name": "python3"
    },
    "language_info": {
      "codemirror_mode": {
        "name": "ipython",
        "version": 3
      },
      "file_extension": ".py",
      "mimetype": "text/x-python",
      "name": "python",
      "nbconvert_exporter": "python",
      "pygments_lexer": "ipython3",
      "version": "3.6.6"
    },
    "colab": {
      "name": "D-Connecting_to_MySQL.ipynb",
      "provenance": []
    }
  },
  "cells": [
    {
      "cell_type": "markdown",
      "metadata": {
        "id": "SkZqhwkf8NUg"
      },
      "source": [
        "# Creating of a Flask application showing Citibike stations\n",
        "\n",
        "\n",
        "In this segment we will create a basic app, where we will connect to the Citibike database, and display the list of stations. \n",
        "\n",
        "Let's remember first how to get data from the database."
      ]
    },
    {
      "cell_type": "code",
      "metadata": {
        "id": "O9o9NsaO8hMy",
        "outputId": "887e0ae9-4442-4b01-eb62-5ed2ca0ffdc3",
        "colab": {
          "base_uri": "https://localhost:8080/"
        }
      },
      "source": [
        "!pip install -U -q PyMySQL sqlalchemy sql_magic\n",
        "!pip install flask==0.12.2\n",
        "!pip install flask-ngrok"
      ],
      "execution_count": 1,
      "outputs": [
        {
          "output_type": "stream",
          "name": "stdout",
          "text": [
            "\u001b[K     |████████████████████████████████| 43 kB 2.1 MB/s \n",
            "\u001b[K     |████████████████████████████████| 1.6 MB 41.6 MB/s \n",
            "\u001b[K     |████████████████████████████████| 1.6 MB 61.3 MB/s \n",
            "\u001b[K     |████████████████████████████████| 120 kB 87.1 MB/s \n",
            "\u001b[K     |████████████████████████████████| 82 kB 262 kB/s \n",
            "\u001b[?25hLooking in indexes: https://pypi.org/simple, https://us-python.pkg.dev/colab-wheels/public/simple/\n",
            "Collecting flask==0.12.2\n",
            "  Downloading Flask-0.12.2-py2.py3-none-any.whl (83 kB)\n",
            "\u001b[K     |████████████████████████████████| 83 kB 1.4 MB/s \n",
            "\u001b[?25hRequirement already satisfied: Werkzeug>=0.7 in /usr/local/lib/python3.7/dist-packages (from flask==0.12.2) (1.0.1)\n",
            "Requirement already satisfied: click>=2.0 in /usr/local/lib/python3.7/dist-packages (from flask==0.12.2) (7.1.2)\n",
            "Requirement already satisfied: itsdangerous>=0.21 in /usr/local/lib/python3.7/dist-packages (from flask==0.12.2) (1.1.0)\n",
            "Requirement already satisfied: Jinja2>=2.4 in /usr/local/lib/python3.7/dist-packages (from flask==0.12.2) (2.11.3)\n",
            "Requirement already satisfied: MarkupSafe>=0.23 in /usr/local/lib/python3.7/dist-packages (from Jinja2>=2.4->flask==0.12.2) (2.0.1)\n",
            "Installing collected packages: flask\n",
            "  Attempting uninstall: flask\n",
            "    Found existing installation: Flask 1.1.4\n",
            "    Uninstalling Flask-1.1.4:\n",
            "      Successfully uninstalled Flask-1.1.4\n",
            "Successfully installed flask-0.12.2\n",
            "Looking in indexes: https://pypi.org/simple, https://us-python.pkg.dev/colab-wheels/public/simple/\n",
            "Collecting flask-ngrok\n",
            "  Downloading flask_ngrok-0.0.25-py3-none-any.whl (3.1 kB)\n",
            "Requirement already satisfied: requests in /usr/local/lib/python3.7/dist-packages (from flask-ngrok) (2.23.0)\n",
            "Requirement already satisfied: Flask>=0.8 in /usr/local/lib/python3.7/dist-packages (from flask-ngrok) (0.12.2)\n",
            "Requirement already satisfied: itsdangerous>=0.21 in /usr/local/lib/python3.7/dist-packages (from Flask>=0.8->flask-ngrok) (1.1.0)\n",
            "Requirement already satisfied: Jinja2>=2.4 in /usr/local/lib/python3.7/dist-packages (from Flask>=0.8->flask-ngrok) (2.11.3)\n",
            "Requirement already satisfied: Werkzeug>=0.7 in /usr/local/lib/python3.7/dist-packages (from Flask>=0.8->flask-ngrok) (1.0.1)\n",
            "Requirement already satisfied: click>=2.0 in /usr/local/lib/python3.7/dist-packages (from Flask>=0.8->flask-ngrok) (7.1.2)\n",
            "Requirement already satisfied: MarkupSafe>=0.23 in /usr/local/lib/python3.7/dist-packages (from Jinja2>=2.4->Flask>=0.8->flask-ngrok) (2.0.1)\n",
            "Requirement already satisfied: urllib3!=1.25.0,!=1.25.1,<1.26,>=1.21.1 in /usr/local/lib/python3.7/dist-packages (from requests->flask-ngrok) (1.24.3)\n",
            "Requirement already satisfied: certifi>=2017.4.17 in /usr/local/lib/python3.7/dist-packages (from requests->flask-ngrok) (2022.6.15)\n",
            "Requirement already satisfied: chardet<4,>=3.0.2 in /usr/local/lib/python3.7/dist-packages (from requests->flask-ngrok) (3.0.4)\n",
            "Requirement already satisfied: idna<3,>=2.5 in /usr/local/lib/python3.7/dist-packages (from requests->flask-ngrok) (2.10)\n",
            "Installing collected packages: flask-ngrok\n",
            "Successfully installed flask-ngrok-0.0.25\n"
          ]
        }
      ]
    },
    {
      "cell_type": "code",
      "metadata": {
        "id": "EkIL-uRK8NUi"
      },
      "source": [
        "# This code creates a connection to the database\n",
        "from sqlalchemy import create_engine\n",
        "from pymysql.cursors import DictCursor\n",
        "\n",
        "conn_string = 'mysql+pymysql://{user}:{password}@{host}/{db}?charset={encoding}'.format(\n",
        "    host = 'db.ipeirotis.org', \n",
        "    user = 'student',\n",
        "    db = 'citibike_fall2017',\n",
        "    password = 'dwdstudent2015',\n",
        "    encoding = 'utf8mb4')\n",
        "\n",
        "engine = create_engine(conn_string)\n",
        "con = engine.connect()"
      ],
      "execution_count": 5,
      "outputs": []
    },
    {
      "cell_type": "code",
      "metadata": {
        "id": "HZ8BAoiy8NUm"
      },
      "source": [
        "with engine.connect() as connection:\n",
        "  sql = \"SELECT DISTINCT id, name, capacity, lat, lon  FROM status_fall2017\"\n",
        "  results = connection.execute(sql)\n",
        "  station_dict = results.mappings().all()\n",
        "\n",
        "for s in station_dict:\n",
        "    print(s)\n",
        "    print(\"-----\")"
      ],
      "execution_count": null,
      "outputs": []
    },
    {
      "cell_type": "markdown",
      "metadata": {
        "id": "p886T8018NUr"
      },
      "source": [
        "## Displaying the database results in HTML"
      ]
    },
    {
      "cell_type": "markdown",
      "metadata": {
        "id": "Uiq-FDaN8NUs"
      },
      "source": [
        "Now, we are going to display these data in HTML page in a table format. An HTML table is defined with the [`<table>` tag](https://www.w3schools.com/html/html_tables.asp). Each table row is defined with the `<tr>` tag. A table header is defined with the `<th>` tag. By default, table headings are bold and centered. A table data/cell is defined with the `<td>` tag. \n"
      ]
    },
    {
      "cell_type": "code",
      "metadata": {
        "id": "GrJNsF5xaZts"
      },
      "source": [
        "# This code connects Google Drive to Colab, and makes the \n",
        "# contents of Google Drive available under \"/content/drive/My Drive\"\n",
        "from google.colab import drive\n",
        "drive.mount('/content/drive')"
      ],
      "execution_count": null,
      "outputs": []
    },
    {
      "cell_type": "markdown",
      "metadata": {
        "id": "EWvtZkQM8NUt"
      },
      "source": [
        "and add the following code to the `\"templates/citibike.html\"` file\n"
      ]
    },
    {
      "cell_type": "markdown",
      "metadata": {
        "id": "rB0yusEP8NUu"
      },
      "source": [
        "\n",
        "\n",
        "```html\n",
        "<!DOCTYPE html>\n",
        "<html>\n",
        "<body>   <!-- This is a comment in HTML -->\n",
        "    <table>\n",
        "        <thead>\n",
        "            <tr>    <!-- Construct table header -->\n",
        "                <th>Station ID</th>\n",
        "                <th>Address</th>\n",
        "                <th>Capacity</th>\n",
        "                <th>Lon / Lat</th>\n",
        "            </tr>\n",
        "        </thead>\n",
        "        <tbody>\n",
        "            {% for station in stations %}    <!-- Fill table rows for each station --> \n",
        "                <tr>\n",
        "                    <td>{{ station.station_id }}</td>\n",
        "                    <td>{{ station.name }}</td>\n",
        "                    <td>{{ station.capacity }}</td>\n",
        "                    <td>{{ station.lon }}, {{ station.lat }}</td>\n",
        "           \n",
        "                </tr>\n",
        "            {% endfor %}\n",
        "         </tbody>\n",
        "    </table>\n",
        "</body>\n",
        "</html>\n",
        "```\n"
      ]
    },
    {
      "cell_type": "markdown",
      "metadata": {
        "id": "0Lq0I6tz8NUv"
      },
      "source": [
        "#### Now let's start our server:\n",
        "\n",
        "Notice that we moved the code for connecting to the database inside our web server code. Then, we pass the `stations` variable as a parameter to the templace HTML code.\n",
        "\n",
        "Make sure that the following are in place:\n",
        "* You have connected to your Google Drive, and have created the `citibike.html` inside the templace folder in Google Drive.\n",
        "* When you connect to the webserver URL, you add the `/citibike/` suffix."
      ]
    },
    {
      "cell_type": "code",
      "metadata": {
        "id": "9n8aCC6QaeJq"
      },
      "source": [
        "from flask import Flask, render_template\n",
        "from flask_ngrok import run_with_ngrok\n",
        "from sqlalchemy import create_engine\n",
        " \n",
        "# The code below assumes that you use Google Colab and that you have\n",
        "# a \"templates\" folder in your Google Drive. If not, change the location\n",
        "# of the template_folder accordingly.\n",
        "app = Flask(__name__, template_folder = '/content/drive/My Drive/templates')\n",
        "run_with_ngrok(app)\n",
        " \n",
        "@app.route('/citibike')\n",
        "def citibike_stations():\n",
        " \n",
        "    conn_string = 'mysql://{user}:{password}@{host}/{db}?charset={encoding}'.format(\n",
        "        host = 'db.ipeirotis.org', \n",
        "        user = 'student',\n",
        "        db = 'citibike_fall2017',\n",
        "        password = 'dwdstudent2015',\n",
        "        encoding = 'utf8mb4')\n",
        " \n",
        "    engine = create_engine(conn_string)\n",
        "    con = engine.connect()\n",
        "    stations = con.execute(\"SELECT DISTINCT id AS station_id, name, capacity, lat, lon  FROM status_fall2017\")\n",
        "    con.close()\n",
        " \n",
        "    return render_template('citibike.html', stations=stations)\n",
        " \n",
        "app.run()"
      ],
      "execution_count": null,
      "outputs": []
    }
  ]
}