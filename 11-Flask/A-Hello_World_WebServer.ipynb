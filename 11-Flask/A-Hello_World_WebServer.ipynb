{
  "nbformat": 4,
  "nbformat_minor": 0,
  "metadata": {
    "anaconda-cloud": {},
    "kernelspec": {
      "display_name": "Python 3",
      "language": "python",
      "name": "python3"
    },
    "language_info": {
      "codemirror_mode": {
        "name": "ipython",
        "version": 3
      },
      "file_extension": ".py",
      "mimetype": "text/x-python",
      "name": "python",
      "nbconvert_exporter": "python",
      "pygments_lexer": "ipython3",
      "version": "3.6.6"
    },
    "colab": {
      "name": "A-Hello_World_WebServer.ipynb",
      "provenance": [],
      "include_colab_link": true
    }
  },
  "cells": [
    {
      "cell_type": "markdown",
      "metadata": {
        "id": "view-in-github",
        "colab_type": "text"
      },
      "source": [
        "<a href=\"https://colab.research.google.com/github/ipeirotis/dealing_with_data/blob/master/11-Flask/A-Hello_World_WebServer.ipynb\" target=\"_parent\"><img src=\"https://colab.research.google.com/assets/colab-badge.svg\" alt=\"Open In Colab\"/></a>"
      ]
    },
    {
      "cell_type": "markdown",
      "metadata": {
        "id": "eLmO7L394kvv"
      },
      "source": [
        "# Creating a Simple Web Server using Flask\n"
      ]
    },
    {
      "cell_type": "markdown",
      "metadata": {
        "id": "ZnFcxFWl4kvw"
      },
      "source": [
        "<img src=\"https://github.com/ipeirotis/dealing_with_data/blob/master/11-Flask/images/logo.png?raw=1\" width=50%>"
      ]
    },
    {
      "cell_type": "markdown",
      "metadata": {
        "id": "sTXJCIaf4kvz"
      },
      "source": [
        "## What is Flask?\n",
        "\n",
        "Flask is a **micro web framework** written in Python. \n",
        "\n",
        "Flask is called a micro framework because it does not require particular tools or libraries and provides minimal functionality by default. However, do not be fooled, there are many websites that are currently powered by Flask. \n",
        "\n",
        "More information about Flask can be found on [official web site](http://flask.pocoo.org/).\n",
        "\n",
        "\n",
        "You can install Flask using the command below. (We also install `pygrok` which allows us to run our Flask servers within Colab.)\n"
      ]
    },
    {
      "cell_type": "code",
      "metadata": {
        "id": "3I8hySch4kvz"
      },
      "source": [
        "!pip install flask pyngrok"
      ],
      "execution_count": null,
      "outputs": []
    },
    {
      "cell_type": "markdown",
      "metadata": {
        "id": "efvbypbI4kv4"
      },
      "source": [
        "## Hello World Example\n",
        "\n",
        "We are going to use Flask to create at first a relatively simple web application that will display \"Hello World!\" message and then we will use more advanced functionality, HTML templates and SQL database.\n",
        "\n",
        "To do this we will use the current IPython notebook, where we will describe all steps, explain and execute the web application's code. \n",
        "\n",
        "> In general, a Flask application may be run using command shell; we also also provide an instruction how to run it using the shell, but here we will execute all scripts using notebooks."
      ]
    },
    {
      "cell_type": "markdown",
      "metadata": {
        "id": "TG60j8if4kv5"
      },
      "source": [
        "The \"Hello World!\" message displaying in a browser window is as simple as possible first application that we will create. Let's do this!"
      ]
    },
    {
      "cell_type": "code",
      "metadata": {
        "id": "otW0KPhq5FAv"
      },
      "source": [
        "import os\n",
        "import threading\n",
        "from flask import Flask\n",
        "from pyngrok import ngrok\n",
        "\n",
        "os.environ[\"FLASK_DEBUG\"] = \"true\"\n",
        "app = Flask(__name__)\n",
        "port = 5000"
      ],
      "execution_count": null,
      "outputs": []
    },
    {
      "cell_type": "code",
      "source": [
        "# The code below allows us to run a web server using Google Colab\n",
        "# The code sets up a \"tunnel\" that directs traffic from the ngrok.io\n",
        "# URL into the web server that is running in the Colab VM \n",
        "# in the \"127.0.0.1\" address, which is a \"local\" address\n",
        "ngrok_authtoken = '2EYf3qVk9mi739HjPwSNZXWAtfy_4jF9NAhGqVVVJmm4YehPW'\n",
        "ngrok.set_auth_token(ngrok_authtoken)\n",
        "public_url = ngrok.connect(port).public_url\n",
        "# Update any base URLs to use the public ngrok URL\n",
        "app.config[\"BASE_URL\"] = public_url\n",
        "print(f\" * ngrok tunnel '{public_url}' -> 'http://127.0.0.1:{port}'\")"
      ],
      "metadata": {
        "id": "ihYsGaCu4Zyi"
      },
      "execution_count": null,
      "outputs": []
    },
    {
      "cell_type": "code",
      "source": [
        "@app.route(\"/\")\n",
        "def hello():\n",
        "    return \"Hello Panos!\""
      ],
      "metadata": {
        "id": "7tjuG2Fo4bsa"
      },
      "execution_count": null,
      "outputs": []
    },
    {
      "cell_type": "code",
      "source": [
        "app.run(use_reloader=False, port=port)"
      ],
      "metadata": {
        "id": "vVDnURp64fDM"
      },
      "execution_count": null,
      "outputs": []
    },
    {
      "cell_type": "code",
      "source": [],
      "metadata": {
        "id": "AtME400P797K"
      },
      "execution_count": null,
      "outputs": []
    },
    {
      "cell_type": "markdown",
      "source": [
        "### Tools for debugging (optional, FYI)\n",
        "\n",
        "Sometimes, we get blocked from running our web server, because the address is marked as \"already in use\". The commands below allow us to find which process is using a particular port, and then we can stop it, using the `kill` command."
      ],
      "metadata": {
        "id": "sIlVwe8m7-b_"
      }
    },
    {
      "cell_type": "code",
      "source": [
        "# !apt-get install net-tools"
      ],
      "metadata": {
        "id": "8fDo9-_N2LRD"
      },
      "execution_count": null,
      "outputs": []
    },
    {
      "cell_type": "code",
      "source": [
        "# Find which process is using a particular port (in this case port 4040)\n",
        "# !netstat -ano -p tcp | grep 4040"
      ],
      "metadata": {
        "id": "rcQAL0zv2JAC"
      },
      "execution_count": null,
      "outputs": []
    },
    {
      "cell_type": "code",
      "source": [
        "# Find the process number listed before the name of the process\n",
        "# (e.g., 160/python) and then kill that process\n",
        "# !kill -9 160"
      ],
      "metadata": {
        "id": "7JCxt-b30i7l"
      },
      "execution_count": null,
      "outputs": []
    },
    {
      "cell_type": "markdown",
      "metadata": {
        "collapsed": true,
        "id": "QZAAYY1G4kv9"
      },
      "source": [
        "### Version 2 of Hello World"
      ]
    },
    {
      "cell_type": "markdown",
      "metadata": {
        "id": "CPCp-v_t4kv9"
      },
      "source": [
        "Now let's expand our server a bit. Let's modify the file `webserver.py` with the following content, and then run it. (Remember to stop the previous cell, if it is still running.)\n",
        "\n",
        "\n",
        "You will see a few new things here:\n",
        "* We return a message with the date and time.\n",
        "* We how have a second URL, under `/hello` that returns a different message. You need to go to `http://<your IP>/hello` to see the message.\n",
        "* We have a \"global\" variable, that gets updated every time someone visits the `/hello`\n"
      ]
    },
    {
      "cell_type": "code",
      "metadata": {
        "id": "Y9PyYBAD4kv-"
      },
      "source": [
        "from flask import Flask\n",
        "from datetime import datetime\n",
        " \n",
        "app = Flask(__name__)\n",
        "port = 5000\n",
        "\n",
        "ngrok_authtoken = '2EYf3qVk9mi739HjPwSNZXWAtfy_4jF9NAhGqVVVJmm4YehPW'\n",
        "ngrok.set_auth_token(ngrok_authtoken)\n",
        "public_url = ngrok.connect(port).public_url\n",
        "# Update any base URLs to use the public ngrok URL\n",
        "app.config[\"BASE_URL\"] = public_url\n",
        "print(f\" * ngrok tunnel '{public_url}' -> 'http://127.0.0.1:{port}'\")\n",
        " \n",
        "# We add a global variable that will be used to count the visitors to a specific URL\n",
        "visitor_counter = 0\n",
        " \n",
        "def get_time_message():\n",
        "    datetime.now().strftime('%Y-%m-%d %H:%M:%S')\n",
        "    date = datetime.now().strftime('%Y-%m-%d')\n",
        "    time = datetime.now().strftime('%H:%M:%S')\n",
        "    message = f\"<P>The date is {date}<P>The time is {time}</H1>\"\n",
        "    return message\n",
        " \n",
        "@app.route(\"/\")\n",
        "def home():\n",
        "    message = get_time_message()\n",
        "    return \"<H1>Hello World!\" + message +\"</H1>\"\n",
        " \n",
        " \n",
        "# Go to http://<your IP>:5000/hello to see the message\n",
        "@app.route('/hello')\n",
        "def hello_visitor():\n",
        "    global visitor_counter\n",
        "    visitor_counter += 1\n",
        "    return '<H1>Hello! You are visitor #{i}</H1>'.format(i=visitor_counter)\n",
        " \n",
        " \n",
        "app.run(use_reloader=False, port=port)"
      ],
      "execution_count": null,
      "outputs": []
    }
  ]
}