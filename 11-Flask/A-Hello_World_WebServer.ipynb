{
  "nbformat": 4,
  "nbformat_minor": 0,
  "metadata": {
    "anaconda-cloud": {},
    "kernelspec": {
      "display_name": "Python 3",
      "language": "python",
      "name": "python3"
    },
    "language_info": {
      "codemirror_mode": {
        "name": "ipython",
        "version": 3
      },
      "file_extension": ".py",
      "mimetype": "text/x-python",
      "name": "python",
      "nbconvert_exporter": "python",
      "pygments_lexer": "ipython3",
      "version": "3.6.6"
    },
    "colab": {
      "name": "A-Hello_World_WebServer.ipynb",
      "provenance": []
    }
  },
  "cells": [
    {
      "cell_type": "markdown",
      "metadata": {
        "id": "eLmO7L394kvv"
      },
      "source": [
        "# Creating a Simple Web Server using Flask\n"
      ]
    },
    {
      "cell_type": "markdown",
      "metadata": {
        "id": "ZnFcxFWl4kvw"
      },
      "source": [
        "<img src=\"https://github.com/ipeirotis/dealing_with_data/blob/master/09-Flask/images/logo.png?raw=1\" width=50%>"
      ]
    },
    {
      "cell_type": "markdown",
      "metadata": {
        "id": "sTXJCIaf4kvz"
      },
      "source": [
        "## What is Flask?\n",
        "\n",
        "Flask is a **micro web framework** written in Python and based on the [Werkzeug toolkit](werkzeug.pocoo.org/) and [Jinja2 template engine](jinja.pocoo.org/). \n",
        "\n",
        "Flask is called a micro framework because it does not require particular tools or libraries. It has no database abstraction layer, form validation, or any other components where pre-existing third-party libraries provide common functions. However, Flask supports extensions that can add application features as if they were implemented in Flask itself. Extensions exist for object-relational mappers, form validation, upload handling, various open authentication technologies and several common framework related tools. Extensions are updated far more regularly than the core Flask program.\n",
        "\n",
        "More information about Flask can be found on [official web site](http://flask.pocoo.org/).\n",
        "\n",
        "\n",
        "You can install Flask using the command below:\n"
      ]
    },
    {
      "cell_type": "code",
      "metadata": {
        "id": "3I8hySch4kvz"
      },
      "source": [
        "!pip install flask==0.12.2\n",
        "!pip install flask-ngrok"
      ],
      "execution_count": null,
      "outputs": []
    },
    {
      "cell_type": "markdown",
      "metadata": {
        "id": "efvbypbI4kv4"
      },
      "source": [
        "## Hello World Example\n",
        "\n",
        "We are going to use Flask to create at first a relatively simple web application that will display \"Hello World!\" message and then we will use more advanced functionality, HTML templates and SQL database.\n",
        "\n",
        "To do this we will use the current IPython notebook, where we will describe all steps, explain and execute the web application's code. \n",
        "\n",
        "> In general, a Flask application may be run using command shell; we also also provide an instruction how to run it using the shell, but here we will execute all scripts using notebooks."
      ]
    },
    {
      "cell_type": "code",
      "metadata": {
        "id": "otW0KPhq5FAv"
      },
      "source": [
        "from flask import Flask\n",
        "from flask_ngrok import run_with_ngrok\n",
        "\n",
        "app = Flask(__name__)\n",
        "run_with_ngrok(app)  # Start ngrok when app is run\n",
        "\n",
        "@app.route(\"/\")\n",
        "def hello():\n",
        "    return \"Hello Panos!\"\n",
        "\n",
        "app.run()"
      ],
      "execution_count": null,
      "outputs": []
    },
    {
      "cell_type": "markdown",
      "metadata": {
        "id": "TG60j8if4kv5"
      },
      "source": [
        "The \"Hello World!\" message displaying in a browser window is as simple as possible first application that we will create. Let's do this!"
      ]
    },
    {
      "cell_type": "markdown",
      "metadata": {
        "collapsed": true,
        "id": "QZAAYY1G4kv9"
      },
      "source": [
        "### Version 2 of Hello World"
      ]
    },
    {
      "cell_type": "markdown",
      "metadata": {
        "id": "CPCp-v_t4kv9"
      },
      "source": [
        "Now let's expand our server a bit. Let's modify the file `webserver.py` with the following content, and then run it. (Remember to stop the previous cell, if it is still running.)\n",
        "\n",
        "\n",
        "You will see a few new things here:\n",
        "* We return a message with the date and time.\n",
        "* We how have a second URL, under `/hello` that returns a different message. You need to go to `http://<your IP>/hello` to see the message.\n",
        "* We have a \"global\" variable, that gets updated every time someone visits the `/hello`\n"
      ]
    },
    {
      "cell_type": "code",
      "metadata": {
        "id": "Y9PyYBAD4kv-"
      },
      "source": [
        "from flask import Flask\n",
        "from flask_ngrok import run_with_ngrok\n",
        "from datetime import datetime\n",
        " \n",
        "app = Flask(__name__)\n",
        "run_with_ngrok(app)  # Start ngrok when app is run\n",
        " \n",
        "# We add a global variable that will be used to count the visitors to a specific URL\n",
        "visitor_counter = 0\n",
        " \n",
        "def get_time_message():\n",
        "    datetime.now().strftime('%Y-%m-%d %H:%M:%S')\n",
        "    date = datetime.now().strftime('%Y-%m-%d')\n",
        "    time = datetime.now().strftime('%H:%M:%S')\n",
        "    message = \"<P>The date is {d}<P>The time is {t}</H1>\"\n",
        "    return message.format(d=date, t=time)\n",
        " \n",
        "@app.route(\"/\")\n",
        "def home():\n",
        "    message = get_time_message()\n",
        "    return \"<H1>Hello World!\" + message +\"</H1>\"\n",
        " \n",
        " \n",
        "# Go to http://<your IP>:5000/hello to see the message\n",
        "@app.route('/hello')\n",
        "def hello_visitor():\n",
        "    global visitor_counter\n",
        "    visitor_counter += 1\n",
        "    return '<H1>Hello! You are visitor #{i}</H1>'.format(i=visitor_counter)\n",
        " \n",
        " \n",
        "app.run()"
      ],
      "execution_count": null,
      "outputs": []
    }
  ]
}