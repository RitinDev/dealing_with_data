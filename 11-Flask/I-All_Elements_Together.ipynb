{
  "nbformat": 4,
  "nbformat_minor": 0,
  "metadata": {
    "anaconda-cloud": {},
    "kernelspec": {
      "display_name": "Python 3",
      "language": "python",
      "name": "python3"
    },
    "language_info": {
      "codemirror_mode": {
        "name": "ipython",
        "version": 3
      },
      "file_extension": ".py",
      "mimetype": "text/x-python",
      "name": "python",
      "nbconvert_exporter": "python",
      "pygments_lexer": "ipython3",
      "version": "3.6.6"
    },
    "colab": {
      "name": "I-All_Elements_Together.ipynb",
      "provenance": []
    }
  },
  "cells": [
    {
      "cell_type": "markdown",
      "metadata": {
        "id": "SkZqhwkf8NUg"
      },
      "source": [
        "# All pieces together\n",
        "\n",
        "This is just a notebook that puts together all the pieces of the code that we have been writing during this tutorial."
      ]
    },
    {
      "cell_type": "code",
      "metadata": {
        "id": "O9o9NsaO8hMy"
      },
      "source": [
        "!apt-get install python3-mysqldb\n",
        "!pip install sqlalchemy sql_magic\n",
        "!pip install flask==0.12.2\n",
        "!pip install flask-ngrok"
      ],
      "execution_count": null,
      "outputs": []
    },
    {
      "cell_type": "code",
      "metadata": {
        "id": "LJo_Qn-BD1hr",
        "outputId": "82ae7d2c-aa69-4342-d982-45f045ad6592",
        "colab": {
          "base_uri": "https://localhost:8080/",
          "height": 36
        }
      },
      "source": [
        "from google.colab import drive\n",
        "drive.mount('/content/drive')"
      ],
      "execution_count": null,
      "outputs": [
        {
          "output_type": "stream",
          "text": [
            "Mounted at /content/drive\n"
          ],
          "name": "stdout"
        }
      ]
    },
    {
      "cell_type": "code",
      "metadata": {
        "id": "r2y9jsgqEKAI",
        "outputId": "e9ac664a-5687-4bb6-e74c-6e5366e3cc07",
        "colab": {
          "base_uri": "https://localhost:8080/",
          "height": 265
        }
      },
      "source": [
        "from flask import Flask, render_template\n",
        "from flask_ngrok import run_with_ngrok\n",
        "from sqlalchemy import create_engine\n",
        "from flask import request\n",
        "import urllib\n",
        "\n",
        "import matplotlib\n",
        "matplotlib.use('Agg')\n",
        "\n",
        "import pandas as pd\n",
        "\n",
        " \n",
        "app = Flask(__name__, \n",
        "            template_folder = '/content/drive/My Drive/templates',\n",
        "            static_folder  = '/content/drive/My Drive/static'\n",
        "            )\n",
        "run_with_ngrok(app)\n",
        " \n",
        "@app.route('/citibike')\n",
        "def citibike_stations():\n",
        " \n",
        "    conn_string = 'mysql://{user}:{password}@{host}/{db}?charset={encoding}'.format(\n",
        "        host = 'db.ipeirotis.org', \n",
        "        user = 'student',\n",
        "        db = 'citibike_fall2017',\n",
        "        password = 'dwdstudent2015',\n",
        "        encoding = 'utf8mb4')\n",
        " \n",
        "    engine = create_engine(conn_string)\n",
        "    con = engine.connect()\n",
        "    stations = con.execute(\"SELECT DISTINCT id AS station_id, name, capacity, lat, lon  FROM status_fall2017\")\n",
        "    con.close()\n",
        " \n",
        "    return render_template('citibike.html', stations=stations)\n",
        " \n",
        "\n",
        "@app.route('/station_status')\n",
        "def station_status():\n",
        "\n",
        "    station_id = int(request.args.get('station_id'))\n",
        "    station_name = request.args.get('station_name')\n",
        "    \n",
        "\n",
        "    conn_string = 'mysql://{user}:{password}@{host}/{db}?charset={encoding}'.format(\n",
        "        host = 'db.ipeirotis.org', \n",
        "        user = 'student',\n",
        "        db = 'citibike_fall2017',\n",
        "        password = 'dwdstudent2015',\n",
        "        encoding = 'utf8mb4')\n",
        "\n",
        "    engine = create_engine(conn_string)\n",
        "    con = engine.connect()\n",
        "    query = '''SELECT available_bikes, \n",
        "                      available_docks, \n",
        "                      capacity, \n",
        "                      ROUND(100*available_bikes/capacity,1) AS percent_full,\n",
        "                      communication_time \n",
        "               FROM status_fall2017\n",
        "               WHERE id = %s'''\n",
        "    status = con.execute(query, (station_id,))\n",
        "\n",
        "    image_filename = create_plot(station_id,con)\n",
        "\n",
        "    con.close()\n",
        "\n",
        "    return render_template('station_status.html', \n",
        "                           station_id = station_id, \n",
        "                           station_name = station_name,\n",
        "                           statuses=status, \n",
        "                           image=image_filename)\n",
        "\n",
        "@app.route('/')\n",
        "def home():\n",
        "    return render_template('search_stations.html')\n",
        "\n",
        "@app.route('/search/')\n",
        "def search():\n",
        "\n",
        "    name = request.args.get('name')\n",
        "\n",
        "    conn_string = 'mysql://{user}:{password}@{host}/{db}?charset={encoding}'.format(\n",
        "        host = 'db.ipeirotis.org', \n",
        "        user = 'student',\n",
        "        db = 'citibike_fall2017',\n",
        "        password = 'dwdstudent2015',\n",
        "        encoding = 'utf8mb4')\n",
        "    engine = create_engine(conn_string)\n",
        "\n",
        "    con = engine.connect()\n",
        "    query = '''SELECT DISTINCT id AS station_id, name, capacity, lat, lon\n",
        "               FROM status_fall2017\n",
        "               WHERE name LIKE %s\n",
        "            '''\n",
        "    stations = con.execute(query, ('%'+name+'%',))\n",
        "    con.close()\n",
        "\n",
        "    return render_template('citibike.html', stations=stations)\n",
        "\n",
        "\n",
        "def create_plot(station,con):\n",
        "    # Read the data from the database\n",
        "    sql = '''\n",
        "        SELECT communication_time, ROUND(100*available_bikes/capacity,1) AS percent_full  \n",
        "        FROM status_fall2017 WHERE id= %(station_id)s\n",
        "    '''\n",
        "    status = pd.read_sql(sql, params={\"station_id\": station}, con=con)\n",
        "    status.set_index('communication_time', inplace=True)\n",
        "    # Create a plot, displaying the \"percent_full\" variable with \"communication_time\" as the x-axis\n",
        "    plot = status.plot(\n",
        "        figsize=(10, 2), \n",
        "        grid=True, \n",
        "        xlim=('2017-10-01', '2017-10-31'),\n",
        "        ylim=(0,100),\n",
        "        legend=False\n",
        "    )\n",
        "    # Store the file under the static folder, and give a name plot-<stationid>.png\n",
        "    filename = 'static/plot-'+str(station)+ '.png'\n",
        "    fig = plot.get_figure()\n",
        "    fig.savefig('/content/drive/My Drive/'+filename, dpi=72, pad_inches=1)\n",
        "    fig.clear()\n",
        "    # Return back the name of the image file\n",
        "    return filename\n",
        "\n",
        "\n",
        "app.run()"
      ],
      "execution_count": null,
      "outputs": [
        {
          "output_type": "stream",
          "text": [
            " * Running on http://127.0.0.1:5000/ (Press CTRL+C to quit)\n"
          ],
          "name": "stderr"
        },
        {
          "output_type": "stream",
          "text": [
            " * Running on http://64c05fb71011.ngrok.io\n",
            " * Traffic stats available on http://127.0.0.1:4040\n"
          ],
          "name": "stdout"
        },
        {
          "output_type": "stream",
          "text": [
            "127.0.0.1 - - [20/Oct/2020 19:58:42] \"\u001b[37mGET / HTTP/1.1\u001b[0m\" 200 -\n",
            "127.0.0.1 - - [20/Oct/2020 19:58:43] \"\u001b[33mGET /favicon.ico HTTP/1.1\u001b[0m\" 404 -\n",
            "127.0.0.1 - - [20/Oct/2020 19:58:48] \"\u001b[32mGET /search?name=LAGuardia HTTP/1.1\u001b[0m\" 308 -\n",
            "127.0.0.1 - - [20/Oct/2020 19:58:50] \"\u001b[37mGET /search/?name=LAGuardia HTTP/1.1\u001b[0m\" 200 -\n",
            "127.0.0.1 - - [20/Oct/2020 19:58:53] \"\u001b[37mGET /station_status?station_id=161 HTTP/1.1\u001b[0m\" 200 -\n",
            "127.0.0.1 - - [20/Oct/2020 19:59:00] \"\u001b[37mGET /station_status?station_id=161 HTTP/1.1\u001b[0m\" 200 -\n",
            "127.0.0.1 - - [20/Oct/2020 19:59:00] \"\u001b[37mGET /static/plot-161.png HTTP/1.1\u001b[0m\" 200 -\n",
            "127.0.0.1 - - [20/Oct/2020 20:02:55] \"\u001b[37mGET /station_status?station_id=161 HTTP/1.1\u001b[0m\" 200 -\n",
            "127.0.0.1 - - [20/Oct/2020 20:02:55] \"\u001b[37mGET /static/plot-161.png HTTP/1.1\u001b[0m\" 200 -\n",
            "127.0.0.1 - - [20/Oct/2020 20:02:56] \"\u001b[33mGET /favicon.ico HTTP/1.1\u001b[0m\" 404 -\n"
          ],
          "name": "stderr"
        }
      ]
    },
    {
      "cell_type": "code",
      "metadata": {
        "id": "CpVnDZwwXQ3E"
      },
      "source": [
        ""
      ],
      "execution_count": null,
      "outputs": []
    },
    {
      "cell_type": "markdown",
      "metadata": {
        "id": "eBPVh5NWXjsr"
      },
      "source": [
        "**`search_stations.html`**\n",
        "\n",
        "```html\n",
        "<!DOCTYPE html>\n",
        "<html>\n",
        "\n",
        "<head>\n",
        "\t<link rel=\"stylesheet\" href=\"https://stackpath.bootstrapcdn.com/bootstrap/4.1.3/css/bootstrap.min.css\"\n",
        "\t\tintegrity=\"sha384-MCw98/SFnGE8fJT3GXwEOngsV7Zt27NXFoaoApmYm81iuXoPkFOJwJ8ERdknLPMO\" crossorigin=\"anonymous\">\n",
        "\t<title>Search Citibike Stations</title>\n",
        "</head>\n",
        "\n",
        "<body>\n",
        "\t<div class=\"container\">\n",
        "\t\t<div class=\"panel panel-info\">\n",
        "\t\t\t<div class=\"panel-heading\" align=\"center\">\n",
        "\t\t\t\t<h1>\n",
        "\t\t\t\t\t<form action=\"/search\">\n",
        "\t\t\t\t\t\tStation Name<br>\n",
        "\t\t\t\t\t\t<input type=\"text\" name=\"name\"><br>\n",
        "\t\t\t\t\t\t<input class=\"btn btn-primary\" type=\"submit\" value=\"Submit\">\n",
        "          </form>\n",
        "\t\t\t\t</h1>\n",
        "\t\t\t</div>\n",
        "\t\t</div>\n",
        "\t</div>\n",
        "</body>\n",
        "```"
      ]
    },
    {
      "cell_type": "markdown",
      "metadata": {
        "id": "CIyGCvBNX3cH"
      },
      "source": [
        "`citibike.html`\n",
        "\n",
        "```html\n",
        "<!DOCTYPE html>\n",
        "<html>\n",
        "<head>\n",
        "    <link rel=\"stylesheet\" href=\"https://stackpath.bootstrapcdn.com/bootstrap/4.1.3/css/bootstrap.min.css\" integrity=\"sha384-MCw98/SFnGE8fJT3GXwEOngsV7Zt27NXFoaoApmYm81iuXoPkFOJwJ8ERdknLPMO\" crossorigin=\"anonymous\">\n",
        "</head>\n",
        "<body>  \n",
        "  <div class=\"container\">\n",
        "    <div class=\"panel panel-info\">\n",
        "      <div class=\"panel-heading\">\n",
        "          <h1 class=\"panel-title\">Citibike Stations</h1>\n",
        "      </div>\n",
        "      <table  class=\"table table-striped table-bordered table-hover\">\n",
        "      <thead>\n",
        "          <tr> \n",
        "            <th>Station ID</th>\n",
        "            <th>Address</th>\n",
        "            <th>Capacity</th>\n",
        "            <th>Lon / Lat</th>\n",
        "          </tr>\n",
        "      </thead>\n",
        "      <tbody>\n",
        "          {% for station in stations %}    <!-- Fill table rows for each station --> \n",
        "              <tr>\n",
        "                  <td><a href=\"/station_status?station_id={{ station.station_id }}\">{{ station.station_id }}</a></td>\n",
        "                  <td><a href=\"/station_status?station_id={{ station.station_id }}\">{{ station.name }}</a></td>\n",
        "                  <td>{{ station.capacity }}</td>\n",
        "                  <td>{{ station.lon }}, {{ station.lat }}</td>\n",
        "              </tr>\n",
        "          {% endfor %}\n",
        "        </tbody>\n",
        "      </table>\n",
        "    </div>\n",
        "  </div>\n",
        "</body>\n",
        "</html>\n",
        "```"
      ]
    },
    {
      "cell_type": "markdown",
      "metadata": {
        "id": "-LSWYPWdYPfq"
      },
      "source": [
        "**`station_status.html`**\n",
        "\n",
        "```html\n",
        "<!DOCTYPE html>\n",
        "<html>\n",
        "<head>\n",
        "    <link rel=\"stylesheet\" href=\"https://stackpath.bootstrapcdn.com/bootstrap/4.1.3/css/bootstrap.min.css\" integrity=\"sha384-MCw98/SFnGE8fJT3GXwEOngsV7Zt27NXFoaoApmYm81iuXoPkFOJwJ8ERdknLPMO\" crossorigin=\"anonymous\">\n",
        "</head>\n",
        "<body>\n",
        "  <div class=\"container\">\n",
        "    <div class=\"panel panel-info\">\n",
        "      <div class=\"panel-heading\">\n",
        "        <h1 class=\"panel-title\">Citibike Station {{station_id}} Status Over Time </h1>\n",
        "      </div>\n",
        "      \n",
        "      <img class=\"center-block\" src=\"{{image}}\" />\n",
        "      \n",
        "      <table  class=\"table table-striped table-bordered table-hover\">\n",
        "        <thead>\n",
        "            <tr>    <!-- Construct table header -->\n",
        "              <th> Time </th>\n",
        "              <th> Bikes available </th>\n",
        "              <th> Docks available </th>\n",
        "              <th> Total docks </th>\n",
        "              <th> Percent full </th>\n",
        "            </tr>\n",
        "        </thead>\n",
        "        <tbody>\n",
        "            {% for status in statuses %}\n",
        "                <tr>\n",
        "                  <td>{{ status.communication_time }}</td>\n",
        "                  <td>{{ status.available_bikes }}</td>\n",
        "                  <td>{{ status.available_docks }}</td>\n",
        "                  <td>{{ status.capacity }}</td>\n",
        "                  <td>{{ status.percent_full }}%</td>\n",
        "                </tr>\n",
        "            {% endfor %}\n",
        "          </tbody>\n",
        "        </table>\n",
        "    </div>\n",
        "  </div>\n",
        "</body>\n",
        "</html>\n",
        "```"
      ]
    }
  ]
}