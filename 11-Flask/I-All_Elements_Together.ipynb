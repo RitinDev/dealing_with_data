{
  "nbformat": 4,
  "nbformat_minor": 0,
  "metadata": {
    "anaconda-cloud": {},
    "kernelspec": {
      "display_name": "Python 3",
      "language": "python",
      "name": "python3"
    },
    "language_info": {
      "codemirror_mode": {
        "name": "ipython",
        "version": 3
      },
      "file_extension": ".py",
      "mimetype": "text/x-python",
      "name": "python",
      "nbconvert_exporter": "python",
      "pygments_lexer": "ipython3",
      "version": "3.6.6"
    },
    "colab": {
      "name": "I-All_Elements_Together.ipynb",
      "provenance": [],
      "include_colab_link": true
    }
  },
  "cells": [
    {
      "cell_type": "markdown",
      "metadata": {
        "id": "view-in-github",
        "colab_type": "text"
      },
      "source": [
        "<a href=\"https://colab.research.google.com/github/ipeirotis/dealing_with_data/blob/master/11-Flask/I-All_Elements_Together.ipynb\" target=\"_parent\"><img src=\"https://colab.research.google.com/assets/colab-badge.svg\" alt=\"Open In Colab\"/></a>"
      ]
    },
    {
      "cell_type": "markdown",
      "metadata": {
        "id": "SkZqhwkf8NUg"
      },
      "source": [
        "# All pieces together\n",
        "\n",
        "This is just a notebook that puts together all the pieces of the code that we have been writing during this tutorial."
      ]
    },
    {
      "cell_type": "code",
      "metadata": {
        "id": "O9o9NsaO8hMy"
      },
      "source": [
        "!pip install -U PyMySQL sqlalchemy flask pyngrok geopandas pygeos"
      ],
      "execution_count": null,
      "outputs": []
    },
    {
      "cell_type": "code",
      "metadata": {
        "id": "LJo_Qn-BD1hr"
      },
      "source": [
        "from google.colab import drive\n",
        "drive.mount('/content/drive')"
      ],
      "execution_count": null,
      "outputs": []
    },
    {
      "cell_type": "code",
      "source": [
        "import os\n",
        "import threading\n",
        "\n",
        "from flask import Flask, render_template, jsonify, request\n",
        "from pyngrok import ngrok\n",
        "\n",
        "from sqlalchemy import create_engine\n",
        "import pandas as pd\n",
        "import base64\n",
        "from io import BytesIO\n",
        "import matplotlib.pyplot as plt\n",
        "\n",
        "# Setup Flask and ngrok\n",
        "\n",
        "os.environ[\"FLASK_DEBUG\"] = \"true\"\n",
        "\n",
        "app = Flask(__name__, template_folder = '/content/drive/MyDrive/templates')\n",
        "port = 5000\n",
        "\n",
        "# Open a ngrok tunnel to the HTTP server\n",
        "ngrok_authtoken = '2EYf3qVk9mi739HjPwSNZXWAtfy_4jF9NAhGqVVVJmm4YehPW'\n",
        "ngrok.set_auth_token(ngrok_authtoken)\n",
        "public_url = ngrok.connect(port).public_url\n",
        "print(f\" * ngrok tunnel '{public_url}' -> 'http://127.0.0.1:{port}'\")\n",
        "\n",
        "# Update any base URLs to use the public ngrok URL\n",
        "app.config[\"BASE_URL\"] = public_url\n",
        "\n",
        "# Setup a connection to the database\n",
        "conn_string = 'mysql+pymysql://{user}:{password}@{host}/{db}?charset={encoding}'.format(\n",
        "    host = 'db.ipeirotis.org', \n",
        "    user = 'student',\n",
        "    db = 'citibike_fall2017',\n",
        "    password = 'dwdstudent2015',\n",
        "    encoding = 'utf8mb4')\n",
        "engine = create_engine(conn_string)"
      ],
      "metadata": {
        "id": "Ad0WRcmO3RTm"
      },
      "execution_count": null,
      "outputs": []
    },
    {
      "cell_type": "code",
      "source": [
        "# Our website has just two pages.\n",
        "\n",
        "\n",
        "# The main page shows just a big box with a search interface\n",
        "# The HTML for the page is at \n",
        "# https://github.com/ipeirotis/dealing_with_data/blob/master/11-Flask/search_stations.html\n",
        "@app.route('/')\n",
        "def home():\n",
        "    return render_template('search_stations.html')\n",
        "\n",
        "# This page shows the list of the stations\n",
        "# Optionally, we also pass a query to the page with \n",
        "# the name of the station and we do an approximate search\n",
        "#\n",
        "# The HTML for the page is at \n",
        "# https://github.com/ipeirotis/dealing_with_data/blob/master/11-Flask/list_stations.html\n",
        "@app.route('/list_stations',  methods=['GET'])\n",
        "def list_stations():\n",
        "  return render_template(\"list_stations.html\")    "
      ],
      "metadata": {
        "id": "ERdrlBHy3aaK"
      },
      "execution_count": null,
      "outputs": []
    },
    {
      "cell_type": "code",
      "source": [
        "# This is the API call that returns back a list of the Citibike stations\n",
        "# Optionally we pass a query parameter call \"name\" which we then use to \n",
        "# search for Citibike stations that contain that string in their name\n",
        "\n",
        "@app.route('/citibike_api')\n",
        "def citibike_stations():\n",
        "\n",
        "\n",
        "  sql = \"SELECT DISTINCT id, name, capacity, lat, lon  FROM status_fall2017\"\n",
        "\n",
        "  search_query = request.args.get('name')\n",
        "  # If we have a search query, we add a condition in SQL\n",
        "  if search_query:\n",
        "    sql += \" WHERE name LIKE %(station_name_query)s\"\n",
        "\n",
        "\n",
        "  with engine.connect() as con:\n",
        "    # If there is a search query, we populate the parameter in SQL\n",
        "    # Since we want to have an approximate query uisng LIKE, \n",
        "    # we put the wildcard character before and after the search string \n",
        "    if search_query: \n",
        "      params = {\"station_name_query\": '%'+search_query+'%' }\n",
        "      stations = pd.read_sql(sql, con=con, params=params)\n",
        "    else: \n",
        "      stations = pd.read_sql(sql, con=con)\n",
        "\n",
        "  # Convert the returned dataframe into a list of dictionaries\n",
        "  list_of_stations = stations.to_dict(orient='records')\n",
        "  api_results = {\"stations\": list_of_stations}\n",
        "\n",
        "  # We JSON-ify our dictionary and return it as the API response\n",
        "  return jsonify(api_results)"
      ],
      "metadata": {
        "id": "Z0XyG5_U3eGX"
      },
      "execution_count": null,
      "outputs": []
    },
    {
      "cell_type": "code",
      "source": [
        "# This API call returns a plot, in JSON format\n",
        "# Specifically, this returns a \n",
        "\n",
        "@app.route('/station_map',  methods=['GET'])\n",
        "def station_map():\n",
        "\n",
        "    # Connect to the database, execute the query, and get back the results\n",
        "    sql = \"SELECT DISTINCT id, name, capacity, lat, lon  FROM status_fall2017\" \n",
        "    with engine.connect() as connection:  \n",
        "        stations = pd.read_sql(sql, con=connection)\n",
        "\n",
        "    fig, ax = plt.subplots()\n",
        "    ax = stations.plot(kind='scatter', x='lon', y='lat', figsize=(6,6), ax=ax)\n",
        "\n",
        "    buf = BytesIO()\n",
        "    fig.savefig(buf, format=\"png\")\n",
        "    # Embed the result in the html output.\n",
        "    data = base64.b64encode(buf.getbuffer()).decode(\"ascii\")\n",
        "\n",
        "    # Create the response. We will put the retrieved data as a list of\n",
        "    # dictionaries, under the key \"stations\".\n",
        "    results = {\"image\": data}\n",
        "\n",
        "    # We JSON-ify our dictionary and return it as the API response\n",
        "    return jsonify(results)"
      ],
      "metadata": {
        "id": "7aEI6-bS4JE2"
      },
      "execution_count": null,
      "outputs": []
    },
    {
      "cell_type": "code",
      "metadata": {
        "id": "r2y9jsgqEKAI"
      },
      "source": [
        "# Start the webserver.\n",
        "\n",
        "print(f\" * ngrok tunnel '{public_url}' -> 'http://127.0.0.1:{port}'\")\n",
        "app.run(use_reloader=False, port=port)"
      ],
      "execution_count": null,
      "outputs": []
    },
    {
      "cell_type": "code",
      "metadata": {
        "id": "CpVnDZwwXQ3E"
      },
      "source": [],
      "execution_count": null,
      "outputs": []
    }
  ]
}