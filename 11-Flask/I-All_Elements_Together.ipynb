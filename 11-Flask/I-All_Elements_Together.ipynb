{
  "nbformat": 4,
  "nbformat_minor": 0,
  "metadata": {
    "anaconda-cloud": {},
    "kernelspec": {
      "display_name": "Python 3",
      "language": "python",
      "name": "python3"
    },
    "language_info": {
      "codemirror_mode": {
        "name": "ipython",
        "version": 3
      },
      "file_extension": ".py",
      "mimetype": "text/x-python",
      "name": "python",
      "nbconvert_exporter": "python",
      "pygments_lexer": "ipython3",
      "version": "3.6.6"
    },
    "colab": {
      "name": "I-All_Elements_Together.ipynb",
      "provenance": [],
      "include_colab_link": true
    }
  },
  "cells": [
    {
      "cell_type": "markdown",
      "metadata": {
        "id": "view-in-github",
        "colab_type": "text"
      },
      "source": [
        "<a href=\"https://colab.research.google.com/github/ipeirotis/dealing_with_data/blob/master/11-Flask/I-All_Elements_Together.ipynb\" target=\"_parent\"><img src=\"https://colab.research.google.com/assets/colab-badge.svg\" alt=\"Open In Colab\"/></a>"
      ]
    },
    {
      "cell_type": "markdown",
      "metadata": {
        "id": "SkZqhwkf8NUg"
      },
      "source": [
        "# All pieces together\n",
        "\n",
        "This is just a notebook that puts together all the pieces of the code that we have been writing during this tutorial."
      ]
    },
    {
      "cell_type": "code",
      "metadata": {
        "id": "O9o9NsaO8hMy",
        "outputId": "01a3d976-9893-4958-d185-7c40f4a2c10f",
        "colab": {
          "base_uri": "https://localhost:8080/"
        }
      },
      "source": [
        "!pip install -U PyMySQL sqlalchemy flask pyngrok geopandas pygeos"
      ],
      "execution_count": 1,
      "outputs": [
        {
          "output_type": "stream",
          "name": "stdout",
          "text": [
            "Looking in indexes: https://pypi.org/simple, https://us-python.pkg.dev/colab-wheels/public/simple/\n",
            "Collecting PyMySQL\n",
            "  Downloading PyMySQL-1.0.2-py3-none-any.whl (43 kB)\n",
            "\u001b[K     |████████████████████████████████| 43 kB 861 kB/s \n",
            "\u001b[?25hRequirement already satisfied: sqlalchemy in /usr/local/lib/python3.7/dist-packages (1.4.42)\n",
            "Requirement already satisfied: flask in /usr/local/lib/python3.7/dist-packages (1.1.4)\n",
            "Collecting flask\n",
            "  Downloading Flask-2.2.2-py3-none-any.whl (101 kB)\n",
            "\u001b[K     |████████████████████████████████| 101 kB 3.3 MB/s \n",
            "\u001b[?25hCollecting pyngrok\n",
            "  Downloading pyngrok-5.1.0.tar.gz (745 kB)\n",
            "\u001b[K     |████████████████████████████████| 745 kB 37.4 MB/s \n",
            "\u001b[?25hCollecting geopandas\n",
            "  Downloading geopandas-0.10.2-py2.py3-none-any.whl (1.0 MB)\n",
            "\u001b[K     |████████████████████████████████| 1.0 MB 34.5 MB/s \n",
            "\u001b[?25hCollecting pygeos\n",
            "  Downloading pygeos-0.13-cp37-cp37m-manylinux_2_17_x86_64.manylinux2014_x86_64.whl (2.1 MB)\n",
            "\u001b[K     |████████████████████████████████| 2.1 MB 24.6 MB/s \n",
            "\u001b[?25hRequirement already satisfied: importlib-metadata in /usr/local/lib/python3.7/dist-packages (from sqlalchemy) (4.13.0)\n",
            "Requirement already satisfied: greenlet!=0.4.17 in /usr/local/lib/python3.7/dist-packages (from sqlalchemy) (1.1.3.post0)\n",
            "Collecting click>=8.0\n",
            "  Downloading click-8.1.3-py3-none-any.whl (96 kB)\n",
            "\u001b[K     |████████████████████████████████| 96 kB 2.4 MB/s \n",
            "\u001b[?25hCollecting itsdangerous>=2.0\n",
            "  Downloading itsdangerous-2.1.2-py3-none-any.whl (15 kB)\n",
            "Collecting Jinja2>=3.0\n",
            "  Downloading Jinja2-3.1.2-py3-none-any.whl (133 kB)\n",
            "\u001b[K     |████████████████████████████████| 133 kB 2.7 MB/s \n",
            "\u001b[?25hCollecting Werkzeug>=2.2.2\n",
            "  Downloading Werkzeug-2.2.2-py3-none-any.whl (232 kB)\n",
            "\u001b[K     |████████████████████████████████| 232 kB 20.1 MB/s \n",
            "\u001b[?25hRequirement already satisfied: zipp>=0.5 in /usr/local/lib/python3.7/dist-packages (from importlib-metadata->sqlalchemy) (3.10.0)\n",
            "Requirement already satisfied: typing-extensions>=3.6.4 in /usr/local/lib/python3.7/dist-packages (from importlib-metadata->sqlalchemy) (4.1.1)\n",
            "Requirement already satisfied: MarkupSafe>=2.0 in /usr/local/lib/python3.7/dist-packages (from Jinja2>=3.0->flask) (2.0.1)\n",
            "Collecting MarkupSafe>=2.0\n",
            "  Downloading MarkupSafe-2.1.1-cp37-cp37m-manylinux_2_17_x86_64.manylinux2014_x86_64.whl (25 kB)\n",
            "Requirement already satisfied: PyYAML in /usr/local/lib/python3.7/dist-packages (from pyngrok) (6.0)\n",
            "Collecting fiona>=1.8\n",
            "  Downloading Fiona-1.8.22-cp37-cp37m-manylinux2014_x86_64.whl (16.7 MB)\n",
            "\u001b[K     |████████████████████████████████| 16.7 MB 13.7 MB/s \n",
            "\u001b[?25hCollecting pyproj>=2.2.0\n",
            "  Downloading pyproj-3.2.1-cp37-cp37m-manylinux2010_x86_64.whl (6.3 MB)\n",
            "\u001b[K     |████████████████████████████████| 6.3 MB 16.2 MB/s \n",
            "\u001b[?25hRequirement already satisfied: shapely>=1.6 in /usr/local/lib/python3.7/dist-packages (from geopandas) (1.8.5.post1)\n",
            "Requirement already satisfied: pandas>=0.25.0 in /usr/local/lib/python3.7/dist-packages (from geopandas) (1.3.5)\n",
            "Requirement already satisfied: attrs>=17 in /usr/local/lib/python3.7/dist-packages (from fiona>=1.8->geopandas) (22.1.0)\n",
            "Requirement already satisfied: certifi in /usr/local/lib/python3.7/dist-packages (from fiona>=1.8->geopandas) (2022.9.24)\n",
            "Collecting munch\n",
            "  Downloading munch-2.5.0-py2.py3-none-any.whl (10 kB)\n",
            "Collecting click-plugins>=1.0\n",
            "  Downloading click_plugins-1.1.1-py2.py3-none-any.whl (7.5 kB)\n",
            "Collecting cligj>=0.5\n",
            "  Downloading cligj-0.7.2-py3-none-any.whl (7.1 kB)\n",
            "Requirement already satisfied: six>=1.7 in /usr/local/lib/python3.7/dist-packages (from fiona>=1.8->geopandas) (1.15.0)\n",
            "Requirement already satisfied: setuptools in /usr/local/lib/python3.7/dist-packages (from fiona>=1.8->geopandas) (57.4.0)\n",
            "Requirement already satisfied: python-dateutil>=2.7.3 in /usr/local/lib/python3.7/dist-packages (from pandas>=0.25.0->geopandas) (2.8.2)\n",
            "Requirement already satisfied: pytz>=2017.3 in /usr/local/lib/python3.7/dist-packages (from pandas>=0.25.0->geopandas) (2022.5)\n",
            "Requirement already satisfied: numpy>=1.17.3 in /usr/local/lib/python3.7/dist-packages (from pandas>=0.25.0->geopandas) (1.21.6)\n",
            "Building wheels for collected packages: pyngrok\n",
            "  Building wheel for pyngrok (setup.py) ... \u001b[?25l\u001b[?25hdone\n",
            "  Created wheel for pyngrok: filename=pyngrok-5.1.0-py3-none-any.whl size=19007 sha256=c9b640905e7244fbebb9fb445acb5e6d70eee7b8a6ffac418f0402df1fafb536\n",
            "  Stored in directory: /root/.cache/pip/wheels/bf/e6/af/ccf6598ecefecd44104069371795cb9b3afbcd16987f6ccfb3\n",
            "Successfully built pyngrok\n",
            "Installing collected packages: click, munch, MarkupSafe, cligj, click-plugins, Werkzeug, pyproj, Jinja2, itsdangerous, fiona, pyngrok, PyMySQL, pygeos, geopandas, flask\n",
            "  Attempting uninstall: click\n",
            "    Found existing installation: click 7.1.2\n",
            "    Uninstalling click-7.1.2:\n",
            "      Successfully uninstalled click-7.1.2\n",
            "  Attempting uninstall: MarkupSafe\n",
            "    Found existing installation: MarkupSafe 2.0.1\n",
            "    Uninstalling MarkupSafe-2.0.1:\n",
            "      Successfully uninstalled MarkupSafe-2.0.1\n",
            "  Attempting uninstall: Werkzeug\n",
            "    Found existing installation: Werkzeug 1.0.1\n",
            "    Uninstalling Werkzeug-1.0.1:\n",
            "      Successfully uninstalled Werkzeug-1.0.1\n",
            "  Attempting uninstall: Jinja2\n",
            "    Found existing installation: Jinja2 2.11.3\n",
            "    Uninstalling Jinja2-2.11.3:\n",
            "      Successfully uninstalled Jinja2-2.11.3\n",
            "  Attempting uninstall: itsdangerous\n",
            "    Found existing installation: itsdangerous 1.1.0\n",
            "    Uninstalling itsdangerous-1.1.0:\n",
            "      Successfully uninstalled itsdangerous-1.1.0\n",
            "  Attempting uninstall: flask\n",
            "    Found existing installation: Flask 1.1.4\n",
            "    Uninstalling Flask-1.1.4:\n",
            "      Successfully uninstalled Flask-1.1.4\n",
            "\u001b[31mERROR: pip's dependency resolver does not currently take into account all the packages that are installed. This behaviour is the source of the following dependency conflicts.\n",
            "notebook 5.7.16 requires jinja2<=3.0.0, but you have jinja2 3.1.2 which is incompatible.\u001b[0m\n",
            "Successfully installed Jinja2-3.1.2 MarkupSafe-2.1.1 PyMySQL-1.0.2 Werkzeug-2.2.2 click-8.1.3 click-plugins-1.1.1 cligj-0.7.2 fiona-1.8.22 flask-2.2.2 geopandas-0.10.2 itsdangerous-2.1.2 munch-2.5.0 pygeos-0.13 pyngrok-5.1.0 pyproj-3.2.1\n"
          ]
        }
      ]
    },
    {
      "cell_type": "code",
      "metadata": {
        "id": "LJo_Qn-BD1hr",
        "outputId": "4cfb6f7b-4e1d-4e9a-8575-4c381bc56820",
        "colab": {
          "base_uri": "https://localhost:8080/"
        }
      },
      "source": [
        "from google.colab import drive\n",
        "drive.mount('/content/drive')"
      ],
      "execution_count": 2,
      "outputs": [
        {
          "output_type": "stream",
          "name": "stdout",
          "text": [
            "Mounted at /content/drive\n"
          ]
        }
      ]
    },
    {
      "cell_type": "code",
      "source": [
        "import os\n",
        "import threading\n",
        "\n",
        "from flask import Flask, render_template, jsonify, request\n",
        "from pyngrok import ngrok\n",
        "\n",
        "from sqlalchemy import create_engine\n",
        "import pandas as pd\n",
        "import base64\n",
        "from io import BytesIO\n",
        "import matplotlib.pyplot as plt\n",
        "\n",
        "# Setup Flask and ngrok\n",
        "\n",
        "os.environ[\"FLASK_DEBUG\"] = \"true\"\n",
        "\n",
        "app = Flask(__name__, \n",
        "            template_folder = '/content/drive/MyDrive/templates',\n",
        "            static_folder  = '/content/drive/MyDrive/static'\n",
        "            )\n",
        "port = 5000\n",
        "\n",
        "# Open a ngrok tunnel to the HTTP server\n",
        "ngrok_authtoken = '2EYf3qVk9mi739HjPwSNZXWAtfy_4jF9NAhGqVVVJmm4YehPW'\n",
        "ngrok.set_auth_token(ngrok_authtoken)\n",
        "public_url = ngrok.connect(port).public_url\n",
        "print(f\" * ngrok tunnel '{public_url}' -> 'http://127.0.0.1:{port}'\")\n",
        "\n",
        "# Update any base URLs to use the public ngrok URL\n",
        "app.config[\"BASE_URL\"] = public_url\n",
        "\n",
        "# Setup a connection to the database\n",
        "conn_string = 'mysql+pymysql://{user}:{password}@{host}/{db}?charset={encoding}'.format(\n",
        "    host = 'db.ipeirotis.org', \n",
        "    user = 'student',\n",
        "    db = 'citibike_fall2017',\n",
        "    password = 'dwdstudent2015',\n",
        "    encoding = 'utf8mb4')\n",
        "engine = create_engine(conn_string)"
      ],
      "metadata": {
        "id": "Ad0WRcmO3RTm",
        "outputId": "de2aeaff-278a-4559-a9b7-9a66fe45fc7b",
        "colab": {
          "base_uri": "https://localhost:8080/"
        }
      },
      "execution_count": 1,
      "outputs": [
        {
          "output_type": "stream",
          "name": "stdout",
          "text": [
            " * ngrok tunnel 'http://bd58-35-243-186-0.ngrok.io' -> 'http://127.0.0.1:5000'\n"
          ]
        }
      ]
    },
    {
      "cell_type": "code",
      "source": [
        "@app.route('/')\n",
        "def home():\n",
        "    return render_template('search_stations.html')\n",
        "\n",
        "@app.route('/list_stations',  methods=['GET'])\n",
        "def list_stations():\n",
        "    return render_template(\"list_stations.html\")    "
      ],
      "metadata": {
        "id": "ERdrlBHy3aaK"
      },
      "execution_count": 2,
      "outputs": []
    },
    {
      "cell_type": "code",
      "source": [
        "@app.route('/citibike_api')\n",
        "def citibike_stations():\n",
        "\n",
        "  search_query = request.args.get('name')\n",
        "\n",
        "  sql = \"SELECT DISTINCT id, name, capacity, lat, lon  FROM status_fall2017\" \n",
        "  if search_query:\n",
        "    sql += \" WHERE name LIKE %(station_name_query)s\"\n",
        "\n",
        "  print(sql)\n",
        "  print(search_query)\n",
        "\n",
        "  with engine.connect() as con:\n",
        "    if search_query: params = {\"station_name_query\": '%'+search_query+'%' }\n",
        "    else: params = {}\n",
        "    \n",
        "    stations = pd.read_sql(sql, con=con, params=params)\n",
        "\n",
        "  list_of_stations = stations.to_dict(orient='records')\n",
        "\n",
        "  api_results = {\"stations\": list_of_stations}\n",
        "\n",
        "  # We JSON-ify our dictionary and return it as the API response\n",
        "  return jsonify(api_results)"
      ],
      "metadata": {
        "id": "Z0XyG5_U3eGX"
      },
      "execution_count": 3,
      "outputs": []
    },
    {
      "cell_type": "code",
      "source": [
        "@app.route('/station_map',  methods=['GET'])\n",
        "def station_map():\n",
        "\n",
        "    # Connect to the database, execute the query, and get back the results\n",
        "    sql = \"SELECT DISTINCT id, name, capacity, lat, lon  FROM status_fall2017\" \n",
        "    with engine.connect() as connection:  \n",
        "        stations = pd.read_sql(sql, con=connection)\n",
        "\n",
        "    fig, ax = plt.subplots()\n",
        "    ax = stations.plot(kind='scatter', x='lon', y='lat', figsize=(6,6), ax=ax)\n",
        "\n",
        "    buf = BytesIO()\n",
        "    fig.savefig(buf, format=\"png\")\n",
        "    # Embed the result in the html output.\n",
        "    data = base64.b64encode(buf.getbuffer()).decode(\"ascii\")\n",
        "\n",
        "    # Create the response. We will put the retrieved data as a list of\n",
        "    # dictionaries, under the key \"stations\".\n",
        "    results = {\"image\": data}\n",
        "\n",
        "    # We JSON-ify our dictionary and return it as the API response\n",
        "    return jsonify(results)"
      ],
      "metadata": {
        "id": "7aEI6-bS4JE2"
      },
      "execution_count": 4,
      "outputs": []
    },
    {
      "cell_type": "code",
      "metadata": {
        "id": "r2y9jsgqEKAI",
        "outputId": "92f4f6f3-0e83-4385-d4a0-523666535ce1",
        "colab": {
          "base_uri": "https://localhost:8080/",
          "height": 1000
        }
      },
      "source": [
        "# You can visit then https:///station_status?station_id=72\n",
        "# and see the results\n",
        "\n",
        "print(f\" * ngrok tunnel '{public_url}' -> 'http://127.0.0.1:{port}'\")\n",
        "app.run(use_reloader=False, port=port)"
      ],
      "execution_count": 5,
      "outputs": [
        {
          "output_type": "stream",
          "name": "stdout",
          "text": [
            " * ngrok tunnel 'http://bd58-35-243-186-0.ngrok.io' -> 'http://127.0.0.1:5000'\n",
            " * Serving Flask app '__main__'\n",
            " * Debug mode: on\n"
          ]
        },
        {
          "output_type": "stream",
          "name": "stderr",
          "text": [
            "INFO:werkzeug:\u001b[31m\u001b[1mWARNING: This is a development server. Do not use it in a production deployment. Use a production WSGI server instead.\u001b[0m\n",
            " * Running on http://127.0.0.1:5000\n",
            "INFO:werkzeug:\u001b[33mPress CTRL+C to quit\u001b[0m\n",
            "INFO:werkzeug:127.0.0.1 - - [03/Nov/2022 19:45:03] \"GET / HTTP/1.1\" 200 -\n",
            "INFO:werkzeug:127.0.0.1 - - [03/Nov/2022 19:45:03] \"\u001b[33mGET /favicon.ico HTTP/1.1\u001b[0m\" 404 -\n",
            "INFO:werkzeug:127.0.0.1 - - [03/Nov/2022 19:45:06] \"GET /list_stations?name=bleek HTTP/1.1\" 200 -\n"
          ]
        },
        {
          "output_type": "stream",
          "name": "stdout",
          "text": [
            "SELECT DISTINCT id, name, capacity, lat, lon  FROM status_fall2017 WHERE name LIKE %(station_name_query)s\n",
            "bleek\n"
          ]
        },
        {
          "output_type": "stream",
          "name": "stderr",
          "text": [
            "INFO:werkzeug:127.0.0.1 - - [03/Nov/2022 19:45:07] \"GET /citibike_api?name=bleek HTTP/1.1\" 200 -\n",
            "INFO:werkzeug:127.0.0.1 - - [03/Nov/2022 19:45:12] \"GET /list_stations?name=blee HTTP/1.1\" 200 -\n"
          ]
        },
        {
          "output_type": "stream",
          "name": "stdout",
          "text": [
            "SELECT DISTINCT id, name, capacity, lat, lon  FROM status_fall2017 WHERE name LIKE %(station_name_query)s\n",
            "blee\n"
          ]
        },
        {
          "output_type": "stream",
          "name": "stderr",
          "text": [
            "INFO:werkzeug:127.0.0.1 - - [03/Nov/2022 19:45:12] \"GET /citibike_api?name=blee HTTP/1.1\" 200 -\n",
            "INFO:werkzeug:127.0.0.1 - - [03/Nov/2022 19:45:13] \"GET /station_map HTTP/1.1\" 200 -\n",
            "INFO:werkzeug:127.0.0.1 - - [03/Nov/2022 19:54:14] \"GET /list_stations?name=re HTTP/1.1\" 200 -\n"
          ]
        },
        {
          "output_type": "stream",
          "name": "stdout",
          "text": [
            "SELECT DISTINCT id, name, capacity, lat, lon  FROM status_fall2017 WHERE name LIKE %(station_name_query)s\n",
            "re\n"
          ]
        },
        {
          "output_type": "stream",
          "name": "stderr",
          "text": [
            "INFO:werkzeug:127.0.0.1 - - [03/Nov/2022 19:54:15] \"GET /citibike_api?name=re HTTP/1.1\" 200 -\n",
            "INFO:werkzeug:127.0.0.1 - - [03/Nov/2022 19:54:16] \"GET /station_map HTTP/1.1\" 200 -\n"
          ]
        },
        {
          "output_type": "display_data",
          "data": {
            "text/plain": [
              "<Figure size 432x432 with 1 Axes>"
            ],
            "image/png": "[encoded data removed]"
          },
          "metadata": {
            "needs_background": "light"
          }
        },
        {
          "output_type": "display_data",
          "data": {
            "text/plain": [
              "<Figure size 432x432 with 1 Axes>"
            ],
            "image/png": "[encoded data removed]"
          },
          "metadata": {
            "needs_background": "light"
          }
        }
      ]
    },
    {
      "cell_type": "code",
      "metadata": {
        "id": "CpVnDZwwXQ3E"
      },
      "source": [],
      "execution_count": 5,
      "outputs": []
    },
    {
      "cell_type": "markdown",
      "metadata": {
        "id": "eBPVh5NWXjsr"
      },
      "source": [
        "**`search_stations.html`**\n",
        "\n",
        "```html\n",
        "<!DOCTYPE html>\n",
        "<html>\n",
        "\n",
        "<head>\n",
        "\t<link href=\"https://cdn.jsdelivr.net/npm/bootstrap@5.2.2/dist/css/bootstrap.min.css\" rel=\"stylesheet\" integrity=\"sha384-Zenh87qX5JnK2Jl0vWa8Ck2rdkQ2Bzep5IDxbcnCeuOxjzrPF/et3URy9Bv1WTRi\" crossorigin=\"anonymous\">\n",
        "\n",
        "\t<title>Search Citibike Stations</title>\n",
        "\n",
        "</head>\n",
        "\n",
        "<body>\n",
        "\t<div class=\"container\">\n",
        "\t\t<div class=\"panel panel-info\">\n",
        "\t\t\t<div class=\"panel-heading\" align=\"center\">\n",
        "\t\t\t\t<h1>\n",
        "\t\t\t\t\t<form action=\"/list_stations\">\n",
        "\t\t\t\t\t\tStation Name<br>\n",
        "\t\t\t\t\t\t<input type=\"text\" name=\"name\"><br>\n",
        "\t\t\t\t\t\t<input class=\"btn btn-primary\" type=\"submit\" value=\"Submit\">\n",
        "          \t\t\t\t</form>\n",
        "\t\t\t\t</h1>\n",
        "\t\t\t</div>\n",
        "\t\t</div>\n",
        "\t</div>\n",
        "</body>\n",
        "```"
      ]
    },
    {
      "cell_type": "markdown",
      "metadata": {
        "id": "CIyGCvBNX3cH"
      },
      "source": [
        "`citibike.html`\n",
        "\n",
        "```html\n",
        "<!DOCTYPE html>\n",
        "<html>\n",
        "<head>\n",
        "    <link rel=\"stylesheet\" href=\"https://stackpath.bootstrapcdn.com/bootstrap/4.1.3/css/bootstrap.min.css\" integrity=\"sha384-MCw98/SFnGE8fJT3GXwEOngsV7Zt27NXFoaoApmYm81iuXoPkFOJwJ8ERdknLPMO\" crossorigin=\"anonymous\">\n",
        "</head>\n",
        "<body>  \n",
        "  <div class=\"container\">\n",
        "    <div class=\"panel panel-info\">\n",
        "      <div class=\"panel-heading\">\n",
        "          <h1 class=\"panel-title\">Citibike Stations</h1>\n",
        "      </div>\n",
        "      <table  class=\"table table-striped table-bordered table-hover\">\n",
        "      <thead>\n",
        "          <tr> \n",
        "            <th>Station ID</th>\n",
        "            <th>Address</th>\n",
        "            <th>Capacity</th>\n",
        "            <th>Lon / Lat</th>\n",
        "          </tr>\n",
        "      </thead>\n",
        "      <tbody>\n",
        "          {% for station in stations %}    <!-- Fill table rows for each station --> \n",
        "              <tr>\n",
        "                  <td><a href=\"/station_status?station_id={{ station.station_id }}\">{{ station.station_id }}</a></td>\n",
        "                  <td><a href=\"/station_status?station_id={{ station.station_id }}\">{{ station.name }}</a></td>\n",
        "                  <td>{{ station.capacity }}</td>\n",
        "                  <td>{{ station.lon }}, {{ station.lat }}</td>\n",
        "              </tr>\n",
        "          {% endfor %}\n",
        "        </tbody>\n",
        "      </table>\n",
        "    </div>\n",
        "  </div>\n",
        "</body>\n",
        "</html>\n",
        "```"
      ]
    }
  ]
}