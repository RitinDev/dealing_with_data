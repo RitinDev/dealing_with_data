{
  "cells": [
    {
      "cell_type": "markdown",
      "metadata": {
        "id": "view-in-github",
        "colab_type": "text"
      },
      "source": [
        "<a href=\"https://colab.research.google.com/github/ipeirotis/dealing_with_data/blob/master/11-Flask/G-Using_Forms.ipynb\" target=\"_parent\"><img src=\"https://colab.research.google.com/assets/colab-badge.svg\" alt=\"Open In Colab\"/></a>"
      ]
    },
    {
      "cell_type": "markdown",
      "metadata": {
        "id": "TZKj-vRWynPj"
      },
      "source": [
        "# Using Forms"
      ]
    },
    {
      "cell_type": "markdown",
      "metadata": {
        "id": "GGEKwtaZynPr"
      },
      "source": [
        "Now let's see how we can use HTML forms to submit our own data.\n",
        "\n",
        "HTML forms allow us to get user entries and then use the submitted values as parameters in our code. (See [W3 Schools](https://www.w3schools.com/html/html_forms.asp) for more details.)\n",
        "\n",
        "Suppose that you want to have the ability to search the Citibike stations by their name, and get back a list of the stations that contain the search string. A simple HTML form that can do that is listed below. Save the file  `search_stations.html` in your `templates` folder, and add a new route in your webserver.py, so that you can get back this page, when you visit the main page of your website.\n"
      ]
    },
    {
      "cell_type": "markdown",
      "metadata": {
        "id": "Am3qco6WynPs"
      },
      "source": [
        "#### `search_stations.html`\n",
        "\n",
        "```html\n",
        "<!DOCTYPE html>\n",
        "<html>\n",
        "\n",
        "<head>\n",
        "    <link rel=\"stylesheet\" href=\"https://stackpath.bootstrapcdn.com/bootstrap/4.1.3/css/bootstrap.min.css\"\n",
        "        integrity=\"sha384-MCw98/SFnGE8fJT3GXwEOngsV7Zt27NXFoaoApmYm81iuXoPkFOJwJ8ERdknLPMO\" crossorigin=\"anonymous\">\n",
        "    <title>Search Citibike Stations</title>\n",
        "</head>\n",
        "\n",
        "<body>\n",
        "    <div class=\"container\">\n",
        "        <div class=\"panel panel-info\">\n",
        "            <div class=\"panel-heading\" align=\"center\">\n",
        "                <h1>\n",
        "                    <form action=\"/search\">\n",
        "                        Station Name<br>\n",
        "                        <input type=\"text\" name=\"name\"><br>\n",
        "                        <input class=\"btn btn-primary\" type=\"submit\" value=\"Submit\">\n",
        "          </form>\n",
        "                </h1>\n",
        "            </div>\n",
        "        </div>\n",
        "    </div>\n",
        "</body>\n",
        "```\n",
        "\n",
        "#### `webserver.py`\n",
        "\n",
        "```python\n",
        "@app.route('/')\n",
        "def home():\n",
        "    return render_template('search_stations.html')\n",
        "```"
      ]
    },
    {
      "cell_type": "markdown",
      "metadata": {
        "id": "Oaz1yMDoynPu"
      },
      "source": [
        "A key part of the form is the `action` script.\n",
        "\n",
        "This defines what is the URL that we should go to, when we submit the form. In our case, it will go to the `http://<your IP>:5000/search` with the parameter `name` having the value of the text that the user entered.\n",
        "\n",
        "For example, if we enter `Bleecker` on the form, the form will direct us to the URL `http://<your IP>:5000/search?name=Bleecker`.\n",
        "\n",
        "Now, we need to specify the corresponding route in our webserver (i.e., the `/search` route) and define what it will do.\n",
        "\n",
        "But first, we will allow our API to receive a parameter first, and allow to search the stations by name:"
      ]
    },
    {
      "cell_type": "code",
      "execution_count": null,
      "metadata": {
        "id": "-LLTsSOgynPw"
      },
      "outputs": [],
      "source": [
        "@app.route('/citibike_api')\n",
        "def citibike_stations():\n",
        "\n",
        "  search_query = request.args.get('name')\n",
        "\n",
        "  if search_query is None:\n",
        "    sql = \"SELECT DISTINCT id, name, capacity, lat, lon  FROM status_fall2017\" \n",
        "  else:\n",
        "    sql = '''SELECT DISTINCT id AS station_id, name, capacity, lat, lon\n",
        "                FROM status_fall2017\n",
        "                WHERE name LIKE %(station_name_query)s\n",
        "          '''\n",
        "\n",
        "  with engine.connect() as con:\n",
        "    stations = pd.read_sql(sql, con=con, params={\"station_name_query\": search_query})\n",
        "\n",
        "  list_of_stations = stations.to_dict(orient='records')\n",
        "\n",
        "  api_results = {\"stations\": list_of_stations}\n",
        "\n",
        "  # We JSON-ify our dictionary and return it as the API response\n",
        "  return jsonify(api_results)"
      ]
    }
  ],
  "metadata": {
    "kernelspec": {
      "display_name": "Python 3",
      "language": "python",
      "name": "python3"
    },
    "language_info": {
      "codemirror_mode": {
        "name": "ipython",
        "version": 3
      },
      "file_extension": ".py",
      "mimetype": "text/x-python",
      "name": "python",
      "nbconvert_exporter": "python",
      "pygments_lexer": "ipython3",
      "version": "3.6.6"
    },
    "colab": {
      "provenance": [],
      "include_colab_link": true
    }
  },
  "nbformat": 4,
  "nbformat_minor": 0
}