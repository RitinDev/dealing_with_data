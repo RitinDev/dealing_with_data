{
  "cells": [
    {
      "cell_type": "markdown",
      "metadata": {
        "id": "LY3jQ0zMkInh"
      },
      "source": [
        "# A Minimal Example of Loading a Dataset to a Database"
      ]
    },
    {
      "cell_type": "code",
      "source": [
        "!pip3 install -U -q PyMySQL sqlalchemy sql_magic"
      ],
      "metadata": {
        "id": "wnFsH02TktVl",
        "outputId": "5f3c6013-cc55-42de-adab-a33b1dc6529b",
        "colab": {
          "base_uri": "https://localhost:8080/"
        }
      },
      "execution_count": 4,
      "outputs": [
        {
          "output_type": "stream",
          "name": "stdout",
          "text": [
            "\u001b[?25l\r\u001b[K     |███████▌                        | 10 kB 19.0 MB/s eta 0:00:01\r\u001b[K     |███████████████                 | 20 kB 10.5 MB/s eta 0:00:01\r\u001b[K     |██████████████████████▍         | 30 kB 7.5 MB/s eta 0:00:01\r\u001b[K     |██████████████████████████████  | 40 kB 3.8 MB/s eta 0:00:01\r\u001b[K     |████████████████████████████████| 43 kB 1.4 MB/s \n",
            "\u001b[?25h"
          ]
        }
      ]
    },
    {
      "cell_type": "code",
      "execution_count": 2,
      "metadata": {
        "id": "Cv-hqc0kkInq"
      },
      "outputs": [],
      "source": [
        "import pandas as pd"
      ]
    },
    {
      "cell_type": "code",
      "execution_count": 3,
      "metadata": {
        "id": "SFprbS3RkInv"
      },
      "outputs": [],
      "source": [
        "from sqlalchemy import create_engine"
      ]
    },
    {
      "cell_type": "markdown",
      "metadata": {
        "id": "mCeIJwsNkInx"
      },
      "source": [
        "### Downloading Data and Putting in a Dataframe"
      ]
    },
    {
      "cell_type": "code",
      "source": [
        "!curl 'https://data.cityofnewyork.us/api/views/43nn-pn8j/rows.csv?accessType=DOWNLOAD' -o restaurants.csv"
      ],
      "metadata": {
        "id": "M1zK8hb7kbvS",
        "outputId": "8c7561d6-7dae-431e-fd1c-1a9e8291b375",
        "colab": {
          "base_uri": "https://localhost:8080/"
        }
      },
      "execution_count": 1,
      "outputs": [
        {
          "output_type": "stream",
          "name": "stdout",
          "text": [
            "  % Total    % Received % Xferd  Average Speed   Time    Time     Time  Current\n",
            "                                 Dload  Upload   Total   Spent    Left  Speed\n",
            "100  115M    0  115M    0     0  4095k      0 --:--:--  0:00:28 --:--:-- 4606k\n"
          ]
        }
      ]
    },
    {
      "cell_type": "code",
      "execution_count": 43,
      "metadata": {
        "id": "yr611YQJkInz"
      },
      "outputs": [],
      "source": [
        "# Read the CSV file\n",
        "df = pd.read_csv('restaurants.csv')"
      ]
    },
    {
      "cell_type": "code",
      "source": [
        "# Adding underscores in all column names\n",
        "cols = df.columns\n",
        "cols = cols.map(lambda x: x.replace(' ', '_').upper())\n",
        "df.columns = cols"
      ],
      "metadata": {
        "id": "D3BEnpDwmpvv"
      },
      "execution_count": 45,
      "outputs": []
    },
    {
      "cell_type": "code",
      "execution_count": 46,
      "metadata": {
        "id": "Q5wGqcEUkIn0"
      },
      "outputs": [],
      "source": [
        "# Some bookkeeping regarding datatypes\n",
        "df[\"INSPECTION_DATE\"] = pd.to_datetime(df[\"INSPECTION_DATE\"], format=\"%m/%d/%Y\")\n",
        "df[\"SCORE\"] = pd.to_numeric(df[\"SCORE\"])\n",
        "\n",
        "# Delete useless columns\n",
        "df = df.drop(['GRADE_DATE', 'RECORD_DATE'], axis='columns')"
      ]
    },
    {
      "cell_type": "markdown",
      "source": [
        "## Create MySQL Connection"
      ],
      "metadata": {
        "id": "9QqKfQZ2ky4r"
      }
    },
    {
      "cell_type": "code",
      "source": [
        "import os\n",
        "from sqlalchemy import create_engine\n",
        "\n",
        "# Connect to the MySQL, and use the \"public\" database\n",
        "conn_string = 'mysql+pymysql://{user}:{password}@{host}:{port}/{db}?charset=utf8'.format(\n",
        "    user     = 'student', \n",
        "    password = 'dwdstudent2015', \n",
        "    host     = 'db.ipeirotis.org', \n",
        "    port     = 3306, \n",
        "    encoding = 'utf-8',\n",
        "    db = 'public'\n",
        ")\n",
        "engine = create_engine(conn_string)"
      ],
      "metadata": {
        "id": "EbklRLuakklS"
      },
      "execution_count": 47,
      "outputs": []
    },
    {
      "cell_type": "markdown",
      "source": [
        "## Create the table for storing the data\n",
        "\n",
        "Although we can let Pandas create the table automatically, the choice of data types of not always great. It is better to manually define the data types for the database."
      ],
      "metadata": {
        "id": "1V74LuxWqz-5"
      }
    },
    {
      "cell_type": "code",
      "source": [
        "# Report the maximum string lengths for \n",
        "# the textual attributes. Useful when creating\n",
        "# a table in SQL.\n",
        "for c in df.columns.values:\n",
        "  if df.dtypes[c] == 'object': \n",
        "    print(c, df[c].str.len().max())\n"
      ],
      "metadata": {
        "id": "Qf0Tld8TrGVo",
        "outputId": "293184b7-034d-4e93-9e0d-0f520e3c5d19",
        "colab": {
          "base_uri": "https://localhost:8080/"
        }
      },
      "execution_count": 48,
      "outputs": [
        {
          "output_type": "stream",
          "name": "stdout",
          "text": [
            "DBA 95.0\n",
            "BORO 13\n",
            "BUILDING 10.0\n",
            "STREET 40.0\n",
            "PHONE 12.0\n",
            "CUISINE_DESCRIPTION 30.0\n",
            "ACTION 130.0\n",
            "VIOLATION_CODE 4.0\n",
            "VIOLATION_DESCRIPTION 360.0\n",
            "CRITICAL_FLAG 14\n",
            "GRADE 1.0\n",
            "INSPECTION_TYPE 59.0\n",
            "NTA 4.0\n"
          ]
        }
      ]
    },
    {
      "cell_type": "code",
      "execution_count": 50,
      "metadata": {
        "colab": {
          "base_uri": "https://localhost:8080/"
        },
        "id": "PFDaggHLkIn2",
        "outputId": "5cbbfce6-9c31-4577-eb57-2bcba6024b17"
      },
      "outputs": [
        {
          "output_type": "execute_result",
          "data": {
            "text/plain": [
              "<sqlalchemy.engine.cursor.LegacyCursorResult at 0x7f0b93eeb350>"
            ]
          },
          "metadata": {},
          "execution_count": 50
        }
      ],
      "source": [
        "drop_table_sql = '''\n",
        "DROP TABLE IF EXISTS inspections;\n",
        "'''\n",
        "engine.execute(drop_table_sql)\n",
        "\n",
        "\n",
        "create_table_sql = '''\n",
        "CREATE TABLE inspections (\n",
        "    CAMIS CHAR(8),\n",
        "    DBA VARCHAR(100),\n",
        "    BUILDING VARCHAR(10),\n",
        "    STREET VARCHAR(40),\n",
        "    ZIPCODE CHAR(5),\n",
        "    BORO VARCHAR(15),\n",
        "    PHONE CHAR(12),\n",
        "    CUISINE_DESCRIPTION VARCHAR(30),\n",
        "    LATITUDE FLOAT,\n",
        "    LONGITUDE FLOAT,\n",
        "    COMMUNITY_BOARD CHAR(3),\n",
        "    COUNCIL_DISTRICT CHAR(2),\n",
        "    CENSUS_TRACT CHAR(6),\n",
        "    BIN CHAR(7),\n",
        "    BBL CHAR(10),\n",
        "    NTA CHAR(4),\n",
        "    INSPECTION_DATE DATETIME,\n",
        "    ACTION VARCHAR(130),\n",
        "    GRADE CHAR(1),\n",
        "    INSPECTION_TYPE VARCHAR(60),\n",
        "    VIOLATION_CODE VARCHAR(10),\n",
        "    VIOLATION_DESCRIPTION VARCHAR(360),\n",
        "    CRITICAL_FLAG VARCHAR(15),\n",
        "    SCORE SMALLINT\n",
        ")  ENGINE=INNODB DEFAULT CHARSET=UTF8MB4;\n",
        "'''\n",
        "engine.execute(create_table_sql)"
      ]
    },
    {
      "cell_type": "markdown",
      "source": [
        "## Insert data to DB using the `to_sql` command"
      ],
      "metadata": {
        "id": "K3TNb60isD1O"
      }
    },
    {
      "cell_type": "code",
      "source": [
        "# Store the dataframe as a SQL table, using the to_sql command\n",
        "df.to_sql(name='inspections', # name the table \"inspections\"\n",
        "                   con=engine, # use the connection to MySQL created earlier\n",
        "                   if_exists='append', # we created the empty table above\n",
        "                   index=False, # do not write the index column in the database\n",
        "                   chunksize=1000 # write 1000 lines at a time\n",
        ")"
      ],
      "metadata": {
        "id": "wUsiP9Gto9qK"
      },
      "execution_count": 37,
      "outputs": []
    },
    {
      "cell_type": "code",
      "execution_count": 38,
      "metadata": {
        "colab": {
          "base_uri": "https://localhost:8080/",
          "height": 1000
        },
        "id": "v1tX_xYUkIn8",
        "outputId": "5674f7f8-26ea-4ba7-a65e-6e9dcee9bf1b"
      },
      "outputs": [
        {
          "output_type": "execute_result",
          "data": {
            "text/plain": [
              "       CAMIS                               DBA BUILDING                STREET  \\\n",
              "0   50046352             KENNEDY FRIED CHICKEN     1956         JEROME AVENUE   \n",
              "1   41644418                         BAGEL BIN     8610        JAMAICA AVENUE   \n",
              "2   41345052                  BROADWAY GOURMET      584              BROADWAY   \n",
              "3   50060875                    EL CONDE NUEVO     4139              BROADWAY   \n",
              "4   50083895  3D'S DELIGHT BAKERY & RESTAURANT     1377  EAST NEW YORK AVENUE   \n",
              "..       ...                               ...      ...                   ...   \n",
              "95  50110721                        TACOS GUEY       37      WEST   19 STREET   \n",
              "96  50059601                CAFE MORNING OF NY    15814         NORTHERN BLVD   \n",
              "97  40402397                    THE RIVER CLUB      447      EAST   52 STREET   \n",
              "98  50036483           THE RIDGEWOOD ALE HOUSE     5738            MYRTLE AVE   \n",
              "99  50006762                           DZIUPLA      194        BEDFORD AVENUE   \n",
              "\n",
              "   ZIPCODE       BORO       PHONE CUISINE_DESCRIPTION  LATITUDE  LONGITUDE  \\\n",
              "0    10453      Bronx  7184665118             Chicken   40.8514   -73.9095   \n",
              "1    11421     Queens  7184416669     Bagels/Pretzels   40.6926   -73.8578   \n",
              "2    10012  Manhattan  2129416566            American   40.7247   -73.9973   \n",
              "3    10033  Manhattan  2127810419             Spanish   40.8461   -73.9385   \n",
              "4    11212   Brooklyn  7189751121           Caribbean   40.6695   -73.9173   \n",
              "..     ...        ...         ...                 ...       ...        ...   \n",
              "95   10011  Manhattan  2129918222             Mexican   40.7396   -73.9927   \n",
              "96   11358     Queens  9172852072          Coffee/Tea   40.7634   -73.8071   \n",
              "97   10022  Manhattan  2127510100            American   40.7547   -73.9642   \n",
              "98   11385     Queens  7184564495            American   40.7005   -73.9023   \n",
              "99   11249   Brooklyn  7183886194              Polish   40.7175   -73.9581   \n",
              "\n",
              "    ...         BBL   NTA INSPECTION_DATE  \\\n",
              "0   ...  2028530022  BX41      2020-01-08   \n",
              "1   ...  4089230004  QN53      2020-02-13   \n",
              "2   ...  1005110008  MN24      2022-03-18   \n",
              "3   ...  1021420237  MN36      2021-08-10   \n",
              "4   ...  3014740045  BK79      2019-08-20   \n",
              "..  ...         ...   ...             ...   \n",
              "95  ...  1008210019  MN13      2021-08-10   \n",
              "96  ...  4052770025  QN51      2019-04-22   \n",
              "97  ...  1013640022  MN19      2022-03-31   \n",
              "98  ...  4035730018  QN20      2019-07-05   \n",
              "99  ...  3023270028  BK73      2018-10-18   \n",
              "\n",
              "                                               ACTION GRADE  \\\n",
              "0     Violations were cited in the following area(s).  None   \n",
              "1     Violations were cited in the following area(s).     B   \n",
              "2     Violations were cited in the following area(s).  None   \n",
              "3     Violations were cited in the following area(s).  None   \n",
              "4     Violations were cited in the following area(s).     B   \n",
              "..                                                ...   ...   \n",
              "95    Violations were cited in the following area(s).     A   \n",
              "96    Violations were cited in the following area(s).  None   \n",
              "97    Violations were cited in the following area(s).  None   \n",
              "98  No violations were recorded at the time of thi...  None   \n",
              "99    Violations were cited in the following area(s).  None   \n",
              "\n",
              "                                      INSPECTION_TYPE VIOLATION_CODE  \\\n",
              "0               Cycle Inspection / Initial Inspection            02B   \n",
              "1                    Cycle Inspection / Re-inspection            10B   \n",
              "2               Cycle Inspection / Initial Inspection            06D   \n",
              "3               Cycle Inspection / Initial Inspection            10B   \n",
              "4                    Cycle Inspection / Re-inspection            04N   \n",
              "..                                                ...            ...   \n",
              "95      Pre-permit (Operational) / Initial Inspection            10F   \n",
              "96              Cycle Inspection / Initial Inspection            06D   \n",
              "97              Cycle Inspection / Initial Inspection            06C   \n",
              "98  Administrative Miscellaneous / Initial Inspection           None   \n",
              "99              Cycle Inspection / Initial Inspection            06D   \n",
              "\n",
              "                                VIOLATION_DESCRIPTION CRITICAL_FLAG SCORE  \n",
              "0          Hot food item not held at or above 140º F.      Critical  18.0  \n",
              "1   Plumbing not properly installed or maintained;...  Not Critical  26.0  \n",
              "2   Food contact surface not properly washed, rins...      Critical  20.0  \n",
              "3   Plumbing not properly installed or maintained;...  Not Critical  22.0  \n",
              "4   Filth flies or food/refuse/sewage-associated (...      Critical  16.0  \n",
              "..                                                ...           ...   ...  \n",
              "95  Non-food contact surface improperly constructe...  Not Critical   4.0  \n",
              "96  Food contact surface not properly washed, rins...      Critical  21.0  \n",
              "97  Food not protected from potential source of co...      Critical  28.0  \n",
              "98              Current letter grade sign not posted.  Not Critical   NaN  \n",
              "99  Food contact surface not properly washed, rins...      Critical  23.0  \n",
              "\n",
              "[100 rows x 24 columns]"
            ],
            "text/html": [
              "\n",
              "  <div id=\"df-86c181b2-a3c6-4aff-9ec7-795b2f216a9c\">\n",
              "    <div class=\"colab-df-container\">\n",
              "      <div>\n",
              "<style scoped>\n",
              "    .dataframe tbody tr th:only-of-type {\n",
              "        vertical-align: middle;\n",
              "    }\n",
              "\n",
              "    .dataframe tbody tr th {\n",
              "        vertical-align: top;\n",
              "    }\n",
              "\n",
              "    .dataframe thead th {\n",
              "        text-align: right;\n",
              "    }\n",
              "</style>\n",
              "<table border=\"1\" class=\"dataframe\">\n",
              "  <thead>\n",
              "    <tr style=\"text-align: right;\">\n",
              "      <th></th>\n",
              "      <th>CAMIS</th>\n",
              "      <th>DBA</th>\n",
              "      <th>BUILDING</th>\n",
              "      <th>STREET</th>\n",
              "      <th>ZIPCODE</th>\n",
              "      <th>BORO</th>\n",
              "      <th>PHONE</th>\n",
              "      <th>CUISINE_DESCRIPTION</th>\n",
              "      <th>LATITUDE</th>\n",
              "      <th>LONGITUDE</th>\n",
              "      <th>...</th>\n",
              "      <th>BBL</th>\n",
              "      <th>NTA</th>\n",
              "      <th>INSPECTION_DATE</th>\n",
              "      <th>ACTION</th>\n",
              "      <th>GRADE</th>\n",
              "      <th>INSPECTION_TYPE</th>\n",
              "      <th>VIOLATION_CODE</th>\n",
              "      <th>VIOLATION_DESCRIPTION</th>\n",
              "      <th>CRITICAL_FLAG</th>\n",
              "      <th>SCORE</th>\n",
              "    </tr>\n",
              "  </thead>\n",
              "  <tbody>\n",
              "    <tr>\n",
              "      <th>0</th>\n",
              "      <td>50046352</td>\n",
              "      <td>KENNEDY FRIED CHICKEN</td>\n",
              "      <td>1956</td>\n",
              "      <td>JEROME AVENUE</td>\n",
              "      <td>10453</td>\n",
              "      <td>Bronx</td>\n",
              "      <td>7184665118</td>\n",
              "      <td>Chicken</td>\n",
              "      <td>40.8514</td>\n",
              "      <td>-73.9095</td>\n",
              "      <td>...</td>\n",
              "      <td>2028530022</td>\n",
              "      <td>BX41</td>\n",
              "      <td>2020-01-08</td>\n",
              "      <td>Violations were cited in the following area(s).</td>\n",
              "      <td>None</td>\n",
              "      <td>Cycle Inspection / Initial Inspection</td>\n",
              "      <td>02B</td>\n",
              "      <td>Hot food item not held at or above 140º F.</td>\n",
              "      <td>Critical</td>\n",
              "      <td>18.0</td>\n",
              "    </tr>\n",
              "    <tr>\n",
              "      <th>1</th>\n",
              "      <td>41644418</td>\n",
              "      <td>BAGEL BIN</td>\n",
              "      <td>8610</td>\n",
              "      <td>JAMAICA AVENUE</td>\n",
              "      <td>11421</td>\n",
              "      <td>Queens</td>\n",
              "      <td>7184416669</td>\n",
              "      <td>Bagels/Pretzels</td>\n",
              "      <td>40.6926</td>\n",
              "      <td>-73.8578</td>\n",
              "      <td>...</td>\n",
              "      <td>4089230004</td>\n",
              "      <td>QN53</td>\n",
              "      <td>2020-02-13</td>\n",
              "      <td>Violations were cited in the following area(s).</td>\n",
              "      <td>B</td>\n",
              "      <td>Cycle Inspection / Re-inspection</td>\n",
              "      <td>10B</td>\n",
              "      <td>Plumbing not properly installed or maintained;...</td>\n",
              "      <td>Not Critical</td>\n",
              "      <td>26.0</td>\n",
              "    </tr>\n",
              "    <tr>\n",
              "      <th>2</th>\n",
              "      <td>41345052</td>\n",
              "      <td>BROADWAY GOURMET</td>\n",
              "      <td>584</td>\n",
              "      <td>BROADWAY</td>\n",
              "      <td>10012</td>\n",
              "      <td>Manhattan</td>\n",
              "      <td>2129416566</td>\n",
              "      <td>American</td>\n",
              "      <td>40.7247</td>\n",
              "      <td>-73.9973</td>\n",
              "      <td>...</td>\n",
              "      <td>1005110008</td>\n",
              "      <td>MN24</td>\n",
              "      <td>2022-03-18</td>\n",
              "      <td>Violations were cited in the following area(s).</td>\n",
              "      <td>None</td>\n",
              "      <td>Cycle Inspection / Initial Inspection</td>\n",
              "      <td>06D</td>\n",
              "      <td>Food contact surface not properly washed, rins...</td>\n",
              "      <td>Critical</td>\n",
              "      <td>20.0</td>\n",
              "    </tr>\n",
              "    <tr>\n",
              "      <th>3</th>\n",
              "      <td>50060875</td>\n",
              "      <td>EL CONDE NUEVO</td>\n",
              "      <td>4139</td>\n",
              "      <td>BROADWAY</td>\n",
              "      <td>10033</td>\n",
              "      <td>Manhattan</td>\n",
              "      <td>2127810419</td>\n",
              "      <td>Spanish</td>\n",
              "      <td>40.8461</td>\n",
              "      <td>-73.9385</td>\n",
              "      <td>...</td>\n",
              "      <td>1021420237</td>\n",
              "      <td>MN36</td>\n",
              "      <td>2021-08-10</td>\n",
              "      <td>Violations were cited in the following area(s).</td>\n",
              "      <td>None</td>\n",
              "      <td>Cycle Inspection / Initial Inspection</td>\n",
              "      <td>10B</td>\n",
              "      <td>Plumbing not properly installed or maintained;...</td>\n",
              "      <td>Not Critical</td>\n",
              "      <td>22.0</td>\n",
              "    </tr>\n",
              "    <tr>\n",
              "      <th>4</th>\n",
              "      <td>50083895</td>\n",
              "      <td>3D'S DELIGHT BAKERY &amp; RESTAURANT</td>\n",
              "      <td>1377</td>\n",
              "      <td>EAST NEW YORK AVENUE</td>\n",
              "      <td>11212</td>\n",
              "      <td>Brooklyn</td>\n",
              "      <td>7189751121</td>\n",
              "      <td>Caribbean</td>\n",
              "      <td>40.6695</td>\n",
              "      <td>-73.9173</td>\n",
              "      <td>...</td>\n",
              "      <td>3014740045</td>\n",
              "      <td>BK79</td>\n",
              "      <td>2019-08-20</td>\n",
              "      <td>Violations were cited in the following area(s).</td>\n",
              "      <td>B</td>\n",
              "      <td>Cycle Inspection / Re-inspection</td>\n",
              "      <td>04N</td>\n",
              "      <td>Filth flies or food/refuse/sewage-associated (...</td>\n",
              "      <td>Critical</td>\n",
              "      <td>16.0</td>\n",
              "    </tr>\n",
              "    <tr>\n",
              "      <th>...</th>\n",
              "      <td>...</td>\n",
              "      <td>...</td>\n",
              "      <td>...</td>\n",
              "      <td>...</td>\n",
              "      <td>...</td>\n",
              "      <td>...</td>\n",
              "      <td>...</td>\n",
              "      <td>...</td>\n",
              "      <td>...</td>\n",
              "      <td>...</td>\n",
              "      <td>...</td>\n",
              "      <td>...</td>\n",
              "      <td>...</td>\n",
              "      <td>...</td>\n",
              "      <td>...</td>\n",
              "      <td>...</td>\n",
              "      <td>...</td>\n",
              "      <td>...</td>\n",
              "      <td>...</td>\n",
              "      <td>...</td>\n",
              "      <td>...</td>\n",
              "    </tr>\n",
              "    <tr>\n",
              "      <th>95</th>\n",
              "      <td>50110721</td>\n",
              "      <td>TACOS GUEY</td>\n",
              "      <td>37</td>\n",
              "      <td>WEST   19 STREET</td>\n",
              "      <td>10011</td>\n",
              "      <td>Manhattan</td>\n",
              "      <td>2129918222</td>\n",
              "      <td>Mexican</td>\n",
              "      <td>40.7396</td>\n",
              "      <td>-73.9927</td>\n",
              "      <td>...</td>\n",
              "      <td>1008210019</td>\n",
              "      <td>MN13</td>\n",
              "      <td>2021-08-10</td>\n",
              "      <td>Violations were cited in the following area(s).</td>\n",
              "      <td>A</td>\n",
              "      <td>Pre-permit (Operational) / Initial Inspection</td>\n",
              "      <td>10F</td>\n",
              "      <td>Non-food contact surface improperly constructe...</td>\n",
              "      <td>Not Critical</td>\n",
              "      <td>4.0</td>\n",
              "    </tr>\n",
              "    <tr>\n",
              "      <th>96</th>\n",
              "      <td>50059601</td>\n",
              "      <td>CAFE MORNING OF NY</td>\n",
              "      <td>15814</td>\n",
              "      <td>NORTHERN BLVD</td>\n",
              "      <td>11358</td>\n",
              "      <td>Queens</td>\n",
              "      <td>9172852072</td>\n",
              "      <td>Coffee/Tea</td>\n",
              "      <td>40.7634</td>\n",
              "      <td>-73.8071</td>\n",
              "      <td>...</td>\n",
              "      <td>4052770025</td>\n",
              "      <td>QN51</td>\n",
              "      <td>2019-04-22</td>\n",
              "      <td>Violations were cited in the following area(s).</td>\n",
              "      <td>None</td>\n",
              "      <td>Cycle Inspection / Initial Inspection</td>\n",
              "      <td>06D</td>\n",
              "      <td>Food contact surface not properly washed, rins...</td>\n",
              "      <td>Critical</td>\n",
              "      <td>21.0</td>\n",
              "    </tr>\n",
              "    <tr>\n",
              "      <th>97</th>\n",
              "      <td>40402397</td>\n",
              "      <td>THE RIVER CLUB</td>\n",
              "      <td>447</td>\n",
              "      <td>EAST   52 STREET</td>\n",
              "      <td>10022</td>\n",
              "      <td>Manhattan</td>\n",
              "      <td>2127510100</td>\n",
              "      <td>American</td>\n",
              "      <td>40.7547</td>\n",
              "      <td>-73.9642</td>\n",
              "      <td>...</td>\n",
              "      <td>1013640022</td>\n",
              "      <td>MN19</td>\n",
              "      <td>2022-03-31</td>\n",
              "      <td>Violations were cited in the following area(s).</td>\n",
              "      <td>None</td>\n",
              "      <td>Cycle Inspection / Initial Inspection</td>\n",
              "      <td>06C</td>\n",
              "      <td>Food not protected from potential source of co...</td>\n",
              "      <td>Critical</td>\n",
              "      <td>28.0</td>\n",
              "    </tr>\n",
              "    <tr>\n",
              "      <th>98</th>\n",
              "      <td>50036483</td>\n",
              "      <td>THE RIDGEWOOD ALE HOUSE</td>\n",
              "      <td>5738</td>\n",
              "      <td>MYRTLE AVE</td>\n",
              "      <td>11385</td>\n",
              "      <td>Queens</td>\n",
              "      <td>7184564495</td>\n",
              "      <td>American</td>\n",
              "      <td>40.7005</td>\n",
              "      <td>-73.9023</td>\n",
              "      <td>...</td>\n",
              "      <td>4035730018</td>\n",
              "      <td>QN20</td>\n",
              "      <td>2019-07-05</td>\n",
              "      <td>No violations were recorded at the time of thi...</td>\n",
              "      <td>None</td>\n",
              "      <td>Administrative Miscellaneous / Initial Inspection</td>\n",
              "      <td>None</td>\n",
              "      <td>Current letter grade sign not posted.</td>\n",
              "      <td>Not Critical</td>\n",
              "      <td>NaN</td>\n",
              "    </tr>\n",
              "    <tr>\n",
              "      <th>99</th>\n",
              "      <td>50006762</td>\n",
              "      <td>DZIUPLA</td>\n",
              "      <td>194</td>\n",
              "      <td>BEDFORD AVENUE</td>\n",
              "      <td>11249</td>\n",
              "      <td>Brooklyn</td>\n",
              "      <td>7183886194</td>\n",
              "      <td>Polish</td>\n",
              "      <td>40.7175</td>\n",
              "      <td>-73.9581</td>\n",
              "      <td>...</td>\n",
              "      <td>3023270028</td>\n",
              "      <td>BK73</td>\n",
              "      <td>2018-10-18</td>\n",
              "      <td>Violations were cited in the following area(s).</td>\n",
              "      <td>None</td>\n",
              "      <td>Cycle Inspection / Initial Inspection</td>\n",
              "      <td>06D</td>\n",
              "      <td>Food contact surface not properly washed, rins...</td>\n",
              "      <td>Critical</td>\n",
              "      <td>23.0</td>\n",
              "    </tr>\n",
              "  </tbody>\n",
              "</table>\n",
              "<p>100 rows × 24 columns</p>\n",
              "</div>\n",
              "      <button class=\"colab-df-convert\" onclick=\"convertToInteractive('df-86c181b2-a3c6-4aff-9ec7-795b2f216a9c')\"\n",
              "              title=\"Convert this dataframe to an interactive table.\"\n",
              "              style=\"display:none;\">\n",
              "        \n",
              "  <svg xmlns=\"http://www.w3.org/2000/svg\" height=\"24px\"viewBox=\"0 0 24 24\"\n",
              "       width=\"24px\">\n",
              "    <path d=\"M0 0h24v24H0V0z\" fill=\"none\"/>\n",
              "    <path d=\"M18.56 5.44l.94 2.06.94-2.06 2.06-.94-2.06-.94-.94-2.06-.94 2.06-2.06.94zm-11 1L8.5 8.5l.94-2.06 2.06-.94-2.06-.94L8.5 2.5l-.94 2.06-2.06.94zm10 10l.94 2.06.94-2.06 2.06-.94-2.06-.94-.94-2.06-.94 2.06-2.06.94z\"/><path d=\"M17.41 7.96l-1.37-1.37c-.4-.4-.92-.59-1.43-.59-.52 0-1.04.2-1.43.59L10.3 9.45l-7.72 7.72c-.78.78-.78 2.05 0 2.83L4 21.41c.39.39.9.59 1.41.59.51 0 1.02-.2 1.41-.59l7.78-7.78 2.81-2.81c.8-.78.8-2.07 0-2.86zM5.41 20L4 18.59l7.72-7.72 1.47 1.35L5.41 20z\"/>\n",
              "  </svg>\n",
              "      </button>\n",
              "      \n",
              "  <style>\n",
              "    .colab-df-container {\n",
              "      display:flex;\n",
              "      flex-wrap:wrap;\n",
              "      gap: 12px;\n",
              "    }\n",
              "\n",
              "    .colab-df-convert {\n",
              "      background-color: #E8F0FE;\n",
              "      border: none;\n",
              "      border-radius: 50%;\n",
              "      cursor: pointer;\n",
              "      display: none;\n",
              "      fill: #1967D2;\n",
              "      height: 32px;\n",
              "      padding: 0 0 0 0;\n",
              "      width: 32px;\n",
              "    }\n",
              "\n",
              "    .colab-df-convert:hover {\n",
              "      background-color: #E2EBFA;\n",
              "      box-shadow: 0px 1px 2px rgba(60, 64, 67, 0.3), 0px 1px 3px 1px rgba(60, 64, 67, 0.15);\n",
              "      fill: #174EA6;\n",
              "    }\n",
              "\n",
              "    [theme=dark] .colab-df-convert {\n",
              "      background-color: #3B4455;\n",
              "      fill: #D2E3FC;\n",
              "    }\n",
              "\n",
              "    [theme=dark] .colab-df-convert:hover {\n",
              "      background-color: #434B5C;\n",
              "      box-shadow: 0px 1px 3px 1px rgba(0, 0, 0, 0.15);\n",
              "      filter: drop-shadow(0px 1px 2px rgba(0, 0, 0, 0.3));\n",
              "      fill: #FFFFFF;\n",
              "    }\n",
              "  </style>\n",
              "\n",
              "      <script>\n",
              "        const buttonEl =\n",
              "          document.querySelector('#df-86c181b2-a3c6-4aff-9ec7-795b2f216a9c button.colab-df-convert');\n",
              "        buttonEl.style.display =\n",
              "          google.colab.kernel.accessAllowed ? 'block' : 'none';\n",
              "\n",
              "        async function convertToInteractive(key) {\n",
              "          const element = document.querySelector('#df-86c181b2-a3c6-4aff-9ec7-795b2f216a9c');\n",
              "          const dataTable =\n",
              "            await google.colab.kernel.invokeFunction('convertToInteractive',\n",
              "                                                     [key], {});\n",
              "          if (!dataTable) return;\n",
              "\n",
              "          const docLinkHtml = 'Like what you see? Visit the ' +\n",
              "            '<a target=\"_blank\" href=https://colab.research.google.com/notebooks/data_table.ipynb>data table notebook</a>'\n",
              "            + ' to learn more about interactive tables.';\n",
              "          element.innerHTML = '';\n",
              "          dataTable['output_type'] = 'display_data';\n",
              "          await google.colab.output.renderOutput(dataTable, element);\n",
              "          const docLink = document.createElement('div');\n",
              "          docLink.innerHTML = docLinkHtml;\n",
              "          element.appendChild(docLink);\n",
              "        }\n",
              "      </script>\n",
              "    </div>\n",
              "  </div>\n",
              "  "
            ]
          },
          "metadata": {},
          "execution_count": 38
        }
      ],
      "source": [
        "# And then we can just retrieve it from the database\n",
        "r = pd.read_sql(\"SELECT * FROM public.inspections LIMIT 100\", con=engine)\n",
        "r.head(100)"
      ]
    },
    {
      "cell_type": "code",
      "execution_count": null,
      "metadata": {
        "id": "VgW-4zt6kIn9"
      },
      "outputs": [],
      "source": [
        ""
      ]
    }
  ],
  "metadata": {
    "kernelspec": {
      "display_name": "Python 3",
      "language": "python",
      "name": "python3"
    },
    "language_info": {
      "codemirror_mode": {
        "name": "ipython",
        "version": 3
      },
      "file_extension": ".py",
      "mimetype": "text/x-python",
      "name": "python",
      "nbconvert_exporter": "python",
      "pygments_lexer": "ipython3",
      "version": "3.6.7"
    },
    "colab": {
      "name": "B2-Pandas_and_SQL-Inserting_Data.ipynb",
      "provenance": []
    }
  },
  "nbformat": 4,
  "nbformat_minor": 0
}