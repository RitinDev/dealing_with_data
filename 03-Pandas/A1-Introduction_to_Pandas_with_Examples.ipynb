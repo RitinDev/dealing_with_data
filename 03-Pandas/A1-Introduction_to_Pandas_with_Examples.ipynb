{
  "nbformat": 4,
  "nbformat_minor": 0,
  "metadata": {
    "colab": {
      "name": "A-Introduction_to_Pandas",
      "provenance": [],
      "toc_visible": true,
      "include_colab_link": true
    },
    "kernelspec": {
      "display_name": "Python 3",
      "language": "python",
      "name": "python3"
    },
    "language_info": {
      "codemirror_mode": {
        "name": "ipython",
        "version": 3
      },
      "file_extension": ".py",
      "mimetype": "text/x-python",
      "name": "python",
      "nbconvert_exporter": "python",
      "pygments_lexer": "ipython3",
      "version": "3.8.5"
    }
  },
  "cells": [
    {
      "cell_type": "markdown",
      "metadata": {
        "id": "view-in-github",
        "colab_type": "text"
      },
      "source": [
        "<a href=\"https://colab.research.google.com/github/ipeirotis/dealing_with_data/blob/master/03-Pandas/A1-Introduction_to_Pandas_with_Examples.ipynb\" target=\"_parent\"><img src=\"https://colab.research.google.com/assets/colab-badge.svg\" alt=\"Open In Colab\"/></a>"
      ]
    },
    {
      "cell_type": "markdown",
      "metadata": {
        "id": "2fdYUrR2RPLK"
      },
      "source": [
        "# Introduction to Pandas"
      ]
    },
    {
      "cell_type": "markdown",
      "metadata": {
        "id": "ycUTUOp0RPLL"
      },
      "source": [
        "## Setup and preliminaries"
      ]
    },
    {
      "cell_type": "markdown",
      "metadata": {
        "id": "ze19_Zd2RPLM"
      },
      "source": [
        "We start this notebook by typing a \"magic\" command that allows iPython notebooks to display plots directly in the browser."
      ]
    },
    {
      "cell_type": "code",
      "metadata": {
        "id": "KZt6cUxCRPLN"
      },
      "source": [
        "# Render our plots inline\n",
        "%matplotlib inline\n",
        "%config InlineBackend.figure_format = 'retina'"
      ],
      "execution_count": 1,
      "outputs": []
    },
    {
      "cell_type": "markdown",
      "metadata": {
        "id": "SPK-fH_vRPLR"
      },
      "source": [
        "In order to read and process files, we are going to use a very powerful, and widely used Python library, called pandas. So, our next step is to import the pandas library in Python, and also import the library matplotlib for generating plots:"
      ]
    },
    {
      "cell_type": "code",
      "metadata": {
        "id": "rs9khdOxRPLS"
      },
      "source": [
        "import pandas as pd\n",
        "import numpy as np\n",
        "import matplotlib\n",
        "import matplotlib.pyplot as plt\n",
        "import seaborn as sns"
      ],
      "execution_count": 2,
      "outputs": []
    },
    {
      "cell_type": "markdown",
      "metadata": {
        "id": "K2KzbTtORPLZ"
      },
      "source": [
        "And we type some code to simply change the visual style of the plots. (The code below is optional and not necessary, and for now you do not need to understand what exactly is happening.)"
      ]
    },
    {
      "cell_type": "code",
      "metadata": {
        "id": "enddmxxDRPLa"
      },
      "source": [
        "# Make the graphs a bit bigger\n",
        "matplotlib.style.use([\"seaborn-talk\", \"seaborn-ticks\", \"seaborn-whitegrid\"])"
      ],
      "execution_count": 3,
      "outputs": []
    },
    {
      "cell_type": "markdown",
      "metadata": {
        "id": "Ou04bj1STXa4"
      },
      "source": [
        "# Loading Data"
      ]
    },
    {
      "cell_type": "markdown",
      "metadata": {
        "id": "zRkwgJ2BRPLl"
      },
      "source": [
        "## From CSV Files"
      ]
    },
    {
      "cell_type": "markdown",
      "metadata": {
        "id": "3YF27gS9RPLl"
      },
      "source": [
        "We will use a dataset with [restaurant inspection results in NYC](https://data.cityofnewyork.us/Health/DOHMH-New-York-City-Restaurant-Inspection-Results/43nn-pn8j).\n",
        "\n",
        "We fetch it by executing the following command:"
      ]
    },
    {
      "cell_type": "code",
      "metadata": {
        "id": "h5GO33l5RPLm",
        "outputId": "f6e2c42b-d498-4496-f99e-aa59edfc1ded",
        "colab": {
          "base_uri": "https://localhost:8080/"
        }
      },
      "source": [
        "# Fetches the most recent dataset\n",
        "!curl 'https://data.cityofnewyork.us/api/views/43nn-pn8j/rows.csv?accessType=DOWNLOAD' -o restaurant.csv"
      ],
      "execution_count": 4,
      "outputs": [
        {
          "output_type": "stream",
          "text": [
            "  % Total    % Received % Xferd  Average Speed   Time    Time     Time  Current\n",
            "                                 Dload  Upload   Total   Spent    Left  Speed\n",
            "100  174M    0  174M    0     0  7118k      0 --:--:--  0:00:25 --:--:-- 7797k\n"
          ],
          "name": "stdout"
        }
      ]
    },
    {
      "cell_type": "markdown",
      "metadata": {
        "id": "WNsW_56mRPLq"
      },
      "source": [
        "We want to be able to read and process this file within Python. The pandas library has a very convenient method `read_csv` which reads the file, and returns back a variable that contains its contents."
      ]
    },
    {
      "cell_type": "code",
      "metadata": {
        "id": "n0_mc9_6RPLq"
      },
      "source": [
        "import pandas as pd\n",
        "\n",
        "restaurants = pd.read_csv(\n",
        "    \"restaurant.csv\",\n",
        "    encoding=\"utf_8\",\n",
        "    dtype=\"unicode\",\n",
        "    parse_dates=True,\n",
        "    infer_datetime_format=True,\n",
        "    low_memory=False,\n",
        ")"
      ],
      "execution_count": 5,
      "outputs": []
    },
    {
      "cell_type": "markdown",
      "metadata": {
        "id": "13OxAtwORPLt"
      },
      "source": [
        "When you read a CSV, you get back a kind of object called a DataFrame, which is made up of rows and columns. You get columns out of a DataFrame the same way you get elements out of a dictionary. Let's take a look at how the object looks like:"
      ]
    },
    {
      "cell_type": "code",
      "metadata": {
        "id": "kHawKZ5fRPLu"
      },
      "source": [
        "restaurants.head(5)"
      ],
      "execution_count": null,
      "outputs": []
    },
    {
      "cell_type": "markdown",
      "metadata": {
        "id": "wJyyVRCORPLz"
      },
      "source": [
        "The read_csv method has many options, and you can read further in the [online documentation](http://pandas.pydata.org/pandas-docs/stable/generated/pandas.io.parsers.read_csv.html)."
      ]
    },
    {
      "cell_type": "markdown",
      "metadata": {
        "id": "EZIRsPfkbFRN"
      },
      "source": [
        "# Data Types and Conversions"
      ]
    },
    {
      "cell_type": "markdown",
      "metadata": {
        "id": "9-iZUdU_bFRO"
      },
      "source": [
        "We can also check the data types for each column"
      ]
    },
    {
      "cell_type": "code",
      "metadata": {
        "id": "4bsnaxMvbFRO"
      },
      "source": [
        "restaurants.dtypes"
      ],
      "execution_count": null,
      "outputs": []
    },
    {
      "cell_type": "markdown",
      "metadata": {
        "id": "205YdxR7bFRO"
      },
      "source": [
        "We can use the method \"describe()\" to get a quick overview of the data in the dataframe."
      ]
    },
    {
      "cell_type": "code",
      "metadata": {
        "id": "dgtjukEUbFRO"
      },
      "source": [
        "restaurants.describe()"
      ],
      "execution_count": null,
      "outputs": []
    },
    {
      "cell_type": "code",
      "metadata": {
        "id": "AqJxEPXRbFRO"
      },
      "source": [
        "# Same as above, but the .T command transposes the table\n",
        "restaurants.describe().T"
      ],
      "execution_count": null,
      "outputs": []
    },
    {
      "cell_type": "markdown",
      "metadata": {
        "id": "eHC1TUZbbFRP"
      },
      "source": [
        "The `object` type is a string. For many of these, we would like to change the data types for a few columns, using the `pd.to_numeric` and `pd.to_datetime` functions. We examine how to convert data types below."
      ]
    },
    {
      "cell_type": "markdown",
      "metadata": {
        "id": "F8ydX8BvbFRP"
      },
      "source": [
        "### Converting Data Types to Numeric"
      ]
    },
    {
      "cell_type": "markdown",
      "metadata": {
        "id": "-vgNMzSLbFRP"
      },
      "source": [
        "The `object` type is a string. When we want to convert an object to numeric, we can use the `pd.to_numeric` function, as shown below:"
      ]
    },
    {
      "cell_type": "code",
      "metadata": {
        "id": "6-kwPiYgbFRP",
        "outputId": "62d805ad-7fce-498c-ce0f-e141e1497a1a",
        "colab": {
          "base_uri": "https://localhost:8080/"
        }
      },
      "source": [
        "restaurants[\"SCORE\"] = pd.to_numeric(restaurants[\"SCORE\"])\n",
        "restaurants[\"Latitude\"] = pd.to_numeric(restaurants[\"Latitude\"])\n",
        "restaurants[\"Longitude\"] = pd.to_numeric(restaurants[\"Longitude\"])\n",
        "restaurants.dtypes"
      ],
      "execution_count": 47,
      "outputs": [
        {
          "output_type": "execute_result",
          "data": {
            "text/plain": [
              "CAMIS                            object\n",
              "DBA                              object\n",
              "BORO                             object\n",
              "BUILDING                         object\n",
              "STREET                           object\n",
              "ZIPCODE                          object\n",
              "PHONE                            object\n",
              "CUISINE DESCRIPTION              object\n",
              "INSPECTION DATE          datetime64[ns]\n",
              "ACTION                           object\n",
              "VIOLATION CODE                   object\n",
              "VIOLATION DESCRIPTION            object\n",
              "CRITICAL FLAG                    object\n",
              "SCORE                           float64\n",
              "GRADE                            object\n",
              "GRADE DATE               datetime64[ns]\n",
              "RECORD DATE              datetime64[ns]\n",
              "INSPECTION TYPE                  object\n",
              "Latitude                        float64\n",
              "Longitude                       float64\n",
              "Community Board                  object\n",
              "Council District                 object\n",
              "Census Tract                     object\n",
              "BIN                              object\n",
              "BBL                              object\n",
              "NTA                              object\n",
              "dtype: object"
            ]
          },
          "metadata": {
            "tags": []
          },
          "execution_count": 47
        }
      ]
    },
    {
      "cell_type": "markdown",
      "metadata": {
        "id": "wUJ3feX4jp3A"
      },
      "source": [
        "###  Converting Data to Dates"
      ]
    },
    {
      "cell_type": "markdown",
      "metadata": {
        "id": "qnWM14k4RPMQ"
      },
      "source": [
        "Now let's convert the dates columns into the appropriate data types. Let's take a look at a few dates."
      ]
    },
    {
      "cell_type": "code",
      "metadata": {
        "id": "Kgt0jCuwbFRQ"
      },
      "source": [
        "restaurants[\"GRADE DATE\"] = pd.to_datetime(restaurants[\"GRADE DATE\"])\n",
        "restaurants[\"RECORD DATE\"] = pd.to_datetime(restaurants[\"RECORD DATE\"])\n",
        "restaurants[\"INSPECTION DATE\"] = pd.to_datetime(restaurants[\"INSPECTION DATE\"])"
      ],
      "execution_count": 46,
      "outputs": []
    },
    {
      "cell_type": "markdown",
      "metadata": {
        "id": "Nz57tm7GRPMT"
      },
      "source": [
        "#### Note\n",
        "\n",
        "\n",
        "In tricky cases, we may need to pass the `format` parameter, specifying the formatting of the date. For that, we need to understand first how to [parse dates using the Python conventions](https://docs.python.org/3/library/datetime.html#strftime-and-strptime-behavior).\n"
      ]
    },
    {
      "cell_type": "markdown",
      "metadata": {
        "id": "JlxRdtyRbFRQ"
      },
      "source": [
        "### Converting Data to Categorical Variables\n",
        "\n",
        "This is less important, but sometimes we want to specify variables to be \"Categorical\". This is most commonly useful when we have variables that have an implicit order (e.g., the A/B/C grade of the restaurant)."
      ]
    },
    {
      "cell_type": "code",
      "metadata": {
        "id": "HSsdFQCFbFRR"
      },
      "source": [
        "restaurants[\"BORO\"] = pd.Categorical(restaurants[\"BORO\"], ordered=False)\n",
        "restaurants[\"GRADE\"] = pd.Categorical(\n",
        "    restaurants[\"GRADE\"], categories=[\"A\", \"B\", \"C\"], ordered=True\n",
        ")\n",
        "restaurants[\"VIOLATION CODE\"] = pd.Categorical(\n",
        "    restaurants[\"VIOLATION CODE\"], ordered=False\n",
        ")\n",
        "restaurants[\"CRITICAL FLAG\"] = pd.Categorical(\n",
        "    restaurants[\"CRITICAL FLAG\"], ordered=False\n",
        ")\n",
        "restaurants[\"ACTION\"] = pd.Categorical(restaurants[\"ACTION\"], ordered=False)\n",
        "restaurants[\"CUISINE DESCRIPTION\"] = pd.Categorical(\n",
        "    restaurants[\"CUISINE DESCRIPTION\"], ordered=False\n",
        ")\n",
        "\n",
        "restaurants[\"INSPECTION TYPE\"] = pd.Categorical(\n",
        "    restaurants[\"INSPECTION TYPE\"], ordered=False\n",
        ")\n",
        "\n",
        "restaurants.dtypes"
      ],
      "execution_count": null,
      "outputs": []
    },
    {
      "cell_type": "code",
      "metadata": {
        "id": "9XOmLIFibTMj"
      },
      "source": [
        ""
      ],
      "execution_count": null,
      "outputs": []
    },
    {
      "cell_type": "markdown",
      "metadata": {
        "id": "_nLcGpcDRPLz"
      },
      "source": [
        "## Descriptive statistics\n",
        "\n"
      ]
    },
    {
      "cell_type": "markdown",
      "metadata": {
        "id": "4AIX3fGLRPL7"
      },
      "source": [
        "### Descriptive Statistics for Numeric Variables\n"
      ]
    },
    {
      "cell_type": "markdown",
      "metadata": {
        "id": "_44IGXw4RPL_"
      },
      "source": [
        "#### Basic descriptive statistics for numeric variables\n",
        "\n",
        "Given that SCORE is a numeric variable, we can get more detailed descriptive statistics for the variable using the `.describe()` command:"
      ]
    },
    {
      "cell_type": "code",
      "metadata": {
        "id": "91cmXd7FRPL_"
      },
      "source": [
        "restaurants[\"SCORE\"].describe()"
      ],
      "execution_count": null,
      "outputs": []
    },
    {
      "cell_type": "markdown",
      "metadata": {
        "id": "GfpyQuyGRPMC"
      },
      "source": [
        "And now that SCORE is a numeric variable, we can examine its distribution by using the `hist` command of Pandas, which creates a histogram. (The histogram is lso available as `plot.hist`, or `plot(kind='hist'))`.)"
      ]
    },
    {
      "cell_type": "code",
      "metadata": {
        "id": "0Qs50xHYRPMC"
      },
      "source": [
        "restaurants[\"SCORE\"].hist()"
      ],
      "execution_count": null,
      "outputs": []
    },
    {
      "cell_type": "markdown",
      "metadata": {
        "id": "AqWLiM1GRPME"
      },
      "source": [
        "By default, the histogram has ~10 bars in out plot. We can change the resolution of the histogram using the `bins` variable. Larger number of `bins` allow for higher resolution, but if we increase the number too much, many bins end up having very few, or no data points. For example, experiment with changing the balue of bins below, and change the value from 50 to something bigger."
      ]
    },
    {
      "cell_type": "code",
      "metadata": {
        "id": "Ham9TxYoRPMF"
      },
      "source": [
        "restaurants[\"SCORE\"].hist(bins=50)"
      ],
      "execution_count": null,
      "outputs": []
    },
    {
      "cell_type": "code",
      "metadata": {
        "id": "z6nkNDoORPMK"
      },
      "source": [
        "# A quick exposure to various options of the \"hist\" command\n",
        "restaurants[\"SCORE\"].hist(\n",
        "    bins=50,  # use 50 bars\n",
        "    range=(0, 50),  # x-axis from 0 to 50\n",
        "    density=True,  # show normalized count (density=True), or raw counts (density= False)\n",
        "    figsize=(15, 5),  # controls the size of the plot\n",
        "    alpha=0.8,  # make the plot 20% transparent\n",
        ")"
      ],
      "execution_count": null,
      "outputs": []
    },
    {
      "cell_type": "markdown",
      "metadata": {
        "id": "QqX3BxknRPMM"
      },
      "source": [
        "#### Kernel Density Estimation (KDE)\n",
        "\n",
        "An alternative to histograms is to use the **kernel density**, which estimates a continuous function, instead of the bucketized counts, which tends to be discontunuous and bumpy. We can access this usind the `.plot(kind='kde')` command:"
      ]
    },
    {
      "cell_type": "code",
      "metadata": {
        "id": "YDXan_BCRPMN"
      },
      "source": [
        "# This plots the density of a numeric attribute\n",
        "# kde = kernel density estimation\n",
        "restaurants[\"SCORE\"].plot(kind=\"kde\", color=\"Black\", xlim=(0, 50), figsize=(15, 5))"
      ],
      "execution_count": null,
      "outputs": []
    },
    {
      "cell_type": "markdown",
      "metadata": {
        "id": "CHNYw_8YjcyR"
      },
      "source": [
        "#### Extra: Combining plots\n",
        "\n",
        "Just as a quick note, we can actually easily combine plots in Pandas, by saving a plot in a variable, and then passing the parameter `ax = ....` in the new figure that we are creating. That `ax` parameter indicates that we want to plot the new chart on top of the plot specified in the `ax` parameter."
      ]
    },
    {
      "cell_type": "code",
      "metadata": {
        "id": "GdbTISRojJsN"
      },
      "source": [
        "# We save the plot in the variable \"histogram_figure\"\n",
        "histogram_figure = restaurants[\"SCORE\"].hist(\n",
        "    bins=50,  # use 50 bars\n",
        "    range=(0, 50),  # x-axis from 0 to 50\n",
        "    density=True,  # show normalized count (density=True), or raw counts (density= False)\n",
        "    figsize=(15, 5),  # controls the size of the plot\n",
        "    alpha=0.8,  # make the plot 20% transparent\n",
        ")\n",
        "\n",
        "# To combine the plots, we pass the ax = histogram_figure parameter\n",
        "restaurants[\"SCORE\"].plot(\n",
        "    kind=\"kde\", color=\"Black\", xlim=(0, 75), figsize=(15, 5), ax=histogram_figure\n",
        ")"
      ],
      "execution_count": null,
      "outputs": []
    },
    {
      "cell_type": "markdown",
      "metadata": {
        "id": "4vcYE-MURPMP"
      },
      "source": [
        "### Descriptive Statistics for Dates\n"
      ]
    },
    {
      "cell_type": "code",
      "metadata": {
        "id": "sXvztpgJRPMb"
      },
      "source": [
        "restaurants[[\"INSPECTION DATE\", \"GRADE DATE\", \"RECORD DATE\"]].describe(datetime_is_numeric=True)"
      ],
      "execution_count": null,
      "outputs": []
    },
    {
      "cell_type": "code",
      "metadata": {
        "id": "Vr13GaTubFRV"
      },
      "source": [
        "restaurants[\"INSPECTION DATE\"].describe(datetime_is_numeric=True)"
      ],
      "execution_count": null,
      "outputs": []
    },
    {
      "cell_type": "code",
      "metadata": {
        "id": "EVqJmxWcbFRV"
      },
      "source": [
        "restaurants[\"GRADE DATE\"].describe(datetime_is_numeric=True)"
      ],
      "execution_count": null,
      "outputs": []
    },
    {
      "cell_type": "code",
      "metadata": {
        "id": "R7Zxt8zQbFRW"
      },
      "source": [
        "restaurants[\"RECORD DATE\"].describe(datetime_is_numeric=True)"
      ],
      "execution_count": null,
      "outputs": []
    },
    {
      "cell_type": "markdown",
      "metadata": {
        "id": "5JJJB4dERPMd"
      },
      "source": [
        "#### Exercise\n",
        "\n",
        "* Plot a histogram for `INSPECTION DATE`, `GRADE DATE`, `RECORD DATE`. What do you see?\n",
        "* Try modifying the `bins` parameter. What are the results?\n",
        "* The `range=(start, finish)` command is often useful, when we want to focus on a particular part of the dataset. Try using that for  `INSPECTION DATE` to limit the dates to be between 1/1/2016 and 04/30/2020."
      ]
    },
    {
      "cell_type": "code",
      "metadata": {
        "id": "MxRHvWPxRPMm"
      },
      "source": [
        "# your code here"
      ],
      "execution_count": null,
      "outputs": []
    },
    {
      "cell_type": "markdown",
      "metadata": {
        "id": "G8XqYeBbRPMo",
        "solution2": "hidden",
        "solution2_first": true
      },
      "source": [
        "#### Solution"
      ]
    },
    {
      "cell_type": "code",
      "metadata": {
        "id": "ds2zDG6xRPMp",
        "solution2": "hidden"
      },
      "source": [
        "# Not very appealing\n",
        "restaurants[\"INSPECTION DATE\"].hist()"
      ],
      "execution_count": null,
      "outputs": []
    },
    {
      "cell_type": "code",
      "metadata": {
        "id": "Kpwgv7vVRPMr",
        "solution2": "hidden"
      },
      "source": [
        "restaurants[\"GRADE DATE\"].hist()"
      ],
      "execution_count": null,
      "outputs": []
    },
    {
      "cell_type": "code",
      "metadata": {
        "id": "JcBGiZ0pRPMt",
        "solution2": "hidden"
      },
      "source": [
        "x_start = pd.to_datetime(\"2016-01-01\")\n",
        "x_end = pd.to_datetime(\"2021-05-31\")\n",
        "bins = (x_end - x_start) / np.timedelta64(1, \"M\")  # one bin per month\n",
        "\n",
        "restaurants[\"INSPECTION DATE\"].hist(\n",
        "    range=(\n",
        "        x_start,\n",
        "        x_end,\n",
        "    ),  # limit the range of dates, ignore the 1/1/1990 faulty valye\n",
        "    bins=round(bins),  # number of months in the range -- computed manually\n",
        "    figsize=(15, 5),  # resize 15-width, 5-height\n",
        ")"
      ],
      "execution_count": null,
      "outputs": []
    },
    {
      "cell_type": "code",
      "metadata": {
        "id": "K_IHJhzPRPMw",
        "solution2": "hidden"
      },
      "source": [
        "restaurants[\"GRADE DATE\"].hist(\n",
        "    range=(\n",
        "        x_start,\n",
        "        x_end,\n",
        "    ),  # limit the range of dates, ignore the 1/1/1990 faulty valye\n",
        "    bins=round(bins),  # number of months in the range -- computed manually\n",
        "    figsize=(15, 5),  # resize 15-width, 5-height\n",
        ")"
      ],
      "execution_count": null,
      "outputs": []
    },
    {
      "cell_type": "markdown",
      "metadata": {
        "id": "dsAgjwRyRPM7"
      },
      "source": [
        "### Descriptive Statistics for Categorical/string columns"
      ]
    },
    {
      "cell_type": "markdown",
      "metadata": {
        "id": "gRaEBS-GRPM7"
      },
      "source": [
        "We can also get quick statistics about the common values that appear in each column:"
      ]
    },
    {
      "cell_type": "code",
      "metadata": {
        "id": "8iZZ5ERvRPM8"
      },
      "source": [
        "restaurants[\"DBA\"].value_counts()"
      ],
      "execution_count": null,
      "outputs": []
    },
    {
      "cell_type": "code",
      "metadata": {
        "id": "syGbdu-9RPM-"
      },
      "source": [
        "restaurants[\"CUISINE DESCRIPTION\"].value_counts()"
      ],
      "execution_count": null,
      "outputs": []
    },
    {
      "cell_type": "markdown",
      "metadata": {
        "id": "EzHAljAjRPNA"
      },
      "source": [
        "And we can use the \"plot\" command to plot the resulting histogram. (More details at http://pandas.pydata.org/pandas-docs/stable/visualization.html) We also revisit plotting below."
      ]
    },
    {
      "cell_type": "code",
      "metadata": {
        "id": "QUlBxouPRPNB"
      },
      "source": [
        "restaurants[\"CUISINE DESCRIPTION\"].value_counts()[:20].plot(kind=\"barh\")"
      ],
      "execution_count": null,
      "outputs": []
    },
    {
      "cell_type": "code",
      "metadata": {
        "id": "rAncl0ibRPNF"
      },
      "source": [
        "popular = restaurants[\"CUISINE DESCRIPTION\"].value_counts()\n",
        "popular"
      ],
      "execution_count": null,
      "outputs": []
    },
    {
      "cell_type": "code",
      "metadata": {
        "id": "FtJCxPvtRPNY"
      },
      "source": [
        "popular = restaurants[\"CUISINE DESCRIPTION\"].value_counts()\n",
        "popular[:20].plot(kind=\"barh\")"
      ],
      "execution_count": null,
      "outputs": []
    },
    {
      "cell_type": "code",
      "metadata": {
        "id": "27wAw1epbFRZ"
      },
      "source": [
        "# We can invert the list by starting at element 19 (the 20th element)\n",
        "# and then go to the beginning of the list going backwards (the :-1 at the end)\n",
        "popular[19::-1].plot(kind=\"barh\")"
      ],
      "execution_count": null,
      "outputs": []
    },
    {
      "cell_type": "code",
      "metadata": {
        "id": "UzD-ebpzRPNd"
      },
      "source": [
        "restaurants[\"VIOLATION CODE\"].head(5)"
      ],
      "execution_count": null,
      "outputs": []
    },
    {
      "cell_type": "code",
      "metadata": {
        "id": "BpqTQf9iRPNj"
      },
      "source": [
        "violation_counts = restaurants[\"VIOLATION CODE\"].value_counts()\n",
        "violation_counts[0:10]"
      ],
      "execution_count": null,
      "outputs": []
    },
    {
      "cell_type": "code",
      "metadata": {
        "id": "synFeTGiRPNq"
      },
      "source": [
        "violation_counts[0:20].plot(kind=\"bar\")"
      ],
      "execution_count": null,
      "outputs": []
    },
    {
      "cell_type": "markdown",
      "metadata": {
        "id": "MAbbMV_qRPNv"
      },
      "source": [
        "#### Exercise\n",
        "\n",
        "* Create a plot showing the number of inspections that happen across **boroughs**. Use the `BORO` column and the `value_counts()` function."
      ]
    },
    {
      "cell_type": "code",
      "metadata": {
        "id": "a5cD2Fj2RPNw"
      },
      "source": [
        "# your code here"
      ],
      "execution_count": null,
      "outputs": []
    },
    {
      "cell_type": "markdown",
      "metadata": {
        "id": "2owfbywARPN0",
        "solution2": "hidden",
        "solution2_first": true
      },
      "source": [
        "#### Solution "
      ]
    },
    {
      "cell_type": "code",
      "metadata": {
        "id": "cJQdi6fGRPN0",
        "solution2": "hidden"
      },
      "source": [
        "restaurants[\"BORO\"].value_counts()"
      ],
      "execution_count": null,
      "outputs": []
    },
    {
      "cell_type": "code",
      "metadata": {
        "id": "uncTWbaXRPN2",
        "solution2": "hidden"
      },
      "source": [
        "# Same as above; works only for attribute names without spaces\n",
        "restaurants.BORO.value_counts()"
      ],
      "execution_count": null,
      "outputs": []
    },
    {
      "cell_type": "code",
      "metadata": {
        "id": "g7elS_06RPN6",
        "solution2": "hidden"
      },
      "source": [
        "restaurants[\"BORO\"].value_counts().plot(kind=\"bar\")"
      ],
      "execution_count": null,
      "outputs": []
    },
    {
      "cell_type": "code",
      "metadata": {
        "id": "iB52Xwh6RPN-",
        "solution2": "hidden"
      },
      "source": [
        "restaurants[\"BORO\"].value_counts().plot(kind=\"barh\")"
      ],
      "execution_count": null,
      "outputs": []
    },
    {
      "cell_type": "markdown",
      "metadata": {
        "id": "DPiGPdmXTHrr"
      },
      "source": [
        ""
      ]
    },
    {
      "cell_type": "markdown",
      "metadata": {
        "id": "zbvxeiqrTKJV"
      },
      "source": [
        "# Basic Data Manipulation Techniques"
      ]
    },
    {
      "cell_type": "markdown",
      "metadata": {
        "id": "pTKmk7LqRPOC"
      },
      "source": [
        "## Selecting a subset of the columns -- `filter()`\n",
        "\n",
        "In a dataframe, we can specify the column(s) that we want to keep, and get back another dataframe with just the subset of the columns that we want to keep."
      ]
    },
    {
      "cell_type": "code",
      "metadata": {
        "id": "kdGNyALJRPOD",
        "outputId": "cdaad639-22f9-4dbb-dc39-fada5156f680",
        "colab": {
          "base_uri": "https://localhost:8080/",
          "height": 770
        }
      },
      "source": [
        "restaurants"
      ],
      "execution_count": 6,
      "outputs": [
        {
          "output_type": "execute_result",
          "data": {
            "text/html": [
              "<div>\n",
              "<style scoped>\n",
              "    .dataframe tbody tr th:only-of-type {\n",
              "        vertical-align: middle;\n",
              "    }\n",
              "\n",
              "    .dataframe tbody tr th {\n",
              "        vertical-align: top;\n",
              "    }\n",
              "\n",
              "    .dataframe thead th {\n",
              "        text-align: right;\n",
              "    }\n",
              "</style>\n",
              "<table border=\"1\" class=\"dataframe\">\n",
              "  <thead>\n",
              "    <tr style=\"text-align: right;\">\n",
              "      <th></th>\n",
              "      <th>CAMIS</th>\n",
              "      <th>DBA</th>\n",
              "      <th>BORO</th>\n",
              "      <th>BUILDING</th>\n",
              "      <th>STREET</th>\n",
              "      <th>ZIPCODE</th>\n",
              "      <th>PHONE</th>\n",
              "      <th>CUISINE DESCRIPTION</th>\n",
              "      <th>INSPECTION DATE</th>\n",
              "      <th>ACTION</th>\n",
              "      <th>VIOLATION CODE</th>\n",
              "      <th>VIOLATION DESCRIPTION</th>\n",
              "      <th>CRITICAL FLAG</th>\n",
              "      <th>SCORE</th>\n",
              "      <th>GRADE</th>\n",
              "      <th>GRADE DATE</th>\n",
              "      <th>RECORD DATE</th>\n",
              "      <th>INSPECTION TYPE</th>\n",
              "      <th>Latitude</th>\n",
              "      <th>Longitude</th>\n",
              "      <th>Community Board</th>\n",
              "      <th>Council District</th>\n",
              "      <th>Census Tract</th>\n",
              "      <th>BIN</th>\n",
              "      <th>BBL</th>\n",
              "      <th>NTA</th>\n",
              "    </tr>\n",
              "  </thead>\n",
              "  <tbody>\n",
              "    <tr>\n",
              "      <th>0</th>\n",
              "      <td>41313114</td>\n",
              "      <td>NEW YORK INSTITUTE OF TECHNOLOGY</td>\n",
              "      <td>Manhattan</td>\n",
              "      <td>1849</td>\n",
              "      <td>BROADWAY</td>\n",
              "      <td>10023</td>\n",
              "      <td>6462736082</td>\n",
              "      <td>American</td>\n",
              "      <td>12/20/2016</td>\n",
              "      <td>Violations were cited in the following area(s).</td>\n",
              "      <td>06D</td>\n",
              "      <td>Food contact surface not properly washed, rins...</td>\n",
              "      <td>Critical</td>\n",
              "      <td>40</td>\n",
              "      <td>NaN</td>\n",
              "      <td>NaN</td>\n",
              "      <td>06/30/2021</td>\n",
              "      <td>Cycle Inspection / Initial Inspection</td>\n",
              "      <td>40.76935925555</td>\n",
              "      <td>-73.982118533371</td>\n",
              "      <td>107</td>\n",
              "      <td>03</td>\n",
              "      <td>014500</td>\n",
              "      <td>1027192</td>\n",
              "      <td>1011130046</td>\n",
              "      <td>MN14</td>\n",
              "    </tr>\n",
              "    <tr>\n",
              "      <th>1</th>\n",
              "      <td>50070793</td>\n",
              "      <td>AMITUOFO VEGAN CUISINE</td>\n",
              "      <td>Brooklyn</td>\n",
              "      <td>19</td>\n",
              "      <td>BOGART STREET</td>\n",
              "      <td>11206</td>\n",
              "      <td>7183662288</td>\n",
              "      <td>Vegan</td>\n",
              "      <td>09/04/2019</td>\n",
              "      <td>Violations were cited in the following area(s).</td>\n",
              "      <td>10F</td>\n",
              "      <td>Non-food contact surface improperly constructe...</td>\n",
              "      <td>Not Critical</td>\n",
              "      <td>53</td>\n",
              "      <td>NaN</td>\n",
              "      <td>NaN</td>\n",
              "      <td>06/30/2021</td>\n",
              "      <td>Cycle Inspection / Initial Inspection</td>\n",
              "      <td>40.703925075043</td>\n",
              "      <td>-73.932926711548</td>\n",
              "      <td>301</td>\n",
              "      <td>34</td>\n",
              "      <td>048500</td>\n",
              "      <td>3397431</td>\n",
              "      <td>3031180019</td>\n",
              "      <td>BK78</td>\n",
              "    </tr>\n",
              "    <tr>\n",
              "      <th>2</th>\n",
              "      <td>50070793</td>\n",
              "      <td>AMITUOFO VEGAN CUISINE</td>\n",
              "      <td>Brooklyn</td>\n",
              "      <td>19</td>\n",
              "      <td>BOGART STREET</td>\n",
              "      <td>11206</td>\n",
              "      <td>7183662288</td>\n",
              "      <td>Vegan</td>\n",
              "      <td>09/04/2019</td>\n",
              "      <td>Violations were cited in the following area(s).</td>\n",
              "      <td>10F</td>\n",
              "      <td>Non-food contact surface improperly constructe...</td>\n",
              "      <td>Not Critical</td>\n",
              "      <td>53</td>\n",
              "      <td>NaN</td>\n",
              "      <td>NaN</td>\n",
              "      <td>06/30/2021</td>\n",
              "      <td>Cycle Inspection / Initial Inspection</td>\n",
              "      <td>40.703925075043</td>\n",
              "      <td>-73.932926711548</td>\n",
              "      <td>301</td>\n",
              "      <td>34</td>\n",
              "      <td>048500</td>\n",
              "      <td>3397431</td>\n",
              "      <td>3031180019</td>\n",
              "      <td>BK78</td>\n",
              "    </tr>\n",
              "    <tr>\n",
              "      <th>3</th>\n",
              "      <td>40361618</td>\n",
              "      <td>SAL'S DELI</td>\n",
              "      <td>Queens</td>\n",
              "      <td>12908</td>\n",
              "      <td>20 AVENUE</td>\n",
              "      <td>11356</td>\n",
              "      <td>7186619498</td>\n",
              "      <td>Sandwiches</td>\n",
              "      <td>12/01/2017</td>\n",
              "      <td>Violations were cited in the following area(s).</td>\n",
              "      <td>08A</td>\n",
              "      <td>Facility not vermin proof. Harborage or condit...</td>\n",
              "      <td>Not Critical</td>\n",
              "      <td>24</td>\n",
              "      <td>NaN</td>\n",
              "      <td>NaN</td>\n",
              "      <td>06/30/2021</td>\n",
              "      <td>Cycle Inspection / Initial Inspection</td>\n",
              "      <td>40.781673836068</td>\n",
              "      <td>-73.839415976831</td>\n",
              "      <td>407</td>\n",
              "      <td>19</td>\n",
              "      <td>090700</td>\n",
              "      <td>4099345</td>\n",
              "      <td>4041740023</td>\n",
              "      <td>QN23</td>\n",
              "    </tr>\n",
              "    <tr>\n",
              "      <th>4</th>\n",
              "      <td>50035589</td>\n",
              "      <td>DAE SONG CHINESE RESAURANT</td>\n",
              "      <td>Queens</td>\n",
              "      <td>4332</td>\n",
              "      <td>CORPORAL KENNEDY ST</td>\n",
              "      <td>11361</td>\n",
              "      <td>7182292279</td>\n",
              "      <td>Chinese</td>\n",
              "      <td>04/09/2018</td>\n",
              "      <td>Violations were cited in the following area(s).</td>\n",
              "      <td>06C</td>\n",
              "      <td>Food not protected from potential source of co...</td>\n",
              "      <td>Critical</td>\n",
              "      <td>12</td>\n",
              "      <td>A</td>\n",
              "      <td>04/09/2018</td>\n",
              "      <td>06/30/2021</td>\n",
              "      <td>Cycle Inspection / Initial Inspection</td>\n",
              "      <td>40.760105569143</td>\n",
              "      <td>-73.774229438192</td>\n",
              "      <td>411</td>\n",
              "      <td>19</td>\n",
              "      <td>146700</td>\n",
              "      <td>4000000</td>\n",
              "      <td>4062790021</td>\n",
              "      <td>QN46</td>\n",
              "    </tr>\n",
              "    <tr>\n",
              "      <th>...</th>\n",
              "      <td>...</td>\n",
              "      <td>...</td>\n",
              "      <td>...</td>\n",
              "      <td>...</td>\n",
              "      <td>...</td>\n",
              "      <td>...</td>\n",
              "      <td>...</td>\n",
              "      <td>...</td>\n",
              "      <td>...</td>\n",
              "      <td>...</td>\n",
              "      <td>...</td>\n",
              "      <td>...</td>\n",
              "      <td>...</td>\n",
              "      <td>...</td>\n",
              "      <td>...</td>\n",
              "      <td>...</td>\n",
              "      <td>...</td>\n",
              "      <td>...</td>\n",
              "      <td>...</td>\n",
              "      <td>...</td>\n",
              "      <td>...</td>\n",
              "      <td>...</td>\n",
              "      <td>...</td>\n",
              "      <td>...</td>\n",
              "      <td>...</td>\n",
              "      <td>...</td>\n",
              "    </tr>\n",
              "    <tr>\n",
              "      <th>416178</th>\n",
              "      <td>50094398</td>\n",
              "      <td>SOCIAL 68</td>\n",
              "      <td>Manhattan</td>\n",
              "      <td>68</td>\n",
              "      <td>AVENUE A</td>\n",
              "      <td>10009</td>\n",
              "      <td>6464908670</td>\n",
              "      <td>Latin American</td>\n",
              "      <td>10/22/2019</td>\n",
              "      <td>Violations were cited in the following area(s).</td>\n",
              "      <td>10F</td>\n",
              "      <td>Non-food contact surface improperly constructe...</td>\n",
              "      <td>Not Critical</td>\n",
              "      <td>11</td>\n",
              "      <td>A</td>\n",
              "      <td>10/22/2019</td>\n",
              "      <td>06/30/2021</td>\n",
              "      <td>Cycle Inspection / Initial Inspection</td>\n",
              "      <td>40.724641952949</td>\n",
              "      <td>-73.98454780258</td>\n",
              "      <td>103</td>\n",
              "      <td>02</td>\n",
              "      <td>003200</td>\n",
              "      <td>1005010</td>\n",
              "      <td>1004000001</td>\n",
              "      <td>MN22</td>\n",
              "    </tr>\n",
              "    <tr>\n",
              "      <th>416179</th>\n",
              "      <td>41707327</td>\n",
              "      <td>DRAGON STATE KITCHEN</td>\n",
              "      <td>Bronx</td>\n",
              "      <td>4124A</td>\n",
              "      <td>WHITE PLAINS ROAD</td>\n",
              "      <td>10466</td>\n",
              "      <td>7185152329</td>\n",
              "      <td>Chinese</td>\n",
              "      <td>06/12/2019</td>\n",
              "      <td>Violations were cited in the following area(s).</td>\n",
              "      <td>06F</td>\n",
              "      <td>Wiping cloths soiled or not stored in sanitizi...</td>\n",
              "      <td>Critical</td>\n",
              "      <td>16</td>\n",
              "      <td>NaN</td>\n",
              "      <td>NaN</td>\n",
              "      <td>06/30/2021</td>\n",
              "      <td>Cycle Inspection / Initial Inspection</td>\n",
              "      <td>40.891433609009</td>\n",
              "      <td>-73.858445915336</td>\n",
              "      <td>212</td>\n",
              "      <td>12</td>\n",
              "      <td>042200</td>\n",
              "      <td>2063647</td>\n",
              "      <td>2048440035</td>\n",
              "      <td>BX44</td>\n",
              "    </tr>\n",
              "    <tr>\n",
              "      <th>416180</th>\n",
              "      <td>50056337</td>\n",
              "      <td>QI</td>\n",
              "      <td>Manhattan</td>\n",
              "      <td>698</td>\n",
              "      <td>9 AVENUE</td>\n",
              "      <td>10036</td>\n",
              "      <td>2122478991</td>\n",
              "      <td>Thai</td>\n",
              "      <td>02/10/2020</td>\n",
              "      <td>Violations were cited in the following area(s).</td>\n",
              "      <td>02G</td>\n",
              "      <td>Cold food item held above 41º F (smoked fish a...</td>\n",
              "      <td>Critical</td>\n",
              "      <td>12</td>\n",
              "      <td>NaN</td>\n",
              "      <td>NaN</td>\n",
              "      <td>06/30/2021</td>\n",
              "      <td>Cycle Inspection / Initial Inspection</td>\n",
              "      <td>40.762086602475</td>\n",
              "      <td>-73.989953832696</td>\n",
              "      <td>104</td>\n",
              "      <td>03</td>\n",
              "      <td>012700</td>\n",
              "      <td>1025119</td>\n",
              "      <td>1010380061</td>\n",
              "      <td>MN15</td>\n",
              "    </tr>\n",
              "    <tr>\n",
              "      <th>416181</th>\n",
              "      <td>41720707</td>\n",
              "      <td>EL GRAN CANARIO II RESTAURANT</td>\n",
              "      <td>Queens</td>\n",
              "      <td>11117</td>\n",
              "      <td>JAMAICA AVENUE</td>\n",
              "      <td>11418</td>\n",
              "      <td>7184411113</td>\n",
              "      <td>Spanish</td>\n",
              "      <td>03/10/2020</td>\n",
              "      <td>Violations were cited in the following area(s).</td>\n",
              "      <td>06D</td>\n",
              "      <td>Food contact surface not properly washed, rins...</td>\n",
              "      <td>Critical</td>\n",
              "      <td>32</td>\n",
              "      <td>C</td>\n",
              "      <td>03/10/2020</td>\n",
              "      <td>06/30/2021</td>\n",
              "      <td>Cycle Inspection / Re-inspection</td>\n",
              "      <td>40.697005278312</td>\n",
              "      <td>-73.836970065568</td>\n",
              "      <td>409</td>\n",
              "      <td>32</td>\n",
              "      <td>013000</td>\n",
              "      <td>4192669</td>\n",
              "      <td>4092250060</td>\n",
              "      <td>QN54</td>\n",
              "    </tr>\n",
              "    <tr>\n",
              "      <th>416182</th>\n",
              "      <td>40393243</td>\n",
              "      <td>BUDDY'S BURRITO &amp; TACO BAR</td>\n",
              "      <td>Brooklyn</td>\n",
              "      <td>260</td>\n",
              "      <td>COURT STREET</td>\n",
              "      <td>11231</td>\n",
              "      <td>7184888695</td>\n",
              "      <td>Tex-Mex</td>\n",
              "      <td>07/25/2017</td>\n",
              "      <td>Violations were cited in the following area(s).</td>\n",
              "      <td>08A</td>\n",
              "      <td>Facility not vermin proof. Harborage or condit...</td>\n",
              "      <td>Not Critical</td>\n",
              "      <td>24</td>\n",
              "      <td>NaN</td>\n",
              "      <td>NaN</td>\n",
              "      <td>06/30/2021</td>\n",
              "      <td>Cycle Inspection / Initial Inspection</td>\n",
              "      <td>40.685148360927</td>\n",
              "      <td>-73.994562675802</td>\n",
              "      <td>306</td>\n",
              "      <td>39</td>\n",
              "      <td>006700</td>\n",
              "      <td>3336007</td>\n",
              "      <td>3003260037</td>\n",
              "      <td>BK33</td>\n",
              "    </tr>\n",
              "  </tbody>\n",
              "</table>\n",
              "<p>416183 rows × 26 columns</p>\n",
              "</div>"
            ],
            "text/plain": [
              "           CAMIS                               DBA  ...         BBL   NTA\n",
              "0       41313114  NEW YORK INSTITUTE OF TECHNOLOGY  ...  1011130046  MN14\n",
              "1       50070793            AMITUOFO VEGAN CUISINE  ...  3031180019  BK78\n",
              "2       50070793            AMITUOFO VEGAN CUISINE  ...  3031180019  BK78\n",
              "3       40361618                        SAL'S DELI  ...  4041740023  QN23\n",
              "4       50035589        DAE SONG CHINESE RESAURANT  ...  4062790021  QN46\n",
              "...          ...                               ...  ...         ...   ...\n",
              "416178  50094398                         SOCIAL 68  ...  1004000001  MN22\n",
              "416179  41707327              DRAGON STATE KITCHEN  ...  2048440035  BX44\n",
              "416180  50056337                                QI  ...  1010380061  MN15\n",
              "416181  41720707     EL GRAN CANARIO II RESTAURANT  ...  4092250060  QN54\n",
              "416182  40393243        BUDDY'S BURRITO & TACO BAR  ...  3003260037  BK33\n",
              "\n",
              "[416183 rows x 26 columns]"
            ]
          },
          "metadata": {
            "tags": []
          },
          "execution_count": 6
        }
      ]
    },
    {
      "cell_type": "code",
      "metadata": {
        "id": "KoA5JqtFRPOF",
        "outputId": "4b13cece-dd46-470e-e191-902a1a9be56d",
        "colab": {
          "base_uri": "https://localhost:8080/",
          "height": 417
        }
      },
      "source": [
        "restaurants.filter( \n",
        "    items = [\"DBA\", \"GRADE\", \"GRADE DATE\"] \n",
        ")"
      ],
      "execution_count": 8,
      "outputs": [
        {
          "output_type": "execute_result",
          "data": {
            "text/html": [
              "<div>\n",
              "<style scoped>\n",
              "    .dataframe tbody tr th:only-of-type {\n",
              "        vertical-align: middle;\n",
              "    }\n",
              "\n",
              "    .dataframe tbody tr th {\n",
              "        vertical-align: top;\n",
              "    }\n",
              "\n",
              "    .dataframe thead th {\n",
              "        text-align: right;\n",
              "    }\n",
              "</style>\n",
              "<table border=\"1\" class=\"dataframe\">\n",
              "  <thead>\n",
              "    <tr style=\"text-align: right;\">\n",
              "      <th></th>\n",
              "      <th>DBA</th>\n",
              "      <th>GRADE</th>\n",
              "      <th>GRADE DATE</th>\n",
              "    </tr>\n",
              "  </thead>\n",
              "  <tbody>\n",
              "    <tr>\n",
              "      <th>0</th>\n",
              "      <td>NEW YORK INSTITUTE OF TECHNOLOGY</td>\n",
              "      <td>NaN</td>\n",
              "      <td>NaN</td>\n",
              "    </tr>\n",
              "    <tr>\n",
              "      <th>1</th>\n",
              "      <td>AMITUOFO VEGAN CUISINE</td>\n",
              "      <td>NaN</td>\n",
              "      <td>NaN</td>\n",
              "    </tr>\n",
              "    <tr>\n",
              "      <th>2</th>\n",
              "      <td>AMITUOFO VEGAN CUISINE</td>\n",
              "      <td>NaN</td>\n",
              "      <td>NaN</td>\n",
              "    </tr>\n",
              "    <tr>\n",
              "      <th>3</th>\n",
              "      <td>SAL'S DELI</td>\n",
              "      <td>NaN</td>\n",
              "      <td>NaN</td>\n",
              "    </tr>\n",
              "    <tr>\n",
              "      <th>4</th>\n",
              "      <td>DAE SONG CHINESE RESAURANT</td>\n",
              "      <td>A</td>\n",
              "      <td>04/09/2018</td>\n",
              "    </tr>\n",
              "    <tr>\n",
              "      <th>...</th>\n",
              "      <td>...</td>\n",
              "      <td>...</td>\n",
              "      <td>...</td>\n",
              "    </tr>\n",
              "    <tr>\n",
              "      <th>416178</th>\n",
              "      <td>SOCIAL 68</td>\n",
              "      <td>A</td>\n",
              "      <td>10/22/2019</td>\n",
              "    </tr>\n",
              "    <tr>\n",
              "      <th>416179</th>\n",
              "      <td>DRAGON STATE KITCHEN</td>\n",
              "      <td>NaN</td>\n",
              "      <td>NaN</td>\n",
              "    </tr>\n",
              "    <tr>\n",
              "      <th>416180</th>\n",
              "      <td>QI</td>\n",
              "      <td>NaN</td>\n",
              "      <td>NaN</td>\n",
              "    </tr>\n",
              "    <tr>\n",
              "      <th>416181</th>\n",
              "      <td>EL GRAN CANARIO II RESTAURANT</td>\n",
              "      <td>C</td>\n",
              "      <td>03/10/2020</td>\n",
              "    </tr>\n",
              "    <tr>\n",
              "      <th>416182</th>\n",
              "      <td>BUDDY'S BURRITO &amp; TACO BAR</td>\n",
              "      <td>NaN</td>\n",
              "      <td>NaN</td>\n",
              "    </tr>\n",
              "  </tbody>\n",
              "</table>\n",
              "<p>416183 rows × 3 columns</p>\n",
              "</div>"
            ],
            "text/plain": [
              "                                     DBA GRADE  GRADE DATE\n",
              "0       NEW YORK INSTITUTE OF TECHNOLOGY   NaN         NaN\n",
              "1                 AMITUOFO VEGAN CUISINE   NaN         NaN\n",
              "2                 AMITUOFO VEGAN CUISINE   NaN         NaN\n",
              "3                             SAL'S DELI   NaN         NaN\n",
              "4             DAE SONG CHINESE RESAURANT     A  04/09/2018\n",
              "...                                  ...   ...         ...\n",
              "416178                         SOCIAL 68     A  10/22/2019\n",
              "416179              DRAGON STATE KITCHEN   NaN         NaN\n",
              "416180                                QI   NaN         NaN\n",
              "416181     EL GRAN CANARIO II RESTAURANT     C  03/10/2020\n",
              "416182        BUDDY'S BURRITO & TACO BAR   NaN         NaN\n",
              "\n",
              "[416183 rows x 3 columns]"
            ]
          },
          "metadata": {
            "tags": []
          },
          "execution_count": 8
        }
      ]
    },
    {
      "cell_type": "code",
      "metadata": {
        "id": "0DbB0h26RPON"
      },
      "source": [
        "columns = [\"GRADE DATE\", \"VIOLATION CODE\", \"DBA\", \"SCORE\"]\n",
        "\n",
        "# Notice the use of \"chain notation\" below\n",
        "# Chain notation means putting parentheses around\n",
        "# the command and then having each operation in its\n",
        "# own line\n",
        "(\n",
        "  restaurants\n",
        "  .filter( items = columns )\n",
        "  .head(10)\n",
        ")\n"
      ],
      "execution_count": null,
      "outputs": []
    },
    {
      "cell_type": "markdown",
      "metadata": {
        "id": "pNmPSBrJUrfy"
      },
      "source": [
        "We can also use the `like` option to find all the column names that include a certain string. For example, to get all the columns that include the string `DATE`:"
      ]
    },
    {
      "cell_type": "code",
      "metadata": {
        "id": "0skTt0rNRPOP",
        "outputId": "55f73a8f-8732-4075-dd29-0135e61dc233",
        "colab": {
          "base_uri": "https://localhost:8080/",
          "height": 417
        }
      },
      "source": [
        "restaurants.filter(\n",
        "    like = 'DATE'\n",
        ")"
      ],
      "execution_count": 10,
      "outputs": [
        {
          "output_type": "execute_result",
          "data": {
            "text/html": [
              "<div>\n",
              "<style scoped>\n",
              "    .dataframe tbody tr th:only-of-type {\n",
              "        vertical-align: middle;\n",
              "    }\n",
              "\n",
              "    .dataframe tbody tr th {\n",
              "        vertical-align: top;\n",
              "    }\n",
              "\n",
              "    .dataframe thead th {\n",
              "        text-align: right;\n",
              "    }\n",
              "</style>\n",
              "<table border=\"1\" class=\"dataframe\">\n",
              "  <thead>\n",
              "    <tr style=\"text-align: right;\">\n",
              "      <th></th>\n",
              "      <th>INSPECTION DATE</th>\n",
              "      <th>GRADE DATE</th>\n",
              "      <th>RECORD DATE</th>\n",
              "    </tr>\n",
              "  </thead>\n",
              "  <tbody>\n",
              "    <tr>\n",
              "      <th>0</th>\n",
              "      <td>12/20/2016</td>\n",
              "      <td>NaN</td>\n",
              "      <td>06/30/2021</td>\n",
              "    </tr>\n",
              "    <tr>\n",
              "      <th>1</th>\n",
              "      <td>09/04/2019</td>\n",
              "      <td>NaN</td>\n",
              "      <td>06/30/2021</td>\n",
              "    </tr>\n",
              "    <tr>\n",
              "      <th>2</th>\n",
              "      <td>09/04/2019</td>\n",
              "      <td>NaN</td>\n",
              "      <td>06/30/2021</td>\n",
              "    </tr>\n",
              "    <tr>\n",
              "      <th>3</th>\n",
              "      <td>12/01/2017</td>\n",
              "      <td>NaN</td>\n",
              "      <td>06/30/2021</td>\n",
              "    </tr>\n",
              "    <tr>\n",
              "      <th>4</th>\n",
              "      <td>04/09/2018</td>\n",
              "      <td>04/09/2018</td>\n",
              "      <td>06/30/2021</td>\n",
              "    </tr>\n",
              "    <tr>\n",
              "      <th>...</th>\n",
              "      <td>...</td>\n",
              "      <td>...</td>\n",
              "      <td>...</td>\n",
              "    </tr>\n",
              "    <tr>\n",
              "      <th>416178</th>\n",
              "      <td>10/22/2019</td>\n",
              "      <td>10/22/2019</td>\n",
              "      <td>06/30/2021</td>\n",
              "    </tr>\n",
              "    <tr>\n",
              "      <th>416179</th>\n",
              "      <td>06/12/2019</td>\n",
              "      <td>NaN</td>\n",
              "      <td>06/30/2021</td>\n",
              "    </tr>\n",
              "    <tr>\n",
              "      <th>416180</th>\n",
              "      <td>02/10/2020</td>\n",
              "      <td>NaN</td>\n",
              "      <td>06/30/2021</td>\n",
              "    </tr>\n",
              "    <tr>\n",
              "      <th>416181</th>\n",
              "      <td>03/10/2020</td>\n",
              "      <td>03/10/2020</td>\n",
              "      <td>06/30/2021</td>\n",
              "    </tr>\n",
              "    <tr>\n",
              "      <th>416182</th>\n",
              "      <td>07/25/2017</td>\n",
              "      <td>NaN</td>\n",
              "      <td>06/30/2021</td>\n",
              "    </tr>\n",
              "  </tbody>\n",
              "</table>\n",
              "<p>416183 rows × 3 columns</p>\n",
              "</div>"
            ],
            "text/plain": [
              "       INSPECTION DATE  GRADE DATE RECORD DATE\n",
              "0           12/20/2016         NaN  06/30/2021\n",
              "1           09/04/2019         NaN  06/30/2021\n",
              "2           09/04/2019         NaN  06/30/2021\n",
              "3           12/01/2017         NaN  06/30/2021\n",
              "4           04/09/2018  04/09/2018  06/30/2021\n",
              "...                ...         ...         ...\n",
              "416178      10/22/2019  10/22/2019  06/30/2021\n",
              "416179      06/12/2019         NaN  06/30/2021\n",
              "416180      02/10/2020         NaN  06/30/2021\n",
              "416181      03/10/2020  03/10/2020  06/30/2021\n",
              "416182      07/25/2017         NaN  06/30/2021\n",
              "\n",
              "[416183 rows x 3 columns]"
            ]
          },
          "metadata": {
            "tags": []
          },
          "execution_count": 10
        }
      ]
    },
    {
      "cell_type": "markdown",
      "metadata": {
        "id": "dXTR3gaYU3D9"
      },
      "source": [
        "We can expand the functionality and also use regular expressions:"
      ]
    },
    {
      "cell_type": "code",
      "metadata": {
        "id": "oE5G-RtCU9NS",
        "outputId": "40d7d69d-31d5-49dc-df55-251e7ac84e5e",
        "colab": {
          "base_uri": "https://localhost:8080/",
          "height": 417
        }
      },
      "source": [
        "restaurants.filter(\n",
        "    regex = r'^C' # all the columns that start with C\n",
        ")"
      ],
      "execution_count": 18,
      "outputs": [
        {
          "output_type": "execute_result",
          "data": {
            "text/html": [
              "<div>\n",
              "<style scoped>\n",
              "    .dataframe tbody tr th:only-of-type {\n",
              "        vertical-align: middle;\n",
              "    }\n",
              "\n",
              "    .dataframe tbody tr th {\n",
              "        vertical-align: top;\n",
              "    }\n",
              "\n",
              "    .dataframe thead th {\n",
              "        text-align: right;\n",
              "    }\n",
              "</style>\n",
              "<table border=\"1\" class=\"dataframe\">\n",
              "  <thead>\n",
              "    <tr style=\"text-align: right;\">\n",
              "      <th></th>\n",
              "      <th>CAMIS</th>\n",
              "      <th>CUISINE DESCRIPTION</th>\n",
              "      <th>CRITICAL FLAG</th>\n",
              "      <th>Community Board</th>\n",
              "      <th>Council District</th>\n",
              "      <th>Census Tract</th>\n",
              "    </tr>\n",
              "  </thead>\n",
              "  <tbody>\n",
              "    <tr>\n",
              "      <th>0</th>\n",
              "      <td>41313114</td>\n",
              "      <td>American</td>\n",
              "      <td>Critical</td>\n",
              "      <td>107</td>\n",
              "      <td>03</td>\n",
              "      <td>014500</td>\n",
              "    </tr>\n",
              "    <tr>\n",
              "      <th>1</th>\n",
              "      <td>50070793</td>\n",
              "      <td>Vegan</td>\n",
              "      <td>Not Critical</td>\n",
              "      <td>301</td>\n",
              "      <td>34</td>\n",
              "      <td>048500</td>\n",
              "    </tr>\n",
              "    <tr>\n",
              "      <th>2</th>\n",
              "      <td>50070793</td>\n",
              "      <td>Vegan</td>\n",
              "      <td>Not Critical</td>\n",
              "      <td>301</td>\n",
              "      <td>34</td>\n",
              "      <td>048500</td>\n",
              "    </tr>\n",
              "    <tr>\n",
              "      <th>3</th>\n",
              "      <td>40361618</td>\n",
              "      <td>Sandwiches</td>\n",
              "      <td>Not Critical</td>\n",
              "      <td>407</td>\n",
              "      <td>19</td>\n",
              "      <td>090700</td>\n",
              "    </tr>\n",
              "    <tr>\n",
              "      <th>4</th>\n",
              "      <td>50035589</td>\n",
              "      <td>Chinese</td>\n",
              "      <td>Critical</td>\n",
              "      <td>411</td>\n",
              "      <td>19</td>\n",
              "      <td>146700</td>\n",
              "    </tr>\n",
              "    <tr>\n",
              "      <th>...</th>\n",
              "      <td>...</td>\n",
              "      <td>...</td>\n",
              "      <td>...</td>\n",
              "      <td>...</td>\n",
              "      <td>...</td>\n",
              "      <td>...</td>\n",
              "    </tr>\n",
              "    <tr>\n",
              "      <th>416178</th>\n",
              "      <td>50094398</td>\n",
              "      <td>Latin American</td>\n",
              "      <td>Not Critical</td>\n",
              "      <td>103</td>\n",
              "      <td>02</td>\n",
              "      <td>003200</td>\n",
              "    </tr>\n",
              "    <tr>\n",
              "      <th>416179</th>\n",
              "      <td>41707327</td>\n",
              "      <td>Chinese</td>\n",
              "      <td>Critical</td>\n",
              "      <td>212</td>\n",
              "      <td>12</td>\n",
              "      <td>042200</td>\n",
              "    </tr>\n",
              "    <tr>\n",
              "      <th>416180</th>\n",
              "      <td>50056337</td>\n",
              "      <td>Thai</td>\n",
              "      <td>Critical</td>\n",
              "      <td>104</td>\n",
              "      <td>03</td>\n",
              "      <td>012700</td>\n",
              "    </tr>\n",
              "    <tr>\n",
              "      <th>416181</th>\n",
              "      <td>41720707</td>\n",
              "      <td>Spanish</td>\n",
              "      <td>Critical</td>\n",
              "      <td>409</td>\n",
              "      <td>32</td>\n",
              "      <td>013000</td>\n",
              "    </tr>\n",
              "    <tr>\n",
              "      <th>416182</th>\n",
              "      <td>40393243</td>\n",
              "      <td>Tex-Mex</td>\n",
              "      <td>Not Critical</td>\n",
              "      <td>306</td>\n",
              "      <td>39</td>\n",
              "      <td>006700</td>\n",
              "    </tr>\n",
              "  </tbody>\n",
              "</table>\n",
              "<p>416183 rows × 6 columns</p>\n",
              "</div>"
            ],
            "text/plain": [
              "           CAMIS CUISINE DESCRIPTION  ... Council District Census Tract\n",
              "0       41313114            American  ...               03       014500\n",
              "1       50070793               Vegan  ...               34       048500\n",
              "2       50070793               Vegan  ...               34       048500\n",
              "3       40361618          Sandwiches  ...               19       090700\n",
              "4       50035589             Chinese  ...               19       146700\n",
              "...          ...                 ...  ...              ...          ...\n",
              "416178  50094398      Latin American  ...               02       003200\n",
              "416179  41707327             Chinese  ...               12       042200\n",
              "416180  50056337                Thai  ...               03       012700\n",
              "416181  41720707             Spanish  ...               32       013000\n",
              "416182  40393243             Tex-Mex  ...               39       006700\n",
              "\n",
              "[416183 rows x 6 columns]"
            ]
          },
          "metadata": {
            "tags": []
          },
          "execution_count": 18
        }
      ]
    },
    {
      "cell_type": "code",
      "metadata": {
        "id": "KWg63of5xbjY"
      },
      "source": [
        ""
      ],
      "execution_count": null,
      "outputs": []
    },
    {
      "cell_type": "markdown",
      "metadata": {
        "id": "bHIvI4svxcJ0"
      },
      "source": [
        "## Renaming Columns -- `rename()`"
      ]
    },
    {
      "cell_type": "markdown",
      "metadata": {
        "id": "7fLRqM4kxf1W"
      },
      "source": [
        "To do the equivalent of `SELECT attr AS alias` in Pandas, we use the `rename` command, and pass a dictionary specifying which columns we want to rename:\n",
        "\n"
      ]
    },
    {
      "cell_type": "code",
      "metadata": {
        "id": "jSnqzBFwxqnk",
        "outputId": "88ea5b55-8169-4353-ba20-b0aff7f7cfc6",
        "colab": {
          "base_uri": "https://localhost:8080/",
          "height": 770
        }
      },
      "source": [
        "restaurants.rename(\n",
        "    columns = {\n",
        "      \"CAMIS\": \"RESTID\",\n",
        "      \"DBA\": \"REST_NAME\",\n",
        "      \"BUILDING\": \"STREET_NUM\",\n",
        "      \"BORO\": \"BOROUGH\"\n",
        "    }\n",
        ")"
      ],
      "execution_count": 116,
      "outputs": [
        {
          "output_type": "execute_result",
          "data": {
            "text/html": [
              "<div>\n",
              "<style scoped>\n",
              "    .dataframe tbody tr th:only-of-type {\n",
              "        vertical-align: middle;\n",
              "    }\n",
              "\n",
              "    .dataframe tbody tr th {\n",
              "        vertical-align: top;\n",
              "    }\n",
              "\n",
              "    .dataframe thead th {\n",
              "        text-align: right;\n",
              "    }\n",
              "</style>\n",
              "<table border=\"1\" class=\"dataframe\">\n",
              "  <thead>\n",
              "    <tr style=\"text-align: right;\">\n",
              "      <th></th>\n",
              "      <th>RESTID</th>\n",
              "      <th>REST_NAME</th>\n",
              "      <th>BOROUGH</th>\n",
              "      <th>STREET_NUM</th>\n",
              "      <th>STREET</th>\n",
              "      <th>ZIPCODE</th>\n",
              "      <th>PHONE</th>\n",
              "      <th>CUISINE DESCRIPTION</th>\n",
              "      <th>INSPECTION DATE</th>\n",
              "      <th>ACTION</th>\n",
              "      <th>VIOLATION CODE</th>\n",
              "      <th>VIOLATION DESCRIPTION</th>\n",
              "      <th>CRITICAL FLAG</th>\n",
              "      <th>SCORE</th>\n",
              "      <th>GRADE</th>\n",
              "      <th>GRADE DATE</th>\n",
              "      <th>RECORD DATE</th>\n",
              "      <th>INSPECTION TYPE</th>\n",
              "      <th>Latitude</th>\n",
              "      <th>Longitude</th>\n",
              "      <th>Community Board</th>\n",
              "      <th>Council District</th>\n",
              "      <th>Census Tract</th>\n",
              "      <th>BIN</th>\n",
              "      <th>BBL</th>\n",
              "      <th>NTA</th>\n",
              "    </tr>\n",
              "  </thead>\n",
              "  <tbody>\n",
              "    <tr>\n",
              "      <th>0</th>\n",
              "      <td>41313114</td>\n",
              "      <td>NEW YORK INSTITUTE OF TECHNOLOGY</td>\n",
              "      <td>Manhattan</td>\n",
              "      <td>1849</td>\n",
              "      <td>BROADWAY</td>\n",
              "      <td>10023</td>\n",
              "      <td>6462736082</td>\n",
              "      <td>American</td>\n",
              "      <td>2016-12-20</td>\n",
              "      <td>Violations were cited in the following area(s).</td>\n",
              "      <td>06D</td>\n",
              "      <td>Food contact surface not properly washed, rins...</td>\n",
              "      <td>Critical</td>\n",
              "      <td>40.0</td>\n",
              "      <td>NaN</td>\n",
              "      <td>NaT</td>\n",
              "      <td>2021-06-30</td>\n",
              "      <td>Cycle Inspection / Initial Inspection</td>\n",
              "      <td>40.769359</td>\n",
              "      <td>-73.982119</td>\n",
              "      <td>107</td>\n",
              "      <td>03</td>\n",
              "      <td>014500</td>\n",
              "      <td>1027192</td>\n",
              "      <td>1011130046</td>\n",
              "      <td>MN14</td>\n",
              "    </tr>\n",
              "    <tr>\n",
              "      <th>1</th>\n",
              "      <td>50070793</td>\n",
              "      <td>AMITUOFO VEGAN CUISINE</td>\n",
              "      <td>Brooklyn</td>\n",
              "      <td>19</td>\n",
              "      <td>BOGART STREET</td>\n",
              "      <td>11206</td>\n",
              "      <td>7183662288</td>\n",
              "      <td>Vegan</td>\n",
              "      <td>2019-09-04</td>\n",
              "      <td>Violations were cited in the following area(s).</td>\n",
              "      <td>10F</td>\n",
              "      <td>Non-food contact surface improperly constructe...</td>\n",
              "      <td>Not Critical</td>\n",
              "      <td>53.0</td>\n",
              "      <td>NaN</td>\n",
              "      <td>NaT</td>\n",
              "      <td>2021-06-30</td>\n",
              "      <td>Cycle Inspection / Initial Inspection</td>\n",
              "      <td>40.703925</td>\n",
              "      <td>-73.932927</td>\n",
              "      <td>301</td>\n",
              "      <td>34</td>\n",
              "      <td>048500</td>\n",
              "      <td>3397431</td>\n",
              "      <td>3031180019</td>\n",
              "      <td>BK78</td>\n",
              "    </tr>\n",
              "    <tr>\n",
              "      <th>2</th>\n",
              "      <td>50070793</td>\n",
              "      <td>AMITUOFO VEGAN CUISINE</td>\n",
              "      <td>Brooklyn</td>\n",
              "      <td>19</td>\n",
              "      <td>BOGART STREET</td>\n",
              "      <td>11206</td>\n",
              "      <td>7183662288</td>\n",
              "      <td>Vegan</td>\n",
              "      <td>2019-09-04</td>\n",
              "      <td>Violations were cited in the following area(s).</td>\n",
              "      <td>10F</td>\n",
              "      <td>Non-food contact surface improperly constructe...</td>\n",
              "      <td>Not Critical</td>\n",
              "      <td>53.0</td>\n",
              "      <td>NaN</td>\n",
              "      <td>NaT</td>\n",
              "      <td>2021-06-30</td>\n",
              "      <td>Cycle Inspection / Initial Inspection</td>\n",
              "      <td>40.703925</td>\n",
              "      <td>-73.932927</td>\n",
              "      <td>301</td>\n",
              "      <td>34</td>\n",
              "      <td>048500</td>\n",
              "      <td>3397431</td>\n",
              "      <td>3031180019</td>\n",
              "      <td>BK78</td>\n",
              "    </tr>\n",
              "    <tr>\n",
              "      <th>3</th>\n",
              "      <td>40361618</td>\n",
              "      <td>SAL'S DELI</td>\n",
              "      <td>Queens</td>\n",
              "      <td>12908</td>\n",
              "      <td>20 AVENUE</td>\n",
              "      <td>11356</td>\n",
              "      <td>7186619498</td>\n",
              "      <td>Sandwiches</td>\n",
              "      <td>2017-12-01</td>\n",
              "      <td>Violations were cited in the following area(s).</td>\n",
              "      <td>08A</td>\n",
              "      <td>Facility not vermin proof. Harborage or condit...</td>\n",
              "      <td>Not Critical</td>\n",
              "      <td>24.0</td>\n",
              "      <td>NaN</td>\n",
              "      <td>NaT</td>\n",
              "      <td>2021-06-30</td>\n",
              "      <td>Cycle Inspection / Initial Inspection</td>\n",
              "      <td>40.781674</td>\n",
              "      <td>-73.839416</td>\n",
              "      <td>407</td>\n",
              "      <td>19</td>\n",
              "      <td>090700</td>\n",
              "      <td>4099345</td>\n",
              "      <td>4041740023</td>\n",
              "      <td>QN23</td>\n",
              "    </tr>\n",
              "    <tr>\n",
              "      <th>4</th>\n",
              "      <td>50035589</td>\n",
              "      <td>DAE SONG CHINESE RESAURANT</td>\n",
              "      <td>Queens</td>\n",
              "      <td>4332</td>\n",
              "      <td>CORPORAL KENNEDY ST</td>\n",
              "      <td>11361</td>\n",
              "      <td>7182292279</td>\n",
              "      <td>Chinese</td>\n",
              "      <td>2018-04-09</td>\n",
              "      <td>Violations were cited in the following area(s).</td>\n",
              "      <td>06C</td>\n",
              "      <td>Food not protected from potential source of co...</td>\n",
              "      <td>Critical</td>\n",
              "      <td>12.0</td>\n",
              "      <td>A</td>\n",
              "      <td>2018-04-09</td>\n",
              "      <td>2021-06-30</td>\n",
              "      <td>Cycle Inspection / Initial Inspection</td>\n",
              "      <td>40.760106</td>\n",
              "      <td>-73.774229</td>\n",
              "      <td>411</td>\n",
              "      <td>19</td>\n",
              "      <td>146700</td>\n",
              "      <td>4000000</td>\n",
              "      <td>4062790021</td>\n",
              "      <td>QN46</td>\n",
              "    </tr>\n",
              "    <tr>\n",
              "      <th>...</th>\n",
              "      <td>...</td>\n",
              "      <td>...</td>\n",
              "      <td>...</td>\n",
              "      <td>...</td>\n",
              "      <td>...</td>\n",
              "      <td>...</td>\n",
              "      <td>...</td>\n",
              "      <td>...</td>\n",
              "      <td>...</td>\n",
              "      <td>...</td>\n",
              "      <td>...</td>\n",
              "      <td>...</td>\n",
              "      <td>...</td>\n",
              "      <td>...</td>\n",
              "      <td>...</td>\n",
              "      <td>...</td>\n",
              "      <td>...</td>\n",
              "      <td>...</td>\n",
              "      <td>...</td>\n",
              "      <td>...</td>\n",
              "      <td>...</td>\n",
              "      <td>...</td>\n",
              "      <td>...</td>\n",
              "      <td>...</td>\n",
              "      <td>...</td>\n",
              "      <td>...</td>\n",
              "    </tr>\n",
              "    <tr>\n",
              "      <th>416178</th>\n",
              "      <td>50094398</td>\n",
              "      <td>SOCIAL 68</td>\n",
              "      <td>Manhattan</td>\n",
              "      <td>68</td>\n",
              "      <td>AVENUE A</td>\n",
              "      <td>10009</td>\n",
              "      <td>6464908670</td>\n",
              "      <td>Latin American</td>\n",
              "      <td>2019-10-22</td>\n",
              "      <td>Violations were cited in the following area(s).</td>\n",
              "      <td>10F</td>\n",
              "      <td>Non-food contact surface improperly constructe...</td>\n",
              "      <td>Not Critical</td>\n",
              "      <td>11.0</td>\n",
              "      <td>A</td>\n",
              "      <td>2019-10-22</td>\n",
              "      <td>2021-06-30</td>\n",
              "      <td>Cycle Inspection / Initial Inspection</td>\n",
              "      <td>40.724642</td>\n",
              "      <td>-73.984548</td>\n",
              "      <td>103</td>\n",
              "      <td>02</td>\n",
              "      <td>003200</td>\n",
              "      <td>1005010</td>\n",
              "      <td>1004000001</td>\n",
              "      <td>MN22</td>\n",
              "    </tr>\n",
              "    <tr>\n",
              "      <th>416179</th>\n",
              "      <td>41707327</td>\n",
              "      <td>DRAGON STATE KITCHEN</td>\n",
              "      <td>Bronx</td>\n",
              "      <td>4124A</td>\n",
              "      <td>WHITE PLAINS ROAD</td>\n",
              "      <td>10466</td>\n",
              "      <td>7185152329</td>\n",
              "      <td>Chinese</td>\n",
              "      <td>2019-06-12</td>\n",
              "      <td>Violations were cited in the following area(s).</td>\n",
              "      <td>06F</td>\n",
              "      <td>Wiping cloths soiled or not stored in sanitizi...</td>\n",
              "      <td>Critical</td>\n",
              "      <td>16.0</td>\n",
              "      <td>NaN</td>\n",
              "      <td>NaT</td>\n",
              "      <td>2021-06-30</td>\n",
              "      <td>Cycle Inspection / Initial Inspection</td>\n",
              "      <td>40.891434</td>\n",
              "      <td>-73.858446</td>\n",
              "      <td>212</td>\n",
              "      <td>12</td>\n",
              "      <td>042200</td>\n",
              "      <td>2063647</td>\n",
              "      <td>2048440035</td>\n",
              "      <td>BX44</td>\n",
              "    </tr>\n",
              "    <tr>\n",
              "      <th>416180</th>\n",
              "      <td>50056337</td>\n",
              "      <td>QI</td>\n",
              "      <td>Manhattan</td>\n",
              "      <td>698</td>\n",
              "      <td>9 AVENUE</td>\n",
              "      <td>10036</td>\n",
              "      <td>2122478991</td>\n",
              "      <td>Thai</td>\n",
              "      <td>2020-02-10</td>\n",
              "      <td>Violations were cited in the following area(s).</td>\n",
              "      <td>02G</td>\n",
              "      <td>Cold food item held above 41º F (smoked fish a...</td>\n",
              "      <td>Critical</td>\n",
              "      <td>12.0</td>\n",
              "      <td>NaN</td>\n",
              "      <td>NaT</td>\n",
              "      <td>2021-06-30</td>\n",
              "      <td>Cycle Inspection / Initial Inspection</td>\n",
              "      <td>40.762087</td>\n",
              "      <td>-73.989954</td>\n",
              "      <td>104</td>\n",
              "      <td>03</td>\n",
              "      <td>012700</td>\n",
              "      <td>1025119</td>\n",
              "      <td>1010380061</td>\n",
              "      <td>MN15</td>\n",
              "    </tr>\n",
              "    <tr>\n",
              "      <th>416181</th>\n",
              "      <td>41720707</td>\n",
              "      <td>EL GRAN CANARIO II RESTAURANT</td>\n",
              "      <td>Queens</td>\n",
              "      <td>11117</td>\n",
              "      <td>JAMAICA AVENUE</td>\n",
              "      <td>11418</td>\n",
              "      <td>7184411113</td>\n",
              "      <td>Spanish</td>\n",
              "      <td>2020-03-10</td>\n",
              "      <td>Violations were cited in the following area(s).</td>\n",
              "      <td>06D</td>\n",
              "      <td>Food contact surface not properly washed, rins...</td>\n",
              "      <td>Critical</td>\n",
              "      <td>32.0</td>\n",
              "      <td>C</td>\n",
              "      <td>2020-03-10</td>\n",
              "      <td>2021-06-30</td>\n",
              "      <td>Cycle Inspection / Re-inspection</td>\n",
              "      <td>40.697005</td>\n",
              "      <td>-73.836970</td>\n",
              "      <td>409</td>\n",
              "      <td>32</td>\n",
              "      <td>013000</td>\n",
              "      <td>4192669</td>\n",
              "      <td>4092250060</td>\n",
              "      <td>QN54</td>\n",
              "    </tr>\n",
              "    <tr>\n",
              "      <th>416182</th>\n",
              "      <td>40393243</td>\n",
              "      <td>BUDDY'S BURRITO &amp; TACO BAR</td>\n",
              "      <td>Brooklyn</td>\n",
              "      <td>260</td>\n",
              "      <td>COURT STREET</td>\n",
              "      <td>11231</td>\n",
              "      <td>7184888695</td>\n",
              "      <td>Tex-Mex</td>\n",
              "      <td>2017-07-25</td>\n",
              "      <td>Violations were cited in the following area(s).</td>\n",
              "      <td>08A</td>\n",
              "      <td>Facility not vermin proof. Harborage or condit...</td>\n",
              "      <td>Not Critical</td>\n",
              "      <td>24.0</td>\n",
              "      <td>NaN</td>\n",
              "      <td>NaT</td>\n",
              "      <td>2021-06-30</td>\n",
              "      <td>Cycle Inspection / Initial Inspection</td>\n",
              "      <td>40.685148</td>\n",
              "      <td>-73.994563</td>\n",
              "      <td>306</td>\n",
              "      <td>39</td>\n",
              "      <td>006700</td>\n",
              "      <td>3336007</td>\n",
              "      <td>3003260037</td>\n",
              "      <td>BK33</td>\n",
              "    </tr>\n",
              "  </tbody>\n",
              "</table>\n",
              "<p>416183 rows × 26 columns</p>\n",
              "</div>"
            ],
            "text/plain": [
              "          RESTID                         REST_NAME  ...         BBL   NTA\n",
              "0       41313114  NEW YORK INSTITUTE OF TECHNOLOGY  ...  1011130046  MN14\n",
              "1       50070793            AMITUOFO VEGAN CUISINE  ...  3031180019  BK78\n",
              "2       50070793            AMITUOFO VEGAN CUISINE  ...  3031180019  BK78\n",
              "3       40361618                        SAL'S DELI  ...  4041740023  QN23\n",
              "4       50035589        DAE SONG CHINESE RESAURANT  ...  4062790021  QN46\n",
              "...          ...                               ...  ...         ...   ...\n",
              "416178  50094398                         SOCIAL 68  ...  1004000001  MN22\n",
              "416179  41707327              DRAGON STATE KITCHEN  ...  2048440035  BX44\n",
              "416180  50056337                                QI  ...  1010380061  MN15\n",
              "416181  41720707     EL GRAN CANARIO II RESTAURANT  ...  4092250060  QN54\n",
              "416182  40393243        BUDDY'S BURRITO & TACO BAR  ...  3003260037  BK33\n",
              "\n",
              "[416183 rows x 26 columns]"
            ]
          },
          "metadata": {
            "tags": []
          },
          "execution_count": 116
        }
      ]
    },
    {
      "cell_type": "markdown",
      "metadata": {
        "id": "hcirVVhaRPOR"
      },
      "source": [
        "## Selecting rows -- `query()`\n",
        "\n",
        "To select rows, we can use the following approach, where we generate a list of boolean values, one for each row of the dataframe, and then we use the list to select which of the rows of the dataframe we want to keep\""
      ]
    },
    {
      "cell_type": "code",
      "metadata": {
        "id": "8_u2KIdGXav3"
      },
      "source": [
        "# Find all violations for restaurants with DBA being Starbucks\n",
        "restaurants.query(' DBA == \"STARBUCKS\" ')"
      ],
      "execution_count": null,
      "outputs": []
    },
    {
      "cell_type": "code",
      "metadata": {
        "id": "37-qYFVyRPOT"
      },
      "source": [
        "# Find all violations with code 04L (i.e., \"has mice\")\n",
        "# Notice the use of backquotes for attribute names that have space\n",
        "restaurants.query(' `VIOLATION CODE` == \"04L\" ')"
      ],
      "execution_count": null,
      "outputs": []
    },
    {
      "cell_type": "code",
      "metadata": {
        "id": "V106ezm-RPOW"
      },
      "source": [
        "# We can store the result in a dataframe called  has_mice\n",
        "has_mice = restaurants.query(' `VIOLATION CODE` == \"04L\" ')\n",
        "has_mice"
      ],
      "execution_count": null,
      "outputs": []
    },
    {
      "cell_type": "code",
      "metadata": {
        "id": "qXC7DeISRPOa"
      },
      "source": [
        "# The most frequent DBA names overall\n",
        "restaurants[\"DBA\"].value_counts()[:20]"
      ],
      "execution_count": null,
      "outputs": []
    },
    {
      "cell_type": "code",
      "metadata": {
        "id": "ieEWvEbZRPOf",
        "outputId": "a37f3601-e22d-42da-e3e5-ef32b7197a9c",
        "colab": {
          "base_uri": "https://localhost:8080/"
        }
      },
      "source": [
        "# List the most frequent DBA values in the dataframe\n",
        "has_mice[\"DBA\"].value_counts()[:20]"
      ],
      "execution_count": 28,
      "outputs": [
        {
          "output_type": "execute_result",
          "data": {
            "text/plain": [
              "SUBWAY                                   253\n",
              "DUNKIN                                   152\n",
              "KENNEDY FRIED CHICKEN                    127\n",
              "CROWN FRIED CHICKEN                      113\n",
              "STARBUCKS                                 86\n",
              "MCDONALD'S                                80\n",
              "GOLDEN KRUST CARIBBEAN BAKERY & GRILL     80\n",
              "POPEYES                                   75\n",
              "BURGER KING                               65\n",
              "DUNKIN',' BASKIN ROBBINS                  48\n",
              "KFC                                       39\n",
              "DOMINO'S                                  38\n",
              "CARVEL                                    37\n",
              "LITTLE CAESARS                            34\n",
              "AMC THEATRES                              31\n",
              "PAPA JOHN'S                               27\n",
              "VIVI BUBBLE TEA                           22\n",
              "INSOMNIA COOKIES                          21\n",
              "EMPANADAS MONUMENTAL                      21\n",
              "CHECKERS                                  20\n",
              "Name: DBA, dtype: int64"
            ]
          },
          "metadata": {
            "tags": []
          },
          "execution_count": 28
        }
      ]
    },
    {
      "cell_type": "code",
      "metadata": {
        "id": "Eag5DaYgRPOh",
        "outputId": "7ff27f93-0ba9-43ee-c720-61d7c20b4698",
        "colab": {
          "base_uri": "https://localhost:8080/"
        }
      },
      "source": [
        "has_mice[\"CAMIS\"].value_counts()[:10]"
      ],
      "execution_count": 29,
      "outputs": [
        {
          "output_type": "execute_result",
          "data": {
            "text/plain": [
              "50015263    13\n",
              "50016943    13\n",
              "41642251    12\n",
              "50058969    12\n",
              "50046623    12\n",
              "50017182    11\n",
              "50015341    11\n",
              "50045194    11\n",
              "41524890    11\n",
              "40423819    11\n",
              "Name: CAMIS, dtype: int64"
            ]
          },
          "metadata": {
            "tags": []
          },
          "execution_count": 29
        }
      ]
    },
    {
      "cell_type": "code",
      "metadata": {
        "id": "POUKSEmsRPOj"
      },
      "source": [
        "has_mice.query( ' CAMIS == \"50015263\" ' )"
      ],
      "execution_count": null,
      "outputs": []
    },
    {
      "cell_type": "markdown",
      "metadata": {
        "id": "SaIVZ16DRPOn"
      },
      "source": [
        "And we can use more complex conditions. "
      ]
    },
    {
      "cell_type": "code",
      "metadata": {
        "id": "1j2_O5AdRPOn"
      },
      "source": [
        "# AND in pandas is \"&\"\n",
        "# OR in pandas is \"|\""
      ],
      "execution_count": null,
      "outputs": []
    },
    {
      "cell_type": "code",
      "metadata": {
        "id": "OBDoVR50RPOo",
        "outputId": "90d03d6f-137b-4cd3-a129-c2fca59efd0a",
        "colab": {
          "base_uri": "https://localhost:8080/",
          "height": 417
        }
      },
      "source": [
        "has_mice_10012 = (\n",
        "    restaurants\n",
        "    .query(' `VIOLATION CODE` == \"04L\" & ZIPCODE == \"10012\" ')\n",
        "    .filter( items = ['DBA', 'BUILDING', 'STREET', 'INSPECTION DATE'])\n",
        ")\n",
        "\n",
        "has_mice_10012"
      ],
      "execution_count": 49,
      "outputs": [
        {
          "output_type": "execute_result",
          "data": {
            "text/html": [
              "<div>\n",
              "<style scoped>\n",
              "    .dataframe tbody tr th:only-of-type {\n",
              "        vertical-align: middle;\n",
              "    }\n",
              "\n",
              "    .dataframe tbody tr th {\n",
              "        vertical-align: top;\n",
              "    }\n",
              "\n",
              "    .dataframe thead th {\n",
              "        text-align: right;\n",
              "    }\n",
              "</style>\n",
              "<table border=\"1\" class=\"dataframe\">\n",
              "  <thead>\n",
              "    <tr style=\"text-align: right;\">\n",
              "      <th></th>\n",
              "      <th>DBA</th>\n",
              "      <th>BUILDING</th>\n",
              "      <th>STREET</th>\n",
              "      <th>INSPECTION DATE</th>\n",
              "    </tr>\n",
              "  </thead>\n",
              "  <tbody>\n",
              "    <tr>\n",
              "      <th>1418</th>\n",
              "      <td>SAKURA SUSHI AND THAI</td>\n",
              "      <td>273</td>\n",
              "      <td>MOTT STREET</td>\n",
              "      <td>2018-12-05</td>\n",
              "    </tr>\n",
              "    <tr>\n",
              "      <th>3527</th>\n",
              "      <td>ARTICHOKE BASILLE'S PIZZA &amp; BAR</td>\n",
              "      <td>111</td>\n",
              "      <td>MACDOUGAL STREET</td>\n",
              "      <td>2019-11-18</td>\n",
              "    </tr>\n",
              "    <tr>\n",
              "      <th>3649</th>\n",
              "      <td>PICCOLA CUCINA</td>\n",
              "      <td>184</td>\n",
              "      <td>PRINCE STREET</td>\n",
              "      <td>2020-02-06</td>\n",
              "    </tr>\n",
              "    <tr>\n",
              "      <th>3672</th>\n",
              "      <td>BISTROT LEO</td>\n",
              "      <td>60</td>\n",
              "      <td>THOMPSON STREET</td>\n",
              "      <td>2018-05-09</td>\n",
              "    </tr>\n",
              "    <tr>\n",
              "      <th>8826</th>\n",
              "      <td>DOS CAMINOS SOHO</td>\n",
              "      <td>475</td>\n",
              "      <td>WEST BROADWAY</td>\n",
              "      <td>2018-04-05</td>\n",
              "    </tr>\n",
              "    <tr>\n",
              "      <th>...</th>\n",
              "      <td>...</td>\n",
              "      <td>...</td>\n",
              "      <td>...</td>\n",
              "      <td>...</td>\n",
              "    </tr>\n",
              "    <tr>\n",
              "      <th>410493</th>\n",
              "      <td>RAMEN-YA</td>\n",
              "      <td>133</td>\n",
              "      <td>WEST    3 STREET</td>\n",
              "      <td>2018-10-31</td>\n",
              "    </tr>\n",
              "    <tr>\n",
              "      <th>412090</th>\n",
              "      <td>PEPE ROSSO TO GO</td>\n",
              "      <td>149</td>\n",
              "      <td>SULLIVAN STREET</td>\n",
              "      <td>2019-01-16</td>\n",
              "    </tr>\n",
              "    <tr>\n",
              "      <th>412408</th>\n",
              "      <td>BOND ST</td>\n",
              "      <td>6</td>\n",
              "      <td>BOND STREET</td>\n",
              "      <td>2019-06-25</td>\n",
              "    </tr>\n",
              "    <tr>\n",
              "      <th>412450</th>\n",
              "      <td>BY NAME CAFE</td>\n",
              "      <td>324</td>\n",
              "      <td>BOWERY</td>\n",
              "      <td>2019-10-04</td>\n",
              "    </tr>\n",
              "    <tr>\n",
              "      <th>412823</th>\n",
              "      <td>SPRINGBONE KITCHEN</td>\n",
              "      <td>90</td>\n",
              "      <td>WEST    3 STREET</td>\n",
              "      <td>2017-12-06</td>\n",
              "    </tr>\n",
              "  </tbody>\n",
              "</table>\n",
              "<p>406 rows × 4 columns</p>\n",
              "</div>"
            ],
            "text/plain": [
              "                                    DBA  ... INSPECTION DATE\n",
              "1418              SAKURA SUSHI AND THAI  ...      2018-12-05\n",
              "3527    ARTICHOKE BASILLE'S PIZZA & BAR  ...      2019-11-18\n",
              "3649                     PICCOLA CUCINA  ...      2020-02-06\n",
              "3672                        BISTROT LEO  ...      2018-05-09\n",
              "8826                   DOS CAMINOS SOHO  ...      2018-04-05\n",
              "...                                 ...  ...             ...\n",
              "410493                         RAMEN-YA  ...      2018-10-31\n",
              "412090                 PEPE ROSSO TO GO  ...      2019-01-16\n",
              "412408                          BOND ST  ...      2019-06-25\n",
              "412450                     BY NAME CAFE  ...      2019-10-04\n",
              "412823               SPRINGBONE KITCHEN  ...      2017-12-06\n",
              "\n",
              "[406 rows x 4 columns]"
            ]
          },
          "metadata": {
            "tags": []
          },
          "execution_count": 49
        }
      ]
    },
    {
      "cell_type": "code",
      "metadata": {
        "id": "CLEmEPIRRPOr",
        "outputId": "a3572b88-5099-4032-dd6a-53cadb214b22",
        "colab": {
          "base_uri": "https://localhost:8080/"
        }
      },
      "source": [
        "has_mice_10012[\"DBA\"].value_counts()[:30]"
      ],
      "execution_count": 41,
      "outputs": [
        {
          "output_type": "execute_result",
          "data": {
            "text/plain": [
              "LITTLE CUPCAKE BAKE SHOP         11\n",
              "CAFETAL SOCIAL CLUB, CHACHIS      9\n",
              "SPRINGBONE KITCHEN                7\n",
              "EGG SHOP                          7\n",
              "DANTE                             7\n",
              "INSOMNIA COOKIES                  6\n",
              "GROOVE                            6\n",
              "PEPE ROSSO TO GO                  6\n",
              "PICCOLA CUCINA                    6\n",
              "MONTE'S                           6\n",
              "THINK COFFEE                      6\n",
              "EPISTROPHY CAFE                   5\n",
              "BEN'S PIZZA                       5\n",
              "BANTER                            5\n",
              "GO ZEN RESTAURANT                 5\n",
              "RAMEN-YA                          5\n",
              "THE GRISLY PEAR                   5\n",
              "VIN ET FLEURS                     5\n",
              "CHOBANI SOHO                      5\n",
              "VOLARE RESTAURANT                 5\n",
              "THE RED LION                      5\n",
              "BAO TEA HOUSE                     5\n",
              "TRIONA'S                          5\n",
              "BALZEM                            4\n",
              "OLD TBILISI                       4\n",
              "ANGELIKA FILM CENTER              4\n",
              "THE FOLLY                         4\n",
              "GREENWICH VILLAGE COMEDY CLUB     4\n",
              "SOHO ROOM                         4\n",
              "PARISI BAKERY                     4\n",
              "Name: DBA, dtype: int64"
            ]
          },
          "metadata": {
            "tags": []
          },
          "execution_count": 41
        }
      ]
    },
    {
      "cell_type": "code",
      "metadata": {
        "id": "W3NvGsgoRPOs",
        "outputId": "7d6da8fc-6dc8-454a-a99a-8fb04188f1aa",
        "colab": {
          "base_uri": "https://localhost:8080/",
          "height": 458
        }
      },
      "source": [
        "has_mice_10012[\"DBA\"].value_counts()[30::-1].plot(kind=\"barh\")"
      ],
      "execution_count": 38,
      "outputs": [
        {
          "output_type": "execute_result",
          "data": {
            "text/plain": [
              "<matplotlib.axes._subplots.AxesSubplot at 0x7fd8c2324b10>"
            ]
          },
          "metadata": {
            "tags": []
          },
          "execution_count": 38
        },
        {
          "output_type": "display_data",
          "data": {
            "image/png": "[encoded data removed]",
            "text/plain": [
              "<Figure size 748.8x514.8 with 1 Axes>"
            ]
          },
          "metadata": {
            "tags": [],
            "image/png": {
              "width": 840,
              "height": 424
            }
          }
        }
      ]
    },
    {
      "cell_type": "markdown",
      "metadata": {
        "id": "07cNAS0Lcf_y"
      },
      "source": [
        "## Selecting distinct values -- `drop_duplicates()`"
      ]
    },
    {
      "cell_type": "markdown",
      "metadata": {
        "id": "ii2uPjjydLyD"
      },
      "source": [
        "We can do the equivalent of `SELECT DISTINCT` in Pandas by doing the following"
      ]
    },
    {
      "cell_type": "code",
      "metadata": {
        "id": "TmHYLEwhdMei",
        "outputId": "ce9f93d5-cf56-454a-98ba-6906c0ca9951",
        "colab": {
          "base_uri": "https://localhost:8080/",
          "height": 417
        }
      },
      "source": [
        "(\n",
        "    has_mice_10012\n",
        "    .filter( items = ['DBA', 'BUILDING', 'STREET'])\n",
        "    .drop_duplicates()\n",
        ")"
      ],
      "execution_count": 42,
      "outputs": [
        {
          "output_type": "execute_result",
          "data": {
            "text/html": [
              "<div>\n",
              "<style scoped>\n",
              "    .dataframe tbody tr th:only-of-type {\n",
              "        vertical-align: middle;\n",
              "    }\n",
              "\n",
              "    .dataframe tbody tr th {\n",
              "        vertical-align: top;\n",
              "    }\n",
              "\n",
              "    .dataframe thead th {\n",
              "        text-align: right;\n",
              "    }\n",
              "</style>\n",
              "<table border=\"1\" class=\"dataframe\">\n",
              "  <thead>\n",
              "    <tr style=\"text-align: right;\">\n",
              "      <th></th>\n",
              "      <th>DBA</th>\n",
              "      <th>BUILDING</th>\n",
              "      <th>STREET</th>\n",
              "    </tr>\n",
              "  </thead>\n",
              "  <tbody>\n",
              "    <tr>\n",
              "      <th>1418</th>\n",
              "      <td>SAKURA SUSHI AND THAI</td>\n",
              "      <td>273</td>\n",
              "      <td>MOTT STREET</td>\n",
              "    </tr>\n",
              "    <tr>\n",
              "      <th>3527</th>\n",
              "      <td>ARTICHOKE BASILLE'S PIZZA &amp; BAR</td>\n",
              "      <td>111</td>\n",
              "      <td>MACDOUGAL STREET</td>\n",
              "    </tr>\n",
              "    <tr>\n",
              "      <th>3649</th>\n",
              "      <td>PICCOLA CUCINA</td>\n",
              "      <td>184</td>\n",
              "      <td>PRINCE STREET</td>\n",
              "    </tr>\n",
              "    <tr>\n",
              "      <th>3672</th>\n",
              "      <td>BISTROT LEO</td>\n",
              "      <td>60</td>\n",
              "      <td>THOMPSON STREET</td>\n",
              "    </tr>\n",
              "    <tr>\n",
              "      <th>8826</th>\n",
              "      <td>DOS CAMINOS SOHO</td>\n",
              "      <td>475</td>\n",
              "      <td>WEST BROADWAY</td>\n",
              "    </tr>\n",
              "    <tr>\n",
              "      <th>...</th>\n",
              "      <td>...</td>\n",
              "      <td>...</td>\n",
              "      <td>...</td>\n",
              "    </tr>\n",
              "    <tr>\n",
              "      <th>377327</th>\n",
              "      <td>WASHINGTON SQUARE DINER</td>\n",
              "      <td>150</td>\n",
              "      <td>WEST    4 STREET</td>\n",
              "    </tr>\n",
              "    <tr>\n",
              "      <th>379754</th>\n",
              "      <td>SAGE RESTAURANT NYC</td>\n",
              "      <td>352</td>\n",
              "      <td>BOWERY</td>\n",
              "    </tr>\n",
              "    <tr>\n",
              "      <th>384523</th>\n",
              "      <td>POMMES FRITES</td>\n",
              "      <td>128</td>\n",
              "      <td>MACDOUGAL STREET</td>\n",
              "    </tr>\n",
              "    <tr>\n",
              "      <th>394123</th>\n",
              "      <td>GIMME COFFEE</td>\n",
              "      <td>228</td>\n",
              "      <td>MOTT STREET</td>\n",
              "    </tr>\n",
              "    <tr>\n",
              "      <th>404480</th>\n",
              "      <td>TULO HOUSE</td>\n",
              "      <td>217</td>\n",
              "      <td>MULBERRY STREET</td>\n",
              "    </tr>\n",
              "  </tbody>\n",
              "</table>\n",
              "<p>160 rows × 3 columns</p>\n",
              "</div>"
            ],
            "text/plain": [
              "                                    DBA BUILDING            STREET\n",
              "1418              SAKURA SUSHI AND THAI      273       MOTT STREET\n",
              "3527    ARTICHOKE BASILLE'S PIZZA & BAR      111  MACDOUGAL STREET\n",
              "3649                     PICCOLA CUCINA      184     PRINCE STREET\n",
              "3672                        BISTROT LEO       60   THOMPSON STREET\n",
              "8826                   DOS CAMINOS SOHO      475     WEST BROADWAY\n",
              "...                                 ...      ...               ...\n",
              "377327          WASHINGTON SQUARE DINER      150  WEST    4 STREET\n",
              "379754              SAGE RESTAURANT NYC      352            BOWERY\n",
              "384523                    POMMES FRITES      128  MACDOUGAL STREET\n",
              "394123                     GIMME COFFEE      228       MOTT STREET\n",
              "404480                       TULO HOUSE      217   MULBERRY STREET\n",
              "\n",
              "[160 rows x 3 columns]"
            ]
          },
          "metadata": {
            "tags": []
          },
          "execution_count": 42
        }
      ]
    },
    {
      "cell_type": "markdown",
      "metadata": {
        "id": "8eqOEGYXdl6K"
      },
      "source": [
        "## Sorting values -- `sort_values()`\n",
        "\n",
        "And we can do the equivalent of `ORDER BY` by using the `.sort_values()"
      ]
    },
    {
      "cell_type": "code",
      "metadata": {
        "id": "vImT3bKGdz1_",
        "outputId": "3fe7bf59-904c-4bec-dc11-0f167cd589fb",
        "colab": {
          "base_uri": "https://localhost:8080/",
          "height": 511
        }
      },
      "source": [
        "(\n",
        "    has_mice_10012\n",
        "    .sort_values(\"INSPECTION DATE\", ascending=False)\n",
        "    .head(15)\n",
        ")"
      ],
      "execution_count": 53,
      "outputs": [
        {
          "output_type": "execute_result",
          "data": {
            "text/html": [
              "<div>\n",
              "<style scoped>\n",
              "    .dataframe tbody tr th:only-of-type {\n",
              "        vertical-align: middle;\n",
              "    }\n",
              "\n",
              "    .dataframe tbody tr th {\n",
              "        vertical-align: top;\n",
              "    }\n",
              "\n",
              "    .dataframe thead th {\n",
              "        text-align: right;\n",
              "    }\n",
              "</style>\n",
              "<table border=\"1\" class=\"dataframe\">\n",
              "  <thead>\n",
              "    <tr style=\"text-align: right;\">\n",
              "      <th></th>\n",
              "      <th>DBA</th>\n",
              "      <th>BUILDING</th>\n",
              "      <th>STREET</th>\n",
              "      <th>INSPECTION DATE</th>\n",
              "    </tr>\n",
              "  </thead>\n",
              "  <tbody>\n",
              "    <tr>\n",
              "      <th>127967</th>\n",
              "      <td>BALZEM</td>\n",
              "      <td>202</td>\n",
              "      <td>MOTT STREET</td>\n",
              "      <td>2020-03-16</td>\n",
              "    </tr>\n",
              "    <tr>\n",
              "      <th>377518</th>\n",
              "      <td>LITTLE CUPCAKE BAKE SHOP</td>\n",
              "      <td>30</td>\n",
              "      <td>PRINCE STREET</td>\n",
              "      <td>2020-03-16</td>\n",
              "    </tr>\n",
              "    <tr>\n",
              "      <th>146590</th>\n",
              "      <td>THE SMILE</td>\n",
              "      <td>26</td>\n",
              "      <td>BOND STREET</td>\n",
              "      <td>2020-03-13</td>\n",
              "    </tr>\n",
              "    <tr>\n",
              "      <th>98250</th>\n",
              "      <td>BOSIE</td>\n",
              "      <td>506</td>\n",
              "      <td>LAGUARDIA PLACE</td>\n",
              "      <td>2020-03-06</td>\n",
              "    </tr>\n",
              "    <tr>\n",
              "      <th>93218</th>\n",
              "      <td>THINK COFFEE</td>\n",
              "      <td>248</td>\n",
              "      <td>MERCER STREET</td>\n",
              "      <td>2020-03-05</td>\n",
              "    </tr>\n",
              "    <tr>\n",
              "      <th>354505</th>\n",
              "      <td>ST TROPEZ</td>\n",
              "      <td>196</td>\n",
              "      <td>SPRING STREET</td>\n",
              "      <td>2020-03-05</td>\n",
              "    </tr>\n",
              "    <tr>\n",
              "      <th>57766</th>\n",
              "      <td>SOHO ROOM</td>\n",
              "      <td>203</td>\n",
              "      <td>SPRING STREET</td>\n",
              "      <td>2020-03-05</td>\n",
              "    </tr>\n",
              "    <tr>\n",
              "      <th>212028</th>\n",
              "      <td>GREENWICH VILLAGE COMEDY CLUB</td>\n",
              "      <td>99</td>\n",
              "      <td>MACDOUGAL STREET</td>\n",
              "      <td>2020-03-03</td>\n",
              "    </tr>\n",
              "    <tr>\n",
              "      <th>156562</th>\n",
              "      <td>KETTL TEA BOWERY</td>\n",
              "      <td>348</td>\n",
              "      <td>BOWERY</td>\n",
              "      <td>2020-02-26</td>\n",
              "    </tr>\n",
              "    <tr>\n",
              "      <th>348365</th>\n",
              "      <td>MARCELLINO</td>\n",
              "      <td>178</td>\n",
              "      <td>MULBERRY STREET</td>\n",
              "      <td>2020-02-24</td>\n",
              "    </tr>\n",
              "    <tr>\n",
              "      <th>34591</th>\n",
              "      <td>MAMOUN FALAFEL</td>\n",
              "      <td>119</td>\n",
              "      <td>MACDOUGAL STREET</td>\n",
              "      <td>2020-02-24</td>\n",
              "    </tr>\n",
              "    <tr>\n",
              "      <th>132384</th>\n",
              "      <td>EGG SHOP</td>\n",
              "      <td>151</td>\n",
              "      <td>ELIZABETH STREET</td>\n",
              "      <td>2020-02-20</td>\n",
              "    </tr>\n",
              "    <tr>\n",
              "      <th>46800</th>\n",
              "      <td>DEBUTEA</td>\n",
              "      <td>217</td>\n",
              "      <td>THOMPSON STREET</td>\n",
              "      <td>2020-02-20</td>\n",
              "    </tr>\n",
              "    <tr>\n",
              "      <th>267925</th>\n",
              "      <td>GINO SORBILLO</td>\n",
              "      <td>334</td>\n",
              "      <td>BOWERY</td>\n",
              "      <td>2020-02-13</td>\n",
              "    </tr>\n",
              "    <tr>\n",
              "      <th>253618</th>\n",
              "      <td>ALTESI DOWNTOWN RISTORANTE</td>\n",
              "      <td>200</td>\n",
              "      <td>SPRING STREET</td>\n",
              "      <td>2020-02-13</td>\n",
              "    </tr>\n",
              "  </tbody>\n",
              "</table>\n",
              "</div>"
            ],
            "text/plain": [
              "                                  DBA  ... INSPECTION DATE\n",
              "127967                         BALZEM  ...      2020-03-16\n",
              "377518       LITTLE CUPCAKE BAKE SHOP  ...      2020-03-16\n",
              "146590                      THE SMILE  ...      2020-03-13\n",
              "98250                           BOSIE  ...      2020-03-06\n",
              "93218                    THINK COFFEE  ...      2020-03-05\n",
              "354505                      ST TROPEZ  ...      2020-03-05\n",
              "57766                       SOHO ROOM  ...      2020-03-05\n",
              "212028  GREENWICH VILLAGE COMEDY CLUB  ...      2020-03-03\n",
              "156562               KETTL TEA BOWERY  ...      2020-02-26\n",
              "348365                     MARCELLINO  ...      2020-02-24\n",
              "34591                  MAMOUN FALAFEL  ...      2020-02-24\n",
              "132384                       EGG SHOP  ...      2020-02-20\n",
              "46800                         DEBUTEA  ...      2020-02-20\n",
              "267925                  GINO SORBILLO  ...      2020-02-13\n",
              "253618     ALTESI DOWNTOWN RISTORANTE  ...      2020-02-13\n",
              "\n",
              "[15 rows x 4 columns]"
            ]
          },
          "metadata": {
            "tags": []
          },
          "execution_count": 53
        }
      ]
    },
    {
      "cell_type": "code",
      "metadata": {
        "id": "Qa78sxUEeev3",
        "outputId": "5b111c86-aae5-4029-c86e-344e8cf36dc4",
        "colab": {
          "base_uri": "https://localhost:8080/",
          "height": 511
        }
      },
      "source": [
        "(\n",
        "    has_mice_10012\n",
        "    .sort_values([\"INSPECTION DATE\",\"DBA\"], ascending=[False,True])\n",
        "    .head(15)\n",
        ")"
      ],
      "execution_count": 54,
      "outputs": [
        {
          "output_type": "execute_result",
          "data": {
            "text/html": [
              "<div>\n",
              "<style scoped>\n",
              "    .dataframe tbody tr th:only-of-type {\n",
              "        vertical-align: middle;\n",
              "    }\n",
              "\n",
              "    .dataframe tbody tr th {\n",
              "        vertical-align: top;\n",
              "    }\n",
              "\n",
              "    .dataframe thead th {\n",
              "        text-align: right;\n",
              "    }\n",
              "</style>\n",
              "<table border=\"1\" class=\"dataframe\">\n",
              "  <thead>\n",
              "    <tr style=\"text-align: right;\">\n",
              "      <th></th>\n",
              "      <th>DBA</th>\n",
              "      <th>BUILDING</th>\n",
              "      <th>STREET</th>\n",
              "      <th>INSPECTION DATE</th>\n",
              "    </tr>\n",
              "  </thead>\n",
              "  <tbody>\n",
              "    <tr>\n",
              "      <th>127967</th>\n",
              "      <td>BALZEM</td>\n",
              "      <td>202</td>\n",
              "      <td>MOTT STREET</td>\n",
              "      <td>2020-03-16</td>\n",
              "    </tr>\n",
              "    <tr>\n",
              "      <th>377518</th>\n",
              "      <td>LITTLE CUPCAKE BAKE SHOP</td>\n",
              "      <td>30</td>\n",
              "      <td>PRINCE STREET</td>\n",
              "      <td>2020-03-16</td>\n",
              "    </tr>\n",
              "    <tr>\n",
              "      <th>146590</th>\n",
              "      <td>THE SMILE</td>\n",
              "      <td>26</td>\n",
              "      <td>BOND STREET</td>\n",
              "      <td>2020-03-13</td>\n",
              "    </tr>\n",
              "    <tr>\n",
              "      <th>98250</th>\n",
              "      <td>BOSIE</td>\n",
              "      <td>506</td>\n",
              "      <td>LAGUARDIA PLACE</td>\n",
              "      <td>2020-03-06</td>\n",
              "    </tr>\n",
              "    <tr>\n",
              "      <th>57766</th>\n",
              "      <td>SOHO ROOM</td>\n",
              "      <td>203</td>\n",
              "      <td>SPRING STREET</td>\n",
              "      <td>2020-03-05</td>\n",
              "    </tr>\n",
              "    <tr>\n",
              "      <th>354505</th>\n",
              "      <td>ST TROPEZ</td>\n",
              "      <td>196</td>\n",
              "      <td>SPRING STREET</td>\n",
              "      <td>2020-03-05</td>\n",
              "    </tr>\n",
              "    <tr>\n",
              "      <th>93218</th>\n",
              "      <td>THINK COFFEE</td>\n",
              "      <td>248</td>\n",
              "      <td>MERCER STREET</td>\n",
              "      <td>2020-03-05</td>\n",
              "    </tr>\n",
              "    <tr>\n",
              "      <th>212028</th>\n",
              "      <td>GREENWICH VILLAGE COMEDY CLUB</td>\n",
              "      <td>99</td>\n",
              "      <td>MACDOUGAL STREET</td>\n",
              "      <td>2020-03-03</td>\n",
              "    </tr>\n",
              "    <tr>\n",
              "      <th>156562</th>\n",
              "      <td>KETTL TEA BOWERY</td>\n",
              "      <td>348</td>\n",
              "      <td>BOWERY</td>\n",
              "      <td>2020-02-26</td>\n",
              "    </tr>\n",
              "    <tr>\n",
              "      <th>34591</th>\n",
              "      <td>MAMOUN FALAFEL</td>\n",
              "      <td>119</td>\n",
              "      <td>MACDOUGAL STREET</td>\n",
              "      <td>2020-02-24</td>\n",
              "    </tr>\n",
              "    <tr>\n",
              "      <th>348365</th>\n",
              "      <td>MARCELLINO</td>\n",
              "      <td>178</td>\n",
              "      <td>MULBERRY STREET</td>\n",
              "      <td>2020-02-24</td>\n",
              "    </tr>\n",
              "    <tr>\n",
              "      <th>46800</th>\n",
              "      <td>DEBUTEA</td>\n",
              "      <td>217</td>\n",
              "      <td>THOMPSON STREET</td>\n",
              "      <td>2020-02-20</td>\n",
              "    </tr>\n",
              "    <tr>\n",
              "      <th>132384</th>\n",
              "      <td>EGG SHOP</td>\n",
              "      <td>151</td>\n",
              "      <td>ELIZABETH STREET</td>\n",
              "      <td>2020-02-20</td>\n",
              "    </tr>\n",
              "    <tr>\n",
              "      <th>253618</th>\n",
              "      <td>ALTESI DOWNTOWN RISTORANTE</td>\n",
              "      <td>200</td>\n",
              "      <td>SPRING STREET</td>\n",
              "      <td>2020-02-13</td>\n",
              "    </tr>\n",
              "    <tr>\n",
              "      <th>267925</th>\n",
              "      <td>GINO SORBILLO</td>\n",
              "      <td>334</td>\n",
              "      <td>BOWERY</td>\n",
              "      <td>2020-02-13</td>\n",
              "    </tr>\n",
              "  </tbody>\n",
              "</table>\n",
              "</div>"
            ],
            "text/plain": [
              "                                  DBA  ... INSPECTION DATE\n",
              "127967                         BALZEM  ...      2020-03-16\n",
              "377518       LITTLE CUPCAKE BAKE SHOP  ...      2020-03-16\n",
              "146590                      THE SMILE  ...      2020-03-13\n",
              "98250                           BOSIE  ...      2020-03-06\n",
              "57766                       SOHO ROOM  ...      2020-03-05\n",
              "354505                      ST TROPEZ  ...      2020-03-05\n",
              "93218                    THINK COFFEE  ...      2020-03-05\n",
              "212028  GREENWICH VILLAGE COMEDY CLUB  ...      2020-03-03\n",
              "156562               KETTL TEA BOWERY  ...      2020-02-26\n",
              "34591                  MAMOUN FALAFEL  ...      2020-02-24\n",
              "348365                     MARCELLINO  ...      2020-02-24\n",
              "46800                         DEBUTEA  ...      2020-02-20\n",
              "132384                       EGG SHOP  ...      2020-02-20\n",
              "253618     ALTESI DOWNTOWN RISTORANTE  ...      2020-02-13\n",
              "267925                  GINO SORBILLO  ...      2020-02-13\n",
              "\n",
              "[15 rows x 4 columns]"
            ]
          },
          "metadata": {
            "tags": []
          },
          "execution_count": 54
        }
      ]
    },
    {
      "cell_type": "markdown",
      "metadata": {
        "id": "sV9NGwc2bUCS"
      },
      "source": [
        "## Defining New Columns -- `assign()` and `apply()`\n",
        "\n"
      ]
    },
    {
      "cell_type": "markdown",
      "metadata": {
        "id": "sdiZXyXIq4rx"
      },
      "source": [
        "### Using the `assign()` approach"
      ]
    },
    {
      "cell_type": "markdown",
      "metadata": {
        "id": "SlTXmZwqkcSE"
      },
      "source": [
        "The `assign` command applies a function to a dataframe and returns back a new dataframe with the new column(s)."
      ]
    },
    {
      "cell_type": "code",
      "metadata": {
        "id": "mtL_mCUpbbjd"
      },
      "source": [
        "import numpy as np\n",
        "\n",
        "# We define a function that will take as input a dataframe df\n",
        "# and returns back a new column. This function computes\n",
        "# the distance (in miles) from NYU, given the lat/lon of the \n",
        "# other location\n",
        "def distance(df):\n",
        "  NYU_lon = -73.9962293\n",
        "  NYU_lat = 40.7291527\n",
        "  # The calculation below is simply the Pythagorean theorem.\n",
        "  # The normalizing values are just for converting lat/lon differences\n",
        "  # to miles\n",
        "  distance = ((df.Latitude-NYU_lat)/0.0146)**2 + ((df.Longitude-NYU_lon)/0.0196)**2\n",
        "  return np.sqrt(distance)\n",
        "\n",
        "# This function combines STREET/BUILDING/BORO/ZIPCODE columns into one address\n",
        "def combine_address(df):\n",
        "  return (df.BUILDING + ' ' + df.STREET + ', ' + df.BORO + ', NY ' + df.ZIPCODE).str.upper()"
      ],
      "execution_count": 110,
      "outputs": []
    },
    {
      "cell_type": "code",
      "metadata": {
        "id": "Lqr1oIJYczP3",
        "outputId": "6ce8c7a8-bbf3-467c-c2af-97e92356ec06",
        "colab": {
          "base_uri": "https://localhost:8080/",
          "height": 417
        }
      },
      "source": [
        "# We now use the `assign` function to create two new columns\n",
        "# using the logic in the functions above,\n",
        "(\n",
        "  restaurants\n",
        "  .assign(\n",
        "      distance_from_NYU = distance,\n",
        "      address = combine_address\n",
        "  )\n",
        "  .filter(items = ['DBA','address','distance_from_NYU'])\n",
        ")"
      ],
      "execution_count": 112,
      "outputs": [
        {
          "output_type": "execute_result",
          "data": {
            "text/html": [
              "<div>\n",
              "<style scoped>\n",
              "    .dataframe tbody tr th:only-of-type {\n",
              "        vertical-align: middle;\n",
              "    }\n",
              "\n",
              "    .dataframe tbody tr th {\n",
              "        vertical-align: top;\n",
              "    }\n",
              "\n",
              "    .dataframe thead th {\n",
              "        text-align: right;\n",
              "    }\n",
              "</style>\n",
              "<table border=\"1\" class=\"dataframe\">\n",
              "  <thead>\n",
              "    <tr style=\"text-align: right;\">\n",
              "      <th></th>\n",
              "      <th>DBA</th>\n",
              "      <th>address</th>\n",
              "      <th>distance_from_NYU</th>\n",
              "    </tr>\n",
              "  </thead>\n",
              "  <tbody>\n",
              "    <tr>\n",
              "      <th>0</th>\n",
              "      <td>NEW YORK INSTITUTE OF TECHNOLOGY</td>\n",
              "      <td>1849 BROADWAY, MANHATTAN, NY 10023</td>\n",
              "      <td>2.846424</td>\n",
              "    </tr>\n",
              "    <tr>\n",
              "      <th>1</th>\n",
              "      <td>AMITUOFO VEGAN CUISINE</td>\n",
              "      <td>19 BOGART STREET, BROOKLYN, NY 11206</td>\n",
              "      <td>3.662898</td>\n",
              "    </tr>\n",
              "    <tr>\n",
              "      <th>2</th>\n",
              "      <td>AMITUOFO VEGAN CUISINE</td>\n",
              "      <td>19 BOGART STREET, BROOKLYN, NY 11206</td>\n",
              "      <td>3.662898</td>\n",
              "    </tr>\n",
              "    <tr>\n",
              "      <th>3</th>\n",
              "      <td>SAL'S DELI</td>\n",
              "      <td>12908 20 AVENUE, QUEENS, NY 11356</td>\n",
              "      <td>8.772213</td>\n",
              "    </tr>\n",
              "    <tr>\n",
              "      <th>4</th>\n",
              "      <td>DAE SONG CHINESE RESAURANT</td>\n",
              "      <td>4332 CORPORAL KENNEDY ST, QUEENS, NY 11361</td>\n",
              "      <td>11.523228</td>\n",
              "    </tr>\n",
              "    <tr>\n",
              "      <th>...</th>\n",
              "      <td>...</td>\n",
              "      <td>...</td>\n",
              "      <td>...</td>\n",
              "    </tr>\n",
              "    <tr>\n",
              "      <th>416178</th>\n",
              "      <td>SOCIAL 68</td>\n",
              "      <td>68 AVENUE A, MANHATTAN, NY 10009</td>\n",
              "      <td>0.671314</td>\n",
              "    </tr>\n",
              "    <tr>\n",
              "      <th>416179</th>\n",
              "      <td>DRAGON STATE KITCHEN</td>\n",
              "      <td>4124A WHITE PLAINS ROAD, BRONX, NY 10466</td>\n",
              "      <td>13.151567</td>\n",
              "    </tr>\n",
              "    <tr>\n",
              "      <th>416180</th>\n",
              "      <td>QI</td>\n",
              "      <td>698 9 AVENUE, MANHATTAN, NY 10036</td>\n",
              "      <td>2.278356</td>\n",
              "    </tr>\n",
              "    <tr>\n",
              "      <th>416181</th>\n",
              "      <td>EL GRAN CANARIO II RESTAURANT</td>\n",
              "      <td>11117 JAMAICA AVENUE, QUEENS, NY 11418</td>\n",
              "      <td>8.418524</td>\n",
              "    </tr>\n",
              "    <tr>\n",
              "      <th>416182</th>\n",
              "      <td>BUDDY'S BURRITO &amp; TACO BAR</td>\n",
              "      <td>260 COURT STREET, BROOKLYN, NY 11231</td>\n",
              "      <td>3.015195</td>\n",
              "    </tr>\n",
              "  </tbody>\n",
              "</table>\n",
              "<p>416183 rows × 3 columns</p>\n",
              "</div>"
            ],
            "text/plain": [
              "                                     DBA  ... distance_from_NYU\n",
              "0       NEW YORK INSTITUTE OF TECHNOLOGY  ...          2.846424\n",
              "1                 AMITUOFO VEGAN CUISINE  ...          3.662898\n",
              "2                 AMITUOFO VEGAN CUISINE  ...          3.662898\n",
              "3                             SAL'S DELI  ...          8.772213\n",
              "4             DAE SONG CHINESE RESAURANT  ...         11.523228\n",
              "...                                  ...  ...               ...\n",
              "416178                         SOCIAL 68  ...          0.671314\n",
              "416179              DRAGON STATE KITCHEN  ...         13.151567\n",
              "416180                                QI  ...          2.278356\n",
              "416181     EL GRAN CANARIO II RESTAURANT  ...          8.418524\n",
              "416182        BUDDY'S BURRITO & TACO BAR  ...          3.015195\n",
              "\n",
              "[416183 rows x 3 columns]"
            ]
          },
          "metadata": {
            "tags": []
          },
          "execution_count": 112
        }
      ]
    },
    {
      "cell_type": "code",
      "metadata": {
        "id": "9Ub8-qFWixeb",
        "outputId": "be06f4f9-ab9c-47b1-abf0-fa4a8e32b13b",
        "colab": {
          "base_uri": "https://localhost:8080/",
          "height": 665
        }
      },
      "source": [
        "# And let's eliminate now duplicates and sort by distance\n",
        "(\n",
        "  restaurants\n",
        "  .assign(\n",
        "      distance_from_NYU = distance,\n",
        "      address = combine_address\n",
        "  )\n",
        "  .filter(items = ['DBA','address','distance_from_NYU'])\n",
        "  .query('distance_from_NYU > 0') # eliminates NaN values from distance_from_NYU\n",
        "  .drop_duplicates()\n",
        "  .sort_values('distance_from_NYU')\n",
        "  .head(20)\n",
        ")"
      ],
      "execution_count": 113,
      "outputs": [
        {
          "output_type": "execute_result",
          "data": {
            "text/html": [
              "<div>\n",
              "<style scoped>\n",
              "    .dataframe tbody tr th:only-of-type {\n",
              "        vertical-align: middle;\n",
              "    }\n",
              "\n",
              "    .dataframe tbody tr th {\n",
              "        vertical-align: top;\n",
              "    }\n",
              "\n",
              "    .dataframe thead th {\n",
              "        text-align: right;\n",
              "    }\n",
              "</style>\n",
              "<table border=\"1\" class=\"dataframe\">\n",
              "  <thead>\n",
              "    <tr style=\"text-align: right;\">\n",
              "      <th></th>\n",
              "      <th>DBA</th>\n",
              "      <th>address</th>\n",
              "      <th>distance_from_NYU</th>\n",
              "    </tr>\n",
              "  </thead>\n",
              "  <tbody>\n",
              "    <tr>\n",
              "      <th>73430</th>\n",
              "      <td>STARBUCKS</td>\n",
              "      <td>45 WEST    4 STREET, MANHATTAN, NY 10012</td>\n",
              "      <td>0.016949</td>\n",
              "    </tr>\n",
              "    <tr>\n",
              "      <th>49897</th>\n",
              "      <td>Argo Tea (NYU)</td>\n",
              "      <td>239 GREENE STREET, MANHATTAN, NY 10003</td>\n",
              "      <td>0.040319</td>\n",
              "    </tr>\n",
              "    <tr>\n",
              "      <th>46265</th>\n",
              "      <td>FRESH BOWL</td>\n",
              "      <td>70 WASHINGTON SQUARE SOUTH, MANHATTAN, NY 10012</td>\n",
              "      <td>0.058154</td>\n",
              "    </tr>\n",
              "    <tr>\n",
              "      <th>42694</th>\n",
              "      <td>THINK COFFEE</td>\n",
              "      <td>248 MERCER STREET, MANHATTAN, NY 10012</td>\n",
              "      <td>0.070723</td>\n",
              "    </tr>\n",
              "    <tr>\n",
              "      <th>315278</th>\n",
              "      <td>SPRING CAFE</td>\n",
              "      <td>14 WEST    4 STREET, MANHATTAN, NY 10012</td>\n",
              "      <td>0.071407</td>\n",
              "    </tr>\n",
              "    <tr>\n",
              "      <th>2685</th>\n",
              "      <td>LITTLE ATLAS CAFE</td>\n",
              "      <td>6 WEST    4 STREET, MANHATTAN, NY 10012</td>\n",
              "      <td>0.094147</td>\n",
              "    </tr>\n",
              "    <tr>\n",
              "      <th>25032</th>\n",
              "      <td>MILLE-FEUILLE BAKERY CAFE</td>\n",
              "      <td>552 LAGUARDIA PLACE, MANHATTAN, NY 10012</td>\n",
              "      <td>0.105099</td>\n",
              "    </tr>\n",
              "    <tr>\n",
              "      <th>184119</th>\n",
              "      <td>KIMMEL MARKET PLACE @ NYU</td>\n",
              "      <td>60 WASHINGTON SQUARE SOUTH, MANHATTAN, NY 10012</td>\n",
              "      <td>0.105134</td>\n",
              "    </tr>\n",
              "    <tr>\n",
              "      <th>358839</th>\n",
              "      <td>PEET'S COFFEE @ NYU</td>\n",
              "      <td>60 WASHINGTON SQUARE SOUTH, MANHATTAN, NY 10012</td>\n",
              "      <td>0.105134</td>\n",
              "    </tr>\n",
              "    <tr>\n",
              "      <th>122958</th>\n",
              "      <td>SPICY MOON VEGETARIAN SZECHUAN</td>\n",
              "      <td>68 WEST    3 STREET, MANHATTAN, NY 10012</td>\n",
              "      <td>0.107222</td>\n",
              "    </tr>\n",
              "    <tr>\n",
              "      <th>93436</th>\n",
              "      <td>DO COOKIE DOUGH CONFECTIONS</td>\n",
              "      <td>550 LAGUARDIA PLACE, MANHATTAN, NY 10012</td>\n",
              "      <td>0.107397</td>\n",
              "    </tr>\n",
              "    <tr>\n",
              "      <th>972</th>\n",
              "      <td>BOWLLIN</td>\n",
              "      <td>27 WAVERLY PLACE, MANHATTAN, NY 10003</td>\n",
              "      <td>0.108195</td>\n",
              "    </tr>\n",
              "    <tr>\n",
              "      <th>172607</th>\n",
              "      <td>KUNG FU TEA</td>\n",
              "      <td>27 WAVERLY PLACE, MANHATTAN, NY 10003</td>\n",
              "      <td>0.108195</td>\n",
              "    </tr>\n",
              "    <tr>\n",
              "      <th>866</th>\n",
              "      <td>TRE GIOVANI</td>\n",
              "      <td>548 LAGUARDIA PLACE, MANHATTAN, NY 10012</td>\n",
              "      <td>0.109601</td>\n",
              "    </tr>\n",
              "    <tr>\n",
              "      <th>12961</th>\n",
              "      <td>NEGRIL</td>\n",
              "      <td>70 WEST    3 STREET, MANHATTAN, NY 10012</td>\n",
              "      <td>0.110560</td>\n",
              "    </tr>\n",
              "    <tr>\n",
              "      <th>33082</th>\n",
              "      <td>FAVELA CUBANA</td>\n",
              "      <td>543 LA GUARDIA PLACE, MANHATTAN, NY 10012</td>\n",
              "      <td>0.111234</td>\n",
              "    </tr>\n",
              "    <tr>\n",
              "      <th>42019</th>\n",
              "      <td>WHITE OAK TAVERN</td>\n",
              "      <td>21 WAVERLY PLACE, MANHATTAN, NY 10003</td>\n",
              "      <td>0.111591</td>\n",
              "    </tr>\n",
              "    <tr>\n",
              "      <th>54245</th>\n",
              "      <td>NYU - TORCH CLUB</td>\n",
              "      <td>18 WAVERLY PLACE, MANHATTAN, NY 10003</td>\n",
              "      <td>0.111923</td>\n",
              "    </tr>\n",
              "    <tr>\n",
              "      <th>210700</th>\n",
              "      <td>Torch Club</td>\n",
              "      <td>18 WAVERLY PLACE, MANHATTAN, NY 10003</td>\n",
              "      <td>0.111923</td>\n",
              "    </tr>\n",
              "    <tr>\n",
              "      <th>10229</th>\n",
              "      <td>MARUMI</td>\n",
              "      <td>546 LA GUARDIA PLACE, MANHATTAN, NY 10012</td>\n",
              "      <td>0.111992</td>\n",
              "    </tr>\n",
              "  </tbody>\n",
              "</table>\n",
              "</div>"
            ],
            "text/plain": [
              "                                   DBA  ... distance_from_NYU\n",
              "73430                        STARBUCKS  ...          0.016949\n",
              "49897                   Argo Tea (NYU)  ...          0.040319\n",
              "46265                       FRESH BOWL  ...          0.058154\n",
              "42694                     THINK COFFEE  ...          0.070723\n",
              "315278                     SPRING CAFE  ...          0.071407\n",
              "2685                 LITTLE ATLAS CAFE  ...          0.094147\n",
              "25032        MILLE-FEUILLE BAKERY CAFE  ...          0.105099\n",
              "184119       KIMMEL MARKET PLACE @ NYU  ...          0.105134\n",
              "358839             PEET'S COFFEE @ NYU  ...          0.105134\n",
              "122958  SPICY MOON VEGETARIAN SZECHUAN  ...          0.107222\n",
              "93436      DO COOKIE DOUGH CONFECTIONS  ...          0.107397\n",
              "972                            BOWLLIN  ...          0.108195\n",
              "172607                     KUNG FU TEA  ...          0.108195\n",
              "866                        TRE GIOVANI  ...          0.109601\n",
              "12961                           NEGRIL  ...          0.110560\n",
              "33082                    FAVELA CUBANA  ...          0.111234\n",
              "42019                 WHITE OAK TAVERN  ...          0.111591\n",
              "54245                 NYU - TORCH CLUB  ...          0.111923\n",
              "210700                      Torch Club  ...          0.111923\n",
              "10229                           MARUMI  ...          0.111992\n",
              "\n",
              "[20 rows x 3 columns]"
            ]
          },
          "metadata": {
            "tags": []
          },
          "execution_count": 113
        }
      ]
    },
    {
      "cell_type": "markdown",
      "metadata": {
        "id": "vgr0Yg_3k6qW"
      },
      "source": [
        "### Using the `apply` approach"
      ]
    },
    {
      "cell_type": "markdown",
      "metadata": {
        "id": "njW0EhjzmyK6"
      },
      "source": [
        "The `apply` function allow the users to pass a function and apply it on every single row or column of a Pandas datarame. "
      ]
    },
    {
      "cell_type": "code",
      "metadata": {
        "id": "yIZ_H-s6db9e"
      },
      "source": [
        "!sudo pip3 install -q -U geopy\n",
        "\n",
        "from geopy import distance\n",
        "\n",
        "# A bit more accurate distance calculation, which returns back\n",
        "# the distance in miles. However, we cannot pass a dataframe\n",
        "# to the function but only individual values\n",
        "def distance_from_NYU_geodesic(row):\n",
        "  NYU_lon = -73.9962293\n",
        "  NYU_lat = 40.7291527\n",
        "  NYU = (NYU_lat, NYU_lon)\n",
        "  rest = (row.Latitude, row.Longitude)\n",
        "  #if pd.isnull(row.Latitude) or pd.isnull(row.Longitude):\n",
        "  #  return None\n",
        "  return distance.distance(NYU, rest).miles\n"
      ],
      "execution_count": 102,
      "outputs": []
    },
    {
      "cell_type": "code",
      "metadata": {
        "id": "71KKNBOqlBTp",
        "outputId": "8807cb26-4534-4f1f-d782-a6d6f7d1ea84",
        "colab": {
          "base_uri": "https://localhost:8080/",
          "height": 417
        }
      },
      "source": [
        "# We now create a smaller version of the dataset with just\n",
        "# the names/address/lon/lat of the restaurants\n",
        "rest_names_locations = (\n",
        "    restaurants\n",
        "    .assign(\n",
        "      address = combine_address\n",
        "    )\n",
        "    .filter(items = ['CAMIS','DBA','address','Longitude', 'Latitude'])\n",
        "    .query(' Longitude==Longitude ') # idiomatic expression for saying IS NOT NULL\n",
        "    .query(' Latitude==Latitude ') # idiomatic expression for saying IS NOT NULL\n",
        "    .drop_duplicates()\n",
        ")\n",
        "\n",
        "rest_names_locations"
      ],
      "execution_count": 104,
      "outputs": [
        {
          "output_type": "execute_result",
          "data": {
            "text/html": [
              "<div>\n",
              "<style scoped>\n",
              "    .dataframe tbody tr th:only-of-type {\n",
              "        vertical-align: middle;\n",
              "    }\n",
              "\n",
              "    .dataframe tbody tr th {\n",
              "        vertical-align: top;\n",
              "    }\n",
              "\n",
              "    .dataframe thead th {\n",
              "        text-align: right;\n",
              "    }\n",
              "</style>\n",
              "<table border=\"1\" class=\"dataframe\">\n",
              "  <thead>\n",
              "    <tr style=\"text-align: right;\">\n",
              "      <th></th>\n",
              "      <th>CAMIS</th>\n",
              "      <th>DBA</th>\n",
              "      <th>address</th>\n",
              "      <th>Longitude</th>\n",
              "      <th>Latitude</th>\n",
              "    </tr>\n",
              "  </thead>\n",
              "  <tbody>\n",
              "    <tr>\n",
              "      <th>0</th>\n",
              "      <td>41313114</td>\n",
              "      <td>NEW YORK INSTITUTE OF TECHNOLOGY</td>\n",
              "      <td>1849 BROADWAY, MANHATTAN, NY 10023</td>\n",
              "      <td>-73.982119</td>\n",
              "      <td>40.769359</td>\n",
              "    </tr>\n",
              "    <tr>\n",
              "      <th>1</th>\n",
              "      <td>50070793</td>\n",
              "      <td>AMITUOFO VEGAN CUISINE</td>\n",
              "      <td>19 BOGART STREET, BROOKLYN, NY 11206</td>\n",
              "      <td>-73.932927</td>\n",
              "      <td>40.703925</td>\n",
              "    </tr>\n",
              "    <tr>\n",
              "      <th>3</th>\n",
              "      <td>40361618</td>\n",
              "      <td>SAL'S DELI</td>\n",
              "      <td>12908 20 AVENUE, QUEENS, NY 11356</td>\n",
              "      <td>-73.839416</td>\n",
              "      <td>40.781674</td>\n",
              "    </tr>\n",
              "    <tr>\n",
              "      <th>4</th>\n",
              "      <td>50035589</td>\n",
              "      <td>DAE SONG CHINESE RESAURANT</td>\n",
              "      <td>4332 CORPORAL KENNEDY ST, QUEENS, NY 11361</td>\n",
              "      <td>-73.774229</td>\n",
              "      <td>40.760106</td>\n",
              "    </tr>\n",
              "    <tr>\n",
              "      <th>5</th>\n",
              "      <td>50015939</td>\n",
              "      <td>LA ESSENCIA RESTAURANT</td>\n",
              "      <td>5085 BROADWAY, MANHATTAN, NY 10034</td>\n",
              "      <td>-73.914762</td>\n",
              "      <td>40.870709</td>\n",
              "    </tr>\n",
              "    <tr>\n",
              "      <th>...</th>\n",
              "      <td>...</td>\n",
              "      <td>...</td>\n",
              "      <td>...</td>\n",
              "      <td>...</td>\n",
              "      <td>...</td>\n",
              "    </tr>\n",
              "    <tr>\n",
              "      <th>415719</th>\n",
              "      <td>50105076</td>\n",
              "      <td>BUGGING OUT 4 BURGERS</td>\n",
              "      <td>13406 GUY R BREWER BLVD, QUEENS, NY 11434</td>\n",
              "      <td>-73.775470</td>\n",
              "      <td>40.673096</td>\n",
              "    </tr>\n",
              "    <tr>\n",
              "      <th>415726</th>\n",
              "      <td>50106337</td>\n",
              "      <td>URSULA</td>\n",
              "      <td>724 STERLING PLACE, BROOKLYN, NY 11216</td>\n",
              "      <td>-73.954956</td>\n",
              "      <td>40.672865</td>\n",
              "    </tr>\n",
              "    <tr>\n",
              "      <th>415755</th>\n",
              "      <td>50107573</td>\n",
              "      <td>NaN</td>\n",
              "      <td>1501 BROADWAY, MANHATTAN, NY 10036</td>\n",
              "      <td>-73.986193</td>\n",
              "      <td>40.757096</td>\n",
              "    </tr>\n",
              "    <tr>\n",
              "      <th>416067</th>\n",
              "      <td>50106464</td>\n",
              "      <td>(FSE LOCATED IN JFK TERMINAL 8)</td>\n",
              "      <td>14438 87TH AVE, QUEENS, NY 11435</td>\n",
              "      <td>-73.811720</td>\n",
              "      <td>40.706793</td>\n",
              "    </tr>\n",
              "    <tr>\n",
              "      <th>416171</th>\n",
              "      <td>50104563</td>\n",
              "      <td>Sushi Teru</td>\n",
              "      <td>615 1/2 HUDSON STREET, MANHATTAN, NY 10014</td>\n",
              "      <td>-74.005658</td>\n",
              "      <td>40.737801</td>\n",
              "    </tr>\n",
              "  </tbody>\n",
              "</table>\n",
              "<p>29995 rows × 5 columns</p>\n",
              "</div>"
            ],
            "text/plain": [
              "           CAMIS                               DBA  ...  Longitude   Latitude\n",
              "0       41313114  NEW YORK INSTITUTE OF TECHNOLOGY  ... -73.982119  40.769359\n",
              "1       50070793            AMITUOFO VEGAN CUISINE  ... -73.932927  40.703925\n",
              "3       40361618                        SAL'S DELI  ... -73.839416  40.781674\n",
              "4       50035589        DAE SONG CHINESE RESAURANT  ... -73.774229  40.760106\n",
              "5       50015939            LA ESSENCIA RESTAURANT  ... -73.914762  40.870709\n",
              "...          ...                               ...  ...        ...        ...\n",
              "415719  50105076             BUGGING OUT 4 BURGERS  ... -73.775470  40.673096\n",
              "415726  50106337                            URSULA  ... -73.954956  40.672865\n",
              "415755  50107573                               NaN  ... -73.986193  40.757096\n",
              "416067  50106464   (FSE LOCATED IN JFK TERMINAL 8)  ... -73.811720  40.706793\n",
              "416171  50104563                        Sushi Teru  ... -74.005658  40.737801\n",
              "\n",
              "[29995 rows x 5 columns]"
            ]
          },
          "metadata": {
            "tags": []
          },
          "execution_count": 104
        }
      ]
    },
    {
      "cell_type": "code",
      "metadata": {
        "id": "8Q0gGzxOpE7x",
        "outputId": "fc387311-3b2d-4b59-c0d7-13f26336736f",
        "colab": {
          "base_uri": "https://localhost:8080/"
        }
      },
      "source": [
        "# We will now apply the function distance_from_NYU_geodesic \n",
        "# to every row of the dataset:\n",
        "rest_names_locations.apply(distance_from_NYU_geodesic, axis='columns')\n"
      ],
      "execution_count": 105,
      "outputs": [
        {
          "output_type": "execute_result",
          "data": {
            "text/plain": [
              "0          2.871480\n",
              "1          3.751827\n",
              "3          8.991054\n",
              "4         11.844802\n",
              "5         10.661129\n",
              "            ...    \n",
              "415719    12.221369\n",
              "415726     4.447826\n",
              "415755     1.998820\n",
              "416067     9.809101\n",
              "416171     0.775291\n",
              "Length: 29995, dtype: float64"
            ]
          },
          "metadata": {
            "tags": []
          },
          "execution_count": 105
        }
      ]
    },
    {
      "cell_type": "code",
      "metadata": {
        "id": "82MvcB29pG1z"
      },
      "source": [
        "# We will now save the result into a new column\n",
        "rest_names_locations['distance_from_NYU']=rest_names_locations.apply(distance_from_NYU_geodesic, axis='columns')"
      ],
      "execution_count": 106,
      "outputs": []
    },
    {
      "cell_type": "code",
      "metadata": {
        "id": "j6vbuAUfdglf",
        "outputId": "ad8bcecd-ab65-46df-8878-c43d5db1ef94",
        "colab": {
          "base_uri": "https://localhost:8080/",
          "height": 417
        }
      },
      "source": [
        "# Let's see how many restaurants are within half a mile from NYU :)\n",
        "(\n",
        "    rest_names_locations\n",
        "    .query('distance_from_NYU < 0.5')\n",
        "    .sort_values('distance_from_NYU')\n",
        ")"
      ],
      "execution_count": 99,
      "outputs": [
        {
          "output_type": "execute_result",
          "data": {
            "text/html": [
              "<div>\n",
              "<style scoped>\n",
              "    .dataframe tbody tr th:only-of-type {\n",
              "        vertical-align: middle;\n",
              "    }\n",
              "\n",
              "    .dataframe tbody tr th {\n",
              "        vertical-align: top;\n",
              "    }\n",
              "\n",
              "    .dataframe thead th {\n",
              "        text-align: right;\n",
              "    }\n",
              "</style>\n",
              "<table border=\"1\" class=\"dataframe\">\n",
              "  <thead>\n",
              "    <tr style=\"text-align: right;\">\n",
              "      <th></th>\n",
              "      <th>CAMIS</th>\n",
              "      <th>DBA</th>\n",
              "      <th>address</th>\n",
              "      <th>Longitude</th>\n",
              "      <th>Latitude</th>\n",
              "      <th>distance_from_NYU</th>\n",
              "    </tr>\n",
              "  </thead>\n",
              "  <tbody>\n",
              "    <tr>\n",
              "      <th>73430</th>\n",
              "      <td>50093959</td>\n",
              "      <td>STARBUCKS</td>\n",
              "      <td>45 WEST    4 STREET, MANHATTAN, NY 10012</td>\n",
              "      <td>-73.996251</td>\n",
              "      <td>40.729400</td>\n",
              "      <td>0.017076</td>\n",
              "    </tr>\n",
              "    <tr>\n",
              "      <th>49897</th>\n",
              "      <td>50095403</td>\n",
              "      <td>Argo Tea (NYU)</td>\n",
              "      <td>239 GREENE STREET, MANHATTAN, NY 10003</td>\n",
              "      <td>-73.995569</td>\n",
              "      <td>40.729476</td>\n",
              "      <td>0.041223</td>\n",
              "    </tr>\n",
              "    <tr>\n",
              "      <th>46265</th>\n",
              "      <td>50101890</td>\n",
              "      <td>FRESH BOWL</td>\n",
              "      <td>70 WASHINGTON SQUARE SOUTH, MANHATTAN, NY 10012</td>\n",
              "      <td>-73.997027</td>\n",
              "      <td>40.729759</td>\n",
              "      <td>0.059199</td>\n",
              "    </tr>\n",
              "    <tr>\n",
              "      <th>42694</th>\n",
              "      <td>41169084</td>\n",
              "      <td>THINK COFFEE</td>\n",
              "      <td>248 MERCER STREET, MANHATTAN, NY 10012</td>\n",
              "      <td>-73.995501</td>\n",
              "      <td>40.728274</td>\n",
              "      <td>0.071670</td>\n",
              "    </tr>\n",
              "    <tr>\n",
              "      <th>315278</th>\n",
              "      <td>50112539</td>\n",
              "      <td>SPRING CAFE</td>\n",
              "      <td>14 WEST    4 STREET, MANHATTAN, NY 10012</td>\n",
              "      <td>-73.994945</td>\n",
              "      <td>40.728738</td>\n",
              "      <td>0.073228</td>\n",
              "    </tr>\n",
              "    <tr>\n",
              "      <th>...</th>\n",
              "      <td>...</td>\n",
              "      <td>...</td>\n",
              "      <td>...</td>\n",
              "      <td>...</td>\n",
              "      <td>...</td>\n",
              "      <td>...</td>\n",
              "    </tr>\n",
              "    <tr>\n",
              "      <th>333896</th>\n",
              "      <td>50098161</td>\n",
              "      <td>VANDAM DELI KITCHEN</td>\n",
              "      <td>30 VANDAM STREET, MANHATTAN, NY 10013</td>\n",
              "      <td>-74.005015</td>\n",
              "      <td>40.726358</td>\n",
              "      <td>0.499876</td>\n",
              "    </tr>\n",
              "    <tr>\n",
              "      <th>331192</th>\n",
              "      <td>50097070</td>\n",
              "      <td>JUNZI KITCHEN</td>\n",
              "      <td>30 VANDAM STREET, MANHATTAN, NY 10013</td>\n",
              "      <td>-74.005015</td>\n",
              "      <td>40.726358</td>\n",
              "      <td>0.499876</td>\n",
              "    </tr>\n",
              "    <tr>\n",
              "      <th>408718</th>\n",
              "      <td>50098351</td>\n",
              "      <td>STONE BRIDGE PIZZA</td>\n",
              "      <td>30 VANDAM STREET, MANHATTAN, NY 10013</td>\n",
              "      <td>-74.005015</td>\n",
              "      <td>40.726358</td>\n",
              "      <td>0.499876</td>\n",
              "    </tr>\n",
              "    <tr>\n",
              "      <th>372993</th>\n",
              "      <td>50108590</td>\n",
              "      <td>NaN</td>\n",
              "      <td>30 VANDAM STREET, MANHATTAN, NY 10013</td>\n",
              "      <td>-74.005015</td>\n",
              "      <td>40.726358</td>\n",
              "      <td>0.499876</td>\n",
              "    </tr>\n",
              "    <tr>\n",
              "      <th>9406</th>\n",
              "      <td>50079907</td>\n",
              "      <td>STICKY'S FINGER JOINT</td>\n",
              "      <td>107 EAST   14 STREET, MANHATTAN, NY 10003</td>\n",
              "      <td>-73.989467</td>\n",
              "      <td>40.734255</td>\n",
              "      <td>0.499922</td>\n",
              "    </tr>\n",
              "  </tbody>\n",
              "</table>\n",
              "<p>1074 rows × 6 columns</p>\n",
              "</div>"
            ],
            "text/plain": [
              "           CAMIS                    DBA  ...   Latitude  distance_from_NYU\n",
              "73430   50093959              STARBUCKS  ...  40.729400           0.017076\n",
              "49897   50095403         Argo Tea (NYU)  ...  40.729476           0.041223\n",
              "46265   50101890             FRESH BOWL  ...  40.729759           0.059199\n",
              "42694   41169084           THINK COFFEE  ...  40.728274           0.071670\n",
              "315278  50112539            SPRING CAFE  ...  40.728738           0.073228\n",
              "...          ...                    ...  ...        ...                ...\n",
              "333896  50098161    VANDAM DELI KITCHEN  ...  40.726358           0.499876\n",
              "331192  50097070          JUNZI KITCHEN  ...  40.726358           0.499876\n",
              "408718  50098351     STONE BRIDGE PIZZA  ...  40.726358           0.499876\n",
              "372993  50108590                    NaN  ...  40.726358           0.499876\n",
              "9406    50079907  STICKY'S FINGER JOINT  ...  40.734255           0.499922\n",
              "\n",
              "[1074 rows x 6 columns]"
            ]
          },
          "metadata": {
            "tags": []
          },
          "execution_count": 99
        }
      ]
    },
    {
      "cell_type": "code",
      "metadata": {
        "id": "54FqcwHSeUM7"
      },
      "source": [
        ""
      ],
      "execution_count": null,
      "outputs": []
    },
    {
      "cell_type": "markdown",
      "metadata": {
        "id": "iTcny4zSw426"
      },
      "source": [
        "## Aggregation Function -- `agg()`"
      ]
    },
    {
      "cell_type": "code",
      "metadata": {
        "id": "XUNvMhwNCWF5",
        "outputId": "9d983e02-593a-4caa-c044-1ea40b7e343b",
        "colab": {
          "base_uri": "https://localhost:8080/"
        }
      },
      "source": [
        "restaurants['SCORE'].agg('mean')"
      ],
      "execution_count": 137,
      "outputs": [
        {
          "output_type": "execute_result",
          "data": {
            "text/plain": [
              "19.926963582789"
            ]
          },
          "metadata": {
            "tags": []
          },
          "execution_count": 137
        }
      ]
    },
    {
      "cell_type": "code",
      "metadata": {
        "id": "XpVaAe2uz8Bk",
        "outputId": "75d91fa5-106c-4d75-c581-0b29e9f50153",
        "colab": {
          "base_uri": "https://localhost:8080/"
        }
      },
      "source": [
        "restaurants['SCORE'].agg(['mean','std','count','nunique'])"
      ],
      "execution_count": 136,
      "outputs": [
        {
          "output_type": "execute_result",
          "data": {
            "text/plain": [
              "mean           19.926964\n",
              "std            14.646023\n",
              "count      396049.000000\n",
              "nunique       135.000000\n",
              "Name: SCORE, dtype: float64"
            ]
          },
          "metadata": {
            "tags": []
          },
          "execution_count": 136
        }
      ]
    },
    {
      "cell_type": "code",
      "metadata": {
        "id": "dJP_gFvKzCNY",
        "outputId": "f23c89d7-a080-40ce-cb5a-be4ee7ad5d2d",
        "colab": {
          "base_uri": "https://localhost:8080/",
          "height": 172
        }
      },
      "source": [
        "restaurants.agg(\n",
        "    {\n",
        "        'SCORE': ['mean','std','count','nunique'],\n",
        "        'CAMIS':  ['nunique','count']\n",
        "     }\n",
        "    )"
      ],
      "execution_count": 142,
      "outputs": [
        {
          "output_type": "execute_result",
          "data": {
            "text/html": [
              "<div>\n",
              "<style scoped>\n",
              "    .dataframe tbody tr th:only-of-type {\n",
              "        vertical-align: middle;\n",
              "    }\n",
              "\n",
              "    .dataframe tbody tr th {\n",
              "        vertical-align: top;\n",
              "    }\n",
              "\n",
              "    .dataframe thead th {\n",
              "        text-align: right;\n",
              "    }\n",
              "</style>\n",
              "<table border=\"1\" class=\"dataframe\">\n",
              "  <thead>\n",
              "    <tr style=\"text-align: right;\">\n",
              "      <th></th>\n",
              "      <th>SCORE</th>\n",
              "      <th>CAMIS</th>\n",
              "    </tr>\n",
              "  </thead>\n",
              "  <tbody>\n",
              "    <tr>\n",
              "      <th>count</th>\n",
              "      <td>396049.000000</td>\n",
              "      <td>416183.0</td>\n",
              "    </tr>\n",
              "    <tr>\n",
              "      <th>mean</th>\n",
              "      <td>19.926964</td>\n",
              "      <td>NaN</td>\n",
              "    </tr>\n",
              "    <tr>\n",
              "      <th>nunique</th>\n",
              "      <td>135.000000</td>\n",
              "      <td>30075.0</td>\n",
              "    </tr>\n",
              "    <tr>\n",
              "      <th>std</th>\n",
              "      <td>14.646023</td>\n",
              "      <td>NaN</td>\n",
              "    </tr>\n",
              "  </tbody>\n",
              "</table>\n",
              "</div>"
            ],
            "text/plain": [
              "                 SCORE     CAMIS\n",
              "count    396049.000000  416183.0\n",
              "mean         19.926964       NaN\n",
              "nunique     135.000000   30075.0\n",
              "std          14.646023       NaN"
            ]
          },
          "metadata": {
            "tags": []
          },
          "execution_count": 142
        }
      ]
    },
    {
      "cell_type": "code",
      "metadata": {
        "id": "92Gsuibr0Zi1",
        "outputId": "bd315cfb-dadd-4406-ed9a-48d554215935",
        "colab": {
          "base_uri": "https://localhost:8080/",
          "height": 203
        }
      },
      "source": [
        "restaurants.agg(\n",
        "        num_scored_violations = ('SCORE', 'count'),\n",
        "        mean_score = ('SCORE', 'mean'),\n",
        "        std_score  = ('SCORE', 'std'),\n",
        "        num_entries = ('CAMIS',  'count'),\n",
        "        num_restaurants = ('CAMIS',  'nunique'),\n",
        "  )"
      ],
      "execution_count": 127,
      "outputs": [
        {
          "output_type": "execute_result",
          "data": {
            "text/html": [
              "<div>\n",
              "<style scoped>\n",
              "    .dataframe tbody tr th:only-of-type {\n",
              "        vertical-align: middle;\n",
              "    }\n",
              "\n",
              "    .dataframe tbody tr th {\n",
              "        vertical-align: top;\n",
              "    }\n",
              "\n",
              "    .dataframe thead th {\n",
              "        text-align: right;\n",
              "    }\n",
              "</style>\n",
              "<table border=\"1\" class=\"dataframe\">\n",
              "  <thead>\n",
              "    <tr style=\"text-align: right;\">\n",
              "      <th></th>\n",
              "      <th>SCORE</th>\n",
              "      <th>CAMIS</th>\n",
              "    </tr>\n",
              "  </thead>\n",
              "  <tbody>\n",
              "    <tr>\n",
              "      <th>num_scored_violations</th>\n",
              "      <td>396049.000000</td>\n",
              "      <td>NaN</td>\n",
              "    </tr>\n",
              "    <tr>\n",
              "      <th>mean_score</th>\n",
              "      <td>19.926964</td>\n",
              "      <td>NaN</td>\n",
              "    </tr>\n",
              "    <tr>\n",
              "      <th>std_score</th>\n",
              "      <td>14.646023</td>\n",
              "      <td>NaN</td>\n",
              "    </tr>\n",
              "    <tr>\n",
              "      <th>num_entries</th>\n",
              "      <td>NaN</td>\n",
              "      <td>416183.0</td>\n",
              "    </tr>\n",
              "    <tr>\n",
              "      <th>num_restaurants</th>\n",
              "      <td>NaN</td>\n",
              "      <td>30075.0</td>\n",
              "    </tr>\n",
              "  </tbody>\n",
              "</table>\n",
              "</div>"
            ],
            "text/plain": [
              "                               SCORE     CAMIS\n",
              "num_scored_violations  396049.000000       NaN\n",
              "mean_score                 19.926964       NaN\n",
              "std_score                  14.646023       NaN\n",
              "num_entries                      NaN  416183.0\n",
              "num_restaurants                  NaN   30075.0"
            ]
          },
          "metadata": {
            "tags": []
          },
          "execution_count": 127
        }
      ]
    },
    {
      "cell_type": "markdown",
      "metadata": {
        "id": "NDAZWbRxw5JJ"
      },
      "source": [
        "## Calculating aggegates per groups -- `groupby()`"
      ]
    },
    {
      "cell_type": "code",
      "metadata": {
        "id": "AtjmJWijDXYU",
        "outputId": "71deff7e-25b8-48e5-a0cd-7d523016d259",
        "colab": {
          "base_uri": "https://localhost:8080/",
          "height": 447
        }
      },
      "source": [
        "restaurants.groupby('GRADE DATE').agg({'SCORE': 'mean'})"
      ],
      "execution_count": 147,
      "outputs": [
        {
          "output_type": "execute_result",
          "data": {
            "text/html": [
              "<div>\n",
              "<style scoped>\n",
              "    .dataframe tbody tr th:only-of-type {\n",
              "        vertical-align: middle;\n",
              "    }\n",
              "\n",
              "    .dataframe tbody tr th {\n",
              "        vertical-align: top;\n",
              "    }\n",
              "\n",
              "    .dataframe thead th {\n",
              "        text-align: right;\n",
              "    }\n",
              "</style>\n",
              "<table border=\"1\" class=\"dataframe\">\n",
              "  <thead>\n",
              "    <tr style=\"text-align: right;\">\n",
              "      <th></th>\n",
              "      <th>SCORE</th>\n",
              "    </tr>\n",
              "    <tr>\n",
              "      <th>GRADE DATE</th>\n",
              "      <th></th>\n",
              "    </tr>\n",
              "  </thead>\n",
              "  <tbody>\n",
              "    <tr>\n",
              "      <th>2011-05-27</th>\n",
              "      <td>18.0</td>\n",
              "    </tr>\n",
              "    <tr>\n",
              "      <th>2011-10-25</th>\n",
              "      <td>12.0</td>\n",
              "    </tr>\n",
              "    <tr>\n",
              "      <th>2012-04-05</th>\n",
              "      <td>9.0</td>\n",
              "    </tr>\n",
              "    <tr>\n",
              "      <th>2012-09-20</th>\n",
              "      <td>13.0</td>\n",
              "    </tr>\n",
              "    <tr>\n",
              "      <th>2013-05-02</th>\n",
              "      <td>12.0</td>\n",
              "    </tr>\n",
              "    <tr>\n",
              "      <th>...</th>\n",
              "      <td>...</td>\n",
              "    </tr>\n",
              "    <tr>\n",
              "      <th>2020-09-23</th>\n",
              "      <td>9.0</td>\n",
              "    </tr>\n",
              "    <tr>\n",
              "      <th>2020-12-21</th>\n",
              "      <td>7.0</td>\n",
              "    </tr>\n",
              "    <tr>\n",
              "      <th>2020-12-31</th>\n",
              "      <td>6.0</td>\n",
              "    </tr>\n",
              "    <tr>\n",
              "      <th>2021-06-09</th>\n",
              "      <td>9.0</td>\n",
              "    </tr>\n",
              "    <tr>\n",
              "      <th>2021-06-11</th>\n",
              "      <td>0.0</td>\n",
              "    </tr>\n",
              "  </tbody>\n",
              "</table>\n",
              "<p>1291 rows × 1 columns</p>\n",
              "</div>"
            ],
            "text/plain": [
              "            SCORE\n",
              "GRADE DATE       \n",
              "2011-05-27   18.0\n",
              "2011-10-25   12.0\n",
              "2012-04-05    9.0\n",
              "2012-09-20   13.0\n",
              "2013-05-02   12.0\n",
              "...           ...\n",
              "2020-09-23    9.0\n",
              "2020-12-21    7.0\n",
              "2020-12-31    6.0\n",
              "2021-06-09    9.0\n",
              "2021-06-11    0.0\n",
              "\n",
              "[1291 rows x 1 columns]"
            ]
          },
          "metadata": {
            "tags": []
          },
          "execution_count": 147
        }
      ]
    },
    {
      "cell_type": "code",
      "metadata": {
        "id": "eSoefDKZEbMp",
        "outputId": "d48f2d08-f128-4e50-8242-3b54fe60904b",
        "colab": {
          "base_uri": "https://localhost:8080/",
          "height": 696
        }
      },
      "source": [
        "(\n",
        "  restaurants\n",
        "  .groupby('GRADE DATE')\n",
        "  .agg(\n",
        "      score_mean = ('SCORE', 'mean'), \n",
        "      graded_restaurants = ('CAMIS', 'nunique')\n",
        "    )\n",
        "  .tail(500)\n",
        "  .head(20)\n",
        ")"
      ],
      "execution_count": 157,
      "outputs": [
        {
          "output_type": "execute_result",
          "data": {
            "text/html": [
              "<div>\n",
              "<style scoped>\n",
              "    .dataframe tbody tr th:only-of-type {\n",
              "        vertical-align: middle;\n",
              "    }\n",
              "\n",
              "    .dataframe tbody tr th {\n",
              "        vertical-align: top;\n",
              "    }\n",
              "\n",
              "    .dataframe thead th {\n",
              "        text-align: right;\n",
              "    }\n",
              "</style>\n",
              "<table border=\"1\" class=\"dataframe\">\n",
              "  <thead>\n",
              "    <tr style=\"text-align: right;\">\n",
              "      <th></th>\n",
              "      <th>score_mean</th>\n",
              "      <th>graded_restaurants</th>\n",
              "    </tr>\n",
              "    <tr>\n",
              "      <th>GRADE DATE</th>\n",
              "      <th></th>\n",
              "      <th></th>\n",
              "    </tr>\n",
              "  </thead>\n",
              "  <tbody>\n",
              "    <tr>\n",
              "      <th>2018-08-06</th>\n",
              "      <td>10.598901</td>\n",
              "      <td>80</td>\n",
              "    </tr>\n",
              "    <tr>\n",
              "      <th>2018-08-07</th>\n",
              "      <td>12.956938</td>\n",
              "      <td>89</td>\n",
              "    </tr>\n",
              "    <tr>\n",
              "      <th>2018-08-08</th>\n",
              "      <td>11.155556</td>\n",
              "      <td>94</td>\n",
              "    </tr>\n",
              "    <tr>\n",
              "      <th>2018-08-09</th>\n",
              "      <td>11.984436</td>\n",
              "      <td>103</td>\n",
              "    </tr>\n",
              "    <tr>\n",
              "      <th>2018-08-10</th>\n",
              "      <td>11.782609</td>\n",
              "      <td>49</td>\n",
              "    </tr>\n",
              "    <tr>\n",
              "      <th>2018-08-11</th>\n",
              "      <td>12.500000</td>\n",
              "      <td>6</td>\n",
              "    </tr>\n",
              "    <tr>\n",
              "      <th>2018-08-13</th>\n",
              "      <td>14.178571</td>\n",
              "      <td>117</td>\n",
              "    </tr>\n",
              "    <tr>\n",
              "      <th>2018-08-14</th>\n",
              "      <td>12.804734</td>\n",
              "      <td>65</td>\n",
              "    </tr>\n",
              "    <tr>\n",
              "      <th>2018-08-15</th>\n",
              "      <td>16.039474</td>\n",
              "      <td>87</td>\n",
              "    </tr>\n",
              "    <tr>\n",
              "      <th>2018-08-16</th>\n",
              "      <td>14.627530</td>\n",
              "      <td>113</td>\n",
              "    </tr>\n",
              "    <tr>\n",
              "      <th>2018-08-17</th>\n",
              "      <td>15.884393</td>\n",
              "      <td>63</td>\n",
              "    </tr>\n",
              "    <tr>\n",
              "      <th>2018-08-18</th>\n",
              "      <td>18.076923</td>\n",
              "      <td>9</td>\n",
              "    </tr>\n",
              "    <tr>\n",
              "      <th>2018-08-20</th>\n",
              "      <td>13.728302</td>\n",
              "      <td>101</td>\n",
              "    </tr>\n",
              "    <tr>\n",
              "      <th>2018-08-21</th>\n",
              "      <td>13.802419</td>\n",
              "      <td>101</td>\n",
              "    </tr>\n",
              "    <tr>\n",
              "      <th>2018-08-22</th>\n",
              "      <td>11.815789</td>\n",
              "      <td>108</td>\n",
              "    </tr>\n",
              "    <tr>\n",
              "      <th>2018-08-23</th>\n",
              "      <td>12.961938</td>\n",
              "      <td>115</td>\n",
              "    </tr>\n",
              "    <tr>\n",
              "      <th>2018-08-24</th>\n",
              "      <td>13.732394</td>\n",
              "      <td>57</td>\n",
              "    </tr>\n",
              "    <tr>\n",
              "      <th>2018-08-25</th>\n",
              "      <td>21.578947</td>\n",
              "      <td>7</td>\n",
              "    </tr>\n",
              "    <tr>\n",
              "      <th>2018-08-27</th>\n",
              "      <td>12.700508</td>\n",
              "      <td>78</td>\n",
              "    </tr>\n",
              "    <tr>\n",
              "      <th>2018-08-28</th>\n",
              "      <td>11.000000</td>\n",
              "      <td>69</td>\n",
              "    </tr>\n",
              "  </tbody>\n",
              "</table>\n",
              "</div>"
            ],
            "text/plain": [
              "            score_mean  graded_restaurants\n",
              "GRADE DATE                                \n",
              "2018-08-06   10.598901                  80\n",
              "2018-08-07   12.956938                  89\n",
              "2018-08-08   11.155556                  94\n",
              "2018-08-09   11.984436                 103\n",
              "2018-08-10   11.782609                  49\n",
              "2018-08-11   12.500000                   6\n",
              "2018-08-13   14.178571                 117\n",
              "2018-08-14   12.804734                  65\n",
              "2018-08-15   16.039474                  87\n",
              "2018-08-16   14.627530                 113\n",
              "2018-08-17   15.884393                  63\n",
              "2018-08-18   18.076923                   9\n",
              "2018-08-20   13.728302                 101\n",
              "2018-08-21   13.802419                 101\n",
              "2018-08-22   11.815789                 108\n",
              "2018-08-23   12.961938                 115\n",
              "2018-08-24   13.732394                  57\n",
              "2018-08-25   21.578947                   7\n",
              "2018-08-27   12.700508                  78\n",
              "2018-08-28   11.000000                  69"
            ]
          },
          "metadata": {
            "tags": []
          },
          "execution_count": 157
        }
      ]
    },
    {
      "cell_type": "code",
      "metadata": {
        "id": "5DQIJuYIeNi8",
        "outputId": "3c40baff-4bce-45ea-a68e-3d8f8610d0fd",
        "colab": {
          "base_uri": "https://localhost:8080/",
          "height": 460
        }
      },
      "source": [
        "(\n",
        "  restaurants\n",
        "  .groupby('GRADE DATE')\n",
        "  .agg(\n",
        "      score_mean = ('SCORE', 'mean'), # calculate the aveage score for the date\n",
        "      graded_restaurants = ('CAMIS', 'nunique') # and the number of restaurants\n",
        "    )\n",
        "  .query('graded_restaurants>10') # keep only days with at least 10 graded restauranta\n",
        "  .filter(items=['score_mean']) # we only want to plot the score\n",
        "  .plot()\n",
        ")"
      ],
      "execution_count": 164,
      "outputs": [
        {
          "output_type": "execute_result",
          "data": {
            "text/plain": [
              "<matplotlib.axes._subplots.AxesSubplot at 0x7fd8c7c6b510>"
            ]
          },
          "metadata": {
            "tags": []
          },
          "execution_count": 164
        },
        {
          "output_type": "display_data",
          "data": {
            "image/png": "[encoded data removed]",
            "text/plain": [
              "<Figure size 748.8x514.8 with 1 Axes>"
            ]
          },
          "metadata": {
            "tags": [],
            "image/png": {
              "width": 618,
              "height": 425
            }
          }
        }
      ]
    },
    {
      "cell_type": "markdown",
      "metadata": {
        "id": "8UR7tKEURPOu"
      },
      "source": [
        "## Pivot Tables\n",
        "\n",
        "[Pivot tables](http://pandas.pydata.org/pandas-docs/stable/generated/pandas.pivot_table.html) is one of the most commonly used exploratory tools, and in Pandas they are extremely flexible. \n",
        "\n",
        "For example, let's try to count the number of restaurants that are inspected every day. "
      ]
    },
    {
      "cell_type": "code",
      "metadata": {
        "id": "m5m48HZFRPOu"
      },
      "source": [
        "# Count the number of CAMIS values that appear on each date\n",
        "\n",
        "pivot = pd.pivot_table(\n",
        "    data=restaurants,\n",
        "    index=\"GRADE DATE\",  # specifies the rows\n",
        "    values=\"CAMIS\",  # specifies the content of the cells\n",
        "    aggfunc=\"count\",  # we ask to count how many different CAMIS values we see\n",
        ")"
      ],
      "execution_count": null,
      "outputs": []
    },
    {
      "cell_type": "code",
      "metadata": {
        "id": "PXbdJgt8RPOy"
      },
      "source": [
        "pivot"
      ],
      "execution_count": null,
      "outputs": []
    },
    {
      "cell_type": "markdown",
      "metadata": {
        "id": "sw_ySegDRPO0"
      },
      "source": [
        "Now, let's plot this. By default, Pandas considers the \"index\" column to be the x-axis, and plots the rest."
      ]
    },
    {
      "cell_type": "code",
      "metadata": {
        "id": "LcxPgXE6RPO9"
      },
      "source": [
        "pivot.plot(figsize=(10, 5))"
      ],
      "execution_count": null,
      "outputs": []
    },
    {
      "cell_type": "code",
      "metadata": {
        "id": "vvzK9tjhRPO_"
      },
      "source": [
        "pivot[400:500].plot()"
      ],
      "execution_count": null,
      "outputs": []
    },
    {
      "cell_type": "markdown",
      "metadata": {
        "id": "PuzOxstCRPPA"
      },
      "source": [
        "#### Changing date granularity \n",
        "\n",
        "We can also use the [resample](http://pandas.pydata.org/pandas-docs/stable/generated/pandas.DataFrame.resample.html) command to change the frequency from one day, to, say, 7 days. Then we can compute, say, the average (`mean()`) for these days, or the total number (`sum()`) of inspections."
      ]
    },
    {
      "cell_type": "code",
      "metadata": {
        "id": "ffCg-Jo-RPPB"
      },
      "source": [
        "pivot.resample(\"1W\").sum().tail(100)"
      ],
      "execution_count": null,
      "outputs": []
    },
    {
      "cell_type": "markdown",
      "metadata": {
        "id": "9B5xxo0gRPPC"
      },
      "source": [
        "Now, let's plot this. By default, Pandas considers the \"index\" column to be the x-axis, and plots the rest."
      ]
    },
    {
      "cell_type": "code",
      "metadata": {
        "id": "VDa0KRaqRPPC"
      },
      "source": [
        "# Plot the average number of inspections, over 7-day periods\n",
        "pivot.resample(\"1W\").mean().plot()"
      ],
      "execution_count": null,
      "outputs": []
    },
    {
      "cell_type": "code",
      "metadata": {
        "id": "M4WKhTGLRPPF"
      },
      "source": [
        "# Plot the total number of inspections, over 1-month periods\n",
        "pivot.resample(\"1M\").sum().plot()"
      ],
      "execution_count": null,
      "outputs": []
    },
    {
      "cell_type": "code",
      "metadata": {
        "id": "e_WH-s_DRPPK"
      },
      "source": [
        "plot = pivot.resample(\"7D\").mean().plot()\n",
        "plot.set_xlabel(\"Date of Inspection\")\n",
        "plot.set_ylabel(\"Average Number of Inspections (7-day average)\")\n",
        "plot.set_title(\"Analysis of Number of Inspections over Time\")"
      ],
      "execution_count": null,
      "outputs": []
    },
    {
      "cell_type": "markdown",
      "metadata": {
        "id": "wuhabll3RPPL"
      },
      "source": [
        "#### Pivot Table with two (or more) variables)\n",
        "\n",
        "We would like to break down the results by borough, so we add the `column` parameter."
      ]
    },
    {
      "cell_type": "code",
      "metadata": {
        "id": "x57cwCMARPPM"
      },
      "source": [
        "pivot2 = pd.pivot_table(\n",
        "    data=restaurants,  #\n",
        "    index=\"INSPECTION DATE\",\n",
        "    columns=\"BORO\",\n",
        "    values=\"CAMIS\",\n",
        "    aggfunc=\"count\",\n",
        ")\n",
        "pivot2.head(10)"
      ],
      "execution_count": null,
      "outputs": []
    },
    {
      "cell_type": "markdown",
      "metadata": {
        "id": "FRNJSEEVRPPN"
      },
      "source": [
        "##### Deleting rows and columns\n",
        "\n",
        "Now, you will notice that there are a few columns and rows that are just noise. The first row with date *'1900-01-01'* is clearly noise, and the *'0'* column is also noise. We can use the `drop` command of Pandas to drop these."
      ]
    },
    {
      "cell_type": "code",
      "metadata": {
        "id": "ypaHCyOQRPPN"
      },
      "source": [
        "# The axis='index' (or axis=0) means that we delete a row with that index value\n",
        "pivot2 = pivot2.drop(pd.to_datetime(\"1900-01-01\"), axis=\"index\")"
      ],
      "execution_count": null,
      "outputs": []
    },
    {
      "cell_type": "code",
      "metadata": {
        "id": "uoZ8g0Q_RPPP"
      },
      "source": [
        "# The axis='columns' (or axis=1) means that we delete a columns with that value\n",
        "pivot2 = pivot2.drop(\"0\", axis=\"columns\")"
      ],
      "execution_count": null,
      "outputs": []
    },
    {
      "cell_type": "code",
      "metadata": {
        "id": "ScaU_IdYRPPR"
      },
      "source": [
        "pivot2.tail(5)"
      ],
      "execution_count": null,
      "outputs": []
    },
    {
      "cell_type": "code",
      "metadata": {
        "id": "KMpy5ZOYRPPS"
      },
      "source": [
        "pivot2.plot()"
      ],
      "execution_count": null,
      "outputs": []
    },
    {
      "cell_type": "code",
      "metadata": {
        "id": "iPsINQTjRPPU"
      },
      "source": [
        "# We resample the index, to keep only dates every one month\n",
        "# For that one month period, we compute the average value\n",
        "pivot2.resample(\"1M\").mean().tail(10)"
      ],
      "execution_count": null,
      "outputs": []
    },
    {
      "cell_type": "code",
      "metadata": {
        "id": "ZxyKJFsORPPV"
      },
      "source": [
        "# If we plot a dataframe then by default the index column\n",
        "# in our case the INSPECTION DATE becomes the x-asis\n",
        "# and all the columns become separate lines in the plot\n",
        "pivot2.resample(\"1M\").mean().plot()\n",
        "\n",
        "# Potential Exercise, if we have time:\n",
        "# Drop the last date, which corresponds to an incomplete month"
      ],
      "execution_count": null,
      "outputs": []
    },
    {
      "cell_type": "markdown",
      "metadata": {
        "id": "bS8nDH9DRPPW"
      },
      "source": [
        "## (Optional, FYI) Advanced Pivot Tables\n",
        "\n",
        "We can also add multiple attributes in the index and columns. It is also possible to have multiple aggregation functions, and we can even define our own aggregation functions."
      ]
    },
    {
      "cell_type": "code",
      "metadata": {
        "id": "oX1uJBmsRPPW"
      },
      "source": [
        "# We write a function that returns the\n",
        "# number of unique items in a list x\n",
        "def count_unique(x):\n",
        "    return len(set(x))\n",
        "\n",
        "\n",
        "# We break down by BORO and GRADE, and also calculate\n",
        "# inspections in unique (unique restaurants)\n",
        "# and non-unique entries (effectuvely, violations)\n",
        "pivot_advanced = pd.pivot_table(\n",
        "    data=restaurants,  #\n",
        "    index=\"GRADE DATE\",\n",
        "    columns=[\"BORO\", \"GRADE\"],\n",
        "    values=\"CAMIS\",\n",
        "    aggfunc=[\"count\", count_unique],\n",
        ")\n",
        "\n",
        "# Take the total number of inspections (unique and non-unique)\n",
        "agg = pivot_advanced.resample(\"1M\").sum()\n",
        "\n",
        "# Show the last 5 entries and show the transpose (.T)\n",
        "agg.tail().T"
      ],
      "execution_count": null,
      "outputs": []
    },
    {
      "cell_type": "markdown",
      "metadata": {
        "id": "Voat735yRPPZ"
      },
      "source": [
        "### Exercise 1 \n",
        "\n",
        "Now let's do the same exercise, but instead of counting the number of inspections, we want to compute the average score assigned by the inspectors. Hint: We will need to change the `values` and the `aggfunc` parameters in the `pivot_table` function above."
      ]
    },
    {
      "cell_type": "code",
      "metadata": {
        "id": "IlCG1ciIRPPa"
      },
      "source": [
        "# your code here"
      ],
      "execution_count": null,
      "outputs": []
    },
    {
      "cell_type": "markdown",
      "metadata": {
        "id": "FLgKXET5RPPb",
        "solution2": "hidden",
        "solution2_first": true
      },
      "source": [
        "#### Solution"
      ]
    },
    {
      "cell_type": "code",
      "metadata": {
        "id": "As9qTwYLRPPb",
        "solution2": "hidden"
      },
      "source": [
        "pivot = pd.pivot_table(\n",
        "    data=restaurants,\n",
        "    index=\"INSPECTION DATE\",  # specifies the rows\n",
        "    values=\"SCORE\",  # specifies the content of the cells\n",
        "    aggfunc=\"mean\",  # compute the average SCORE\n",
        ")"
      ],
      "execution_count": null,
      "outputs": []
    },
    {
      "cell_type": "code",
      "metadata": {
        "id": "3IidFXaRRPPc",
        "solution2": "hidden"
      },
      "source": [
        "pivot.plot(figsize=(10, 4))"
      ],
      "execution_count": null,
      "outputs": []
    },
    {
      "cell_type": "code",
      "metadata": {
        "id": "Ud4QZEsDRPPd",
        "solution2": "hidden"
      },
      "source": [
        "pivot.resample(\"1W\").mean().plot(figsize=(10, 4))"
      ],
      "execution_count": null,
      "outputs": []
    },
    {
      "cell_type": "markdown",
      "metadata": {
        "id": "oX3jJAj0RPPh"
      },
      "source": [
        "\n",
        "\n",
        "### Exercise 2\n",
        "\n",
        "We now want to examine if different cuisines have different inspection scores. Compute the average inspection score by cuisine. Use the `sort_values()` command ([documentation](https://pandas.pydata.org/pandas-docs/stable/generated/pandas.DataFrame.sort_values.html)) to order cuisines by their inspection scores."
      ]
    },
    {
      "cell_type": "code",
      "metadata": {
        "id": "qv0aU9yQRPPh"
      },
      "source": [
        "# your code here"
      ],
      "execution_count": null,
      "outputs": []
    },
    {
      "cell_type": "markdown",
      "metadata": {
        "id": "iLNPTK3uRPPj",
        "solution2": "hidden",
        "solution2_first": true
      },
      "source": [
        "#### Solution"
      ]
    },
    {
      "cell_type": "code",
      "metadata": {
        "id": "OjG4WrB5RPPj",
        "solution2": "hidden"
      },
      "source": [
        "pivot = pd.pivot_table(\n",
        "    data=restaurants,\n",
        "    index=\"INSPECTION DATE\",  # dates are the rows\n",
        "    columns=\"CUISINE DESCRIPTION\",  # cuisines are the columns\n",
        "    values=\"SCORE\",  # we analyze the SCORE\n",
        "    aggfunc=\"mean\",  # compute the average SCORE\n",
        ")\n",
        "# Select 3 columns (american, frenchn, chinese), compute the average score for a month\n",
        "# and plot the results\n",
        "pivot[[\"American\", \"French\", \"Chinese\"]].resample(\"1M\").mean().plot(figsize=(10, 4))"
      ],
      "execution_count": null,
      "outputs": []
    }
  ]
}