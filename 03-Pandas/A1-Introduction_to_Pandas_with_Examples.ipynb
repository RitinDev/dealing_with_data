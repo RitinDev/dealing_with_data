{
 "cells": [
  {
   "cell_type": "markdown",
   "metadata": {
    "colab_type": "text",
    "id": "view-in-github"
   },
   "source": [
    "<a href=\"https://colab.research.google.com/github/ipeirotis/dealing_with_data/blob/master/03-Pandas/A-Introduction_to_Pandas.ipynb\" target=\"_parent\"><img src=\"https://colab.research.google.com/assets/colab-badge.svg\" alt=\"Open In Colab\"/></a>"
   ]
  },
  {
   "cell_type": "markdown",
   "metadata": {
    "id": "2fdYUrR2RPLK"
   },
   "source": [
    "# Introduction to Pandas"
   ]
  },
  {
   "cell_type": "markdown",
   "metadata": {
    "id": "ycUTUOp0RPLL"
   },
   "source": [
    "## Setup and preliminaries"
   ]
  },
  {
   "cell_type": "markdown",
   "metadata": {
    "id": "ze19_Zd2RPLM"
   },
   "source": [
    "We start this notebook by typing a \"magic\" command that allows iPython notebooks to display plots directly in the browser."
   ]
  },
  {
   "cell_type": "code",
   "execution_count": null,
   "metadata": {
    "id": "KZt6cUxCRPLN"
   },
   "outputs": [],
   "source": [
    "# Render our plots inline\n",
    "%matplotlib inline\n",
    "%config InlineBackend.figure_format = 'retina'"
   ]
  },
  {
   "cell_type": "markdown",
   "metadata": {
    "id": "SPK-fH_vRPLR"
   },
   "source": [
    "In order to read and process files, we are going to use a very powerful, and widely used Python library, called pandas. So, our next step is to import the pandas library in Python, and also import the library matplotlib for generating plots:"
   ]
  },
  {
   "cell_type": "code",
   "execution_count": null,
   "metadata": {
    "id": "rs9khdOxRPLS"
   },
   "outputs": [],
   "source": [
    "import pandas as pd\n",
    "import numpy as np\n",
    "import matplotlib\n",
    "import matplotlib.pyplot as plt\n",
    "import seaborn as sns"
   ]
  },
  {
   "cell_type": "markdown",
   "metadata": {
    "id": "K2KzbTtORPLZ"
   },
   "source": [
    "And we type some code to simply change the visual style of the plots. (The code below is optional and not necessary, and for now you do not need to understand what exactly is happening.)"
   ]
  },
  {
   "cell_type": "code",
   "execution_count": null,
   "metadata": {
    "id": "enddmxxDRPLa"
   },
   "outputs": [],
   "source": [
    "# Make the graphs a bit bigger\n",
    "matplotlib.style.use([\"seaborn-talk\", \"seaborn-ticks\", \"seaborn-whitegrid\"])"
   ]
  },
  {
   "cell_type": "markdown",
   "metadata": {
    "id": "zRkwgJ2BRPLl"
   },
   "source": [
    "## Analyzing Data in CSV Files"
   ]
  },
  {
   "cell_type": "markdown",
   "metadata": {
    "id": "3YF27gS9RPLl"
   },
   "source": [
    "We will use a dataset with [restaurant inspection results in NYC](https://data.cityofnewyork.us/Health/DOHMH-New-York-City-Restaurant-Inspection-Results/43nn-pn8j).\n",
    "\n",
    "We fetch it by executing the following command:"
   ]
  },
  {
   "cell_type": "code",
   "execution_count": null,
   "metadata": {
    "colab": {
     "base_uri": "https://localhost:8080/"
    },
    "id": "h5GO33l5RPLm",
    "outputId": "03ace98a-852e-401f-f9b7-ab31732b5758"
   },
   "outputs": [],
   "source": [
    "# Fetches the most recent dataset\n",
    "!curl 'https://data.cityofnewyork.us/api/views/43nn-pn8j/rows.csv?accessType=DOWNLOAD' -o restaurant.csv"
   ]
  },
  {
   "cell_type": "markdown",
   "metadata": {
    "id": "WNsW_56mRPLq"
   },
   "source": [
    "We want to be able to read and process this file within Python. The pandas library has a very convenient method `read_csv` which reads the file, and returns back a variable that contains its contents."
   ]
  },
  {
   "cell_type": "code",
   "execution_count": null,
   "metadata": {
    "id": "n0_mc9_6RPLq"
   },
   "outputs": [],
   "source": [
    "import pandas as pd\n",
    "\n",
    "restaurants = pd.read_csv(\n",
    "    \"restaurant.csv\",\n",
    "    encoding=\"utf_8\",\n",
    "    dtype=\"unicode\",\n",
    "    parse_dates=True,\n",
    "    infer_datetime_format=True,\n",
    "    low_memory=False,\n",
    ")"
   ]
  },
  {
   "cell_type": "markdown",
   "metadata": {
    "id": "13OxAtwORPLt"
   },
   "source": [
    "When you read a CSV, you get back a kind of object called a DataFrame, which is made up of rows and columns. You get columns out of a DataFrame the same way you get elements out of a dictionary. Let's take a look at how the object looks like:"
   ]
  },
  {
   "cell_type": "code",
   "execution_count": null,
   "metadata": {
    "colab": {
     "base_uri": "https://localhost:8080/",
     "height": 512
    },
    "id": "kHawKZ5fRPLu",
    "outputId": "b0785d28-2445-46de-f21e-e08ac4ac78aa"
   },
   "outputs": [],
   "source": [
    "restaurants.head(5)"
   ]
  },
  {
   "cell_type": "markdown",
   "metadata": {
    "id": "wJyyVRCORPLz"
   },
   "source": [
    "The read_csv method has many options, and you can read further in the [online documentation](http://pandas.pydata.org/pandas-docs/stable/generated/pandas.io.parsers.read_csv.html)."
   ]
  },
  {
   "cell_type": "markdown",
   "metadata": {},
   "source": [
    "## Data Types and Conversions"
   ]
  },
  {
   "cell_type": "markdown",
   "metadata": {},
   "source": [
    "We can also check the data types for each column"
   ]
  },
  {
   "cell_type": "code",
   "execution_count": null,
   "metadata": {},
   "outputs": [],
   "source": [
    "restaurants.dtypes"
   ]
  },
  {
   "cell_type": "markdown",
   "metadata": {},
   "source": [
    "We can use the method \"describe()\" to get a quick overview of the data in the dataframe."
   ]
  },
  {
   "cell_type": "code",
   "execution_count": null,
   "metadata": {},
   "outputs": [],
   "source": [
    "restaurants.describe()"
   ]
  },
  {
   "cell_type": "code",
   "execution_count": null,
   "metadata": {},
   "outputs": [],
   "source": [
    "# Same as above, but the .T command transposes the table\n",
    "restaurants.describe().T"
   ]
  },
  {
   "cell_type": "markdown",
   "metadata": {},
   "source": [
    "The `object` type is a string. For many of these, we would like to change the data types for a few columns, using the `pd.to_numeric` and `pd.to_datetime` functions. We examine how to convert data types below."
   ]
  },
  {
   "cell_type": "markdown",
   "metadata": {},
   "source": [
    "### Converting Data Types to Numeric"
   ]
  },
  {
   "cell_type": "markdown",
   "metadata": {},
   "source": [
    "The `object` type is a string. When we want to convert an object to numeric, we can use the `pd.to_numeric` function, as shown below:"
   ]
  },
  {
   "cell_type": "code",
   "execution_count": null,
   "metadata": {},
   "outputs": [],
   "source": [
    "restaurants[\"SCORE\"] = pd.to_numeric(restaurants[\"SCORE\"])\n",
    "restaurants[\"Latitude\"] = pd.to_numeric(restaurants[\"Latitude\"])\n",
    "restaurants[\"Longitude\"] = pd.to_numeric(restaurants[\"Longitude\"])\n",
    "restaurants.dtypes"
   ]
  },
  {
   "cell_type": "markdown",
   "metadata": {
    "id": "wUJ3feX4jp3A"
   },
   "source": [
    "###  Converting Data to Dates"
   ]
  },
  {
   "cell_type": "markdown",
   "metadata": {
    "id": "qnWM14k4RPMQ"
   },
   "source": [
    "Now let's convert the dates columns into the appropriate data types. Let's take a look at a few dates."
   ]
  },
  {
   "cell_type": "code",
   "execution_count": null,
   "metadata": {},
   "outputs": [],
   "source": [
    "restaurants[\"GRADE DATE\"] = pd.to_datetime(restaurants[\"GRADE DATE\"])\n",
    "restaurants[\"RECORD DATE\"] = pd.to_datetime(restaurants[\"RECORD DATE\"])\n",
    "restaurants[\"INSPECTION DATE\"] = pd.to_datetime(restaurants[\"INSPECTION DATE\"])"
   ]
  },
  {
   "cell_type": "markdown",
   "metadata": {
    "id": "Nz57tm7GRPMT"
   },
   "source": [
    "#### Note\n",
    "\n",
    "\n",
    "In tricky cases, we may need to pass the `format` parameter, specifying the formatting of the date. For that, we need to understand first how to [parse dates using the Python conventions](https://docs.python.org/3/library/datetime.html#strftime-and-strptime-behavior).\n"
   ]
  },
  {
   "cell_type": "markdown",
   "metadata": {},
   "source": [
    "### Converting Data to Categorical Variables\n",
    "\n",
    "This is less important, but sometimes we want to specify variables to be \"Categorical\". This is most commonly useful when we have variables that have an implicit order (e.g., the A/B/C grade of the restaurant)."
   ]
  },
  {
   "cell_type": "code",
   "execution_count": null,
   "metadata": {},
   "outputs": [],
   "source": [
    "restaurants[\"BORO\"] = pd.Categorical(restaurants[\"BORO\"], ordered=False)\n",
    "restaurants[\"GRADE\"] = pd.Categorical(\n",
    "    restaurants[\"GRADE\"], categories=[\"A\", \"B\", \"C\"], ordered=True\n",
    ")\n",
    "restaurants[\"VIOLATION CODE\"] = pd.Categorical(\n",
    "    restaurants[\"VIOLATION CODE\"], ordered=False\n",
    ")\n",
    "restaurants[\"CRITICAL FLAG\"] = pd.Categorical(\n",
    "    restaurants[\"CRITICAL FLAG\"], ordered=False\n",
    ")\n",
    "restaurants[\"ACTION\"] = pd.Categorical(restaurants[\"ACTION\"], ordered=False)\n",
    "restaurants[\"CUISINE DESCRIPTION\"] = pd.Categorical(\n",
    "    restaurants[\"CUISINE DESCRIPTION\"], ordered=False\n",
    ")\n",
    "\n",
    "restaurants[\"INSPECTION TYPE\"] = pd.Categorical(\n",
    "    restaurants[\"INSPECTION TYPE\"], ordered=False\n",
    ")\n",
    "\n",
    "restaurants.dtypes"
   ]
  },
  {
   "cell_type": "markdown",
   "metadata": {
    "id": "_nLcGpcDRPLz"
   },
   "source": [
    "## Descriptive statistics\n",
    "\n"
   ]
  },
  {
   "cell_type": "markdown",
   "metadata": {
    "id": "4AIX3fGLRPL7"
   },
   "source": [
    "### Descriptive Statistics for Numeric Variables\n"
   ]
  },
  {
   "cell_type": "markdown",
   "metadata": {
    "id": "_44IGXw4RPL_"
   },
   "source": [
    "#### Basic descriptive statistics for numeric variables\n",
    "\n",
    "Given that SCORE is a numeric variable, we can get more detailed descriptive statistics for the variable using the `.describe()` command:"
   ]
  },
  {
   "cell_type": "code",
   "execution_count": null,
   "metadata": {
    "colab": {
     "base_uri": "https://localhost:8080/"
    },
    "id": "91cmXd7FRPL_",
    "outputId": "cdeef479-b7cc-4c05-bd9b-2da3f84c6bfc"
   },
   "outputs": [],
   "source": [
    "restaurants[\"SCORE\"].describe()"
   ]
  },
  {
   "cell_type": "markdown",
   "metadata": {
    "id": "GfpyQuyGRPMC"
   },
   "source": [
    "And now that SCORE is a numeric variable, we can examine its distribution by using the `hist` command of Pandas, which creates a histogram. (The histogram is lso available as `plot.hist`, or `plot(kind='hist'))`.)"
   ]
  },
  {
   "cell_type": "code",
   "execution_count": null,
   "metadata": {
    "colab": {
     "base_uri": "https://localhost:8080/",
     "height": 460
    },
    "id": "0Qs50xHYRPMC",
    "outputId": "3a6a8c9c-3671-482f-de64-2c3415059435"
   },
   "outputs": [],
   "source": [
    "restaurants[\"SCORE\"].hist()"
   ]
  },
  {
   "cell_type": "markdown",
   "metadata": {
    "id": "AqWLiM1GRPME"
   },
   "source": [
    "By default, the histogram has ~10 bars in out plot. We can change the resolution of the histogram using the `bins` variable. Larger number of `bins` allow for higher resolution, but if we increase the number too much, many bins end up having very few, or no data points. For example, experiment with changing the balue of bins below, and change the value from 50 to something bigger."
   ]
  },
  {
   "cell_type": "code",
   "execution_count": null,
   "metadata": {
    "colab": {
     "base_uri": "https://localhost:8080/",
     "height": 460
    },
    "id": "Ham9TxYoRPMF",
    "outputId": "dbf6c667-c7fa-452d-c9ea-1acfc850c091"
   },
   "outputs": [],
   "source": [
    "restaurants[\"SCORE\"].hist(bins=50)"
   ]
  },
  {
   "cell_type": "code",
   "execution_count": null,
   "metadata": {
    "colab": {
     "base_uri": "https://localhost:8080/",
     "height": 343
    },
    "id": "z6nkNDoORPMK",
    "outputId": "847660ba-9186-478d-cb18-1e2fcb9e2b71"
   },
   "outputs": [],
   "source": [
    "# A quick exposure to various options of the \"hist\" command\n",
    "restaurants[\"SCORE\"].hist(\n",
    "    bins=50,  # use 50 bars\n",
    "    range=(0, 50),  # x-axis from 0 to 50\n",
    "    density=True,  # show normalized count (density=True), or raw counts (density= False)\n",
    "    figsize=(15, 5),  # controls the size of the plot\n",
    "    alpha=0.8,  # make the plot 20% transparent\n",
    ")"
   ]
  },
  {
   "cell_type": "markdown",
   "metadata": {
    "id": "QqX3BxknRPMM"
   },
   "source": [
    "#### Kernel Density Estimation (KDE)\n",
    "\n",
    "An alternative to histograms is to use the **kernel density**, which estimates a continuous function, instead of the bucketized counts, which tends to be discontunuous and bumpy. We can access this usind the `.plot(kind='kde')` command:"
   ]
  },
  {
   "cell_type": "code",
   "execution_count": null,
   "metadata": {
    "colab": {
     "base_uri": "https://localhost:8080/",
     "height": 343
    },
    "id": "YDXan_BCRPMN",
    "outputId": "c78847ab-85ee-4482-d02e-dca36bb43452"
   },
   "outputs": [],
   "source": [
    "# This plots the density of a numeric attribute\n",
    "# kde = kernel density estimation\n",
    "restaurants[\"SCORE\"].plot(kind=\"kde\", color=\"Black\", xlim=(0, 50), figsize=(15, 5))"
   ]
  },
  {
   "cell_type": "markdown",
   "metadata": {
    "id": "CHNYw_8YjcyR"
   },
   "source": [
    "#### Extra: Combining plots\n",
    "\n",
    "Just as a quick note, we can actually easily combine plots in Pandas, by saving a plot in a variable, and then passing the parameter `ax = ....` in the new figure that we are creating. That `ax` parameter indicates that we want to plot the new chart on top of the plot specified in the `ax` parameter."
   ]
  },
  {
   "cell_type": "code",
   "execution_count": null,
   "metadata": {
    "colab": {
     "base_uri": "https://localhost:8080/",
     "height": 0
    },
    "id": "GdbTISRojJsN",
    "outputId": "6b745cb3-094e-417a-9a64-1ce775dd7eea"
   },
   "outputs": [],
   "source": [
    "# We save the plot in the variable \"histogram_figure\"\n",
    "histogram_figure = restaurants[\"SCORE\"].hist(\n",
    "    bins=50,  # use 50 bars\n",
    "    range=(0, 50),  # x-axis from 0 to 50\n",
    "    density=True,  # show normalized count (density=True), or raw counts (density= False)\n",
    "    figsize=(15, 5),  # controls the size of the plot\n",
    "    alpha=0.8,  # make the plot 20% transparent\n",
    ")\n",
    "\n",
    "# To combine the plots, we pass the ax = histogram_figure parameter\n",
    "restaurants[\"SCORE\"].plot(\n",
    "    kind=\"kde\", color=\"Black\", xlim=(0, 75), figsize=(15, 5), ax=histogram_figure\n",
    ")"
   ]
  },
  {
   "cell_type": "markdown",
   "metadata": {
    "id": "4vcYE-MURPMP"
   },
   "source": [
    "### Descriptive Statistics for Dates\n"
   ]
  },
  {
   "cell_type": "code",
   "execution_count": null,
   "metadata": {
    "colab": {
     "base_uri": "https://localhost:8080/",
     "height": 363
    },
    "id": "sXvztpgJRPMb",
    "outputId": "4c3d5cb8-6a3e-4c08-af4b-30e32e6f3508"
   },
   "outputs": [],
   "source": [
    "restaurants[[\"INSPECTION DATE\", \"GRADE DATE\", \"RECORD DATE\"]].describe(datetime_is_numeric=True)"
   ]
  },
  {
   "cell_type": "code",
   "execution_count": null,
   "metadata": {},
   "outputs": [],
   "source": [
    "restaurants[\"INSPECTION DATE\"].describe(datetime_is_numeric=True)"
   ]
  },
  {
   "cell_type": "code",
   "execution_count": null,
   "metadata": {},
   "outputs": [],
   "source": [
    "restaurants[\"GRADE DATE\"].describe(datetime_is_numeric=True)"
   ]
  },
  {
   "cell_type": "code",
   "execution_count": null,
   "metadata": {},
   "outputs": [],
   "source": [
    "restaurants[\"RECORD DATE\"].describe(datetime_is_numeric=True)"
   ]
  },
  {
   "cell_type": "markdown",
   "metadata": {
    "id": "5JJJB4dERPMd"
   },
   "source": [
    "#### Exercise\n",
    "\n",
    "* Plot a histogram for `INSPECTION DATE`, `GRADE DATE`, `RECORD DATE`. What do you see?\n",
    "* Try modifying the `bins` parameter. What are the results?\n",
    "* The `range=(start, finish)` command is often useful, when we want to focus on a particular part of the dataset. Try using that for  `INSPECTION DATE` to limit the dates to be between 1/1/2016 and 04/30/2020."
   ]
  },
  {
   "cell_type": "code",
   "execution_count": null,
   "metadata": {
    "id": "MxRHvWPxRPMm"
   },
   "outputs": [],
   "source": [
    "# your code here"
   ]
  },
  {
   "cell_type": "markdown",
   "metadata": {
    "id": "G8XqYeBbRPMo",
    "solution2": "hidden",
    "solution2_first": true
   },
   "source": [
    "#### Solution"
   ]
  },
  {
   "cell_type": "code",
   "execution_count": null,
   "metadata": {
    "colab": {
     "base_uri": "https://localhost:8080/",
     "height": 0
    },
    "id": "ds2zDG6xRPMp",
    "outputId": "693d592a-a548-4434-fbfe-5a3dc4655ef2",
    "solution2": "hidden"
   },
   "outputs": [],
   "source": [
    "# Not very appealing\n",
    "restaurants[\"INSPECTION DATE\"].hist()"
   ]
  },
  {
   "cell_type": "code",
   "execution_count": null,
   "metadata": {
    "colab": {
     "base_uri": "https://localhost:8080/",
     "height": 0
    },
    "id": "Kpwgv7vVRPMr",
    "outputId": "755b075e-830a-45a2-d85c-1b1763f5fe40",
    "solution2": "hidden"
   },
   "outputs": [],
   "source": [
    "restaurants[\"GRADE DATE\"].hist()"
   ]
  },
  {
   "cell_type": "code",
   "execution_count": null,
   "metadata": {
    "colab": {
     "base_uri": "https://localhost:8080/",
     "height": 0
    },
    "id": "JcBGiZ0pRPMt",
    "outputId": "9713418a-6ae4-492e-be71-83b67be31bc6",
    "solution2": "hidden"
   },
   "outputs": [],
   "source": [
    "x_start = pd.to_datetime(\"2016-01-01\")\n",
    "x_end = pd.to_datetime(\"2021-05-31\")\n",
    "bins = (x_end - x_start) / np.timedelta64(1, \"M\")  # one bin per month\n",
    "\n",
    "restaurants[\"INSPECTION DATE\"].hist(\n",
    "    range=(\n",
    "        x_start,\n",
    "        x_end,\n",
    "    ),  # limit the range of dates, ignore the 1/1/1990 faulty valye\n",
    "    bins=round(bins),  # number of months in the range -- computed manually\n",
    "    figsize=(15, 5),  # resize 15-width, 5-height\n",
    ")"
   ]
  },
  {
   "cell_type": "code",
   "execution_count": null,
   "metadata": {
    "colab": {
     "base_uri": "https://localhost:8080/",
     "height": 0
    },
    "id": "K_IHJhzPRPMw",
    "outputId": "581d4d05-89b3-4fdb-e444-ce98128f4191",
    "solution2": "hidden"
   },
   "outputs": [],
   "source": [
    "restaurants[\"GRADE DATE\"].hist(\n",
    "    range=(\n",
    "        x_start,\n",
    "        x_end,\n",
    "    ),  # limit the range of dates, ignore the 1/1/1990 faulty valye\n",
    "    bins=round(bins),  # number of months in the range -- computed manually\n",
    "    figsize=(15, 5),  # resize 15-width, 5-height\n",
    ")"
   ]
  },
  {
   "cell_type": "markdown",
   "metadata": {
    "id": "dsAgjwRyRPM7"
   },
   "source": [
    "### Descriptive Statistics for Categorical/string columns"
   ]
  },
  {
   "cell_type": "markdown",
   "metadata": {
    "id": "gRaEBS-GRPM7"
   },
   "source": [
    "We can also get quick statistics about the common values that appear in each column:"
   ]
  },
  {
   "cell_type": "code",
   "execution_count": null,
   "metadata": {
    "colab": {
     "base_uri": "https://localhost:8080/"
    },
    "id": "8iZZ5ERvRPM8",
    "outputId": "4e82e4d6-09dc-4992-d256-34bebd234eae"
   },
   "outputs": [],
   "source": [
    "restaurants[\"DBA\"].value_counts()"
   ]
  },
  {
   "cell_type": "code",
   "execution_count": null,
   "metadata": {
    "colab": {
     "base_uri": "https://localhost:8080/"
    },
    "id": "syGbdu-9RPM-",
    "outputId": "2c7dd220-3a98-4b3a-a1b5-d797a68ed09e"
   },
   "outputs": [],
   "source": [
    "restaurants[\"CUISINE DESCRIPTION\"].value_counts()"
   ]
  },
  {
   "cell_type": "markdown",
   "metadata": {
    "id": "EzHAljAjRPNA"
   },
   "source": [
    "And we can use the \"plot\" command to plot the resulting histogram. (More details at http://pandas.pydata.org/pandas-docs/stable/visualization.html) We also revisit plotting below."
   ]
  },
  {
   "cell_type": "code",
   "execution_count": null,
   "metadata": {
    "colab": {
     "base_uri": "https://localhost:8080/",
     "height": 460
    },
    "id": "QUlBxouPRPNB",
    "outputId": "41dfa911-3f03-4ae1-f82e-ef528b01fb10"
   },
   "outputs": [],
   "source": [
    "restaurants[\"CUISINE DESCRIPTION\"].value_counts()[:20].plot(kind=\"barh\")"
   ]
  },
  {
   "cell_type": "code",
   "execution_count": null,
   "metadata": {
    "colab": {
     "base_uri": "https://localhost:8080/"
    },
    "id": "rAncl0ibRPNF",
    "outputId": "1b27bcca-6880-4a5b-c8cb-b4ec607189ec"
   },
   "outputs": [],
   "source": [
    "popular = restaurants[\"CUISINE DESCRIPTION\"].value_counts()\n",
    "popular"
   ]
  },
  {
   "cell_type": "code",
   "execution_count": null,
   "metadata": {
    "colab": {
     "base_uri": "https://localhost:8080/",
     "height": 460
    },
    "id": "FtJCxPvtRPNY",
    "outputId": "dbe5d16e-07c4-48f1-dc6e-7e614fe7b718"
   },
   "outputs": [],
   "source": [
    "popular = restaurants[\"CUISINE DESCRIPTION\"].value_counts()\n",
    "popular[:20].plot(kind=\"barh\")"
   ]
  },
  {
   "cell_type": "code",
   "execution_count": null,
   "metadata": {},
   "outputs": [],
   "source": [
    "# We can invert the list by starting at element 19 (the 20th element)\n",
    "# and then go to the beginning of the list going backwards (the :-1 at the end)\n",
    "popular[19::-1].plot(kind=\"barh\")"
   ]
  },
  {
   "cell_type": "code",
   "execution_count": null,
   "metadata": {
    "colab": {
     "base_uri": "https://localhost:8080/"
    },
    "id": "UzD-ebpzRPNd",
    "outputId": "6c40967b-e949-45b7-b93f-c5f837fe86cb"
   },
   "outputs": [],
   "source": [
    "restaurants[\"VIOLATION CODE\"].head(5)"
   ]
  },
  {
   "cell_type": "code",
   "execution_count": null,
   "metadata": {
    "colab": {
     "base_uri": "https://localhost:8080/"
    },
    "id": "BpqTQf9iRPNj",
    "outputId": "8139a5a0-d906-4d4e-e261-beb8a0a9e0da"
   },
   "outputs": [],
   "source": [
    "violation_counts = restaurants[\"VIOLATION CODE\"].value_counts()\n",
    "violation_counts[0:10]"
   ]
  },
  {
   "cell_type": "code",
   "execution_count": null,
   "metadata": {
    "colab": {
     "base_uri": "https://localhost:8080/",
     "height": 473
    },
    "id": "synFeTGiRPNq",
    "outputId": "63b6987f-3817-4e7c-82ab-adef6e7cedae"
   },
   "outputs": [],
   "source": [
    "violation_counts[0:20].plot(kind=\"bar\")"
   ]
  },
  {
   "cell_type": "markdown",
   "metadata": {
    "id": "MAbbMV_qRPNv"
   },
   "source": [
    "#### Exercise\n",
    "\n",
    "* Create a plot showing the number of inspections that happen across **boroughs**. Use the `BORO` column and the `value_counts()` function."
   ]
  },
  {
   "cell_type": "code",
   "execution_count": null,
   "metadata": {
    "colab": {
     "base_uri": "https://localhost:8080/",
     "height": 0
    },
    "id": "a5cD2Fj2RPNw",
    "outputId": "d8be7a56-bcb0-4145-bf99-cb093c98e8da"
   },
   "outputs": [],
   "source": [
    "# your code here"
   ]
  },
  {
   "cell_type": "markdown",
   "metadata": {
    "id": "2owfbywARPN0",
    "solution2": "hidden",
    "solution2_first": true
   },
   "source": [
    "#### Solution "
   ]
  },
  {
   "cell_type": "code",
   "execution_count": null,
   "metadata": {
    "colab": {
     "base_uri": "https://localhost:8080/"
    },
    "id": "cJQdi6fGRPN0",
    "outputId": "74ca2158-bfd2-47bf-e247-65c110f16355",
    "solution2": "hidden"
   },
   "outputs": [],
   "source": [
    "restaurants[\"BORO\"].value_counts()"
   ]
  },
  {
   "cell_type": "code",
   "execution_count": null,
   "metadata": {
    "colab": {
     "base_uri": "https://localhost:8080/"
    },
    "id": "uncTWbaXRPN2",
    "outputId": "719920ee-c194-4701-95c9-0aa6f8eed44a",
    "solution2": "hidden"
   },
   "outputs": [],
   "source": [
    "# Same as above; works only for attribute names without spaces\n",
    "restaurants.BORO.value_counts()"
   ]
  },
  {
   "cell_type": "code",
   "execution_count": null,
   "metadata": {
    "colab": {
     "base_uri": "https://localhost:8080/",
     "height": 0
    },
    "id": "g7elS_06RPN6",
    "outputId": "27e063f8-3852-4265-8ae7-5a3e44f11989",
    "solution2": "hidden"
   },
   "outputs": [],
   "source": [
    "restaurants[\"BORO\"].value_counts().plot(kind=\"bar\")"
   ]
  },
  {
   "cell_type": "code",
   "execution_count": null,
   "metadata": {
    "colab": {
     "base_uri": "https://localhost:8080/",
     "height": 0
    },
    "id": "iB52Xwh6RPN-",
    "outputId": "7948c975-dbac-4733-dc67-e28608575ebe",
    "solution2": "hidden"
   },
   "outputs": [],
   "source": [
    "restaurants[\"BORO\"].value_counts().plot(kind=\"barh\")"
   ]
  },
  {
   "cell_type": "markdown",
   "metadata": {
    "id": "pTKmk7LqRPOC"
   },
   "source": [
    "## Selecting a subset of the columns\n",
    "\n",
    "In a dataframe, we can specify the column(s) that we want to keep, and get back another dataframe with just the subset of the columns that we want to keep."
   ]
  },
  {
   "cell_type": "code",
   "execution_count": null,
   "metadata": {
    "colab": {
     "base_uri": "https://localhost:8080/",
     "height": 1000
    },
    "id": "kdGNyALJRPOD",
    "outputId": "c7d0d475-2de4-4a16-975f-a96ae8f4fcfe"
   },
   "outputs": [],
   "source": [
    "restaurants"
   ]
  },
  {
   "cell_type": "code",
   "execution_count": null,
   "metadata": {
    "colab": {
     "base_uri": "https://localhost:8080/",
     "height": 407
    },
    "id": "KoA5JqtFRPOF",
    "outputId": "3758179a-07fd-40db-944c-a958029f543c"
   },
   "outputs": [],
   "source": [
    "restaurants[[\"DBA\", \"GRADE\", \"GRADE DATE\"]]"
   ]
  },
  {
   "cell_type": "code",
   "execution_count": null,
   "metadata": {
    "colab": {
     "base_uri": "https://localhost:8080/",
     "height": 348
    },
    "id": "0DbB0h26RPON",
    "outputId": "af59a72a-0ea1-44a2-9a9c-5b9b349bc4bb"
   },
   "outputs": [],
   "source": [
    "columns = [\"GRADE DATE\", \"VIOLATION CODE\", \"DBA\", \"SCORE\"]\n",
    "restaurants[columns].head(10)"
   ]
  },
  {
   "cell_type": "code",
   "execution_count": null,
   "metadata": {
    "colab": {
     "base_uri": "https://localhost:8080/",
     "height": 348
    },
    "id": "0skTt0rNRPOP",
    "outputId": "8a0df241-3828-4893-aea6-625301dc5c55"
   },
   "outputs": [],
   "source": [
    "restaurants[[\"GRADE DATE\", \"VIOLATION CODE\", \"DBA\", \"SCORE\"]].head(10)"
   ]
  },
  {
   "cell_type": "markdown",
   "metadata": {
    "id": "hcirVVhaRPOR"
   },
   "source": [
    "## Selecting rows\n",
    "\n",
    "To select rows, we can use the following approach, where we generate a list of boolean values, one for each row of the dataframe, and then we use the list to select which of the rows of the dataframe we want to keep\""
   ]
  },
  {
   "cell_type": "code",
   "execution_count": null,
   "metadata": {
    "colab": {
     "base_uri": "https://localhost:8080/",
     "height": 1000
    },
    "id": "AuAEq5kCRPOR",
    "outputId": "7f68e333-5660-4d5c-ee2d-5528bd4595e0"
   },
   "outputs": [],
   "source": [
    "restaurants"
   ]
  },
  {
   "cell_type": "code",
   "execution_count": null,
   "metadata": {
    "colab": {
     "base_uri": "https://localhost:8080/"
    },
    "id": "37-qYFVyRPOT",
    "outputId": "55c0677b-fec4-4897-b56c-c264dbd10d1b"
   },
   "outputs": [],
   "source": [
    "# Create the condition \"has mice\" for code 04L\n",
    "mice = (restaurants[\"VIOLATION CODE\"] == \"04L\")\n",
    "mice"
   ]
  },
  {
   "cell_type": "code",
   "execution_count": null,
   "metadata": {
    "colab": {
     "base_uri": "https://localhost:8080/",
     "height": 963
    },
    "id": "V106ezm-RPOW",
    "outputId": "16f7daf2-3cbe-4cdc-bf00-70ba3ba9dd4d"
   },
   "outputs": [],
   "source": [
    "# Apply the condition to the dataframe \"restaurants\" and store the result\n",
    "# in a dataframe called  has_mice\n",
    "has_mice = restaurants[mice]\n",
    "has_mice"
   ]
  },
  {
   "cell_type": "code",
   "execution_count": null,
   "metadata": {
    "colab": {
     "base_uri": "https://localhost:8080/"
    },
    "id": "qXC7DeISRPOa",
    "outputId": "fa67fd75-5c45-47bc-86bd-ce1db3d567ef"
   },
   "outputs": [],
   "source": [
    "restaurants[\"DBA\"].value_counts()[:20]"
   ]
  },
  {
   "cell_type": "code",
   "execution_count": null,
   "metadata": {
    "colab": {
     "base_uri": "https://localhost:8080/"
    },
    "id": "ieEWvEbZRPOf",
    "outputId": "142f22e6-06ba-42e9-cc4c-9775cecf167e"
   },
   "outputs": [],
   "source": [
    "# List the most frequent DBA values in the dataframe\n",
    "has_mice[\"DBA\"].value_counts()[:20]"
   ]
  },
  {
   "cell_type": "code",
   "execution_count": null,
   "metadata": {
    "colab": {
     "base_uri": "https://localhost:8080/"
    },
    "id": "Eag5DaYgRPOh",
    "outputId": "4bb73f0f-91bc-4170-b9fd-8a3fceb27951"
   },
   "outputs": [],
   "source": [
    "has_mice[\"CAMIS\"].value_counts()[:10]"
   ]
  },
  {
   "cell_type": "code",
   "execution_count": null,
   "metadata": {
    "colab": {
     "base_uri": "https://localhost:8080/",
     "height": 740
    },
    "id": "POUKSEmsRPOj",
    "outputId": "7b407bf5-65dc-4451-bf4c-1926109a93ea"
   },
   "outputs": [],
   "source": [
    "condition = has_mice[\"CAMIS\"] == \"50036890\"\n",
    "has_mice[condition]"
   ]
  },
  {
   "cell_type": "markdown",
   "metadata": {
    "id": "SaIVZ16DRPOn"
   },
   "source": [
    "And we can use more complex conditions. "
   ]
  },
  {
   "cell_type": "code",
   "execution_count": null,
   "metadata": {
    "id": "1j2_O5AdRPOn"
   },
   "outputs": [],
   "source": [
    "# AND in pandas is \"&\"\n",
    "# OR in pandas is \"|\""
   ]
  },
  {
   "cell_type": "code",
   "execution_count": null,
   "metadata": {
    "id": "OBDoVR50RPOo"
   },
   "outputs": [],
   "source": [
    "mice_10012 = (restaurants[\"VIOLATION CODE\"] == \"04L\") & (restaurants[\"ZIPCODE\"] == \"10012\")"
   ]
  },
  {
   "cell_type": "code",
   "execution_count": null,
   "metadata": {
    "colab": {
     "base_uri": "https://localhost:8080/",
     "height": 963
    },
    "id": "PVVgPQ6pRPOq",
    "outputId": "24094f97-e0b8-4be5-edd4-e2d5e3c15edf"
   },
   "outputs": [],
   "source": [
    "has_mice_10012 = restaurants[mice_10012]\n",
    "has_mice_10012"
   ]
  },
  {
   "cell_type": "code",
   "execution_count": null,
   "metadata": {
    "colab": {
     "base_uri": "https://localhost:8080/"
    },
    "id": "CLEmEPIRRPOr",
    "outputId": "a9db7378-7e8a-472f-9349-120bf11c9cbd"
   },
   "outputs": [],
   "source": [
    "has_mice_10012[\"DBA\"].value_counts()[:20]"
   ]
  },
  {
   "cell_type": "code",
   "execution_count": null,
   "metadata": {
    "colab": {
     "base_uri": "https://localhost:8080/",
     "height": 460
    },
    "id": "W3NvGsgoRPOs",
    "outputId": "44143cc9-3faf-4187-cc57-6a65bba8d915"
   },
   "outputs": [],
   "source": [
    "has_mice_10012[\"DBA\"].value_counts()[20::-1].plot(kind=\"barh\")"
   ]
  },
  {
   "cell_type": "markdown",
   "metadata": {
    "id": "8UR7tKEURPOu"
   },
   "source": [
    "## Pivot Tables\n",
    "\n",
    "[Pivot tables](http://pandas.pydata.org/pandas-docs/stable/generated/pandas.pivot_table.html) is one of the most commonly used exploratory tools, and in Pandas they are extremely flexible. \n",
    "\n",
    "For example, let's try to count the number of restaurants that are inspected every day. "
   ]
  },
  {
   "cell_type": "code",
   "execution_count": null,
   "metadata": {
    "id": "m5m48HZFRPOu"
   },
   "outputs": [],
   "source": [
    "# Count the number of CAMIS values that appear on each date\n",
    "\n",
    "pivot = pd.pivot_table(\n",
    "    data=restaurants,\n",
    "    index=\"GRADE DATE\",  # specifies the rows\n",
    "    values=\"CAMIS\",  # specifies the content of the cells\n",
    "    aggfunc=\"count\",  # we ask to count how many different CAMIS values we see\n",
    ")"
   ]
  },
  {
   "cell_type": "code",
   "execution_count": null,
   "metadata": {
    "colab": {
     "base_uri": "https://localhost:8080/",
     "height": 437
    },
    "id": "PXbdJgt8RPOy",
    "outputId": "6599ba1f-c887-4314-b9c8-d27149c96d3c"
   },
   "outputs": [],
   "source": [
    "pivot"
   ]
  },
  {
   "cell_type": "markdown",
   "metadata": {
    "id": "sw_ySegDRPO0"
   },
   "source": [
    "Now, let's plot this. By default, Pandas considers the \"index\" column to be the x-axis, and plots the rest."
   ]
  },
  {
   "cell_type": "code",
   "execution_count": null,
   "metadata": {
    "colab": {
     "base_uri": "https://localhost:8080/",
     "height": 347
    },
    "id": "LcxPgXE6RPO9",
    "outputId": "36f62528-8842-423e-ea2f-4d66a0d27dad"
   },
   "outputs": [],
   "source": [
    "pivot.plot(figsize=(10, 5))"
   ]
  },
  {
   "cell_type": "code",
   "execution_count": null,
   "metadata": {
    "colab": {
     "base_uri": "https://localhost:8080/",
     "height": 461
    },
    "id": "vvzK9tjhRPO_",
    "outputId": "36b13978-a025-475b-e9e5-27c682956b09"
   },
   "outputs": [],
   "source": [
    "pivot[400:500].plot()"
   ]
  },
  {
   "cell_type": "markdown",
   "metadata": {
    "id": "PuzOxstCRPPA"
   },
   "source": [
    "#### Changing date granularity \n",
    "\n",
    "We can also use the [resample](http://pandas.pydata.org/pandas-docs/stable/generated/pandas.DataFrame.resample.html) command to change the frequency from one day, to, say, 7 days. Then we can compute, say, the average (`mean()`) for these days, or the total number (`sum()`) of inspections."
   ]
  },
  {
   "cell_type": "code",
   "execution_count": null,
   "metadata": {
    "colab": {
     "base_uri": "https://localhost:8080/",
     "height": 437
    },
    "id": "ffCg-Jo-RPPB",
    "outputId": "5275fc19-5f74-42c3-e22d-85d7b53b8c67"
   },
   "outputs": [],
   "source": [
    "pivot.resample(\"1W\").sum().tail(100)"
   ]
  },
  {
   "cell_type": "markdown",
   "metadata": {
    "id": "9B5xxo0gRPPC"
   },
   "source": [
    "Now, let's plot this. By default, Pandas considers the \"index\" column to be the x-axis, and plots the rest."
   ]
  },
  {
   "cell_type": "code",
   "execution_count": null,
   "metadata": {
    "colab": {
     "base_uri": "https://localhost:8080/",
     "height": 478
    },
    "id": "VDa0KRaqRPPC",
    "outputId": "fd9fd253-274c-448a-9b25-58f293163da4"
   },
   "outputs": [],
   "source": [
    "# Plot the average number of inspections, over 7-day periods\n",
    "pivot.resample(\"1W\").mean().plot()"
   ]
  },
  {
   "cell_type": "code",
   "execution_count": null,
   "metadata": {
    "colab": {
     "base_uri": "https://localhost:8080/",
     "height": 478
    },
    "id": "M4WKhTGLRPPF",
    "outputId": "68b34082-3a6c-4e16-9310-888f72861973"
   },
   "outputs": [],
   "source": [
    "# Plot the total number of inspections, over 1-month periods\n",
    "pivot.resample(\"1M\").sum().plot()"
   ]
  },
  {
   "cell_type": "code",
   "execution_count": null,
   "metadata": {
    "colab": {
     "base_uri": "https://localhost:8080/",
     "height": 495
    },
    "id": "e_WH-s_DRPPK",
    "outputId": "ae4eaca0-4810-424b-d66e-5ac93c03b666"
   },
   "outputs": [],
   "source": [
    "plot = pivot.resample(\"7D\").mean().plot()\n",
    "plot.set_xlabel(\"Date of Inspection\")\n",
    "plot.set_ylabel(\"Average Number of Inspections (7-day average)\")\n",
    "plot.set_title(\"Analysis of Number of Inspections over Time\")"
   ]
  },
  {
   "cell_type": "markdown",
   "metadata": {
    "id": "wuhabll3RPPL"
   },
   "source": [
    "#### Pivot Table with two (or more) variables)\n",
    "\n",
    "We would like to break down the results by borough, so we add the `column` parameter."
   ]
  },
  {
   "cell_type": "code",
   "execution_count": null,
   "metadata": {
    "colab": {
     "base_uri": "https://localhost:8080/",
     "height": 378
    },
    "id": "x57cwCMARPPM",
    "outputId": "a9bfcf10-afd3-4e95-8260-ee4a76467ad9"
   },
   "outputs": [],
   "source": [
    "pivot2 = pd.pivot_table(\n",
    "    data=restaurants,  #\n",
    "    index=\"INSPECTION DATE\",\n",
    "    columns=\"BORO\",\n",
    "    values=\"CAMIS\",\n",
    "    aggfunc=\"count\",\n",
    ")\n",
    "pivot2.head(10)"
   ]
  },
  {
   "cell_type": "markdown",
   "metadata": {
    "id": "FRNJSEEVRPPN"
   },
   "source": [
    "##### Deleting rows and columns\n",
    "\n",
    "Now, you will notice that there are a few columns and rows that are just noise. The first row with date *'1900-01-01'* is clearly noise, and the *'0'* column is also noise. We can use the `drop` command of Pandas to drop these."
   ]
  },
  {
   "cell_type": "code",
   "execution_count": null,
   "metadata": {
    "id": "ypaHCyOQRPPN"
   },
   "outputs": [],
   "source": [
    "# The axis='index' (or axis=0) means that we delete a row with that index value\n",
    "pivot2 = pivot2.drop(pd.to_datetime(\"1900-01-01\"), axis=\"index\")"
   ]
  },
  {
   "cell_type": "code",
   "execution_count": null,
   "metadata": {
    "id": "uoZ8g0Q_RPPP"
   },
   "outputs": [],
   "source": [
    "# The axis='columns' (or axis=1) means that we delete a columns with that value\n",
    "pivot2 = pivot2.drop(\"0\", axis=\"columns\")"
   ]
  },
  {
   "cell_type": "code",
   "execution_count": null,
   "metadata": {
    "colab": {
     "base_uri": "https://localhost:8080/",
     "height": 228
    },
    "id": "ScaU_IdYRPPR",
    "outputId": "a2c260c6-6d61-4c13-f29c-e981b285780d"
   },
   "outputs": [],
   "source": [
    "pivot2.tail(5)"
   ]
  },
  {
   "cell_type": "code",
   "execution_count": null,
   "metadata": {
    "colab": {
     "base_uri": "https://localhost:8080/",
     "height": 452
    },
    "id": "KMpy5ZOYRPPS",
    "outputId": "a441a7da-a7f6-4615-89ea-9aefd9d5cce3"
   },
   "outputs": [],
   "source": [
    "pivot2.plot()"
   ]
  },
  {
   "cell_type": "code",
   "execution_count": null,
   "metadata": {
    "colab": {
     "base_uri": "https://localhost:8080/",
     "height": 378
    },
    "id": "iPsINQTjRPPU",
    "outputId": "372513f6-4ebd-43a5-d817-993197782c20"
   },
   "outputs": [],
   "source": [
    "# We resample the index, to keep only dates every one month\n",
    "# For that one month period, we compute the average value\n",
    "pivot2.resample(\"1M\").mean().tail(10)"
   ]
  },
  {
   "cell_type": "code",
   "execution_count": null,
   "metadata": {
    "colab": {
     "base_uri": "https://localhost:8080/",
     "height": 478
    },
    "id": "ZxyKJFsORPPV",
    "outputId": "6bfc7584-8d16-4aac-d358-dea86975f1ca"
   },
   "outputs": [],
   "source": [
    "# If we plot a dataframe then by default the index column\n",
    "# in our case the INSPECTION DATE becomes the x-asis\n",
    "# and all the columns become separate lines in the plot\n",
    "pivot2.resample(\"1M\").mean().plot()\n",
    "\n",
    "# Potential Exercise, if we have time:\n",
    "# Drop the last date, which corresponds to an incomplete month"
   ]
  },
  {
   "cell_type": "markdown",
   "metadata": {
    "id": "bS8nDH9DRPPW"
   },
   "source": [
    "## (Optional, FYI) Advanced Pivot Tables\n",
    "\n",
    "We can also add multiple attributes in the index and columns. It is also possible to have multiple aggregation functions, and we can even define our own aggregation functions."
   ]
  },
  {
   "cell_type": "code",
   "execution_count": null,
   "metadata": {
    "colab": {
     "base_uri": "https://localhost:8080/",
     "height": 1000
    },
    "id": "oX1uJBmsRPPW",
    "outputId": "21b14ca5-c6e0-40c0-d69d-0dbaa576d934"
   },
   "outputs": [],
   "source": [
    "# We write a function that returns the\n",
    "# number of unique items in a list x\n",
    "def count_unique(x):\n",
    "    return len(set(x))\n",
    "\n",
    "\n",
    "# We break down by BORO and GRADE, and also calculate\n",
    "# inspections in unique (unique restaurants)\n",
    "# and non-unique entries (effectuvely, violations)\n",
    "pivot_advanced = pd.pivot_table(\n",
    "    data=restaurants,  #\n",
    "    index=\"GRADE DATE\",\n",
    "    columns=[\"BORO\", \"GRADE\"],\n",
    "    values=\"CAMIS\",\n",
    "    aggfunc=[\"count\", count_unique],\n",
    ")\n",
    "\n",
    "# Take the total number of inspections (unique and non-unique)\n",
    "agg = pivot_advanced.resample(\"1M\").sum()\n",
    "\n",
    "# Show the last 5 entries and show the transpose (.T)\n",
    "agg.tail().T"
   ]
  },
  {
   "cell_type": "markdown",
   "metadata": {
    "id": "Voat735yRPPZ"
   },
   "source": [
    "### Exercise 1 \n",
    "\n",
    "Now let's do the same exercise, but instead of counting the number of inspections, we want to compute the average score assigned by the inspectors. Hint: We will need to change the `values` and the `aggfunc` parameters in the `pivot_table` function above."
   ]
  },
  {
   "cell_type": "code",
   "execution_count": null,
   "metadata": {
    "id": "IlCG1ciIRPPa"
   },
   "outputs": [],
   "source": [
    "# your code here"
   ]
  },
  {
   "cell_type": "markdown",
   "metadata": {
    "id": "FLgKXET5RPPb",
    "solution2": "hidden",
    "solution2_first": true
   },
   "source": [
    "#### Solution"
   ]
  },
  {
   "cell_type": "code",
   "execution_count": null,
   "metadata": {
    "id": "As9qTwYLRPPb",
    "solution2": "hidden"
   },
   "outputs": [],
   "source": [
    "pivot = pd.pivot_table(\n",
    "    data=restaurants,\n",
    "    index=\"INSPECTION DATE\",  # specifies the rows\n",
    "    values=\"SCORE\",  # specifies the content of the cells\n",
    "    aggfunc=\"mean\",  # compute the average SCORE\n",
    ")"
   ]
  },
  {
   "cell_type": "code",
   "execution_count": null,
   "metadata": {
    "colab": {
     "base_uri": "https://localhost:8080/",
     "height": 298
    },
    "id": "3IidFXaRRPPc",
    "outputId": "f0109417-926a-4d59-e3be-7d214700f4cc",
    "solution2": "hidden"
   },
   "outputs": [],
   "source": [
    "pivot.plot(figsize=(10, 4))"
   ]
  },
  {
   "cell_type": "code",
   "execution_count": null,
   "metadata": {
    "colab": {
     "base_uri": "https://localhost:8080/",
     "height": 306
    },
    "id": "Ud4QZEsDRPPd",
    "outputId": "427603e7-8099-4639-9ce8-492f66bd666e",
    "solution2": "hidden"
   },
   "outputs": [],
   "source": [
    "pivot.resample(\"1W\").mean().plot(figsize=(10, 4))"
   ]
  },
  {
   "cell_type": "markdown",
   "metadata": {
    "id": "oX3jJAj0RPPh"
   },
   "source": [
    "\n",
    "\n",
    "### Exercise 2\n",
    "\n",
    "We now want to examine if different cuisines have different inspection scores. Compute the average inspection score by cuisine. Use the `sort_values()` command ([documentation](https://pandas.pydata.org/pandas-docs/stable/generated/pandas.DataFrame.sort_values.html)) to order cuisines by their inspection scores."
   ]
  },
  {
   "cell_type": "code",
   "execution_count": null,
   "metadata": {
    "id": "qv0aU9yQRPPh"
   },
   "outputs": [],
   "source": [
    "# your code here"
   ]
  },
  {
   "cell_type": "markdown",
   "metadata": {
    "id": "iLNPTK3uRPPj",
    "solution2": "hidden",
    "solution2_first": true
   },
   "source": [
    "#### Solution"
   ]
  },
  {
   "cell_type": "code",
   "execution_count": null,
   "metadata": {
    "colab": {
     "base_uri": "https://localhost:8080/",
     "height": 306
    },
    "id": "OjG4WrB5RPPj",
    "outputId": "5ff060f3-5d1d-4b43-b8ed-7175fcfe8cf0",
    "solution2": "hidden"
   },
   "outputs": [],
   "source": [
    "pivot = pd.pivot_table(\n",
    "    data=restaurants,\n",
    "    index=\"INSPECTION DATE\",  # dates are the rows\n",
    "    columns=\"CUISINE DESCRIPTION\",  # cuisines are the columns\n",
    "    values=\"SCORE\",  # we analyze the SCORE\n",
    "    aggfunc=\"mean\",  # compute the average SCORE\n",
    ")\n",
    "# Select 3 columns (american, frenchn, chinese), compute the average score for a month\n",
    "# and plot the results\n",
    "pivot[[\"American\", \"French\", \"Chinese\"]].resample(\"1M\").mean().plot(figsize=(10, 4))"
   ]
  }
 ],
 "metadata": {
  "colab": {
   "include_colab_link": true,
   "name": "A-Introduction_to_Pandas",
   "provenance": [],
   "toc_visible": true
  },
  "kernelspec": {
   "display_name": "Python 3",
   "language": "python",
   "name": "python3"
  },
  "language_info": {
   "codemirror_mode": {
    "name": "ipython",
    "version": 3
   },
   "file_extension": ".py",
   "mimetype": "text/x-python",
   "name": "python",
   "nbconvert_exporter": "python",
   "pygments_lexer": "ipython3",
   "version": "3.8.5"
  }
 },
 "nbformat": 4,
 "nbformat_minor": 1
}
