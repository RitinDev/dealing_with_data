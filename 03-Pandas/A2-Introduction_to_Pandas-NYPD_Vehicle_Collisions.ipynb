{
  "nbformat": 4,
  "nbformat_minor": 0,
  "metadata": {
    "kernelspec": {
      "display_name": "Python 3",
      "language": "python",
      "name": "python3"
    },
    "language_info": {
      "codemirror_mode": {
        "name": "ipython",
        "version": 3
      },
      "file_extension": ".py",
      "mimetype": "text/x-python",
      "name": "python",
      "nbconvert_exporter": "python",
      "pygments_lexer": "ipython3",
      "version": "3.6.7"
    },
    "colab": {
      "name": "A2-Introduction_to_Pandas-NYPD_Vehicle_Collisions.ipynb",
      "provenance": []
    }
  },
  "cells": [
    {
      "cell_type": "markdown",
      "metadata": {
        "id": "DSFnJi2tcLWg"
      },
      "source": [
        "# Introduction to Pandas"
      ]
    },
    {
      "cell_type": "markdown",
      "metadata": {
        "id": "fabZhDl3cLWh"
      },
      "source": [
        "## Setup and preliminaries"
      ]
    },
    {
      "cell_type": "code",
      "metadata": {
        "id": "GpsY77lScLWj"
      },
      "source": [
        "# Render our plots inline\n",
        "%matplotlib inline\n",
        "%config InlineBackend.figure_format = 'retina'\n",
        "\n",
        "import pandas as pd\n",
        "import matplotlib\n",
        "import matplotlib.pyplot as plt\n",
        "import seaborn as sns\n",
        "\n",
        "# Make the graphs a bit bigger\n",
        "matplotlib.style.use(['seaborn-talk', 'seaborn-ticks', 'seaborn-whitegrid'])"
      ],
      "execution_count": null,
      "outputs": []
    },
    {
      "cell_type": "markdown",
      "metadata": {
        "id": "PI-dq-9ZcLWq"
      },
      "source": [
        "## Exercise: NYPD Vehicle Collisions\n",
        "\n",
        "* We interacted with the NYC Restaurant Inspection Data. Now, let's download another dataset, and do some analysis. We will focus on the [NYPD Vehicle Collisions](https://data.cityofnewyork.us/Public-Safety/NYPD-Motor-Vehicle-Collisions/h9gi-nx95/data) data set.\n"
      ]
    },
    {
      "cell_type": "markdown",
      "metadata": {
        "heading_collapsed": true,
        "id": "1leSJW23cLWr"
      },
      "source": [
        "### Task 1: \n",
        "\n",
        "Download the dataset. Use the \"Export\" view, get the URL for the CSV file, and dowload it using curl. (See the top of the notebook for guidance.) \n"
      ]
    },
    {
      "cell_type": "code",
      "metadata": {
        "hidden": true,
        "id": "kraQtxBicLWs"
      },
      "source": [
        ""
      ],
      "execution_count": null,
      "outputs": []
    },
    {
      "cell_type": "code",
      "metadata": {
        "hidden": true,
        "id": "KmWXZ8LtcLWw"
      },
      "source": [
        ""
      ],
      "execution_count": null,
      "outputs": []
    },
    {
      "cell_type": "markdown",
      "metadata": {
        "hidden": true,
        "solution2": "hidden",
        "solution2_first": true,
        "id": "iE7pp12icLW0"
      },
      "source": [
        "#### Solution"
      ]
    },
    {
      "cell_type": "code",
      "metadata": {
        "hidden": true,
        "solution2": "hidden",
        "id": "IkjES2_scLW1"
      },
      "source": [
        "# It is a big file, ~350Mb. It will take 2-3 minutes to download\n",
        "!curl https://data.cityofnewyork.us/api/views/h9gi-nx95/rows.csv?accessType=DOWNLOAD -o accidents.csv"
      ],
      "execution_count": null,
      "outputs": []
    },
    {
      "cell_type": "code",
      "metadata": {
        "hidden": true,
        "solution2": "hidden",
        "id": "hxe1o7AJcLW7"
      },
      "source": [
        "df = pd.read_csv(\"accidents.csv\", low_memory=False)"
      ],
      "execution_count": null,
      "outputs": []
    },
    {
      "cell_type": "code",
      "metadata": {
        "hidden": true,
        "solution2": "hidden",
        "id": "b0qlf_0UcLW_"
      },
      "source": [
        "df.dtypes"
      ],
      "execution_count": null,
      "outputs": []
    },
    {
      "cell_type": "markdown",
      "metadata": {
        "heading_collapsed": true,
        "id": "vy3dI2TIcLXF"
      },
      "source": [
        "### Task 2: \n",
        "\n",
        "Find out the most common contributing factors to the collisions. \n",
        " "
      ]
    },
    {
      "cell_type": "code",
      "metadata": {
        "hidden": true,
        "id": "GzobFdbrcLXG"
      },
      "source": [
        ""
      ],
      "execution_count": null,
      "outputs": []
    },
    {
      "cell_type": "code",
      "metadata": {
        "hidden": true,
        "id": "oZ7ojkXicLXK"
      },
      "source": [
        ""
      ],
      "execution_count": null,
      "outputs": []
    },
    {
      "cell_type": "markdown",
      "metadata": {
        "hidden": true,
        "solution2": "hidden",
        "solution2_first": true,
        "id": "2QrwsfQscLXO"
      },
      "source": [
        "#### Solution"
      ]
    },
    {
      "cell_type": "code",
      "metadata": {
        "hidden": true,
        "solution2": "hidden",
        "id": "tIlEGYKvcLXP"
      },
      "source": [
        "# Task 2: Find out the most common contributing factors to the collisions.\n",
        "df['CONTRIBUTING FACTOR VEHICLE 1'].value_counts().plot(kind='barh')"
      ],
      "execution_count": null,
      "outputs": []
    },
    {
      "cell_type": "code",
      "metadata": {
        "id": "0RDW8dHufVnl"
      },
      "source": [
        "# Task 2: If we want to remove the \"Unspecified\", we select the elements starting\n",
        "# from position 1 (i.e., the second element in the list, the first one is 0)\n",
        "df['CONTRIBUTING FACTOR VEHICLE 1'].value_counts()[1:10].plot(kind='barh')"
      ],
      "execution_count": null,
      "outputs": []
    },
    {
      "cell_type": "markdown",
      "metadata": {
        "heading_collapsed": true,
        "id": "oYf_YojlcLXT"
      },
      "source": [
        "### Task 3: \n",
        "\n",
        "Break down the number of collisions by borough.\n",
        "\n",
        "\n",
        "\n"
      ]
    },
    {
      "cell_type": "code",
      "metadata": {
        "hidden": true,
        "id": "U6q_kRFHcLXT"
      },
      "source": [
        ""
      ],
      "execution_count": null,
      "outputs": []
    },
    {
      "cell_type": "markdown",
      "metadata": {
        "hidden": true,
        "solution2": "hidden",
        "solution2_first": true,
        "id": "tD2DFonOcLXg"
      },
      "source": [
        "#### Solution"
      ]
    },
    {
      "cell_type": "code",
      "metadata": {
        "hidden": true,
        "solution2": "hidden",
        "id": "xTVPuKmvcLXi"
      },
      "source": [
        "# Task 3: Break down the number of collisions by borough.\n",
        "df['BOROUGH'].value_counts().plot(kind='barh', figsize=(10,5))"
      ],
      "execution_count": null,
      "outputs": []
    },
    {
      "cell_type": "markdown",
      "metadata": {
        "heading_collapsed": true,
        "id": "DNn2pls3cLXl"
      },
      "source": [
        "### Task 4\n",
        "\n",
        "Find out the how many collisions had 0 persons injured, 1 persons injured, etc. persons injured in each accident. Use the `value_counts()` approach. You may also find the `.plot(logy=True)` option useful when you create the plot to make the y-axis logarigthmic.\n",
        " "
      ]
    },
    {
      "cell_type": "code",
      "metadata": {
        "hidden": true,
        "id": "uzIX6UPDcLXm"
      },
      "source": [
        ""
      ],
      "execution_count": null,
      "outputs": []
    },
    {
      "cell_type": "code",
      "metadata": {
        "hidden": true,
        "id": "AZhFx1umcLXp"
      },
      "source": [
        ""
      ],
      "execution_count": null,
      "outputs": []
    },
    {
      "cell_type": "markdown",
      "metadata": {
        "hidden": true,
        "solution2": "hidden",
        "solution2_first": true,
        "id": "76coQlh6cLXs"
      },
      "source": [
        "#### Solution"
      ]
    },
    {
      "cell_type": "code",
      "metadata": {
        "hidden": true,
        "solution2": "hidden",
        "id": "pbu-F_V0cLXt"
      },
      "source": [
        "# \"Chain\" style of writing data maniputation operations\n",
        "plot = (\n",
        "    df['NUMBER OF PERSONS INJURED'] # take the num of injuries column\n",
        "    .value_counts() # compure the freuquency of each value\n",
        "    .sort_index() # sort the results based on the index value instead of the frequency, \n",
        "                  # which is the default for value_counts\n",
        "    .plot( # and plot the results\n",
        "        kind='line', # we use a line plot because the x-axis is numeric/continuous\n",
        "        marker='o',  # we use a marker to mark where we have data points \n",
        "        logy=True # make the y-axis logarithmic\n",
        "    )\n",
        ")\n",
        "plot.set_xlabel(\"Number of injuries\")\n",
        "plot.set_ylabel(\"Number of collisions\")\n",
        "plot.set_title(\"Analysis of number of injuries per collision\")"
      ],
      "execution_count": null,
      "outputs": []
    },
    {
      "cell_type": "code",
      "metadata": {
        "hidden": true,
        "id": "LEvpWDsDcLXw"
      },
      "source": [
        ""
      ],
      "execution_count": null,
      "outputs": []
    },
    {
      "cell_type": "markdown",
      "metadata": {
        "heading_collapsed": true,
        "id": "xXdFK7ivcLXz"
      },
      "source": [
        "### Task 5\n",
        "\n",
        "(a) Compute the average number of injuries and deaths per accident, broken down by borough. Use the `pivot_table` functionality, putting `BOROUGH` as the index. You can answer this query by generating two separate tables, or you can create a single table by using the fact that you can pass a list of attributes/columns to the `values` parameter of the pivot table.\n",
        "\n",
        "(b) Repeat the exercise above, but break down the average number of deaths and injuries using the contributing factor for the accident. Use the `sort_values` command to sort the results, putting on top the contributing factors that generate the highest number of deaths."
      ]
    },
    {
      "cell_type": "code",
      "metadata": {
        "hidden": true,
        "id": "AAcrRiMbcLX0"
      },
      "source": [
        ""
      ],
      "execution_count": null,
      "outputs": []
    },
    {
      "cell_type": "markdown",
      "metadata": {
        "hidden": true,
        "solution2": "hidden",
        "solution2_first": true,
        "id": "DjY0HNIkcLX3"
      },
      "source": [
        "#### Solution"
      ]
    },
    {
      "cell_type": "code",
      "metadata": {
        "hidden": true,
        "solution2": "hidden",
        "id": "mSr0uLiucLX4"
      },
      "source": [
        "pd.pivot_table(\n",
        "    data = df,\n",
        "    index = 'BOROUGH',\n",
        "    aggfunc = 'mean',\n",
        "    values = ['NUMBER OF PERSONS INJURED', 'NUMBER OF PERSONS KILLED']\n",
        ")"
      ],
      "execution_count": null,
      "outputs": []
    },
    {
      "cell_type": "code",
      "metadata": {
        "hidden": true,
        "solution2": "hidden",
        "id": "65N6rbrdcLX7"
      },
      "source": [
        "pd.pivot_table(\n",
        "    data = df,\n",
        "    index = 'CONTRIBUTING FACTOR VEHICLE 1',\n",
        "    aggfunc = 'mean',\n",
        "    values = ['NUMBER OF PERSONS INJURED', 'NUMBER OF PERSONS KILLED']\n",
        ").sort_values('NUMBER OF PERSONS KILLED', ascending=False)"
      ],
      "execution_count": null,
      "outputs": []
    },
    {
      "cell_type": "code",
      "metadata": {
        "hidden": true,
        "id": "LXDZ1M3bcLX-"
      },
      "source": [
        ""
      ],
      "execution_count": null,
      "outputs": []
    },
    {
      "cell_type": "markdown",
      "metadata": {
        "heading_collapsed": true,
        "id": "J-xdkmYNcLYA"
      },
      "source": [
        "### Task 6\n",
        "\n",
        "Break down the accidents by borough and contributing factor. Use the `pivot_table` function of Pandas\n",
        " "
      ]
    },
    {
      "cell_type": "code",
      "metadata": {
        "hidden": true,
        "id": "suQVfLfLcLYB"
      },
      "source": [
        ""
      ],
      "execution_count": null,
      "outputs": []
    },
    {
      "cell_type": "markdown",
      "metadata": {
        "hidden": true,
        "solution2": "hidden",
        "solution2_first": true,
        "id": "tzANbIOOcLYE"
      },
      "source": [
        "#### Solution"
      ]
    },
    {
      "cell_type": "code",
      "metadata": {
        "hidden": true,
        "solution2": "hidden",
        "id": "qsTyRepUcLYE"
      },
      "source": [
        "pivot = pd.pivot_table(\n",
        "    data = df, # we analyze the df (accidents) dataframe\n",
        "    index = 'CONTRIBUTING FACTOR VEHICLE 1', \n",
        "    columns = 'BOROUGH', \n",
        "    values = 'COLLISION_ID', \n",
        "    aggfunc = 'count'\n",
        ")\n",
        "\n",
        "# Create an extra column showing the total deaths across boroughs (=columns)\n",
        "pivot[\"Total\"] = pivot.sum(axis=\"columns\") \n",
        "\n",
        "# Sort the dataframe by descending order of the values in the column \"Total\"\n",
        "pivot = pivot.sort_values(\"Total\", ascending=False)\n",
        "\n",
        "pivot"
      ],
      "execution_count": null,
      "outputs": []
    },
    {
      "cell_type": "markdown",
      "metadata": {
        "heading_collapsed": true,
        "id": "ySQ9Hif6cLYH"
      },
      "source": [
        "### Task 7\n",
        "\n",
        "Find the dates with the most accidents. Can you figure out what happened on these days? \n"
      ]
    },
    {
      "cell_type": "code",
      "metadata": {
        "hidden": true,
        "id": "lMmhElPNcLYH"
      },
      "source": [
        ""
      ],
      "execution_count": null,
      "outputs": []
    },
    {
      "cell_type": "markdown",
      "metadata": {
        "hidden": true,
        "solution2": "hidden",
        "solution2_first": true,
        "id": "lZiZd0UbcLYL"
      },
      "source": [
        "#### Solution"
      ]
    },
    {
      "cell_type": "code",
      "metadata": {
        "hidden": true,
        "solution2": "hidden",
        "id": "RKj3P_oocLYL"
      },
      "source": [
        "df[\"CRASH DATE\"].value_counts()"
      ],
      "execution_count": null,
      "outputs": []
    },
    {
      "cell_type": "markdown",
      "metadata": {
        "heading_collapsed": true,
        "id": "7o9cKVzfcLYP"
      },
      "source": [
        "### Task 8\n",
        "\n",
        "Plot the number of accidents per day. (Hint: Ensure that your date column is in the right datatype and that it is properly sorted, before plotting)\n"
      ]
    },
    {
      "cell_type": "code",
      "metadata": {
        "hidden": true,
        "id": "WAXVSrZ2cLYQ"
      },
      "source": [
        ""
      ],
      "execution_count": null,
      "outputs": []
    },
    {
      "cell_type": "code",
      "metadata": {
        "hidden": true,
        "id": "8I_JWM-KcLYT"
      },
      "source": [
        ""
      ],
      "execution_count": null,
      "outputs": []
    },
    {
      "cell_type": "markdown",
      "metadata": {
        "hidden": true,
        "solution2": "hidden",
        "solution2_first": true,
        "id": "hkLfpTMWcLYW"
      },
      "source": [
        "#### Solution "
      ]
    },
    {
      "cell_type": "code",
      "metadata": {
        "hidden": true,
        "solution2": "hidden",
        "id": "-Vwro2OUcLYX"
      },
      "source": [
        "df[\"CRASH DATE\"] = pd.to_datetime(df[\"CRASH DATE\"], format=\"%m/%d/%Y\", errors=\"coerce\")"
      ],
      "execution_count": null,
      "outputs": []
    },
    {
      "cell_type": "code",
      "metadata": {
        "hidden": true,
        "solution2": "hidden",
        "id": "bfVkkcRJcLYZ"
      },
      "source": [
        "(\n",
        "    df[\"CRASH DATE\"].value_counts() # count the number of accidents per day\n",
        "    .sort_index() # sort the dates\n",
        "    .resample('1M') # take periods of 1 month\n",
        "    .sum() # sum the number of accidents per month\n",
        "    .plot(figsize=(10,5)) # plot the result\n",
        ")"
      ],
      "execution_count": null,
      "outputs": []
    },
    {
      "cell_type": "code",
      "metadata": {
        "id": "hdPG02oAYIlB"
      },
      "source": [
        ""
      ],
      "execution_count": null,
      "outputs": []
    },
    {
      "cell_type": "markdown",
      "metadata": {
        "id": "hKrCSb8D_F13"
      },
      "source": [
        "### Task 9\n",
        "\n",
        "We want to analyze the timing patterns of accidents that lead to death or injury.\n",
        "\n",
        "We will do the analysis by creating histograms showing the frequency of deadly vs non-deadly accidents throughout the day. By comparing the two histograms we will be able to understand if time of day is correlated with deadly accidents or not.\n",
        "\n",
        "Steps to follow:\n",
        "* Ensure that the `CRASH TIME` column is converted to a datetime. The format is HH:MM, which can be written as `format=\"%H:%M\"` in the `to_datetime` command of Pandas.\n",
        "* Create a boolean column `DEATH` that is true when someone was killed in the accident (i.e., `NUMBER OF PERSONS KILLED > 0`). \n",
        "* Create a boolean column `INJURY` that is true when someone was injured in the accident (i.e., `NUMBER OF PERSONS INJURED > 0`). \n",
        "* Query the dataframe to get back the deadly accidents and create a histogram of deadly accidents over time. Do the same for non-deadly accidents.\n",
        "* To allow a more direct visual comparison of the two histograms, we want to merge them in one plot. Since the number of accidents without deaths is *much* higher, we want the histograms to be normalized (i.e., `density=True`). \n",
        "* It is also a good idea to make the histographs partially transparent, to allow for easier comparison of the two histograms.\n"
      ]
    },
    {
      "cell_type": "code",
      "metadata": {
        "id": "NPCId2ZyXTB_"
      },
      "source": [
        ""
      ],
      "execution_count": null,
      "outputs": []
    },
    {
      "cell_type": "code",
      "metadata": {
        "id": "r755Er7yXT-N"
      },
      "source": [
        ""
      ],
      "execution_count": null,
      "outputs": []
    },
    {
      "cell_type": "code",
      "metadata": {
        "id": "VAo-mBnhXUon"
      },
      "source": [
        ""
      ],
      "execution_count": null,
      "outputs": []
    },
    {
      "cell_type": "markdown",
      "metadata": {
        "id": "rRtYdNVZXXWj"
      },
      "source": [
        "### Solution"
      ]
    },
    {
      "cell_type": "code",
      "metadata": {
        "id": "JCrF963A_G7O"
      },
      "source": [
        "# Define the indicator variables\n",
        "df['INJURY'] = (df['NUMBER OF PERSONS INJURED']>0)\n",
        "df['DEATH'] = (df['NUMBER OF PERSONS KILLED']>0)\n",
        "\n",
        "# Convert the date/time columns to proper datetime formats\n",
        "df['DATETIME'] = df['CRASH DATE'] + ' ' + df['CRASH TIME']\n",
        "df['DATETIME'] = pd.to_datetime(df['DATETIME'], format=\"%m/%d/%Y %H:%M\")\n",
        "\n",
        "df['CRASH TIME'] = pd.to_datetime(df['CRASH TIME'], format=\"%H:%M\")"
      ],
      "execution_count": null,
      "outputs": []
    },
    {
      "cell_type": "code",
      "metadata": {
        "id": "m5bev6D6X5p4"
      },
      "source": [
        "# Define the two subsets\n",
        "deadly_accidents = df[ df['DEATH'] == True ]\n",
        "noharm_accidents = df[ df['DEATH'] == False ]"
      ],
      "execution_count": null,
      "outputs": []
    },
    {
      "cell_type": "code",
      "metadata": {
        "id": "ElzlnaHy_JgH"
      },
      "source": [
        "deadly_accidents['CRASH TIME'].hist(\n",
        "    bins=48, # one bar per half hour\n",
        "    figsize=(20,10),  # make the figure bigger\n",
        "    density=True, # normalize the counts\n",
        "    alpha=0.5,  # make the histogram semi-transparent\n",
        "    color='red' # color red the deadly accidents\n",
        ")\n",
        "\n",
        "noharm_accidents['CRASH TIME'].hist(\n",
        "    bins=48,\n",
        "    figsize=(20,10), \n",
        "    density=True,\n",
        "    alpha=0.5, \n",
        "    color='green'\n",
        ")"
      ],
      "execution_count": null,
      "outputs": []
    },
    {
      "cell_type": "code",
      "metadata": {
        "id": "ZbsUX2GnYhvL"
      },
      "source": [
        "injuries = df[ df['INJURY'] == True ]\n",
        "no_injuries = df[ df['INJURY'] == False ]"
      ],
      "execution_count": null,
      "outputs": []
    },
    {
      "cell_type": "code",
      "metadata": {
        "id": "DrUSHHAdAJ3W"
      },
      "source": [
        "injuries['CRASH TIME'].hist(bins=48,figsize=(20,10), density=True,alpha=0.5, color='red')\n",
        "no_injuries['CRASH TIME'].hist(bins=48,figsize=(20,10), density=True,alpha=0.5, color='green')"
      ],
      "execution_count": null,
      "outputs": []
    },
    {
      "cell_type": "code",
      "metadata": {
        "id": "aHEmlPkXW0bx"
      },
      "source": [
        "deadly_accidents['DATETIME'].hist(bins=48,figsize=(20,10), density=True,alpha=0.5, color='red')\n",
        "noharm_accidents['DATETIME'].hist(bins=48,figsize=(20,10), density=True,alpha=0.5, color='green')"
      ],
      "execution_count": null,
      "outputs": []
    },
    {
      "cell_type": "code",
      "metadata": {
        "id": "ZCnC6e_SW_SN"
      },
      "source": [
        "injuries['DATETIME'].hist(bins=48,figsize=(20,10), density=True,alpha=0.5, color='red')\n",
        "no_injuries['DATETIME'].hist(bins=48,figsize=(20,10), density=True,alpha=0.5, color='green')"
      ],
      "execution_count": null,
      "outputs": []
    },
    {
      "cell_type": "code",
      "metadata": {
        "id": "2UO7uDtkAa6B"
      },
      "source": [
        "import seaborn as sns"
      ],
      "execution_count": null,
      "outputs": []
    },
    {
      "cell_type": "code",
      "metadata": {
        "id": "ikKjA-TEY0qX"
      },
      "source": [
        "sns.kdeplot(data = df, x ='CRASH TIME', hue='DEATH', common_norm=False, cut=0)"
      ],
      "execution_count": null,
      "outputs": []
    },
    {
      "cell_type": "code",
      "metadata": {
        "id": "0mjUhIPyWyLC"
      },
      "source": [
        "sns.kdeplot(data = df, x ='CRASH TIME', hue='INJURY', common_norm=False, cut=0)"
      ],
      "execution_count": null,
      "outputs": []
    }
  ]
}