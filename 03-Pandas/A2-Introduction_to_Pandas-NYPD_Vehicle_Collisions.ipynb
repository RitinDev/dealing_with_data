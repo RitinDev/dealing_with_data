{
  "nbformat": 4,
  "nbformat_minor": 0,
  "metadata": {
    "kernelspec": {
      "display_name": "Python 3",
      "language": "python",
      "name": "python3"
    },
    "language_info": {
      "codemirror_mode": {
        "name": "ipython",
        "version": 3
      },
      "file_extension": ".py",
      "mimetype": "text/x-python",
      "name": "python",
      "nbconvert_exporter": "python",
      "pygments_lexer": "ipython3",
      "version": "3.6.7"
    },
    "colab": {
      "name": "A2-Introduction_to_Pandas-NYPD_Vehicle_Collisions.ipynb",
      "provenance": [],
      "include_colab_link": true
    }
  },
  "cells": [
    {
      "cell_type": "markdown",
      "metadata": {
        "id": "view-in-github",
        "colab_type": "text"
      },
      "source": [
        "<a href=\"https://colab.research.google.com/github/ipeirotis/dealing_with_data/blob/master/03-Pandas/A2-Introduction_to_Pandas-NYPD_Vehicle_Collisions.ipynb\" target=\"_parent\"><img src=\"https://colab.research.google.com/assets/colab-badge.svg\" alt=\"Open In Colab\"/></a>"
      ]
    },
    {
      "cell_type": "markdown",
      "metadata": {
        "id": "DSFnJi2tcLWg"
      },
      "source": [
        "# Introduction to Pandas"
      ]
    },
    {
      "cell_type": "markdown",
      "metadata": {
        "id": "fabZhDl3cLWh"
      },
      "source": [
        "## Setup and preliminaries"
      ]
    },
    {
      "cell_type": "code",
      "metadata": {
        "id": "GpsY77lScLWj"
      },
      "source": [
        "!pip3 install -U -q PyMySQL sqlalchemy sql_magic xlrd\n",
        "\n",
        "# Render our plots inline\n",
        "%matplotlib inline\n",
        "%config InlineBackend.figure_format = 'retina'\n",
        "\n",
        "import pandas as pd\n",
        "import numpy as np\n",
        "import matplotlib\n",
        "import matplotlib.pyplot as plt\n",
        "import seaborn as sns\n",
        "\n",
        "# Make the graphs a bit bigger\n",
        "matplotlib.style.use(['seaborn-talk', 'seaborn-ticks', 'seaborn-whitegrid'])"
      ],
      "execution_count": null,
      "outputs": []
    },
    {
      "cell_type": "markdown",
      "metadata": {
        "id": "PI-dq-9ZcLWq"
      },
      "source": [
        "## Exercise: NYPD Vehicle Collisions\n",
        "\n",
        "* We interacted with the NYC Restaurant Inspection Data. Now, let's download another dataset, and do some analysis. We will focus on the [NYPD Vehicle Collisions](https://data.cityofnewyork.us/Public-Safety/NYPD-Motor-Vehicle-Collisions/h9gi-nx95/data) data set.\n"
      ]
    },
    {
      "cell_type": "markdown",
      "metadata": {
        "heading_collapsed": true,
        "id": "1leSJW23cLWr"
      },
      "source": [
        "### Task 1: \n",
        "\n",
        "Load the dataset. We will need to load two tables:\n",
        "* `collisions`\n",
        "* `vehicles_involved`\n"
      ]
    },
    {
      "cell_type": "code",
      "metadata": {
        "hidden": true,
        "id": "kraQtxBicLWs"
      },
      "source": [
        "import os\n",
        "from sqlalchemy import create_engine\n",
        "\n",
        "conn_string = 'mysql+pymysql://{user}:{password}@{host}/{db}?charset=utf8mb4'.format(\n",
        "    host = 'db.ipeirotis.org', \n",
        "    user = 'student',\n",
        "    password = 'dwdstudent2015', \n",
        "    db = 'collisions',\n",
        "    encoding = 'utf8mb4')\n",
        "\n",
        "mysql_conn = create_engine(conn_string).connect()"
      ],
      "execution_count": 11,
      "outputs": []
    },
    {
      "cell_type": "code",
      "metadata": {
        "hidden": true,
        "id": "KmWXZ8LtcLWw"
      },
      "source": [
        "# This query returns back the collisions table\n",
        "sql = '''\n",
        "    #YOUR CODE HERE\n",
        "'''\n",
        "c = pd.read_sql(sql, con=mysql_conn)\n",
        "c"
      ],
      "execution_count": null,
      "outputs": []
    },
    {
      "cell_type": "code",
      "source": [
        "# This query returns back the vehicles_involved table\n",
        "sql = '''\n",
        "    #YOUR CODE HERE\n",
        "'''\n",
        "v = pd.read_sql(sql, con=mysql_conn)\n",
        "v"
      ],
      "metadata": {
        "id": "qIV65MT8oyI7"
      },
      "execution_count": null,
      "outputs": []
    },
    {
      "cell_type": "markdown",
      "metadata": {
        "hidden": true,
        "solution2": "hidden",
        "solution2_first": true,
        "id": "iE7pp12icLW0"
      },
      "source": [
        "#### Solution"
      ]
    },
    {
      "cell_type": "code",
      "metadata": {
        "hidden": true,
        "solution2": "hidden",
        "id": "IkjES2_scLW1",
        "outputId": "fb8ae999-128b-4400-f277-8d8a675bb5ae",
        "colab": {
          "base_uri": "https://localhost:8080/",
          "height": 887
        }
      },
      "source": [
        "# This query returns back the collisions table\n",
        "sql = '''\n",
        "\tSELECT * \n",
        "  FROM collisions\n",
        "'''\n",
        "c = pd.read_sql(sql, con=mysql_conn)\n",
        "c"
      ],
      "execution_count": 13,
      "outputs": [
        {
          "output_type": "execute_result",
          "data": {
            "text/plain": [
              "        UNIQUE_KEY           DATE_TIME   LATITUDE  LONGITUDE ZIPCODE  \\\n",
              "0          0000022 2012-07-01 10:40:00  40.720854 -74.003929   10013   \n",
              "1          0000023 2012-07-01 12:18:00  40.704799 -74.016685   10280   \n",
              "2          0000024 2012-07-01 15:00:00        NaN        NaN    None   \n",
              "3          0000025 2012-07-01 18:00:00  40.713692 -74.013754   10007   \n",
              "4          0000026 2012-07-01 19:30:00  40.719058 -74.012442   10013   \n",
              "...            ...                 ...        ...        ...     ...   \n",
              "1882900    4537408 2022-06-09 09:30:00        NaN        NaN    None   \n",
              "1882901    4537409 2022-06-09 16:27:00  40.670660 -73.904205   11212   \n",
              "1882902    4537412 2022-06-11 22:25:00  40.663670 -73.912130   11212   \n",
              "1882903    4537413 2022-06-06 00:00:00  40.655148 -73.910940   11212   \n",
              "1882904    4537421 2022-06-11 22:02:00  40.764626 -73.995550   10036   \n",
              "\n",
              "                                   NEIGHBORHOOD    BOROUGH  PERSONS_INJURED  \\\n",
              "0        SoHo-TriBeCa-Civic Center-Little Italy  Manhattan                0   \n",
              "1                   park-cemetery-etc-Manhattan  Manhattan                0   \n",
              "2                                          None       None                0   \n",
              "3        SoHo-TriBeCa-Civic Center-Little Italy  Manhattan                0   \n",
              "4        SoHo-TriBeCa-Civic Center-Little Italy  Manhattan                0   \n",
              "...                                         ...        ...              ...   \n",
              "1882900                                    None       None                0   \n",
              "1882901                             Brownsville   Brooklyn                0   \n",
              "1882902                             Brownsville   Brooklyn                3   \n",
              "1882903                    Rugby-Remsen Village   Brooklyn                0   \n",
              "1882904                                 Clinton  Manhattan                1   \n",
              "\n",
              "         PERSONS_KILLED  PEDESTRIANS_INJURED  PEDESTRIANS_KILLED  \\\n",
              "0                     0                    0                   0   \n",
              "1                     0                    0                   0   \n",
              "2                     0                    0                   0   \n",
              "3                     0                    0                   0   \n",
              "4                     0                    0                   0   \n",
              "...                 ...                  ...                 ...   \n",
              "1882900               0                    0                   0   \n",
              "1882901               0                    0                   0   \n",
              "1882902               0                    0                   0   \n",
              "1882903               0                    0                   0   \n",
              "1882904               0                    0                   0   \n",
              "\n",
              "         CYCLISTS_INJURED  CYCLISTS_KILLED  MOTORISTS_INJURED  \\\n",
              "0                       0                0                  0   \n",
              "1                       0                0                  0   \n",
              "2                       0                0                  0   \n",
              "3                       0                0                  0   \n",
              "4                       0                0                  0   \n",
              "...                   ...              ...                ...   \n",
              "1882900                 0                0                  0   \n",
              "1882901                 0                0                  0   \n",
              "1882902                 0                0                  3   \n",
              "1882903                 0                0                  0   \n",
              "1882904                 0                0                  1   \n",
              "\n",
              "         MOTORISTS_KILLED                    ON_STREET_NAME  \\\n",
              "0                       0  CANAL STREET                       \n",
              "1                       0  BATTERY PLACE                      \n",
              "2                       0  WATER STREET                       \n",
              "3                       0  WEST STREET                        \n",
              "4                       0  WEST STREET                        \n",
              "...                   ...                               ...   \n",
              "1882900                 0                              None   \n",
              "1882901                 0                     PITKIN AVENUE   \n",
              "1882902                 0                     DUMONT AVENUE   \n",
              "1882903                 0                              None   \n",
              "1882904                 0                    WEST 48 STREET   \n",
              "\n",
              "                        CROSS_STREET_NAME           OFF_STREET_NAME  \\\n",
              "0        WOOSTER STREET                                        None   \n",
              "1        WEST STREET                                           None   \n",
              "2        OLD SLIP                                              None   \n",
              "3        VESEY STREET                                          None   \n",
              "4        HARRISON STREET                                       None   \n",
              "...                                   ...                       ...   \n",
              "1882900                              None  2315      STRAUSS STREET   \n",
              "1882901                     POWELL STREET                      None   \n",
              "1882902                    BOYLAND STREET                      None   \n",
              "1882903                              None    601       AMBOY STREET   \n",
              "1882904                         11 AVENUE                      None   \n",
              "\n",
              "        REPORTED_ZIPCODE REPORTED_BOROUGH  \n",
              "0                  10013        MANHATTAN  \n",
              "1                  10004        MANHATTAN  \n",
              "2                   None             None  \n",
              "3                  10007        MANHATTAN  \n",
              "4                  10013        MANHATTAN  \n",
              "...                  ...              ...  \n",
              "1882900            11212         BROOKLYN  \n",
              "1882901            11212         BROOKLYN  \n",
              "1882902            11212         BROOKLYN  \n",
              "1882903            11212         BROOKLYN  \n",
              "1882904            10019        MANHATTAN  \n",
              "\n",
              "[1882905 rows x 20 columns]"
            ],
            "text/html": [
              "\n",
              "  <div id=\"df-a7157526-eeb6-4362-bf0d-662c9e851aad\">\n",
              "    <div class=\"colab-df-container\">\n",
              "      <div>\n",
              "<style scoped>\n",
              "    .dataframe tbody tr th:only-of-type {\n",
              "        vertical-align: middle;\n",
              "    }\n",
              "\n",
              "    .dataframe tbody tr th {\n",
              "        vertical-align: top;\n",
              "    }\n",
              "\n",
              "    .dataframe thead th {\n",
              "        text-align: right;\n",
              "    }\n",
              "</style>\n",
              "<table border=\"1\" class=\"dataframe\">\n",
              "  <thead>\n",
              "    <tr style=\"text-align: right;\">\n",
              "      <th></th>\n",
              "      <th>UNIQUE_KEY</th>\n",
              "      <th>DATE_TIME</th>\n",
              "      <th>LATITUDE</th>\n",
              "      <th>LONGITUDE</th>\n",
              "      <th>ZIPCODE</th>\n",
              "      <th>NEIGHBORHOOD</th>\n",
              "      <th>BOROUGH</th>\n",
              "      <th>PERSONS_INJURED</th>\n",
              "      <th>PERSONS_KILLED</th>\n",
              "      <th>PEDESTRIANS_INJURED</th>\n",
              "      <th>PEDESTRIANS_KILLED</th>\n",
              "      <th>CYCLISTS_INJURED</th>\n",
              "      <th>CYCLISTS_KILLED</th>\n",
              "      <th>MOTORISTS_INJURED</th>\n",
              "      <th>MOTORISTS_KILLED</th>\n",
              "      <th>ON_STREET_NAME</th>\n",
              "      <th>CROSS_STREET_NAME</th>\n",
              "      <th>OFF_STREET_NAME</th>\n",
              "      <th>REPORTED_ZIPCODE</th>\n",
              "      <th>REPORTED_BOROUGH</th>\n",
              "    </tr>\n",
              "  </thead>\n",
              "  <tbody>\n",
              "    <tr>\n",
              "      <th>0</th>\n",
              "      <td>0000022</td>\n",
              "      <td>2012-07-01 10:40:00</td>\n",
              "      <td>40.720854</td>\n",
              "      <td>-74.003929</td>\n",
              "      <td>10013</td>\n",
              "      <td>SoHo-TriBeCa-Civic Center-Little Italy</td>\n",
              "      <td>Manhattan</td>\n",
              "      <td>0</td>\n",
              "      <td>0</td>\n",
              "      <td>0</td>\n",
              "      <td>0</td>\n",
              "      <td>0</td>\n",
              "      <td>0</td>\n",
              "      <td>0</td>\n",
              "      <td>0</td>\n",
              "      <td>CANAL STREET</td>\n",
              "      <td>WOOSTER STREET</td>\n",
              "      <td>None</td>\n",
              "      <td>10013</td>\n",
              "      <td>MANHATTAN</td>\n",
              "    </tr>\n",
              "    <tr>\n",
              "      <th>1</th>\n",
              "      <td>0000023</td>\n",
              "      <td>2012-07-01 12:18:00</td>\n",
              "      <td>40.704799</td>\n",
              "      <td>-74.016685</td>\n",
              "      <td>10280</td>\n",
              "      <td>park-cemetery-etc-Manhattan</td>\n",
              "      <td>Manhattan</td>\n",
              "      <td>0</td>\n",
              "      <td>0</td>\n",
              "      <td>0</td>\n",
              "      <td>0</td>\n",
              "      <td>0</td>\n",
              "      <td>0</td>\n",
              "      <td>0</td>\n",
              "      <td>0</td>\n",
              "      <td>BATTERY PLACE</td>\n",
              "      <td>WEST STREET</td>\n",
              "      <td>None</td>\n",
              "      <td>10004</td>\n",
              "      <td>MANHATTAN</td>\n",
              "    </tr>\n",
              "    <tr>\n",
              "      <th>2</th>\n",
              "      <td>0000024</td>\n",
              "      <td>2012-07-01 15:00:00</td>\n",
              "      <td>NaN</td>\n",
              "      <td>NaN</td>\n",
              "      <td>None</td>\n",
              "      <td>None</td>\n",
              "      <td>None</td>\n",
              "      <td>0</td>\n",
              "      <td>0</td>\n",
              "      <td>0</td>\n",
              "      <td>0</td>\n",
              "      <td>0</td>\n",
              "      <td>0</td>\n",
              "      <td>0</td>\n",
              "      <td>0</td>\n",
              "      <td>WATER STREET</td>\n",
              "      <td>OLD SLIP</td>\n",
              "      <td>None</td>\n",
              "      <td>None</td>\n",
              "      <td>None</td>\n",
              "    </tr>\n",
              "    <tr>\n",
              "      <th>3</th>\n",
              "      <td>0000025</td>\n",
              "      <td>2012-07-01 18:00:00</td>\n",
              "      <td>40.713692</td>\n",
              "      <td>-74.013754</td>\n",
              "      <td>10007</td>\n",
              "      <td>SoHo-TriBeCa-Civic Center-Little Italy</td>\n",
              "      <td>Manhattan</td>\n",
              "      <td>0</td>\n",
              "      <td>0</td>\n",
              "      <td>0</td>\n",
              "      <td>0</td>\n",
              "      <td>0</td>\n",
              "      <td>0</td>\n",
              "      <td>0</td>\n",
              "      <td>0</td>\n",
              "      <td>WEST STREET</td>\n",
              "      <td>VESEY STREET</td>\n",
              "      <td>None</td>\n",
              "      <td>10007</td>\n",
              "      <td>MANHATTAN</td>\n",
              "    </tr>\n",
              "    <tr>\n",
              "      <th>4</th>\n",
              "      <td>0000026</td>\n",
              "      <td>2012-07-01 19:30:00</td>\n",
              "      <td>40.719058</td>\n",
              "      <td>-74.012442</td>\n",
              "      <td>10013</td>\n",
              "      <td>SoHo-TriBeCa-Civic Center-Little Italy</td>\n",
              "      <td>Manhattan</td>\n",
              "      <td>0</td>\n",
              "      <td>0</td>\n",
              "      <td>0</td>\n",
              "      <td>0</td>\n",
              "      <td>0</td>\n",
              "      <td>0</td>\n",
              "      <td>0</td>\n",
              "      <td>0</td>\n",
              "      <td>WEST STREET</td>\n",
              "      <td>HARRISON STREET</td>\n",
              "      <td>None</td>\n",
              "      <td>10013</td>\n",
              "      <td>MANHATTAN</td>\n",
              "    </tr>\n",
              "    <tr>\n",
              "      <th>...</th>\n",
              "      <td>...</td>\n",
              "      <td>...</td>\n",
              "      <td>...</td>\n",
              "      <td>...</td>\n",
              "      <td>...</td>\n",
              "      <td>...</td>\n",
              "      <td>...</td>\n",
              "      <td>...</td>\n",
              "      <td>...</td>\n",
              "      <td>...</td>\n",
              "      <td>...</td>\n",
              "      <td>...</td>\n",
              "      <td>...</td>\n",
              "      <td>...</td>\n",
              "      <td>...</td>\n",
              "      <td>...</td>\n",
              "      <td>...</td>\n",
              "      <td>...</td>\n",
              "      <td>...</td>\n",
              "      <td>...</td>\n",
              "    </tr>\n",
              "    <tr>\n",
              "      <th>1882900</th>\n",
              "      <td>4537408</td>\n",
              "      <td>2022-06-09 09:30:00</td>\n",
              "      <td>NaN</td>\n",
              "      <td>NaN</td>\n",
              "      <td>None</td>\n",
              "      <td>None</td>\n",
              "      <td>None</td>\n",
              "      <td>0</td>\n",
              "      <td>0</td>\n",
              "      <td>0</td>\n",
              "      <td>0</td>\n",
              "      <td>0</td>\n",
              "      <td>0</td>\n",
              "      <td>0</td>\n",
              "      <td>0</td>\n",
              "      <td>None</td>\n",
              "      <td>None</td>\n",
              "      <td>2315      STRAUSS STREET</td>\n",
              "      <td>11212</td>\n",
              "      <td>BROOKLYN</td>\n",
              "    </tr>\n",
              "    <tr>\n",
              "      <th>1882901</th>\n",
              "      <td>4537409</td>\n",
              "      <td>2022-06-09 16:27:00</td>\n",
              "      <td>40.670660</td>\n",
              "      <td>-73.904205</td>\n",
              "      <td>11212</td>\n",
              "      <td>Brownsville</td>\n",
              "      <td>Brooklyn</td>\n",
              "      <td>0</td>\n",
              "      <td>0</td>\n",
              "      <td>0</td>\n",
              "      <td>0</td>\n",
              "      <td>0</td>\n",
              "      <td>0</td>\n",
              "      <td>0</td>\n",
              "      <td>0</td>\n",
              "      <td>PITKIN AVENUE</td>\n",
              "      <td>POWELL STREET</td>\n",
              "      <td>None</td>\n",
              "      <td>11212</td>\n",
              "      <td>BROOKLYN</td>\n",
              "    </tr>\n",
              "    <tr>\n",
              "      <th>1882902</th>\n",
              "      <td>4537412</td>\n",
              "      <td>2022-06-11 22:25:00</td>\n",
              "      <td>40.663670</td>\n",
              "      <td>-73.912130</td>\n",
              "      <td>11212</td>\n",
              "      <td>Brownsville</td>\n",
              "      <td>Brooklyn</td>\n",
              "      <td>3</td>\n",
              "      <td>0</td>\n",
              "      <td>0</td>\n",
              "      <td>0</td>\n",
              "      <td>0</td>\n",
              "      <td>0</td>\n",
              "      <td>3</td>\n",
              "      <td>0</td>\n",
              "      <td>DUMONT AVENUE</td>\n",
              "      <td>BOYLAND STREET</td>\n",
              "      <td>None</td>\n",
              "      <td>11212</td>\n",
              "      <td>BROOKLYN</td>\n",
              "    </tr>\n",
              "    <tr>\n",
              "      <th>1882903</th>\n",
              "      <td>4537413</td>\n",
              "      <td>2022-06-06 00:00:00</td>\n",
              "      <td>40.655148</td>\n",
              "      <td>-73.910940</td>\n",
              "      <td>11212</td>\n",
              "      <td>Rugby-Remsen Village</td>\n",
              "      <td>Brooklyn</td>\n",
              "      <td>0</td>\n",
              "      <td>0</td>\n",
              "      <td>0</td>\n",
              "      <td>0</td>\n",
              "      <td>0</td>\n",
              "      <td>0</td>\n",
              "      <td>0</td>\n",
              "      <td>0</td>\n",
              "      <td>None</td>\n",
              "      <td>None</td>\n",
              "      <td>601       AMBOY STREET</td>\n",
              "      <td>11212</td>\n",
              "      <td>BROOKLYN</td>\n",
              "    </tr>\n",
              "    <tr>\n",
              "      <th>1882904</th>\n",
              "      <td>4537421</td>\n",
              "      <td>2022-06-11 22:02:00</td>\n",
              "      <td>40.764626</td>\n",
              "      <td>-73.995550</td>\n",
              "      <td>10036</td>\n",
              "      <td>Clinton</td>\n",
              "      <td>Manhattan</td>\n",
              "      <td>1</td>\n",
              "      <td>0</td>\n",
              "      <td>0</td>\n",
              "      <td>0</td>\n",
              "      <td>0</td>\n",
              "      <td>0</td>\n",
              "      <td>1</td>\n",
              "      <td>0</td>\n",
              "      <td>WEST 48 STREET</td>\n",
              "      <td>11 AVENUE</td>\n",
              "      <td>None</td>\n",
              "      <td>10019</td>\n",
              "      <td>MANHATTAN</td>\n",
              "    </tr>\n",
              "  </tbody>\n",
              "</table>\n",
              "<p>1882905 rows × 20 columns</p>\n",
              "</div>\n",
              "      <button class=\"colab-df-convert\" onclick=\"convertToInteractive('df-a7157526-eeb6-4362-bf0d-662c9e851aad')\"\n",
              "              title=\"Convert this dataframe to an interactive table.\"\n",
              "              style=\"display:none;\">\n",
              "        \n",
              "  <svg xmlns=\"http://www.w3.org/2000/svg\" height=\"24px\"viewBox=\"0 0 24 24\"\n",
              "       width=\"24px\">\n",
              "    <path d=\"M0 0h24v24H0V0z\" fill=\"none\"/>\n",
              "    <path d=\"M18.56 5.44l.94 2.06.94-2.06 2.06-.94-2.06-.94-.94-2.06-.94 2.06-2.06.94zm-11 1L8.5 8.5l.94-2.06 2.06-.94-2.06-.94L8.5 2.5l-.94 2.06-2.06.94zm10 10l.94 2.06.94-2.06 2.06-.94-2.06-.94-.94-2.06-.94 2.06-2.06.94z\"/><path d=\"M17.41 7.96l-1.37-1.37c-.4-.4-.92-.59-1.43-.59-.52 0-1.04.2-1.43.59L10.3 9.45l-7.72 7.72c-.78.78-.78 2.05 0 2.83L4 21.41c.39.39.9.59 1.41.59.51 0 1.02-.2 1.41-.59l7.78-7.78 2.81-2.81c.8-.78.8-2.07 0-2.86zM5.41 20L4 18.59l7.72-7.72 1.47 1.35L5.41 20z\"/>\n",
              "  </svg>\n",
              "      </button>\n",
              "      \n",
              "  <style>\n",
              "    .colab-df-container {\n",
              "      display:flex;\n",
              "      flex-wrap:wrap;\n",
              "      gap: 12px;\n",
              "    }\n",
              "\n",
              "    .colab-df-convert {\n",
              "      background-color: #E8F0FE;\n",
              "      border: none;\n",
              "      border-radius: 50%;\n",
              "      cursor: pointer;\n",
              "      display: none;\n",
              "      fill: #1967D2;\n",
              "      height: 32px;\n",
              "      padding: 0 0 0 0;\n",
              "      width: 32px;\n",
              "    }\n",
              "\n",
              "    .colab-df-convert:hover {\n",
              "      background-color: #E2EBFA;\n",
              "      box-shadow: 0px 1px 2px rgba(60, 64, 67, 0.3), 0px 1px 3px 1px rgba(60, 64, 67, 0.15);\n",
              "      fill: #174EA6;\n",
              "    }\n",
              "\n",
              "    [theme=dark] .colab-df-convert {\n",
              "      background-color: #3B4455;\n",
              "      fill: #D2E3FC;\n",
              "    }\n",
              "\n",
              "    [theme=dark] .colab-df-convert:hover {\n",
              "      background-color: #434B5C;\n",
              "      box-shadow: 0px 1px 3px 1px rgba(0, 0, 0, 0.15);\n",
              "      filter: drop-shadow(0px 1px 2px rgba(0, 0, 0, 0.3));\n",
              "      fill: #FFFFFF;\n",
              "    }\n",
              "  </style>\n",
              "\n",
              "      <script>\n",
              "        const buttonEl =\n",
              "          document.querySelector('#df-a7157526-eeb6-4362-bf0d-662c9e851aad button.colab-df-convert');\n",
              "        buttonEl.style.display =\n",
              "          google.colab.kernel.accessAllowed ? 'block' : 'none';\n",
              "\n",
              "        async function convertToInteractive(key) {\n",
              "          const element = document.querySelector('#df-a7157526-eeb6-4362-bf0d-662c9e851aad');\n",
              "          const dataTable =\n",
              "            await google.colab.kernel.invokeFunction('convertToInteractive',\n",
              "                                                     [key], {});\n",
              "          if (!dataTable) return;\n",
              "\n",
              "          const docLinkHtml = 'Like what you see? Visit the ' +\n",
              "            '<a target=\"_blank\" href=https://colab.research.google.com/notebooks/data_table.ipynb>data table notebook</a>'\n",
              "            + ' to learn more about interactive tables.';\n",
              "          element.innerHTML = '';\n",
              "          dataTable['output_type'] = 'display_data';\n",
              "          await google.colab.output.renderOutput(dataTable, element);\n",
              "          const docLink = document.createElement('div');\n",
              "          docLink.innerHTML = docLinkHtml;\n",
              "          element.appendChild(docLink);\n",
              "        }\n",
              "      </script>\n",
              "    </div>\n",
              "  </div>\n",
              "  "
            ]
          },
          "metadata": {},
          "execution_count": 13
        }
      ]
    },
    {
      "cell_type": "code",
      "metadata": {
        "hidden": true,
        "solution2": "hidden",
        "id": "hxe1o7AJcLW7",
        "outputId": "8690ff1c-1035-4289-f27c-a282197d8fbf",
        "colab": {
          "base_uri": "https://localhost:8080/",
          "height": 424
        }
      },
      "source": [
        "# This query returns back the vehicles_involved table\n",
        "sql = '''\n",
        "\tSELECT * \n",
        "  FROM vehicles_involved\n",
        "'''\n",
        "v = pd.read_sql(sql, con=mysql_conn)\n",
        "v"
      ],
      "execution_count": 14,
      "outputs": [
        {
          "output_type": "execute_result",
          "data": {
            "text/plain": [
              "        UNIQUE_KEY  VEHICLE                           CAUSE  \\\n",
              "0          0000022        1                     UNSPECIFIED   \n",
              "1          0000022        2                     UNSPECIFIED   \n",
              "2          0000023        1                     UNSPECIFIED   \n",
              "3          0000023        2                     UNSPECIFIED   \n",
              "4          0000024        1               OVERSIZED VEHICLE   \n",
              "...            ...      ...                             ...   \n",
              "3579049    4537412        1                    UNSAFE SPEED   \n",
              "3579050    4537412        2                     UNSPECIFIED   \n",
              "3579051    4537413        1  DRIVER INATTENTION/DISTRACTION   \n",
              "3579052    4537421        1                     UNSPECIFIED   \n",
              "3579053    4537421        2                     UNSPECIFIED   \n",
              "\n",
              "                          VEHICLE_TYPE  \n",
              "0        SPORT UTILITY / STATION WAGON  \n",
              "1                                  VAN  \n",
              "2                                 TAXI  \n",
              "3                                 TAXI  \n",
              "4                                  BUS  \n",
              "...                                ...  \n",
              "3579049  SPORT UTILITY / STATION WAGON  \n",
              "3579050                          SEDAN  \n",
              "3579051  SPORT UTILITY / STATION WAGON  \n",
              "3579052                          SEDAN  \n",
              "3579053                          SEDAN  \n",
              "\n",
              "[3579054 rows x 4 columns]"
            ],
            "text/html": [
              "\n",
              "  <div id=\"df-157d11d5-48aa-47ad-910e-a74e37e2c56d\">\n",
              "    <div class=\"colab-df-container\">\n",
              "      <div>\n",
              "<style scoped>\n",
              "    .dataframe tbody tr th:only-of-type {\n",
              "        vertical-align: middle;\n",
              "    }\n",
              "\n",
              "    .dataframe tbody tr th {\n",
              "        vertical-align: top;\n",
              "    }\n",
              "\n",
              "    .dataframe thead th {\n",
              "        text-align: right;\n",
              "    }\n",
              "</style>\n",
              "<table border=\"1\" class=\"dataframe\">\n",
              "  <thead>\n",
              "    <tr style=\"text-align: right;\">\n",
              "      <th></th>\n",
              "      <th>UNIQUE_KEY</th>\n",
              "      <th>VEHICLE</th>\n",
              "      <th>CAUSE</th>\n",
              "      <th>VEHICLE_TYPE</th>\n",
              "    </tr>\n",
              "  </thead>\n",
              "  <tbody>\n",
              "    <tr>\n",
              "      <th>0</th>\n",
              "      <td>0000022</td>\n",
              "      <td>1</td>\n",
              "      <td>UNSPECIFIED</td>\n",
              "      <td>SPORT UTILITY / STATION WAGON</td>\n",
              "    </tr>\n",
              "    <tr>\n",
              "      <th>1</th>\n",
              "      <td>0000022</td>\n",
              "      <td>2</td>\n",
              "      <td>UNSPECIFIED</td>\n",
              "      <td>VAN</td>\n",
              "    </tr>\n",
              "    <tr>\n",
              "      <th>2</th>\n",
              "      <td>0000023</td>\n",
              "      <td>1</td>\n",
              "      <td>UNSPECIFIED</td>\n",
              "      <td>TAXI</td>\n",
              "    </tr>\n",
              "    <tr>\n",
              "      <th>3</th>\n",
              "      <td>0000023</td>\n",
              "      <td>2</td>\n",
              "      <td>UNSPECIFIED</td>\n",
              "      <td>TAXI</td>\n",
              "    </tr>\n",
              "    <tr>\n",
              "      <th>4</th>\n",
              "      <td>0000024</td>\n",
              "      <td>1</td>\n",
              "      <td>OVERSIZED VEHICLE</td>\n",
              "      <td>BUS</td>\n",
              "    </tr>\n",
              "    <tr>\n",
              "      <th>...</th>\n",
              "      <td>...</td>\n",
              "      <td>...</td>\n",
              "      <td>...</td>\n",
              "      <td>...</td>\n",
              "    </tr>\n",
              "    <tr>\n",
              "      <th>3579049</th>\n",
              "      <td>4537412</td>\n",
              "      <td>1</td>\n",
              "      <td>UNSAFE SPEED</td>\n",
              "      <td>SPORT UTILITY / STATION WAGON</td>\n",
              "    </tr>\n",
              "    <tr>\n",
              "      <th>3579050</th>\n",
              "      <td>4537412</td>\n",
              "      <td>2</td>\n",
              "      <td>UNSPECIFIED</td>\n",
              "      <td>SEDAN</td>\n",
              "    </tr>\n",
              "    <tr>\n",
              "      <th>3579051</th>\n",
              "      <td>4537413</td>\n",
              "      <td>1</td>\n",
              "      <td>DRIVER INATTENTION/DISTRACTION</td>\n",
              "      <td>SPORT UTILITY / STATION WAGON</td>\n",
              "    </tr>\n",
              "    <tr>\n",
              "      <th>3579052</th>\n",
              "      <td>4537421</td>\n",
              "      <td>1</td>\n",
              "      <td>UNSPECIFIED</td>\n",
              "      <td>SEDAN</td>\n",
              "    </tr>\n",
              "    <tr>\n",
              "      <th>3579053</th>\n",
              "      <td>4537421</td>\n",
              "      <td>2</td>\n",
              "      <td>UNSPECIFIED</td>\n",
              "      <td>SEDAN</td>\n",
              "    </tr>\n",
              "  </tbody>\n",
              "</table>\n",
              "<p>3579054 rows × 4 columns</p>\n",
              "</div>\n",
              "      <button class=\"colab-df-convert\" onclick=\"convertToInteractive('df-157d11d5-48aa-47ad-910e-a74e37e2c56d')\"\n",
              "              title=\"Convert this dataframe to an interactive table.\"\n",
              "              style=\"display:none;\">\n",
              "        \n",
              "  <svg xmlns=\"http://www.w3.org/2000/svg\" height=\"24px\"viewBox=\"0 0 24 24\"\n",
              "       width=\"24px\">\n",
              "    <path d=\"M0 0h24v24H0V0z\" fill=\"none\"/>\n",
              "    <path d=\"M18.56 5.44l.94 2.06.94-2.06 2.06-.94-2.06-.94-.94-2.06-.94 2.06-2.06.94zm-11 1L8.5 8.5l.94-2.06 2.06-.94-2.06-.94L8.5 2.5l-.94 2.06-2.06.94zm10 10l.94 2.06.94-2.06 2.06-.94-2.06-.94-.94-2.06-.94 2.06-2.06.94z\"/><path d=\"M17.41 7.96l-1.37-1.37c-.4-.4-.92-.59-1.43-.59-.52 0-1.04.2-1.43.59L10.3 9.45l-7.72 7.72c-.78.78-.78 2.05 0 2.83L4 21.41c.39.39.9.59 1.41.59.51 0 1.02-.2 1.41-.59l7.78-7.78 2.81-2.81c.8-.78.8-2.07 0-2.86zM5.41 20L4 18.59l7.72-7.72 1.47 1.35L5.41 20z\"/>\n",
              "  </svg>\n",
              "      </button>\n",
              "      \n",
              "  <style>\n",
              "    .colab-df-container {\n",
              "      display:flex;\n",
              "      flex-wrap:wrap;\n",
              "      gap: 12px;\n",
              "    }\n",
              "\n",
              "    .colab-df-convert {\n",
              "      background-color: #E8F0FE;\n",
              "      border: none;\n",
              "      border-radius: 50%;\n",
              "      cursor: pointer;\n",
              "      display: none;\n",
              "      fill: #1967D2;\n",
              "      height: 32px;\n",
              "      padding: 0 0 0 0;\n",
              "      width: 32px;\n",
              "    }\n",
              "\n",
              "    .colab-df-convert:hover {\n",
              "      background-color: #E2EBFA;\n",
              "      box-shadow: 0px 1px 2px rgba(60, 64, 67, 0.3), 0px 1px 3px 1px rgba(60, 64, 67, 0.15);\n",
              "      fill: #174EA6;\n",
              "    }\n",
              "\n",
              "    [theme=dark] .colab-df-convert {\n",
              "      background-color: #3B4455;\n",
              "      fill: #D2E3FC;\n",
              "    }\n",
              "\n",
              "    [theme=dark] .colab-df-convert:hover {\n",
              "      background-color: #434B5C;\n",
              "      box-shadow: 0px 1px 3px 1px rgba(0, 0, 0, 0.15);\n",
              "      filter: drop-shadow(0px 1px 2px rgba(0, 0, 0, 0.3));\n",
              "      fill: #FFFFFF;\n",
              "    }\n",
              "  </style>\n",
              "\n",
              "      <script>\n",
              "        const buttonEl =\n",
              "          document.querySelector('#df-157d11d5-48aa-47ad-910e-a74e37e2c56d button.colab-df-convert');\n",
              "        buttonEl.style.display =\n",
              "          google.colab.kernel.accessAllowed ? 'block' : 'none';\n",
              "\n",
              "        async function convertToInteractive(key) {\n",
              "          const element = document.querySelector('#df-157d11d5-48aa-47ad-910e-a74e37e2c56d');\n",
              "          const dataTable =\n",
              "            await google.colab.kernel.invokeFunction('convertToInteractive',\n",
              "                                                     [key], {});\n",
              "          if (!dataTable) return;\n",
              "\n",
              "          const docLinkHtml = 'Like what you see? Visit the ' +\n",
              "            '<a target=\"_blank\" href=https://colab.research.google.com/notebooks/data_table.ipynb>data table notebook</a>'\n",
              "            + ' to learn more about interactive tables.';\n",
              "          element.innerHTML = '';\n",
              "          dataTable['output_type'] = 'display_data';\n",
              "          await google.colab.output.renderOutput(dataTable, element);\n",
              "          const docLink = document.createElement('div');\n",
              "          docLink.innerHTML = docLinkHtml;\n",
              "          element.appendChild(docLink);\n",
              "        }\n",
              "      </script>\n",
              "    </div>\n",
              "  </div>\n",
              "  "
            ]
          },
          "metadata": {},
          "execution_count": 14
        }
      ]
    },
    {
      "cell_type": "code",
      "metadata": {
        "hidden": true,
        "solution2": "hidden",
        "id": "b0qlf_0UcLW_"
      },
      "source": [
        "c.dtypes"
      ],
      "execution_count": null,
      "outputs": []
    },
    {
      "cell_type": "code",
      "source": [
        "v.dtypes"
      ],
      "metadata": {
        "id": "2dJNa4bLoLct",
        "outputId": "075c9655-9303-4b89-d8d9-24e5acb5db8b",
        "colab": {
          "base_uri": "https://localhost:8080/"
        }
      },
      "execution_count": 16,
      "outputs": [
        {
          "output_type": "execute_result",
          "data": {
            "text/plain": [
              "UNIQUE_KEY      object\n",
              "VEHICLE          int64\n",
              "CAUSE           object\n",
              "VEHICLE_TYPE    object\n",
              "dtype: object"
            ]
          },
          "metadata": {},
          "execution_count": 16
        }
      ]
    },
    {
      "cell_type": "markdown",
      "metadata": {
        "heading_collapsed": true,
        "id": "vy3dI2TIcLXF"
      },
      "source": [
        "### Task 2: \n",
        "\n",
        "Find out the most common contributing factors to the collisions. \n",
        " "
      ]
    },
    {
      "cell_type": "code",
      "metadata": {
        "hidden": true,
        "id": "GzobFdbrcLXG"
      },
      "source": [
        ""
      ],
      "execution_count": null,
      "outputs": []
    },
    {
      "cell_type": "code",
      "metadata": {
        "hidden": true,
        "id": "oZ7ojkXicLXK"
      },
      "source": [
        ""
      ],
      "execution_count": null,
      "outputs": []
    },
    {
      "cell_type": "markdown",
      "metadata": {
        "hidden": true,
        "solution2": "hidden",
        "solution2_first": true,
        "id": "2QrwsfQscLXO"
      },
      "source": [
        "#### Solution"
      ]
    },
    {
      "cell_type": "code",
      "metadata": {
        "hidden": true,
        "solution2": "hidden",
        "id": "tIlEGYKvcLXP",
        "outputId": "b22873ae-bf67-4311-81e7-01c4f95e152c",
        "colab": {
          "base_uri": "https://localhost:8080/"
        }
      },
      "source": [
        "# Task 2: Find out the most common contributing factors to the collisions.\n",
        "v['CAUSE'].value_counts() #.plot(kind='barh')"
      ],
      "execution_count": 21,
      "outputs": [
        {
          "output_type": "execute_result",
          "data": {
            "text/plain": [
              "UNSPECIFIED                                              2096410\n",
              "DRIVER INATTENTION/DISTRACTION                            455010\n",
              "FAILURE TO YIELD RIGHT-OF-WAY                             125231\n",
              "FOLLOWING TOO CLOSELY                                     118156\n",
              "OTHER VEHICULAR                                            91621\n",
              "BACKING UNSAFELY                                           78500\n",
              "PASSING OR LANE USAGE IMPROPER                             60961\n",
              "FATIGUED/DROWSY                                            58988\n",
              "TURNING IMPROPERLY                                         55204\n",
              "PASSING TOO CLOSELY                                        52908\n",
              "UNSAFE LANE CHANGING                                       43259\n",
              "TRAFFIC CONTROL DISREGARDED                                37934\n",
              "DRIVER INEXPERIENCE                                        34958\n",
              "UNSAFE SPEED                                               26395\n",
              "LOST CONSCIOUSNESS                                         25353\n",
              "PAVEMENT SLIPPERY                                          23027\n",
              "REACTION TO UNINVOLVED VEHICLE                             21227\n",
              "ALCOHOL INVOLVEMENT                                        21068\n",
              "PRESCRIPTION MEDICATION                                    18402\n",
              "OUTSIDE CAR DISTRACTION                                    15051\n",
              "VIEW OBSTRUCTED/LIMITED                                    14959\n",
              "OVERSIZED VEHICLE                                          13898\n",
              "PHYSICAL DISABILITY                                        11493\n",
              "AGGRESSIVE DRIVING/ROAD RAGE                                9696\n",
              "PEDESTRIAN/BICYCLIST/OTHER PEDESTRIAN ERROR/CONFUSION       9439\n",
              "PASSENGER DISTRACTION                                       8982\n",
              "BRAKES DEFECTIVE                                            6644\n",
              "FELL ASLEEP                                                 5415\n",
              "OBSTRUCTION/DEBRIS                                          4606\n",
              "GLARE                                                       4303\n",
              "ILLNESS                                                     4010\n",
              "FAILURE TO KEEP RIGHT                                       3765\n",
              "OTHER ELECTRONIC DEVICE                                     2982\n",
              "STEERING FAILURE                                            2616\n",
              "PAVEMENT DEFECTIVE                                          2479\n",
              "TIRE FAILURE/INADEQUATE                                     2353\n",
              "REACTION TO OTHER UNINVOLVED VEHICLE                        1710\n",
              "ANIMALS ACTION                                              1476\n",
              "LANE MARKING IMPROPER/INADEQUATE                            1445\n",
              "DRUGS (ILLEGAL)                                             1322\n",
              "TRAFFIC CONTROL DEVICE IMPROPER/NON-WORKING                 1258\n",
              "DRIVERLESS/RUNAWAY VEHICLE                                  1153\n",
              "ACCELERATOR DEFECTIVE                                       1054\n",
              "CELL PHONE (HAND-HELD)                                       601\n",
              "CELL PHONE (HANDS-FREE)                                      308\n",
              "TOW HITCH DEFECTIVE                                          220\n",
              "OTHER LIGHTING DEFECTS                                       219\n",
              "HEADLIGHTS DEFECTIVE                                         176\n",
              "TINTED WINDOWS                                               171\n",
              "USING ON BOARD NAVIGATION DEVICE                             147\n",
              "VEHICLE VANDALISM                                            120\n",
              "EATING OR DRINKING                                           115\n",
              "SHOULDERS DEFECTIVE/IMPROPER                                  96\n",
              "WINDSHIELD INADEQUATE                                         81\n",
              "TEXTING                                                       47\n",
              "LISTENING/USING HEADPHONES                                    32\n",
              "Name: CAUSE, dtype: int64"
            ]
          },
          "metadata": {},
          "execution_count": 21
        }
      ]
    },
    {
      "cell_type": "code",
      "metadata": {
        "id": "0RDW8dHufVnl",
        "outputId": "1783da83-8b34-418d-b8e4-4865bede358a",
        "colab": {
          "base_uri": "https://localhost:8080/",
          "height": 286
        }
      },
      "source": [
        "# Task 2: If we want to remove the \"Unspecified\", we select the elements starting\n",
        "# from position 1 (i.e., the second element in the list, the first one is 0)\n",
        "v['CAUSE'].value_counts()[1:10].plot(kind='barh')"
      ],
      "execution_count": 20,
      "outputs": [
        {
          "output_type": "execute_result",
          "data": {
            "text/plain": [
              "<matplotlib.axes._subplots.AxesSubplot at 0x7fc7661e88d0>"
            ]
          },
          "metadata": {},
          "execution_count": 20
        },
        {
          "output_type": "display_data",
          "data": {
            "text/plain": [
              "<Figure size 432x288 with 1 Axes>"
            ],
            "image/png": "[encoded data removed]"
          },
          "metadata": {
            "image/png": {
              "width": 597,
              "height": 252
            },
            "needs_background": "light"
          }
        }
      ]
    },
    {
      "cell_type": "markdown",
      "metadata": {
        "heading_collapsed": true,
        "id": "oYf_YojlcLXT"
      },
      "source": [
        "### Task 3: \n",
        "\n",
        "Break down the number of collisions by borough.\n",
        "\n",
        "\n",
        "\n"
      ]
    },
    {
      "cell_type": "code",
      "metadata": {
        "hidden": true,
        "id": "U6q_kRFHcLXT"
      },
      "source": [
        ""
      ],
      "execution_count": null,
      "outputs": []
    },
    {
      "cell_type": "markdown",
      "metadata": {
        "hidden": true,
        "solution2": "hidden",
        "solution2_first": true,
        "id": "tD2DFonOcLXg"
      },
      "source": [
        "#### Solution"
      ]
    },
    {
      "cell_type": "code",
      "metadata": {
        "hidden": true,
        "solution2": "hidden",
        "id": "xTVPuKmvcLXi",
        "outputId": "15cae89f-7e50-4159-944d-647a645df4d2",
        "colab": {
          "base_uri": "https://localhost:8080/",
          "height": 341
        }
      },
      "source": [
        "# Task 3: Break down the number of collisions by borough.\n",
        "c['BOROUGH'].value_counts().plot(kind='barh', figsize=(10,5))"
      ],
      "execution_count": 22,
      "outputs": [
        {
          "output_type": "execute_result",
          "data": {
            "text/plain": [
              "<matplotlib.axes._subplots.AxesSubplot at 0x7fc7649607d0>"
            ]
          },
          "metadata": {},
          "execution_count": 22
        },
        {
          "output_type": "display_data",
          "data": {
            "text/plain": [
              "<Figure size 720x360 with 1 Axes>"
            ],
            "image/png": "[encoded data removed]"
          },
          "metadata": {
            "image/png": {
              "width": 657,
              "height": 307
            },
            "needs_background": "light"
          }
        }
      ]
    },
    {
      "cell_type": "markdown",
      "metadata": {
        "heading_collapsed": true,
        "id": "DNn2pls3cLXl"
      },
      "source": [
        "### Task 4\n",
        "\n",
        "Find out the how many collisions had 0 persons injured, 1 persons injured, etc. persons injured in each accident. Use the `value_counts()` approach. You may also find the `.plot(logy=True)` option useful when you create the plot to make the y-axis logarigthmic.\n",
        " "
      ]
    },
    {
      "cell_type": "code",
      "metadata": {
        "hidden": true,
        "id": "uzIX6UPDcLXm"
      },
      "source": [
        ""
      ],
      "execution_count": null,
      "outputs": []
    },
    {
      "cell_type": "code",
      "metadata": {
        "hidden": true,
        "id": "AZhFx1umcLXp"
      },
      "source": [
        ""
      ],
      "execution_count": null,
      "outputs": []
    },
    {
      "cell_type": "markdown",
      "metadata": {
        "hidden": true,
        "solution2": "hidden",
        "solution2_first": true,
        "id": "76coQlh6cLXs"
      },
      "source": [
        "#### Solution"
      ]
    },
    {
      "cell_type": "code",
      "metadata": {
        "hidden": true,
        "solution2": "hidden",
        "id": "pbu-F_V0cLXt",
        "outputId": "a0c779d1-aae1-4122-fd66-5b53dedfa968",
        "colab": {
          "base_uri": "https://localhost:8080/",
          "height": 305
        }
      },
      "source": [
        "# \"Chain\" style of writing data maniputation operations\n",
        "plot = (\n",
        "    c['PERSONS_INJURED'] # take the num of injuries column\n",
        "    .value_counts() # compure the freuquency of each value\n",
        "    .sort_index() # sort the results based on the index value instead of the frequency, \n",
        "                  # which is the default for value_counts\n",
        "    .plot( # and plot the results\n",
        "        kind='line', # we use a line plot because the x-axis is numeric/continuous\n",
        "        marker='o',  # we use a marker to mark where we have data points \n",
        "        logy=True # make the y-axis logarithmic\n",
        "    )\n",
        ")\n",
        "plot.set_xlabel(\"Number of injuries\")\n",
        "plot.set_ylabel(\"Number of collisions\")\n",
        "plot.set_title(\"Analysis of number of injuries per collision\")\n",
        "pass"
      ],
      "execution_count": 24,
      "outputs": [
        {
          "output_type": "display_data",
          "data": {
            "text/plain": [
              "<Figure size 432x288 with 1 Axes>"
            ],
            "image/png": "[encoded data removed]"
          },
          "metadata": {
            "image/png": {
              "width": 396,
              "height": 288
            },
            "needs_background": "light"
          }
        }
      ]
    },
    {
      "cell_type": "code",
      "metadata": {
        "hidden": true,
        "id": "LEvpWDsDcLXw"
      },
      "source": [
        ""
      ],
      "execution_count": null,
      "outputs": []
    },
    {
      "cell_type": "markdown",
      "metadata": {
        "heading_collapsed": true,
        "id": "xXdFK7ivcLXz"
      },
      "source": [
        "### Task 5\n",
        "\n",
        "(a) Compute the average number of injuries and deaths per accident, broken down by borough. Use the `pivot_table` functionality, putting `BOROUGH` as the index. You can answer this query by generating two separate tables, or you can create a single table by using the fact that you can pass a list of attributes/columns to the `values` parameter of the pivot table.\n",
        "\n",
        "(b) Repeat the exercise above, but break down the average number of deaths and injuries using the cause for the accident. (Do not worry that each accident may have multiple causes.) You will need to **join** the tables `collisions` and `vehicles_involves`; you can do the join either in SQL or in pandas, using the `pd.merge` command. Use the `sort_values` command to sort the results, putting on top the contributing factors that generate the highest number of deaths. Limit to the 10-deadliest causes."
      ]
    },
    {
      "cell_type": "code",
      "metadata": {
        "hidden": true,
        "id": "AAcrRiMbcLX0"
      },
      "source": [
        ""
      ],
      "execution_count": null,
      "outputs": []
    },
    {
      "cell_type": "markdown",
      "metadata": {
        "hidden": true,
        "solution2": "hidden",
        "solution2_first": true,
        "id": "DjY0HNIkcLX3"
      },
      "source": [
        "#### Solution"
      ]
    },
    {
      "cell_type": "code",
      "metadata": {
        "hidden": true,
        "solution2": "hidden",
        "id": "mSr0uLiucLX4",
        "outputId": "8edc8a4f-74ef-4b51-c9fe-9fbd798f0933",
        "colab": {
          "base_uri": "https://localhost:8080/",
          "height": 237
        }
      },
      "source": [
        "pd.pivot_table(\n",
        "    data = c,\n",
        "    index = 'BOROUGH',\n",
        "    aggfunc = 'mean',\n",
        "    values = ['PERSONS_INJURED', 'PERSONS_KILLED']\n",
        ")"
      ],
      "execution_count": 25,
      "outputs": [
        {
          "output_type": "execute_result",
          "data": {
            "text/plain": [
              "               PERSONS_INJURED  PERSONS_KILLED\n",
              "BOROUGH                                       \n",
              "Bronx                 0.321765        0.001472\n",
              "Brooklyn              0.316689        0.001278\n",
              "Manhattan             0.205204        0.001051\n",
              "Queens                0.292476        0.001406\n",
              "Staten Island         0.276943        0.001523"
            ],
            "text/html": [
              "\n",
              "  <div id=\"df-cda2689c-3a1d-4c19-852f-00a40d6db109\">\n",
              "    <div class=\"colab-df-container\">\n",
              "      <div>\n",
              "<style scoped>\n",
              "    .dataframe tbody tr th:only-of-type {\n",
              "        vertical-align: middle;\n",
              "    }\n",
              "\n",
              "    .dataframe tbody tr th {\n",
              "        vertical-align: top;\n",
              "    }\n",
              "\n",
              "    .dataframe thead th {\n",
              "        text-align: right;\n",
              "    }\n",
              "</style>\n",
              "<table border=\"1\" class=\"dataframe\">\n",
              "  <thead>\n",
              "    <tr style=\"text-align: right;\">\n",
              "      <th></th>\n",
              "      <th>PERSONS_INJURED</th>\n",
              "      <th>PERSONS_KILLED</th>\n",
              "    </tr>\n",
              "    <tr>\n",
              "      <th>BOROUGH</th>\n",
              "      <th></th>\n",
              "      <th></th>\n",
              "    </tr>\n",
              "  </thead>\n",
              "  <tbody>\n",
              "    <tr>\n",
              "      <th>Bronx</th>\n",
              "      <td>0.321765</td>\n",
              "      <td>0.001472</td>\n",
              "    </tr>\n",
              "    <tr>\n",
              "      <th>Brooklyn</th>\n",
              "      <td>0.316689</td>\n",
              "      <td>0.001278</td>\n",
              "    </tr>\n",
              "    <tr>\n",
              "      <th>Manhattan</th>\n",
              "      <td>0.205204</td>\n",
              "      <td>0.001051</td>\n",
              "    </tr>\n",
              "    <tr>\n",
              "      <th>Queens</th>\n",
              "      <td>0.292476</td>\n",
              "      <td>0.001406</td>\n",
              "    </tr>\n",
              "    <tr>\n",
              "      <th>Staten Island</th>\n",
              "      <td>0.276943</td>\n",
              "      <td>0.001523</td>\n",
              "    </tr>\n",
              "  </tbody>\n",
              "</table>\n",
              "</div>\n",
              "      <button class=\"colab-df-convert\" onclick=\"convertToInteractive('df-cda2689c-3a1d-4c19-852f-00a40d6db109')\"\n",
              "              title=\"Convert this dataframe to an interactive table.\"\n",
              "              style=\"display:none;\">\n",
              "        \n",
              "  <svg xmlns=\"http://www.w3.org/2000/svg\" height=\"24px\"viewBox=\"0 0 24 24\"\n",
              "       width=\"24px\">\n",
              "    <path d=\"M0 0h24v24H0V0z\" fill=\"none\"/>\n",
              "    <path d=\"M18.56 5.44l.94 2.06.94-2.06 2.06-.94-2.06-.94-.94-2.06-.94 2.06-2.06.94zm-11 1L8.5 8.5l.94-2.06 2.06-.94-2.06-.94L8.5 2.5l-.94 2.06-2.06.94zm10 10l.94 2.06.94-2.06 2.06-.94-2.06-.94-.94-2.06-.94 2.06-2.06.94z\"/><path d=\"M17.41 7.96l-1.37-1.37c-.4-.4-.92-.59-1.43-.59-.52 0-1.04.2-1.43.59L10.3 9.45l-7.72 7.72c-.78.78-.78 2.05 0 2.83L4 21.41c.39.39.9.59 1.41.59.51 0 1.02-.2 1.41-.59l7.78-7.78 2.81-2.81c.8-.78.8-2.07 0-2.86zM5.41 20L4 18.59l7.72-7.72 1.47 1.35L5.41 20z\"/>\n",
              "  </svg>\n",
              "      </button>\n",
              "      \n",
              "  <style>\n",
              "    .colab-df-container {\n",
              "      display:flex;\n",
              "      flex-wrap:wrap;\n",
              "      gap: 12px;\n",
              "    }\n",
              "\n",
              "    .colab-df-convert {\n",
              "      background-color: #E8F0FE;\n",
              "      border: none;\n",
              "      border-radius: 50%;\n",
              "      cursor: pointer;\n",
              "      display: none;\n",
              "      fill: #1967D2;\n",
              "      height: 32px;\n",
              "      padding: 0 0 0 0;\n",
              "      width: 32px;\n",
              "    }\n",
              "\n",
              "    .colab-df-convert:hover {\n",
              "      background-color: #E2EBFA;\n",
              "      box-shadow: 0px 1px 2px rgba(60, 64, 67, 0.3), 0px 1px 3px 1px rgba(60, 64, 67, 0.15);\n",
              "      fill: #174EA6;\n",
              "    }\n",
              "\n",
              "    [theme=dark] .colab-df-convert {\n",
              "      background-color: #3B4455;\n",
              "      fill: #D2E3FC;\n",
              "    }\n",
              "\n",
              "    [theme=dark] .colab-df-convert:hover {\n",
              "      background-color: #434B5C;\n",
              "      box-shadow: 0px 1px 3px 1px rgba(0, 0, 0, 0.15);\n",
              "      filter: drop-shadow(0px 1px 2px rgba(0, 0, 0, 0.3));\n",
              "      fill: #FFFFFF;\n",
              "    }\n",
              "  </style>\n",
              "\n",
              "      <script>\n",
              "        const buttonEl =\n",
              "          document.querySelector('#df-cda2689c-3a1d-4c19-852f-00a40d6db109 button.colab-df-convert');\n",
              "        buttonEl.style.display =\n",
              "          google.colab.kernel.accessAllowed ? 'block' : 'none';\n",
              "\n",
              "        async function convertToInteractive(key) {\n",
              "          const element = document.querySelector('#df-cda2689c-3a1d-4c19-852f-00a40d6db109');\n",
              "          const dataTable =\n",
              "            await google.colab.kernel.invokeFunction('convertToInteractive',\n",
              "                                                     [key], {});\n",
              "          if (!dataTable) return;\n",
              "\n",
              "          const docLinkHtml = 'Like what you see? Visit the ' +\n",
              "            '<a target=\"_blank\" href=https://colab.research.google.com/notebooks/data_table.ipynb>data table notebook</a>'\n",
              "            + ' to learn more about interactive tables.';\n",
              "          element.innerHTML = '';\n",
              "          dataTable['output_type'] = 'display_data';\n",
              "          await google.colab.output.renderOutput(dataTable, element);\n",
              "          const docLink = document.createElement('div');\n",
              "          docLink.innerHTML = docLinkHtml;\n",
              "          element.appendChild(docLink);\n",
              "        }\n",
              "      </script>\n",
              "    </div>\n",
              "  </div>\n",
              "  "
            ]
          },
          "metadata": {},
          "execution_count": 25
        }
      ]
    },
    {
      "cell_type": "code",
      "metadata": {
        "hidden": true,
        "id": "LXDZ1M3bcLX-"
      },
      "source": [
        "# By keeping only the minimum attributes that we need, we speed up\n",
        "# the execution, as we do not bring back data that we will discard anyway\n",
        "sql = '''\n",
        "  SELECT C.PERSONS_INJURED, C.PERSONS_KILLED, V.CAUSE\n",
        "  FROM collisions C JOIN vehicles_involved V ON C.UNIQUE_KEY = V.UNIQUE_KEY\n",
        "'''\n",
        "result = pd.read_sql(sql, con=mysql_conn)"
      ],
      "execution_count": 26,
      "outputs": []
    },
    {
      "cell_type": "code",
      "source": [
        "pd.pivot_table(\n",
        "    data = result,\n",
        "    index = 'CAUSE',\n",
        "    aggfunc = 'mean',\n",
        "    values = ['PERSONS_INJURED', 'PERSONS_KILLED']\n",
        ").sort_values('PERSONS_KILLED', ascending=False).head(10)"
      ],
      "metadata": {
        "id": "vfxWjOCSqyM_",
        "outputId": "7c58fbbc-ccab-46ff-ed03-871cea4bd1b6",
        "colab": {
          "base_uri": "https://localhost:8080/",
          "height": 394
        }
      },
      "execution_count": 28,
      "outputs": [
        {
          "output_type": "execute_result",
          "data": {
            "text/plain": [
              "                                                    PERSONS_INJURED  \\\n",
              "CAUSE                                                                 \n",
              "ILLNESS                                                    0.447132   \n",
              "UNSAFE SPEED                                               0.671756   \n",
              "PEDESTRIAN/BICYCLIST/OTHER PEDESTRIAN ERROR/CON...         0.765017   \n",
              "DRUGS (ILLEGAL)                                            0.621785   \n",
              "TRAFFIC CONTROL DISREGARDED                                0.664338   \n",
              "PASSENGER DISTRACTION                                      0.522155   \n",
              "TINTED WINDOWS                                             0.555556   \n",
              "ALCOHOL INVOLVEMENT                                        0.480444   \n",
              "OTHER LIGHTING DEFECTS                                     0.465753   \n",
              "TOW HITCH DEFECTIVE                                        0.145455   \n",
              "\n",
              "                                                    PERSONS_KILLED  \n",
              "CAUSE                                                               \n",
              "ILLNESS                                                   0.012968  \n",
              "UNSAFE SPEED                                              0.011972  \n",
              "PEDESTRIAN/BICYCLIST/OTHER PEDESTRIAN ERROR/CON...        0.009217  \n",
              "DRUGS (ILLEGAL)                                           0.007564  \n",
              "TRAFFIC CONTROL DISREGARDED                               0.006116  \n",
              "PASSENGER DISTRACTION                                     0.005901  \n",
              "TINTED WINDOWS                                            0.005848  \n",
              "ALCOHOL INVOLVEMENT                                       0.004604  \n",
              "OTHER LIGHTING DEFECTS                                    0.004566  \n",
              "TOW HITCH DEFECTIVE                                       0.004545  "
            ],
            "text/html": [
              "\n",
              "  <div id=\"df-9be1ec11-b873-421e-9d80-5829c874ce75\">\n",
              "    <div class=\"colab-df-container\">\n",
              "      <div>\n",
              "<style scoped>\n",
              "    .dataframe tbody tr th:only-of-type {\n",
              "        vertical-align: middle;\n",
              "    }\n",
              "\n",
              "    .dataframe tbody tr th {\n",
              "        vertical-align: top;\n",
              "    }\n",
              "\n",
              "    .dataframe thead th {\n",
              "        text-align: right;\n",
              "    }\n",
              "</style>\n",
              "<table border=\"1\" class=\"dataframe\">\n",
              "  <thead>\n",
              "    <tr style=\"text-align: right;\">\n",
              "      <th></th>\n",
              "      <th>PERSONS_INJURED</th>\n",
              "      <th>PERSONS_KILLED</th>\n",
              "    </tr>\n",
              "    <tr>\n",
              "      <th>CAUSE</th>\n",
              "      <th></th>\n",
              "      <th></th>\n",
              "    </tr>\n",
              "  </thead>\n",
              "  <tbody>\n",
              "    <tr>\n",
              "      <th>ILLNESS</th>\n",
              "      <td>0.447132</td>\n",
              "      <td>0.012968</td>\n",
              "    </tr>\n",
              "    <tr>\n",
              "      <th>UNSAFE SPEED</th>\n",
              "      <td>0.671756</td>\n",
              "      <td>0.011972</td>\n",
              "    </tr>\n",
              "    <tr>\n",
              "      <th>PEDESTRIAN/BICYCLIST/OTHER PEDESTRIAN ERROR/CONFUSION</th>\n",
              "      <td>0.765017</td>\n",
              "      <td>0.009217</td>\n",
              "    </tr>\n",
              "    <tr>\n",
              "      <th>DRUGS (ILLEGAL)</th>\n",
              "      <td>0.621785</td>\n",
              "      <td>0.007564</td>\n",
              "    </tr>\n",
              "    <tr>\n",
              "      <th>TRAFFIC CONTROL DISREGARDED</th>\n",
              "      <td>0.664338</td>\n",
              "      <td>0.006116</td>\n",
              "    </tr>\n",
              "    <tr>\n",
              "      <th>PASSENGER DISTRACTION</th>\n",
              "      <td>0.522155</td>\n",
              "      <td>0.005901</td>\n",
              "    </tr>\n",
              "    <tr>\n",
              "      <th>TINTED WINDOWS</th>\n",
              "      <td>0.555556</td>\n",
              "      <td>0.005848</td>\n",
              "    </tr>\n",
              "    <tr>\n",
              "      <th>ALCOHOL INVOLVEMENT</th>\n",
              "      <td>0.480444</td>\n",
              "      <td>0.004604</td>\n",
              "    </tr>\n",
              "    <tr>\n",
              "      <th>OTHER LIGHTING DEFECTS</th>\n",
              "      <td>0.465753</td>\n",
              "      <td>0.004566</td>\n",
              "    </tr>\n",
              "    <tr>\n",
              "      <th>TOW HITCH DEFECTIVE</th>\n",
              "      <td>0.145455</td>\n",
              "      <td>0.004545</td>\n",
              "    </tr>\n",
              "  </tbody>\n",
              "</table>\n",
              "</div>\n",
              "      <button class=\"colab-df-convert\" onclick=\"convertToInteractive('df-9be1ec11-b873-421e-9d80-5829c874ce75')\"\n",
              "              title=\"Convert this dataframe to an interactive table.\"\n",
              "              style=\"display:none;\">\n",
              "        \n",
              "  <svg xmlns=\"http://www.w3.org/2000/svg\" height=\"24px\"viewBox=\"0 0 24 24\"\n",
              "       width=\"24px\">\n",
              "    <path d=\"M0 0h24v24H0V0z\" fill=\"none\"/>\n",
              "    <path d=\"M18.56 5.44l.94 2.06.94-2.06 2.06-.94-2.06-.94-.94-2.06-.94 2.06-2.06.94zm-11 1L8.5 8.5l.94-2.06 2.06-.94-2.06-.94L8.5 2.5l-.94 2.06-2.06.94zm10 10l.94 2.06.94-2.06 2.06-.94-2.06-.94-.94-2.06-.94 2.06-2.06.94z\"/><path d=\"M17.41 7.96l-1.37-1.37c-.4-.4-.92-.59-1.43-.59-.52 0-1.04.2-1.43.59L10.3 9.45l-7.72 7.72c-.78.78-.78 2.05 0 2.83L4 21.41c.39.39.9.59 1.41.59.51 0 1.02-.2 1.41-.59l7.78-7.78 2.81-2.81c.8-.78.8-2.07 0-2.86zM5.41 20L4 18.59l7.72-7.72 1.47 1.35L5.41 20z\"/>\n",
              "  </svg>\n",
              "      </button>\n",
              "      \n",
              "  <style>\n",
              "    .colab-df-container {\n",
              "      display:flex;\n",
              "      flex-wrap:wrap;\n",
              "      gap: 12px;\n",
              "    }\n",
              "\n",
              "    .colab-df-convert {\n",
              "      background-color: #E8F0FE;\n",
              "      border: none;\n",
              "      border-radius: 50%;\n",
              "      cursor: pointer;\n",
              "      display: none;\n",
              "      fill: #1967D2;\n",
              "      height: 32px;\n",
              "      padding: 0 0 0 0;\n",
              "      width: 32px;\n",
              "    }\n",
              "\n",
              "    .colab-df-convert:hover {\n",
              "      background-color: #E2EBFA;\n",
              "      box-shadow: 0px 1px 2px rgba(60, 64, 67, 0.3), 0px 1px 3px 1px rgba(60, 64, 67, 0.15);\n",
              "      fill: #174EA6;\n",
              "    }\n",
              "\n",
              "    [theme=dark] .colab-df-convert {\n",
              "      background-color: #3B4455;\n",
              "      fill: #D2E3FC;\n",
              "    }\n",
              "\n",
              "    [theme=dark] .colab-df-convert:hover {\n",
              "      background-color: #434B5C;\n",
              "      box-shadow: 0px 1px 3px 1px rgba(0, 0, 0, 0.15);\n",
              "      filter: drop-shadow(0px 1px 2px rgba(0, 0, 0, 0.3));\n",
              "      fill: #FFFFFF;\n",
              "    }\n",
              "  </style>\n",
              "\n",
              "      <script>\n",
              "        const buttonEl =\n",
              "          document.querySelector('#df-9be1ec11-b873-421e-9d80-5829c874ce75 button.colab-df-convert');\n",
              "        buttonEl.style.display =\n",
              "          google.colab.kernel.accessAllowed ? 'block' : 'none';\n",
              "\n",
              "        async function convertToInteractive(key) {\n",
              "          const element = document.querySelector('#df-9be1ec11-b873-421e-9d80-5829c874ce75');\n",
              "          const dataTable =\n",
              "            await google.colab.kernel.invokeFunction('convertToInteractive',\n",
              "                                                     [key], {});\n",
              "          if (!dataTable) return;\n",
              "\n",
              "          const docLinkHtml = 'Like what you see? Visit the ' +\n",
              "            '<a target=\"_blank\" href=https://colab.research.google.com/notebooks/data_table.ipynb>data table notebook</a>'\n",
              "            + ' to learn more about interactive tables.';\n",
              "          element.innerHTML = '';\n",
              "          dataTable['output_type'] = 'display_data';\n",
              "          await google.colab.output.renderOutput(dataTable, element);\n",
              "          const docLink = document.createElement('div');\n",
              "          docLink.innerHTML = docLinkHtml;\n",
              "          element.appendChild(docLink);\n",
              "        }\n",
              "      </script>\n",
              "    </div>\n",
              "  </div>\n",
              "  "
            ]
          },
          "metadata": {},
          "execution_count": 28
        }
      ]
    },
    {
      "cell_type": "markdown",
      "metadata": {
        "heading_collapsed": true,
        "id": "J-xdkmYNcLYA"
      },
      "source": [
        "### Task 6\n",
        "\n",
        "Break down the number of accidents by borough and contributing factor. Use the `pivot_table` function of Pandas\n",
        " "
      ]
    },
    {
      "cell_type": "code",
      "metadata": {
        "hidden": true,
        "id": "suQVfLfLcLYB"
      },
      "source": [
        ""
      ],
      "execution_count": null,
      "outputs": []
    },
    {
      "cell_type": "markdown",
      "metadata": {
        "hidden": true,
        "solution2": "hidden",
        "solution2_first": true,
        "id": "tzANbIOOcLYE"
      },
      "source": [
        "#### Solution"
      ]
    },
    {
      "cell_type": "code",
      "source": [
        "# By keeping only the minimum attributes that we need, we speed up\n",
        "# the execution, as we do not bring back data that we will discard anyway\n",
        "sql = '''\n",
        "  SELECT C.BOROUGH,  V.CAUSE, COUNT(DISTINCT C.UNIQUE_KEY) AS cnt\n",
        "  FROM collisions C JOIN vehicles_involved V ON C.UNIQUE_KEY = V.UNIQUE_KEY\n",
        "  GROUP BY C.BOROUGH,  V.CAUSE\n",
        "'''\n",
        "result = pd.read_sql(sql, con=mysql_conn)"
      ],
      "metadata": {
        "id": "4JodzmPMsN03"
      },
      "execution_count": 32,
      "outputs": []
    },
    {
      "cell_type": "code",
      "metadata": {
        "hidden": true,
        "solution2": "hidden",
        "id": "qsTyRepUcLYE",
        "outputId": "84a0a2cc-b72f-4a52-bf9d-db756595de95",
        "colab": {
          "base_uri": "https://localhost:8080/",
          "height": 394
        }
      },
      "source": [
        "pivot = pd.pivot_table(\n",
        "    data = result, # we analyze the df (accidents) dataframe\n",
        "    index = 'CAUSE', \n",
        "    columns = 'BOROUGH', \n",
        "    values = 'cnt', \n",
        "    aggfunc = 'sum'\n",
        ")\n",
        "\n",
        "# Create an extra column showing the total deaths across boroughs (=columns)\n",
        "pivot[\"Total\"] = pivot.sum(axis=\"columns\") \n",
        "\n",
        "# Sort the dataframe by descending order of the values in the column \"Total\"\n",
        "pivot = pivot.sort_values(\"Total\", ascending=False)\n",
        "\n",
        "pivot.head(10)"
      ],
      "execution_count": 33,
      "outputs": [
        {
          "output_type": "execute_result",
          "data": {
            "text/plain": [
              "BOROUGH                            Bronx  Brooklyn  Manhattan    Queens  \\\n",
              "CAUSE                                                                     \n",
              "UNSPECIFIED                     189002.0  404764.0   256876.0  378077.0   \n",
              "DRIVER INATTENTION/DISTRACTION   43121.0   94070.0    83602.0  106629.0   \n",
              "FAILURE TO YIELD RIGHT-OF-WAY    12106.0   33770.0    18148.0   38493.0   \n",
              "FOLLOWING TOO CLOSELY            14095.0   24555.0    17454.0   32148.0   \n",
              "BACKING UNSAFELY                 10112.0   20141.0    13757.0   21732.0   \n",
              "OTHER VEHICULAR                  12756.0   13023.0    24033.0    9567.0   \n",
              "PASSING OR LANE USAGE IMPROPER    6694.0   14173.0    12987.0   14240.0   \n",
              "PASSING TOO CLOSELY               7431.0   15255.0    11180.0   11484.0   \n",
              "TURNING IMPROPERLY                6444.0   11199.0    14245.0   10970.0   \n",
              "FATIGUED/DROWSY                   3664.0   11452.0    11517.0   14008.0   \n",
              "\n",
              "BOROUGH                         Staten Island      Total  \n",
              "CAUSE                                                     \n",
              "UNSPECIFIED                           63936.0  1292655.0  \n",
              "DRIVER INATTENTION/DISTRACTION        19959.0   347381.0  \n",
              "FAILURE TO YIELD RIGHT-OF-WAY          4918.0   107435.0  \n",
              "FOLLOWING TOO CLOSELY                  4474.0    92726.0  \n",
              "BACKING UNSAFELY                       3652.0    69394.0  \n",
              "OTHER VEHICULAR                        1870.0    61249.0  \n",
              "PASSING OR LANE USAGE IMPROPER         1513.0    49607.0  \n",
              "PASSING TOO CLOSELY                    1082.0    46432.0  \n",
              "TURNING IMPROPERLY                     1812.0    44670.0  \n",
              "FATIGUED/DROWSY                        1943.0    42584.0  "
            ],
            "text/html": [
              "\n",
              "  <div id=\"df-e76e5a33-9838-40ef-9b2e-4e3e29ab8eb7\">\n",
              "    <div class=\"colab-df-container\">\n",
              "      <div>\n",
              "<style scoped>\n",
              "    .dataframe tbody tr th:only-of-type {\n",
              "        vertical-align: middle;\n",
              "    }\n",
              "\n",
              "    .dataframe tbody tr th {\n",
              "        vertical-align: top;\n",
              "    }\n",
              "\n",
              "    .dataframe thead th {\n",
              "        text-align: right;\n",
              "    }\n",
              "</style>\n",
              "<table border=\"1\" class=\"dataframe\">\n",
              "  <thead>\n",
              "    <tr style=\"text-align: right;\">\n",
              "      <th>BOROUGH</th>\n",
              "      <th>Bronx</th>\n",
              "      <th>Brooklyn</th>\n",
              "      <th>Manhattan</th>\n",
              "      <th>Queens</th>\n",
              "      <th>Staten Island</th>\n",
              "      <th>Total</th>\n",
              "    </tr>\n",
              "    <tr>\n",
              "      <th>CAUSE</th>\n",
              "      <th></th>\n",
              "      <th></th>\n",
              "      <th></th>\n",
              "      <th></th>\n",
              "      <th></th>\n",
              "      <th></th>\n",
              "    </tr>\n",
              "  </thead>\n",
              "  <tbody>\n",
              "    <tr>\n",
              "      <th>UNSPECIFIED</th>\n",
              "      <td>189002.0</td>\n",
              "      <td>404764.0</td>\n",
              "      <td>256876.0</td>\n",
              "      <td>378077.0</td>\n",
              "      <td>63936.0</td>\n",
              "      <td>1292655.0</td>\n",
              "    </tr>\n",
              "    <tr>\n",
              "      <th>DRIVER INATTENTION/DISTRACTION</th>\n",
              "      <td>43121.0</td>\n",
              "      <td>94070.0</td>\n",
              "      <td>83602.0</td>\n",
              "      <td>106629.0</td>\n",
              "      <td>19959.0</td>\n",
              "      <td>347381.0</td>\n",
              "    </tr>\n",
              "    <tr>\n",
              "      <th>FAILURE TO YIELD RIGHT-OF-WAY</th>\n",
              "      <td>12106.0</td>\n",
              "      <td>33770.0</td>\n",
              "      <td>18148.0</td>\n",
              "      <td>38493.0</td>\n",
              "      <td>4918.0</td>\n",
              "      <td>107435.0</td>\n",
              "    </tr>\n",
              "    <tr>\n",
              "      <th>FOLLOWING TOO CLOSELY</th>\n",
              "      <td>14095.0</td>\n",
              "      <td>24555.0</td>\n",
              "      <td>17454.0</td>\n",
              "      <td>32148.0</td>\n",
              "      <td>4474.0</td>\n",
              "      <td>92726.0</td>\n",
              "    </tr>\n",
              "    <tr>\n",
              "      <th>BACKING UNSAFELY</th>\n",
              "      <td>10112.0</td>\n",
              "      <td>20141.0</td>\n",
              "      <td>13757.0</td>\n",
              "      <td>21732.0</td>\n",
              "      <td>3652.0</td>\n",
              "      <td>69394.0</td>\n",
              "    </tr>\n",
              "    <tr>\n",
              "      <th>OTHER VEHICULAR</th>\n",
              "      <td>12756.0</td>\n",
              "      <td>13023.0</td>\n",
              "      <td>24033.0</td>\n",
              "      <td>9567.0</td>\n",
              "      <td>1870.0</td>\n",
              "      <td>61249.0</td>\n",
              "    </tr>\n",
              "    <tr>\n",
              "      <th>PASSING OR LANE USAGE IMPROPER</th>\n",
              "      <td>6694.0</td>\n",
              "      <td>14173.0</td>\n",
              "      <td>12987.0</td>\n",
              "      <td>14240.0</td>\n",
              "      <td>1513.0</td>\n",
              "      <td>49607.0</td>\n",
              "    </tr>\n",
              "    <tr>\n",
              "      <th>PASSING TOO CLOSELY</th>\n",
              "      <td>7431.0</td>\n",
              "      <td>15255.0</td>\n",
              "      <td>11180.0</td>\n",
              "      <td>11484.0</td>\n",
              "      <td>1082.0</td>\n",
              "      <td>46432.0</td>\n",
              "    </tr>\n",
              "    <tr>\n",
              "      <th>TURNING IMPROPERLY</th>\n",
              "      <td>6444.0</td>\n",
              "      <td>11199.0</td>\n",
              "      <td>14245.0</td>\n",
              "      <td>10970.0</td>\n",
              "      <td>1812.0</td>\n",
              "      <td>44670.0</td>\n",
              "    </tr>\n",
              "    <tr>\n",
              "      <th>FATIGUED/DROWSY</th>\n",
              "      <td>3664.0</td>\n",
              "      <td>11452.0</td>\n",
              "      <td>11517.0</td>\n",
              "      <td>14008.0</td>\n",
              "      <td>1943.0</td>\n",
              "      <td>42584.0</td>\n",
              "    </tr>\n",
              "  </tbody>\n",
              "</table>\n",
              "</div>\n",
              "      <button class=\"colab-df-convert\" onclick=\"convertToInteractive('df-e76e5a33-9838-40ef-9b2e-4e3e29ab8eb7')\"\n",
              "              title=\"Convert this dataframe to an interactive table.\"\n",
              "              style=\"display:none;\">\n",
              "        \n",
              "  <svg xmlns=\"http://www.w3.org/2000/svg\" height=\"24px\"viewBox=\"0 0 24 24\"\n",
              "       width=\"24px\">\n",
              "    <path d=\"M0 0h24v24H0V0z\" fill=\"none\"/>\n",
              "    <path d=\"M18.56 5.44l.94 2.06.94-2.06 2.06-.94-2.06-.94-.94-2.06-.94 2.06-2.06.94zm-11 1L8.5 8.5l.94-2.06 2.06-.94-2.06-.94L8.5 2.5l-.94 2.06-2.06.94zm10 10l.94 2.06.94-2.06 2.06-.94-2.06-.94-.94-2.06-.94 2.06-2.06.94z\"/><path d=\"M17.41 7.96l-1.37-1.37c-.4-.4-.92-.59-1.43-.59-.52 0-1.04.2-1.43.59L10.3 9.45l-7.72 7.72c-.78.78-.78 2.05 0 2.83L4 21.41c.39.39.9.59 1.41.59.51 0 1.02-.2 1.41-.59l7.78-7.78 2.81-2.81c.8-.78.8-2.07 0-2.86zM5.41 20L4 18.59l7.72-7.72 1.47 1.35L5.41 20z\"/>\n",
              "  </svg>\n",
              "      </button>\n",
              "      \n",
              "  <style>\n",
              "    .colab-df-container {\n",
              "      display:flex;\n",
              "      flex-wrap:wrap;\n",
              "      gap: 12px;\n",
              "    }\n",
              "\n",
              "    .colab-df-convert {\n",
              "      background-color: #E8F0FE;\n",
              "      border: none;\n",
              "      border-radius: 50%;\n",
              "      cursor: pointer;\n",
              "      display: none;\n",
              "      fill: #1967D2;\n",
              "      height: 32px;\n",
              "      padding: 0 0 0 0;\n",
              "      width: 32px;\n",
              "    }\n",
              "\n",
              "    .colab-df-convert:hover {\n",
              "      background-color: #E2EBFA;\n",
              "      box-shadow: 0px 1px 2px rgba(60, 64, 67, 0.3), 0px 1px 3px 1px rgba(60, 64, 67, 0.15);\n",
              "      fill: #174EA6;\n",
              "    }\n",
              "\n",
              "    [theme=dark] .colab-df-convert {\n",
              "      background-color: #3B4455;\n",
              "      fill: #D2E3FC;\n",
              "    }\n",
              "\n",
              "    [theme=dark] .colab-df-convert:hover {\n",
              "      background-color: #434B5C;\n",
              "      box-shadow: 0px 1px 3px 1px rgba(0, 0, 0, 0.15);\n",
              "      filter: drop-shadow(0px 1px 2px rgba(0, 0, 0, 0.3));\n",
              "      fill: #FFFFFF;\n",
              "    }\n",
              "  </style>\n",
              "\n",
              "      <script>\n",
              "        const buttonEl =\n",
              "          document.querySelector('#df-e76e5a33-9838-40ef-9b2e-4e3e29ab8eb7 button.colab-df-convert');\n",
              "        buttonEl.style.display =\n",
              "          google.colab.kernel.accessAllowed ? 'block' : 'none';\n",
              "\n",
              "        async function convertToInteractive(key) {\n",
              "          const element = document.querySelector('#df-e76e5a33-9838-40ef-9b2e-4e3e29ab8eb7');\n",
              "          const dataTable =\n",
              "            await google.colab.kernel.invokeFunction('convertToInteractive',\n",
              "                                                     [key], {});\n",
              "          if (!dataTable) return;\n",
              "\n",
              "          const docLinkHtml = 'Like what you see? Visit the ' +\n",
              "            '<a target=\"_blank\" href=https://colab.research.google.com/notebooks/data_table.ipynb>data table notebook</a>'\n",
              "            + ' to learn more about interactive tables.';\n",
              "          element.innerHTML = '';\n",
              "          dataTable['output_type'] = 'display_data';\n",
              "          await google.colab.output.renderOutput(dataTable, element);\n",
              "          const docLink = document.createElement('div');\n",
              "          docLink.innerHTML = docLinkHtml;\n",
              "          element.appendChild(docLink);\n",
              "        }\n",
              "      </script>\n",
              "    </div>\n",
              "  </div>\n",
              "  "
            ]
          },
          "metadata": {},
          "execution_count": 33
        }
      ]
    },
    {
      "cell_type": "markdown",
      "metadata": {
        "heading_collapsed": true,
        "id": "ySQ9Hif6cLYH"
      },
      "source": [
        "### Task 7\n",
        "\n",
        "Find the dates with the most accidents. Can you figure out what happened on these days? \n"
      ]
    },
    {
      "cell_type": "code",
      "metadata": {
        "hidden": true,
        "id": "lMmhElPNcLYH"
      },
      "source": [
        ""
      ],
      "execution_count": null,
      "outputs": []
    },
    {
      "cell_type": "markdown",
      "metadata": {
        "hidden": true,
        "solution2": "hidden",
        "solution2_first": true,
        "id": "lZiZd0UbcLYL"
      },
      "source": [
        "#### Solution"
      ]
    },
    {
      "cell_type": "code",
      "metadata": {
        "hidden": true,
        "solution2": "hidden",
        "id": "RKj3P_oocLYL",
        "outputId": "10455f28-1e5d-432d-b476-1e6f0208b894",
        "colab": {
          "base_uri": "https://localhost:8080/",
          "height": 455
        }
      },
      "source": [
        "(\n",
        "  pd.pivot_table(\n",
        "      data = c,\n",
        "      index = 'DATE_TIME',\n",
        "      values = 'UNIQUE_KEY',\n",
        "      aggfunc = 'count'\n",
        "  )\n",
        "  .resample('1D').sum()\n",
        "  .rename({\"UNIQUE_KEY\":\"ACCIDENTS\"}, axis=\"columns\")\n",
        "  .sort_values('ACCIDENTS')\n",
        ")"
      ],
      "execution_count": 40,
      "outputs": [
        {
          "output_type": "execute_result",
          "data": {
            "text/plain": [
              "            ACCIDENTS\n",
              "DATE_TIME            \n",
              "2020-04-05         92\n",
              "2020-04-19        100\n",
              "2020-04-09        102\n",
              "2020-04-12        105\n",
              "2020-04-23        107\n",
              "...               ...\n",
              "2015-01-18        961\n",
              "2017-05-19        970\n",
              "2017-12-15        992\n",
              "2018-11-15       1059\n",
              "2014-01-21       1159\n",
              "\n",
              "[3634 rows x 1 columns]"
            ],
            "text/html": [
              "\n",
              "  <div id=\"df-09c2c349-2c0a-4030-ae7f-ea8a5f1d4e59\">\n",
              "    <div class=\"colab-df-container\">\n",
              "      <div>\n",
              "<style scoped>\n",
              "    .dataframe tbody tr th:only-of-type {\n",
              "        vertical-align: middle;\n",
              "    }\n",
              "\n",
              "    .dataframe tbody tr th {\n",
              "        vertical-align: top;\n",
              "    }\n",
              "\n",
              "    .dataframe thead th {\n",
              "        text-align: right;\n",
              "    }\n",
              "</style>\n",
              "<table border=\"1\" class=\"dataframe\">\n",
              "  <thead>\n",
              "    <tr style=\"text-align: right;\">\n",
              "      <th></th>\n",
              "      <th>ACCIDENTS</th>\n",
              "    </tr>\n",
              "    <tr>\n",
              "      <th>DATE_TIME</th>\n",
              "      <th></th>\n",
              "    </tr>\n",
              "  </thead>\n",
              "  <tbody>\n",
              "    <tr>\n",
              "      <th>2020-04-05</th>\n",
              "      <td>92</td>\n",
              "    </tr>\n",
              "    <tr>\n",
              "      <th>2020-04-19</th>\n",
              "      <td>100</td>\n",
              "    </tr>\n",
              "    <tr>\n",
              "      <th>2020-04-09</th>\n",
              "      <td>102</td>\n",
              "    </tr>\n",
              "    <tr>\n",
              "      <th>2020-04-12</th>\n",
              "      <td>105</td>\n",
              "    </tr>\n",
              "    <tr>\n",
              "      <th>2020-04-23</th>\n",
              "      <td>107</td>\n",
              "    </tr>\n",
              "    <tr>\n",
              "      <th>...</th>\n",
              "      <td>...</td>\n",
              "    </tr>\n",
              "    <tr>\n",
              "      <th>2015-01-18</th>\n",
              "      <td>961</td>\n",
              "    </tr>\n",
              "    <tr>\n",
              "      <th>2017-05-19</th>\n",
              "      <td>970</td>\n",
              "    </tr>\n",
              "    <tr>\n",
              "      <th>2017-12-15</th>\n",
              "      <td>992</td>\n",
              "    </tr>\n",
              "    <tr>\n",
              "      <th>2018-11-15</th>\n",
              "      <td>1059</td>\n",
              "    </tr>\n",
              "    <tr>\n",
              "      <th>2014-01-21</th>\n",
              "      <td>1159</td>\n",
              "    </tr>\n",
              "  </tbody>\n",
              "</table>\n",
              "<p>3634 rows × 1 columns</p>\n",
              "</div>\n",
              "      <button class=\"colab-df-convert\" onclick=\"convertToInteractive('df-09c2c349-2c0a-4030-ae7f-ea8a5f1d4e59')\"\n",
              "              title=\"Convert this dataframe to an interactive table.\"\n",
              "              style=\"display:none;\">\n",
              "        \n",
              "  <svg xmlns=\"http://www.w3.org/2000/svg\" height=\"24px\"viewBox=\"0 0 24 24\"\n",
              "       width=\"24px\">\n",
              "    <path d=\"M0 0h24v24H0V0z\" fill=\"none\"/>\n",
              "    <path d=\"M18.56 5.44l.94 2.06.94-2.06 2.06-.94-2.06-.94-.94-2.06-.94 2.06-2.06.94zm-11 1L8.5 8.5l.94-2.06 2.06-.94-2.06-.94L8.5 2.5l-.94 2.06-2.06.94zm10 10l.94 2.06.94-2.06 2.06-.94-2.06-.94-.94-2.06-.94 2.06-2.06.94z\"/><path d=\"M17.41 7.96l-1.37-1.37c-.4-.4-.92-.59-1.43-.59-.52 0-1.04.2-1.43.59L10.3 9.45l-7.72 7.72c-.78.78-.78 2.05 0 2.83L4 21.41c.39.39.9.59 1.41.59.51 0 1.02-.2 1.41-.59l7.78-7.78 2.81-2.81c.8-.78.8-2.07 0-2.86zM5.41 20L4 18.59l7.72-7.72 1.47 1.35L5.41 20z\"/>\n",
              "  </svg>\n",
              "      </button>\n",
              "      \n",
              "  <style>\n",
              "    .colab-df-container {\n",
              "      display:flex;\n",
              "      flex-wrap:wrap;\n",
              "      gap: 12px;\n",
              "    }\n",
              "\n",
              "    .colab-df-convert {\n",
              "      background-color: #E8F0FE;\n",
              "      border: none;\n",
              "      border-radius: 50%;\n",
              "      cursor: pointer;\n",
              "      display: none;\n",
              "      fill: #1967D2;\n",
              "      height: 32px;\n",
              "      padding: 0 0 0 0;\n",
              "      width: 32px;\n",
              "    }\n",
              "\n",
              "    .colab-df-convert:hover {\n",
              "      background-color: #E2EBFA;\n",
              "      box-shadow: 0px 1px 2px rgba(60, 64, 67, 0.3), 0px 1px 3px 1px rgba(60, 64, 67, 0.15);\n",
              "      fill: #174EA6;\n",
              "    }\n",
              "\n",
              "    [theme=dark] .colab-df-convert {\n",
              "      background-color: #3B4455;\n",
              "      fill: #D2E3FC;\n",
              "    }\n",
              "\n",
              "    [theme=dark] .colab-df-convert:hover {\n",
              "      background-color: #434B5C;\n",
              "      box-shadow: 0px 1px 3px 1px rgba(0, 0, 0, 0.15);\n",
              "      filter: drop-shadow(0px 1px 2px rgba(0, 0, 0, 0.3));\n",
              "      fill: #FFFFFF;\n",
              "    }\n",
              "  </style>\n",
              "\n",
              "      <script>\n",
              "        const buttonEl =\n",
              "          document.querySelector('#df-09c2c349-2c0a-4030-ae7f-ea8a5f1d4e59 button.colab-df-convert');\n",
              "        buttonEl.style.display =\n",
              "          google.colab.kernel.accessAllowed ? 'block' : 'none';\n",
              "\n",
              "        async function convertToInteractive(key) {\n",
              "          const element = document.querySelector('#df-09c2c349-2c0a-4030-ae7f-ea8a5f1d4e59');\n",
              "          const dataTable =\n",
              "            await google.colab.kernel.invokeFunction('convertToInteractive',\n",
              "                                                     [key], {});\n",
              "          if (!dataTable) return;\n",
              "\n",
              "          const docLinkHtml = 'Like what you see? Visit the ' +\n",
              "            '<a target=\"_blank\" href=https://colab.research.google.com/notebooks/data_table.ipynb>data table notebook</a>'\n",
              "            + ' to learn more about interactive tables.';\n",
              "          element.innerHTML = '';\n",
              "          dataTable['output_type'] = 'display_data';\n",
              "          await google.colab.output.renderOutput(dataTable, element);\n",
              "          const docLink = document.createElement('div');\n",
              "          docLink.innerHTML = docLinkHtml;\n",
              "          element.appendChild(docLink);\n",
              "        }\n",
              "      </script>\n",
              "    </div>\n",
              "  </div>\n",
              "  "
            ]
          },
          "metadata": {},
          "execution_count": 40
        }
      ]
    },
    {
      "cell_type": "markdown",
      "metadata": {
        "heading_collapsed": true,
        "id": "7o9cKVzfcLYP"
      },
      "source": [
        "### Task 8\n",
        "\n",
        "Plot the number of accidents per day. (Hint: Ensure that your date column is in the right datatype and that it is properly sorted, before plotting)\n"
      ]
    },
    {
      "cell_type": "code",
      "metadata": {
        "hidden": true,
        "id": "WAXVSrZ2cLYQ"
      },
      "source": [
        ""
      ],
      "execution_count": null,
      "outputs": []
    },
    {
      "cell_type": "code",
      "metadata": {
        "hidden": true,
        "id": "8I_JWM-KcLYT"
      },
      "source": [
        ""
      ],
      "execution_count": null,
      "outputs": []
    },
    {
      "cell_type": "markdown",
      "metadata": {
        "hidden": true,
        "solution2": "hidden",
        "solution2_first": true,
        "id": "hkLfpTMWcLYW"
      },
      "source": [
        "#### Solution "
      ]
    },
    {
      "cell_type": "code",
      "metadata": {
        "hidden": true,
        "solution2": "hidden",
        "id": "bfVkkcRJcLYZ",
        "outputId": "f110d3a3-24a2-40d9-8774-37ba9fc4baba",
        "colab": {
          "base_uri": "https://localhost:8080/",
          "height": 250
        }
      },
      "source": [
        "(\n",
        "  pd.pivot_table(\n",
        "      data = c,\n",
        "      index = 'DATE_TIME',\n",
        "      values = 'UNIQUE_KEY',\n",
        "      aggfunc = 'count'\n",
        "  )\n",
        "  .resample('1W') # take periods of 1 week\n",
        "  .sum() # sum the number of accidents per period\n",
        "  .rename({\"UNIQUE_KEY\":\"ACCIDENTS\"}, axis=\"columns\") # change the name of the variable\n",
        "  .plot(figsize=(20,3)) # plot the result\n",
        ")\n",
        "\n"
      ],
      "execution_count": 42,
      "outputs": [
        {
          "output_type": "execute_result",
          "data": {
            "text/plain": [
              "<matplotlib.axes._subplots.AxesSubplot at 0x7fc80db915d0>"
            ]
          },
          "metadata": {},
          "execution_count": 42
        },
        {
          "output_type": "display_data",
          "data": {
            "text/plain": [
              "<Figure size 1440x216 with 1 Axes>"
            ],
            "image/png": "[encoded data removed]"
          },
          "metadata": {
            "image/png": {
              "width": 1168,
              "height": 216
            },
            "needs_background": "light"
          }
        }
      ]
    },
    {
      "cell_type": "code",
      "metadata": {
        "id": "hdPG02oAYIlB"
      },
      "source": [
        ""
      ],
      "execution_count": null,
      "outputs": []
    },
    {
      "cell_type": "markdown",
      "metadata": {
        "id": "hKrCSb8D_F13"
      },
      "source": [
        "### Task 9\n",
        "\n",
        "We want to analyze the timing patterns of accidents that lead to death or injury.\n",
        "\n",
        "We will do the analysis by creating histograms showing the frequency of deadly vs non-deadly accidents throughout the day. By comparing the two histograms we will be able to understand if time of day is correlated with deadly accidents or not.\n",
        "\n",
        "Steps to follow:\n",
        "* Ensure that the `CRASH TIME` column is converted to a datetime. The format is HH:MM, which can be written as `format=\"%H:%M\"` in the `to_datetime` command of Pandas.\n",
        "* Create a boolean column `DEATH` that is true when someone was killed in the accident (i.e., `NUMBER OF PERSONS KILLED > 0`). \n",
        "* Create a boolean column `INJURY` that is true when someone was injured in the accident (i.e., `NUMBER OF PERSONS INJURED > 0`). \n",
        "* Query the dataframe to get back the deadly accidents and create a histogram of deadly accidents over time. Do the same for non-deadly accidents.\n",
        "* To allow a more direct visual comparison of the two histograms, we want to merge them in one plot. Since the number of accidents without deaths is *much* higher, we want the histograms to be normalized (i.e., `density=True`). \n",
        "* It is also a good idea to make the histographs partially transparent, to allow for easier comparison of the two histograms.\n"
      ]
    },
    {
      "cell_type": "code",
      "metadata": {
        "id": "NPCId2ZyXTB_"
      },
      "source": [
        ""
      ],
      "execution_count": null,
      "outputs": []
    },
    {
      "cell_type": "code",
      "metadata": {
        "id": "r755Er7yXT-N"
      },
      "source": [
        ""
      ],
      "execution_count": null,
      "outputs": []
    },
    {
      "cell_type": "code",
      "metadata": {
        "id": "VAo-mBnhXUon"
      },
      "source": [
        ""
      ],
      "execution_count": null,
      "outputs": []
    },
    {
      "cell_type": "markdown",
      "metadata": {
        "id": "rRtYdNVZXXWj"
      },
      "source": [
        "### Solution"
      ]
    },
    {
      "cell_type": "code",
      "metadata": {
        "id": "JCrF963A_G7O"
      },
      "source": [
        "# Define the indicator variables\n",
        "df['INJURY'] = (df['NUMBER OF PERSONS INJURED']>0)\n",
        "df['DEATH'] = (df['NUMBER OF PERSONS KILLED']>0)\n",
        "\n",
        "df['CRASH TIME'] = pd.to_datetime(df['CRASH TIME'], format=\"%H:%M\")"
      ],
      "execution_count": null,
      "outputs": []
    },
    {
      "cell_type": "code",
      "metadata": {
        "id": "m5bev6D6X5p4"
      },
      "source": [
        "# Define the two subsets\n",
        "deadly_accidents = df[ df['DEATH'] == True ]\n",
        "noharm_accidents = df[ df['DEATH'] == False ]"
      ],
      "execution_count": null,
      "outputs": []
    },
    {
      "cell_type": "code",
      "metadata": {
        "id": "ElzlnaHy_JgH"
      },
      "source": [
        "deadly_accidents['CRASH TIME'].hist(\n",
        "    bins=48, # one bar per half hour\n",
        "    figsize=(20,10),  # make the figure bigger\n",
        "    density=True, # normalize the counts\n",
        "    alpha=0.5,  # make the histogram semi-transparent\n",
        "    color='red' # color red the deadly accidents\n",
        ")\n",
        "\n",
        "noharm_accidents['CRASH TIME'].hist(\n",
        "    bins=48,\n",
        "    figsize=(20,10), \n",
        "    density=True,\n",
        "    alpha=0.5, \n",
        "    color='green'\n",
        ")"
      ],
      "execution_count": null,
      "outputs": []
    },
    {
      "cell_type": "code",
      "metadata": {
        "id": "ZbsUX2GnYhvL"
      },
      "source": [
        "injuries = df[ df['INJURY'] == True ]\n",
        "no_injuries = df[ df['INJURY'] == False ]"
      ],
      "execution_count": null,
      "outputs": []
    },
    {
      "cell_type": "code",
      "metadata": {
        "id": "DrUSHHAdAJ3W"
      },
      "source": [
        "injuries['CRASH TIME'].hist(bins=48,figsize=(20,10), density=True,alpha=0.5, color='red')\n",
        "no_injuries['CRASH TIME'].hist(bins=48,figsize=(20,10), density=True,alpha=0.5, color='green')"
      ],
      "execution_count": null,
      "outputs": []
    },
    {
      "cell_type": "code",
      "metadata": {
        "id": "aHEmlPkXW0bx"
      },
      "source": [
        "deadly_accidents['CRASH DATE'].hist(bins=48,figsize=(20,10), density=True,alpha=0.5, color='red')\n",
        "noharm_accidents['CRASH DATE'].hist(bins=48,figsize=(20,10), density=True,alpha=0.5, color='green')"
      ],
      "execution_count": null,
      "outputs": []
    },
    {
      "cell_type": "code",
      "metadata": {
        "id": "ZCnC6e_SW_SN"
      },
      "source": [
        "injuries['CRASH DATE'].hist(bins=48,figsize=(20,10), density=True,alpha=0.5, color='red')\n",
        "no_injuries['CRASH DATE'].hist(bins=48,figsize=(20,10), density=True,alpha=0.5, color='green')"
      ],
      "execution_count": null,
      "outputs": []
    },
    {
      "cell_type": "code",
      "metadata": {
        "id": "2UO7uDtkAa6B"
      },
      "source": [
        "import seaborn as sns"
      ],
      "execution_count": null,
      "outputs": []
    },
    {
      "cell_type": "code",
      "metadata": {
        "id": "ikKjA-TEY0qX"
      },
      "source": [
        "sns.kdeplot(data = df, x ='CRASH TIME', hue='DEATH', common_norm=False, cut=0)"
      ],
      "execution_count": null,
      "outputs": []
    },
    {
      "cell_type": "code",
      "metadata": {
        "id": "0mjUhIPyWyLC"
      },
      "source": [
        "sns.kdeplot(data = df, x ='CRASH TIME', hue='INJURY', common_norm=False, cut=0)"
      ],
      "execution_count": null,
      "outputs": []
    }
  ]
}