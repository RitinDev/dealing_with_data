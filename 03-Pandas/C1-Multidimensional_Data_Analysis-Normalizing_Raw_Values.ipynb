{
  "nbformat": 4,
  "nbformat_minor": 0,
  "metadata": {
    "kernelspec": {
      "display_name": "Python 3",
      "language": "python",
      "name": "python3"
    },
    "language_info": {
      "codemirror_mode": {
        "name": "ipython",
        "version": 3
      },
      "file_extension": ".py",
      "mimetype": "text/x-python",
      "name": "python",
      "nbconvert_exporter": "python",
      "pygments_lexer": "ipython3",
      "version": "3.6.7"
    },
    "colab": {
      "name": "C1-Multidimensional_Data_Analysis-Normalizing_Raw_Values.ipynb",
      "provenance": [],
      "include_colab_link": true
    }
  },
  "cells": [
    {
      "cell_type": "markdown",
      "metadata": {
        "id": "view-in-github",
        "colab_type": "text"
      },
      "source": [
        "<a href=\"https://colab.research.google.com/github/ipeirotis/dealing_with_data/blob/master/03-Pandas/C1-Multidimensional_Data_Analysis-Normalizing_Raw_Values.ipynb\" target=\"_parent\"><img src=\"https://colab.research.google.com/assets/colab-badge.svg\" alt=\"Open In Colab\"/></a>"
      ]
    },
    {
      "cell_type": "markdown",
      "metadata": {
        "id": "SqY7GGYncGQg"
      },
      "source": [
        "# Multidimensional data analysis"
      ]
    },
    {
      "cell_type": "code",
      "metadata": {
        "id": "aY8GFOuvcLUh"
      },
      "source": [
        "\n",
        "# Install the SQLAlchemy library if it is not installed\n",
        "\n",
        "\n",
        "!sudo pip3 install -U -q PyMySQL sqlalchemy sql_magic"
      ],
      "execution_count": null,
      "outputs": []
    },
    {
      "cell_type": "code",
      "metadata": {
        "id": "3V_VgzgacGQi"
      },
      "source": [
        "%matplotlib inline\n",
        "%config InlineBackend.figure_format = 'retina'\n",
        "\n",
        "import pandas as pd\n",
        "import matplotlib\n",
        "import matplotlib.pyplot as plt\n",
        "from sqlalchemy import create_engine\n",
        "\n",
        "# Make the graphs a bit prettier, and bigger\n",
        "matplotlib.style.use(['seaborn-talk', 'seaborn-ticks', 'seaborn-whitegrid'])\n",
        "plt.rcParams['figure.figsize'] = (15, 7)"
      ],
      "execution_count": null,
      "outputs": []
    },
    {
      "cell_type": "code",
      "metadata": {
        "id": "UVV_XacmcGQo"
      },
      "source": [
        "conn_string_fb = 'mysql+pymysql://{user}:{password}@{host}:{port}/{db}'.format(\n",
        "    user='student',\n",
        "    password='dwdstudent2015',\n",
        "    host='db.ipeirotis.org',\n",
        "    port=3306,\n",
        "    db='facebook')\n",
        "engine_fb = create_engine(conn_string_fb)"
      ],
      "execution_count": null,
      "outputs": []
    },
    {
      "cell_type": "markdown",
      "metadata": {
        "id": "p8Oecvl1cGQt"
      },
      "source": [
        "## Multidimesnional data analysis: From raw counts to percentages"
      ]
    },
    {
      "cell_type": "markdown",
      "metadata": {
        "id": "5f8oYDoOcGQu"
      },
      "source": [
        "Now let's run a query to get the political views of Facebook users, broken down by gender."
      ]
    },
    {
      "cell_type": "code",
      "metadata": {
        "id": "QYiQPJyOcGQw"
      },
      "source": [
        "polviews_by_gender = '''\n",
        "SELECT Sex, PoliticalViews, COUNT(*) AS cnt \n",
        "FROM Profiles \n",
        "WHERE Sex IS NOT NULL AND PoliticalViews IS NOT NULL \n",
        "GROUP BY Sex, PoliticalViews\n",
        "ORDER BY  PoliticalViews, Sex\n",
        "'''"
      ],
      "execution_count": null,
      "outputs": []
    },
    {
      "cell_type": "markdown",
      "metadata": {
        "id": "tmtNsT8rcGQ4"
      },
      "source": [
        "And let's get the dataframe:"
      ]
    },
    {
      "cell_type": "code",
      "metadata": {
        "id": "MuV4kITNcGQ5"
      },
      "source": [
        "df = pd.read_sql(polviews_by_gender, con=engine_fb)\n",
        "df"
      ],
      "execution_count": null,
      "outputs": []
    },
    {
      "cell_type": "code",
      "metadata": {
        "id": "QP1Cuk_ecGRA"
      },
      "source": [
        "df.dtypes"
      ],
      "execution_count": null,
      "outputs": []
    },
    {
      "cell_type": "code",
      "metadata": {
        "id": "IL5EWQW9cGRJ"
      },
      "source": [
        "# Let's plot this!\n",
        "# Bleh, this is ugly...\n",
        "# Remember that the index of the dataframe becomes the default x-axis\n",
        "df.plot(kind='bar')"
      ],
      "execution_count": null,
      "outputs": []
    },
    {
      "cell_type": "code",
      "metadata": {
        "id": "uQmat9jDcGRU"
      },
      "source": [
        "# Pivot, baby!\n",
        "# Now the index contains the Political Views, which will be our x-axis\n",
        "dfp = pd.pivot_table(\n",
        "    data = df, \n",
        "    index='PoliticalViews', \n",
        "    columns='Sex', \n",
        "    values='cnt', \n",
        "    aggfunc='sum'\n",
        ")\n",
        "dfp"
      ],
      "execution_count": null,
      "outputs": []
    },
    {
      "cell_type": "markdown",
      "metadata": {
        "id": "6zn968_McGRb"
      },
      "source": [
        "We will now convert the PoliticalViews column into an **ordered Categorical variable**. This is not strictly necessary, but it will be useful later.\n",
        " It ensures that Political Views appear in an order according to their political spectrum, as opposed to alphabetical."
      ]
    },
    {
      "cell_type": "code",
      "metadata": {
        "id": "sXjA5PuvcGRd"
      },
      "source": [
        "df.PoliticalViews = pd.Categorical(df.PoliticalViews,\n",
        "    categories = ['Very Liberal', 'Liberal', 'Moderate', 'Conservative', 'Very Conservative', 'Libertarian', 'Apathetic', 'Other'], \n",
        "    ordered=True\n",
        ")\n",
        "\n",
        "dfp = pd.pivot_table(data = df, index='PoliticalViews', columns='Sex', values='cnt', aggfunc='sum')\n",
        "dfp"
      ],
      "execution_count": null,
      "outputs": []
    },
    {
      "cell_type": "code",
      "metadata": {
        "id": "DQkns1PEcGRk"
      },
      "source": [
        "dfp.plot(kind='bar')"
      ],
      "execution_count": null,
      "outputs": []
    },
    {
      "cell_type": "markdown",
      "metadata": {
        "id": "TT1LGRMgcGRr"
      },
      "source": [
        "## Normalizing values: From raw counts to percentages\n",
        "\n",
        "Now, let's see a bit how we can normalize the values in Pandas, by performing operations on the columns and rows."
      ]
    },
    {
      "cell_type": "code",
      "metadata": {
        "id": "7vmxROPYcGRs"
      },
      "source": [
        "dfp"
      ],
      "execution_count": null,
      "outputs": []
    },
    {
      "cell_type": "code",
      "metadata": {
        "id": "wi-IwLZ5cGRz"
      },
      "source": [
        "# the .T is a shortcut for .transpose()\n",
        "# and returns the transposed table\n",
        "dfp.T"
      ],
      "execution_count": null,
      "outputs": []
    },
    {
      "cell_type": "code",
      "metadata": {
        "id": "BmfhAEQCcGR7"
      },
      "source": [
        "# sums the columns\n",
        "dfp.sum() \n",
        "\n",
        "# Equivalent commands:\n",
        "# dfp.sum(axis='index')  # summing 'across the index'\n",
        "# dfp.sum(axis=0)        # axis=0 is equivalent to summing axis='index'"
      ],
      "execution_count": null,
      "outputs": []
    },
    {
      "cell_type": "code",
      "metadata": {
        "id": "ZJYvGse-cGSA"
      },
      "source": [
        "# Summing the transpose is same as \n",
        "# summing the rows of the original\n",
        "dfp.T.sum()\n",
        "\n",
        "# Equivalent commands\n",
        "# dfp.sum(axis='columns') \n",
        "# dfp.sum(axis=1)"
      ],
      "execution_count": null,
      "outputs": []
    },
    {
      "cell_type": "code",
      "metadata": {
        "id": "yi7tkg2XcGSH"
      },
      "source": [
        "# Let's normalize the columns, as we have more females than males, and it seems that there are always more women\n",
        "dfp_norm = dfp / dfp.sum()\n",
        "# Columns (ie Sex) sum up to 1\n",
        "dfp_norm"
      ],
      "execution_count": null,
      "outputs": []
    },
    {
      "cell_type": "code",
      "metadata": {
        "id": "1J45iyr9cGSL"
      },
      "source": [
        "# Instead of dfp / dfp.sum(), we can also use the .div() method, for dividing the entries with the sum()\n",
        "# Note that, by definition, the dfp / dfp.sum() operation divides  column-wise, not row-wise.\n",
        "# dfp_norm = dfp.div( dfp.sum(), axis='columns' )\n",
        "# dfp_norm"
      ],
      "execution_count": null,
      "outputs": []
    },
    {
      "cell_type": "code",
      "metadata": {
        "id": "hx9RCl9JcGSR"
      },
      "source": [
        "dfp_norm.plot(kind='bar')"
      ],
      "execution_count": null,
      "outputs": []
    },
    {
      "cell_type": "code",
      "metadata": {
        "id": "P5Lgy2AQcGSW"
      },
      "source": [
        "# We will now normalize across the rows\n",
        "dfp_norm2 = dfp.T / dfp.T.sum()\n",
        "dfp_norm2.T"
      ],
      "execution_count": null,
      "outputs": []
    },
    {
      "cell_type": "code",
      "metadata": {
        "id": "nKJYd15NcGSb"
      },
      "source": [
        "# Same operation as above, but with the .div() function\n",
        "# to find the fraction of males/females within each political category\n",
        "# dfp_norm2 = dfp.div( dfp.sum(axis='columns'), axis='index' )\n",
        "# dfp_norm2"
      ],
      "execution_count": null,
      "outputs": []
    },
    {
      "cell_type": "code",
      "metadata": {
        "id": "UFzk_5PpcGSh"
      },
      "source": [
        "dfp_norm2.plot(kind='bar', rot=45)"
      ],
      "execution_count": null,
      "outputs": []
    },
    {
      "cell_type": "code",
      "metadata": {
        "id": "2eWW7tumcGSn"
      },
      "source": [
        "dfp_norm2.T.plot(kind='bar', stacked=True, rot=45)"
      ],
      "execution_count": null,
      "outputs": []
    },
    {
      "cell_type": "markdown",
      "metadata": {
        "id": "wRoSDnb9cGSq"
      },
      "source": [
        "## Exercise on Normalizing Values\n",
        "\n",
        "a. Use the tables `RelationshipStatus` and `LookingFor`, and show create a plot with a breakdown of what people in different relationship statuses are looking for. To make things more readable (and to practice a bit SQL), remove from the output all combinations that have less than 10 students in them. The plot can use the absolute counts.\n",
        " "
      ]
    },
    {
      "cell_type": "markdown",
      "metadata": {
        "id": "2ZfOLh2gcGSr"
      },
      "source": [
        "\n",
        "b. Normalize the results and plot again. To get experience with normalization, try to normalize both by Status (eg \"80% of the people who are in a relationship are looking for Friendship\") and by Relationship Status (eg \"70% of the people who are looking for Random Play are Single\")."
      ]
    },
    {
      "cell_type": "code",
      "metadata": {
        "id": "EKJQRUEZcGSr"
      },
      "source": [
        ""
      ],
      "execution_count": null,
      "outputs": []
    },
    {
      "cell_type": "markdown",
      "metadata": {
        "solution2": "hidden",
        "solution2_first": true,
        "id": "xfyvVT-ycGSu"
      },
      "source": [
        "### Solution (Part a)"
      ]
    },
    {
      "cell_type": "code",
      "metadata": {
        "solution2": "hidden",
        "id": "6_yyGtP6cGSv"
      },
      "source": [
        "query = '''\n",
        "SELECT R.Status, L.LookingFor, COUNT(*) AS cnt\n",
        "FROM Relationship R INNER JOIN LookingFor L ON R.ProfileID = L.ProfileID\n",
        "GROUP BY R.Status, L.LookingFor\n",
        "HAVING cnt>10\n",
        "'''\n",
        "df = pd.read_sql(query, con=engine_fb)\n",
        "df"
      ],
      "execution_count": null,
      "outputs": []
    },
    {
      "cell_type": "code",
      "metadata": {
        "solution2": "hidden",
        "id": "C51qMyQscGSy"
      },
      "source": [
        "pivot = df.pivot_table(\n",
        "    index='Status',\n",
        "    columns='LookingFor',\n",
        "    values='cnt'\n",
        ")\n",
        "pivot"
      ],
      "execution_count": null,
      "outputs": []
    },
    {
      "cell_type": "code",
      "metadata": {
        "solution2": "hidden",
        "id": "7iQOzahucGS1"
      },
      "source": [
        "# Raw numbers, by relationship status\n",
        "pivot.plot(kind='barh', figsize=(10,5))"
      ],
      "execution_count": null,
      "outputs": []
    },
    {
      "cell_type": "code",
      "metadata": {
        "solution2": "hidden",
        "id": "Ad2puHLtcGS7"
      },
      "source": [
        "# Raw numbers, by looking for (taking the transpose)\n",
        "pivot.T.plot(kind='barh', figsize=(10,5))"
      ],
      "execution_count": null,
      "outputs": []
    },
    {
      "cell_type": "code",
      "metadata": {
        "solution2": "hidden",
        "id": "8lL-SetecGS_"
      },
      "source": [
        ""
      ],
      "execution_count": null,
      "outputs": []
    },
    {
      "cell_type": "code",
      "metadata": {
        "solution2": "hidden",
        "id": "z7y9_kNucGTB"
      },
      "source": [
        "# Every column (LookingFor) sums up to 1\n",
        "normed1 = pivot / pivot.sum()\n",
        "normed1"
      ],
      "execution_count": null,
      "outputs": []
    },
    {
      "cell_type": "code",
      "metadata": {
        "solution2": "hidden",
        "id": "i7CdUmsAcGTE"
      },
      "source": [
        "# For every LookingFor value, show the breakdown among relationship statuses\n",
        "normed1.T.plot.barh()"
      ],
      "execution_count": null,
      "outputs": []
    },
    {
      "cell_type": "code",
      "metadata": {
        "solution2": "hidden",
        "id": "2-g0H24kcGTI"
      },
      "source": [
        "# Every column (Status) sums up to 1\n",
        "normed2 = (pivot.T / pivot.T.sum())\n",
        "normed2"
      ],
      "execution_count": null,
      "outputs": []
    },
    {
      "cell_type": "code",
      "metadata": {
        "solution2": "hidden",
        "id": "f02a_RpecGTM"
      },
      "source": [
        "# For every relationship status, show the breakdown among \"LookingFor\" values\n",
        "normed2.T.plot.barh()"
      ],
      "execution_count": null,
      "outputs": []
    },
    {
      "cell_type": "code",
      "metadata": {
        "id": "2co4nYMbcGTP"
      },
      "source": [
        ""
      ],
      "execution_count": null,
      "outputs": []
    }
  ]
}