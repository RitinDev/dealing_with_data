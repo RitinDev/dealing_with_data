{
  "cells": [
    {
      "cell_type": "markdown",
      "metadata": {
        "id": "view-in-github",
        "colab_type": "text"
      },
      "source": [
        "<a href=\"https://colab.research.google.com/github/ipeirotis/dealing_with_data/blob/master/03-Pandas/E2-Reading_from_Web_Pages.ipynb\" target=\"_parent\"><img src=\"https://colab.research.google.com/assets/colab-badge.svg\" alt=\"Open In Colab\"/></a>"
      ]
    },
    {
      "cell_type": "code",
      "execution_count": null,
      "metadata": {
        "id": "woftdSOhQSqK"
      },
      "outputs": [],
      "source": [
        "import pandas as pd\n",
        "import seaborn as sns\n",
        "import matplotlib.pyplot as plt\n",
        "%config InlineBackend.figure_format = 'retina'"
      ]
    },
    {
      "cell_type": "markdown",
      "metadata": {
        "id": "xCfSXAvuQSqW"
      },
      "source": [
        "# Retrieve Country Population From Wikipedia"
      ]
    },
    {
      "cell_type": "code",
      "execution_count": null,
      "metadata": {
        "id": "Q2SJwVUTQSqZ"
      },
      "outputs": [],
      "source": [
        "url = 'https://en.wikipedia.org/wiki/List_of_countries_by_population_(United_Nations)'\n",
        "df_list = pd.read_html(\n",
        "            url, # Specify the page \n",
        "            match='Population', # Write a pattern that is unique to the table we are interested in\n",
        "            header=0 # which line of the table to use as a header\n",
        "        )\n",
        "\n",
        "len(df_list) # check how many tables match"
      ]
    },
    {
      "cell_type": "code",
      "execution_count": null,
      "metadata": {
        "id": "kQanqIFBQSqc"
      },
      "outputs": [],
      "source": [
        "df_population = df_list[0]\n",
        "df_population"
      ]
    },
    {
      "cell_type": "code",
      "execution_count": null,
      "metadata": {
        "id": "2CWL2KHTQSqe"
      },
      "outputs": [],
      "source": [
        "# Remove the footnote notations in square brackets\n",
        "df_population = df_population.replace(\n",
        "    to_replace = r'(.*)\\[.\\]',\n",
        "    value = r'\\1',\n",
        "    regex=True\n",
        ")\n"
      ]
    },
    {
      "cell_type": "code",
      "execution_count": null,
      "metadata": {
        "id": "PstZsNXfQSqf"
      },
      "outputs": [],
      "source": [
        "# Rename the columns\n",
        "df_population.columns = ['Country', 'Region', 'Subegion', 'Population_2018', 'Population_2019', 'Change']\n",
        "# Keep only the columns we need\n",
        "df_population = df_population[ ['Country', 'Population_2019'] ]"
      ]
    },
    {
      "cell_type": "code",
      "execution_count": null,
      "metadata": {
        "id": "0FXpiZTcQSqg"
      },
      "outputs": [],
      "source": [
        "df_population.dtypes"
      ]
    },
    {
      "cell_type": "markdown",
      "metadata": {
        "id": "p1n8YhUSQSqi"
      },
      "source": [
        "# Retrieve Life Expectancy From Wikipedia"
      ]
    },
    {
      "cell_type": "code",
      "execution_count": null,
      "metadata": {
        "id": "N1WBHVL-QSqj"
      },
      "outputs": [],
      "source": [
        "url = 'https://en.wikipedia.org/wiki/List_of_countries_by_life_expectancy'\n",
        "df_list = pd.read_html(\n",
        "            url, # Specify the page \n",
        "            match='Life expectancy at birth', # Write a pattern that is unique to the table we are interested in\n",
        "            header=0 # which line of the table to use as a header\n",
        "        )\n",
        "\n",
        "len(df_list)"
      ]
    },
    {
      "cell_type": "code",
      "execution_count": null,
      "metadata": {
        "id": "hzrHPPP-QSqm"
      },
      "outputs": [],
      "source": [
        "df_who=df_list[0]\n",
        "df_who"
      ]
    },
    {
      "cell_type": "code",
      "execution_count": null,
      "metadata": {
        "id": "TNI9w7QhQSqn"
      },
      "outputs": [],
      "source": [
        "# Keep only two columns\n",
        "df_who = df_who.filter( items = ['Countries', 'Life expectancy at birth'] )"
      ]
    },
    {
      "cell_type": "code",
      "source": [
        "# Delete the first two lines of the dataset\n",
        "df_who = df_who.drop([0,1])"
      ],
      "metadata": {
        "id": "zUDCY3GFTSxS"
      },
      "execution_count": null,
      "outputs": []
    },
    {
      "cell_type": "code",
      "source": [
        "# Convert the 'Life expectancy at birth' column to numeric\n",
        "# and store it in a column called \"Life_Expectancy\"\n",
        "df_who['Life_expectancy'] = pd.to_numeric(df_who['Life expectancy at birth'])"
      ],
      "metadata": {
        "id": "lm7MpD3bTUWk"
      },
      "execution_count": null,
      "outputs": []
    },
    {
      "cell_type": "code",
      "execution_count": null,
      "metadata": {
        "id": "hIKXPMC_QSqo"
      },
      "outputs": [],
      "source": [
        "# Delete the original column\n",
        "df_who = df_who.drop('Life expectancy at birth', axis='columns')"
      ]
    },
    {
      "cell_type": "code",
      "execution_count": null,
      "metadata": {
        "id": "0AV1MqXPQSqp"
      },
      "outputs": [],
      "source": [
        "df_who"
      ]
    },
    {
      "cell_type": "markdown",
      "metadata": {
        "id": "Sy8OAliDQSqq"
      },
      "source": [
        "# Joining Tables on Country and Plotting"
      ]
    },
    {
      "cell_type": "code",
      "execution_count": null,
      "metadata": {
        "id": "wv6NRHYNQSqq"
      },
      "outputs": [],
      "source": [
        "join = pd.merge(df_population, df_who, how = 'inner', left_on= 'Country', right_on = 'Countries' )\n",
        "join"
      ]
    },
    {
      "cell_type": "code",
      "execution_count": null,
      "metadata": {
        "id": "MGnh_LiaQSqr"
      },
      "outputs": [],
      "source": [
        "join.dtypes"
      ]
    },
    {
      "cell_type": "code",
      "execution_count": null,
      "metadata": {
        "id": "hX0xBTXfQSqr"
      },
      "outputs": [],
      "source": [
        "join.plot.scatter(x='Population_2019', y = 'Life_expectancy', logx=True, figsize=(10,10))"
      ]
    }
  ],
  "metadata": {
    "kernelspec": {
      "display_name": "Python 3",
      "language": "python",
      "name": "python3"
    },
    "language_info": {
      "codemirror_mode": {
        "name": "ipython",
        "version": 3
      },
      "file_extension": ".py",
      "mimetype": "text/x-python",
      "name": "python",
      "nbconvert_exporter": "python",
      "pygments_lexer": "ipython3",
      "version": "3.8.5"
    },
    "colab": {
      "name": "E2-Reading_from_Web_Pages.ipynb",
      "provenance": [],
      "include_colab_link": true
    }
  },
  "nbformat": 4,
  "nbformat_minor": 0
}